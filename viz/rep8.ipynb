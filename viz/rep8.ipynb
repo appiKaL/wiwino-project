{
 "cells": [
  {
   "cell_type": "code",
   "execution_count": 3,
   "metadata": {},
   "outputs": [],
   "source": [
    "import pandas as pd\n",
    "import plotly.express as px\n",
    "import plotly.graph_objects as go\n",
    "import nbformat as nbf\n",
    "import matplotlib.pyplot as plt\n",
    "import numpy as np\n",
    "import os\n",
    "import sys\n",
    "import datashader as ds\n",
    "import datashader.transfer_functions as tf\n",
    "import datashader.colors as dc\n",
    "from colorcet import fire,kbc,glasbey_bw,glasbey_dark,glasbey_light,bmw,gray"
   ]
  },
  {
   "cell_type": "code",
   "execution_count": 4,
   "metadata": {},
   "outputs": [
    {
     "data": {
      "text/html": [
       "<div>\n",
       "<style scoped>\n",
       "    .dataframe tbody tr th:only-of-type {\n",
       "        vertical-align: middle;\n",
       "    }\n",
       "\n",
       "    .dataframe tbody tr th {\n",
       "        vertical-align: top;\n",
       "    }\n",
       "\n",
       "    .dataframe thead th {\n",
       "        text-align: right;\n",
       "    }\n",
       "</style>\n",
       "<table border=\"1\" class=\"dataframe\">\n",
       "  <thead>\n",
       "    <tr style=\"text-align: right;\">\n",
       "      <th></th>\n",
       "      <th>wines_taste</th>\n",
       "      <th>avg_ratings_average</th>\n",
       "      <th>avg_acidity</th>\n",
       "      <th>avg_intensity</th>\n",
       "      <th>avg_sweetness</th>\n",
       "      <th>avg_tannin</th>\n",
       "    </tr>\n",
       "  </thead>\n",
       "  <tbody>\n",
       "    <tr>\n",
       "      <th>0</th>\n",
       "      <td>candied ginger</td>\n",
       "      <td>4.7</td>\n",
       "      <td>3.31</td>\n",
       "      <td>4.76</td>\n",
       "      <td>1.92</td>\n",
       "      <td>3.20</td>\n",
       "    </tr>\n",
       "    <tr>\n",
       "      <th>1</th>\n",
       "      <td>yellow apple</td>\n",
       "      <td>4.6</td>\n",
       "      <td>2.88</td>\n",
       "      <td>4.36</td>\n",
       "      <td>2.08</td>\n",
       "      <td>2.99</td>\n",
       "    </tr>\n",
       "    <tr>\n",
       "      <th>2</th>\n",
       "      <td>white nectarine</td>\n",
       "      <td>4.6</td>\n",
       "      <td>3.53</td>\n",
       "      <td>4.53</td>\n",
       "      <td>1.65</td>\n",
       "      <td>4.08</td>\n",
       "    </tr>\n",
       "    <tr>\n",
       "      <th>3</th>\n",
       "      <td>matcha</td>\n",
       "      <td>4.6</td>\n",
       "      <td>3.06</td>\n",
       "      <td>4.26</td>\n",
       "      <td>1.90</td>\n",
       "      <td>2.78</td>\n",
       "    </tr>\n",
       "    <tr>\n",
       "      <th>4</th>\n",
       "      <td>fresh coconut</td>\n",
       "      <td>4.6</td>\n",
       "      <td>4.12</td>\n",
       "      <td>3.99</td>\n",
       "      <td>1.67</td>\n",
       "      <td>4.12</td>\n",
       "    </tr>\n",
       "    <tr>\n",
       "      <th>...</th>\n",
       "      <td>...</td>\n",
       "      <td>...</td>\n",
       "      <td>...</td>\n",
       "      <td>...</td>\n",
       "      <td>...</td>\n",
       "      <td>...</td>\n",
       "    </tr>\n",
       "    <tr>\n",
       "      <th>434</th>\n",
       "      <td>sour cherry pie</td>\n",
       "      <td>4.3</td>\n",
       "      <td>4.03</td>\n",
       "      <td>3.75</td>\n",
       "      <td>1.64</td>\n",
       "      <td>3.94</td>\n",
       "    </tr>\n",
       "    <tr>\n",
       "      <th>435</th>\n",
       "      <td>preserved lemon</td>\n",
       "      <td>4.3</td>\n",
       "      <td>4.21</td>\n",
       "      <td>4.01</td>\n",
       "      <td>1.65</td>\n",
       "      <td>4.07</td>\n",
       "    </tr>\n",
       "    <tr>\n",
       "      <th>436</th>\n",
       "      <td>pomello</td>\n",
       "      <td>4.3</td>\n",
       "      <td>4.00</td>\n",
       "      <td>3.98</td>\n",
       "      <td>1.61</td>\n",
       "      <td>3.87</td>\n",
       "    </tr>\n",
       "    <tr>\n",
       "      <th>437</th>\n",
       "      <td>peanut shell</td>\n",
       "      <td>4.3</td>\n",
       "      <td>3.42</td>\n",
       "      <td>4.03</td>\n",
       "      <td>2.21</td>\n",
       "      <td>3.20</td>\n",
       "    </tr>\n",
       "    <tr>\n",
       "      <th>438</th>\n",
       "      <td>asian pear</td>\n",
       "      <td>4.3</td>\n",
       "      <td>3.20</td>\n",
       "      <td>4.18</td>\n",
       "      <td>2.22</td>\n",
       "      <td>3.28</td>\n",
       "    </tr>\n",
       "  </tbody>\n",
       "</table>\n",
       "<p>439 rows × 6 columns</p>\n",
       "</div>"
      ],
      "text/plain": [
       "         wines_taste  avg_ratings_average  avg_acidity  avg_intensity  \\\n",
       "0     candied ginger                  4.7         3.31           4.76   \n",
       "1       yellow apple                  4.6         2.88           4.36   \n",
       "2    white nectarine                  4.6         3.53           4.53   \n",
       "3             matcha                  4.6         3.06           4.26   \n",
       "4      fresh coconut                  4.6         4.12           3.99   \n",
       "..               ...                  ...          ...            ...   \n",
       "434  sour cherry pie                  4.3         4.03           3.75   \n",
       "435  preserved lemon                  4.3         4.21           4.01   \n",
       "436          pomello                  4.3         4.00           3.98   \n",
       "437     peanut shell                  4.3         3.42           4.03   \n",
       "438       asian pear                  4.3         3.20           4.18   \n",
       "\n",
       "     avg_sweetness  avg_tannin  \n",
       "0             1.92        3.20  \n",
       "1             2.08        2.99  \n",
       "2             1.65        4.08  \n",
       "3             1.90        2.78  \n",
       "4             1.67        4.12  \n",
       "..             ...         ...  \n",
       "434           1.64        3.94  \n",
       "435           1.65        4.07  \n",
       "436           1.61        3.87  \n",
       "437           2.21        3.20  \n",
       "438           2.22        3.28  \n",
       "\n",
       "[439 rows x 6 columns]"
      ]
     },
     "execution_count": 4,
     "metadata": {},
     "output_type": "execute_result"
    }
   ],
   "source": [
    "df=pd.read_csv('..//CSVs/8.csv')\n",
    "df"
   ]
  },
  {
   "cell_type": "code",
   "execution_count": 5,
   "metadata": {},
   "outputs": [
    {
     "data": {
      "text/html": [
       "<div>\n",
       "<style scoped>\n",
       "    .dataframe tbody tr th:only-of-type {\n",
       "        vertical-align: middle;\n",
       "    }\n",
       "\n",
       "    .dataframe tbody tr th {\n",
       "        vertical-align: top;\n",
       "    }\n",
       "\n",
       "    .dataframe thead th {\n",
       "        text-align: right;\n",
       "    }\n",
       "</style>\n",
       "<table border=\"1\" class=\"dataframe\">\n",
       "  <thead>\n",
       "    <tr style=\"text-align: right;\">\n",
       "      <th></th>\n",
       "      <th>avg_ratings_average</th>\n",
       "      <th>avg_acidity</th>\n",
       "      <th>avg_intensity</th>\n",
       "      <th>avg_sweetness</th>\n",
       "      <th>avg_tannin</th>\n",
       "    </tr>\n",
       "  </thead>\n",
       "  <tbody>\n",
       "    <tr>\n",
       "      <th>avg_ratings_average</th>\n",
       "      <td>1.000000</td>\n",
       "      <td>-0.227800</td>\n",
       "      <td>0.368985</td>\n",
       "      <td>0.071616</td>\n",
       "      <td>-0.105287</td>\n",
       "    </tr>\n",
       "    <tr>\n",
       "      <th>avg_acidity</th>\n",
       "      <td>-0.227800</td>\n",
       "      <td>1.000000</td>\n",
       "      <td>-0.510971</td>\n",
       "      <td>-0.786915</td>\n",
       "      <td>0.813900</td>\n",
       "    </tr>\n",
       "    <tr>\n",
       "      <th>avg_intensity</th>\n",
       "      <td>0.368985</td>\n",
       "      <td>-0.510971</td>\n",
       "      <td>1.000000</td>\n",
       "      <td>0.260566</td>\n",
       "      <td>-0.180251</td>\n",
       "    </tr>\n",
       "    <tr>\n",
       "      <th>avg_sweetness</th>\n",
       "      <td>0.071616</td>\n",
       "      <td>-0.786915</td>\n",
       "      <td>0.260566</td>\n",
       "      <td>1.000000</td>\n",
       "      <td>-0.751247</td>\n",
       "    </tr>\n",
       "    <tr>\n",
       "      <th>avg_tannin</th>\n",
       "      <td>-0.105287</td>\n",
       "      <td>0.813900</td>\n",
       "      <td>-0.180251</td>\n",
       "      <td>-0.751247</td>\n",
       "      <td>1.000000</td>\n",
       "    </tr>\n",
       "  </tbody>\n",
       "</table>\n",
       "</div>"
      ],
      "text/plain": [
       "                     avg_ratings_average  avg_acidity  avg_intensity  \\\n",
       "avg_ratings_average             1.000000    -0.227800       0.368985   \n",
       "avg_acidity                    -0.227800     1.000000      -0.510971   \n",
       "avg_intensity                   0.368985    -0.510971       1.000000   \n",
       "avg_sweetness                   0.071616    -0.786915       0.260566   \n",
       "avg_tannin                     -0.105287     0.813900      -0.180251   \n",
       "\n",
       "                     avg_sweetness  avg_tannin  \n",
       "avg_ratings_average       0.071616   -0.105287  \n",
       "avg_acidity              -0.786915    0.813900  \n",
       "avg_intensity             0.260566   -0.180251  \n",
       "avg_sweetness             1.000000   -0.751247  \n",
       "avg_tannin               -0.751247    1.000000  "
      ]
     },
     "execution_count": 5,
     "metadata": {},
     "output_type": "execute_result"
    }
   ],
   "source": [
    "correlation_matrix = df[['avg_ratings_average', 'avg_acidity', 'avg_intensity', 'avg_sweetness', 'avg_tannin']].corr()\n",
    "correlation_matrix"
   ]
  },
  {
   "cell_type": "code",
   "execution_count": 6,
   "metadata": {},
   "outputs": [
    {
     "data": {
      "application/vnd.plotly.v1+json": {
       "config": {
        "plotlyServerURL": "https://plot.ly"
       },
       "data": [
        {
         "coloraxis": "coloraxis",
         "hovertemplate": "x: %{x}<br>y: %{y}<br>color: %{z}<extra></extra>",
         "name": "0",
         "texttemplate": "%{z}",
         "type": "heatmap",
         "x": [
          "avg_ratings_average",
          "avg_acidity",
          "avg_intensity",
          "avg_sweetness",
          "avg_tannin"
         ],
         "xaxis": "x",
         "y": [
          "avg_ratings_average",
          "avg_acidity",
          "avg_intensity",
          "avg_sweetness",
          "avg_tannin"
         ],
         "yaxis": "y",
         "z": [
          [
           1,
           -0.2277998635509132,
           0.36898455636766575,
           0.07161646207726143,
           -0.10528691215971689
          ],
          [
           -0.2277998635509132,
           1,
           -0.5109710749052607,
           -0.7869146841180004,
           0.8139000848066804
          ],
          [
           0.36898455636766575,
           -0.5109710749052607,
           1,
           0.26056606013257394,
           -0.18025053882484313
          ],
          [
           0.07161646207726143,
           -0.7869146841180004,
           0.26056606013257394,
           1,
           -0.7512471021459071
          ],
          [
           -0.10528691215971689,
           0.8139000848066804,
           -0.18025053882484313,
           -0.7512471021459071,
           1
          ]
         ]
        }
       ],
       "layout": {
        "coloraxis": {
         "colorscale": [
          [
           0,
           "#440154"
          ],
          [
           0.1111111111111111,
           "#482878"
          ],
          [
           0.2222222222222222,
           "#3e4989"
          ],
          [
           0.3333333333333333,
           "#31688e"
          ],
          [
           0.4444444444444444,
           "#26828e"
          ],
          [
           0.5555555555555556,
           "#1f9e89"
          ],
          [
           0.6666666666666666,
           "#35b779"
          ],
          [
           0.7777777777777778,
           "#6ece58"
          ],
          [
           0.8888888888888888,
           "#b5de2b"
          ],
          [
           1,
           "#fde725"
          ]
         ]
        },
        "template": {
         "data": {
          "bar": [
           {
            "error_x": {
             "color": "#2a3f5f"
            },
            "error_y": {
             "color": "#2a3f5f"
            },
            "marker": {
             "line": {
              "color": "#E5ECF6",
              "width": 0.5
             },
             "pattern": {
              "fillmode": "overlay",
              "size": 10,
              "solidity": 0.2
             }
            },
            "type": "bar"
           }
          ],
          "barpolar": [
           {
            "marker": {
             "line": {
              "color": "#E5ECF6",
              "width": 0.5
             },
             "pattern": {
              "fillmode": "overlay",
              "size": 10,
              "solidity": 0.2
             }
            },
            "type": "barpolar"
           }
          ],
          "carpet": [
           {
            "aaxis": {
             "endlinecolor": "#2a3f5f",
             "gridcolor": "white",
             "linecolor": "white",
             "minorgridcolor": "white",
             "startlinecolor": "#2a3f5f"
            },
            "baxis": {
             "endlinecolor": "#2a3f5f",
             "gridcolor": "white",
             "linecolor": "white",
             "minorgridcolor": "white",
             "startlinecolor": "#2a3f5f"
            },
            "type": "carpet"
           }
          ],
          "choropleth": [
           {
            "colorbar": {
             "outlinewidth": 0,
             "ticks": ""
            },
            "type": "choropleth"
           }
          ],
          "contour": [
           {
            "colorbar": {
             "outlinewidth": 0,
             "ticks": ""
            },
            "colorscale": [
             [
              0,
              "#0d0887"
             ],
             [
              0.1111111111111111,
              "#46039f"
             ],
             [
              0.2222222222222222,
              "#7201a8"
             ],
             [
              0.3333333333333333,
              "#9c179e"
             ],
             [
              0.4444444444444444,
              "#bd3786"
             ],
             [
              0.5555555555555556,
              "#d8576b"
             ],
             [
              0.6666666666666666,
              "#ed7953"
             ],
             [
              0.7777777777777778,
              "#fb9f3a"
             ],
             [
              0.8888888888888888,
              "#fdca26"
             ],
             [
              1,
              "#f0f921"
             ]
            ],
            "type": "contour"
           }
          ],
          "contourcarpet": [
           {
            "colorbar": {
             "outlinewidth": 0,
             "ticks": ""
            },
            "type": "contourcarpet"
           }
          ],
          "heatmap": [
           {
            "colorbar": {
             "outlinewidth": 0,
             "ticks": ""
            },
            "colorscale": [
             [
              0,
              "#0d0887"
             ],
             [
              0.1111111111111111,
              "#46039f"
             ],
             [
              0.2222222222222222,
              "#7201a8"
             ],
             [
              0.3333333333333333,
              "#9c179e"
             ],
             [
              0.4444444444444444,
              "#bd3786"
             ],
             [
              0.5555555555555556,
              "#d8576b"
             ],
             [
              0.6666666666666666,
              "#ed7953"
             ],
             [
              0.7777777777777778,
              "#fb9f3a"
             ],
             [
              0.8888888888888888,
              "#fdca26"
             ],
             [
              1,
              "#f0f921"
             ]
            ],
            "type": "heatmap"
           }
          ],
          "heatmapgl": [
           {
            "colorbar": {
             "outlinewidth": 0,
             "ticks": ""
            },
            "colorscale": [
             [
              0,
              "#0d0887"
             ],
             [
              0.1111111111111111,
              "#46039f"
             ],
             [
              0.2222222222222222,
              "#7201a8"
             ],
             [
              0.3333333333333333,
              "#9c179e"
             ],
             [
              0.4444444444444444,
              "#bd3786"
             ],
             [
              0.5555555555555556,
              "#d8576b"
             ],
             [
              0.6666666666666666,
              "#ed7953"
             ],
             [
              0.7777777777777778,
              "#fb9f3a"
             ],
             [
              0.8888888888888888,
              "#fdca26"
             ],
             [
              1,
              "#f0f921"
             ]
            ],
            "type": "heatmapgl"
           }
          ],
          "histogram": [
           {
            "marker": {
             "pattern": {
              "fillmode": "overlay",
              "size": 10,
              "solidity": 0.2
             }
            },
            "type": "histogram"
           }
          ],
          "histogram2d": [
           {
            "colorbar": {
             "outlinewidth": 0,
             "ticks": ""
            },
            "colorscale": [
             [
              0,
              "#0d0887"
             ],
             [
              0.1111111111111111,
              "#46039f"
             ],
             [
              0.2222222222222222,
              "#7201a8"
             ],
             [
              0.3333333333333333,
              "#9c179e"
             ],
             [
              0.4444444444444444,
              "#bd3786"
             ],
             [
              0.5555555555555556,
              "#d8576b"
             ],
             [
              0.6666666666666666,
              "#ed7953"
             ],
             [
              0.7777777777777778,
              "#fb9f3a"
             ],
             [
              0.8888888888888888,
              "#fdca26"
             ],
             [
              1,
              "#f0f921"
             ]
            ],
            "type": "histogram2d"
           }
          ],
          "histogram2dcontour": [
           {
            "colorbar": {
             "outlinewidth": 0,
             "ticks": ""
            },
            "colorscale": [
             [
              0,
              "#0d0887"
             ],
             [
              0.1111111111111111,
              "#46039f"
             ],
             [
              0.2222222222222222,
              "#7201a8"
             ],
             [
              0.3333333333333333,
              "#9c179e"
             ],
             [
              0.4444444444444444,
              "#bd3786"
             ],
             [
              0.5555555555555556,
              "#d8576b"
             ],
             [
              0.6666666666666666,
              "#ed7953"
             ],
             [
              0.7777777777777778,
              "#fb9f3a"
             ],
             [
              0.8888888888888888,
              "#fdca26"
             ],
             [
              1,
              "#f0f921"
             ]
            ],
            "type": "histogram2dcontour"
           }
          ],
          "mesh3d": [
           {
            "colorbar": {
             "outlinewidth": 0,
             "ticks": ""
            },
            "type": "mesh3d"
           }
          ],
          "parcoords": [
           {
            "line": {
             "colorbar": {
              "outlinewidth": 0,
              "ticks": ""
             }
            },
            "type": "parcoords"
           }
          ],
          "pie": [
           {
            "automargin": true,
            "type": "pie"
           }
          ],
          "scatter": [
           {
            "fillpattern": {
             "fillmode": "overlay",
             "size": 10,
             "solidity": 0.2
            },
            "type": "scatter"
           }
          ],
          "scatter3d": [
           {
            "line": {
             "colorbar": {
              "outlinewidth": 0,
              "ticks": ""
             }
            },
            "marker": {
             "colorbar": {
              "outlinewidth": 0,
              "ticks": ""
             }
            },
            "type": "scatter3d"
           }
          ],
          "scattercarpet": [
           {
            "marker": {
             "colorbar": {
              "outlinewidth": 0,
              "ticks": ""
             }
            },
            "type": "scattercarpet"
           }
          ],
          "scattergeo": [
           {
            "marker": {
             "colorbar": {
              "outlinewidth": 0,
              "ticks": ""
             }
            },
            "type": "scattergeo"
           }
          ],
          "scattergl": [
           {
            "marker": {
             "colorbar": {
              "outlinewidth": 0,
              "ticks": ""
             }
            },
            "type": "scattergl"
           }
          ],
          "scattermapbox": [
           {
            "marker": {
             "colorbar": {
              "outlinewidth": 0,
              "ticks": ""
             }
            },
            "type": "scattermapbox"
           }
          ],
          "scatterpolar": [
           {
            "marker": {
             "colorbar": {
              "outlinewidth": 0,
              "ticks": ""
             }
            },
            "type": "scatterpolar"
           }
          ],
          "scatterpolargl": [
           {
            "marker": {
             "colorbar": {
              "outlinewidth": 0,
              "ticks": ""
             }
            },
            "type": "scatterpolargl"
           }
          ],
          "scatterternary": [
           {
            "marker": {
             "colorbar": {
              "outlinewidth": 0,
              "ticks": ""
             }
            },
            "type": "scatterternary"
           }
          ],
          "surface": [
           {
            "colorbar": {
             "outlinewidth": 0,
             "ticks": ""
            },
            "colorscale": [
             [
              0,
              "#0d0887"
             ],
             [
              0.1111111111111111,
              "#46039f"
             ],
             [
              0.2222222222222222,
              "#7201a8"
             ],
             [
              0.3333333333333333,
              "#9c179e"
             ],
             [
              0.4444444444444444,
              "#bd3786"
             ],
             [
              0.5555555555555556,
              "#d8576b"
             ],
             [
              0.6666666666666666,
              "#ed7953"
             ],
             [
              0.7777777777777778,
              "#fb9f3a"
             ],
             [
              0.8888888888888888,
              "#fdca26"
             ],
             [
              1,
              "#f0f921"
             ]
            ],
            "type": "surface"
           }
          ],
          "table": [
           {
            "cells": {
             "fill": {
              "color": "#EBF0F8"
             },
             "line": {
              "color": "white"
             }
            },
            "header": {
             "fill": {
              "color": "#C8D4E3"
             },
             "line": {
              "color": "white"
             }
            },
            "type": "table"
           }
          ]
         },
         "layout": {
          "annotationdefaults": {
           "arrowcolor": "#2a3f5f",
           "arrowhead": 0,
           "arrowwidth": 1
          },
          "autotypenumbers": "strict",
          "coloraxis": {
           "colorbar": {
            "outlinewidth": 0,
            "ticks": ""
           }
          },
          "colorscale": {
           "diverging": [
            [
             0,
             "#8e0152"
            ],
            [
             0.1,
             "#c51b7d"
            ],
            [
             0.2,
             "#de77ae"
            ],
            [
             0.3,
             "#f1b6da"
            ],
            [
             0.4,
             "#fde0ef"
            ],
            [
             0.5,
             "#f7f7f7"
            ],
            [
             0.6,
             "#e6f5d0"
            ],
            [
             0.7,
             "#b8e186"
            ],
            [
             0.8,
             "#7fbc41"
            ],
            [
             0.9,
             "#4d9221"
            ],
            [
             1,
             "#276419"
            ]
           ],
           "sequential": [
            [
             0,
             "#0d0887"
            ],
            [
             0.1111111111111111,
             "#46039f"
            ],
            [
             0.2222222222222222,
             "#7201a8"
            ],
            [
             0.3333333333333333,
             "#9c179e"
            ],
            [
             0.4444444444444444,
             "#bd3786"
            ],
            [
             0.5555555555555556,
             "#d8576b"
            ],
            [
             0.6666666666666666,
             "#ed7953"
            ],
            [
             0.7777777777777778,
             "#fb9f3a"
            ],
            [
             0.8888888888888888,
             "#fdca26"
            ],
            [
             1,
             "#f0f921"
            ]
           ],
           "sequentialminus": [
            [
             0,
             "#0d0887"
            ],
            [
             0.1111111111111111,
             "#46039f"
            ],
            [
             0.2222222222222222,
             "#7201a8"
            ],
            [
             0.3333333333333333,
             "#9c179e"
            ],
            [
             0.4444444444444444,
             "#bd3786"
            ],
            [
             0.5555555555555556,
             "#d8576b"
            ],
            [
             0.6666666666666666,
             "#ed7953"
            ],
            [
             0.7777777777777778,
             "#fb9f3a"
            ],
            [
             0.8888888888888888,
             "#fdca26"
            ],
            [
             1,
             "#f0f921"
            ]
           ]
          },
          "colorway": [
           "#636efa",
           "#EF553B",
           "#00cc96",
           "#ab63fa",
           "#FFA15A",
           "#19d3f3",
           "#FF6692",
           "#B6E880",
           "#FF97FF",
           "#FECB52"
          ],
          "font": {
           "color": "#2a3f5f"
          },
          "geo": {
           "bgcolor": "white",
           "lakecolor": "white",
           "landcolor": "#E5ECF6",
           "showlakes": true,
           "showland": true,
           "subunitcolor": "white"
          },
          "hoverlabel": {
           "align": "left"
          },
          "hovermode": "closest",
          "mapbox": {
           "style": "light"
          },
          "paper_bgcolor": "white",
          "plot_bgcolor": "#E5ECF6",
          "polar": {
           "angularaxis": {
            "gridcolor": "white",
            "linecolor": "white",
            "ticks": ""
           },
           "bgcolor": "#E5ECF6",
           "radialaxis": {
            "gridcolor": "white",
            "linecolor": "white",
            "ticks": ""
           }
          },
          "scene": {
           "xaxis": {
            "backgroundcolor": "#E5ECF6",
            "gridcolor": "white",
            "gridwidth": 2,
            "linecolor": "white",
            "showbackground": true,
            "ticks": "",
            "zerolinecolor": "white"
           },
           "yaxis": {
            "backgroundcolor": "#E5ECF6",
            "gridcolor": "white",
            "gridwidth": 2,
            "linecolor": "white",
            "showbackground": true,
            "ticks": "",
            "zerolinecolor": "white"
           },
           "zaxis": {
            "backgroundcolor": "#E5ECF6",
            "gridcolor": "white",
            "gridwidth": 2,
            "linecolor": "white",
            "showbackground": true,
            "ticks": "",
            "zerolinecolor": "white"
           }
          },
          "shapedefaults": {
           "line": {
            "color": "#2a3f5f"
           }
          },
          "ternary": {
           "aaxis": {
            "gridcolor": "white",
            "linecolor": "white",
            "ticks": ""
           },
           "baxis": {
            "gridcolor": "white",
            "linecolor": "white",
            "ticks": ""
           },
           "bgcolor": "#E5ECF6",
           "caxis": {
            "gridcolor": "white",
            "linecolor": "white",
            "ticks": ""
           }
          },
          "title": {
           "x": 0.05
          },
          "xaxis": {
           "automargin": true,
           "gridcolor": "white",
           "linecolor": "white",
           "ticks": "",
           "title": {
            "standoff": 15
           },
           "zerolinecolor": "white",
           "zerolinewidth": 2
          },
          "yaxis": {
           "automargin": true,
           "gridcolor": "white",
           "linecolor": "white",
           "ticks": "",
           "title": {
            "standoff": 15
           },
           "zerolinecolor": "white",
           "zerolinewidth": 2
          }
         }
        },
        "title": {
         "text": "Correlation Heatmap Between Taste Profiles and Ratings",
         "x": 0.5
        },
        "xaxis": {
         "anchor": "y",
         "constrain": "domain",
         "domain": [
          0,
          1
         ],
         "scaleanchor": "y",
         "ticktext": [
          "avg_ratings_average",
          "avg_acidity",
          "avg_intensity",
          "avg_sweetness",
          "avg_tannin"
         ],
         "tickvals": [
          0,
          1,
          2,
          3,
          4
         ]
        },
        "yaxis": {
         "anchor": "x",
         "autorange": "reversed",
         "constrain": "domain",
         "domain": [
          0,
          1
         ],
         "ticktext": [
          "avg_ratings_average",
          "avg_acidity",
          "avg_intensity",
          "avg_sweetness",
          "avg_tannin"
         ],
         "tickvals": [
          0,
          1,
          2,
          3,
          4
         ]
        }
       }
      }
     },
     "metadata": {},
     "output_type": "display_data"
    }
   ],
   "source": [
    "fig = px.imshow(\n",
    "    correlation_matrix,\n",
    "    text_auto=True,\n",
    "    color_continuous_scale='Viridis',\n",
    "    title='Correlation Heatmap Between Taste Profiles and Ratings'\n",
    ")\n",
    "\n",
    "# Update layout for better appearance\n",
    "fig.update_layout(\n",
    "    # xaxis_title='Variables',\n",
    "    # yaxis_title='Variables',\n",
    "    xaxis=dict(tickvals=list(range(len(correlation_matrix.columns))), ticktext=correlation_matrix.columns),\n",
    "    yaxis=dict(tickvals=list(range(len(correlation_matrix.index))), ticktext=correlation_matrix.index),\n",
    "    title_x=0.5\n",
    ")\n",
    "\n",
    "# Show the plot\n",
    "fig.show()"
   ]
  },
  {
   "cell_type": "code",
   "execution_count": 7,
   "metadata": {},
   "outputs": [
    {
     "data": {
      "application/vnd.plotly.v1+json": {
       "config": {
        "plotlyServerURL": "https://plot.ly"
       },
       "data": [
        {
         "alignmentgroup": "True",
         "box": {
          "visible": true
         },
         "hovertemplate": "Taste Profile=%{x}<br>Taste Profile Value=%{y}<extra></extra>",
         "legendgroup": "avg_sweetness",
         "marker": {
          "color": "#636efa"
         },
         "name": "avg_sweetness",
         "offsetgroup": "avg_sweetness",
         "orientation": "v",
         "points": "all",
         "scalegroup": "True",
         "showlegend": true,
         "type": "violin",
         "x": [
          "avg_sweetness",
          "avg_sweetness",
          "avg_sweetness",
          "avg_sweetness",
          "avg_sweetness",
          "avg_sweetness",
          "avg_sweetness",
          "avg_sweetness",
          "avg_sweetness",
          "avg_sweetness",
          "avg_sweetness",
          "avg_sweetness",
          "avg_sweetness",
          "avg_sweetness",
          "avg_sweetness",
          "avg_sweetness",
          "avg_sweetness",
          "avg_sweetness",
          "avg_sweetness",
          "avg_sweetness",
          "avg_sweetness",
          "avg_sweetness",
          "avg_sweetness",
          "avg_sweetness",
          "avg_sweetness",
          "avg_sweetness",
          "avg_sweetness",
          "avg_sweetness",
          "avg_sweetness",
          "avg_sweetness",
          "avg_sweetness",
          "avg_sweetness",
          "avg_sweetness",
          "avg_sweetness",
          "avg_sweetness",
          "avg_sweetness",
          "avg_sweetness",
          "avg_sweetness",
          "avg_sweetness",
          "avg_sweetness",
          "avg_sweetness",
          "avg_sweetness",
          "avg_sweetness",
          "avg_sweetness",
          "avg_sweetness",
          "avg_sweetness",
          "avg_sweetness",
          "avg_sweetness",
          "avg_sweetness",
          "avg_sweetness",
          "avg_sweetness",
          "avg_sweetness",
          "avg_sweetness",
          "avg_sweetness",
          "avg_sweetness",
          "avg_sweetness",
          "avg_sweetness",
          "avg_sweetness",
          "avg_sweetness",
          "avg_sweetness",
          "avg_sweetness",
          "avg_sweetness",
          "avg_sweetness",
          "avg_sweetness",
          "avg_sweetness",
          "avg_sweetness",
          "avg_sweetness",
          "avg_sweetness",
          "avg_sweetness",
          "avg_sweetness",
          "avg_sweetness",
          "avg_sweetness",
          "avg_sweetness",
          "avg_sweetness",
          "avg_sweetness",
          "avg_sweetness",
          "avg_sweetness",
          "avg_sweetness",
          "avg_sweetness",
          "avg_sweetness",
          "avg_sweetness",
          "avg_sweetness",
          "avg_sweetness",
          "avg_sweetness",
          "avg_sweetness",
          "avg_sweetness",
          "avg_sweetness",
          "avg_sweetness",
          "avg_sweetness",
          "avg_sweetness",
          "avg_sweetness",
          "avg_sweetness",
          "avg_sweetness",
          "avg_sweetness",
          "avg_sweetness",
          "avg_sweetness",
          "avg_sweetness",
          "avg_sweetness",
          "avg_sweetness",
          "avg_sweetness",
          "avg_sweetness",
          "avg_sweetness",
          "avg_sweetness",
          "avg_sweetness",
          "avg_sweetness",
          "avg_sweetness",
          "avg_sweetness",
          "avg_sweetness",
          "avg_sweetness",
          "avg_sweetness",
          "avg_sweetness",
          "avg_sweetness",
          "avg_sweetness",
          "avg_sweetness",
          "avg_sweetness",
          "avg_sweetness",
          "avg_sweetness",
          "avg_sweetness",
          "avg_sweetness",
          "avg_sweetness",
          "avg_sweetness",
          "avg_sweetness",
          "avg_sweetness",
          "avg_sweetness",
          "avg_sweetness",
          "avg_sweetness",
          "avg_sweetness",
          "avg_sweetness",
          "avg_sweetness",
          "avg_sweetness",
          "avg_sweetness",
          "avg_sweetness",
          "avg_sweetness",
          "avg_sweetness",
          "avg_sweetness",
          "avg_sweetness",
          "avg_sweetness",
          "avg_sweetness",
          "avg_sweetness",
          "avg_sweetness",
          "avg_sweetness",
          "avg_sweetness",
          "avg_sweetness",
          "avg_sweetness",
          "avg_sweetness",
          "avg_sweetness",
          "avg_sweetness",
          "avg_sweetness",
          "avg_sweetness",
          "avg_sweetness",
          "avg_sweetness",
          "avg_sweetness",
          "avg_sweetness",
          "avg_sweetness",
          "avg_sweetness",
          "avg_sweetness",
          "avg_sweetness",
          "avg_sweetness",
          "avg_sweetness",
          "avg_sweetness",
          "avg_sweetness",
          "avg_sweetness",
          "avg_sweetness",
          "avg_sweetness",
          "avg_sweetness",
          "avg_sweetness",
          "avg_sweetness",
          "avg_sweetness",
          "avg_sweetness",
          "avg_sweetness",
          "avg_sweetness",
          "avg_sweetness",
          "avg_sweetness",
          "avg_sweetness",
          "avg_sweetness",
          "avg_sweetness",
          "avg_sweetness",
          "avg_sweetness",
          "avg_sweetness",
          "avg_sweetness",
          "avg_sweetness",
          "avg_sweetness",
          "avg_sweetness",
          "avg_sweetness",
          "avg_sweetness",
          "avg_sweetness",
          "avg_sweetness",
          "avg_sweetness",
          "avg_sweetness",
          "avg_sweetness",
          "avg_sweetness",
          "avg_sweetness",
          "avg_sweetness",
          "avg_sweetness",
          "avg_sweetness",
          "avg_sweetness",
          "avg_sweetness",
          "avg_sweetness",
          "avg_sweetness",
          "avg_sweetness",
          "avg_sweetness",
          "avg_sweetness",
          "avg_sweetness",
          "avg_sweetness",
          "avg_sweetness",
          "avg_sweetness",
          "avg_sweetness",
          "avg_sweetness",
          "avg_sweetness",
          "avg_sweetness",
          "avg_sweetness",
          "avg_sweetness",
          "avg_sweetness",
          "avg_sweetness",
          "avg_sweetness",
          "avg_sweetness",
          "avg_sweetness",
          "avg_sweetness",
          "avg_sweetness",
          "avg_sweetness",
          "avg_sweetness",
          "avg_sweetness",
          "avg_sweetness",
          "avg_sweetness",
          "avg_sweetness",
          "avg_sweetness",
          "avg_sweetness",
          "avg_sweetness",
          "avg_sweetness",
          "avg_sweetness",
          "avg_sweetness",
          "avg_sweetness",
          "avg_sweetness",
          "avg_sweetness",
          "avg_sweetness",
          "avg_sweetness",
          "avg_sweetness",
          "avg_sweetness",
          "avg_sweetness",
          "avg_sweetness",
          "avg_sweetness",
          "avg_sweetness",
          "avg_sweetness",
          "avg_sweetness",
          "avg_sweetness",
          "avg_sweetness",
          "avg_sweetness",
          "avg_sweetness",
          "avg_sweetness",
          "avg_sweetness",
          "avg_sweetness",
          "avg_sweetness",
          "avg_sweetness",
          "avg_sweetness",
          "avg_sweetness",
          "avg_sweetness",
          "avg_sweetness",
          "avg_sweetness",
          "avg_sweetness",
          "avg_sweetness",
          "avg_sweetness",
          "avg_sweetness",
          "avg_sweetness",
          "avg_sweetness",
          "avg_sweetness",
          "avg_sweetness",
          "avg_sweetness",
          "avg_sweetness",
          "avg_sweetness",
          "avg_sweetness",
          "avg_sweetness",
          "avg_sweetness",
          "avg_sweetness",
          "avg_sweetness",
          "avg_sweetness",
          "avg_sweetness",
          "avg_sweetness",
          "avg_sweetness",
          "avg_sweetness",
          "avg_sweetness",
          "avg_sweetness",
          "avg_sweetness",
          "avg_sweetness",
          "avg_sweetness",
          "avg_sweetness",
          "avg_sweetness",
          "avg_sweetness",
          "avg_sweetness",
          "avg_sweetness",
          "avg_sweetness",
          "avg_sweetness",
          "avg_sweetness",
          "avg_sweetness",
          "avg_sweetness",
          "avg_sweetness",
          "avg_sweetness",
          "avg_sweetness",
          "avg_sweetness",
          "avg_sweetness",
          "avg_sweetness",
          "avg_sweetness",
          "avg_sweetness",
          "avg_sweetness",
          "avg_sweetness",
          "avg_sweetness",
          "avg_sweetness",
          "avg_sweetness",
          "avg_sweetness",
          "avg_sweetness",
          "avg_sweetness",
          "avg_sweetness",
          "avg_sweetness",
          "avg_sweetness",
          "avg_sweetness",
          "avg_sweetness",
          "avg_sweetness",
          "avg_sweetness",
          "avg_sweetness",
          "avg_sweetness",
          "avg_sweetness",
          "avg_sweetness",
          "avg_sweetness",
          "avg_sweetness",
          "avg_sweetness",
          "avg_sweetness",
          "avg_sweetness",
          "avg_sweetness",
          "avg_sweetness",
          "avg_sweetness",
          "avg_sweetness",
          "avg_sweetness",
          "avg_sweetness",
          "avg_sweetness",
          "avg_sweetness",
          "avg_sweetness",
          "avg_sweetness",
          "avg_sweetness",
          "avg_sweetness",
          "avg_sweetness",
          "avg_sweetness",
          "avg_sweetness",
          "avg_sweetness",
          "avg_sweetness",
          "avg_sweetness",
          "avg_sweetness",
          "avg_sweetness",
          "avg_sweetness",
          "avg_sweetness",
          "avg_sweetness",
          "avg_sweetness",
          "avg_sweetness",
          "avg_sweetness",
          "avg_sweetness",
          "avg_sweetness",
          "avg_sweetness",
          "avg_sweetness",
          "avg_sweetness",
          "avg_sweetness",
          "avg_sweetness",
          "avg_sweetness",
          "avg_sweetness",
          "avg_sweetness",
          "avg_sweetness",
          "avg_sweetness",
          "avg_sweetness",
          "avg_sweetness",
          "avg_sweetness",
          "avg_sweetness",
          "avg_sweetness",
          "avg_sweetness",
          "avg_sweetness",
          "avg_sweetness",
          "avg_sweetness",
          "avg_sweetness",
          "avg_sweetness",
          "avg_sweetness",
          "avg_sweetness",
          "avg_sweetness",
          "avg_sweetness",
          "avg_sweetness",
          "avg_sweetness",
          "avg_sweetness",
          "avg_sweetness",
          "avg_sweetness",
          "avg_sweetness",
          "avg_sweetness",
          "avg_sweetness",
          "avg_sweetness",
          "avg_sweetness",
          "avg_sweetness",
          "avg_sweetness",
          "avg_sweetness",
          "avg_sweetness",
          "avg_sweetness",
          "avg_sweetness",
          "avg_sweetness",
          "avg_sweetness",
          "avg_sweetness",
          "avg_sweetness",
          "avg_sweetness",
          "avg_sweetness",
          "avg_sweetness",
          "avg_sweetness",
          "avg_sweetness",
          "avg_sweetness",
          "avg_sweetness",
          "avg_sweetness",
          "avg_sweetness",
          "avg_sweetness",
          "avg_sweetness",
          "avg_sweetness",
          "avg_sweetness",
          "avg_sweetness",
          "avg_sweetness",
          "avg_sweetness",
          "avg_sweetness",
          "avg_sweetness",
          "avg_sweetness",
          "avg_sweetness",
          "avg_sweetness",
          "avg_sweetness",
          "avg_sweetness",
          "avg_sweetness",
          "avg_sweetness",
          "avg_sweetness",
          "avg_sweetness",
          "avg_sweetness",
          "avg_sweetness",
          "avg_sweetness",
          "avg_sweetness",
          "avg_sweetness",
          "avg_sweetness",
          "avg_sweetness",
          "avg_sweetness",
          "avg_sweetness",
          "avg_sweetness",
          "avg_sweetness",
          "avg_sweetness",
          "avg_sweetness"
         ],
         "x0": " ",
         "xaxis": "x",
         "y": [
          1.92,
          2.08,
          1.65,
          1.9,
          1.67,
          1.94,
          1.81,
          2.26,
          2.08,
          1.77,
          1.76,
          1.78,
          1.71,
          1.76,
          1.93,
          1.87,
          1.85,
          1.78,
          1.87,
          1.84,
          2.22,
          2.02,
          1.92,
          2.58,
          1.81,
          1.79,
          1.96,
          1.88,
          1.81,
          1.75,
          1.79,
          1.75,
          1.84,
          1.79,
          1.89,
          1.75,
          1.84,
          2.52,
          1.87,
          1.82,
          2.1,
          1.73,
          1.76,
          1.81,
          1.79,
          1.96,
          1.79,
          1.85,
          2.41,
          1.86,
          1.83,
          1.89,
          1.85,
          2.25,
          2.52,
          2.35,
          2.14,
          1.79,
          1.78,
          1.67,
          1.62,
          1.79,
          1.84,
          1.95,
          2.64,
          1.87,
          1.84,
          2.01,
          1.72,
          1.83,
          1.75,
          1.63,
          1.71,
          1.67,
          1.83,
          1.9,
          2.02,
          1.82,
          1.81,
          1.75,
          1.83,
          1.69,
          1.68,
          1.77,
          1.9,
          1.78,
          1.75,
          1.81,
          1.92,
          1.93,
          1.97,
          1.94,
          1.98,
          2.04,
          1.88,
          1.81,
          1.9,
          1.83,
          1.7,
          1.97,
          1.85,
          2.15,
          1.78,
          1.69,
          1.7,
          1.87,
          1.73,
          1.84,
          1.8,
          1.86,
          1.9,
          1.64,
          1.66,
          1.68,
          1.84,
          1.88,
          1.85,
          1.88,
          1.84,
          1.92,
          1.82,
          1.85,
          1.81,
          1.82,
          1.86,
          1.9,
          1.83,
          1.91,
          1.83,
          1.79,
          1.87,
          1.85,
          1.77,
          1.9,
          1.81,
          1.87,
          2.65,
          1.93,
          1.71,
          1.88,
          1.67,
          1.77,
          1.95,
          2.16,
          1.88,
          1.88,
          1.84,
          1.83,
          1.8,
          1.77,
          1.85,
          1.85,
          1.92,
          1.68,
          1.83,
          1.88,
          1.84,
          1.9,
          1.83,
          1.88,
          1.85,
          1.95,
          1.85,
          1.84,
          1.79,
          1.86,
          1.84,
          1.86,
          1.73,
          1.8,
          1.77,
          1.68,
          1.85,
          1.88,
          1.92,
          1.86,
          1.9,
          1.83,
          2.12,
          1.85,
          1.82,
          1.71,
          1.89,
          1.86,
          1.87,
          1.83,
          1.89,
          1.96,
          1.87,
          1.83,
          1.94,
          1.77,
          1.8,
          1.83,
          1.92,
          1.92,
          1.85,
          1.86,
          1.95,
          1.63,
          1.73,
          1.86,
          2.22,
          1.91,
          1.83,
          1.99,
          1.86,
          1.91,
          1.83,
          1.79,
          1.89,
          1.88,
          1.6,
          1.87,
          2.18,
          1.91,
          1.86,
          2.09,
          2.03,
          1.84,
          1.82,
          1.81,
          1.85,
          1.72,
          1.87,
          1.8,
          1.78,
          1.9,
          1.91,
          1.89,
          1.89,
          1.81,
          1.74,
          1.83,
          1.88,
          1.87,
          1.93,
          1.92,
          1.92,
          1.84,
          1.62,
          1.88,
          1.88,
          1.91,
          1.85,
          1.91,
          1.87,
          1.94,
          1.81,
          1.81,
          1.87,
          1.89,
          1.86,
          2.04,
          1.91,
          1.64,
          2.18,
          1.88,
          1.75,
          1.84,
          1.84,
          1.91,
          1.86,
          1.78,
          1.65,
          1.87,
          1.9,
          1.82,
          1.9,
          2.03,
          1.84,
          1.84,
          1.8,
          1.93,
          1.9,
          1.83,
          1.83,
          1.73,
          1.82,
          1.85,
          2.14,
          1.93,
          1.81,
          1.87,
          1.82,
          1.87,
          1.86,
          1.86,
          2.43,
          1.79,
          1.73,
          1.76,
          1.78,
          1.82,
          1.77,
          1.92,
          1.84,
          1.84,
          1.88,
          2.07,
          1.87,
          2.11,
          1.88,
          1.86,
          1.99,
          1.88,
          1.97,
          2.04,
          1.82,
          1.72,
          1.86,
          1.8,
          1.95,
          2.13,
          1.85,
          1.87,
          1.88,
          1.91,
          1.89,
          1.89,
          1.88,
          1.86,
          1.8,
          2.07,
          1.8,
          1.84,
          1.96,
          1.84,
          1.95,
          1.84,
          1.94,
          1.94,
          1.96,
          1.88,
          1.91,
          1.94,
          1.74,
          1.85,
          1.72,
          1.78,
          1.77,
          1.9,
          1.87,
          1.88,
          1.82,
          1.86,
          1.93,
          1.9,
          1.91,
          1.91,
          1.75,
          1.94,
          1.87,
          1.8,
          1.72,
          1.85,
          1.91,
          1.88,
          1.89,
          1.88,
          1.93,
          1.91,
          1.86,
          1.87,
          1.66,
          1.9,
          1.83,
          1.91,
          1.92,
          1.92,
          1.85,
          1.81,
          1.91,
          1.82,
          1.89,
          1.9,
          2.07,
          1.91,
          2.85,
          1.78,
          1.91,
          1.91,
          1.89,
          1.84,
          1.66,
          1.91,
          1.82,
          1.85,
          1.83,
          2.34,
          1.89,
          1.88,
          1.92,
          1.78,
          1.9,
          1.95,
          1.91,
          1.79,
          1.86,
          1.91,
          1.86,
          1.9,
          1.91,
          1.92,
          2.01,
          1.79,
          1.9,
          2,
          1.81,
          1.85,
          1.94,
          1.69,
          1.83,
          1.94,
          1.9,
          1.86,
          1.9,
          1.87,
          1.95,
          1.8,
          1.86,
          1.88,
          1.88,
          1.85,
          1.82,
          1.86,
          1.94,
          1.9,
          2.07,
          1.84,
          1.99,
          1.67,
          1.63,
          1.7,
          1.64,
          1.65,
          1.61,
          2.21,
          2.22
         ],
         "y0": " ",
         "yaxis": "y"
        },
        {
         "alignmentgroup": "True",
         "box": {
          "visible": true
         },
         "hovertemplate": "Taste Profile=%{x}<br>Taste Profile Value=%{y}<extra></extra>",
         "legendgroup": "avg_acidity",
         "marker": {
          "color": "#EF553B"
         },
         "name": "avg_acidity",
         "offsetgroup": "avg_acidity",
         "orientation": "v",
         "points": "all",
         "scalegroup": "True",
         "showlegend": true,
         "type": "violin",
         "x": [
          "avg_acidity",
          "avg_acidity",
          "avg_acidity",
          "avg_acidity",
          "avg_acidity",
          "avg_acidity",
          "avg_acidity",
          "avg_acidity",
          "avg_acidity",
          "avg_acidity",
          "avg_acidity",
          "avg_acidity",
          "avg_acidity",
          "avg_acidity",
          "avg_acidity",
          "avg_acidity",
          "avg_acidity",
          "avg_acidity",
          "avg_acidity",
          "avg_acidity",
          "avg_acidity",
          "avg_acidity",
          "avg_acidity",
          "avg_acidity",
          "avg_acidity",
          "avg_acidity",
          "avg_acidity",
          "avg_acidity",
          "avg_acidity",
          "avg_acidity",
          "avg_acidity",
          "avg_acidity",
          "avg_acidity",
          "avg_acidity",
          "avg_acidity",
          "avg_acidity",
          "avg_acidity",
          "avg_acidity",
          "avg_acidity",
          "avg_acidity",
          "avg_acidity",
          "avg_acidity",
          "avg_acidity",
          "avg_acidity",
          "avg_acidity",
          "avg_acidity",
          "avg_acidity",
          "avg_acidity",
          "avg_acidity",
          "avg_acidity",
          "avg_acidity",
          "avg_acidity",
          "avg_acidity",
          "avg_acidity",
          "avg_acidity",
          "avg_acidity",
          "avg_acidity",
          "avg_acidity",
          "avg_acidity",
          "avg_acidity",
          "avg_acidity",
          "avg_acidity",
          "avg_acidity",
          "avg_acidity",
          "avg_acidity",
          "avg_acidity",
          "avg_acidity",
          "avg_acidity",
          "avg_acidity",
          "avg_acidity",
          "avg_acidity",
          "avg_acidity",
          "avg_acidity",
          "avg_acidity",
          "avg_acidity",
          "avg_acidity",
          "avg_acidity",
          "avg_acidity",
          "avg_acidity",
          "avg_acidity",
          "avg_acidity",
          "avg_acidity",
          "avg_acidity",
          "avg_acidity",
          "avg_acidity",
          "avg_acidity",
          "avg_acidity",
          "avg_acidity",
          "avg_acidity",
          "avg_acidity",
          "avg_acidity",
          "avg_acidity",
          "avg_acidity",
          "avg_acidity",
          "avg_acidity",
          "avg_acidity",
          "avg_acidity",
          "avg_acidity",
          "avg_acidity",
          "avg_acidity",
          "avg_acidity",
          "avg_acidity",
          "avg_acidity",
          "avg_acidity",
          "avg_acidity",
          "avg_acidity",
          "avg_acidity",
          "avg_acidity",
          "avg_acidity",
          "avg_acidity",
          "avg_acidity",
          "avg_acidity",
          "avg_acidity",
          "avg_acidity",
          "avg_acidity",
          "avg_acidity",
          "avg_acidity",
          "avg_acidity",
          "avg_acidity",
          "avg_acidity",
          "avg_acidity",
          "avg_acidity",
          "avg_acidity",
          "avg_acidity",
          "avg_acidity",
          "avg_acidity",
          "avg_acidity",
          "avg_acidity",
          "avg_acidity",
          "avg_acidity",
          "avg_acidity",
          "avg_acidity",
          "avg_acidity",
          "avg_acidity",
          "avg_acidity",
          "avg_acidity",
          "avg_acidity",
          "avg_acidity",
          "avg_acidity",
          "avg_acidity",
          "avg_acidity",
          "avg_acidity",
          "avg_acidity",
          "avg_acidity",
          "avg_acidity",
          "avg_acidity",
          "avg_acidity",
          "avg_acidity",
          "avg_acidity",
          "avg_acidity",
          "avg_acidity",
          "avg_acidity",
          "avg_acidity",
          "avg_acidity",
          "avg_acidity",
          "avg_acidity",
          "avg_acidity",
          "avg_acidity",
          "avg_acidity",
          "avg_acidity",
          "avg_acidity",
          "avg_acidity",
          "avg_acidity",
          "avg_acidity",
          "avg_acidity",
          "avg_acidity",
          "avg_acidity",
          "avg_acidity",
          "avg_acidity",
          "avg_acidity",
          "avg_acidity",
          "avg_acidity",
          "avg_acidity",
          "avg_acidity",
          "avg_acidity",
          "avg_acidity",
          "avg_acidity",
          "avg_acidity",
          "avg_acidity",
          "avg_acidity",
          "avg_acidity",
          "avg_acidity",
          "avg_acidity",
          "avg_acidity",
          "avg_acidity",
          "avg_acidity",
          "avg_acidity",
          "avg_acidity",
          "avg_acidity",
          "avg_acidity",
          "avg_acidity",
          "avg_acidity",
          "avg_acidity",
          "avg_acidity",
          "avg_acidity",
          "avg_acidity",
          "avg_acidity",
          "avg_acidity",
          "avg_acidity",
          "avg_acidity",
          "avg_acidity",
          "avg_acidity",
          "avg_acidity",
          "avg_acidity",
          "avg_acidity",
          "avg_acidity",
          "avg_acidity",
          "avg_acidity",
          "avg_acidity",
          "avg_acidity",
          "avg_acidity",
          "avg_acidity",
          "avg_acidity",
          "avg_acidity",
          "avg_acidity",
          "avg_acidity",
          "avg_acidity",
          "avg_acidity",
          "avg_acidity",
          "avg_acidity",
          "avg_acidity",
          "avg_acidity",
          "avg_acidity",
          "avg_acidity",
          "avg_acidity",
          "avg_acidity",
          "avg_acidity",
          "avg_acidity",
          "avg_acidity",
          "avg_acidity",
          "avg_acidity",
          "avg_acidity",
          "avg_acidity",
          "avg_acidity",
          "avg_acidity",
          "avg_acidity",
          "avg_acidity",
          "avg_acidity",
          "avg_acidity",
          "avg_acidity",
          "avg_acidity",
          "avg_acidity",
          "avg_acidity",
          "avg_acidity",
          "avg_acidity",
          "avg_acidity",
          "avg_acidity",
          "avg_acidity",
          "avg_acidity",
          "avg_acidity",
          "avg_acidity",
          "avg_acidity",
          "avg_acidity",
          "avg_acidity",
          "avg_acidity",
          "avg_acidity",
          "avg_acidity",
          "avg_acidity",
          "avg_acidity",
          "avg_acidity",
          "avg_acidity",
          "avg_acidity",
          "avg_acidity",
          "avg_acidity",
          "avg_acidity",
          "avg_acidity",
          "avg_acidity",
          "avg_acidity",
          "avg_acidity",
          "avg_acidity",
          "avg_acidity",
          "avg_acidity",
          "avg_acidity",
          "avg_acidity",
          "avg_acidity",
          "avg_acidity",
          "avg_acidity",
          "avg_acidity",
          "avg_acidity",
          "avg_acidity",
          "avg_acidity",
          "avg_acidity",
          "avg_acidity",
          "avg_acidity",
          "avg_acidity",
          "avg_acidity",
          "avg_acidity",
          "avg_acidity",
          "avg_acidity",
          "avg_acidity",
          "avg_acidity",
          "avg_acidity",
          "avg_acidity",
          "avg_acidity",
          "avg_acidity",
          "avg_acidity",
          "avg_acidity",
          "avg_acidity",
          "avg_acidity",
          "avg_acidity",
          "avg_acidity",
          "avg_acidity",
          "avg_acidity",
          "avg_acidity",
          "avg_acidity",
          "avg_acidity",
          "avg_acidity",
          "avg_acidity",
          "avg_acidity",
          "avg_acidity",
          "avg_acidity",
          "avg_acidity",
          "avg_acidity",
          "avg_acidity",
          "avg_acidity",
          "avg_acidity",
          "avg_acidity",
          "avg_acidity",
          "avg_acidity",
          "avg_acidity",
          "avg_acidity",
          "avg_acidity",
          "avg_acidity",
          "avg_acidity",
          "avg_acidity",
          "avg_acidity",
          "avg_acidity",
          "avg_acidity",
          "avg_acidity",
          "avg_acidity",
          "avg_acidity",
          "avg_acidity",
          "avg_acidity",
          "avg_acidity",
          "avg_acidity",
          "avg_acidity",
          "avg_acidity",
          "avg_acidity",
          "avg_acidity",
          "avg_acidity",
          "avg_acidity",
          "avg_acidity",
          "avg_acidity",
          "avg_acidity",
          "avg_acidity",
          "avg_acidity",
          "avg_acidity",
          "avg_acidity",
          "avg_acidity",
          "avg_acidity",
          "avg_acidity",
          "avg_acidity",
          "avg_acidity",
          "avg_acidity",
          "avg_acidity",
          "avg_acidity",
          "avg_acidity",
          "avg_acidity",
          "avg_acidity",
          "avg_acidity",
          "avg_acidity",
          "avg_acidity",
          "avg_acidity",
          "avg_acidity",
          "avg_acidity",
          "avg_acidity",
          "avg_acidity",
          "avg_acidity",
          "avg_acidity",
          "avg_acidity",
          "avg_acidity",
          "avg_acidity",
          "avg_acidity",
          "avg_acidity",
          "avg_acidity",
          "avg_acidity",
          "avg_acidity",
          "avg_acidity",
          "avg_acidity",
          "avg_acidity",
          "avg_acidity",
          "avg_acidity",
          "avg_acidity",
          "avg_acidity",
          "avg_acidity",
          "avg_acidity",
          "avg_acidity",
          "avg_acidity",
          "avg_acidity",
          "avg_acidity",
          "avg_acidity",
          "avg_acidity",
          "avg_acidity",
          "avg_acidity",
          "avg_acidity",
          "avg_acidity",
          "avg_acidity",
          "avg_acidity",
          "avg_acidity",
          "avg_acidity",
          "avg_acidity",
          "avg_acidity",
          "avg_acidity",
          "avg_acidity",
          "avg_acidity",
          "avg_acidity",
          "avg_acidity",
          "avg_acidity",
          "avg_acidity",
          "avg_acidity",
          "avg_acidity",
          "avg_acidity",
          "avg_acidity",
          "avg_acidity",
          "avg_acidity",
          "avg_acidity",
          "avg_acidity",
          "avg_acidity",
          "avg_acidity",
          "avg_acidity",
          "avg_acidity",
          "avg_acidity",
          "avg_acidity",
          "avg_acidity",
          "avg_acidity",
          "avg_acidity",
          "avg_acidity",
          "avg_acidity",
          "avg_acidity",
          "avg_acidity",
          "avg_acidity",
          "avg_acidity",
          "avg_acidity",
          "avg_acidity",
          "avg_acidity",
          "avg_acidity",
          "avg_acidity",
          "avg_acidity",
          "avg_acidity"
         ],
         "x0": " ",
         "xaxis": "x",
         "y": [
          3.31,
          2.88,
          3.53,
          3.06,
          4.12,
          3.28,
          3.07,
          2.98,
          3.48,
          3.67,
          3.63,
          3.67,
          3.7,
          3.73,
          3.42,
          3.51,
          3.5,
          3.37,
          3.59,
          3.69,
          2.74,
          3.28,
          3.49,
          2.64,
          3.45,
          3.51,
          3.53,
          3.73,
          3.65,
          3.61,
          3.41,
          3.5,
          3.57,
          3.81,
          3.49,
          3.72,
          3.52,
          3.04,
          3.47,
          3.67,
          2.78,
          3.79,
          3.62,
          3.45,
          3.12,
          3.39,
          3.56,
          3.5,
          2.7,
          3.72,
          3.88,
          3.48,
          3.55,
          3.21,
          2.79,
          2.6,
          3.34,
          3.67,
          3.32,
          4.04,
          3.86,
          3.5,
          3.66,
          3.48,
          3.06,
          3.44,
          3.58,
          3.31,
          3.72,
          3.7,
          3.87,
          3.98,
          3.58,
          3.88,
          3.65,
          3.52,
          3.28,
          3.58,
          3.58,
          3.69,
          3.6,
          3.75,
          3.8,
          3.8,
          3.41,
          3.66,
          3.49,
          3.64,
          3.57,
          3.5,
          3.35,
          3.35,
          3.49,
          3.42,
          3.53,
          3.71,
          3.46,
          3.56,
          3.66,
          3.58,
          3.45,
          3.03,
          3.74,
          3.67,
          4.06,
          3.56,
          3.62,
          3.58,
          3.82,
          3.58,
          3.46,
          3.91,
          3.7,
          4.01,
          3.63,
          3.68,
          3.58,
          3.59,
          3.57,
          3.53,
          3.72,
          3.69,
          3.64,
          3.59,
          3.59,
          3.51,
          3.65,
          3.55,
          3.6,
          3.61,
          3.56,
          3.57,
          3.63,
          3.56,
          3.59,
          3.61,
          2.4,
          3.57,
          3.76,
          3.57,
          3.89,
          3.75,
          3.49,
          3.36,
          3.61,
          3.57,
          3.52,
          3.61,
          3.59,
          3.72,
          3.6,
          3.48,
          3.41,
          4.22,
          3.75,
          3.63,
          3.54,
          3.57,
          3.51,
          3.62,
          3.62,
          3.55,
          3.62,
          3.58,
          3.68,
          3.6,
          3.59,
          3.56,
          4.04,
          3.84,
          3.88,
          3.69,
          3.4,
          3.51,
          3.51,
          3.69,
          3.45,
          3.66,
          3.25,
          3.66,
          3.59,
          3.82,
          3.58,
          3.62,
          3.64,
          3.47,
          3.59,
          3.48,
          3.59,
          3.51,
          3.52,
          3.72,
          3.76,
          3.66,
          3.42,
          3.53,
          3.58,
          3.63,
          3.51,
          3.83,
          3.68,
          3.6,
          3.21,
          3.35,
          3.59,
          3.41,
          3.67,
          3.53,
          3.56,
          3.55,
          3.59,
          3.51,
          3.38,
          3.55,
          3.17,
          3.56,
          3.61,
          3.41,
          3.37,
          3.61,
          3.7,
          3.69,
          3.69,
          3.68,
          3.66,
          3.81,
          3.62,
          3.56,
          3.55,
          3.52,
          3.55,
          3.64,
          3.4,
          3.64,
          3.62,
          3.47,
          3.53,
          3.47,
          3.5,
          3.77,
          4.06,
          3.59,
          3.6,
          3.48,
          3.61,
          3.55,
          3.62,
          3.46,
          3.67,
          3.55,
          3.63,
          3.62,
          3.79,
          3.31,
          3.65,
          3.9,
          3.31,
          3.13,
          3.7,
          3.63,
          3.62,
          3.55,
          3.58,
          3.66,
          3.79,
          3.57,
          3.57,
          3.64,
          3.38,
          3.21,
          3.61,
          3.56,
          3.7,
          3.49,
          3.51,
          3.67,
          3.74,
          3.76,
          3.68,
          3.65,
          3.09,
          3.53,
          3.59,
          3.49,
          3.69,
          3.57,
          3.62,
          3.51,
          3.21,
          3.65,
          3.01,
          3.93,
          3.66,
          3.49,
          3.7,
          3.51,
          3.58,
          3.56,
          3.5,
          3.21,
          3.6,
          3.29,
          3.59,
          3.55,
          3.49,
          3.6,
          3.41,
          3.27,
          3.76,
          3.83,
          3.65,
          3.64,
          3.47,
          3.26,
          3.59,
          3.58,
          3.55,
          3.51,
          3.58,
          3.66,
          3.78,
          3.68,
          3.86,
          3.57,
          3.76,
          3.62,
          3.53,
          3.75,
          3.52,
          3.73,
          3.44,
          3.51,
          3.48,
          3.53,
          3.52,
          3.47,
          3.84,
          3.56,
          3.7,
          3.74,
          3.26,
          3.54,
          3.62,
          3.47,
          3.55,
          3.6,
          3.52,
          3.45,
          3.51,
          3.56,
          3.88,
          3.25,
          3.55,
          3.28,
          3.65,
          3.63,
          3.56,
          3.54,
          3.56,
          3.56,
          3.53,
          3.53,
          3.62,
          3.64,
          3.91,
          3.51,
          3.64,
          3.55,
          3.51,
          3.52,
          3.56,
          3.63,
          3.42,
          3.64,
          3.57,
          3.52,
          3.45,
          3.54,
          2.88,
          3.79,
          3.5,
          3.46,
          3.51,
          3.54,
          3.84,
          3.56,
          3.58,
          3.56,
          3.53,
          2.95,
          3.52,
          3.48,
          3.52,
          3.68,
          3.54,
          3.37,
          3.53,
          3.72,
          3.55,
          3.48,
          3.53,
          3.5,
          3.54,
          3.53,
          3.53,
          3.68,
          3.52,
          3.38,
          3.72,
          3.48,
          3.6,
          3.76,
          3.56,
          3.69,
          3.49,
          3.59,
          3.56,
          3.58,
          3.43,
          3.64,
          3.58,
          3.45,
          3.56,
          3.57,
          3.61,
          3.62,
          3.51,
          3.47,
          3.34,
          3.57,
          3.39,
          3.83,
          4.02,
          3.34,
          4.03,
          4.21,
          4,
          3.42,
          3.2
         ],
         "y0": " ",
         "yaxis": "y"
        },
        {
         "alignmentgroup": "True",
         "box": {
          "visible": true
         },
         "hovertemplate": "Taste Profile=%{x}<br>Taste Profile Value=%{y}<extra></extra>",
         "legendgroup": "avg_tannin",
         "marker": {
          "color": "#00cc96"
         },
         "name": "avg_tannin",
         "offsetgroup": "avg_tannin",
         "orientation": "v",
         "points": "all",
         "scalegroup": "True",
         "showlegend": true,
         "type": "violin",
         "x": [
          "avg_tannin",
          "avg_tannin",
          "avg_tannin",
          "avg_tannin",
          "avg_tannin",
          "avg_tannin",
          "avg_tannin",
          "avg_tannin",
          "avg_tannin",
          "avg_tannin",
          "avg_tannin",
          "avg_tannin",
          "avg_tannin",
          "avg_tannin",
          "avg_tannin",
          "avg_tannin",
          "avg_tannin",
          "avg_tannin",
          "avg_tannin",
          "avg_tannin",
          "avg_tannin",
          "avg_tannin",
          "avg_tannin",
          "avg_tannin",
          "avg_tannin",
          "avg_tannin",
          "avg_tannin",
          "avg_tannin",
          "avg_tannin",
          "avg_tannin",
          "avg_tannin",
          "avg_tannin",
          "avg_tannin",
          "avg_tannin",
          "avg_tannin",
          "avg_tannin",
          "avg_tannin",
          "avg_tannin",
          "avg_tannin",
          "avg_tannin",
          "avg_tannin",
          "avg_tannin",
          "avg_tannin",
          "avg_tannin",
          "avg_tannin",
          "avg_tannin",
          "avg_tannin",
          "avg_tannin",
          "avg_tannin",
          "avg_tannin",
          "avg_tannin",
          "avg_tannin",
          "avg_tannin",
          "avg_tannin",
          "avg_tannin",
          "avg_tannin",
          "avg_tannin",
          "avg_tannin",
          "avg_tannin",
          "avg_tannin",
          "avg_tannin",
          "avg_tannin",
          "avg_tannin",
          "avg_tannin",
          "avg_tannin",
          "avg_tannin",
          "avg_tannin",
          "avg_tannin",
          "avg_tannin",
          "avg_tannin",
          "avg_tannin",
          "avg_tannin",
          "avg_tannin",
          "avg_tannin",
          "avg_tannin",
          "avg_tannin",
          "avg_tannin",
          "avg_tannin",
          "avg_tannin",
          "avg_tannin",
          "avg_tannin",
          "avg_tannin",
          "avg_tannin",
          "avg_tannin",
          "avg_tannin",
          "avg_tannin",
          "avg_tannin",
          "avg_tannin",
          "avg_tannin",
          "avg_tannin",
          "avg_tannin",
          "avg_tannin",
          "avg_tannin",
          "avg_tannin",
          "avg_tannin",
          "avg_tannin",
          "avg_tannin",
          "avg_tannin",
          "avg_tannin",
          "avg_tannin",
          "avg_tannin",
          "avg_tannin",
          "avg_tannin",
          "avg_tannin",
          "avg_tannin",
          "avg_tannin",
          "avg_tannin",
          "avg_tannin",
          "avg_tannin",
          "avg_tannin",
          "avg_tannin",
          "avg_tannin",
          "avg_tannin",
          "avg_tannin",
          "avg_tannin",
          "avg_tannin",
          "avg_tannin",
          "avg_tannin",
          "avg_tannin",
          "avg_tannin",
          "avg_tannin",
          "avg_tannin",
          "avg_tannin",
          "avg_tannin",
          "avg_tannin",
          "avg_tannin",
          "avg_tannin",
          "avg_tannin",
          "avg_tannin",
          "avg_tannin",
          "avg_tannin",
          "avg_tannin",
          "avg_tannin",
          "avg_tannin",
          "avg_tannin",
          "avg_tannin",
          "avg_tannin",
          "avg_tannin",
          "avg_tannin",
          "avg_tannin",
          "avg_tannin",
          "avg_tannin",
          "avg_tannin",
          "avg_tannin",
          "avg_tannin",
          "avg_tannin",
          "avg_tannin",
          "avg_tannin",
          "avg_tannin",
          "avg_tannin",
          "avg_tannin",
          "avg_tannin",
          "avg_tannin",
          "avg_tannin",
          "avg_tannin",
          "avg_tannin",
          "avg_tannin",
          "avg_tannin",
          "avg_tannin",
          "avg_tannin",
          "avg_tannin",
          "avg_tannin",
          "avg_tannin",
          "avg_tannin",
          "avg_tannin",
          "avg_tannin",
          "avg_tannin",
          "avg_tannin",
          "avg_tannin",
          "avg_tannin",
          "avg_tannin",
          "avg_tannin",
          "avg_tannin",
          "avg_tannin",
          "avg_tannin",
          "avg_tannin",
          "avg_tannin",
          "avg_tannin",
          "avg_tannin",
          "avg_tannin",
          "avg_tannin",
          "avg_tannin",
          "avg_tannin",
          "avg_tannin",
          "avg_tannin",
          "avg_tannin",
          "avg_tannin",
          "avg_tannin",
          "avg_tannin",
          "avg_tannin",
          "avg_tannin",
          "avg_tannin",
          "avg_tannin",
          "avg_tannin",
          "avg_tannin",
          "avg_tannin",
          "avg_tannin",
          "avg_tannin",
          "avg_tannin",
          "avg_tannin",
          "avg_tannin",
          "avg_tannin",
          "avg_tannin",
          "avg_tannin",
          "avg_tannin",
          "avg_tannin",
          "avg_tannin",
          "avg_tannin",
          "avg_tannin",
          "avg_tannin",
          "avg_tannin",
          "avg_tannin",
          "avg_tannin",
          "avg_tannin",
          "avg_tannin",
          "avg_tannin",
          "avg_tannin",
          "avg_tannin",
          "avg_tannin",
          "avg_tannin",
          "avg_tannin",
          "avg_tannin",
          "avg_tannin",
          "avg_tannin",
          "avg_tannin",
          "avg_tannin",
          "avg_tannin",
          "avg_tannin",
          "avg_tannin",
          "avg_tannin",
          "avg_tannin",
          "avg_tannin",
          "avg_tannin",
          "avg_tannin",
          "avg_tannin",
          "avg_tannin",
          "avg_tannin",
          "avg_tannin",
          "avg_tannin",
          "avg_tannin",
          "avg_tannin",
          "avg_tannin",
          "avg_tannin",
          "avg_tannin",
          "avg_tannin",
          "avg_tannin",
          "avg_tannin",
          "avg_tannin",
          "avg_tannin",
          "avg_tannin",
          "avg_tannin",
          "avg_tannin",
          "avg_tannin",
          "avg_tannin",
          "avg_tannin",
          "avg_tannin",
          "avg_tannin",
          "avg_tannin",
          "avg_tannin",
          "avg_tannin",
          "avg_tannin",
          "avg_tannin",
          "avg_tannin",
          "avg_tannin",
          "avg_tannin",
          "avg_tannin",
          "avg_tannin",
          "avg_tannin",
          "avg_tannin",
          "avg_tannin",
          "avg_tannin",
          "avg_tannin",
          "avg_tannin",
          "avg_tannin",
          "avg_tannin",
          "avg_tannin",
          "avg_tannin",
          "avg_tannin",
          "avg_tannin",
          "avg_tannin",
          "avg_tannin",
          "avg_tannin",
          "avg_tannin",
          "avg_tannin",
          "avg_tannin",
          "avg_tannin",
          "avg_tannin",
          "avg_tannin",
          "avg_tannin",
          "avg_tannin",
          "avg_tannin",
          "avg_tannin",
          "avg_tannin",
          "avg_tannin",
          "avg_tannin",
          "avg_tannin",
          "avg_tannin",
          "avg_tannin",
          "avg_tannin",
          "avg_tannin",
          "avg_tannin",
          "avg_tannin",
          "avg_tannin",
          "avg_tannin",
          "avg_tannin",
          "avg_tannin",
          "avg_tannin",
          "avg_tannin",
          "avg_tannin",
          "avg_tannin",
          "avg_tannin",
          "avg_tannin",
          "avg_tannin",
          "avg_tannin",
          "avg_tannin",
          "avg_tannin",
          "avg_tannin",
          "avg_tannin",
          "avg_tannin",
          "avg_tannin",
          "avg_tannin",
          "avg_tannin",
          "avg_tannin",
          "avg_tannin",
          "avg_tannin",
          "avg_tannin",
          "avg_tannin",
          "avg_tannin",
          "avg_tannin",
          "avg_tannin",
          "avg_tannin",
          "avg_tannin",
          "avg_tannin",
          "avg_tannin",
          "avg_tannin",
          "avg_tannin",
          "avg_tannin",
          "avg_tannin",
          "avg_tannin",
          "avg_tannin",
          "avg_tannin",
          "avg_tannin",
          "avg_tannin",
          "avg_tannin",
          "avg_tannin",
          "avg_tannin",
          "avg_tannin",
          "avg_tannin",
          "avg_tannin",
          "avg_tannin",
          "avg_tannin",
          "avg_tannin",
          "avg_tannin",
          "avg_tannin",
          "avg_tannin",
          "avg_tannin",
          "avg_tannin",
          "avg_tannin",
          "avg_tannin",
          "avg_tannin",
          "avg_tannin",
          "avg_tannin",
          "avg_tannin",
          "avg_tannin",
          "avg_tannin",
          "avg_tannin",
          "avg_tannin",
          "avg_tannin",
          "avg_tannin",
          "avg_tannin",
          "avg_tannin",
          "avg_tannin",
          "avg_tannin",
          "avg_tannin",
          "avg_tannin",
          "avg_tannin",
          "avg_tannin",
          "avg_tannin",
          "avg_tannin",
          "avg_tannin",
          "avg_tannin",
          "avg_tannin",
          "avg_tannin",
          "avg_tannin",
          "avg_tannin",
          "avg_tannin",
          "avg_tannin",
          "avg_tannin",
          "avg_tannin",
          "avg_tannin",
          "avg_tannin",
          "avg_tannin",
          "avg_tannin",
          "avg_tannin",
          "avg_tannin",
          "avg_tannin",
          "avg_tannin",
          "avg_tannin",
          "avg_tannin",
          "avg_tannin",
          "avg_tannin",
          "avg_tannin",
          "avg_tannin",
          "avg_tannin",
          "avg_tannin",
          "avg_tannin",
          "avg_tannin",
          "avg_tannin",
          "avg_tannin",
          "avg_tannin",
          "avg_tannin",
          "avg_tannin",
          "avg_tannin",
          "avg_tannin",
          "avg_tannin",
          "avg_tannin",
          "avg_tannin",
          "avg_tannin",
          "avg_tannin",
          "avg_tannin",
          "avg_tannin",
          "avg_tannin",
          "avg_tannin",
          "avg_tannin",
          "avg_tannin",
          "avg_tannin",
          "avg_tannin",
          "avg_tannin",
          "avg_tannin",
          "avg_tannin",
          "avg_tannin",
          "avg_tannin",
          "avg_tannin",
          "avg_tannin",
          "avg_tannin",
          "avg_tannin",
          "avg_tannin",
          "avg_tannin",
          "avg_tannin"
         ],
         "x0": " ",
         "xaxis": "x",
         "y": [
          3.2,
          2.99,
          4.08,
          2.78,
          4.12,
          3.15,
          3.55,
          3.1,
          3.12,
          3.49,
          3.5,
          3.57,
          3.56,
          3.49,
          3.41,
          3.45,
          3.37,
          3.25,
          3.42,
          3.53,
          3.07,
          3.17,
          3.46,
          2.9,
          3.3,
          3.5,
          3.44,
          3.48,
          3.42,
          3.55,
          3.41,
          3.41,
          3.44,
          3.35,
          3.32,
          3.44,
          3.42,
          2.86,
          3.39,
          3.66,
          3.02,
          3.57,
          3.56,
          3.51,
          3.23,
          3.33,
          3.48,
          3.39,
          2.8,
          3.6,
          3.53,
          3.42,
          3.42,
          3.38,
          2.87,
          2.86,
          3.33,
          3.71,
          3.26,
          3.96,
          3.95,
          3.42,
          3.4,
          3.44,
          3.02,
          3.44,
          3.45,
          3.31,
          3.65,
          3.55,
          3.68,
          3.66,
          3.66,
          3.82,
          3.47,
          3.39,
          3.23,
          3.51,
          3.43,
          3.48,
          3.5,
          3.77,
          4.05,
          3.43,
          3.33,
          3.03,
          3.43,
          3.5,
          3.42,
          3.43,
          3.35,
          3.28,
          3.39,
          3.33,
          3.42,
          3.65,
          3.24,
          3.46,
          3.48,
          3.39,
          3.36,
          3.04,
          3.48,
          3.75,
          3.58,
          3.39,
          3.53,
          3.48,
          3.42,
          3.39,
          3.55,
          3.44,
          3.41,
          3.85,
          3.5,
          3.48,
          3.48,
          3.36,
          3.46,
          3.31,
          3.48,
          3.44,
          3.48,
          3.44,
          3.45,
          3.42,
          3.51,
          3.33,
          3.47,
          3.54,
          3.37,
          3.41,
          3.32,
          3.4,
          3.5,
          3.45,
          2.62,
          3.46,
          3.66,
          3.44,
          3.59,
          3.52,
          3.4,
          3.26,
          3.33,
          3.42,
          3.4,
          3.4,
          3.82,
          3.43,
          3.46,
          3.42,
          3.35,
          4.24,
          3.52,
          3.42,
          3.42,
          3.32,
          3.43,
          3.59,
          3.41,
          3.38,
          3.44,
          3.44,
          3.48,
          3.46,
          3.48,
          3.41,
          3.71,
          3.52,
          3.62,
          3.57,
          3.35,
          3.38,
          3.41,
          3.34,
          3.41,
          3.45,
          3.2,
          3.44,
          3.47,
          3.58,
          3.33,
          3.4,
          3.36,
          3.45,
          3.32,
          3.35,
          3.5,
          3.43,
          3.35,
          3.53,
          3.52,
          3.42,
          3.37,
          3.32,
          3.48,
          3.51,
          3.38,
          3.61,
          3.57,
          3.44,
          3.24,
          3.38,
          3.42,
          3.31,
          3.4,
          3.33,
          3.49,
          3.49,
          3.51,
          3.4,
          3.29,
          3.44,
          3.25,
          3.39,
          3.48,
          3.26,
          3.29,
          3.46,
          3.51,
          3.48,
          3.49,
          3.53,
          3.45,
          3.64,
          3.55,
          3.41,
          3.31,
          3.43,
          3.38,
          3.5,
          3.24,
          3.44,
          3.35,
          3.39,
          3.38,
          3.37,
          3.38,
          3.71,
          3.85,
          3.38,
          3.35,
          3.38,
          3.44,
          3.45,
          3.46,
          3.38,
          3.5,
          3.3,
          3.44,
          3.5,
          3.36,
          3.37,
          3.36,
          3.62,
          2.61,
          3.12,
          3.55,
          3.54,
          3.49,
          3.34,
          3.44,
          3.6,
          3.25,
          3.42,
          3.32,
          3.48,
          3.37,
          3.16,
          3.45,
          3.42,
          3.48,
          3.33,
          3.39,
          3.41,
          3.61,
          3.42,
          3.49,
          3.56,
          3.03,
          3.36,
          3.42,
          3.45,
          3.51,
          3.46,
          3.46,
          3.45,
          3.03,
          3.63,
          3.35,
          3.87,
          3.49,
          3.45,
          3.59,
          3.3,
          3.41,
          3.44,
          3.38,
          3.08,
          3.4,
          3.16,
          3.47,
          3.4,
          3.4,
          3.36,
          3.36,
          3.29,
          3.44,
          3.8,
          3.35,
          3.46,
          3.37,
          3.13,
          3.46,
          3.38,
          3.41,
          3.42,
          3.33,
          3.57,
          3.44,
          3.59,
          3.56,
          3.4,
          3.56,
          3.45,
          3.37,
          3.53,
          3.42,
          3.52,
          3.38,
          3.43,
          3.38,
          3.46,
          3.33,
          3.35,
          3.74,
          3.46,
          3.57,
          3.68,
          3.19,
          3.37,
          3.37,
          3.44,
          3.51,
          3.4,
          3.34,
          3.4,
          3.36,
          3.35,
          3.69,
          3.12,
          3.37,
          3.25,
          3.49,
          3.44,
          3.34,
          3.42,
          3.4,
          3.39,
          3.33,
          3.56,
          3.57,
          3.51,
          3.5,
          3.41,
          3.47,
          3.3,
          3.45,
          3.37,
          3.46,
          3.51,
          3.47,
          3.47,
          3.35,
          3.34,
          3.31,
          3.37,
          2.69,
          3.63,
          3.41,
          3.4,
          3.39,
          3.49,
          3.48,
          3.41,
          3.41,
          3.45,
          3.28,
          2.96,
          3.37,
          3.39,
          3.32,
          3.4,
          3.34,
          3.34,
          3.32,
          3.56,
          3.42,
          3.37,
          3.43,
          3.41,
          3.34,
          3.32,
          3.36,
          3.49,
          3.48,
          3.33,
          3.48,
          3.43,
          3.55,
          3.68,
          3.47,
          3.54,
          3.36,
          3.42,
          3.41,
          3.41,
          3.42,
          3.51,
          3.43,
          3.35,
          3.43,
          3.42,
          3.48,
          3.45,
          3.38,
          3.39,
          3.3,
          3.48,
          3.33,
          3.56,
          4.1,
          3.53,
          3.94,
          4.07,
          3.87,
          3.2,
          3.28
         ],
         "y0": " ",
         "yaxis": "y"
        }
       ],
       "layout": {
        "boxmode": "overlay",
        "legend": {
         "title": {
          "text": "Taste Profile"
         },
         "tracegroupgap": 0
        },
        "template": {
         "data": {
          "bar": [
           {
            "error_x": {
             "color": "#2a3f5f"
            },
            "error_y": {
             "color": "#2a3f5f"
            },
            "marker": {
             "line": {
              "color": "#E5ECF6",
              "width": 0.5
             },
             "pattern": {
              "fillmode": "overlay",
              "size": 10,
              "solidity": 0.2
             }
            },
            "type": "bar"
           }
          ],
          "barpolar": [
           {
            "marker": {
             "line": {
              "color": "#E5ECF6",
              "width": 0.5
             },
             "pattern": {
              "fillmode": "overlay",
              "size": 10,
              "solidity": 0.2
             }
            },
            "type": "barpolar"
           }
          ],
          "carpet": [
           {
            "aaxis": {
             "endlinecolor": "#2a3f5f",
             "gridcolor": "white",
             "linecolor": "white",
             "minorgridcolor": "white",
             "startlinecolor": "#2a3f5f"
            },
            "baxis": {
             "endlinecolor": "#2a3f5f",
             "gridcolor": "white",
             "linecolor": "white",
             "minorgridcolor": "white",
             "startlinecolor": "#2a3f5f"
            },
            "type": "carpet"
           }
          ],
          "choropleth": [
           {
            "colorbar": {
             "outlinewidth": 0,
             "ticks": ""
            },
            "type": "choropleth"
           }
          ],
          "contour": [
           {
            "colorbar": {
             "outlinewidth": 0,
             "ticks": ""
            },
            "colorscale": [
             [
              0,
              "#0d0887"
             ],
             [
              0.1111111111111111,
              "#46039f"
             ],
             [
              0.2222222222222222,
              "#7201a8"
             ],
             [
              0.3333333333333333,
              "#9c179e"
             ],
             [
              0.4444444444444444,
              "#bd3786"
             ],
             [
              0.5555555555555556,
              "#d8576b"
             ],
             [
              0.6666666666666666,
              "#ed7953"
             ],
             [
              0.7777777777777778,
              "#fb9f3a"
             ],
             [
              0.8888888888888888,
              "#fdca26"
             ],
             [
              1,
              "#f0f921"
             ]
            ],
            "type": "contour"
           }
          ],
          "contourcarpet": [
           {
            "colorbar": {
             "outlinewidth": 0,
             "ticks": ""
            },
            "type": "contourcarpet"
           }
          ],
          "heatmap": [
           {
            "colorbar": {
             "outlinewidth": 0,
             "ticks": ""
            },
            "colorscale": [
             [
              0,
              "#0d0887"
             ],
             [
              0.1111111111111111,
              "#46039f"
             ],
             [
              0.2222222222222222,
              "#7201a8"
             ],
             [
              0.3333333333333333,
              "#9c179e"
             ],
             [
              0.4444444444444444,
              "#bd3786"
             ],
             [
              0.5555555555555556,
              "#d8576b"
             ],
             [
              0.6666666666666666,
              "#ed7953"
             ],
             [
              0.7777777777777778,
              "#fb9f3a"
             ],
             [
              0.8888888888888888,
              "#fdca26"
             ],
             [
              1,
              "#f0f921"
             ]
            ],
            "type": "heatmap"
           }
          ],
          "heatmapgl": [
           {
            "colorbar": {
             "outlinewidth": 0,
             "ticks": ""
            },
            "colorscale": [
             [
              0,
              "#0d0887"
             ],
             [
              0.1111111111111111,
              "#46039f"
             ],
             [
              0.2222222222222222,
              "#7201a8"
             ],
             [
              0.3333333333333333,
              "#9c179e"
             ],
             [
              0.4444444444444444,
              "#bd3786"
             ],
             [
              0.5555555555555556,
              "#d8576b"
             ],
             [
              0.6666666666666666,
              "#ed7953"
             ],
             [
              0.7777777777777778,
              "#fb9f3a"
             ],
             [
              0.8888888888888888,
              "#fdca26"
             ],
             [
              1,
              "#f0f921"
             ]
            ],
            "type": "heatmapgl"
           }
          ],
          "histogram": [
           {
            "marker": {
             "pattern": {
              "fillmode": "overlay",
              "size": 10,
              "solidity": 0.2
             }
            },
            "type": "histogram"
           }
          ],
          "histogram2d": [
           {
            "colorbar": {
             "outlinewidth": 0,
             "ticks": ""
            },
            "colorscale": [
             [
              0,
              "#0d0887"
             ],
             [
              0.1111111111111111,
              "#46039f"
             ],
             [
              0.2222222222222222,
              "#7201a8"
             ],
             [
              0.3333333333333333,
              "#9c179e"
             ],
             [
              0.4444444444444444,
              "#bd3786"
             ],
             [
              0.5555555555555556,
              "#d8576b"
             ],
             [
              0.6666666666666666,
              "#ed7953"
             ],
             [
              0.7777777777777778,
              "#fb9f3a"
             ],
             [
              0.8888888888888888,
              "#fdca26"
             ],
             [
              1,
              "#f0f921"
             ]
            ],
            "type": "histogram2d"
           }
          ],
          "histogram2dcontour": [
           {
            "colorbar": {
             "outlinewidth": 0,
             "ticks": ""
            },
            "colorscale": [
             [
              0,
              "#0d0887"
             ],
             [
              0.1111111111111111,
              "#46039f"
             ],
             [
              0.2222222222222222,
              "#7201a8"
             ],
             [
              0.3333333333333333,
              "#9c179e"
             ],
             [
              0.4444444444444444,
              "#bd3786"
             ],
             [
              0.5555555555555556,
              "#d8576b"
             ],
             [
              0.6666666666666666,
              "#ed7953"
             ],
             [
              0.7777777777777778,
              "#fb9f3a"
             ],
             [
              0.8888888888888888,
              "#fdca26"
             ],
             [
              1,
              "#f0f921"
             ]
            ],
            "type": "histogram2dcontour"
           }
          ],
          "mesh3d": [
           {
            "colorbar": {
             "outlinewidth": 0,
             "ticks": ""
            },
            "type": "mesh3d"
           }
          ],
          "parcoords": [
           {
            "line": {
             "colorbar": {
              "outlinewidth": 0,
              "ticks": ""
             }
            },
            "type": "parcoords"
           }
          ],
          "pie": [
           {
            "automargin": true,
            "type": "pie"
           }
          ],
          "scatter": [
           {
            "fillpattern": {
             "fillmode": "overlay",
             "size": 10,
             "solidity": 0.2
            },
            "type": "scatter"
           }
          ],
          "scatter3d": [
           {
            "line": {
             "colorbar": {
              "outlinewidth": 0,
              "ticks": ""
             }
            },
            "marker": {
             "colorbar": {
              "outlinewidth": 0,
              "ticks": ""
             }
            },
            "type": "scatter3d"
           }
          ],
          "scattercarpet": [
           {
            "marker": {
             "colorbar": {
              "outlinewidth": 0,
              "ticks": ""
             }
            },
            "type": "scattercarpet"
           }
          ],
          "scattergeo": [
           {
            "marker": {
             "colorbar": {
              "outlinewidth": 0,
              "ticks": ""
             }
            },
            "type": "scattergeo"
           }
          ],
          "scattergl": [
           {
            "marker": {
             "colorbar": {
              "outlinewidth": 0,
              "ticks": ""
             }
            },
            "type": "scattergl"
           }
          ],
          "scattermapbox": [
           {
            "marker": {
             "colorbar": {
              "outlinewidth": 0,
              "ticks": ""
             }
            },
            "type": "scattermapbox"
           }
          ],
          "scatterpolar": [
           {
            "marker": {
             "colorbar": {
              "outlinewidth": 0,
              "ticks": ""
             }
            },
            "type": "scatterpolar"
           }
          ],
          "scatterpolargl": [
           {
            "marker": {
             "colorbar": {
              "outlinewidth": 0,
              "ticks": ""
             }
            },
            "type": "scatterpolargl"
           }
          ],
          "scatterternary": [
           {
            "marker": {
             "colorbar": {
              "outlinewidth": 0,
              "ticks": ""
             }
            },
            "type": "scatterternary"
           }
          ],
          "surface": [
           {
            "colorbar": {
             "outlinewidth": 0,
             "ticks": ""
            },
            "colorscale": [
             [
              0,
              "#0d0887"
             ],
             [
              0.1111111111111111,
              "#46039f"
             ],
             [
              0.2222222222222222,
              "#7201a8"
             ],
             [
              0.3333333333333333,
              "#9c179e"
             ],
             [
              0.4444444444444444,
              "#bd3786"
             ],
             [
              0.5555555555555556,
              "#d8576b"
             ],
             [
              0.6666666666666666,
              "#ed7953"
             ],
             [
              0.7777777777777778,
              "#fb9f3a"
             ],
             [
              0.8888888888888888,
              "#fdca26"
             ],
             [
              1,
              "#f0f921"
             ]
            ],
            "type": "surface"
           }
          ],
          "table": [
           {
            "cells": {
             "fill": {
              "color": "#EBF0F8"
             },
             "line": {
              "color": "white"
             }
            },
            "header": {
             "fill": {
              "color": "#C8D4E3"
             },
             "line": {
              "color": "white"
             }
            },
            "type": "table"
           }
          ]
         },
         "layout": {
          "annotationdefaults": {
           "arrowcolor": "#2a3f5f",
           "arrowhead": 0,
           "arrowwidth": 1
          },
          "autotypenumbers": "strict",
          "coloraxis": {
           "colorbar": {
            "outlinewidth": 0,
            "ticks": ""
           }
          },
          "colorscale": {
           "diverging": [
            [
             0,
             "#8e0152"
            ],
            [
             0.1,
             "#c51b7d"
            ],
            [
             0.2,
             "#de77ae"
            ],
            [
             0.3,
             "#f1b6da"
            ],
            [
             0.4,
             "#fde0ef"
            ],
            [
             0.5,
             "#f7f7f7"
            ],
            [
             0.6,
             "#e6f5d0"
            ],
            [
             0.7,
             "#b8e186"
            ],
            [
             0.8,
             "#7fbc41"
            ],
            [
             0.9,
             "#4d9221"
            ],
            [
             1,
             "#276419"
            ]
           ],
           "sequential": [
            [
             0,
             "#0d0887"
            ],
            [
             0.1111111111111111,
             "#46039f"
            ],
            [
             0.2222222222222222,
             "#7201a8"
            ],
            [
             0.3333333333333333,
             "#9c179e"
            ],
            [
             0.4444444444444444,
             "#bd3786"
            ],
            [
             0.5555555555555556,
             "#d8576b"
            ],
            [
             0.6666666666666666,
             "#ed7953"
            ],
            [
             0.7777777777777778,
             "#fb9f3a"
            ],
            [
             0.8888888888888888,
             "#fdca26"
            ],
            [
             1,
             "#f0f921"
            ]
           ],
           "sequentialminus": [
            [
             0,
             "#0d0887"
            ],
            [
             0.1111111111111111,
             "#46039f"
            ],
            [
             0.2222222222222222,
             "#7201a8"
            ],
            [
             0.3333333333333333,
             "#9c179e"
            ],
            [
             0.4444444444444444,
             "#bd3786"
            ],
            [
             0.5555555555555556,
             "#d8576b"
            ],
            [
             0.6666666666666666,
             "#ed7953"
            ],
            [
             0.7777777777777778,
             "#fb9f3a"
            ],
            [
             0.8888888888888888,
             "#fdca26"
            ],
            [
             1,
             "#f0f921"
            ]
           ]
          },
          "colorway": [
           "#636efa",
           "#EF553B",
           "#00cc96",
           "#ab63fa",
           "#FFA15A",
           "#19d3f3",
           "#FF6692",
           "#B6E880",
           "#FF97FF",
           "#FECB52"
          ],
          "font": {
           "color": "#2a3f5f"
          },
          "geo": {
           "bgcolor": "white",
           "lakecolor": "white",
           "landcolor": "#E5ECF6",
           "showlakes": true,
           "showland": true,
           "subunitcolor": "white"
          },
          "hoverlabel": {
           "align": "left"
          },
          "hovermode": "closest",
          "mapbox": {
           "style": "light"
          },
          "paper_bgcolor": "white",
          "plot_bgcolor": "#E5ECF6",
          "polar": {
           "angularaxis": {
            "gridcolor": "white",
            "linecolor": "white",
            "ticks": ""
           },
           "bgcolor": "#E5ECF6",
           "radialaxis": {
            "gridcolor": "white",
            "linecolor": "white",
            "ticks": ""
           }
          },
          "scene": {
           "xaxis": {
            "backgroundcolor": "#E5ECF6",
            "gridcolor": "white",
            "gridwidth": 2,
            "linecolor": "white",
            "showbackground": true,
            "ticks": "",
            "zerolinecolor": "white"
           },
           "yaxis": {
            "backgroundcolor": "#E5ECF6",
            "gridcolor": "white",
            "gridwidth": 2,
            "linecolor": "white",
            "showbackground": true,
            "ticks": "",
            "zerolinecolor": "white"
           },
           "zaxis": {
            "backgroundcolor": "#E5ECF6",
            "gridcolor": "white",
            "gridwidth": 2,
            "linecolor": "white",
            "showbackground": true,
            "ticks": "",
            "zerolinecolor": "white"
           }
          },
          "shapedefaults": {
           "line": {
            "color": "#2a3f5f"
           }
          },
          "ternary": {
           "aaxis": {
            "gridcolor": "white",
            "linecolor": "white",
            "ticks": ""
           },
           "baxis": {
            "gridcolor": "white",
            "linecolor": "white",
            "ticks": ""
           },
           "bgcolor": "#E5ECF6",
           "caxis": {
            "gridcolor": "white",
            "linecolor": "white",
            "ticks": ""
           }
          },
          "title": {
           "x": 0.05
          },
          "xaxis": {
           "automargin": true,
           "gridcolor": "white",
           "linecolor": "white",
           "ticks": "",
           "title": {
            "standoff": 15
           },
           "zerolinecolor": "white",
           "zerolinewidth": 2
          },
          "yaxis": {
           "automargin": true,
           "gridcolor": "white",
           "linecolor": "white",
           "ticks": "",
           "title": {
            "standoff": 15
           },
           "zerolinecolor": "white",
           "zerolinewidth": 2
          }
         }
        },
        "title": {
         "text": "Distribution of Wines Across Different Taste Profiles",
         "x": 0.5
        },
        "violinmode": "overlay",
        "xaxis": {
         "anchor": "y",
         "categoryarray": [
          "avg_sweetness",
          "avg_acidity",
          "avg_tannin"
         ],
         "categoryorder": "array",
         "domain": [
          0,
          1
         ],
         "title": {
          "text": "Taste Profile"
         }
        },
        "yaxis": {
         "anchor": "x",
         "domain": [
          0,
          1
         ],
         "title": {
          "text": "Value"
         }
        }
       }
      }
     },
     "metadata": {},
     "output_type": "display_data"
    }
   ],
   "source": [
    "df_melted = df.melt(id_vars='avg_ratings_average', value_vars=['avg_sweetness', 'avg_acidity', 'avg_tannin'],\n",
    "                     var_name='Taste Profile', value_name='Value')\n",
    "\n",
    "# Create the violin plot\n",
    "fig = px.violin(\n",
    "    df_melted,\n",
    "    y='Value',\n",
    "    x='Taste Profile',\n",
    "    color='Taste Profile',\n",
    "    box=True,\n",
    "    points='all',\n",
    "    title='Distribution of Wines Across Different Taste Profiles',\n",
    "    labels={\n",
    "        'Value': 'Taste Profile Value',\n",
    "        'Taste Profile': 'Taste Profile'\n",
    "    }\n",
    ")\n",
    "\n",
    "# Update layout for better appearance\n",
    "fig.update_layout(\n",
    "    xaxis_title='Taste Profile',\n",
    "    yaxis_title='Value',\n",
    "    boxmode='overlay',  # Overlay the box plot on the violin plot\n",
    "    title_x=0.5  # Center the title\n",
    ")\n",
    "\n",
    "# Show the plot\n",
    "fig.show()"
   ]
  },
  {
   "cell_type": "code",
   "execution_count": null,
   "metadata": {},
   "outputs": [],
   "source": []
  },
  {
   "cell_type": "code",
   "execution_count": 14,
   "metadata": {},
   "outputs": [
    {
     "data": {
      "application/vnd.plotly.v1+json": {
       "config": {
        "plotlyServerURL": "https://plot.ly"
       },
       "data": [
        {
         "alignmentgroup": "True",
         "bingroup": "x",
         "hovertemplate": "Taste Profile=avg_sweetness<br>Taste Profile Value=%{x}<br>count=%{y}<extra></extra>",
         "legendgroup": "avg_sweetness",
         "marker": {
          "color": "#636efa",
          "pattern": {
           "shape": ""
          }
         },
         "name": "avg_sweetness",
         "nbinsx": 10,
         "offsetgroup": "avg_sweetness",
         "orientation": "v",
         "showlegend": true,
         "type": "histogram",
         "x": [
          1.92,
          2.08,
          1.65,
          1.9,
          1.67,
          1.64,
          1.65,
          1.61,
          2.21,
          2.22
         ],
         "xaxis": "x",
         "yaxis": "y"
        },
        {
         "alignmentgroup": "True",
         "bingroup": "x",
         "hovertemplate": "Taste Profile=avg_acidity<br>Taste Profile Value=%{x}<br>count=%{y}<extra></extra>",
         "legendgroup": "avg_acidity",
         "marker": {
          "color": "#EF553B",
          "pattern": {
           "shape": ""
          }
         },
         "name": "avg_acidity",
         "nbinsx": 10,
         "offsetgroup": "avg_acidity",
         "orientation": "v",
         "showlegend": true,
         "type": "histogram",
         "x": [
          3.31,
          2.88,
          3.53,
          3.06,
          4.12,
          4.03,
          4.21,
          4,
          3.42,
          3.2
         ],
         "xaxis": "x2",
         "yaxis": "y2"
        },
        {
         "alignmentgroup": "True",
         "bingroup": "x",
         "hovertemplate": "Taste Profile=avg_tannin<br>Taste Profile Value=%{x}<br>count=%{y}<extra></extra>",
         "legendgroup": "avg_tannin",
         "marker": {
          "color": "#00cc96",
          "pattern": {
           "shape": ""
          }
         },
         "name": "avg_tannin",
         "nbinsx": 10,
         "offsetgroup": "avg_tannin",
         "orientation": "v",
         "showlegend": true,
         "type": "histogram",
         "x": [
          3.2,
          2.99,
          4.08,
          2.78,
          4.12,
          3.94,
          4.07,
          3.87,
          3.2,
          3.28
         ],
         "xaxis": "x3",
         "yaxis": "y3"
        }
       ],
       "layout": {
        "annotations": [
         {
          "font": {},
          "showarrow": false,
          "text": "Taste Profile=avg_sweetness",
          "x": 0.15999999999999998,
          "xanchor": "center",
          "xref": "paper",
          "y": 1,
          "yanchor": "bottom",
          "yref": "paper"
         },
         {
          "font": {},
          "showarrow": false,
          "text": "Taste Profile=avg_acidity",
          "x": 0.49999999999999994,
          "xanchor": "center",
          "xref": "paper",
          "y": 1,
          "yanchor": "bottom",
          "yref": "paper"
         },
         {
          "font": {},
          "showarrow": false,
          "text": "Taste Profile=avg_tannin",
          "x": 0.8399999999999999,
          "xanchor": "center",
          "xref": "paper",
          "y": 1,
          "yanchor": "bottom",
          "yref": "paper"
         }
        ],
        "barmode": "relative",
        "legend": {
         "title": {
          "text": "Taste Profile"
         },
         "tracegroupgap": 0
        },
        "template": {
         "data": {
          "bar": [
           {
            "error_x": {
             "color": "#2a3f5f"
            },
            "error_y": {
             "color": "#2a3f5f"
            },
            "marker": {
             "line": {
              "color": "#E5ECF6",
              "width": 0.5
             },
             "pattern": {
              "fillmode": "overlay",
              "size": 10,
              "solidity": 0.2
             }
            },
            "type": "bar"
           }
          ],
          "barpolar": [
           {
            "marker": {
             "line": {
              "color": "#E5ECF6",
              "width": 0.5
             },
             "pattern": {
              "fillmode": "overlay",
              "size": 10,
              "solidity": 0.2
             }
            },
            "type": "barpolar"
           }
          ],
          "carpet": [
           {
            "aaxis": {
             "endlinecolor": "#2a3f5f",
             "gridcolor": "white",
             "linecolor": "white",
             "minorgridcolor": "white",
             "startlinecolor": "#2a3f5f"
            },
            "baxis": {
             "endlinecolor": "#2a3f5f",
             "gridcolor": "white",
             "linecolor": "white",
             "minorgridcolor": "white",
             "startlinecolor": "#2a3f5f"
            },
            "type": "carpet"
           }
          ],
          "choropleth": [
           {
            "colorbar": {
             "outlinewidth": 0,
             "ticks": ""
            },
            "type": "choropleth"
           }
          ],
          "contour": [
           {
            "colorbar": {
             "outlinewidth": 0,
             "ticks": ""
            },
            "colorscale": [
             [
              0,
              "#0d0887"
             ],
             [
              0.1111111111111111,
              "#46039f"
             ],
             [
              0.2222222222222222,
              "#7201a8"
             ],
             [
              0.3333333333333333,
              "#9c179e"
             ],
             [
              0.4444444444444444,
              "#bd3786"
             ],
             [
              0.5555555555555556,
              "#d8576b"
             ],
             [
              0.6666666666666666,
              "#ed7953"
             ],
             [
              0.7777777777777778,
              "#fb9f3a"
             ],
             [
              0.8888888888888888,
              "#fdca26"
             ],
             [
              1,
              "#f0f921"
             ]
            ],
            "type": "contour"
           }
          ],
          "contourcarpet": [
           {
            "colorbar": {
             "outlinewidth": 0,
             "ticks": ""
            },
            "type": "contourcarpet"
           }
          ],
          "heatmap": [
           {
            "colorbar": {
             "outlinewidth": 0,
             "ticks": ""
            },
            "colorscale": [
             [
              0,
              "#0d0887"
             ],
             [
              0.1111111111111111,
              "#46039f"
             ],
             [
              0.2222222222222222,
              "#7201a8"
             ],
             [
              0.3333333333333333,
              "#9c179e"
             ],
             [
              0.4444444444444444,
              "#bd3786"
             ],
             [
              0.5555555555555556,
              "#d8576b"
             ],
             [
              0.6666666666666666,
              "#ed7953"
             ],
             [
              0.7777777777777778,
              "#fb9f3a"
             ],
             [
              0.8888888888888888,
              "#fdca26"
             ],
             [
              1,
              "#f0f921"
             ]
            ],
            "type": "heatmap"
           }
          ],
          "heatmapgl": [
           {
            "colorbar": {
             "outlinewidth": 0,
             "ticks": ""
            },
            "colorscale": [
             [
              0,
              "#0d0887"
             ],
             [
              0.1111111111111111,
              "#46039f"
             ],
             [
              0.2222222222222222,
              "#7201a8"
             ],
             [
              0.3333333333333333,
              "#9c179e"
             ],
             [
              0.4444444444444444,
              "#bd3786"
             ],
             [
              0.5555555555555556,
              "#d8576b"
             ],
             [
              0.6666666666666666,
              "#ed7953"
             ],
             [
              0.7777777777777778,
              "#fb9f3a"
             ],
             [
              0.8888888888888888,
              "#fdca26"
             ],
             [
              1,
              "#f0f921"
             ]
            ],
            "type": "heatmapgl"
           }
          ],
          "histogram": [
           {
            "marker": {
             "pattern": {
              "fillmode": "overlay",
              "size": 10,
              "solidity": 0.2
             }
            },
            "type": "histogram"
           }
          ],
          "histogram2d": [
           {
            "colorbar": {
             "outlinewidth": 0,
             "ticks": ""
            },
            "colorscale": [
             [
              0,
              "#0d0887"
             ],
             [
              0.1111111111111111,
              "#46039f"
             ],
             [
              0.2222222222222222,
              "#7201a8"
             ],
             [
              0.3333333333333333,
              "#9c179e"
             ],
             [
              0.4444444444444444,
              "#bd3786"
             ],
             [
              0.5555555555555556,
              "#d8576b"
             ],
             [
              0.6666666666666666,
              "#ed7953"
             ],
             [
              0.7777777777777778,
              "#fb9f3a"
             ],
             [
              0.8888888888888888,
              "#fdca26"
             ],
             [
              1,
              "#f0f921"
             ]
            ],
            "type": "histogram2d"
           }
          ],
          "histogram2dcontour": [
           {
            "colorbar": {
             "outlinewidth": 0,
             "ticks": ""
            },
            "colorscale": [
             [
              0,
              "#0d0887"
             ],
             [
              0.1111111111111111,
              "#46039f"
             ],
             [
              0.2222222222222222,
              "#7201a8"
             ],
             [
              0.3333333333333333,
              "#9c179e"
             ],
             [
              0.4444444444444444,
              "#bd3786"
             ],
             [
              0.5555555555555556,
              "#d8576b"
             ],
             [
              0.6666666666666666,
              "#ed7953"
             ],
             [
              0.7777777777777778,
              "#fb9f3a"
             ],
             [
              0.8888888888888888,
              "#fdca26"
             ],
             [
              1,
              "#f0f921"
             ]
            ],
            "type": "histogram2dcontour"
           }
          ],
          "mesh3d": [
           {
            "colorbar": {
             "outlinewidth": 0,
             "ticks": ""
            },
            "type": "mesh3d"
           }
          ],
          "parcoords": [
           {
            "line": {
             "colorbar": {
              "outlinewidth": 0,
              "ticks": ""
             }
            },
            "type": "parcoords"
           }
          ],
          "pie": [
           {
            "automargin": true,
            "type": "pie"
           }
          ],
          "scatter": [
           {
            "fillpattern": {
             "fillmode": "overlay",
             "size": 10,
             "solidity": 0.2
            },
            "type": "scatter"
           }
          ],
          "scatter3d": [
           {
            "line": {
             "colorbar": {
              "outlinewidth": 0,
              "ticks": ""
             }
            },
            "marker": {
             "colorbar": {
              "outlinewidth": 0,
              "ticks": ""
             }
            },
            "type": "scatter3d"
           }
          ],
          "scattercarpet": [
           {
            "marker": {
             "colorbar": {
              "outlinewidth": 0,
              "ticks": ""
             }
            },
            "type": "scattercarpet"
           }
          ],
          "scattergeo": [
           {
            "marker": {
             "colorbar": {
              "outlinewidth": 0,
              "ticks": ""
             }
            },
            "type": "scattergeo"
           }
          ],
          "scattergl": [
           {
            "marker": {
             "colorbar": {
              "outlinewidth": 0,
              "ticks": ""
             }
            },
            "type": "scattergl"
           }
          ],
          "scattermapbox": [
           {
            "marker": {
             "colorbar": {
              "outlinewidth": 0,
              "ticks": ""
             }
            },
            "type": "scattermapbox"
           }
          ],
          "scatterpolar": [
           {
            "marker": {
             "colorbar": {
              "outlinewidth": 0,
              "ticks": ""
             }
            },
            "type": "scatterpolar"
           }
          ],
          "scatterpolargl": [
           {
            "marker": {
             "colorbar": {
              "outlinewidth": 0,
              "ticks": ""
             }
            },
            "type": "scatterpolargl"
           }
          ],
          "scatterternary": [
           {
            "marker": {
             "colorbar": {
              "outlinewidth": 0,
              "ticks": ""
             }
            },
            "type": "scatterternary"
           }
          ],
          "surface": [
           {
            "colorbar": {
             "outlinewidth": 0,
             "ticks": ""
            },
            "colorscale": [
             [
              0,
              "#0d0887"
             ],
             [
              0.1111111111111111,
              "#46039f"
             ],
             [
              0.2222222222222222,
              "#7201a8"
             ],
             [
              0.3333333333333333,
              "#9c179e"
             ],
             [
              0.4444444444444444,
              "#bd3786"
             ],
             [
              0.5555555555555556,
              "#d8576b"
             ],
             [
              0.6666666666666666,
              "#ed7953"
             ],
             [
              0.7777777777777778,
              "#fb9f3a"
             ],
             [
              0.8888888888888888,
              "#fdca26"
             ],
             [
              1,
              "#f0f921"
             ]
            ],
            "type": "surface"
           }
          ],
          "table": [
           {
            "cells": {
             "fill": {
              "color": "#EBF0F8"
             },
             "line": {
              "color": "white"
             }
            },
            "header": {
             "fill": {
              "color": "#C8D4E3"
             },
             "line": {
              "color": "white"
             }
            },
            "type": "table"
           }
          ]
         },
         "layout": {
          "annotationdefaults": {
           "arrowcolor": "#2a3f5f",
           "arrowhead": 0,
           "arrowwidth": 1
          },
          "autotypenumbers": "strict",
          "coloraxis": {
           "colorbar": {
            "outlinewidth": 0,
            "ticks": ""
           }
          },
          "colorscale": {
           "diverging": [
            [
             0,
             "#8e0152"
            ],
            [
             0.1,
             "#c51b7d"
            ],
            [
             0.2,
             "#de77ae"
            ],
            [
             0.3,
             "#f1b6da"
            ],
            [
             0.4,
             "#fde0ef"
            ],
            [
             0.5,
             "#f7f7f7"
            ],
            [
             0.6,
             "#e6f5d0"
            ],
            [
             0.7,
             "#b8e186"
            ],
            [
             0.8,
             "#7fbc41"
            ],
            [
             0.9,
             "#4d9221"
            ],
            [
             1,
             "#276419"
            ]
           ],
           "sequential": [
            [
             0,
             "#0d0887"
            ],
            [
             0.1111111111111111,
             "#46039f"
            ],
            [
             0.2222222222222222,
             "#7201a8"
            ],
            [
             0.3333333333333333,
             "#9c179e"
            ],
            [
             0.4444444444444444,
             "#bd3786"
            ],
            [
             0.5555555555555556,
             "#d8576b"
            ],
            [
             0.6666666666666666,
             "#ed7953"
            ],
            [
             0.7777777777777778,
             "#fb9f3a"
            ],
            [
             0.8888888888888888,
             "#fdca26"
            ],
            [
             1,
             "#f0f921"
            ]
           ],
           "sequentialminus": [
            [
             0,
             "#0d0887"
            ],
            [
             0.1111111111111111,
             "#46039f"
            ],
            [
             0.2222222222222222,
             "#7201a8"
            ],
            [
             0.3333333333333333,
             "#9c179e"
            ],
            [
             0.4444444444444444,
             "#bd3786"
            ],
            [
             0.5555555555555556,
             "#d8576b"
            ],
            [
             0.6666666666666666,
             "#ed7953"
            ],
            [
             0.7777777777777778,
             "#fb9f3a"
            ],
            [
             0.8888888888888888,
             "#fdca26"
            ],
            [
             1,
             "#f0f921"
            ]
           ]
          },
          "colorway": [
           "#636efa",
           "#EF553B",
           "#00cc96",
           "#ab63fa",
           "#FFA15A",
           "#19d3f3",
           "#FF6692",
           "#B6E880",
           "#FF97FF",
           "#FECB52"
          ],
          "font": {
           "color": "#2a3f5f"
          },
          "geo": {
           "bgcolor": "white",
           "lakecolor": "white",
           "landcolor": "#E5ECF6",
           "showlakes": true,
           "showland": true,
           "subunitcolor": "white"
          },
          "hoverlabel": {
           "align": "left"
          },
          "hovermode": "closest",
          "mapbox": {
           "style": "light"
          },
          "paper_bgcolor": "white",
          "plot_bgcolor": "#E5ECF6",
          "polar": {
           "angularaxis": {
            "gridcolor": "white",
            "linecolor": "white",
            "ticks": ""
           },
           "bgcolor": "#E5ECF6",
           "radialaxis": {
            "gridcolor": "white",
            "linecolor": "white",
            "ticks": ""
           }
          },
          "scene": {
           "xaxis": {
            "backgroundcolor": "#E5ECF6",
            "gridcolor": "white",
            "gridwidth": 2,
            "linecolor": "white",
            "showbackground": true,
            "ticks": "",
            "zerolinecolor": "white"
           },
           "yaxis": {
            "backgroundcolor": "#E5ECF6",
            "gridcolor": "white",
            "gridwidth": 2,
            "linecolor": "white",
            "showbackground": true,
            "ticks": "",
            "zerolinecolor": "white"
           },
           "zaxis": {
            "backgroundcolor": "#E5ECF6",
            "gridcolor": "white",
            "gridwidth": 2,
            "linecolor": "white",
            "showbackground": true,
            "ticks": "",
            "zerolinecolor": "white"
           }
          },
          "shapedefaults": {
           "line": {
            "color": "#2a3f5f"
           }
          },
          "ternary": {
           "aaxis": {
            "gridcolor": "white",
            "linecolor": "white",
            "ticks": ""
           },
           "baxis": {
            "gridcolor": "white",
            "linecolor": "white",
            "ticks": ""
           },
           "bgcolor": "#E5ECF6",
           "caxis": {
            "gridcolor": "white",
            "linecolor": "white",
            "ticks": ""
           }
          },
          "title": {
           "x": 0.05
          },
          "xaxis": {
           "automargin": true,
           "gridcolor": "white",
           "linecolor": "white",
           "ticks": "",
           "title": {
            "standoff": 15
           },
           "zerolinecolor": "white",
           "zerolinewidth": 2
          },
          "yaxis": {
           "automargin": true,
           "gridcolor": "white",
           "linecolor": "white",
           "ticks": "",
           "title": {
            "standoff": 15
           },
           "zerolinecolor": "white",
           "zerolinewidth": 2
          }
         }
        },
        "title": {
         "text": "Distribution of Wines Across Different Taste Profiles ",
         "x": 0.5
        },
        "xaxis": {
         "anchor": "y",
         "domain": [
          0,
          0.31999999999999995
         ],
         "title": {
          "text": "Taste Profile Value"
         }
        },
        "xaxis2": {
         "anchor": "y2",
         "domain": [
          0.33999999999999997,
          0.6599999999999999
         ],
         "matches": "x",
         "title": {
          "text": "Taste Profile Value"
         }
        },
        "xaxis3": {
         "anchor": "y3",
         "domain": [
          0.6799999999999999,
          0.9999999999999999
         ],
         "matches": "x",
         "title": {
          "text": "Taste Profile Value"
         }
        },
        "yaxis": {
         "anchor": "x",
         "domain": [
          0,
          1
         ],
         "title": {
          "text": "Count"
         }
        },
        "yaxis2": {
         "anchor": "x2",
         "domain": [
          0,
          1
         ],
         "matches": "y",
         "showticklabels": false
        },
        "yaxis3": {
         "anchor": "x3",
         "domain": [
          0,
          1
         ],
         "matches": "y",
         "showticklabels": false
        }
       }
      }
     },
     "metadata": {},
     "output_type": "display_data"
    }
   ],
   "source": [
    "fig = px.histogram(\n",
    "    df_melted,\n",
    "    x='Value',\n",
    "    color='Taste Profile',\n",
    "    facet_col='Taste Profile',\n",
    "    nbins=10,\n",
    "    title='Distribution of Wines Across Different Taste Profiles ',\n",
    "    labels={\n",
    "        'Value': 'Taste Profile Value',\n",
    "        'Taste Profile': 'Taste Profile'\n",
    "    }\n",
    ")\n",
    "\n",
    "# Update layout for better appearance\n",
    "fig.update_layout(\n",
    "    xaxis_title='Taste Profile Value',\n",
    "    yaxis_title='Count',\n",
    "    \n",
    "    # facet_col_title='Taste Profile',\n",
    "    title_x=0.5  # Center the title\n",
    ")\n",
    "\n",
    "# Show the plot\n",
    "fig.show()"
   ]
  },
  {
   "cell_type": "code",
   "execution_count": 8,
   "metadata": {},
   "outputs": [
    {
     "ename": "SyntaxError",
     "evalue": "unterminated string literal (detected at line 5) (3166052164.py, line 5)",
     "output_type": "error",
     "traceback": [
      "\u001b[1;36m  Cell \u001b[1;32mIn[8], line 5\u001b[1;36m\u001b[0m\n\u001b[1;33m    title='Distribution of Wines Across Different Taste Profiles ,\u001b[0m\n\u001b[1;37m          ^\u001b[0m\n\u001b[1;31mSyntaxError\u001b[0m\u001b[1;31m:\u001b[0m unterminated string literal (detected at line 5)\n"
     ]
    }
   ],
   "source": [
    "fig = px.box(\n",
    "    df_melted,\n",
    "    y='Value',\n",
    "    color='Taste Profile',\n",
    "    title='Distribution of Wines Across Different Taste Profiles ,\n",
    "    labels={\n",
    "        'Value': 'Taste Profile Value',\n",
    "        'Taste Profile': 'Taste Profile'\n",
    "    }\n",
    ")\n",
    "\n",
    "# Update layout for better appearance\n",
    "fig.update_layout(\n",
    "    xaxis_title='Taste Profile',\n",
    "    yaxis_title='Taste Profile Value',\n",
    "    title_x=0.5  # Center the title\n",
    ")\n",
    "fig.show()"
   ]
  },
  {
   "cell_type": "code",
   "execution_count": 16,
   "metadata": {},
   "outputs": [
    {
     "data": {
      "application/vnd.plotly.v1+json": {
       "config": {
        "plotlyServerURL": "https://plot.ly"
       },
       "data": [
        {
         "alignmentgroup": "True",
         "bingroup": "x",
         "hovertemplate": "Sweetness Value=%{x}<br>count=%{y}<extra></extra>",
         "legendgroup": "",
         "marker": {
          "color": "#636efa",
          "pattern": {
           "shape": ""
          }
         },
         "name": "",
         "nbinsx": 10,
         "offsetgroup": "",
         "orientation": "v",
         "showlegend": false,
         "type": "histogram",
         "x": [
          1.92,
          2.08,
          1.65,
          1.9,
          1.67,
          1.64,
          1.65,
          1.61,
          2.21,
          2.22
         ],
         "xaxis": "x",
         "yaxis": "y"
        }
       ],
       "layout": {
        "barmode": "relative",
        "legend": {
         "tracegroupgap": 0
        },
        "template": {
         "data": {
          "bar": [
           {
            "error_x": {
             "color": "#2a3f5f"
            },
            "error_y": {
             "color": "#2a3f5f"
            },
            "marker": {
             "line": {
              "color": "#E5ECF6",
              "width": 0.5
             },
             "pattern": {
              "fillmode": "overlay",
              "size": 10,
              "solidity": 0.2
             }
            },
            "type": "bar"
           }
          ],
          "barpolar": [
           {
            "marker": {
             "line": {
              "color": "#E5ECF6",
              "width": 0.5
             },
             "pattern": {
              "fillmode": "overlay",
              "size": 10,
              "solidity": 0.2
             }
            },
            "type": "barpolar"
           }
          ],
          "carpet": [
           {
            "aaxis": {
             "endlinecolor": "#2a3f5f",
             "gridcolor": "white",
             "linecolor": "white",
             "minorgridcolor": "white",
             "startlinecolor": "#2a3f5f"
            },
            "baxis": {
             "endlinecolor": "#2a3f5f",
             "gridcolor": "white",
             "linecolor": "white",
             "minorgridcolor": "white",
             "startlinecolor": "#2a3f5f"
            },
            "type": "carpet"
           }
          ],
          "choropleth": [
           {
            "colorbar": {
             "outlinewidth": 0,
             "ticks": ""
            },
            "type": "choropleth"
           }
          ],
          "contour": [
           {
            "colorbar": {
             "outlinewidth": 0,
             "ticks": ""
            },
            "colorscale": [
             [
              0,
              "#0d0887"
             ],
             [
              0.1111111111111111,
              "#46039f"
             ],
             [
              0.2222222222222222,
              "#7201a8"
             ],
             [
              0.3333333333333333,
              "#9c179e"
             ],
             [
              0.4444444444444444,
              "#bd3786"
             ],
             [
              0.5555555555555556,
              "#d8576b"
             ],
             [
              0.6666666666666666,
              "#ed7953"
             ],
             [
              0.7777777777777778,
              "#fb9f3a"
             ],
             [
              0.8888888888888888,
              "#fdca26"
             ],
             [
              1,
              "#f0f921"
             ]
            ],
            "type": "contour"
           }
          ],
          "contourcarpet": [
           {
            "colorbar": {
             "outlinewidth": 0,
             "ticks": ""
            },
            "type": "contourcarpet"
           }
          ],
          "heatmap": [
           {
            "colorbar": {
             "outlinewidth": 0,
             "ticks": ""
            },
            "colorscale": [
             [
              0,
              "#0d0887"
             ],
             [
              0.1111111111111111,
              "#46039f"
             ],
             [
              0.2222222222222222,
              "#7201a8"
             ],
             [
              0.3333333333333333,
              "#9c179e"
             ],
             [
              0.4444444444444444,
              "#bd3786"
             ],
             [
              0.5555555555555556,
              "#d8576b"
             ],
             [
              0.6666666666666666,
              "#ed7953"
             ],
             [
              0.7777777777777778,
              "#fb9f3a"
             ],
             [
              0.8888888888888888,
              "#fdca26"
             ],
             [
              1,
              "#f0f921"
             ]
            ],
            "type": "heatmap"
           }
          ],
          "heatmapgl": [
           {
            "colorbar": {
             "outlinewidth": 0,
             "ticks": ""
            },
            "colorscale": [
             [
              0,
              "#0d0887"
             ],
             [
              0.1111111111111111,
              "#46039f"
             ],
             [
              0.2222222222222222,
              "#7201a8"
             ],
             [
              0.3333333333333333,
              "#9c179e"
             ],
             [
              0.4444444444444444,
              "#bd3786"
             ],
             [
              0.5555555555555556,
              "#d8576b"
             ],
             [
              0.6666666666666666,
              "#ed7953"
             ],
             [
              0.7777777777777778,
              "#fb9f3a"
             ],
             [
              0.8888888888888888,
              "#fdca26"
             ],
             [
              1,
              "#f0f921"
             ]
            ],
            "type": "heatmapgl"
           }
          ],
          "histogram": [
           {
            "marker": {
             "pattern": {
              "fillmode": "overlay",
              "size": 10,
              "solidity": 0.2
             }
            },
            "type": "histogram"
           }
          ],
          "histogram2d": [
           {
            "colorbar": {
             "outlinewidth": 0,
             "ticks": ""
            },
            "colorscale": [
             [
              0,
              "#0d0887"
             ],
             [
              0.1111111111111111,
              "#46039f"
             ],
             [
              0.2222222222222222,
              "#7201a8"
             ],
             [
              0.3333333333333333,
              "#9c179e"
             ],
             [
              0.4444444444444444,
              "#bd3786"
             ],
             [
              0.5555555555555556,
              "#d8576b"
             ],
             [
              0.6666666666666666,
              "#ed7953"
             ],
             [
              0.7777777777777778,
              "#fb9f3a"
             ],
             [
              0.8888888888888888,
              "#fdca26"
             ],
             [
              1,
              "#f0f921"
             ]
            ],
            "type": "histogram2d"
           }
          ],
          "histogram2dcontour": [
           {
            "colorbar": {
             "outlinewidth": 0,
             "ticks": ""
            },
            "colorscale": [
             [
              0,
              "#0d0887"
             ],
             [
              0.1111111111111111,
              "#46039f"
             ],
             [
              0.2222222222222222,
              "#7201a8"
             ],
             [
              0.3333333333333333,
              "#9c179e"
             ],
             [
              0.4444444444444444,
              "#bd3786"
             ],
             [
              0.5555555555555556,
              "#d8576b"
             ],
             [
              0.6666666666666666,
              "#ed7953"
             ],
             [
              0.7777777777777778,
              "#fb9f3a"
             ],
             [
              0.8888888888888888,
              "#fdca26"
             ],
             [
              1,
              "#f0f921"
             ]
            ],
            "type": "histogram2dcontour"
           }
          ],
          "mesh3d": [
           {
            "colorbar": {
             "outlinewidth": 0,
             "ticks": ""
            },
            "type": "mesh3d"
           }
          ],
          "parcoords": [
           {
            "line": {
             "colorbar": {
              "outlinewidth": 0,
              "ticks": ""
             }
            },
            "type": "parcoords"
           }
          ],
          "pie": [
           {
            "automargin": true,
            "type": "pie"
           }
          ],
          "scatter": [
           {
            "fillpattern": {
             "fillmode": "overlay",
             "size": 10,
             "solidity": 0.2
            },
            "type": "scatter"
           }
          ],
          "scatter3d": [
           {
            "line": {
             "colorbar": {
              "outlinewidth": 0,
              "ticks": ""
             }
            },
            "marker": {
             "colorbar": {
              "outlinewidth": 0,
              "ticks": ""
             }
            },
            "type": "scatter3d"
           }
          ],
          "scattercarpet": [
           {
            "marker": {
             "colorbar": {
              "outlinewidth": 0,
              "ticks": ""
             }
            },
            "type": "scattercarpet"
           }
          ],
          "scattergeo": [
           {
            "marker": {
             "colorbar": {
              "outlinewidth": 0,
              "ticks": ""
             }
            },
            "type": "scattergeo"
           }
          ],
          "scattergl": [
           {
            "marker": {
             "colorbar": {
              "outlinewidth": 0,
              "ticks": ""
             }
            },
            "type": "scattergl"
           }
          ],
          "scattermapbox": [
           {
            "marker": {
             "colorbar": {
              "outlinewidth": 0,
              "ticks": ""
             }
            },
            "type": "scattermapbox"
           }
          ],
          "scatterpolar": [
           {
            "marker": {
             "colorbar": {
              "outlinewidth": 0,
              "ticks": ""
             }
            },
            "type": "scatterpolar"
           }
          ],
          "scatterpolargl": [
           {
            "marker": {
             "colorbar": {
              "outlinewidth": 0,
              "ticks": ""
             }
            },
            "type": "scatterpolargl"
           }
          ],
          "scatterternary": [
           {
            "marker": {
             "colorbar": {
              "outlinewidth": 0,
              "ticks": ""
             }
            },
            "type": "scatterternary"
           }
          ],
          "surface": [
           {
            "colorbar": {
             "outlinewidth": 0,
             "ticks": ""
            },
            "colorscale": [
             [
              0,
              "#0d0887"
             ],
             [
              0.1111111111111111,
              "#46039f"
             ],
             [
              0.2222222222222222,
              "#7201a8"
             ],
             [
              0.3333333333333333,
              "#9c179e"
             ],
             [
              0.4444444444444444,
              "#bd3786"
             ],
             [
              0.5555555555555556,
              "#d8576b"
             ],
             [
              0.6666666666666666,
              "#ed7953"
             ],
             [
              0.7777777777777778,
              "#fb9f3a"
             ],
             [
              0.8888888888888888,
              "#fdca26"
             ],
             [
              1,
              "#f0f921"
             ]
            ],
            "type": "surface"
           }
          ],
          "table": [
           {
            "cells": {
             "fill": {
              "color": "#EBF0F8"
             },
             "line": {
              "color": "white"
             }
            },
            "header": {
             "fill": {
              "color": "#C8D4E3"
             },
             "line": {
              "color": "white"
             }
            },
            "type": "table"
           }
          ]
         },
         "layout": {
          "annotationdefaults": {
           "arrowcolor": "#2a3f5f",
           "arrowhead": 0,
           "arrowwidth": 1
          },
          "autotypenumbers": "strict",
          "coloraxis": {
           "colorbar": {
            "outlinewidth": 0,
            "ticks": ""
           }
          },
          "colorscale": {
           "diverging": [
            [
             0,
             "#8e0152"
            ],
            [
             0.1,
             "#c51b7d"
            ],
            [
             0.2,
             "#de77ae"
            ],
            [
             0.3,
             "#f1b6da"
            ],
            [
             0.4,
             "#fde0ef"
            ],
            [
             0.5,
             "#f7f7f7"
            ],
            [
             0.6,
             "#e6f5d0"
            ],
            [
             0.7,
             "#b8e186"
            ],
            [
             0.8,
             "#7fbc41"
            ],
            [
             0.9,
             "#4d9221"
            ],
            [
             1,
             "#276419"
            ]
           ],
           "sequential": [
            [
             0,
             "#0d0887"
            ],
            [
             0.1111111111111111,
             "#46039f"
            ],
            [
             0.2222222222222222,
             "#7201a8"
            ],
            [
             0.3333333333333333,
             "#9c179e"
            ],
            [
             0.4444444444444444,
             "#bd3786"
            ],
            [
             0.5555555555555556,
             "#d8576b"
            ],
            [
             0.6666666666666666,
             "#ed7953"
            ],
            [
             0.7777777777777778,
             "#fb9f3a"
            ],
            [
             0.8888888888888888,
             "#fdca26"
            ],
            [
             1,
             "#f0f921"
            ]
           ],
           "sequentialminus": [
            [
             0,
             "#0d0887"
            ],
            [
             0.1111111111111111,
             "#46039f"
            ],
            [
             0.2222222222222222,
             "#7201a8"
            ],
            [
             0.3333333333333333,
             "#9c179e"
            ],
            [
             0.4444444444444444,
             "#bd3786"
            ],
            [
             0.5555555555555556,
             "#d8576b"
            ],
            [
             0.6666666666666666,
             "#ed7953"
            ],
            [
             0.7777777777777778,
             "#fb9f3a"
            ],
            [
             0.8888888888888888,
             "#fdca26"
            ],
            [
             1,
             "#f0f921"
            ]
           ]
          },
          "colorway": [
           "#636efa",
           "#EF553B",
           "#00cc96",
           "#ab63fa",
           "#FFA15A",
           "#19d3f3",
           "#FF6692",
           "#B6E880",
           "#FF97FF",
           "#FECB52"
          ],
          "font": {
           "color": "#2a3f5f"
          },
          "geo": {
           "bgcolor": "white",
           "lakecolor": "white",
           "landcolor": "#E5ECF6",
           "showlakes": true,
           "showland": true,
           "subunitcolor": "white"
          },
          "hoverlabel": {
           "align": "left"
          },
          "hovermode": "closest",
          "mapbox": {
           "style": "light"
          },
          "paper_bgcolor": "white",
          "plot_bgcolor": "#E5ECF6",
          "polar": {
           "angularaxis": {
            "gridcolor": "white",
            "linecolor": "white",
            "ticks": ""
           },
           "bgcolor": "#E5ECF6",
           "radialaxis": {
            "gridcolor": "white",
            "linecolor": "white",
            "ticks": ""
           }
          },
          "scene": {
           "xaxis": {
            "backgroundcolor": "#E5ECF6",
            "gridcolor": "white",
            "gridwidth": 2,
            "linecolor": "white",
            "showbackground": true,
            "ticks": "",
            "zerolinecolor": "white"
           },
           "yaxis": {
            "backgroundcolor": "#E5ECF6",
            "gridcolor": "white",
            "gridwidth": 2,
            "linecolor": "white",
            "showbackground": true,
            "ticks": "",
            "zerolinecolor": "white"
           },
           "zaxis": {
            "backgroundcolor": "#E5ECF6",
            "gridcolor": "white",
            "gridwidth": 2,
            "linecolor": "white",
            "showbackground": true,
            "ticks": "",
            "zerolinecolor": "white"
           }
          },
          "shapedefaults": {
           "line": {
            "color": "#2a3f5f"
           }
          },
          "ternary": {
           "aaxis": {
            "gridcolor": "white",
            "linecolor": "white",
            "ticks": ""
           },
           "baxis": {
            "gridcolor": "white",
            "linecolor": "white",
            "ticks": ""
           },
           "bgcolor": "#E5ECF6",
           "caxis": {
            "gridcolor": "white",
            "linecolor": "white",
            "ticks": ""
           }
          },
          "title": {
           "x": 0.05
          },
          "xaxis": {
           "automargin": true,
           "gridcolor": "white",
           "linecolor": "white",
           "ticks": "",
           "title": {
            "standoff": 15
           },
           "zerolinecolor": "white",
           "zerolinewidth": 2
          },
          "yaxis": {
           "automargin": true,
           "gridcolor": "white",
           "linecolor": "white",
           "ticks": "",
           "title": {
            "standoff": 15
           },
           "zerolinecolor": "white",
           "zerolinewidth": 2
          }
         }
        },
        "title": {
         "text": "Distribution of Wines Across Different Levels of Sweetness",
         "x": 0.5
        },
        "xaxis": {
         "anchor": "y",
         "domain": [
          0,
          1
         ],
         "title": {
          "text": "Sweetness Value"
         }
        },
        "yaxis": {
         "anchor": "x",
         "domain": [
          0,
          1
         ],
         "title": {
          "text": "Count"
         }
        }
       }
      }
     },
     "metadata": {},
     "output_type": "display_data"
    }
   ],
   "source": [
    "fig = px.histogram(\n",
    "    df,\n",
    "    x='avg_sweetness',\n",
    "    nbins=10,  # Number of bins\n",
    "    title='Distribution of Wines Across Different Levels of Sweetness',\n",
    "    labels={'avg_sweetness': 'Sweetness Value'}\n",
    ")\n",
    "\n",
    "# Update layout for better appearance\n",
    "fig.update_layout(\n",
    "    xaxis_title='Sweetness Value',\n",
    "    yaxis_title='Count',\n",
    "    title_x=0.5  # Center the title\n",
    ")\n",
    "\n",
    "# Show the plot\n",
    "fig.show()"
   ]
  },
  {
   "cell_type": "code",
   "execution_count": 21,
   "metadata": {},
   "outputs": [
    {
     "data": {
      "application/vnd.plotly.v1+json": {
       "config": {
        "plotlyServerURL": "https://plot.ly"
       },
       "data": [
        {
         "alignmentgroup": "True",
         "bingroup": "x",
         "hovertemplate": "Sweetness Value=%{x}<br>count=%{y}<extra></extra>",
         "legendgroup": "",
         "marker": {
          "color": "#636efa",
          "pattern": {
           "shape": ""
          }
         },
         "name": "",
         "nbinsx": 10,
         "offsetgroup": "",
         "orientation": "v",
         "showlegend": false,
         "type": "histogram",
         "x": [
          1.92,
          2.08,
          1.65,
          1.9,
          1.67,
          1.64,
          1.65,
          1.61,
          2.21,
          2.22
         ],
         "xaxis": "x",
         "yaxis": "y"
        }
       ],
       "layout": {
        "barmode": "relative",
        "legend": {
         "tracegroupgap": 0
        },
        "template": {
         "data": {
          "bar": [
           {
            "error_x": {
             "color": "#2a3f5f"
            },
            "error_y": {
             "color": "#2a3f5f"
            },
            "marker": {
             "line": {
              "color": "#E5ECF6",
              "width": 0.5
             },
             "pattern": {
              "fillmode": "overlay",
              "size": 10,
              "solidity": 0.2
             }
            },
            "type": "bar"
           }
          ],
          "barpolar": [
           {
            "marker": {
             "line": {
              "color": "#E5ECF6",
              "width": 0.5
             },
             "pattern": {
              "fillmode": "overlay",
              "size": 10,
              "solidity": 0.2
             }
            },
            "type": "barpolar"
           }
          ],
          "carpet": [
           {
            "aaxis": {
             "endlinecolor": "#2a3f5f",
             "gridcolor": "white",
             "linecolor": "white",
             "minorgridcolor": "white",
             "startlinecolor": "#2a3f5f"
            },
            "baxis": {
             "endlinecolor": "#2a3f5f",
             "gridcolor": "white",
             "linecolor": "white",
             "minorgridcolor": "white",
             "startlinecolor": "#2a3f5f"
            },
            "type": "carpet"
           }
          ],
          "choropleth": [
           {
            "colorbar": {
             "outlinewidth": 0,
             "ticks": ""
            },
            "type": "choropleth"
           }
          ],
          "contour": [
           {
            "colorbar": {
             "outlinewidth": 0,
             "ticks": ""
            },
            "colorscale": [
             [
              0,
              "#0d0887"
             ],
             [
              0.1111111111111111,
              "#46039f"
             ],
             [
              0.2222222222222222,
              "#7201a8"
             ],
             [
              0.3333333333333333,
              "#9c179e"
             ],
             [
              0.4444444444444444,
              "#bd3786"
             ],
             [
              0.5555555555555556,
              "#d8576b"
             ],
             [
              0.6666666666666666,
              "#ed7953"
             ],
             [
              0.7777777777777778,
              "#fb9f3a"
             ],
             [
              0.8888888888888888,
              "#fdca26"
             ],
             [
              1,
              "#f0f921"
             ]
            ],
            "type": "contour"
           }
          ],
          "contourcarpet": [
           {
            "colorbar": {
             "outlinewidth": 0,
             "ticks": ""
            },
            "type": "contourcarpet"
           }
          ],
          "heatmap": [
           {
            "colorbar": {
             "outlinewidth": 0,
             "ticks": ""
            },
            "colorscale": [
             [
              0,
              "#0d0887"
             ],
             [
              0.1111111111111111,
              "#46039f"
             ],
             [
              0.2222222222222222,
              "#7201a8"
             ],
             [
              0.3333333333333333,
              "#9c179e"
             ],
             [
              0.4444444444444444,
              "#bd3786"
             ],
             [
              0.5555555555555556,
              "#d8576b"
             ],
             [
              0.6666666666666666,
              "#ed7953"
             ],
             [
              0.7777777777777778,
              "#fb9f3a"
             ],
             [
              0.8888888888888888,
              "#fdca26"
             ],
             [
              1,
              "#f0f921"
             ]
            ],
            "type": "heatmap"
           }
          ],
          "heatmapgl": [
           {
            "colorbar": {
             "outlinewidth": 0,
             "ticks": ""
            },
            "colorscale": [
             [
              0,
              "#0d0887"
             ],
             [
              0.1111111111111111,
              "#46039f"
             ],
             [
              0.2222222222222222,
              "#7201a8"
             ],
             [
              0.3333333333333333,
              "#9c179e"
             ],
             [
              0.4444444444444444,
              "#bd3786"
             ],
             [
              0.5555555555555556,
              "#d8576b"
             ],
             [
              0.6666666666666666,
              "#ed7953"
             ],
             [
              0.7777777777777778,
              "#fb9f3a"
             ],
             [
              0.8888888888888888,
              "#fdca26"
             ],
             [
              1,
              "#f0f921"
             ]
            ],
            "type": "heatmapgl"
           }
          ],
          "histogram": [
           {
            "marker": {
             "pattern": {
              "fillmode": "overlay",
              "size": 10,
              "solidity": 0.2
             }
            },
            "type": "histogram"
           }
          ],
          "histogram2d": [
           {
            "colorbar": {
             "outlinewidth": 0,
             "ticks": ""
            },
            "colorscale": [
             [
              0,
              "#0d0887"
             ],
             [
              0.1111111111111111,
              "#46039f"
             ],
             [
              0.2222222222222222,
              "#7201a8"
             ],
             [
              0.3333333333333333,
              "#9c179e"
             ],
             [
              0.4444444444444444,
              "#bd3786"
             ],
             [
              0.5555555555555556,
              "#d8576b"
             ],
             [
              0.6666666666666666,
              "#ed7953"
             ],
             [
              0.7777777777777778,
              "#fb9f3a"
             ],
             [
              0.8888888888888888,
              "#fdca26"
             ],
             [
              1,
              "#f0f921"
             ]
            ],
            "type": "histogram2d"
           }
          ],
          "histogram2dcontour": [
           {
            "colorbar": {
             "outlinewidth": 0,
             "ticks": ""
            },
            "colorscale": [
             [
              0,
              "#0d0887"
             ],
             [
              0.1111111111111111,
              "#46039f"
             ],
             [
              0.2222222222222222,
              "#7201a8"
             ],
             [
              0.3333333333333333,
              "#9c179e"
             ],
             [
              0.4444444444444444,
              "#bd3786"
             ],
             [
              0.5555555555555556,
              "#d8576b"
             ],
             [
              0.6666666666666666,
              "#ed7953"
             ],
             [
              0.7777777777777778,
              "#fb9f3a"
             ],
             [
              0.8888888888888888,
              "#fdca26"
             ],
             [
              1,
              "#f0f921"
             ]
            ],
            "type": "histogram2dcontour"
           }
          ],
          "mesh3d": [
           {
            "colorbar": {
             "outlinewidth": 0,
             "ticks": ""
            },
            "type": "mesh3d"
           }
          ],
          "parcoords": [
           {
            "line": {
             "colorbar": {
              "outlinewidth": 0,
              "ticks": ""
             }
            },
            "type": "parcoords"
           }
          ],
          "pie": [
           {
            "automargin": true,
            "type": "pie"
           }
          ],
          "scatter": [
           {
            "fillpattern": {
             "fillmode": "overlay",
             "size": 10,
             "solidity": 0.2
            },
            "type": "scatter"
           }
          ],
          "scatter3d": [
           {
            "line": {
             "colorbar": {
              "outlinewidth": 0,
              "ticks": ""
             }
            },
            "marker": {
             "colorbar": {
              "outlinewidth": 0,
              "ticks": ""
             }
            },
            "type": "scatter3d"
           }
          ],
          "scattercarpet": [
           {
            "marker": {
             "colorbar": {
              "outlinewidth": 0,
              "ticks": ""
             }
            },
            "type": "scattercarpet"
           }
          ],
          "scattergeo": [
           {
            "marker": {
             "colorbar": {
              "outlinewidth": 0,
              "ticks": ""
             }
            },
            "type": "scattergeo"
           }
          ],
          "scattergl": [
           {
            "marker": {
             "colorbar": {
              "outlinewidth": 0,
              "ticks": ""
             }
            },
            "type": "scattergl"
           }
          ],
          "scattermapbox": [
           {
            "marker": {
             "colorbar": {
              "outlinewidth": 0,
              "ticks": ""
             }
            },
            "type": "scattermapbox"
           }
          ],
          "scatterpolar": [
           {
            "marker": {
             "colorbar": {
              "outlinewidth": 0,
              "ticks": ""
             }
            },
            "type": "scatterpolar"
           }
          ],
          "scatterpolargl": [
           {
            "marker": {
             "colorbar": {
              "outlinewidth": 0,
              "ticks": ""
             }
            },
            "type": "scatterpolargl"
           }
          ],
          "scatterternary": [
           {
            "marker": {
             "colorbar": {
              "outlinewidth": 0,
              "ticks": ""
             }
            },
            "type": "scatterternary"
           }
          ],
          "surface": [
           {
            "colorbar": {
             "outlinewidth": 0,
             "ticks": ""
            },
            "colorscale": [
             [
              0,
              "#0d0887"
             ],
             [
              0.1111111111111111,
              "#46039f"
             ],
             [
              0.2222222222222222,
              "#7201a8"
             ],
             [
              0.3333333333333333,
              "#9c179e"
             ],
             [
              0.4444444444444444,
              "#bd3786"
             ],
             [
              0.5555555555555556,
              "#d8576b"
             ],
             [
              0.6666666666666666,
              "#ed7953"
             ],
             [
              0.7777777777777778,
              "#fb9f3a"
             ],
             [
              0.8888888888888888,
              "#fdca26"
             ],
             [
              1,
              "#f0f921"
             ]
            ],
            "type": "surface"
           }
          ],
          "table": [
           {
            "cells": {
             "fill": {
              "color": "#EBF0F8"
             },
             "line": {
              "color": "white"
             }
            },
            "header": {
             "fill": {
              "color": "#C8D4E3"
             },
             "line": {
              "color": "white"
             }
            },
            "type": "table"
           }
          ]
         },
         "layout": {
          "annotationdefaults": {
           "arrowcolor": "#2a3f5f",
           "arrowhead": 0,
           "arrowwidth": 1
          },
          "autotypenumbers": "strict",
          "coloraxis": {
           "colorbar": {
            "outlinewidth": 0,
            "ticks": ""
           }
          },
          "colorscale": {
           "diverging": [
            [
             0,
             "#8e0152"
            ],
            [
             0.1,
             "#c51b7d"
            ],
            [
             0.2,
             "#de77ae"
            ],
            [
             0.3,
             "#f1b6da"
            ],
            [
             0.4,
             "#fde0ef"
            ],
            [
             0.5,
             "#f7f7f7"
            ],
            [
             0.6,
             "#e6f5d0"
            ],
            [
             0.7,
             "#b8e186"
            ],
            [
             0.8,
             "#7fbc41"
            ],
            [
             0.9,
             "#4d9221"
            ],
            [
             1,
             "#276419"
            ]
           ],
           "sequential": [
            [
             0,
             "#0d0887"
            ],
            [
             0.1111111111111111,
             "#46039f"
            ],
            [
             0.2222222222222222,
             "#7201a8"
            ],
            [
             0.3333333333333333,
             "#9c179e"
            ],
            [
             0.4444444444444444,
             "#bd3786"
            ],
            [
             0.5555555555555556,
             "#d8576b"
            ],
            [
             0.6666666666666666,
             "#ed7953"
            ],
            [
             0.7777777777777778,
             "#fb9f3a"
            ],
            [
             0.8888888888888888,
             "#fdca26"
            ],
            [
             1,
             "#f0f921"
            ]
           ],
           "sequentialminus": [
            [
             0,
             "#0d0887"
            ],
            [
             0.1111111111111111,
             "#46039f"
            ],
            [
             0.2222222222222222,
             "#7201a8"
            ],
            [
             0.3333333333333333,
             "#9c179e"
            ],
            [
             0.4444444444444444,
             "#bd3786"
            ],
            [
             0.5555555555555556,
             "#d8576b"
            ],
            [
             0.6666666666666666,
             "#ed7953"
            ],
            [
             0.7777777777777778,
             "#fb9f3a"
            ],
            [
             0.8888888888888888,
             "#fdca26"
            ],
            [
             1,
             "#f0f921"
            ]
           ]
          },
          "colorway": [
           "#636efa",
           "#EF553B",
           "#00cc96",
           "#ab63fa",
           "#FFA15A",
           "#19d3f3",
           "#FF6692",
           "#B6E880",
           "#FF97FF",
           "#FECB52"
          ],
          "font": {
           "color": "#2a3f5f"
          },
          "geo": {
           "bgcolor": "white",
           "lakecolor": "white",
           "landcolor": "#E5ECF6",
           "showlakes": true,
           "showland": true,
           "subunitcolor": "white"
          },
          "hoverlabel": {
           "align": "left"
          },
          "hovermode": "closest",
          "mapbox": {
           "style": "light"
          },
          "paper_bgcolor": "white",
          "plot_bgcolor": "#E5ECF6",
          "polar": {
           "angularaxis": {
            "gridcolor": "white",
            "linecolor": "white",
            "ticks": ""
           },
           "bgcolor": "#E5ECF6",
           "radialaxis": {
            "gridcolor": "white",
            "linecolor": "white",
            "ticks": ""
           }
          },
          "scene": {
           "xaxis": {
            "backgroundcolor": "#E5ECF6",
            "gridcolor": "white",
            "gridwidth": 2,
            "linecolor": "white",
            "showbackground": true,
            "ticks": "",
            "zerolinecolor": "white"
           },
           "yaxis": {
            "backgroundcolor": "#E5ECF6",
            "gridcolor": "white",
            "gridwidth": 2,
            "linecolor": "white",
            "showbackground": true,
            "ticks": "",
            "zerolinecolor": "white"
           },
           "zaxis": {
            "backgroundcolor": "#E5ECF6",
            "gridcolor": "white",
            "gridwidth": 2,
            "linecolor": "white",
            "showbackground": true,
            "ticks": "",
            "zerolinecolor": "white"
           }
          },
          "shapedefaults": {
           "line": {
            "color": "#2a3f5f"
           }
          },
          "ternary": {
           "aaxis": {
            "gridcolor": "white",
            "linecolor": "white",
            "ticks": ""
           },
           "baxis": {
            "gridcolor": "white",
            "linecolor": "white",
            "ticks": ""
           },
           "bgcolor": "#E5ECF6",
           "caxis": {
            "gridcolor": "white",
            "linecolor": "white",
            "ticks": ""
           }
          },
          "title": {
           "x": 0.05
          },
          "xaxis": {
           "automargin": true,
           "gridcolor": "white",
           "linecolor": "white",
           "ticks": "",
           "title": {
            "standoff": 15
           },
           "zerolinecolor": "white",
           "zerolinewidth": 2
          },
          "yaxis": {
           "automargin": true,
           "gridcolor": "white",
           "linecolor": "white",
           "ticks": "",
           "title": {
            "standoff": 15
           },
           "zerolinecolor": "white",
           "zerolinewidth": 2
          }
         }
        },
        "title": {
         "text": "Distribution of Wines Across Different Levels of Sweetness",
         "x": 0.5
        },
        "xaxis": {
         "anchor": "y",
         "domain": [
          0,
          1
         ],
         "title": {
          "text": "Sweetness Value"
         }
        },
        "yaxis": {
         "anchor": "x",
         "domain": [
          0,
          1
         ],
         "title": {
          "text": "Count"
         }
        }
       }
      }
     },
     "metadata": {},
     "output_type": "display_data"
    },
    {
     "data": {
      "application/vnd.plotly.v1+json": {
       "config": {
        "plotlyServerURL": "https://plot.ly"
       },
       "data": [
        {
         "hovertemplate": "Sweetness Value=%{x}<br>Average Rating=%{y}<extra></extra>",
         "legendgroup": "",
         "marker": {
          "color": "#636efa",
          "symbol": "circle"
         },
         "mode": "markers",
         "name": "",
         "orientation": "v",
         "showlegend": false,
         "type": "scatter",
         "x": [
          1.92,
          2.08,
          1.65,
          1.9,
          1.67,
          1.64,
          1.65,
          1.61,
          2.21,
          2.22
         ],
         "xaxis": "x",
         "y": [
          4.7,
          4.6,
          4.6,
          4.6,
          4.6,
          4.3,
          4.3,
          4.3,
          4.3,
          4.3
         ],
         "yaxis": "y"
        },
        {
         "hovertemplate": "<b>OLS trendline</b><br>avg_ratings_average = -0.0184963 * avg_sweetness + 4.49431<br>R<sup>2</sup>=0.000701<br><br>Sweetness Value=%{x}<br>Average Rating=%{y} <b>(trend)</b><extra></extra>",
         "legendgroup": "",
         "marker": {
          "color": "#636efa",
          "symbol": "circle"
         },
         "mode": "lines",
         "name": "",
         "showlegend": false,
         "type": "scatter",
         "x": [
          1.61,
          1.64,
          1.65,
          1.65,
          1.67,
          1.9,
          1.92,
          2.08,
          2.21,
          2.22
         ],
         "xaxis": "x",
         "y": [
          4.464531582354571,
          4.4639766947193165,
          4.463791732174232,
          4.463791732174232,
          4.463421807084063,
          4.459167668547117,
          4.458797743456948,
          4.4558383427355945,
          4.453433829649494,
          4.45324886710441
         ],
         "yaxis": "y"
        }
       ],
       "layout": {
        "legend": {
         "tracegroupgap": 0
        },
        "template": {
         "data": {
          "bar": [
           {
            "error_x": {
             "color": "#2a3f5f"
            },
            "error_y": {
             "color": "#2a3f5f"
            },
            "marker": {
             "line": {
              "color": "#E5ECF6",
              "width": 0.5
             },
             "pattern": {
              "fillmode": "overlay",
              "size": 10,
              "solidity": 0.2
             }
            },
            "type": "bar"
           }
          ],
          "barpolar": [
           {
            "marker": {
             "line": {
              "color": "#E5ECF6",
              "width": 0.5
             },
             "pattern": {
              "fillmode": "overlay",
              "size": 10,
              "solidity": 0.2
             }
            },
            "type": "barpolar"
           }
          ],
          "carpet": [
           {
            "aaxis": {
             "endlinecolor": "#2a3f5f",
             "gridcolor": "white",
             "linecolor": "white",
             "minorgridcolor": "white",
             "startlinecolor": "#2a3f5f"
            },
            "baxis": {
             "endlinecolor": "#2a3f5f",
             "gridcolor": "white",
             "linecolor": "white",
             "minorgridcolor": "white",
             "startlinecolor": "#2a3f5f"
            },
            "type": "carpet"
           }
          ],
          "choropleth": [
           {
            "colorbar": {
             "outlinewidth": 0,
             "ticks": ""
            },
            "type": "choropleth"
           }
          ],
          "contour": [
           {
            "colorbar": {
             "outlinewidth": 0,
             "ticks": ""
            },
            "colorscale": [
             [
              0,
              "#0d0887"
             ],
             [
              0.1111111111111111,
              "#46039f"
             ],
             [
              0.2222222222222222,
              "#7201a8"
             ],
             [
              0.3333333333333333,
              "#9c179e"
             ],
             [
              0.4444444444444444,
              "#bd3786"
             ],
             [
              0.5555555555555556,
              "#d8576b"
             ],
             [
              0.6666666666666666,
              "#ed7953"
             ],
             [
              0.7777777777777778,
              "#fb9f3a"
             ],
             [
              0.8888888888888888,
              "#fdca26"
             ],
             [
              1,
              "#f0f921"
             ]
            ],
            "type": "contour"
           }
          ],
          "contourcarpet": [
           {
            "colorbar": {
             "outlinewidth": 0,
             "ticks": ""
            },
            "type": "contourcarpet"
           }
          ],
          "heatmap": [
           {
            "colorbar": {
             "outlinewidth": 0,
             "ticks": ""
            },
            "colorscale": [
             [
              0,
              "#0d0887"
             ],
             [
              0.1111111111111111,
              "#46039f"
             ],
             [
              0.2222222222222222,
              "#7201a8"
             ],
             [
              0.3333333333333333,
              "#9c179e"
             ],
             [
              0.4444444444444444,
              "#bd3786"
             ],
             [
              0.5555555555555556,
              "#d8576b"
             ],
             [
              0.6666666666666666,
              "#ed7953"
             ],
             [
              0.7777777777777778,
              "#fb9f3a"
             ],
             [
              0.8888888888888888,
              "#fdca26"
             ],
             [
              1,
              "#f0f921"
             ]
            ],
            "type": "heatmap"
           }
          ],
          "heatmapgl": [
           {
            "colorbar": {
             "outlinewidth": 0,
             "ticks": ""
            },
            "colorscale": [
             [
              0,
              "#0d0887"
             ],
             [
              0.1111111111111111,
              "#46039f"
             ],
             [
              0.2222222222222222,
              "#7201a8"
             ],
             [
              0.3333333333333333,
              "#9c179e"
             ],
             [
              0.4444444444444444,
              "#bd3786"
             ],
             [
              0.5555555555555556,
              "#d8576b"
             ],
             [
              0.6666666666666666,
              "#ed7953"
             ],
             [
              0.7777777777777778,
              "#fb9f3a"
             ],
             [
              0.8888888888888888,
              "#fdca26"
             ],
             [
              1,
              "#f0f921"
             ]
            ],
            "type": "heatmapgl"
           }
          ],
          "histogram": [
           {
            "marker": {
             "pattern": {
              "fillmode": "overlay",
              "size": 10,
              "solidity": 0.2
             }
            },
            "type": "histogram"
           }
          ],
          "histogram2d": [
           {
            "colorbar": {
             "outlinewidth": 0,
             "ticks": ""
            },
            "colorscale": [
             [
              0,
              "#0d0887"
             ],
             [
              0.1111111111111111,
              "#46039f"
             ],
             [
              0.2222222222222222,
              "#7201a8"
             ],
             [
              0.3333333333333333,
              "#9c179e"
             ],
             [
              0.4444444444444444,
              "#bd3786"
             ],
             [
              0.5555555555555556,
              "#d8576b"
             ],
             [
              0.6666666666666666,
              "#ed7953"
             ],
             [
              0.7777777777777778,
              "#fb9f3a"
             ],
             [
              0.8888888888888888,
              "#fdca26"
             ],
             [
              1,
              "#f0f921"
             ]
            ],
            "type": "histogram2d"
           }
          ],
          "histogram2dcontour": [
           {
            "colorbar": {
             "outlinewidth": 0,
             "ticks": ""
            },
            "colorscale": [
             [
              0,
              "#0d0887"
             ],
             [
              0.1111111111111111,
              "#46039f"
             ],
             [
              0.2222222222222222,
              "#7201a8"
             ],
             [
              0.3333333333333333,
              "#9c179e"
             ],
             [
              0.4444444444444444,
              "#bd3786"
             ],
             [
              0.5555555555555556,
              "#d8576b"
             ],
             [
              0.6666666666666666,
              "#ed7953"
             ],
             [
              0.7777777777777778,
              "#fb9f3a"
             ],
             [
              0.8888888888888888,
              "#fdca26"
             ],
             [
              1,
              "#f0f921"
             ]
            ],
            "type": "histogram2dcontour"
           }
          ],
          "mesh3d": [
           {
            "colorbar": {
             "outlinewidth": 0,
             "ticks": ""
            },
            "type": "mesh3d"
           }
          ],
          "parcoords": [
           {
            "line": {
             "colorbar": {
              "outlinewidth": 0,
              "ticks": ""
             }
            },
            "type": "parcoords"
           }
          ],
          "pie": [
           {
            "automargin": true,
            "type": "pie"
           }
          ],
          "scatter": [
           {
            "fillpattern": {
             "fillmode": "overlay",
             "size": 10,
             "solidity": 0.2
            },
            "type": "scatter"
           }
          ],
          "scatter3d": [
           {
            "line": {
             "colorbar": {
              "outlinewidth": 0,
              "ticks": ""
             }
            },
            "marker": {
             "colorbar": {
              "outlinewidth": 0,
              "ticks": ""
             }
            },
            "type": "scatter3d"
           }
          ],
          "scattercarpet": [
           {
            "marker": {
             "colorbar": {
              "outlinewidth": 0,
              "ticks": ""
             }
            },
            "type": "scattercarpet"
           }
          ],
          "scattergeo": [
           {
            "marker": {
             "colorbar": {
              "outlinewidth": 0,
              "ticks": ""
             }
            },
            "type": "scattergeo"
           }
          ],
          "scattergl": [
           {
            "marker": {
             "colorbar": {
              "outlinewidth": 0,
              "ticks": ""
             }
            },
            "type": "scattergl"
           }
          ],
          "scattermapbox": [
           {
            "marker": {
             "colorbar": {
              "outlinewidth": 0,
              "ticks": ""
             }
            },
            "type": "scattermapbox"
           }
          ],
          "scatterpolar": [
           {
            "marker": {
             "colorbar": {
              "outlinewidth": 0,
              "ticks": ""
             }
            },
            "type": "scatterpolar"
           }
          ],
          "scatterpolargl": [
           {
            "marker": {
             "colorbar": {
              "outlinewidth": 0,
              "ticks": ""
             }
            },
            "type": "scatterpolargl"
           }
          ],
          "scatterternary": [
           {
            "marker": {
             "colorbar": {
              "outlinewidth": 0,
              "ticks": ""
             }
            },
            "type": "scatterternary"
           }
          ],
          "surface": [
           {
            "colorbar": {
             "outlinewidth": 0,
             "ticks": ""
            },
            "colorscale": [
             [
              0,
              "#0d0887"
             ],
             [
              0.1111111111111111,
              "#46039f"
             ],
             [
              0.2222222222222222,
              "#7201a8"
             ],
             [
              0.3333333333333333,
              "#9c179e"
             ],
             [
              0.4444444444444444,
              "#bd3786"
             ],
             [
              0.5555555555555556,
              "#d8576b"
             ],
             [
              0.6666666666666666,
              "#ed7953"
             ],
             [
              0.7777777777777778,
              "#fb9f3a"
             ],
             [
              0.8888888888888888,
              "#fdca26"
             ],
             [
              1,
              "#f0f921"
             ]
            ],
            "type": "surface"
           }
          ],
          "table": [
           {
            "cells": {
             "fill": {
              "color": "#EBF0F8"
             },
             "line": {
              "color": "white"
             }
            },
            "header": {
             "fill": {
              "color": "#C8D4E3"
             },
             "line": {
              "color": "white"
             }
            },
            "type": "table"
           }
          ]
         },
         "layout": {
          "annotationdefaults": {
           "arrowcolor": "#2a3f5f",
           "arrowhead": 0,
           "arrowwidth": 1
          },
          "autotypenumbers": "strict",
          "coloraxis": {
           "colorbar": {
            "outlinewidth": 0,
            "ticks": ""
           }
          },
          "colorscale": {
           "diverging": [
            [
             0,
             "#8e0152"
            ],
            [
             0.1,
             "#c51b7d"
            ],
            [
             0.2,
             "#de77ae"
            ],
            [
             0.3,
             "#f1b6da"
            ],
            [
             0.4,
             "#fde0ef"
            ],
            [
             0.5,
             "#f7f7f7"
            ],
            [
             0.6,
             "#e6f5d0"
            ],
            [
             0.7,
             "#b8e186"
            ],
            [
             0.8,
             "#7fbc41"
            ],
            [
             0.9,
             "#4d9221"
            ],
            [
             1,
             "#276419"
            ]
           ],
           "sequential": [
            [
             0,
             "#0d0887"
            ],
            [
             0.1111111111111111,
             "#46039f"
            ],
            [
             0.2222222222222222,
             "#7201a8"
            ],
            [
             0.3333333333333333,
             "#9c179e"
            ],
            [
             0.4444444444444444,
             "#bd3786"
            ],
            [
             0.5555555555555556,
             "#d8576b"
            ],
            [
             0.6666666666666666,
             "#ed7953"
            ],
            [
             0.7777777777777778,
             "#fb9f3a"
            ],
            [
             0.8888888888888888,
             "#fdca26"
            ],
            [
             1,
             "#f0f921"
            ]
           ],
           "sequentialminus": [
            [
             0,
             "#0d0887"
            ],
            [
             0.1111111111111111,
             "#46039f"
            ],
            [
             0.2222222222222222,
             "#7201a8"
            ],
            [
             0.3333333333333333,
             "#9c179e"
            ],
            [
             0.4444444444444444,
             "#bd3786"
            ],
            [
             0.5555555555555556,
             "#d8576b"
            ],
            [
             0.6666666666666666,
             "#ed7953"
            ],
            [
             0.7777777777777778,
             "#fb9f3a"
            ],
            [
             0.8888888888888888,
             "#fdca26"
            ],
            [
             1,
             "#f0f921"
            ]
           ]
          },
          "colorway": [
           "#636efa",
           "#EF553B",
           "#00cc96",
           "#ab63fa",
           "#FFA15A",
           "#19d3f3",
           "#FF6692",
           "#B6E880",
           "#FF97FF",
           "#FECB52"
          ],
          "font": {
           "color": "#2a3f5f"
          },
          "geo": {
           "bgcolor": "white",
           "lakecolor": "white",
           "landcolor": "#E5ECF6",
           "showlakes": true,
           "showland": true,
           "subunitcolor": "white"
          },
          "hoverlabel": {
           "align": "left"
          },
          "hovermode": "closest",
          "mapbox": {
           "style": "light"
          },
          "paper_bgcolor": "white",
          "plot_bgcolor": "#E5ECF6",
          "polar": {
           "angularaxis": {
            "gridcolor": "white",
            "linecolor": "white",
            "ticks": ""
           },
           "bgcolor": "#E5ECF6",
           "radialaxis": {
            "gridcolor": "white",
            "linecolor": "white",
            "ticks": ""
           }
          },
          "scene": {
           "xaxis": {
            "backgroundcolor": "#E5ECF6",
            "gridcolor": "white",
            "gridwidth": 2,
            "linecolor": "white",
            "showbackground": true,
            "ticks": "",
            "zerolinecolor": "white"
           },
           "yaxis": {
            "backgroundcolor": "#E5ECF6",
            "gridcolor": "white",
            "gridwidth": 2,
            "linecolor": "white",
            "showbackground": true,
            "ticks": "",
            "zerolinecolor": "white"
           },
           "zaxis": {
            "backgroundcolor": "#E5ECF6",
            "gridcolor": "white",
            "gridwidth": 2,
            "linecolor": "white",
            "showbackground": true,
            "ticks": "",
            "zerolinecolor": "white"
           }
          },
          "shapedefaults": {
           "line": {
            "color": "#2a3f5f"
           }
          },
          "ternary": {
           "aaxis": {
            "gridcolor": "white",
            "linecolor": "white",
            "ticks": ""
           },
           "baxis": {
            "gridcolor": "white",
            "linecolor": "white",
            "ticks": ""
           },
           "bgcolor": "#E5ECF6",
           "caxis": {
            "gridcolor": "white",
            "linecolor": "white",
            "ticks": ""
           }
          },
          "title": {
           "x": 0.05
          },
          "xaxis": {
           "automargin": true,
           "gridcolor": "white",
           "linecolor": "white",
           "ticks": "",
           "title": {
            "standoff": 15
           },
           "zerolinecolor": "white",
           "zerolinewidth": 2
          },
          "yaxis": {
           "automargin": true,
           "gridcolor": "white",
           "linecolor": "white",
           "ticks": "",
           "title": {
            "standoff": 15
           },
           "zerolinecolor": "white",
           "zerolinewidth": 2
          }
         }
        },
        "title": {
         "text": "Sweetness vs Ratings",
         "x": 0.5
        },
        "xaxis": {
         "anchor": "y",
         "domain": [
          0,
          1
         ],
         "title": {
          "text": "Sweetness Value"
         }
        },
        "yaxis": {
         "anchor": "x",
         "domain": [
          0,
          1
         ],
         "title": {
          "text": "Average Rating"
         }
        }
       }
      }
     },
     "metadata": {},
     "output_type": "display_data"
    },
    {
     "data": {
      "application/vnd.plotly.v1+json": {
       "config": {
        "plotlyServerURL": "https://plot.ly"
       },
       "data": [
        {
         "hovertemplate": "Acidity Value=%{x}<br>Average Rating=%{y}<extra></extra>",
         "legendgroup": "",
         "marker": {
          "color": "#636efa",
          "symbol": "circle"
         },
         "mode": "markers",
         "name": "",
         "orientation": "v",
         "showlegend": false,
         "type": "scatter",
         "x": [
          3.31,
          2.88,
          3.53,
          3.06,
          4.12,
          4.03,
          4.21,
          4,
          3.42,
          3.2
         ],
         "xaxis": "x",
         "y": [
          4.7,
          4.6,
          4.6,
          4.6,
          4.6,
          4.3,
          4.3,
          4.3,
          4.3,
          4.3
         ],
         "yaxis": "y"
        },
        {
         "hovertemplate": "<b>OLS trendline</b><br>avg_ratings_average = -0.154652 * avg_acidity + 5.01304<br>R<sup>2</sup>=0.187809<br><br>Acidity Value=%{x}<br>Average Rating=%{y} <b>(trend)</b><extra></extra>",
         "legendgroup": "",
         "marker": {
          "color": "#636efa",
          "symbol": "circle"
         },
         "mode": "lines",
         "name": "",
         "showlegend": false,
         "type": "scatter",
         "x": [
          2.88,
          3.06,
          3.2,
          3.31,
          3.42,
          3.53,
          4,
          4.03,
          4.12,
          4.21
         ],
         "xaxis": "x",
         "y": [
          4.567637865164201,
          4.539800486242424,
          4.518149191525487,
          4.5011374599621785,
          4.484125728398871,
          4.467113996835563,
          4.394427507428702,
          4.3897879442750725,
          4.375869254814185,
          4.361950565353296
         ],
         "yaxis": "y"
        }
       ],
       "layout": {
        "legend": {
         "tracegroupgap": 0
        },
        "template": {
         "data": {
          "bar": [
           {
            "error_x": {
             "color": "#2a3f5f"
            },
            "error_y": {
             "color": "#2a3f5f"
            },
            "marker": {
             "line": {
              "color": "#E5ECF6",
              "width": 0.5
             },
             "pattern": {
              "fillmode": "overlay",
              "size": 10,
              "solidity": 0.2
             }
            },
            "type": "bar"
           }
          ],
          "barpolar": [
           {
            "marker": {
             "line": {
              "color": "#E5ECF6",
              "width": 0.5
             },
             "pattern": {
              "fillmode": "overlay",
              "size": 10,
              "solidity": 0.2
             }
            },
            "type": "barpolar"
           }
          ],
          "carpet": [
           {
            "aaxis": {
             "endlinecolor": "#2a3f5f",
             "gridcolor": "white",
             "linecolor": "white",
             "minorgridcolor": "white",
             "startlinecolor": "#2a3f5f"
            },
            "baxis": {
             "endlinecolor": "#2a3f5f",
             "gridcolor": "white",
             "linecolor": "white",
             "minorgridcolor": "white",
             "startlinecolor": "#2a3f5f"
            },
            "type": "carpet"
           }
          ],
          "choropleth": [
           {
            "colorbar": {
             "outlinewidth": 0,
             "ticks": ""
            },
            "type": "choropleth"
           }
          ],
          "contour": [
           {
            "colorbar": {
             "outlinewidth": 0,
             "ticks": ""
            },
            "colorscale": [
             [
              0,
              "#0d0887"
             ],
             [
              0.1111111111111111,
              "#46039f"
             ],
             [
              0.2222222222222222,
              "#7201a8"
             ],
             [
              0.3333333333333333,
              "#9c179e"
             ],
             [
              0.4444444444444444,
              "#bd3786"
             ],
             [
              0.5555555555555556,
              "#d8576b"
             ],
             [
              0.6666666666666666,
              "#ed7953"
             ],
             [
              0.7777777777777778,
              "#fb9f3a"
             ],
             [
              0.8888888888888888,
              "#fdca26"
             ],
             [
              1,
              "#f0f921"
             ]
            ],
            "type": "contour"
           }
          ],
          "contourcarpet": [
           {
            "colorbar": {
             "outlinewidth": 0,
             "ticks": ""
            },
            "type": "contourcarpet"
           }
          ],
          "heatmap": [
           {
            "colorbar": {
             "outlinewidth": 0,
             "ticks": ""
            },
            "colorscale": [
             [
              0,
              "#0d0887"
             ],
             [
              0.1111111111111111,
              "#46039f"
             ],
             [
              0.2222222222222222,
              "#7201a8"
             ],
             [
              0.3333333333333333,
              "#9c179e"
             ],
             [
              0.4444444444444444,
              "#bd3786"
             ],
             [
              0.5555555555555556,
              "#d8576b"
             ],
             [
              0.6666666666666666,
              "#ed7953"
             ],
             [
              0.7777777777777778,
              "#fb9f3a"
             ],
             [
              0.8888888888888888,
              "#fdca26"
             ],
             [
              1,
              "#f0f921"
             ]
            ],
            "type": "heatmap"
           }
          ],
          "heatmapgl": [
           {
            "colorbar": {
             "outlinewidth": 0,
             "ticks": ""
            },
            "colorscale": [
             [
              0,
              "#0d0887"
             ],
             [
              0.1111111111111111,
              "#46039f"
             ],
             [
              0.2222222222222222,
              "#7201a8"
             ],
             [
              0.3333333333333333,
              "#9c179e"
             ],
             [
              0.4444444444444444,
              "#bd3786"
             ],
             [
              0.5555555555555556,
              "#d8576b"
             ],
             [
              0.6666666666666666,
              "#ed7953"
             ],
             [
              0.7777777777777778,
              "#fb9f3a"
             ],
             [
              0.8888888888888888,
              "#fdca26"
             ],
             [
              1,
              "#f0f921"
             ]
            ],
            "type": "heatmapgl"
           }
          ],
          "histogram": [
           {
            "marker": {
             "pattern": {
              "fillmode": "overlay",
              "size": 10,
              "solidity": 0.2
             }
            },
            "type": "histogram"
           }
          ],
          "histogram2d": [
           {
            "colorbar": {
             "outlinewidth": 0,
             "ticks": ""
            },
            "colorscale": [
             [
              0,
              "#0d0887"
             ],
             [
              0.1111111111111111,
              "#46039f"
             ],
             [
              0.2222222222222222,
              "#7201a8"
             ],
             [
              0.3333333333333333,
              "#9c179e"
             ],
             [
              0.4444444444444444,
              "#bd3786"
             ],
             [
              0.5555555555555556,
              "#d8576b"
             ],
             [
              0.6666666666666666,
              "#ed7953"
             ],
             [
              0.7777777777777778,
              "#fb9f3a"
             ],
             [
              0.8888888888888888,
              "#fdca26"
             ],
             [
              1,
              "#f0f921"
             ]
            ],
            "type": "histogram2d"
           }
          ],
          "histogram2dcontour": [
           {
            "colorbar": {
             "outlinewidth": 0,
             "ticks": ""
            },
            "colorscale": [
             [
              0,
              "#0d0887"
             ],
             [
              0.1111111111111111,
              "#46039f"
             ],
             [
              0.2222222222222222,
              "#7201a8"
             ],
             [
              0.3333333333333333,
              "#9c179e"
             ],
             [
              0.4444444444444444,
              "#bd3786"
             ],
             [
              0.5555555555555556,
              "#d8576b"
             ],
             [
              0.6666666666666666,
              "#ed7953"
             ],
             [
              0.7777777777777778,
              "#fb9f3a"
             ],
             [
              0.8888888888888888,
              "#fdca26"
             ],
             [
              1,
              "#f0f921"
             ]
            ],
            "type": "histogram2dcontour"
           }
          ],
          "mesh3d": [
           {
            "colorbar": {
             "outlinewidth": 0,
             "ticks": ""
            },
            "type": "mesh3d"
           }
          ],
          "parcoords": [
           {
            "line": {
             "colorbar": {
              "outlinewidth": 0,
              "ticks": ""
             }
            },
            "type": "parcoords"
           }
          ],
          "pie": [
           {
            "automargin": true,
            "type": "pie"
           }
          ],
          "scatter": [
           {
            "fillpattern": {
             "fillmode": "overlay",
             "size": 10,
             "solidity": 0.2
            },
            "type": "scatter"
           }
          ],
          "scatter3d": [
           {
            "line": {
             "colorbar": {
              "outlinewidth": 0,
              "ticks": ""
             }
            },
            "marker": {
             "colorbar": {
              "outlinewidth": 0,
              "ticks": ""
             }
            },
            "type": "scatter3d"
           }
          ],
          "scattercarpet": [
           {
            "marker": {
             "colorbar": {
              "outlinewidth": 0,
              "ticks": ""
             }
            },
            "type": "scattercarpet"
           }
          ],
          "scattergeo": [
           {
            "marker": {
             "colorbar": {
              "outlinewidth": 0,
              "ticks": ""
             }
            },
            "type": "scattergeo"
           }
          ],
          "scattergl": [
           {
            "marker": {
             "colorbar": {
              "outlinewidth": 0,
              "ticks": ""
             }
            },
            "type": "scattergl"
           }
          ],
          "scattermapbox": [
           {
            "marker": {
             "colorbar": {
              "outlinewidth": 0,
              "ticks": ""
             }
            },
            "type": "scattermapbox"
           }
          ],
          "scatterpolar": [
           {
            "marker": {
             "colorbar": {
              "outlinewidth": 0,
              "ticks": ""
             }
            },
            "type": "scatterpolar"
           }
          ],
          "scatterpolargl": [
           {
            "marker": {
             "colorbar": {
              "outlinewidth": 0,
              "ticks": ""
             }
            },
            "type": "scatterpolargl"
           }
          ],
          "scatterternary": [
           {
            "marker": {
             "colorbar": {
              "outlinewidth": 0,
              "ticks": ""
             }
            },
            "type": "scatterternary"
           }
          ],
          "surface": [
           {
            "colorbar": {
             "outlinewidth": 0,
             "ticks": ""
            },
            "colorscale": [
             [
              0,
              "#0d0887"
             ],
             [
              0.1111111111111111,
              "#46039f"
             ],
             [
              0.2222222222222222,
              "#7201a8"
             ],
             [
              0.3333333333333333,
              "#9c179e"
             ],
             [
              0.4444444444444444,
              "#bd3786"
             ],
             [
              0.5555555555555556,
              "#d8576b"
             ],
             [
              0.6666666666666666,
              "#ed7953"
             ],
             [
              0.7777777777777778,
              "#fb9f3a"
             ],
             [
              0.8888888888888888,
              "#fdca26"
             ],
             [
              1,
              "#f0f921"
             ]
            ],
            "type": "surface"
           }
          ],
          "table": [
           {
            "cells": {
             "fill": {
              "color": "#EBF0F8"
             },
             "line": {
              "color": "white"
             }
            },
            "header": {
             "fill": {
              "color": "#C8D4E3"
             },
             "line": {
              "color": "white"
             }
            },
            "type": "table"
           }
          ]
         },
         "layout": {
          "annotationdefaults": {
           "arrowcolor": "#2a3f5f",
           "arrowhead": 0,
           "arrowwidth": 1
          },
          "autotypenumbers": "strict",
          "coloraxis": {
           "colorbar": {
            "outlinewidth": 0,
            "ticks": ""
           }
          },
          "colorscale": {
           "diverging": [
            [
             0,
             "#8e0152"
            ],
            [
             0.1,
             "#c51b7d"
            ],
            [
             0.2,
             "#de77ae"
            ],
            [
             0.3,
             "#f1b6da"
            ],
            [
             0.4,
             "#fde0ef"
            ],
            [
             0.5,
             "#f7f7f7"
            ],
            [
             0.6,
             "#e6f5d0"
            ],
            [
             0.7,
             "#b8e186"
            ],
            [
             0.8,
             "#7fbc41"
            ],
            [
             0.9,
             "#4d9221"
            ],
            [
             1,
             "#276419"
            ]
           ],
           "sequential": [
            [
             0,
             "#0d0887"
            ],
            [
             0.1111111111111111,
             "#46039f"
            ],
            [
             0.2222222222222222,
             "#7201a8"
            ],
            [
             0.3333333333333333,
             "#9c179e"
            ],
            [
             0.4444444444444444,
             "#bd3786"
            ],
            [
             0.5555555555555556,
             "#d8576b"
            ],
            [
             0.6666666666666666,
             "#ed7953"
            ],
            [
             0.7777777777777778,
             "#fb9f3a"
            ],
            [
             0.8888888888888888,
             "#fdca26"
            ],
            [
             1,
             "#f0f921"
            ]
           ],
           "sequentialminus": [
            [
             0,
             "#0d0887"
            ],
            [
             0.1111111111111111,
             "#46039f"
            ],
            [
             0.2222222222222222,
             "#7201a8"
            ],
            [
             0.3333333333333333,
             "#9c179e"
            ],
            [
             0.4444444444444444,
             "#bd3786"
            ],
            [
             0.5555555555555556,
             "#d8576b"
            ],
            [
             0.6666666666666666,
             "#ed7953"
            ],
            [
             0.7777777777777778,
             "#fb9f3a"
            ],
            [
             0.8888888888888888,
             "#fdca26"
            ],
            [
             1,
             "#f0f921"
            ]
           ]
          },
          "colorway": [
           "#636efa",
           "#EF553B",
           "#00cc96",
           "#ab63fa",
           "#FFA15A",
           "#19d3f3",
           "#FF6692",
           "#B6E880",
           "#FF97FF",
           "#FECB52"
          ],
          "font": {
           "color": "#2a3f5f"
          },
          "geo": {
           "bgcolor": "white",
           "lakecolor": "white",
           "landcolor": "#E5ECF6",
           "showlakes": true,
           "showland": true,
           "subunitcolor": "white"
          },
          "hoverlabel": {
           "align": "left"
          },
          "hovermode": "closest",
          "mapbox": {
           "style": "light"
          },
          "paper_bgcolor": "white",
          "plot_bgcolor": "#E5ECF6",
          "polar": {
           "angularaxis": {
            "gridcolor": "white",
            "linecolor": "white",
            "ticks": ""
           },
           "bgcolor": "#E5ECF6",
           "radialaxis": {
            "gridcolor": "white",
            "linecolor": "white",
            "ticks": ""
           }
          },
          "scene": {
           "xaxis": {
            "backgroundcolor": "#E5ECF6",
            "gridcolor": "white",
            "gridwidth": 2,
            "linecolor": "white",
            "showbackground": true,
            "ticks": "",
            "zerolinecolor": "white"
           },
           "yaxis": {
            "backgroundcolor": "#E5ECF6",
            "gridcolor": "white",
            "gridwidth": 2,
            "linecolor": "white",
            "showbackground": true,
            "ticks": "",
            "zerolinecolor": "white"
           },
           "zaxis": {
            "backgroundcolor": "#E5ECF6",
            "gridcolor": "white",
            "gridwidth": 2,
            "linecolor": "white",
            "showbackground": true,
            "ticks": "",
            "zerolinecolor": "white"
           }
          },
          "shapedefaults": {
           "line": {
            "color": "#2a3f5f"
           }
          },
          "ternary": {
           "aaxis": {
            "gridcolor": "white",
            "linecolor": "white",
            "ticks": ""
           },
           "baxis": {
            "gridcolor": "white",
            "linecolor": "white",
            "ticks": ""
           },
           "bgcolor": "#E5ECF6",
           "caxis": {
            "gridcolor": "white",
            "linecolor": "white",
            "ticks": ""
           }
          },
          "title": {
           "x": 0.05
          },
          "xaxis": {
           "automargin": true,
           "gridcolor": "white",
           "linecolor": "white",
           "ticks": "",
           "title": {
            "standoff": 15
           },
           "zerolinecolor": "white",
           "zerolinewidth": 2
          },
          "yaxis": {
           "automargin": true,
           "gridcolor": "white",
           "linecolor": "white",
           "ticks": "",
           "title": {
            "standoff": 15
           },
           "zerolinecolor": "white",
           "zerolinewidth": 2
          }
         }
        },
        "title": {
         "text": "Acidity vs Ratings",
         "x": 0.5
        },
        "xaxis": {
         "anchor": "y",
         "domain": [
          0,
          1
         ],
         "title": {
          "text": "Acidity Value"
         }
        },
        "yaxis": {
         "anchor": "x",
         "domain": [
          0,
          1
         ],
         "title": {
          "text": "Average Rating"
         }
        }
       }
      }
     },
     "metadata": {},
     "output_type": "display_data"
    }
   ],
   "source": [
    "fig_sweetness = px.histogram(\n",
    "    df,\n",
    "    x='avg_sweetness',\n",
    "    nbins=10,  # Number of bins\n",
    "    title='Distribution of Wines Across Different Levels of Sweetness',\n",
    "    labels={'avg_sweetness': 'Sweetness Value'}\n",
    ")\n",
    "\n",
    "# Create scatter plot for sweetness vs ratings\n",
    "fig_sweetness_vs_ratings = px.scatter(\n",
    "    df,\n",
    "    x='avg_sweetness',\n",
    "    y='avg_ratings_average',\n",
    "    trendline='ols',  # Add a trendline to show correlation\n",
    "    title='Sweetness vs Ratings',\n",
    "    labels={'avg_sweetness': 'Sweetness Value', 'avg_ratings_average': 'Average Rating'}\n",
    ")\n",
    "\n",
    "# Create scatter plot for acidity vs ratings\n",
    "fig_acidity_vs_ratings = px.scatter(\n",
    "    df,\n",
    "    x='avg_acidity',\n",
    "    y='avg_ratings_average',\n",
    "    trendline='ols',  # Add a trendline to show correlation\n",
    "    title='Acidity vs Ratings',\n",
    "    labels={'avg_acidity': 'Acidity Value', 'avg_ratings_average': 'Average Rating'}\n",
    ")\n",
    "\n",
    "# Update layout for better appearance\n",
    "fig_sweetness.update_layout(\n",
    "    xaxis_title='Sweetness Value',\n",
    "    yaxis_title='Count',\n",
    "    title_x=0.5  # Center the title\n",
    ")\n",
    "\n",
    "fig_sweetness_vs_ratings.update_layout(\n",
    "    xaxis_title='Sweetness Value',\n",
    "    yaxis_title='Average Rating',\n",
    "    title_x=0.5,  # Center the title\n",
    ")\n",
    "\n",
    "fig_acidity_vs_ratings.update_layout(\n",
    "    xaxis_title='Acidity Value',\n",
    "    yaxis_title='Average Rating',\n",
    "    title_x=0.5,  # Center the title\n",
    ")\n",
    "\n",
    "# Show the plots\n",
    "fig_sweetness.show()\n",
    "fig_sweetness_vs_ratings.show()\n",
    "fig_acidity_vs_ratings.show()"
   ]
  }
 ],
 "metadata": {
  "kernelspec": {
   "display_name": "base",
   "language": "python",
   "name": "python3"
  },
  "language_info": {
   "codemirror_mode": {
    "name": "ipython",
    "version": 3
   },
   "file_extension": ".py",
   "mimetype": "text/x-python",
   "name": "python",
   "nbconvert_exporter": "python",
   "pygments_lexer": "ipython3",
   "version": "3.11.7"
  }
 },
 "nbformat": 4,
 "nbformat_minor": 2
}
