{
 "cells": [
  {
   "cell_type": "code",
   "execution_count": 23,
   "metadata": {},
   "outputs": [
    {
     "data": {
      "text/html": [
       "        <script type=\"text/javascript\">\n",
       "        window.PlotlyConfig = {MathJaxConfig: 'local'};\n",
       "        if (window.MathJax && window.MathJax.Hub && window.MathJax.Hub.Config) {window.MathJax.Hub.Config({SVG: {font: \"STIX-Web\"}});}\n",
       "        if (typeof require !== 'undefined') {\n",
       "        require.undef(\"plotly\");\n",
       "        requirejs.config({\n",
       "            paths: {\n",
       "                'plotly': ['https://cdn.plot.ly/plotly-2.34.0.min']\n",
       "            }\n",
       "        });\n",
       "        require(['plotly'], function(Plotly) {\n",
       "            window._Plotly = Plotly;\n",
       "        });\n",
       "        }\n",
       "        </script>\n",
       "        "
      ]
     },
     "metadata": {},
     "output_type": "display_data"
    },
    {
     "data": {
      "text/html": [
       "        <script type=\"text/javascript\">\n",
       "        window.PlotlyConfig = {MathJaxConfig: 'local'};\n",
       "        if (window.MathJax && window.MathJax.Hub && window.MathJax.Hub.Config) {window.MathJax.Hub.Config({SVG: {font: \"STIX-Web\"}});}\n",
       "        if (typeof require !== 'undefined') {\n",
       "        require.undef(\"plotly\");\n",
       "        requirejs.config({\n",
       "            paths: {\n",
       "                'plotly': ['https://cdn.plot.ly/plotly-2.34.0.min']\n",
       "            }\n",
       "        });\n",
       "        require(['plotly'], function(Plotly) {\n",
       "            window._Plotly = Plotly;\n",
       "        });\n",
       "        }\n",
       "        </script>\n",
       "        "
      ]
     },
     "metadata": {},
     "output_type": "display_data"
    }
   ],
   "source": [
    "import pandas as pd\n",
    "import numpy as np\n",
    "import chart_studio.plotly as py\n",
    "import cufflinks as cf\n",
    "import seaborn as sns\n",
    "import plotly.express as px\n",
    "import plotly.colors as pc\n",
    "import plotly.graph_objects as go\n",
    "%matplotlib inline\n",
    "\n",
    "from plotly.offline import download_plotlyjs, init_notebook_mode, plot, iplot\n",
    "init_notebook_mode(connected=True)\n",
    "cf.go_offline()"
   ]
  },
  {
   "cell_type": "code",
   "execution_count": 3,
   "metadata": {},
   "outputs": [
    {
     "data": {
      "application/vnd.plotly.v1+json": {
       "config": {
        "plotlyServerURL": "https://plot.ly"
       },
       "data": [
        {
         "alignmentgroup": "True",
         "hovertemplate": "wine_name=Brut Champagne<br>keywords=%{x}<br>total_user_count=%{y}<extra></extra>",
         "legendgroup": "Brut Champagne",
         "marker": {
          "color": "#636efa",
          "pattern": {
           "shape": ""
          }
         },
         "name": "Brut Champagne",
         "offsetgroup": "Brut Champagne",
         "orientation": "v",
         "showlegend": true,
         "textposition": "auto",
         "type": "bar",
         "x": [
          "toast",
          "citrus",
          "cream",
          "green apple",
          "coffee"
         ],
         "xaxis": "x",
         "y": [
          4330,
          2596,
          1564,
          893,
          290
         ],
         "yaxis": "y"
        },
        {
         "alignmentgroup": "True",
         "hovertemplate": "wine_name=Grande Cuvée<br>keywords=%{x}<br>total_user_count=%{y}<extra></extra>",
         "legendgroup": "Grande Cuvée",
         "marker": {
          "color": "#EF553B",
          "pattern": {
           "shape": ""
          }
         },
         "name": "Grande Cuvée",
         "offsetgroup": "Grande Cuvée",
         "orientation": "v",
         "showlegend": true,
         "textposition": "auto",
         "type": "bar",
         "x": [
          "toast",
          "citrus",
          "cream",
          "green apple",
          "coffee"
         ],
         "xaxis": "x",
         "y": [
          1426,
          916,
          439,
          304,
          100
         ],
         "yaxis": "y"
        },
        {
         "alignmentgroup": "True",
         "hovertemplate": "wine_name=Comtes de Champagne Blanc de Blancs<br>keywords=%{x}<br>total_user_count=%{y}<extra></extra>",
         "legendgroup": "Comtes de Champagne Blanc de Blancs",
         "marker": {
          "color": "#00cc96",
          "pattern": {
           "shape": ""
          }
         },
         "name": "Comtes de Champagne Blanc de Blancs",
         "offsetgroup": "Comtes de Champagne Blanc de Blancs",
         "orientation": "v",
         "showlegend": true,
         "textposition": "auto",
         "type": "bar",
         "x": [
          "toast",
          "citrus",
          "cream",
          "green apple",
          "coffee"
         ],
         "xaxis": "x",
         "y": [
          1174,
          720,
          589,
          249,
          78
         ],
         "yaxis": "y"
        },
        {
         "alignmentgroup": "True",
         "hovertemplate": "wine_name=La Grande Année Brut Champagne<br>keywords=%{x}<br>total_user_count=%{y}<extra></extra>",
         "legendgroup": "La Grande Année Brut Champagne",
         "marker": {
          "color": "#ab63fa",
          "pattern": {
           "shape": ""
          }
         },
         "name": "La Grande Année Brut Champagne",
         "offsetgroup": "La Grande Année Brut Champagne",
         "orientation": "v",
         "showlegend": true,
         "textposition": "auto",
         "type": "bar",
         "x": [
          "toast",
          "citrus",
          "cream",
          "green apple",
          "coffee"
         ],
         "xaxis": "x",
         "y": [
          1050,
          454,
          425,
          175,
          64
         ],
         "yaxis": "y"
        },
        {
         "alignmentgroup": "True",
         "hovertemplate": "wine_name=Cristal Brut Champagne (Millésimé)<br>keywords=%{x}<br>total_user_count=%{y}<extra></extra>",
         "legendgroup": "Cristal Brut Champagne (Millésimé)",
         "marker": {
          "color": "#FFA15A",
          "pattern": {
           "shape": ""
          }
         },
         "name": "Cristal Brut Champagne (Millésimé)",
         "offsetgroup": "Cristal Brut Champagne (Millésimé)",
         "orientation": "v",
         "showlegend": true,
         "textposition": "auto",
         "type": "bar",
         "x": [
          "citrus",
          "toast",
          "cream",
          "green apple",
          "coffee"
         ],
         "xaxis": "x",
         "y": [
          954,
          928,
          496,
          298,
          52
         ],
         "yaxis": "y"
        },
        {
         "alignmentgroup": "True",
         "hovertemplate": "wine_name=Costasera Amarone della Valpolicella Classico<br>keywords=%{x}<br>total_user_count=%{y}<extra></extra>",
         "legendgroup": "Costasera Amarone della Valpolicella Classico",
         "marker": {
          "color": "#19d3f3",
          "pattern": {
           "shape": ""
          }
         },
         "name": "Costasera Amarone della Valpolicella Classico",
         "offsetgroup": "Costasera Amarone della Valpolicella Classico",
         "orientation": "v",
         "showlegend": true,
         "textposition": "auto",
         "type": "bar",
         "x": [
          "coffee",
          "toast",
          "cream"
         ],
         "xaxis": "x",
         "y": [
          744,
          68,
          49
         ],
         "yaxis": "y"
        },
        {
         "alignmentgroup": "True",
         "hovertemplate": "wine_name=Vintage<br>keywords=%{x}<br>total_user_count=%{y}<extra></extra>",
         "legendgroup": "Vintage",
         "marker": {
          "color": "#FF6692",
          "pattern": {
           "shape": ""
          }
         },
         "name": "Vintage",
         "offsetgroup": "Vintage",
         "orientation": "v",
         "showlegend": true,
         "textposition": "auto",
         "type": "bar",
         "x": [
          "toast",
          "citrus",
          "cream",
          "coffee",
          "green apple"
         ],
         "xaxis": "x",
         "y": [
          712,
          406,
          240,
          112,
          96
         ],
         "yaxis": "y"
        },
        {
         "alignmentgroup": "True",
         "hovertemplate": "wine_name=Chardonnay<br>keywords=%{x}<br>total_user_count=%{y}<extra></extra>",
         "legendgroup": "Chardonnay",
         "marker": {
          "color": "#B6E880",
          "pattern": {
           "shape": ""
          }
         },
         "name": "Chardonnay",
         "offsetgroup": "Chardonnay",
         "orientation": "v",
         "showlegend": true,
         "textposition": "auto",
         "type": "bar",
         "x": [
          "citrus",
          "green apple",
          "cream",
          "toast",
          "citrus",
          "cream",
          "toast",
          "green apple"
         ],
         "xaxis": "x",
         "y": [
          654,
          406,
          318,
          178,
          56,
          35,
          26,
          12
         ],
         "yaxis": "y"
        },
        {
         "alignmentgroup": "True",
         "hovertemplate": "wine_name=Pauillac (Premier Grand Cru Classé)<br>keywords=%{x}<br>total_user_count=%{y}<extra></extra>",
         "legendgroup": "Pauillac (Premier Grand Cru Classé)",
         "marker": {
          "color": "#FF97FF",
          "pattern": {
           "shape": ""
          }
         },
         "name": "Pauillac (Premier Grand Cru Classé)",
         "offsetgroup": "Pauillac (Premier Grand Cru Classé)",
         "orientation": "v",
         "showlegend": true,
         "textposition": "auto",
         "type": "bar",
         "x": [
          "coffee",
          "toast",
          "coffee",
          "cream",
          "toast",
          "cream",
          "citrus"
         ],
         "xaxis": "x",
         "y": [
          636,
          146,
          134,
          78,
          34,
          27,
          11
         ],
         "yaxis": "y"
        },
        {
         "alignmentgroup": "True",
         "hovertemplate": "wine_name=Sir Winston Churchill Brut Champagne<br>keywords=%{x}<br>total_user_count=%{y}<extra></extra>",
         "legendgroup": "Sir Winston Churchill Brut Champagne",
         "marker": {
          "color": "#FECB52",
          "pattern": {
           "shape": ""
          }
         },
         "name": "Sir Winston Churchill Brut Champagne",
         "offsetgroup": "Sir Winston Churchill Brut Champagne",
         "orientation": "v",
         "showlegend": true,
         "textposition": "auto",
         "type": "bar",
         "x": [
          "toast",
          "citrus",
          "cream",
          "green apple",
          "coffee"
         ],
         "xaxis": "x",
         "y": [
          564,
          408,
          290,
          127,
          26
         ],
         "yaxis": "y"
        },
        {
         "alignmentgroup": "True",
         "hovertemplate": "wine_name=Tignanello<br>keywords=%{x}<br>total_user_count=%{y}<extra></extra>",
         "legendgroup": "Tignanello",
         "marker": {
          "color": "#636efa",
          "pattern": {
           "shape": ""
          }
         },
         "name": "Tignanello",
         "offsetgroup": "Tignanello",
         "orientation": "v",
         "showlegend": true,
         "textposition": "auto",
         "type": "bar",
         "x": [
          "coffee",
          "toast",
          "cream",
          "citrus"
         ],
         "xaxis": "x",
         "y": [
          542,
          122,
          96,
          15
         ],
         "yaxis": "y"
        },
        {
         "alignmentgroup": "True",
         "hovertemplate": "wine_name=Brut Cuvée Champagne Rosé<br>keywords=%{x}<br>total_user_count=%{y}<extra></extra>",
         "legendgroup": "Brut Cuvée Champagne Rosé",
         "marker": {
          "color": "#EF553B",
          "pattern": {
           "shape": ""
          }
         },
         "name": "Brut Cuvée Champagne Rosé",
         "offsetgroup": "Brut Cuvée Champagne Rosé",
         "orientation": "v",
         "showlegend": true,
         "textposition": "auto",
         "type": "bar",
         "x": [
          "toast",
          "citrus",
          "cream",
          "green apple"
         ],
         "xaxis": "x",
         "y": [
          502,
          436,
          378,
          66
         ],
         "yaxis": "y"
        },
        {
         "alignmentgroup": "True",
         "hovertemplate": "wine_name=La Grande Dame Brut Champagne<br>keywords=%{x}<br>total_user_count=%{y}<extra></extra>",
         "legendgroup": "La Grande Dame Brut Champagne",
         "marker": {
          "color": "#00cc96",
          "pattern": {
           "shape": ""
          }
         },
         "name": "La Grande Dame Brut Champagne",
         "offsetgroup": "La Grande Dame Brut Champagne",
         "orientation": "v",
         "showlegend": true,
         "textposition": "auto",
         "type": "bar",
         "x": [
          "toast",
          "citrus",
          "cream",
          "green apple",
          "coffee"
         ],
         "xaxis": "x",
         "y": [
          488,
          326,
          178,
          111,
          32
         ],
         "yaxis": "y"
        },
        {
         "alignmentgroup": "True",
         "hovertemplate": "wine_name=Castello della Sala Cervaro della Sala<br>keywords=%{x}<br>total_user_count=%{y}<extra></extra>",
         "legendgroup": "Castello della Sala Cervaro della Sala",
         "marker": {
          "color": "#ab63fa",
          "pattern": {
           "shape": ""
          }
         },
         "name": "Castello della Sala Cervaro della Sala",
         "offsetgroup": "Castello della Sala Cervaro della Sala",
         "orientation": "v",
         "showlegend": true,
         "textposition": "auto",
         "type": "bar",
         "x": [
          "citrus",
          "cream",
          "toast",
          "green apple"
         ],
         "xaxis": "x",
         "y": [
          486,
          268,
          156,
          72
         ],
         "yaxis": "y"
        },
        {
         "alignmentgroup": "True",
         "hovertemplate": "wine_name=Belle Epoque Brut Champagne<br>keywords=%{x}<br>total_user_count=%{y}<extra></extra>",
         "legendgroup": "Belle Epoque Brut Champagne",
         "marker": {
          "color": "#FFA15A",
          "pattern": {
           "shape": ""
          }
         },
         "name": "Belle Epoque Brut Champagne",
         "offsetgroup": "Belle Epoque Brut Champagne",
         "orientation": "v",
         "showlegend": true,
         "textposition": "auto",
         "type": "bar",
         "x": [
          "toast",
          "citrus",
          "green apple",
          "cream",
          "coffee"
         ],
         "xaxis": "x",
         "y": [
          478,
          423,
          224,
          207,
          28
         ],
         "yaxis": "y"
        },
        {
         "alignmentgroup": "True",
         "hovertemplate": "wine_name=Cos d'Estournel<br>keywords=%{x}<br>total_user_count=%{y}<extra></extra>",
         "legendgroup": "Cos d'Estournel",
         "marker": {
          "color": "#19d3f3",
          "pattern": {
           "shape": ""
          }
         },
         "name": "Cos d'Estournel",
         "offsetgroup": "Cos d'Estournel",
         "orientation": "v",
         "showlegend": true,
         "textposition": "auto",
         "type": "bar",
         "x": [
          "coffee",
          "toast",
          "cream"
         ],
         "xaxis": "x",
         "y": [
          462,
          108,
          62
         ],
         "yaxis": "y"
        },
        {
         "alignmentgroup": "True",
         "hovertemplate": "wine_name=Dom Ruinart Blanc de Blancs Brut Champagne<br>keywords=%{x}<br>total_user_count=%{y}<extra></extra>",
         "legendgroup": "Dom Ruinart Blanc de Blancs Brut Champagne",
         "marker": {
          "color": "#FF6692",
          "pattern": {
           "shape": ""
          }
         },
         "name": "Dom Ruinart Blanc de Blancs Brut Champagne",
         "offsetgroup": "Dom Ruinart Blanc de Blancs Brut Champagne",
         "orientation": "v",
         "showlegend": true,
         "textposition": "auto",
         "type": "bar",
         "x": [
          "toast",
          "citrus",
          "cream",
          "green apple",
          "coffee"
         ],
         "xaxis": "x",
         "y": [
          452,
          250,
          165,
          86,
          44
         ],
         "yaxis": "y"
        },
        {
         "alignmentgroup": "True",
         "hovertemplate": "wine_name=Brut Rosé Champagne<br>keywords=%{x}<br>total_user_count=%{y}<extra></extra>",
         "legendgroup": "Brut Rosé Champagne",
         "marker": {
          "color": "#B6E880",
          "pattern": {
           "shape": ""
          }
         },
         "name": "Brut Rosé Champagne",
         "offsetgroup": "Brut Rosé Champagne",
         "orientation": "v",
         "showlegend": true,
         "textposition": "auto",
         "type": "bar",
         "x": [
          "citrus",
          "toast",
          "cream",
          "toast",
          "citrus",
          "cream",
          "toast",
          "cream",
          "green apple",
          "citrus",
          "green apple",
          "coffee",
          "cream"
         ],
         "xaxis": "x",
         "y": [
          441,
          380,
          364,
          316,
          242,
          222,
          214,
          141,
          91,
          79,
          29,
          14,
          13
         ],
         "yaxis": "y"
        },
        {
         "alignmentgroup": "True",
         "hovertemplate": "wine_name=Grand Siècle Champagne (Grande Cuvée)<br>keywords=%{x}<br>total_user_count=%{y}<extra></extra>",
         "legendgroup": "Grand Siècle Champagne (Grande Cuvée)",
         "marker": {
          "color": "#FF97FF",
          "pattern": {
           "shape": ""
          }
         },
         "name": "Grand Siècle Champagne (Grande Cuvée)",
         "offsetgroup": "Grand Siècle Champagne (Grande Cuvée)",
         "orientation": "v",
         "showlegend": true,
         "textposition": "auto",
         "type": "bar",
         "x": [
          "toast",
          "citrus",
          "cream",
          "green apple",
          "coffee"
         ],
         "xaxis": "x",
         "y": [
          424,
          296,
          169,
          136,
          14
         ],
         "yaxis": "y"
        },
        {
         "alignmentgroup": "True",
         "hovertemplate": "wine_name=Pauillac (Grand Cru Classé)<br>keywords=%{x}<br>total_user_count=%{y}<extra></extra>",
         "legendgroup": "Pauillac (Grand Cru Classé)",
         "marker": {
          "color": "#FECB52",
          "pattern": {
           "shape": ""
          }
         },
         "name": "Pauillac (Grand Cru Classé)",
         "offsetgroup": "Pauillac (Grand Cru Classé)",
         "orientation": "v",
         "showlegend": true,
         "textposition": "auto",
         "type": "bar",
         "x": [
          "coffee",
          "coffee",
          "coffee",
          "coffee",
          "toast",
          "toast",
          "toast",
          "toast",
          "cream",
          "cream",
          "cream",
          "cream",
          "citrus"
         ],
         "xaxis": "x",
         "y": [
          402,
          314,
          308,
          294,
          98,
          86,
          84,
          74,
          58,
          49,
          46,
          36,
          12
         ],
         "yaxis": "y"
        },
        {
         "alignmentgroup": "True",
         "hovertemplate": "wine_name=Ribera del Duero<br>keywords=%{x}<br>total_user_count=%{y}<extra></extra>",
         "legendgroup": "Ribera del Duero",
         "marker": {
          "color": "#636efa",
          "pattern": {
           "shape": ""
          }
         },
         "name": "Ribera del Duero",
         "offsetgroup": "Ribera del Duero",
         "orientation": "v",
         "showlegend": true,
         "textposition": "auto",
         "type": "bar",
         "x": [
          "coffee",
          "toast",
          "cream"
         ],
         "xaxis": "x",
         "y": [
          384,
          118,
          73
         ],
         "yaxis": "y"
        },
        {
         "alignmentgroup": "True",
         "hovertemplate": "wine_name=Saint-Julien (Grand Cru Classé)<br>keywords=%{x}<br>total_user_count=%{y}<extra></extra>",
         "legendgroup": "Saint-Julien (Grand Cru Classé)",
         "marker": {
          "color": "#EF553B",
          "pattern": {
           "shape": ""
          }
         },
         "name": "Saint-Julien (Grand Cru Classé)",
         "offsetgroup": "Saint-Julien (Grand Cru Classé)",
         "orientation": "v",
         "showlegend": true,
         "textposition": "auto",
         "type": "bar",
         "x": [
          "coffee",
          "coffee",
          "coffee",
          "coffee",
          "coffee",
          "toast",
          "toast",
          "cream",
          "toast",
          "toast",
          "toast",
          "cream",
          "cream",
          "cream",
          "cream"
         ],
         "xaxis": "x",
         "y": [
          370,
          306,
          238,
          214,
          204,
          108,
          86,
          65,
          64,
          60,
          58,
          56,
          43,
          42,
          26
         ],
         "yaxis": "y"
        },
        {
         "alignmentgroup": "True",
         "hovertemplate": "wine_name=Toro<br>keywords=%{x}<br>total_user_count=%{y}<extra></extra>",
         "legendgroup": "Toro",
         "marker": {
          "color": "#00cc96",
          "pattern": {
           "shape": ""
          }
         },
         "name": "Toro",
         "offsetgroup": "Toro",
         "orientation": "v",
         "showlegend": true,
         "textposition": "auto",
         "type": "bar",
         "x": [
          "coffee",
          "toast",
          "cream"
         ],
         "xaxis": "x",
         "y": [
          368,
          116,
          60
         ],
         "yaxis": "y"
        },
        {
         "alignmentgroup": "True",
         "hovertemplate": "wine_name=Sassicaia<br>keywords=%{x}<br>total_user_count=%{y}<extra></extra>",
         "legendgroup": "Sassicaia",
         "marker": {
          "color": "#ab63fa",
          "pattern": {
           "shape": ""
          }
         },
         "name": "Sassicaia",
         "offsetgroup": "Sassicaia",
         "orientation": "v",
         "showlegend": true,
         "textposition": "auto",
         "type": "bar",
         "x": [
          "coffee",
          "toast",
          "cream",
          "citrus"
         ],
         "xaxis": "x",
         "y": [
          358,
          94,
          75,
          16
         ],
         "yaxis": "y"
        },
        {
         "alignmentgroup": "True",
         "hovertemplate": "wine_name=Cabernet Sauvignon<br>keywords=%{x}<br>total_user_count=%{y}<extra></extra>",
         "legendgroup": "Cabernet Sauvignon",
         "marker": {
          "color": "#FFA15A",
          "pattern": {
           "shape": ""
          }
         },
         "name": "Cabernet Sauvignon",
         "offsetgroup": "Cabernet Sauvignon",
         "orientation": "v",
         "showlegend": true,
         "textposition": "auto",
         "type": "bar",
         "x": [
          "coffee",
          "cream",
          "coffee",
          "toast",
          "toast",
          "cream",
          "coffee",
          "coffee",
          "toast",
          "coffee",
          "coffee",
          "citrus",
          "cream"
         ],
         "xaxis": "x",
         "y": [
          346,
          252,
          160,
          156,
          52,
          51,
          50,
          32,
          16,
          14,
          14,
          11,
          11
         ],
         "yaxis": "y"
        },
        {
         "alignmentgroup": "True",
         "hovertemplate": "wine_name=R.D Extra Brut Champagne (Récemment Dégorgé)<br>keywords=%{x}<br>total_user_count=%{y}<extra></extra>",
         "legendgroup": "R.D Extra Brut Champagne (Récemment Dégorgé)",
         "marker": {
          "color": "#19d3f3",
          "pattern": {
           "shape": ""
          }
         },
         "name": "R.D Extra Brut Champagne (Récemment Dégorgé)",
         "offsetgroup": "R.D Extra Brut Champagne (Récemment Dégorgé)",
         "orientation": "v",
         "showlegend": true,
         "textposition": "auto",
         "type": "bar",
         "x": [
          "toast",
          "cream",
          "citrus",
          "coffee",
          "green apple"
         ],
         "xaxis": "x",
         "y": [
          326,
          157,
          149,
          34,
          34
         ],
         "yaxis": "y"
        },
        {
         "alignmentgroup": "True",
         "hovertemplate": "wine_name=P2 Plénitude Brut Champagne<br>keywords=%{x}<br>total_user_count=%{y}<extra></extra>",
         "legendgroup": "P2 Plénitude Brut Champagne",
         "marker": {
          "color": "#FF6692",
          "pattern": {
           "shape": ""
          }
         },
         "name": "P2 Plénitude Brut Champagne",
         "offsetgroup": "P2 Plénitude Brut Champagne",
         "orientation": "v",
         "showlegend": true,
         "textposition": "auto",
         "type": "bar",
         "x": [
          "toast",
          "citrus",
          "cream",
          "green apple",
          "coffee"
         ],
         "xaxis": "x",
         "y": [
          322,
          141,
          135,
          30,
          28
         ],
         "yaxis": "y"
        },
        {
         "alignmentgroup": "True",
         "hovertemplate": "wine_name=Blanc des Millénaires<br>keywords=%{x}<br>total_user_count=%{y}<extra></extra>",
         "legendgroup": "Blanc des Millénaires",
         "marker": {
          "color": "#B6E880",
          "pattern": {
           "shape": ""
          }
         },
         "name": "Blanc des Millénaires",
         "offsetgroup": "Blanc des Millénaires",
         "orientation": "v",
         "showlegend": true,
         "textposition": "auto",
         "type": "bar",
         "x": [
          "toast",
          "citrus",
          "cream",
          "green apple",
          "coffee"
         ],
         "xaxis": "x",
         "y": [
          320,
          181,
          149,
          66,
          54
         ],
         "yaxis": "y"
        },
        {
         "alignmentgroup": "True",
         "hovertemplate": "wine_name=Cuvée Nicolas François Billecart Brut Champagne<br>keywords=%{x}<br>total_user_count=%{y}<extra></extra>",
         "legendgroup": "Cuvée Nicolas François Billecart Brut Champagne",
         "marker": {
          "color": "#FF97FF",
          "pattern": {
           "shape": ""
          }
         },
         "name": "Cuvée Nicolas François Billecart Brut Champagne",
         "offsetgroup": "Cuvée Nicolas François Billecart Brut Champagne",
         "orientation": "v",
         "showlegend": true,
         "textposition": "auto",
         "type": "bar",
         "x": [
          "toast",
          "citrus",
          "cream",
          "green apple"
         ],
         "xaxis": "x",
         "y": [
          318,
          173,
          134,
          53
         ],
         "yaxis": "y"
        },
        {
         "alignmentgroup": "True",
         "hovertemplate": "wine_name=Opus One<br>keywords=%{x}<br>total_user_count=%{y}<extra></extra>",
         "legendgroup": "Opus One",
         "marker": {
          "color": "#FECB52",
          "pattern": {
           "shape": ""
          }
         },
         "name": "Opus One",
         "offsetgroup": "Opus One",
         "orientation": "v",
         "showlegend": true,
         "textposition": "auto",
         "type": "bar",
         "x": [
          "coffee",
          "cream",
          "toast",
          "citrus"
         ],
         "xaxis": "x",
         "y": [
          298,
          119,
          110,
          10
         ],
         "yaxis": "y"
        },
        {
         "alignmentgroup": "True",
         "hovertemplate": "wine_name=60 Sessantanni Old Vines Primitivo di Manduria<br>keywords=%{x}<br>total_user_count=%{y}<extra></extra>",
         "legendgroup": "60 Sessantanni Old Vines Primitivo di Manduria",
         "marker": {
          "color": "#636efa",
          "pattern": {
           "shape": ""
          }
         },
         "name": "60 Sessantanni Old Vines Primitivo di Manduria",
         "offsetgroup": "60 Sessantanni Old Vines Primitivo di Manduria",
         "orientation": "v",
         "showlegend": true,
         "textposition": "auto",
         "type": "bar",
         "x": [
          "coffee",
          "cream",
          "toast"
         ],
         "xaxis": "x",
         "y": [
          272,
          27,
          22
         ],
         "yaxis": "y"
        },
        {
         "alignmentgroup": "True",
         "hovertemplate": "wine_name=Grange<br>keywords=%{x}<br>total_user_count=%{y}<extra></extra>",
         "legendgroup": "Grange",
         "marker": {
          "color": "#EF553B",
          "pattern": {
           "shape": ""
          }
         },
         "name": "Grange",
         "offsetgroup": "Grange",
         "orientation": "v",
         "showlegend": true,
         "textposition": "auto",
         "type": "bar",
         "x": [
          "coffee",
          "toast",
          "cream"
         ],
         "xaxis": "x",
         "y": [
          258,
          66,
          44
         ],
         "yaxis": "y"
        },
        {
         "alignmentgroup": "True",
         "hovertemplate": "wine_name=Pessac-Léognan (Premier Grand Cru Classé)<br>keywords=%{x}<br>total_user_count=%{y}<extra></extra>",
         "legendgroup": "Pessac-Léognan (Premier Grand Cru Classé)",
         "marker": {
          "color": "#00cc96",
          "pattern": {
           "shape": ""
          }
         },
         "name": "Pessac-Léognan (Premier Grand Cru Classé)",
         "offsetgroup": "Pessac-Léognan (Premier Grand Cru Classé)",
         "orientation": "v",
         "showlegend": true,
         "textposition": "auto",
         "type": "bar",
         "x": [
          "coffee",
          "toast",
          "cream",
          "citrus"
         ],
         "xaxis": "x",
         "y": [
          258,
          76,
          38,
          10
         ],
         "yaxis": "y"
        },
        {
         "alignmentgroup": "True",
         "hovertemplate": "wine_name=Corton-Charlemagne Grand Cru<br>keywords=%{x}<br>total_user_count=%{y}<extra></extra>",
         "legendgroup": "Corton-Charlemagne Grand Cru",
         "marker": {
          "color": "#ab63fa",
          "pattern": {
           "shape": ""
          }
         },
         "name": "Corton-Charlemagne Grand Cru",
         "offsetgroup": "Corton-Charlemagne Grand Cru",
         "orientation": "v",
         "showlegend": true,
         "textposition": "auto",
         "type": "bar",
         "x": [
          "citrus",
          "cream",
          "toast",
          "cream",
          "citrus",
          "toast",
          "citrus",
          "green apple",
          "toast",
          "citrus",
          "toast",
          "citrus",
          "citrus",
          "toast",
          "green apple",
          "green apple",
          "cream",
          "cream",
          "citrus",
          "cream",
          "cream"
         ],
         "xaxis": "x",
         "y": [
          254,
          132,
          114,
          110,
          86,
          86,
          58,
          48,
          32,
          25,
          24,
          24,
          18,
          18,
          16,
          14,
          13,
          13,
          12,
          10,
          10
         ],
         "yaxis": "y"
        },
        {
         "alignmentgroup": "True",
         "hovertemplate": "wine_name=Amarone della Valpolicella Classico<br>keywords=%{x}<br>total_user_count=%{y}<extra></extra>",
         "legendgroup": "Amarone della Valpolicella Classico",
         "marker": {
          "color": "#FFA15A",
          "pattern": {
           "shape": ""
          }
         },
         "name": "Amarone della Valpolicella Classico",
         "offsetgroup": "Amarone della Valpolicella Classico",
         "orientation": "v",
         "showlegend": true,
         "textposition": "auto",
         "type": "bar",
         "x": [
          "coffee",
          "coffee",
          "coffee",
          "coffee",
          "coffee",
          "cream",
          "toast",
          "coffee",
          "coffee",
          "toast",
          "cream",
          "toast",
          "cream",
          "cream",
          "citrus",
          "coffee",
          "toast"
         ],
         "xaxis": "x",
         "y": [
          252,
          176,
          174,
          94,
          78,
          55,
          50,
          38,
          34,
          30,
          28,
          28,
          21,
          15,
          15,
          14,
          12
         ],
         "yaxis": "y"
        },
        {
         "alignmentgroup": "True",
         "hovertemplate": "wine_name=Blanc de Blancs Brut Champagne Grand Cru<br>keywords=%{x}<br>total_user_count=%{y}<extra></extra>",
         "legendgroup": "Blanc de Blancs Brut Champagne Grand Cru",
         "marker": {
          "color": "#19d3f3",
          "pattern": {
           "shape": ""
          }
         },
         "name": "Blanc de Blancs Brut Champagne Grand Cru",
         "offsetgroup": "Blanc de Blancs Brut Champagne Grand Cru",
         "orientation": "v",
         "showlegend": true,
         "textposition": "auto",
         "type": "bar",
         "x": [
          "toast",
          "citrus",
          "cream",
          "green apple"
         ],
         "xaxis": "x",
         "y": [
          252,
          152,
          118,
          74
         ],
         "yaxis": "y"
        },
        {
         "alignmentgroup": "True",
         "hovertemplate": "wine_name=Bolgheri Superiore<br>keywords=%{x}<br>total_user_count=%{y}<extra></extra>",
         "legendgroup": "Bolgheri Superiore",
         "marker": {
          "color": "#FF6692",
          "pattern": {
           "shape": ""
          }
         },
         "name": "Bolgheri Superiore",
         "offsetgroup": "Bolgheri Superiore",
         "orientation": "v",
         "showlegend": true,
         "textposition": "auto",
         "type": "bar",
         "x": [
          "coffee",
          "toast",
          "cream",
          "coffee",
          "coffee",
          "toast",
          "cream",
          "cream"
         ],
         "xaxis": "x",
         "y": [
          250,
          80,
          64,
          60,
          46,
          18,
          12,
          10
         ],
         "yaxis": "y"
        },
        {
         "alignmentgroup": "True",
         "hovertemplate": "wine_name=Almaviva<br>keywords=%{x}<br>total_user_count=%{y}<extra></extra>",
         "legendgroup": "Almaviva",
         "marker": {
          "color": "#B6E880",
          "pattern": {
           "shape": ""
          }
         },
         "name": "Almaviva",
         "offsetgroup": "Almaviva",
         "orientation": "v",
         "showlegend": true,
         "textposition": "auto",
         "type": "bar",
         "x": [
          "coffee",
          "toast",
          "cream"
         ],
         "xaxis": "x",
         "y": [
          246,
          60,
          41
         ],
         "yaxis": "y"
        },
        {
         "alignmentgroup": "True",
         "hovertemplate": "wine_name=Valbuena 5º<br>keywords=%{x}<br>total_user_count=%{y}<extra></extra>",
         "legendgroup": "Valbuena 5º",
         "marker": {
          "color": "#FF97FF",
          "pattern": {
           "shape": ""
          }
         },
         "name": "Valbuena 5º",
         "offsetgroup": "Valbuena 5º",
         "orientation": "v",
         "showlegend": true,
         "textposition": "auto",
         "type": "bar",
         "x": [
          "coffee",
          "toast",
          "cream"
         ],
         "xaxis": "x",
         "y": [
          244,
          138,
          60
         ],
         "yaxis": "y"
        },
        {
         "alignmentgroup": "True",
         "hovertemplate": "wine_name=Le Mesnil Blanc de Blancs (Cuvée S) Brut Champagne<br>keywords=%{x}<br>total_user_count=%{y}<extra></extra>",
         "legendgroup": "Le Mesnil Blanc de Blancs (Cuvée S) Brut Champagne",
         "marker": {
          "color": "#FECB52",
          "pattern": {
           "shape": ""
          }
         },
         "name": "Le Mesnil Blanc de Blancs (Cuvée S) Brut Champagne",
         "offsetgroup": "Le Mesnil Blanc de Blancs (Cuvée S) Brut Champagne",
         "orientation": "v",
         "showlegend": true,
         "textposition": "auto",
         "type": "bar",
         "x": [
          "citrus",
          "toast",
          "cream",
          "green apple",
          "coffee"
         ],
         "xaxis": "x",
         "y": [
          240,
          200,
          118,
          76,
          24
         ],
         "yaxis": "y"
        },
        {
         "alignmentgroup": "True",
         "hovertemplate": "wine_name=Tenuta Guado al Tasso Bolgheri Superiore<br>keywords=%{x}<br>total_user_count=%{y}<extra></extra>",
         "legendgroup": "Tenuta Guado al Tasso Bolgheri Superiore",
         "marker": {
          "color": "#636efa",
          "pattern": {
           "shape": ""
          }
         },
         "name": "Tenuta Guado al Tasso Bolgheri Superiore",
         "offsetgroup": "Tenuta Guado al Tasso Bolgheri Superiore",
         "orientation": "v",
         "showlegend": true,
         "textposition": "auto",
         "type": "bar",
         "x": [
          "coffee",
          "toast",
          "cream"
         ],
         "xaxis": "x",
         "y": [
          234,
          44,
          28
         ],
         "yaxis": "y"
        },
        {
         "alignmentgroup": "True",
         "hovertemplate": "wine_name=Unico<br>keywords=%{x}<br>total_user_count=%{y}<extra></extra>",
         "legendgroup": "Unico",
         "marker": {
          "color": "#EF553B",
          "pattern": {
           "shape": ""
          }
         },
         "name": "Unico",
         "offsetgroup": "Unico",
         "orientation": "v",
         "showlegend": true,
         "textposition": "auto",
         "type": "bar",
         "x": [
          "coffee",
          "toast",
          "cream",
          "citrus"
         ],
         "xaxis": "x",
         "y": [
          234,
          76,
          53,
          11
         ],
         "yaxis": "y"
        },
        {
         "alignmentgroup": "True",
         "hovertemplate": "wine_name=Pessac-Léognan (Grand Cru Classé de Graves)<br>keywords=%{x}<br>total_user_count=%{y}<extra></extra>",
         "legendgroup": "Pessac-Léognan (Grand Cru Classé de Graves)",
         "marker": {
          "color": "#00cc96",
          "pattern": {
           "shape": ""
          }
         },
         "name": "Pessac-Léognan (Grand Cru Classé de Graves)",
         "offsetgroup": "Pessac-Léognan (Grand Cru Classé de Graves)",
         "orientation": "v",
         "showlegend": true,
         "textposition": "auto",
         "type": "bar",
         "x": [
          "coffee",
          "coffee",
          "coffee",
          "toast",
          "cream",
          "toast",
          "cream",
          "citrus",
          "citrus",
          "toast",
          "cream"
         ],
         "xaxis": "x",
         "y": [
          234,
          210,
          86,
          72,
          70,
          62,
          53,
          33,
          29,
          28,
          20
         ],
         "yaxis": "y"
        },
        {
         "alignmentgroup": "True",
         "hovertemplate": "wine_name=ARTEMIS Cabernet Sauvignon<br>keywords=%{x}<br>total_user_count=%{y}<extra></extra>",
         "legendgroup": "ARTEMIS Cabernet Sauvignon",
         "marker": {
          "color": "#ab63fa",
          "pattern": {
           "shape": ""
          }
         },
         "name": "ARTEMIS Cabernet Sauvignon",
         "offsetgroup": "ARTEMIS Cabernet Sauvignon",
         "orientation": "v",
         "showlegend": true,
         "textposition": "auto",
         "type": "bar",
         "x": [
          "coffee",
          "toast",
          "cream"
         ],
         "xaxis": "x",
         "y": [
          232,
          120,
          93
         ],
         "yaxis": "y"
        },
        {
         "alignmentgroup": "True",
         "hovertemplate": "wine_name=MV<br>keywords=%{x}<br>total_user_count=%{y}<extra></extra>",
         "legendgroup": "MV",
         "marker": {
          "color": "#FFA15A",
          "pattern": {
           "shape": ""
          }
         },
         "name": "MV",
         "offsetgroup": "MV",
         "orientation": "v",
         "showlegend": true,
         "textposition": "auto",
         "type": "bar",
         "x": [
          "toast",
          "citrus",
          "cream",
          "green apple",
          "coffee"
         ],
         "xaxis": "x",
         "y": [
          226,
          131,
          109,
          33,
          20
         ],
         "yaxis": "y"
        },
        {
         "alignmentgroup": "True",
         "hovertemplate": "wine_name=Grand Vin de Château Palmer (Grand Cru Classé)<br>keywords=%{x}<br>total_user_count=%{y}<extra></extra>",
         "legendgroup": "Grand Vin de Château Palmer (Grand Cru Classé)",
         "marker": {
          "color": "#19d3f3",
          "pattern": {
           "shape": ""
          }
         },
         "name": "Grand Vin de Château Palmer (Grand Cru Classé)",
         "offsetgroup": "Grand Vin de Château Palmer (Grand Cru Classé)",
         "orientation": "v",
         "showlegend": true,
         "textposition": "auto",
         "type": "bar",
         "x": [
          "coffee",
          "toast",
          "cream"
         ],
         "xaxis": "x",
         "y": [
          222,
          70,
          38
         ],
         "yaxis": "y"
        },
        {
         "alignmentgroup": "True",
         "hovertemplate": "wine_name=Grand Vin Pauillac (Premier Grand Cru Classé)<br>keywords=%{x}<br>total_user_count=%{y}<extra></extra>",
         "legendgroup": "Grand Vin Pauillac (Premier Grand Cru Classé)",
         "marker": {
          "color": "#FF6692",
          "pattern": {
           "shape": ""
          }
         },
         "name": "Grand Vin Pauillac (Premier Grand Cru Classé)",
         "offsetgroup": "Grand Vin Pauillac (Premier Grand Cru Classé)",
         "orientation": "v",
         "showlegend": true,
         "textposition": "auto",
         "type": "bar",
         "x": [
          "coffee",
          "toast",
          "cream"
         ],
         "xaxis": "x",
         "y": [
          216,
          46,
          29
         ],
         "yaxis": "y"
        },
        {
         "alignmentgroup": "True",
         "hovertemplate": "wine_name=Sauternes<br>keywords=%{x}<br>total_user_count=%{y}<extra></extra>",
         "legendgroup": "Sauternes",
         "marker": {
          "color": "#B6E880",
          "pattern": {
           "shape": ""
          }
         },
         "name": "Sauternes",
         "offsetgroup": "Sauternes",
         "orientation": "v",
         "showlegend": true,
         "textposition": "auto",
         "type": "bar",
         "x": [
          "cream",
          "citrus",
          "toast",
          "coffee",
          "green apple"
         ],
         "xaxis": "x",
         "y": [
          215,
          201,
          98,
          52,
          13
         ],
         "yaxis": "y"
        },
        {
         "alignmentgroup": "True",
         "hovertemplate": "wine_name=Clio<br>keywords=%{x}<br>total_user_count=%{y}<extra></extra>",
         "legendgroup": "Clio",
         "marker": {
          "color": "#FF97FF",
          "pattern": {
           "shape": ""
          }
         },
         "name": "Clio",
         "offsetgroup": "Clio",
         "orientation": "v",
         "showlegend": true,
         "textposition": "auto",
         "type": "bar",
         "x": [
          "coffee",
          "cream",
          "toast"
         ],
         "xaxis": "x",
         "y": [
          210,
          54,
          44
         ],
         "yaxis": "y"
        },
        {
         "alignmentgroup": "True",
         "hovertemplate": "wine_name=Château Margaux (Premier Grand Cru Classé)<br>keywords=%{x}<br>total_user_count=%{y}<extra></extra>",
         "legendgroup": "Château Margaux (Premier Grand Cru Classé)",
         "marker": {
          "color": "#FECB52",
          "pattern": {
           "shape": ""
          }
         },
         "name": "Château Margaux (Premier Grand Cru Classé)",
         "offsetgroup": "Château Margaux (Premier Grand Cru Classé)",
         "orientation": "v",
         "showlegend": true,
         "textposition": "auto",
         "type": "bar",
         "x": [
          "coffee",
          "toast",
          "cream",
          "citrus"
         ],
         "xaxis": "x",
         "y": [
          206,
          76,
          37,
          10
         ],
         "yaxis": "y"
        },
        {
         "alignmentgroup": "True",
         "hovertemplate": "wine_name=Le Serre Nuove<br>keywords=%{x}<br>total_user_count=%{y}<extra></extra>",
         "legendgroup": "Le Serre Nuove",
         "marker": {
          "color": "#636efa",
          "pattern": {
           "shape": ""
          }
         },
         "name": "Le Serre Nuove",
         "offsetgroup": "Le Serre Nuove",
         "orientation": "v",
         "showlegend": true,
         "textposition": "auto",
         "type": "bar",
         "x": [
          "coffee",
          "cream",
          "toast"
         ],
         "xaxis": "x",
         "y": [
          202,
          56,
          48
         ],
         "yaxis": "y"
        },
        {
         "alignmentgroup": "True",
         "hovertemplate": "wine_name=Saint-Émilion Grand Cru (Premier Grand Cru Classé)<br>keywords=%{x}<br>total_user_count=%{y}<extra></extra>",
         "legendgroup": "Saint-Émilion Grand Cru (Premier Grand Cru Classé)",
         "marker": {
          "color": "#EF553B",
          "pattern": {
           "shape": ""
          }
         },
         "name": "Saint-Émilion Grand Cru (Premier Grand Cru Classé)",
         "offsetgroup": "Saint-Émilion Grand Cru (Premier Grand Cru Classé)",
         "orientation": "v",
         "showlegend": true,
         "textposition": "auto",
         "type": "bar",
         "x": [
          "coffee",
          "coffee",
          "coffee",
          "coffee",
          "coffee",
          "coffee",
          "coffee",
          "coffee",
          "toast",
          "toast",
          "cream",
          "cream",
          "toast",
          "cream",
          "toast",
          "cream",
          "toast",
          "toast",
          "cream",
          "cream",
          "cream",
          "toast",
          "toast"
         ],
         "xaxis": "x",
         "y": [
          202,
          176,
          166,
          160,
          134,
          92,
          74,
          66,
          48,
          46,
          36,
          33,
          30,
          28,
          28,
          26,
          26,
          24,
          22,
          19,
          18,
          14,
          14
         ],
         "yaxis": "y"
        },
        {
         "alignmentgroup": "True",
         "hovertemplate": "wine_name=Tenuta Tignanello 'Solaia'<br>keywords=%{x}<br>total_user_count=%{y}<extra></extra>",
         "legendgroup": "Tenuta Tignanello 'Solaia'",
         "marker": {
          "color": "#00cc96",
          "pattern": {
           "shape": ""
          }
         },
         "name": "Tenuta Tignanello 'Solaia'",
         "offsetgroup": "Tenuta Tignanello 'Solaia'",
         "orientation": "v",
         "showlegend": true,
         "textposition": "auto",
         "type": "bar",
         "x": [
          "coffee",
          "toast",
          "cream"
         ],
         "xaxis": "x",
         "y": [
          200,
          38,
          33
         ],
         "yaxis": "y"
        },
        {
         "alignmentgroup": "True",
         "hovertemplate": "wine_name=Les Noisetiers<br>keywords=%{x}<br>total_user_count=%{y}<extra></extra>",
         "legendgroup": "Les Noisetiers",
         "marker": {
          "color": "#ab63fa",
          "pattern": {
           "shape": ""
          }
         },
         "name": "Les Noisetiers",
         "offsetgroup": "Les Noisetiers",
         "orientation": "v",
         "showlegend": true,
         "textposition": "auto",
         "type": "bar",
         "x": [
          "cream",
          "citrus",
          "toast",
          "green apple"
         ],
         "xaxis": "x",
         "y": [
          197,
          174,
          74,
          44
         ],
         "yaxis": "y"
        },
        {
         "alignmentgroup": "True",
         "hovertemplate": "wine_name=Insignia<br>keywords=%{x}<br>total_user_count=%{y}<extra></extra>",
         "legendgroup": "Insignia",
         "marker": {
          "color": "#FFA15A",
          "pattern": {
           "shape": ""
          }
         },
         "name": "Insignia",
         "offsetgroup": "Insignia",
         "orientation": "v",
         "showlegend": true,
         "textposition": "auto",
         "type": "bar",
         "x": [
          "coffee",
          "toast",
          "cream"
         ],
         "xaxis": "x",
         "y": [
          194,
          58,
          51
         ],
         "yaxis": "y"
        },
        {
         "alignmentgroup": "True",
         "hovertemplate": "wine_name=Amour de Deutz Millésimé Brut Champagne<br>keywords=%{x}<br>total_user_count=%{y}<extra></extra>",
         "legendgroup": "Amour de Deutz Millésimé Brut Champagne",
         "marker": {
          "color": "#19d3f3",
          "pattern": {
           "shape": ""
          }
         },
         "name": "Amour de Deutz Millésimé Brut Champagne",
         "offsetgroup": "Amour de Deutz Millésimé Brut Champagne",
         "orientation": "v",
         "showlegend": true,
         "textposition": "auto",
         "type": "bar",
         "x": [
          "toast",
          "cream",
          "citrus",
          "green apple"
         ],
         "xaxis": "x",
         "y": [
          190,
          92,
          89,
          25
         ],
         "yaxis": "y"
        },
        {
         "alignmentgroup": "True",
         "hovertemplate": "wine_name=Pomerol<br>keywords=%{x}<br>total_user_count=%{y}<extra></extra>",
         "legendgroup": "Pomerol",
         "marker": {
          "color": "#FF6692",
          "pattern": {
           "shape": ""
          }
         },
         "name": "Pomerol",
         "offsetgroup": "Pomerol",
         "orientation": "v",
         "showlegend": true,
         "textposition": "auto",
         "type": "bar",
         "x": [
          "coffee",
          "coffee",
          "coffee",
          "coffee",
          "coffee",
          "coffee",
          "coffee",
          "coffee",
          "toast",
          "coffee",
          "toast",
          "coffee",
          "coffee",
          "toast",
          "toast",
          "cream",
          "toast",
          "toast",
          "cream",
          "coffee",
          "cream",
          "cream",
          "toast",
          "toast",
          "cream",
          "cream",
          "cream",
          "cream",
          "toast",
          "cream"
         ],
         "xaxis": "x",
         "y": [
          188,
          124,
          104,
          98,
          92,
          90,
          88,
          72,
          62,
          50,
          46,
          44,
          36,
          32,
          32,
          29,
          28,
          28,
          26,
          26,
          22,
          21,
          20,
          20,
          18,
          15,
          13,
          12,
          12,
          10
         ],
         "yaxis": "y"
        },
        {
         "alignmentgroup": "True",
         "hovertemplate": "wine_name=Saint-Estèphe (Grand Cru Classé)<br>keywords=%{x}<br>total_user_count=%{y}<extra></extra>",
         "legendgroup": "Saint-Estèphe (Grand Cru Classé)",
         "marker": {
          "color": "#B6E880",
          "pattern": {
           "shape": ""
          }
         },
         "name": "Saint-Estèphe (Grand Cru Classé)",
         "offsetgroup": "Saint-Estèphe (Grand Cru Classé)",
         "orientation": "v",
         "showlegend": true,
         "textposition": "auto",
         "type": "bar",
         "x": [
          "coffee",
          "toast",
          "cream"
         ],
         "xaxis": "x",
         "y": [
          188,
          70,
          39
         ],
         "yaxis": "y"
        },
        {
         "alignmentgroup": "True",
         "hovertemplate": "wine_name=Silex<br>keywords=%{x}<br>total_user_count=%{y}<extra></extra>",
         "legendgroup": "Silex",
         "marker": {
          "color": "#FF97FF",
          "pattern": {
           "shape": ""
          }
         },
         "name": "Silex",
         "offsetgroup": "Silex",
         "orientation": "v",
         "showlegend": true,
         "textposition": "auto",
         "type": "bar",
         "x": [
          "citrus",
          "green apple",
          "cream",
          "toast"
         ],
         "xaxis": "x",
         "y": [
          185,
          48,
          45,
          26
         ],
         "yaxis": "y"
        },
        {
         "alignmentgroup": "True",
         "hovertemplate": "wine_name=Châteauneuf-du-Pape<br>keywords=%{x}<br>total_user_count=%{y}<extra></extra>",
         "legendgroup": "Châteauneuf-du-Pape",
         "marker": {
          "color": "#FECB52",
          "pattern": {
           "shape": ""
          }
         },
         "name": "Châteauneuf-du-Pape",
         "offsetgroup": "Châteauneuf-du-Pape",
         "orientation": "v",
         "showlegend": true,
         "textposition": "auto",
         "type": "bar",
         "x": [
          "coffee",
          "toast",
          "cream",
          "coffee",
          "toast",
          "toast",
          "cream",
          "citrus"
         ],
         "xaxis": "x",
         "y": [
          184,
          82,
          49,
          24,
          12,
          12,
          11,
          11
         ],
         "yaxis": "y"
        },
        {
         "alignmentgroup": "True",
         "hovertemplate": "wine_name=Malleolus<br>keywords=%{x}<br>total_user_count=%{y}<extra></extra>",
         "legendgroup": "Malleolus",
         "marker": {
          "color": "#636efa",
          "pattern": {
           "shape": ""
          }
         },
         "name": "Malleolus",
         "offsetgroup": "Malleolus",
         "orientation": "v",
         "showlegend": true,
         "textposition": "auto",
         "type": "bar",
         "x": [
          "coffee",
          "toast",
          "cream"
         ],
         "xaxis": "x",
         "y": [
          172,
          52,
          12
         ],
         "yaxis": "y"
        },
        {
         "alignmentgroup": "True",
         "hovertemplate": "wine_name=Alexander Valley Cabernet Sauvignon<br>keywords=%{x}<br>total_user_count=%{y}<extra></extra>",
         "legendgroup": "Alexander Valley Cabernet Sauvignon",
         "marker": {
          "color": "#EF553B",
          "pattern": {
           "shape": ""
          }
         },
         "name": "Alexander Valley Cabernet Sauvignon",
         "offsetgroup": "Alexander Valley Cabernet Sauvignon",
         "orientation": "v",
         "showlegend": true,
         "textposition": "auto",
         "type": "bar",
         "x": [
          "coffee",
          "toast",
          "cream"
         ],
         "xaxis": "x",
         "y": [
          168,
          62,
          46
         ],
         "yaxis": "y"
        },
        {
         "alignmentgroup": "True",
         "hovertemplate": "wine_name=Special Selection Cabernet Sauvignon<br>keywords=%{x}<br>total_user_count=%{y}<extra></extra>",
         "legendgroup": "Special Selection Cabernet Sauvignon",
         "marker": {
          "color": "#00cc96",
          "pattern": {
           "shape": ""
          }
         },
         "name": "Special Selection Cabernet Sauvignon",
         "offsetgroup": "Special Selection Cabernet Sauvignon",
         "orientation": "v",
         "showlegend": true,
         "textposition": "auto",
         "type": "bar",
         "x": [
          "coffee",
          "cream",
          "toast"
         ],
         "xaxis": "x",
         "y": [
          162,
          82,
          50
         ],
         "yaxis": "y"
        },
        {
         "alignmentgroup": "True",
         "hovertemplate": "wine_name=Flor de Pingus<br>keywords=%{x}<br>total_user_count=%{y}<extra></extra>",
         "legendgroup": "Flor de Pingus",
         "marker": {
          "color": "#ab63fa",
          "pattern": {
           "shape": ""
          }
         },
         "name": "Flor de Pingus",
         "offsetgroup": "Flor de Pingus",
         "orientation": "v",
         "showlegend": true,
         "textposition": "auto",
         "type": "bar",
         "x": [
          "coffee",
          "toast",
          "cream"
         ],
         "xaxis": "x",
         "y": [
          158,
          52,
          25
         ],
         "yaxis": "y"
        },
        {
         "alignmentgroup": "True",
         "hovertemplate": "wine_name=Capellanía Reserva<br>keywords=%{x}<br>total_user_count=%{y}<extra></extra>",
         "legendgroup": "Capellanía Reserva",
         "marker": {
          "color": "#FFA15A",
          "pattern": {
           "shape": ""
          }
         },
         "name": "Capellanía Reserva",
         "offsetgroup": "Capellanía Reserva",
         "orientation": "v",
         "showlegend": true,
         "textposition": "auto",
         "type": "bar",
         "x": [
          "citrus",
          "cream",
          "toast",
          "green apple"
         ],
         "xaxis": "x",
         "y": [
          157,
          131,
          114,
          31
         ],
         "yaxis": "y"
        },
        {
         "alignmentgroup": "True",
         "hovertemplate": "wine_name=Flaccianello della Pieve<br>keywords=%{x}<br>total_user_count=%{y}<extra></extra>",
         "legendgroup": "Flaccianello della Pieve",
         "marker": {
          "color": "#19d3f3",
          "pattern": {
           "shape": ""
          }
         },
         "name": "Flaccianello della Pieve",
         "offsetgroup": "Flaccianello della Pieve",
         "orientation": "v",
         "showlegend": true,
         "textposition": "auto",
         "type": "bar",
         "x": [
          "coffee",
          "toast",
          "cream"
         ],
         "xaxis": "x",
         "y": [
          156,
          50,
          22
         ],
         "yaxis": "y"
        },
        {
         "alignmentgroup": "True",
         "hovertemplate": "wine_name=Margaux (Grand Cru Classé)<br>keywords=%{x}<br>total_user_count=%{y}<extra></extra>",
         "legendgroup": "Margaux (Grand Cru Classé)",
         "marker": {
          "color": "#FF6692",
          "pattern": {
           "shape": ""
          }
         },
         "name": "Margaux (Grand Cru Classé)",
         "offsetgroup": "Margaux (Grand Cru Classé)",
         "orientation": "v",
         "showlegend": true,
         "textposition": "auto",
         "type": "bar",
         "x": [
          "coffee",
          "toast",
          "cream"
         ],
         "xaxis": "x",
         "y": [
          154,
          52,
          22
         ],
         "yaxis": "y"
        },
        {
         "alignmentgroup": "True",
         "hovertemplate": "wine_name=Dominus (Christian Moueix)<br>keywords=%{x}<br>total_user_count=%{y}<extra></extra>",
         "legendgroup": "Dominus (Christian Moueix)",
         "marker": {
          "color": "#B6E880",
          "pattern": {
           "shape": ""
          }
         },
         "name": "Dominus (Christian Moueix)",
         "offsetgroup": "Dominus (Christian Moueix)",
         "orientation": "v",
         "showlegend": true,
         "textposition": "auto",
         "type": "bar",
         "x": [
          "coffee",
          "cream",
          "toast"
         ],
         "xaxis": "x",
         "y": [
          152,
          58,
          50
         ],
         "yaxis": "y"
        },
        {
         "alignmentgroup": "True",
         "hovertemplate": "wine_name=Clos Apalta<br>keywords=%{x}<br>total_user_count=%{y}<extra></extra>",
         "legendgroup": "Clos Apalta",
         "marker": {
          "color": "#FF97FF",
          "pattern": {
           "shape": ""
          }
         },
         "name": "Clos Apalta",
         "offsetgroup": "Clos Apalta",
         "orientation": "v",
         "showlegend": true,
         "textposition": "auto",
         "type": "bar",
         "x": [
          "coffee",
          "cream",
          "toast"
         ],
         "xaxis": "x",
         "y": [
          152,
          36,
          26
         ],
         "yaxis": "y"
        },
        {
         "alignmentgroup": "True",
         "hovertemplate": "wine_name=Sauternes (Premier Grand Cru Classé)<br>keywords=%{x}<br>total_user_count=%{y}<extra></extra>",
         "legendgroup": "Sauternes (Premier Grand Cru Classé)",
         "marker": {
          "color": "#FECB52",
          "pattern": {
           "shape": ""
          }
         },
         "name": "Sauternes (Premier Grand Cru Classé)",
         "offsetgroup": "Sauternes (Premier Grand Cru Classé)",
         "orientation": "v",
         "showlegend": true,
         "textposition": "auto",
         "type": "bar",
         "x": [
          "cream",
          "citrus",
          "citrus",
          "cream",
          "toast",
          "toast",
          "coffee",
          "coffee",
          "green apple"
         ],
         "xaxis": "x",
         "y": [
          151,
          134,
          133,
          126,
          88,
          74,
          32,
          26,
          10
         ],
         "yaxis": "y"
        },
        {
         "alignmentgroup": "True",
         "hovertemplate": "wine_name=Blanc de Blancs Brut Champagne (Vintage)<br>keywords=%{x}<br>total_user_count=%{y}<extra></extra>",
         "legendgroup": "Blanc de Blancs Brut Champagne (Vintage)",
         "marker": {
          "color": "#636efa",
          "pattern": {
           "shape": ""
          }
         },
         "name": "Blanc de Blancs Brut Champagne (Vintage)",
         "offsetgroup": "Blanc de Blancs Brut Champagne (Vintage)",
         "orientation": "v",
         "showlegend": true,
         "textposition": "auto",
         "type": "bar",
         "x": [
          "citrus",
          "toast",
          "cream",
          "green apple"
         ],
         "xaxis": "x",
         "y": [
          143,
          112,
          92,
          62
         ],
         "yaxis": "y"
        },
        {
         "alignmentgroup": "True",
         "hovertemplate": "wine_name=Pian delle Vigne Brunello di Montalcino<br>keywords=%{x}<br>total_user_count=%{y}<extra></extra>",
         "legendgroup": "Pian delle Vigne Brunello di Montalcino",
         "marker": {
          "color": "#EF553B",
          "pattern": {
           "shape": ""
          }
         },
         "name": "Pian delle Vigne Brunello di Montalcino",
         "offsetgroup": "Pian delle Vigne Brunello di Montalcino",
         "orientation": "v",
         "showlegend": true,
         "textposition": "auto",
         "type": "bar",
         "x": [
          "coffee",
          "cream",
          "toast"
         ],
         "xaxis": "x",
         "y": [
          140,
          26,
          22
         ],
         "yaxis": "y"
        },
        {
         "alignmentgroup": "True",
         "hovertemplate": "wine_name=Saint-Émilion Grand Cru<br>keywords=%{x}<br>total_user_count=%{y}<extra></extra>",
         "legendgroup": "Saint-Émilion Grand Cru",
         "marker": {
          "color": "#00cc96",
          "pattern": {
           "shape": ""
          }
         },
         "name": "Saint-Émilion Grand Cru",
         "offsetgroup": "Saint-Émilion Grand Cru",
         "orientation": "v",
         "showlegend": true,
         "textposition": "auto",
         "type": "bar",
         "x": [
          "coffee",
          "coffee",
          "coffee",
          "cream",
          "cream"
         ],
         "xaxis": "x",
         "y": [
          138,
          60,
          20,
          15,
          11
         ],
         "yaxis": "y"
        },
        {
         "alignmentgroup": "True",
         "hovertemplate": "wine_name=Roda I Reserva Rioja<br>keywords=%{x}<br>total_user_count=%{y}<extra></extra>",
         "legendgroup": "Roda I Reserva Rioja",
         "marker": {
          "color": "#ab63fa",
          "pattern": {
           "shape": ""
          }
         },
         "name": "Roda I Reserva Rioja",
         "offsetgroup": "Roda I Reserva Rioja",
         "orientation": "v",
         "showlegend": true,
         "textposition": "auto",
         "type": "bar",
         "x": [
          "coffee",
          "cream",
          "toast"
         ],
         "xaxis": "x",
         "y": [
          138,
          41,
          40
         ],
         "yaxis": "y"
        },
        {
         "alignmentgroup": "True",
         "hovertemplate": "wine_name=Aconcagua Valley<br>keywords=%{x}<br>total_user_count=%{y}<extra></extra>",
         "legendgroup": "Aconcagua Valley",
         "marker": {
          "color": "#FFA15A",
          "pattern": {
           "shape": ""
          }
         },
         "name": "Aconcagua Valley",
         "offsetgroup": "Aconcagua Valley",
         "orientation": "v",
         "showlegend": true,
         "textposition": "auto",
         "type": "bar",
         "x": [
          "coffee",
          "toast",
          "cream"
         ],
         "xaxis": "x",
         "y": [
          136,
          58,
          31
         ],
         "yaxis": "y"
        },
        {
         "alignmentgroup": "True",
         "hovertemplate": "wine_name=Barbaresco<br>keywords=%{x}<br>total_user_count=%{y}<extra></extra>",
         "legendgroup": "Barbaresco",
         "marker": {
          "color": "#19d3f3",
          "pattern": {
           "shape": ""
          }
         },
         "name": "Barbaresco",
         "offsetgroup": "Barbaresco",
         "orientation": "v",
         "showlegend": true,
         "textposition": "auto",
         "type": "bar",
         "x": [
          "coffee",
          "toast",
          "citrus"
         ],
         "xaxis": "x",
         "y": [
          134,
          16,
          10
         ],
         "yaxis": "y"
        },
        {
         "alignmentgroup": "True",
         "hovertemplate": "wine_name=St. Henri Shiraz<br>keywords=%{x}<br>total_user_count=%{y}<extra></extra>",
         "legendgroup": "St. Henri Shiraz",
         "marker": {
          "color": "#FF6692",
          "pattern": {
           "shape": ""
          }
         },
         "name": "St. Henri Shiraz",
         "offsetgroup": "St. Henri Shiraz",
         "orientation": "v",
         "showlegend": true,
         "textposition": "auto",
         "type": "bar",
         "x": [
          "coffee",
          "cream",
          "toast"
         ],
         "xaxis": "x",
         "y": [
          130,
          29,
          20
         ],
         "yaxis": "y"
        },
        {
         "alignmentgroup": "True",
         "hovertemplate": "wine_name=Tenuta Nuova Brunello di Montalcino<br>keywords=%{x}<br>total_user_count=%{y}<extra></extra>",
         "legendgroup": "Tenuta Nuova Brunello di Montalcino",
         "marker": {
          "color": "#B6E880",
          "pattern": {
           "shape": ""
          }
         },
         "name": "Tenuta Nuova Brunello di Montalcino",
         "offsetgroup": "Tenuta Nuova Brunello di Montalcino",
         "orientation": "v",
         "showlegend": true,
         "textposition": "auto",
         "type": "bar",
         "x": [
          "coffee",
          "cream",
          "toast"
         ],
         "xaxis": "x",
         "y": [
          130,
          22,
          14
         ],
         "yaxis": "y"
        },
        {
         "alignmentgroup": "True",
         "hovertemplate": "wine_name=Rosé<br>keywords=%{x}<br>total_user_count=%{y}<extra></extra>",
         "legendgroup": "Rosé",
         "marker": {
          "color": "#FF97FF",
          "pattern": {
           "shape": ""
          }
         },
         "name": "Rosé",
         "offsetgroup": "Rosé",
         "orientation": "v",
         "showlegend": true,
         "textposition": "auto",
         "type": "bar",
         "x": [
          "toast",
          "cream",
          "citrus"
         ],
         "xaxis": "x",
         "y": [
          130,
          56,
          43
         ],
         "yaxis": "y"
        },
        {
         "alignmentgroup": "True",
         "hovertemplate": "wine_name=Vin de Constance (Natural Sweet)<br>keywords=%{x}<br>total_user_count=%{y}<extra></extra>",
         "legendgroup": "Vin de Constance (Natural Sweet)",
         "marker": {
          "color": "#FECB52",
          "pattern": {
           "shape": ""
          }
         },
         "name": "Vin de Constance (Natural Sweet)",
         "offsetgroup": "Vin de Constance (Natural Sweet)",
         "orientation": "v",
         "showlegend": true,
         "textposition": "auto",
         "type": "bar",
         "x": [
          "citrus",
          "cream",
          "toast",
          "coffee"
         ],
         "xaxis": "x",
         "y": [
          129,
          81,
          36,
          26
         ],
         "yaxis": "y"
        },
        {
         "alignmentgroup": "True",
         "hovertemplate": "wine_name=Mendoza<br>keywords=%{x}<br>total_user_count=%{y}<extra></extra>",
         "legendgroup": "Mendoza",
         "marker": {
          "color": "#636efa",
          "pattern": {
           "shape": ""
          }
         },
         "name": "Mendoza",
         "offsetgroup": "Mendoza",
         "orientation": "v",
         "showlegend": true,
         "textposition": "auto",
         "type": "bar",
         "x": [
          "coffee",
          "cream",
          "toast"
         ],
         "xaxis": "x",
         "y": [
          128,
          23,
          14
         ],
         "yaxis": "y"
        },
        {
         "alignmentgroup": "True",
         "hovertemplate": "wine_name=Paleo Rosso<br>keywords=%{x}<br>total_user_count=%{y}<extra></extra>",
         "legendgroup": "Paleo Rosso",
         "marker": {
          "color": "#EF553B",
          "pattern": {
           "shape": ""
          }
         },
         "name": "Paleo Rosso",
         "offsetgroup": "Paleo Rosso",
         "orientation": "v",
         "showlegend": true,
         "textposition": "auto",
         "type": "bar",
         "x": [
          "coffee",
          "cream",
          "toast"
         ],
         "xaxis": "x",
         "y": [
          124,
          27,
          14
         ],
         "yaxis": "y"
        },
        {
         "alignmentgroup": "True",
         "hovertemplate": "wine_name=Papillon<br>keywords=%{x}<br>total_user_count=%{y}<extra></extra>",
         "legendgroup": "Papillon",
         "marker": {
          "color": "#00cc96",
          "pattern": {
           "shape": ""
          }
         },
         "name": "Papillon",
         "offsetgroup": "Papillon",
         "orientation": "v",
         "showlegend": true,
         "textposition": "auto",
         "type": "bar",
         "x": [
          "coffee",
          "toast",
          "cream"
         ],
         "xaxis": "x",
         "y": [
          122,
          76,
          29
         ],
         "yaxis": "y"
        },
        {
         "alignmentgroup": "True",
         "hovertemplate": "wine_name=Valpolicella Superiore Monte Lodoletta<br>keywords=%{x}<br>total_user_count=%{y}<extra></extra>",
         "legendgroup": "Valpolicella Superiore Monte Lodoletta",
         "marker": {
          "color": "#ab63fa",
          "pattern": {
           "shape": ""
          }
         },
         "name": "Valpolicella Superiore Monte Lodoletta",
         "offsetgroup": "Valpolicella Superiore Monte Lodoletta",
         "orientation": "v",
         "showlegend": true,
         "textposition": "auto",
         "type": "bar",
         "x": [
          "coffee",
          "toast",
          "cream"
         ],
         "xaxis": "x",
         "y": [
          122,
          18,
          11
         ],
         "yaxis": "y"
        },
        {
         "alignmentgroup": "True",
         "hovertemplate": "wine_name=Hermitage La Chapelle Rouge<br>keywords=%{x}<br>total_user_count=%{y}<extra></extra>",
         "legendgroup": "Hermitage La Chapelle Rouge",
         "marker": {
          "color": "#FFA15A",
          "pattern": {
           "shape": ""
          }
         },
         "name": "Hermitage La Chapelle Rouge",
         "offsetgroup": "Hermitage La Chapelle Rouge",
         "orientation": "v",
         "showlegend": true,
         "textposition": "auto",
         "type": "bar",
         "x": [
          "coffee",
          "toast",
          "cream"
         ],
         "xaxis": "x",
         "y": [
          120,
          36,
          22
         ],
         "yaxis": "y"
        },
        {
         "alignmentgroup": "True",
         "hovertemplate": "wine_name=Castillo Ygay Gran Reserva Especial Tinto<br>keywords=%{x}<br>total_user_count=%{y}<extra></extra>",
         "legendgroup": "Castillo Ygay Gran Reserva Especial Tinto",
         "marker": {
          "color": "#19d3f3",
          "pattern": {
           "shape": ""
          }
         },
         "name": "Castillo Ygay Gran Reserva Especial Tinto",
         "offsetgroup": "Castillo Ygay Gran Reserva Especial Tinto",
         "orientation": "v",
         "showlegend": true,
         "textposition": "auto",
         "type": "bar",
         "x": [
          "coffee",
          "cream",
          "toast"
         ],
         "xaxis": "x",
         "y": [
          120,
          71,
          68
         ],
         "yaxis": "y"
        },
        {
         "alignmentgroup": "True",
         "hovertemplate": "wine_name=Puligny-Montrachet<br>keywords=%{x}<br>total_user_count=%{y}<extra></extra>",
         "legendgroup": "Puligny-Montrachet",
         "marker": {
          "color": "#FF6692",
          "pattern": {
           "shape": ""
          }
         },
         "name": "Puligny-Montrachet",
         "offsetgroup": "Puligny-Montrachet",
         "orientation": "v",
         "showlegend": true,
         "textposition": "auto",
         "type": "bar",
         "x": [
          "citrus",
          "cream",
          "toast",
          "green apple"
         ],
         "xaxis": "x",
         "y": [
          118,
          68,
          54,
          15
         ],
         "yaxis": "y"
        },
        {
         "alignmentgroup": "True",
         "hovertemplate": "wine_name=Baron de L Pouilly-Fumé<br>keywords=%{x}<br>total_user_count=%{y}<extra></extra>",
         "legendgroup": "Baron de L Pouilly-Fumé",
         "marker": {
          "color": "#B6E880",
          "pattern": {
           "shape": ""
          }
         },
         "name": "Baron de L Pouilly-Fumé",
         "offsetgroup": "Baron de L Pouilly-Fumé",
         "orientation": "v",
         "showlegend": true,
         "textposition": "auto",
         "type": "bar",
         "x": [
          "citrus",
          "green apple",
          "cream"
         ],
         "xaxis": "x",
         "y": [
          118,
          48,
          19
         ],
         "yaxis": "y"
        },
        {
         "alignmentgroup": "True",
         "hovertemplate": "wine_name=5 Puttonyos Aszú (Blue Label)<br>keywords=%{x}<br>total_user_count=%{y}<extra></extra>",
         "legendgroup": "5 Puttonyos Aszú (Blue Label)",
         "marker": {
          "color": "#FF97FF",
          "pattern": {
           "shape": ""
          }
         },
         "name": "5 Puttonyos Aszú (Blue Label)",
         "offsetgroup": "5 Puttonyos Aszú (Blue Label)",
         "orientation": "v",
         "showlegend": true,
         "textposition": "auto",
         "type": "bar",
         "x": [
          "citrus",
          "cream",
          "toast",
          "green apple"
         ],
         "xaxis": "x",
         "y": [
          118,
          68,
          60,
          12
         ],
         "yaxis": "y"
        },
        {
         "alignmentgroup": "True",
         "hovertemplate": "wine_name=Fusion V<br>keywords=%{x}<br>total_user_count=%{y}<extra></extra>",
         "legendgroup": "Fusion V",
         "marker": {
          "color": "#FECB52",
          "pattern": {
           "shape": ""
          }
         },
         "name": "Fusion V",
         "offsetgroup": "Fusion V",
         "orientation": "v",
         "showlegend": true,
         "textposition": "auto",
         "type": "bar",
         "x": [
          "coffee",
          "toast"
         ],
         "xaxis": "x",
         "y": [
          114,
          18
         ],
         "yaxis": "y"
        },
        {
         "alignmentgroup": "True",
         "hovertemplate": "wine_name=TD9<br>keywords=%{x}<br>total_user_count=%{y}<extra></extra>",
         "legendgroup": "TD9",
         "marker": {
          "color": "#636efa",
          "pattern": {
           "shape": ""
          }
         },
         "name": "TD9",
         "offsetgroup": "TD9",
         "orientation": "v",
         "showlegend": true,
         "textposition": "auto",
         "type": "bar",
         "x": [
          "coffee",
          "toast"
         ],
         "xaxis": "x",
         "y": [
          112,
          18
         ],
         "yaxis": "y"
        },
        {
         "alignmentgroup": "True",
         "hovertemplate": "wine_name=Luce<br>keywords=%{x}<br>total_user_count=%{y}<extra></extra>",
         "legendgroup": "Luce",
         "marker": {
          "color": "#EF553B",
          "pattern": {
           "shape": ""
          }
         },
         "name": "Luce",
         "offsetgroup": "Luce",
         "orientation": "v",
         "showlegend": true,
         "textposition": "auto",
         "type": "bar",
         "x": [
          "coffee",
          "toast",
          "cream"
         ],
         "xaxis": "x",
         "y": [
          108,
          30,
          15
         ],
         "yaxis": "y"
        },
        {
         "alignmentgroup": "True",
         "hovertemplate": "wine_name=Monte Bello<br>keywords=%{x}<br>total_user_count=%{y}<extra></extra>",
         "legendgroup": "Monte Bello",
         "marker": {
          "color": "#00cc96",
          "pattern": {
           "shape": ""
          }
         },
         "name": "Monte Bello",
         "offsetgroup": "Monte Bello",
         "orientation": "v",
         "showlegend": true,
         "textposition": "auto",
         "type": "bar",
         "x": [
          "coffee",
          "toast",
          "cream"
         ],
         "xaxis": "x",
         "y": [
          106,
          30,
          27
         ],
         "yaxis": "y"
        },
        {
         "alignmentgroup": "True",
         "hovertemplate": "wine_name=Clos des Goisses Champagne<br>keywords=%{x}<br>total_user_count=%{y}<extra></extra>",
         "legendgroup": "Clos des Goisses Champagne",
         "marker": {
          "color": "#ab63fa",
          "pattern": {
           "shape": ""
          }
         },
         "name": "Clos des Goisses Champagne",
         "offsetgroup": "Clos des Goisses Champagne",
         "orientation": "v",
         "showlegend": true,
         "textposition": "auto",
         "type": "bar",
         "x": [
          "toast",
          "citrus",
          "cream",
          "green apple",
          "coffee"
         ],
         "xaxis": "x",
         "y": [
          106,
          78,
          65,
          24,
          18
         ],
         "yaxis": "y"
        },
        {
         "alignmentgroup": "True",
         "hovertemplate": "wine_name=Belondrade y Lurton<br>keywords=%{x}<br>total_user_count=%{y}<extra></extra>",
         "legendgroup": "Belondrade y Lurton",
         "marker": {
          "color": "#FFA15A",
          "pattern": {
           "shape": ""
          }
         },
         "name": "Belondrade y Lurton",
         "offsetgroup": "Belondrade y Lurton",
         "orientation": "v",
         "showlegend": true,
         "textposition": "auto",
         "type": "bar",
         "x": [
          "citrus",
          "cream",
          "green apple",
          "toast"
         ],
         "xaxis": "x",
         "y": [
          105,
          75,
          27,
          26
         ],
         "yaxis": "y"
        },
        {
         "alignmentgroup": "True",
         "hovertemplate": "wine_name=Oreno Toscana<br>keywords=%{x}<br>total_user_count=%{y}<extra></extra>",
         "legendgroup": "Oreno Toscana",
         "marker": {
          "color": "#19d3f3",
          "pattern": {
           "shape": ""
          }
         },
         "name": "Oreno Toscana",
         "offsetgroup": "Oreno Toscana",
         "orientation": "v",
         "showlegend": true,
         "textposition": "auto",
         "type": "bar",
         "x": [
          "coffee",
          "toast",
          "cream"
         ],
         "xaxis": "x",
         "y": [
          104,
          36,
          21
         ],
         "yaxis": "y"
        },
        {
         "alignmentgroup": "True",
         "hovertemplate": "wine_name=Macán Clásico<br>keywords=%{x}<br>total_user_count=%{y}<extra></extra>",
         "legendgroup": "Macán Clásico",
         "marker": {
          "color": "#FF6692",
          "pattern": {
           "shape": ""
          }
         },
         "name": "Macán Clásico",
         "offsetgroup": "Macán Clásico",
         "orientation": "v",
         "showlegend": true,
         "textposition": "auto",
         "type": "bar",
         "x": [
          "coffee",
          "toast",
          "cream"
         ],
         "xaxis": "x",
         "y": [
          104,
          30,
          11
         ],
         "yaxis": "y"
        },
        {
         "alignmentgroup": "True",
         "hovertemplate": "wine_name=V.P Extra Brut Champagne Grand Cru 'Ambonnay'<br>keywords=%{x}<br>total_user_count=%{y}<extra></extra>",
         "legendgroup": "V.P Extra Brut Champagne Grand Cru 'Ambonnay'",
         "marker": {
          "color": "#B6E880",
          "pattern": {
           "shape": ""
          }
         },
         "name": "V.P Extra Brut Champagne Grand Cru 'Ambonnay'",
         "offsetgroup": "V.P Extra Brut Champagne Grand Cru 'Ambonnay'",
         "orientation": "v",
         "showlegend": true,
         "textposition": "auto",
         "type": "bar",
         "x": [
          "toast",
          "citrus",
          "cream",
          "green apple"
         ],
         "xaxis": "x",
         "y": [
          104,
          63,
          31,
          26
         ],
         "yaxis": "y"
        },
        {
         "alignmentgroup": "True",
         "hovertemplate": "wine_name=Cristal Rosé Brut Champagne (Millésimé)<br>keywords=%{x}<br>total_user_count=%{y}<extra></extra>",
         "legendgroup": "Cristal Rosé Brut Champagne (Millésimé)",
         "marker": {
          "color": "#FF97FF",
          "pattern": {
           "shape": ""
          }
         },
         "name": "Cristal Rosé Brut Champagne (Millésimé)",
         "offsetgroup": "Cristal Rosé Brut Champagne (Millésimé)",
         "orientation": "v",
         "showlegend": true,
         "textposition": "auto",
         "type": "bar",
         "x": [
          "toast",
          "citrus",
          "cream",
          "green apple",
          "coffee"
         ],
         "xaxis": "x",
         "y": [
          102,
          74,
          48,
          15,
          10
         ],
         "yaxis": "y"
        },
        {
         "alignmentgroup": "True",
         "hovertemplate": "wine_name=Clos Sainte Hune Riesling Alsace<br>keywords=%{x}<br>total_user_count=%{y}<extra></extra>",
         "legendgroup": "Clos Sainte Hune Riesling Alsace",
         "marker": {
          "color": "#FECB52",
          "pattern": {
           "shape": ""
          }
         },
         "name": "Clos Sainte Hune Riesling Alsace",
         "offsetgroup": "Clos Sainte Hune Riesling Alsace",
         "orientation": "v",
         "showlegend": true,
         "textposition": "auto",
         "type": "bar",
         "x": [
          "citrus",
          "green apple",
          "cream"
         ],
         "xaxis": "x",
         "y": [
          99,
          36,
          13
         ],
         "yaxis": "y"
        },
        {
         "alignmentgroup": "True",
         "hovertemplate": "wine_name='Giulio Ferrari' Riserva del Fondatore<br>keywords=%{x}<br>total_user_count=%{y}<extra></extra>",
         "legendgroup": "'Giulio Ferrari' Riserva del Fondatore",
         "marker": {
          "color": "#636efa",
          "pattern": {
           "shape": ""
          }
         },
         "name": "'Giulio Ferrari' Riserva del Fondatore",
         "offsetgroup": "'Giulio Ferrari' Riserva del Fondatore",
         "orientation": "v",
         "showlegend": true,
         "textposition": "auto",
         "type": "bar",
         "x": [
          "toast",
          "cream",
          "citrus",
          "green apple"
         ],
         "xaxis": "x",
         "y": [
          96,
          72,
          66,
          15
         ],
         "yaxis": "y"
        },
        {
         "alignmentgroup": "True",
         "hovertemplate": "wine_name=Brunello di Montalcino<br>keywords=%{x}<br>total_user_count=%{y}<extra></extra>",
         "legendgroup": "Brunello di Montalcino",
         "marker": {
          "color": "#EF553B",
          "pattern": {
           "shape": ""
          }
         },
         "name": "Brunello di Montalcino",
         "offsetgroup": "Brunello di Montalcino",
         "orientation": "v",
         "showlegend": true,
         "textposition": "auto",
         "type": "bar",
         "x": [
          "coffee",
          "coffee",
          "coffee",
          "coffee",
          "coffee",
          "coffee",
          "coffee",
          "coffee",
          "toast",
          "coffee",
          "coffee",
          "coffee",
          "coffee",
          "coffee",
          "coffee",
          "coffee",
          "toast",
          "coffee",
          "toast",
          "toast",
          "citrus",
          "cream",
          "cream",
          "toast"
         ],
         "xaxis": "x",
         "y": [
          94,
          80,
          66,
          38,
          38,
          36,
          36,
          32,
          28,
          28,
          28,
          26,
          22,
          20,
          20,
          18,
          16,
          14,
          12,
          12,
          11,
          11,
          10,
          10
         ],
         "yaxis": "y"
        },
        {
         "alignmentgroup": "True",
         "hovertemplate": "wine_name=Aile d'Argent Blanc Bordeaux<br>keywords=%{x}<br>total_user_count=%{y}<extra></extra>",
         "legendgroup": "Aile d'Argent Blanc Bordeaux",
         "marker": {
          "color": "#00cc96",
          "pattern": {
           "shape": ""
          }
         },
         "name": "Aile d'Argent Blanc Bordeaux",
         "offsetgroup": "Aile d'Argent Blanc Bordeaux",
         "orientation": "v",
         "showlegend": true,
         "textposition": "auto",
         "type": "bar",
         "x": [
          "citrus",
          "cream",
          "toast",
          "green apple"
         ],
         "xaxis": "x",
         "y": [
          94,
          37,
          20,
          12
         ],
         "yaxis": "y"
        },
        {
         "alignmentgroup": "True",
         "hovertemplate": "wine_name=Pur Sang<br>keywords=%{x}<br>total_user_count=%{y}<extra></extra>",
         "legendgroup": "Pur Sang",
         "marker": {
          "color": "#ab63fa",
          "pattern": {
           "shape": ""
          }
         },
         "name": "Pur Sang",
         "offsetgroup": "Pur Sang",
         "orientation": "v",
         "showlegend": true,
         "textposition": "auto",
         "type": "bar",
         "x": [
          "citrus",
          "green apple",
          "cream",
          "toast"
         ],
         "xaxis": "x",
         "y": [
          93,
          29,
          23,
          12
         ],
         "yaxis": "y"
        },
        {
         "alignmentgroup": "True",
         "hovertemplate": "wine_name=Eight Years In The Desert<br>keywords=%{x}<br>total_user_count=%{y}<extra></extra>",
         "legendgroup": "Eight Years In The Desert",
         "marker": {
          "color": "#FFA15A",
          "pattern": {
           "shape": ""
          }
         },
         "name": "Eight Years In The Desert",
         "offsetgroup": "Eight Years In The Desert",
         "orientation": "v",
         "showlegend": true,
         "textposition": "auto",
         "type": "bar",
         "x": [
          "coffee",
          "toast",
          "cream"
         ],
         "xaxis": "x",
         "y": [
          92,
          44,
          41
         ],
         "yaxis": "y"
        },
        {
         "alignmentgroup": "True",
         "hovertemplate": "wine_name=Malbec Argentino<br>keywords=%{x}<br>total_user_count=%{y}<extra></extra>",
         "legendgroup": "Malbec Argentino",
         "marker": {
          "color": "#19d3f3",
          "pattern": {
           "shape": ""
          }
         },
         "name": "Malbec Argentino",
         "offsetgroup": "Malbec Argentino",
         "orientation": "v",
         "showlegend": true,
         "textposition": "auto",
         "type": "bar",
         "x": [
          "coffee",
          "toast",
          "cream"
         ],
         "xaxis": "x",
         "y": [
          90,
          28,
          13
         ],
         "yaxis": "y"
        },
        {
         "alignmentgroup": "True",
         "hovertemplate": "wine_name=Cepparello Red<br>keywords=%{x}<br>total_user_count=%{y}<extra></extra>",
         "legendgroup": "Cepparello Red",
         "marker": {
          "color": "#FF6692",
          "pattern": {
           "shape": ""
          }
         },
         "name": "Cepparello Red",
         "offsetgroup": "Cepparello Red",
         "orientation": "v",
         "showlegend": true,
         "textposition": "auto",
         "type": "bar",
         "x": [
          "coffee",
          "toast",
          "cream"
         ],
         "xaxis": "x",
         "y": [
          90,
          22,
          16
         ],
         "yaxis": "y"
        },
        {
         "alignmentgroup": "True",
         "hovertemplate": "wine_name=Limited Edition 10 Vendemmie<br>keywords=%{x}<br>total_user_count=%{y}<extra></extra>",
         "legendgroup": "Limited Edition 10 Vendemmie",
         "marker": {
          "color": "#B6E880",
          "pattern": {
           "shape": ""
          }
         },
         "name": "Limited Edition 10 Vendemmie",
         "offsetgroup": "Limited Edition 10 Vendemmie",
         "orientation": "v",
         "showlegend": true,
         "textposition": "auto",
         "type": "bar",
         "x": [
          "coffee",
          "cream"
         ],
         "xaxis": "x",
         "y": [
          90,
          15
         ],
         "yaxis": "y"
        },
        {
         "alignmentgroup": "True",
         "hovertemplate": "wine_name=Chassagne-Montrachet<br>keywords=%{x}<br>total_user_count=%{y}<extra></extra>",
         "legendgroup": "Chassagne-Montrachet",
         "marker": {
          "color": "#FF97FF",
          "pattern": {
           "shape": ""
          }
         },
         "name": "Chassagne-Montrachet",
         "offsetgroup": "Chassagne-Montrachet",
         "orientation": "v",
         "showlegend": true,
         "textposition": "auto",
         "type": "bar",
         "x": [
          "citrus",
          "cream",
          "toast",
          "green apple"
         ],
         "xaxis": "x",
         "y": [
          89,
          45,
          28,
          10
         ],
         "yaxis": "y"
        },
        {
         "alignmentgroup": "True",
         "hovertemplate": "wine_name=Pieve Santa Restituta Brunello di Montalcino<br>keywords=%{x}<br>total_user_count=%{y}<extra></extra>",
         "legendgroup": "Pieve Santa Restituta Brunello di Montalcino",
         "marker": {
          "color": "#FECB52",
          "pattern": {
           "shape": ""
          }
         },
         "name": "Pieve Santa Restituta Brunello di Montalcino",
         "offsetgroup": "Pieve Santa Restituta Brunello di Montalcino",
         "orientation": "v",
         "showlegend": true,
         "textposition": "auto",
         "type": "bar",
         "x": [
          "coffee",
          "toast",
          "cream"
         ],
         "xaxis": "x",
         "y": [
          88,
          30,
          15
         ],
         "yaxis": "y"
        },
        {
         "alignmentgroup": "True",
         "hovertemplate": "wine_name=Nicolás Catena Zapata<br>keywords=%{x}<br>total_user_count=%{y}<extra></extra>",
         "legendgroup": "Nicolás Catena Zapata",
         "marker": {
          "color": "#636efa",
          "pattern": {
           "shape": ""
          }
         },
         "name": "Nicolás Catena Zapata",
         "offsetgroup": "Nicolás Catena Zapata",
         "orientation": "v",
         "showlegend": true,
         "textposition": "auto",
         "type": "bar",
         "x": [
          "coffee",
          "cream",
          "toast"
         ],
         "xaxis": "x",
         "y": [
          86,
          24,
          16
         ],
         "yaxis": "y"
        },
        {
         "alignmentgroup": "True",
         "hovertemplate": "wine_name=Quarz Sauvignon<br>keywords=%{x}<br>total_user_count=%{y}<extra></extra>",
         "legendgroup": "Quarz Sauvignon",
         "marker": {
          "color": "#EF553B",
          "pattern": {
           "shape": ""
          }
         },
         "name": "Quarz Sauvignon",
         "offsetgroup": "Quarz Sauvignon",
         "orientation": "v",
         "showlegend": true,
         "textposition": "auto",
         "type": "bar",
         "x": [
          "citrus",
          "cream",
          "green apple"
         ],
         "xaxis": "x",
         "y": [
          86,
          28,
          24
         ],
         "yaxis": "y"
        },
        {
         "alignmentgroup": "True",
         "hovertemplate": "wine_name=Tinto<br>keywords=%{x}<br>total_user_count=%{y}<extra></extra>",
         "legendgroup": "Tinto",
         "marker": {
          "color": "#00cc96",
          "pattern": {
           "shape": ""
          }
         },
         "name": "Tinto",
         "offsetgroup": "Tinto",
         "orientation": "v",
         "showlegend": true,
         "textposition": "auto",
         "type": "bar",
         "x": [
          "coffee",
          "toast",
          "coffee",
          "cream",
          "cream"
         ],
         "xaxis": "x",
         "y": [
          86,
          42,
          26,
          23,
          14
         ],
         "yaxis": "y"
        },
        {
         "alignmentgroup": "True",
         "hovertemplate": "wine_name=Toscana<br>keywords=%{x}<br>total_user_count=%{y}<extra></extra>",
         "legendgroup": "Toscana",
         "marker": {
          "color": "#ab63fa",
          "pattern": {
           "shape": ""
          }
         },
         "name": "Toscana",
         "offsetgroup": "Toscana",
         "orientation": "v",
         "showlegend": true,
         "textposition": "auto",
         "type": "bar",
         "x": [
          "coffee",
          "coffee",
          "toast",
          "coffee",
          "cream",
          "toast",
          "cream"
         ],
         "xaxis": "x",
         "y": [
          86,
          32,
          32,
          20,
          16,
          12,
          11
         ],
         "yaxis": "y"
        },
        {
         "alignmentgroup": "True",
         "hovertemplate": "wine_name=Ribera del Duero Reserva<br>keywords=%{x}<br>total_user_count=%{y}<extra></extra>",
         "legendgroup": "Ribera del Duero Reserva",
         "marker": {
          "color": "#FFA15A",
          "pattern": {
           "shape": ""
          }
         },
         "name": "Ribera del Duero Reserva",
         "offsetgroup": "Ribera del Duero Reserva",
         "orientation": "v",
         "showlegend": true,
         "textposition": "auto",
         "type": "bar",
         "x": [
          "coffee",
          "toast"
         ],
         "xaxis": "x",
         "y": [
          84,
          44
         ],
         "yaxis": "y"
        },
        {
         "alignmentgroup": "True",
         "hovertemplate": "wine_name=Cabernet Sauvignon (Signature)<br>keywords=%{x}<br>total_user_count=%{y}<extra></extra>",
         "legendgroup": "Cabernet Sauvignon (Signature)",
         "marker": {
          "color": "#19d3f3",
          "pattern": {
           "shape": ""
          }
         },
         "name": "Cabernet Sauvignon (Signature)",
         "offsetgroup": "Cabernet Sauvignon (Signature)",
         "orientation": "v",
         "showlegend": true,
         "textposition": "auto",
         "type": "bar",
         "x": [
          "coffee",
          "cream",
          "toast"
         ],
         "xaxis": "x",
         "y": [
          82,
          17,
          16
         ],
         "yaxis": "y"
        },
        {
         "alignmentgroup": "True",
         "hovertemplate": "wine_name=Macán<br>keywords=%{x}<br>total_user_count=%{y}<extra></extra>",
         "legendgroup": "Macán",
         "marker": {
          "color": "#FF6692",
          "pattern": {
           "shape": ""
          }
         },
         "name": "Macán",
         "offsetgroup": "Macán",
         "orientation": "v",
         "showlegend": true,
         "textposition": "auto",
         "type": "bar",
         "x": [
          "coffee",
          "toast",
          "cream"
         ],
         "xaxis": "x",
         "y": [
          82,
          16,
          14
         ],
         "yaxis": "y"
        },
        {
         "alignmentgroup": "True",
         "hovertemplate": "wine_name=Messorio<br>keywords=%{x}<br>total_user_count=%{y}<extra></extra>",
         "legendgroup": "Messorio",
         "marker": {
          "color": "#B6E880",
          "pattern": {
           "shape": ""
          }
         },
         "name": "Messorio",
         "offsetgroup": "Messorio",
         "orientation": "v",
         "showlegend": true,
         "textposition": "auto",
         "type": "bar",
         "x": [
          "coffee",
          "toast"
         ],
         "xaxis": "x",
         "y": [
          80,
          14
         ],
         "yaxis": "y"
        },
        {
         "alignmentgroup": "True",
         "hovertemplate": "wine_name=Cuvée Annamaria Clementi (Extra Brut)<br>keywords=%{x}<br>total_user_count=%{y}<extra></extra>",
         "legendgroup": "Cuvée Annamaria Clementi (Extra Brut)",
         "marker": {
          "color": "#FF97FF",
          "pattern": {
           "shape": ""
          }
         },
         "name": "Cuvée Annamaria Clementi (Extra Brut)",
         "offsetgroup": "Cuvée Annamaria Clementi (Extra Brut)",
         "orientation": "v",
         "showlegend": true,
         "textposition": "auto",
         "type": "bar",
         "x": [
          "toast",
          "cream",
          "citrus",
          "green apple"
         ],
         "xaxis": "x",
         "y": [
          80,
          65,
          35,
          20
         ],
         "yaxis": "y"
        },
        {
         "alignmentgroup": "True",
         "hovertemplate": "wine_name=One Point Five Cabernet Sauvignon<br>keywords=%{x}<br>total_user_count=%{y}<extra></extra>",
         "legendgroup": "One Point Five Cabernet Sauvignon",
         "marker": {
          "color": "#FECB52",
          "pattern": {
           "shape": ""
          }
         },
         "name": "One Point Five Cabernet Sauvignon",
         "offsetgroup": "One Point Five Cabernet Sauvignon",
         "orientation": "v",
         "showlegend": true,
         "textposition": "auto",
         "type": "bar",
         "x": [
          "coffee",
          "cream",
          "toast"
         ],
         "xaxis": "x",
         "y": [
          80,
          28,
          20
         ],
         "yaxis": "y"
        },
        {
         "alignmentgroup": "True",
         "hovertemplate": "wine_name=Ben Ryé Passito di Pantelleria<br>keywords=%{x}<br>total_user_count=%{y}<extra></extra>",
         "legendgroup": "Ben Ryé Passito di Pantelleria",
         "marker": {
          "color": "#636efa",
          "pattern": {
           "shape": ""
          }
         },
         "name": "Ben Ryé Passito di Pantelleria",
         "offsetgroup": "Ben Ryé Passito di Pantelleria",
         "orientation": "v",
         "showlegend": true,
         "textposition": "auto",
         "type": "bar",
         "x": [
          "citrus",
          "cream",
          "coffee",
          "toast"
         ],
         "xaxis": "x",
         "y": [
          80,
          35,
          16,
          12
         ],
         "yaxis": "y"
        },
        {
         "alignmentgroup": "True",
         "hovertemplate": "wine_name=Victorino<br>keywords=%{x}<br>total_user_count=%{y}<extra></extra>",
         "legendgroup": "Victorino",
         "marker": {
          "color": "#EF553B",
          "pattern": {
           "shape": ""
          }
         },
         "name": "Victorino",
         "offsetgroup": "Victorino",
         "orientation": "v",
         "showlegend": true,
         "textposition": "auto",
         "type": "bar",
         "x": [
          "coffee",
          "toast",
          "cream"
         ],
         "xaxis": "x",
         "y": [
          78,
          48,
          15
         ],
         "yaxis": "y"
        },
        {
         "alignmentgroup": "True",
         "hovertemplate": "wine_name=Lupi Rezerva<br>keywords=%{x}<br>total_user_count=%{y}<extra></extra>",
         "legendgroup": "Lupi Rezerva",
         "marker": {
          "color": "#00cc96",
          "pattern": {
           "shape": ""
          }
         },
         "name": "Lupi Rezerva",
         "offsetgroup": "Lupi Rezerva",
         "orientation": "v",
         "showlegend": true,
         "textposition": "auto",
         "type": "bar",
         "x": [
          "coffee"
         ],
         "xaxis": "x",
         "y": [
          78
         ],
         "yaxis": "y"
        },
        {
         "alignmentgroup": "True",
         "hovertemplate": "wine_name=Toscana Batar<br>keywords=%{x}<br>total_user_count=%{y}<extra></extra>",
         "legendgroup": "Toscana Batar",
         "marker": {
          "color": "#ab63fa",
          "pattern": {
           "shape": ""
          }
         },
         "name": "Toscana Batar",
         "offsetgroup": "Toscana Batar",
         "orientation": "v",
         "showlegend": true,
         "textposition": "auto",
         "type": "bar",
         "x": [
          "cream",
          "citrus",
          "toast",
          "green apple"
         ],
         "xaxis": "x",
         "y": [
          76,
          50,
          38,
          13
         ],
         "yaxis": "y"
        },
        {
         "alignmentgroup": "True",
         "hovertemplate": "wine_name=S.L.V. Cabernet Sauvignon<br>keywords=%{x}<br>total_user_count=%{y}<extra></extra>",
         "legendgroup": "S.L.V. Cabernet Sauvignon",
         "marker": {
          "color": "#FFA15A",
          "pattern": {
           "shape": ""
          }
         },
         "name": "S.L.V. Cabernet Sauvignon",
         "offsetgroup": "S.L.V. Cabernet Sauvignon",
         "orientation": "v",
         "showlegend": true,
         "textposition": "auto",
         "type": "bar",
         "x": [
          "coffee",
          "toast"
         ],
         "xaxis": "x",
         "y": [
          76,
          18
         ],
         "yaxis": "y"
        },
        {
         "alignmentgroup": "True",
         "hovertemplate": "wine_name=San Vicente Rioja<br>keywords=%{x}<br>total_user_count=%{y}<extra></extra>",
         "legendgroup": "San Vicente Rioja",
         "marker": {
          "color": "#19d3f3",
          "pattern": {
           "shape": ""
          }
         },
         "name": "San Vicente Rioja",
         "offsetgroup": "San Vicente Rioja",
         "orientation": "v",
         "showlegend": true,
         "textposition": "auto",
         "type": "bar",
         "x": [
          "coffee",
          "toast"
         ],
         "xaxis": "x",
         "y": [
          76,
          28
         ],
         "yaxis": "y"
        },
        {
         "alignmentgroup": "True",
         "hovertemplate": "wine_name=One Sixteen Chardonnay<br>keywords=%{x}<br>total_user_count=%{y}<extra></extra>",
         "legendgroup": "One Sixteen Chardonnay",
         "marker": {
          "color": "#FF6692",
          "pattern": {
           "shape": ""
          }
         },
         "name": "One Sixteen Chardonnay",
         "offsetgroup": "One Sixteen Chardonnay",
         "orientation": "v",
         "showlegend": true,
         "textposition": "auto",
         "type": "bar",
         "x": [
          "citrus",
          "green apple",
          "toast",
          "cream"
         ],
         "xaxis": "x",
         "y": [
          76,
          43,
          32,
          17
         ],
         "yaxis": "y"
        },
        {
         "alignmentgroup": "True",
         "hovertemplate": "wine_name=Galatrona<br>keywords=%{x}<br>total_user_count=%{y}<extra></extra>",
         "legendgroup": "Galatrona",
         "marker": {
          "color": "#B6E880",
          "pattern": {
           "shape": ""
          }
         },
         "name": "Galatrona",
         "offsetgroup": "Galatrona",
         "orientation": "v",
         "showlegend": true,
         "textposition": "auto",
         "type": "bar",
         "x": [
          "coffee",
          "cream",
          "toast"
         ],
         "xaxis": "x",
         "y": [
          74,
          19,
          10
         ],
         "yaxis": "y"
        },
        {
         "alignmentgroup": "True",
         "hovertemplate": "wine_name=Côte-Rôtie La Turque<br>keywords=%{x}<br>total_user_count=%{y}<extra></extra>",
         "legendgroup": "Côte-Rôtie La Turque",
         "marker": {
          "color": "#FF97FF",
          "pattern": {
           "shape": ""
          }
         },
         "name": "Côte-Rôtie La Turque",
         "offsetgroup": "Côte-Rôtie La Turque",
         "orientation": "v",
         "showlegend": true,
         "textposition": "auto",
         "type": "bar",
         "x": [
          "coffee",
          "toast",
          "cream"
         ],
         "xaxis": "x",
         "y": [
          74,
          26,
          11
         ],
         "yaxis": "y"
        },
        {
         "alignmentgroup": "True",
         "hovertemplate": "wine_name=Brut Champagne (Gold)<br>keywords=%{x}<br>total_user_count=%{y}<extra></extra>",
         "legendgroup": "Brut Champagne (Gold)",
         "marker": {
          "color": "#FECB52",
          "pattern": {
           "shape": ""
          }
         },
         "name": "Brut Champagne (Gold)",
         "offsetgroup": "Brut Champagne (Gold)",
         "orientation": "v",
         "showlegend": true,
         "textposition": "auto",
         "type": "bar",
         "x": [
          "citrus",
          "cream",
          "toast",
          "green apple"
         ],
         "xaxis": "x",
         "y": [
          74,
          54,
          40,
          28
         ],
         "yaxis": "y"
        },
        {
         "alignmentgroup": "True",
         "hovertemplate": "wine_name=Turriga Isola dei Nuraghi<br>keywords=%{x}<br>total_user_count=%{y}<extra></extra>",
         "legendgroup": "Turriga Isola dei Nuraghi",
         "marker": {
          "color": "#636efa",
          "pattern": {
           "shape": ""
          }
         },
         "name": "Turriga Isola dei Nuraghi",
         "offsetgroup": "Turriga Isola dei Nuraghi",
         "orientation": "v",
         "showlegend": true,
         "textposition": "auto",
         "type": "bar",
         "x": [
          "coffee",
          "toast",
          "cream"
         ],
         "xaxis": "x",
         "y": [
          72,
          12,
          10
         ],
         "yaxis": "y"
        },
        {
         "alignmentgroup": "True",
         "hovertemplate": "wine_name=Valpolicella Classico Superiore<br>keywords=%{x}<br>total_user_count=%{y}<extra></extra>",
         "legendgroup": "Valpolicella Classico Superiore",
         "marker": {
          "color": "#EF553B",
          "pattern": {
           "shape": ""
          }
         },
         "name": "Valpolicella Classico Superiore",
         "offsetgroup": "Valpolicella Classico Superiore",
         "orientation": "v",
         "showlegend": true,
         "textposition": "auto",
         "type": "bar",
         "x": [
          "coffee",
          "cream",
          "toast"
         ],
         "xaxis": "x",
         "y": [
          72,
          12,
          10
         ],
         "yaxis": "y"
        },
        {
         "alignmentgroup": "True",
         "hovertemplate": "wine_name=Scharzhofberger Riesling Kabinett<br>keywords=%{x}<br>total_user_count=%{y}<extra></extra>",
         "legendgroup": "Scharzhofberger Riesling Kabinett",
         "marker": {
          "color": "#00cc96",
          "pattern": {
           "shape": ""
          }
         },
         "name": "Scharzhofberger Riesling Kabinett",
         "offsetgroup": "Scharzhofberger Riesling Kabinett",
         "orientation": "v",
         "showlegend": true,
         "textposition": "auto",
         "type": "bar",
         "x": [
          "citrus",
          "green apple",
          "cream"
         ],
         "xaxis": "x",
         "y": [
          72,
          36,
          16
         ],
         "yaxis": "y"
        },
        {
         "alignmentgroup": "True",
         "hovertemplate": "wine_name=Continuum Estate<br>keywords=%{x}<br>total_user_count=%{y}<extra></extra>",
         "legendgroup": "Continuum Estate",
         "marker": {
          "color": "#ab63fa",
          "pattern": {
           "shape": ""
          }
         },
         "name": "Continuum Estate",
         "offsetgroup": "Continuum Estate",
         "orientation": "v",
         "showlegend": true,
         "textposition": "auto",
         "type": "bar",
         "x": [
          "coffee",
          "toast",
          "cream"
         ],
         "xaxis": "x",
         "y": [
          72,
          22,
          11
         ],
         "yaxis": "y"
        },
        {
         "alignmentgroup": "True",
         "hovertemplate": "wine_name=Amarone della Valpolicella Classico Riserva (Sergio Zenato)<br>keywords=%{x}<br>total_user_count=%{y}<extra></extra>",
         "legendgroup": "Amarone della Valpolicella Classico Riserva (Sergio Zenato)",
         "marker": {
          "color": "#FFA15A",
          "pattern": {
           "shape": ""
          }
         },
         "name": "Amarone della Valpolicella Classico Riserva (Sergio Zenato)",
         "offsetgroup": "Amarone della Valpolicella Classico Riserva (Sergio Zenato)",
         "orientation": "v",
         "showlegend": true,
         "textposition": "auto",
         "type": "bar",
         "x": [
          "coffee",
          "cream"
         ],
         "xaxis": "x",
         "y": [
          72,
          12
         ],
         "yaxis": "y"
        },
        {
         "alignmentgroup": "True",
         "hovertemplate": "wine_name=Siepi<br>keywords=%{x}<br>total_user_count=%{y}<extra></extra>",
         "legendgroup": "Siepi",
         "marker": {
          "color": "#19d3f3",
          "pattern": {
           "shape": ""
          }
         },
         "name": "Siepi",
         "offsetgroup": "Siepi",
         "orientation": "v",
         "showlegend": true,
         "textposition": "auto",
         "type": "bar",
         "x": [
          "coffee",
          "toast"
         ],
         "xaxis": "x",
         "y": [
          70,
          26
         ],
         "yaxis": "y"
        },
        {
         "alignmentgroup": "True",
         "hovertemplate": "wine_name=Pavillon Rouge du Château Margaux<br>keywords=%{x}<br>total_user_count=%{y}<extra></extra>",
         "legendgroup": "Pavillon Rouge du Château Margaux",
         "marker": {
          "color": "#FF6692",
          "pattern": {
           "shape": ""
          }
         },
         "name": "Pavillon Rouge du Château Margaux",
         "offsetgroup": "Pavillon Rouge du Château Margaux",
         "orientation": "v",
         "showlegend": true,
         "textposition": "auto",
         "type": "bar",
         "x": [
          "coffee",
          "toast",
          "cream"
         ],
         "xaxis": "x",
         "y": [
          70,
          26,
          19
         ],
         "yaxis": "y"
        },
        {
         "alignmentgroup": "True",
         "hovertemplate": "wine_name=5 Stelle Sfursat<br>keywords=%{x}<br>total_user_count=%{y}<extra></extra>",
         "legendgroup": "5 Stelle Sfursat",
         "marker": {
          "color": "#B6E880",
          "pattern": {
           "shape": ""
          }
         },
         "name": "5 Stelle Sfursat",
         "offsetgroup": "5 Stelle Sfursat",
         "orientation": "v",
         "showlegend": true,
         "textposition": "auto",
         "type": "bar",
         "x": [
          "coffee"
         ],
         "xaxis": "x",
         "y": [
          70
         ],
         "yaxis": "y"
        },
        {
         "alignmentgroup": "True",
         "hovertemplate": "wine_name=Bolgheri Superiore Sondraia<br>keywords=%{x}<br>total_user_count=%{y}<extra></extra>",
         "legendgroup": "Bolgheri Superiore Sondraia",
         "marker": {
          "color": "#FF97FF",
          "pattern": {
           "shape": ""
          }
         },
         "name": "Bolgheri Superiore Sondraia",
         "offsetgroup": "Bolgheri Superiore Sondraia",
         "orientation": "v",
         "showlegend": true,
         "textposition": "auto",
         "type": "bar",
         "x": [
          "coffee",
          "toast"
         ],
         "xaxis": "x",
         "y": [
          70,
          14
         ],
         "yaxis": "y"
        },
        {
         "alignmentgroup": "True",
         "hovertemplate": "wine_name=Gaia & Rey Langhe<br>keywords=%{x}<br>total_user_count=%{y}<extra></extra>",
         "legendgroup": "Gaia & Rey Langhe",
         "marker": {
          "color": "#FECB52",
          "pattern": {
           "shape": ""
          }
         },
         "name": "Gaia & Rey Langhe",
         "offsetgroup": "Gaia & Rey Langhe",
         "orientation": "v",
         "showlegend": true,
         "textposition": "auto",
         "type": "bar",
         "x": [
          "citrus",
          "cream",
          "toast",
          "green apple"
         ],
         "xaxis": "x",
         "y": [
          69,
          53,
          34,
          20
         ],
         "yaxis": "y"
        },
        {
         "alignmentgroup": "True",
         "hovertemplate": "wine_name=Overture<br>keywords=%{x}<br>total_user_count=%{y}<extra></extra>",
         "legendgroup": "Overture",
         "marker": {
          "color": "#636efa",
          "pattern": {
           "shape": ""
          }
         },
         "name": "Overture",
         "offsetgroup": "Overture",
         "orientation": "v",
         "showlegend": true,
         "textposition": "auto",
         "type": "bar",
         "x": [
          "coffee",
          "toast",
          "cream"
         ],
         "xaxis": "x",
         "y": [
          68,
          16,
          12
         ],
         "yaxis": "y"
        },
        {
         "alignmentgroup": "True",
         "hovertemplate": "wine_name=Côtes de Bourg<br>keywords=%{x}<br>total_user_count=%{y}<extra></extra>",
         "legendgroup": "Côtes de Bourg",
         "marker": {
          "color": "#EF553B",
          "pattern": {
           "shape": ""
          }
         },
         "name": "Côtes de Bourg",
         "offsetgroup": "Côtes de Bourg",
         "orientation": "v",
         "showlegend": true,
         "textposition": "auto",
         "type": "bar",
         "x": [
          "coffee",
          "toast",
          "cream"
         ],
         "xaxis": "x",
         "y": [
          68,
          16,
          11
         ],
         "yaxis": "y"
        },
        {
         "alignmentgroup": "True",
         "hovertemplate": "wine_name=Clos du Mesnil<br>keywords=%{x}<br>total_user_count=%{y}<extra></extra>",
         "legendgroup": "Clos du Mesnil",
         "marker": {
          "color": "#00cc96",
          "pattern": {
           "shape": ""
          }
         },
         "name": "Clos du Mesnil",
         "offsetgroup": "Clos du Mesnil",
         "orientation": "v",
         "showlegend": true,
         "textposition": "auto",
         "type": "bar",
         "x": [
          "toast",
          "citrus",
          "green apple",
          "coffee",
          "cream"
         ],
         "xaxis": "x",
         "y": [
          66,
          62,
          19,
          18,
          16
         ],
         "yaxis": "y"
        },
        {
         "alignmentgroup": "True",
         "hovertemplate": "wine_name=Saffredi<br>keywords=%{x}<br>total_user_count=%{y}<extra></extra>",
         "legendgroup": "Saffredi",
         "marker": {
          "color": "#ab63fa",
          "pattern": {
           "shape": ""
          }
         },
         "name": "Saffredi",
         "offsetgroup": "Saffredi",
         "orientation": "v",
         "showlegend": true,
         "textposition": "auto",
         "type": "bar",
         "x": [
          "coffee",
          "cream",
          "toast"
         ],
         "xaxis": "x",
         "y": [
          66,
          21,
          14
         ],
         "yaxis": "y"
        },
        {
         "alignmentgroup": "True",
         "hovertemplate": "wine_name=FAY Cabernet Sauvignon<br>keywords=%{x}<br>total_user_count=%{y}<extra></extra>",
         "legendgroup": "FAY Cabernet Sauvignon",
         "marker": {
          "color": "#FFA15A",
          "pattern": {
           "shape": ""
          }
         },
         "name": "FAY Cabernet Sauvignon",
         "offsetgroup": "FAY Cabernet Sauvignon",
         "orientation": "v",
         "showlegend": true,
         "textposition": "auto",
         "type": "bar",
         "x": [
          "coffee",
          "toast",
          "cream"
         ],
         "xaxis": "x",
         "y": [
          66,
          18,
          12
         ],
         "yaxis": "y"
        },
        {
         "alignmentgroup": "True",
         "hovertemplate": "wine_name=Barsac (Premier Grand Cru Classé)<br>keywords=%{x}<br>total_user_count=%{y}<extra></extra>",
         "legendgroup": "Barsac (Premier Grand Cru Classé)",
         "marker": {
          "color": "#19d3f3",
          "pattern": {
           "shape": ""
          }
         },
         "name": "Barsac (Premier Grand Cru Classé)",
         "offsetgroup": "Barsac (Premier Grand Cru Classé)",
         "orientation": "v",
         "showlegend": true,
         "textposition": "auto",
         "type": "bar",
         "x": [
          "cream",
          "citrus",
          "toast"
         ],
         "xaxis": "x",
         "y": [
          65,
          57,
          38
         ],
         "yaxis": "y"
        },
        {
         "alignmentgroup": "True",
         "hovertemplate": "wine_name=Clos de la Coulée de Serrant<br>keywords=%{x}<br>total_user_count=%{y}<extra></extra>",
         "legendgroup": "Clos de la Coulée de Serrant",
         "marker": {
          "color": "#FF6692",
          "pattern": {
           "shape": ""
          }
         },
         "name": "Clos de la Coulée de Serrant",
         "offsetgroup": "Clos de la Coulée de Serrant",
         "orientation": "v",
         "showlegend": true,
         "textposition": "auto",
         "type": "bar",
         "x": [
          "citrus",
          "cream",
          "toast",
          "green apple"
         ],
         "xaxis": "x",
         "y": [
          65,
          45,
          24,
          14
         ],
         "yaxis": "y"
        },
        {
         "alignmentgroup": "True",
         "hovertemplate": "wine_name=Torre Muga<br>keywords=%{x}<br>total_user_count=%{y}<extra></extra>",
         "legendgroup": "Torre Muga",
         "marker": {
          "color": "#B6E880",
          "pattern": {
           "shape": ""
          }
         },
         "name": "Torre Muga",
         "offsetgroup": "Torre Muga",
         "orientation": "v",
         "showlegend": true,
         "textposition": "auto",
         "type": "bar",
         "x": [
          "coffee",
          "toast",
          "cream"
         ],
         "xaxis": "x",
         "y": [
          64,
          36,
          18
         ],
         "yaxis": "y"
        },
        {
         "alignmentgroup": "True",
         "hovertemplate": "wine_name=Amarone della Valpolicella Monte Lodoletta<br>keywords=%{x}<br>total_user_count=%{y}<extra></extra>",
         "legendgroup": "Amarone della Valpolicella Monte Lodoletta",
         "marker": {
          "color": "#FF97FF",
          "pattern": {
           "shape": ""
          }
         },
         "name": "Amarone della Valpolicella Monte Lodoletta",
         "offsetgroup": "Amarone della Valpolicella Monte Lodoletta",
         "orientation": "v",
         "showlegend": true,
         "textposition": "auto",
         "type": "bar",
         "x": [
          "coffee",
          "toast"
         ],
         "xaxis": "x",
         "y": [
          64,
          14
         ],
         "yaxis": "y"
        },
        {
         "alignmentgroup": "True",
         "hovertemplate": "wine_name=La Chapelle de La Mission Haut-Brion Pessac-Léognan<br>keywords=%{x}<br>total_user_count=%{y}<extra></extra>",
         "legendgroup": "La Chapelle de La Mission Haut-Brion Pessac-Léognan",
         "marker": {
          "color": "#FECB52",
          "pattern": {
           "shape": ""
          }
         },
         "name": "La Chapelle de La Mission Haut-Brion Pessac-Léognan",
         "offsetgroup": "La Chapelle de La Mission Haut-Brion Pessac-Léognan",
         "orientation": "v",
         "showlegend": true,
         "textposition": "auto",
         "type": "bar",
         "x": [
          "coffee",
          "toast"
         ],
         "xaxis": "x",
         "y": [
          64,
          18
         ],
         "yaxis": "y"
        },
        {
         "alignmentgroup": "True",
         "hovertemplate": "wine_name=Isosceles<br>keywords=%{x}<br>total_user_count=%{y}<extra></extra>",
         "legendgroup": "Isosceles",
         "marker": {
          "color": "#636efa",
          "pattern": {
           "shape": ""
          }
         },
         "name": "Isosceles",
         "offsetgroup": "Isosceles",
         "orientation": "v",
         "showlegend": true,
         "textposition": "auto",
         "type": "bar",
         "x": [
          "coffee",
          "toast",
          "cream"
         ],
         "xaxis": "x",
         "y": [
          64,
          40,
          16
         ],
         "yaxis": "y"
        },
        {
         "alignmentgroup": "True",
         "hovertemplate": "wine_name=Barolo Riserva<br>keywords=%{x}<br>total_user_count=%{y}<extra></extra>",
         "legendgroup": "Barolo Riserva",
         "marker": {
          "color": "#EF553B",
          "pattern": {
           "shape": ""
          }
         },
         "name": "Barolo Riserva",
         "offsetgroup": "Barolo Riserva",
         "orientation": "v",
         "showlegend": true,
         "textposition": "auto",
         "type": "bar",
         "x": [
          "coffee"
         ],
         "xaxis": "x",
         "y": [
          64
         ],
         "yaxis": "y"
        },
        {
         "alignmentgroup": "True",
         "hovertemplate": "wine_name=Gaudium<br>keywords=%{x}<br>total_user_count=%{y}<extra></extra>",
         "legendgroup": "Gaudium",
         "marker": {
          "color": "#00cc96",
          "pattern": {
           "shape": ""
          }
         },
         "name": "Gaudium",
         "offsetgroup": "Gaudium",
         "orientation": "v",
         "showlegend": true,
         "textposition": "auto",
         "type": "bar",
         "x": [
          "coffee",
          "toast",
          "cream"
         ],
         "xaxis": "x",
         "y": [
          64,
          22,
          11
         ],
         "yaxis": "y"
        },
        {
         "alignmentgroup": "True",
         "hovertemplate": "wine_name=Guerriero del Mare<br>keywords=%{x}<br>total_user_count=%{y}<extra></extra>",
         "legendgroup": "Guerriero del Mare",
         "marker": {
          "color": "#ab63fa",
          "pattern": {
           "shape": ""
          }
         },
         "name": "Guerriero del Mare",
         "offsetgroup": "Guerriero del Mare",
         "orientation": "v",
         "showlegend": true,
         "textposition": "auto",
         "type": "bar",
         "x": [
          "citrus",
          "cream"
         ],
         "xaxis": "x",
         "y": [
          63,
          17
         ],
         "yaxis": "y"
        },
        {
         "alignmentgroup": "True",
         "hovertemplate": "wine_name=Solare Toscana<br>keywords=%{x}<br>total_user_count=%{y}<extra></extra>",
         "legendgroup": "Solare Toscana",
         "marker": {
          "color": "#FFA15A",
          "pattern": {
           "shape": ""
          }
         },
         "name": "Solare Toscana",
         "offsetgroup": "Solare Toscana",
         "orientation": "v",
         "showlegend": true,
         "textposition": "auto",
         "type": "bar",
         "x": [
          "coffee"
         ],
         "xaxis": "x",
         "y": [
          62
         ],
         "yaxis": "y"
        },
        {
         "alignmentgroup": "True",
         "hovertemplate": "wine_name=Il Pino di Biserno<br>keywords=%{x}<br>total_user_count=%{y}<extra></extra>",
         "legendgroup": "Il Pino di Biserno",
         "marker": {
          "color": "#19d3f3",
          "pattern": {
           "shape": ""
          }
         },
         "name": "Il Pino di Biserno",
         "offsetgroup": "Il Pino di Biserno",
         "orientation": "v",
         "showlegend": true,
         "textposition": "auto",
         "type": "bar",
         "x": [
          "coffee",
          "cream",
          "toast"
         ],
         "xaxis": "x",
         "y": [
          62,
          19,
          12
         ],
         "yaxis": "y"
        },
        {
         "alignmentgroup": "True",
         "hovertemplate": "wine_name=Cuvée des Enchanteleurs Brut Champagne<br>keywords=%{x}<br>total_user_count=%{y}<extra></extra>",
         "legendgroup": "Cuvée des Enchanteleurs Brut Champagne",
         "marker": {
          "color": "#FF6692",
          "pattern": {
           "shape": ""
          }
         },
         "name": "Cuvée des Enchanteleurs Brut Champagne",
         "offsetgroup": "Cuvée des Enchanteleurs Brut Champagne",
         "orientation": "v",
         "showlegend": true,
         "textposition": "auto",
         "type": "bar",
         "x": [
          "toast",
          "cream",
          "coffee",
          "citrus",
          "green apple"
         ],
         "xaxis": "x",
         "y": [
          62,
          37,
          28,
          25,
          11
         ],
         "yaxis": "y"
        },
        {
         "alignmentgroup": "True",
         "hovertemplate": "wine_name=Serral del Vell Brut Nature<br>keywords=%{x}<br>total_user_count=%{y}<extra></extra>",
         "legendgroup": "Serral del Vell Brut Nature",
         "marker": {
          "color": "#B6E880",
          "pattern": {
           "shape": ""
          }
         },
         "name": "Serral del Vell Brut Nature",
         "offsetgroup": "Serral del Vell Brut Nature",
         "orientation": "v",
         "showlegend": true,
         "textposition": "auto",
         "type": "bar",
         "x": [
          "toast",
          "cream",
          "citrus"
         ],
         "xaxis": "x",
         "y": [
          60,
          38,
          28
         ],
         "yaxis": "y"
        },
        {
         "alignmentgroup": "True",
         "hovertemplate": "wine_name=Georges De Latour Private Reserve Cabernet Sauvignon<br>keywords=%{x}<br>total_user_count=%{y}<extra></extra>",
         "legendgroup": "Georges De Latour Private Reserve Cabernet Sauvignon",
         "marker": {
          "color": "#FF97FF",
          "pattern": {
           "shape": ""
          }
         },
         "name": "Georges De Latour Private Reserve Cabernet Sauvignon",
         "offsetgroup": "Georges De Latour Private Reserve Cabernet Sauvignon",
         "orientation": "v",
         "showlegend": true,
         "textposition": "auto",
         "type": "bar",
         "x": [
          "coffee",
          "toast",
          "cream"
         ],
         "xaxis": "x",
         "y": [
          60,
          46,
          15
         ],
         "yaxis": "y"
        },
        {
         "alignmentgroup": "True",
         "hovertemplate": "wine_name=N.P.U. Extra Brut Champagne (Nec Plus Ultra)<br>keywords=%{x}<br>total_user_count=%{y}<extra></extra>",
         "legendgroup": "N.P.U. Extra Brut Champagne (Nec Plus Ultra)",
         "marker": {
          "color": "#FECB52",
          "pattern": {
           "shape": ""
          }
         },
         "name": "N.P.U. Extra Brut Champagne (Nec Plus Ultra)",
         "offsetgroup": "N.P.U. Extra Brut Champagne (Nec Plus Ultra)",
         "orientation": "v",
         "showlegend": true,
         "textposition": "auto",
         "type": "bar",
         "x": [
          "toast",
          "citrus",
          "cream"
         ],
         "xaxis": "x",
         "y": [
          60,
          30,
          19
         ],
         "yaxis": "y"
        },
        {
         "alignmentgroup": "True",
         "hovertemplate": "wine_name=Cava Celler Batlle<br>keywords=%{x}<br>total_user_count=%{y}<extra></extra>",
         "legendgroup": "Cava Celler Batlle",
         "marker": {
          "color": "#636efa",
          "pattern": {
           "shape": ""
          }
         },
         "name": "Cava Celler Batlle",
         "offsetgroup": "Cava Celler Batlle",
         "orientation": "v",
         "showlegend": true,
         "textposition": "auto",
         "type": "bar",
         "x": [
          "toast",
          "citrus",
          "cream",
          "green apple"
         ],
         "xaxis": "x",
         "y": [
          60,
          26,
          25,
          15
         ],
         "yaxis": "y"
        },
        {
         "alignmentgroup": "True",
         "hovertemplate": "wine_name=Tokaji Aszú 5 Puttonyos<br>keywords=%{x}<br>total_user_count=%{y}<extra></extra>",
         "legendgroup": "Tokaji Aszú 5 Puttonyos",
         "marker": {
          "color": "#EF553B",
          "pattern": {
           "shape": ""
          }
         },
         "name": "Tokaji Aszú 5 Puttonyos",
         "offsetgroup": "Tokaji Aszú 5 Puttonyos",
         "orientation": "v",
         "showlegend": true,
         "textposition": "auto",
         "type": "bar",
         "x": [
          "toast",
          "citrus",
          "cream",
          "coffee"
         ],
         "xaxis": "x",
         "y": [
          60,
          46,
          19,
          16
         ],
         "yaxis": "y"
        },
        {
         "alignmentgroup": "True",
         "hovertemplate": "wine_name=Don PX Convento Selección<br>keywords=%{x}<br>total_user_count=%{y}<extra></extra>",
         "legendgroup": "Don PX Convento Selección",
         "marker": {
          "color": "#00cc96",
          "pattern": {
           "shape": ""
          }
         },
         "name": "Don PX Convento Selección",
         "offsetgroup": "Don PX Convento Selección",
         "orientation": "v",
         "showlegend": true,
         "textposition": "auto",
         "type": "bar",
         "x": [
          "coffee"
         ],
         "xaxis": "x",
         "y": [
          58
         ],
         "yaxis": "y"
        },
        {
         "alignmentgroup": "True",
         "hovertemplate": "wine_name=Collection<br>keywords=%{x}<br>total_user_count=%{y}<extra></extra>",
         "legendgroup": "Collection",
         "marker": {
          "color": "#ab63fa",
          "pattern": {
           "shape": ""
          }
         },
         "name": "Collection",
         "offsetgroup": "Collection",
         "orientation": "v",
         "showlegend": true,
         "textposition": "auto",
         "type": "bar",
         "x": [
          "toast",
          "citrus",
          "cream",
          "coffee"
         ],
         "xaxis": "x",
         "y": [
          56,
          38,
          36,
          12
         ],
         "yaxis": "y"
        },
        {
         "alignmentgroup": "True",
         "hovertemplate": "wine_name=Clos des Lambrays Grand Cru<br>keywords=%{x}<br>total_user_count=%{y}<extra></extra>",
         "legendgroup": "Clos des Lambrays Grand Cru",
         "marker": {
          "color": "#FFA15A",
          "pattern": {
           "shape": ""
          }
         },
         "name": "Clos des Lambrays Grand Cru",
         "offsetgroup": "Clos des Lambrays Grand Cru",
         "orientation": "v",
         "showlegend": true,
         "textposition": "auto",
         "type": "bar",
         "x": [
          "coffee",
          "toast"
         ],
         "xaxis": "x",
         "y": [
          56,
          14
         ],
         "yaxis": "y"
        },
        {
         "alignmentgroup": "True",
         "hovertemplate": "wine_name=Beyond the Clouds<br>keywords=%{x}<br>total_user_count=%{y}<extra></extra>",
         "legendgroup": "Beyond the Clouds",
         "marker": {
          "color": "#19d3f3",
          "pattern": {
           "shape": ""
          }
         },
         "name": "Beyond the Clouds",
         "offsetgroup": "Beyond the Clouds",
         "orientation": "v",
         "showlegend": true,
         "textposition": "auto",
         "type": "bar",
         "x": [
          "cream",
          "citrus",
          "green apple",
          "toast"
         ],
         "xaxis": "x",
         "y": [
          56,
          22,
          13,
          12
         ],
         "yaxis": "y"
        },
        {
         "alignmentgroup": "True",
         "hovertemplate": "wine_name=Rioja Reserva<br>keywords=%{x}<br>total_user_count=%{y}<extra></extra>",
         "legendgroup": "Rioja Reserva",
         "marker": {
          "color": "#FF6692",
          "pattern": {
           "shape": ""
          }
         },
         "name": "Rioja Reserva",
         "offsetgroup": "Rioja Reserva",
         "orientation": "v",
         "showlegend": true,
         "textposition": "auto",
         "type": "bar",
         "x": [
          "coffee",
          "toast",
          "cream"
         ],
         "xaxis": "x",
         "y": [
          56,
          18,
          16
         ],
         "yaxis": "y"
        },
        {
         "alignmentgroup": "True",
         "hovertemplate": "wine_name=Avizoise Blanc de Blancs Extra Brut Champagne Grand Cru 'Avize'<br>keywords=%{x}<br>total_user_count=%{y}<extra></extra>",
         "legendgroup": "Avizoise Blanc de Blancs Extra Brut Champagne Grand Cru 'Avize'",
         "marker": {
          "color": "#B6E880",
          "pattern": {
           "shape": ""
          }
         },
         "name": "Avizoise Blanc de Blancs Extra Brut Champagne Grand Cru 'Avize'",
         "offsetgroup": "Avizoise Blanc de Blancs Extra Brut Champagne Grand Cru 'Avize'",
         "orientation": "v",
         "showlegend": true,
         "textposition": "auto",
         "type": "bar",
         "x": [
          "toast",
          "cream",
          "citrus",
          "green apple"
         ],
         "xaxis": "x",
         "y": [
          56,
          30,
          26,
          20
         ],
         "yaxis": "y"
        },
        {
         "alignmentgroup": "True",
         "hovertemplate": "wine_name=Trebbiano d'Abruzzo<br>keywords=%{x}<br>total_user_count=%{y}<extra></extra>",
         "legendgroup": "Trebbiano d'Abruzzo",
         "marker": {
          "color": "#FF97FF",
          "pattern": {
           "shape": ""
          }
         },
         "name": "Trebbiano d'Abruzzo",
         "offsetgroup": "Trebbiano d'Abruzzo",
         "orientation": "v",
         "showlegend": true,
         "textposition": "auto",
         "type": "bar",
         "x": [
          "citrus",
          "coffee",
          "cream",
          "toast",
          "green apple"
         ],
         "xaxis": "x",
         "y": [
          55,
          42,
          27,
          22,
          14
         ],
         "yaxis": "y"
        },
        {
         "alignmentgroup": "True",
         "hovertemplate": "wine_name=Bricco dell'Uccellone Barbera d'Asti<br>keywords=%{x}<br>total_user_count=%{y}<extra></extra>",
         "legendgroup": "Bricco dell'Uccellone Barbera d'Asti",
         "marker": {
          "color": "#FECB52",
          "pattern": {
           "shape": ""
          }
         },
         "name": "Bricco dell'Uccellone Barbera d'Asti",
         "offsetgroup": "Bricco dell'Uccellone Barbera d'Asti",
         "orientation": "v",
         "showlegend": true,
         "textposition": "auto",
         "type": "bar",
         "x": [
          "coffee",
          "toast",
          "cream"
         ],
         "xaxis": "x",
         "y": [
          54,
          22,
          12
         ],
         "yaxis": "y"
        },
        {
         "alignmentgroup": "True",
         "hovertemplate": "wine_name=Chevalier-Montrachet Grand Cru<br>keywords=%{x}<br>total_user_count=%{y}<extra></extra>",
         "legendgroup": "Chevalier-Montrachet Grand Cru",
         "marker": {
          "color": "#636efa",
          "pattern": {
           "shape": ""
          }
         },
         "name": "Chevalier-Montrachet Grand Cru",
         "offsetgroup": "Chevalier-Montrachet Grand Cru",
         "orientation": "v",
         "showlegend": true,
         "textposition": "auto",
         "type": "bar",
         "x": [
          "citrus",
          "cream",
          "toast"
         ],
         "xaxis": "x",
         "y": [
          54,
          22,
          16
         ],
         "yaxis": "y"
        },
        {
         "alignmentgroup": "True",
         "hovertemplate": "wine_name=Harlan Estate Red<br>keywords=%{x}<br>total_user_count=%{y}<extra></extra>",
         "legendgroup": "Harlan Estate Red",
         "marker": {
          "color": "#EF553B",
          "pattern": {
           "shape": ""
          }
         },
         "name": "Harlan Estate Red",
         "offsetgroup": "Harlan Estate Red",
         "orientation": "v",
         "showlegend": true,
         "textposition": "auto",
         "type": "bar",
         "x": [
          "coffee",
          "cream",
          "toast"
         ],
         "xaxis": "x",
         "y": [
          54,
          20,
          12
         ],
         "yaxis": "y"
        },
        {
         "alignmentgroup": "True",
         "hovertemplate": "wine_name=CASK 23 Cabernet Sauvignon<br>keywords=%{x}<br>total_user_count=%{y}<extra></extra>",
         "legendgroup": "CASK 23 Cabernet Sauvignon",
         "marker": {
          "color": "#00cc96",
          "pattern": {
           "shape": ""
          }
         },
         "name": "CASK 23 Cabernet Sauvignon",
         "offsetgroup": "CASK 23 Cabernet Sauvignon",
         "orientation": "v",
         "showlegend": true,
         "textposition": "auto",
         "type": "bar",
         "x": [
          "coffee",
          "toast",
          "cream"
         ],
         "xaxis": "x",
         "y": [
          54,
          20,
          11
         ],
         "yaxis": "y"
        },
        {
         "alignmentgroup": "True",
         "hovertemplate": "wine_name=Gran Reserva 890<br>keywords=%{x}<br>total_user_count=%{y}<extra></extra>",
         "legendgroup": "Gran Reserva 890",
         "marker": {
          "color": "#ab63fa",
          "pattern": {
           "shape": ""
          }
         },
         "name": "Gran Reserva 890",
         "offsetgroup": "Gran Reserva 890",
         "orientation": "v",
         "showlegend": true,
         "textposition": "auto",
         "type": "bar",
         "x": [
          "toast",
          "coffee",
          "cream"
         ],
         "xaxis": "x",
         "y": [
          52,
          50,
          42
         ],
         "yaxis": "y"
        },
        {
         "alignmentgroup": "True",
         "hovertemplate": "wine_name=Côte-Rôtie La Landonne<br>keywords=%{x}<br>total_user_count=%{y}<extra></extra>",
         "legendgroup": "Côte-Rôtie La Landonne",
         "marker": {
          "color": "#FFA15A",
          "pattern": {
           "shape": ""
          }
         },
         "name": "Côte-Rôtie La Landonne",
         "offsetgroup": "Côte-Rôtie La Landonne",
         "orientation": "v",
         "showlegend": true,
         "textposition": "auto",
         "type": "bar",
         "x": [
          "coffee",
          "toast"
         ],
         "xaxis": "x",
         "y": [
          52,
          10
         ],
         "yaxis": "y"
        },
        {
         "alignmentgroup": "True",
         "hovertemplate": "wine_name=Côte-Rôtie<br>keywords=%{x}<br>total_user_count=%{y}<extra></extra>",
         "legendgroup": "Côte-Rôtie",
         "marker": {
          "color": "#19d3f3",
          "pattern": {
           "shape": ""
          }
         },
         "name": "Côte-Rôtie",
         "offsetgroup": "Côte-Rôtie",
         "orientation": "v",
         "showlegend": true,
         "textposition": "auto",
         "type": "bar",
         "x": [
          "coffee",
          "toast"
         ],
         "xaxis": "x",
         "y": [
          52,
          14
         ],
         "yaxis": "y"
        },
        {
         "alignmentgroup": "True",
         "hovertemplate": "wine_name=Bibbona<br>keywords=%{x}<br>total_user_count=%{y}<extra></extra>",
         "legendgroup": "Bibbona",
         "marker": {
          "color": "#FF6692",
          "pattern": {
           "shape": ""
          }
         },
         "name": "Bibbona",
         "offsetgroup": "Bibbona",
         "orientation": "v",
         "showlegend": true,
         "textposition": "auto",
         "type": "bar",
         "x": [
          "coffee",
          "toast"
         ],
         "xaxis": "x",
         "y": [
          52,
          24
         ],
         "yaxis": "y"
        },
        {
         "alignmentgroup": "True",
         "hovertemplate": "wine_name=Reserva Ribera del Duero<br>keywords=%{x}<br>total_user_count=%{y}<extra></extra>",
         "legendgroup": "Reserva Ribera del Duero",
         "marker": {
          "color": "#B6E880",
          "pattern": {
           "shape": ""
          }
         },
         "name": "Reserva Ribera del Duero",
         "offsetgroup": "Reserva Ribera del Duero",
         "orientation": "v",
         "showlegend": true,
         "textposition": "auto",
         "type": "bar",
         "x": [
          "coffee",
          "toast",
          "cream"
         ],
         "xaxis": "x",
         "y": [
          52,
          24,
          13
         ],
         "yaxis": "y"
        },
        {
         "alignmentgroup": "True",
         "hovertemplate": "wine_name=Rosé Brut Champagne Grand Cru 'Ambonnay'<br>keywords=%{x}<br>total_user_count=%{y}<extra></extra>",
         "legendgroup": "Rosé Brut Champagne Grand Cru 'Ambonnay'",
         "marker": {
          "color": "#FF97FF",
          "pattern": {
           "shape": ""
          }
         },
         "name": "Rosé Brut Champagne Grand Cru 'Ambonnay'",
         "offsetgroup": "Rosé Brut Champagne Grand Cru 'Ambonnay'",
         "orientation": "v",
         "showlegend": true,
         "textposition": "auto",
         "type": "bar",
         "x": [
          "toast",
          "cream",
          "citrus"
         ],
         "xaxis": "x",
         "y": [
          52,
          47,
          42
         ],
         "yaxis": "y"
        },
        {
         "alignmentgroup": "True",
         "hovertemplate": "wine_name=Series C<br>keywords=%{x}<br>total_user_count=%{y}<extra></extra>",
         "legendgroup": "Series C",
         "marker": {
          "color": "#FECB52",
          "pattern": {
           "shape": ""
          }
         },
         "name": "Series C",
         "offsetgroup": "Series C",
         "orientation": "v",
         "showlegend": true,
         "textposition": "auto",
         "type": "bar",
         "x": [
          "coffee"
         ],
         "xaxis": "x",
         "y": [
          50
         ],
         "yaxis": "y"
        },
        {
         "alignmentgroup": "True",
         "hovertemplate": "wine_name=Côte-Rôtie La Mouline<br>keywords=%{x}<br>total_user_count=%{y}<extra></extra>",
         "legendgroup": "Côte-Rôtie La Mouline",
         "marker": {
          "color": "#636efa",
          "pattern": {
           "shape": ""
          }
         },
         "name": "Côte-Rôtie La Mouline",
         "offsetgroup": "Côte-Rôtie La Mouline",
         "orientation": "v",
         "showlegend": true,
         "textposition": "auto",
         "type": "bar",
         "x": [
          "coffee",
          "toast"
         ],
         "xaxis": "x",
         "y": [
          50,
          12
         ],
         "yaxis": "y"
        },
        {
         "alignmentgroup": "True",
         "hovertemplate": "wine_name=Calcarole Amarone della Valpolicella Classico<br>keywords=%{x}<br>total_user_count=%{y}<extra></extra>",
         "legendgroup": "Calcarole Amarone della Valpolicella Classico",
         "marker": {
          "color": "#EF553B",
          "pattern": {
           "shape": ""
          }
         },
         "name": "Calcarole Amarone della Valpolicella Classico",
         "offsetgroup": "Calcarole Amarone della Valpolicella Classico",
         "orientation": "v",
         "showlegend": true,
         "textposition": "auto",
         "type": "bar",
         "x": [
          "coffee"
         ],
         "xaxis": "x",
         "y": [
          50
         ],
         "yaxis": "y"
        },
        {
         "alignmentgroup": "True",
         "hovertemplate": "wine_name=Les Clos Chablís Grand Cru<br>keywords=%{x}<br>total_user_count=%{y}<extra></extra>",
         "legendgroup": "Les Clos Chablís Grand Cru",
         "marker": {
          "color": "#00cc96",
          "pattern": {
           "shape": ""
          }
         },
         "name": "Les Clos Chablís Grand Cru",
         "offsetgroup": "Les Clos Chablís Grand Cru",
         "orientation": "v",
         "showlegend": true,
         "textposition": "auto",
         "type": "bar",
         "x": [
          "citrus",
          "cream",
          "green apple"
         ],
         "xaxis": "x",
         "y": [
          50,
          23,
          11
         ],
         "yaxis": "y"
        },
        {
         "alignmentgroup": "True",
         "hovertemplate": "wine_name=Ribolla Gialla<br>keywords=%{x}<br>total_user_count=%{y}<extra></extra>",
         "legendgroup": "Ribolla Gialla",
         "marker": {
          "color": "#ab63fa",
          "pattern": {
           "shape": ""
          }
         },
         "name": "Ribolla Gialla",
         "offsetgroup": "Ribolla Gialla",
         "orientation": "v",
         "showlegend": true,
         "textposition": "auto",
         "type": "bar",
         "x": [
          "citrus",
          "cream"
         ],
         "xaxis": "x",
         "y": [
          49,
          14
         ],
         "yaxis": "y"
        },
        {
         "alignmentgroup": "True",
         "hovertemplate": "wine_name=Campolongo di Torbe Amarone della Valpolicella Classico<br>keywords=%{x}<br>total_user_count=%{y}<extra></extra>",
         "legendgroup": "Campolongo di Torbe Amarone della Valpolicella Classico",
         "marker": {
          "color": "#FFA15A",
          "pattern": {
           "shape": ""
          }
         },
         "name": "Campolongo di Torbe Amarone della Valpolicella Classico",
         "offsetgroup": "Campolongo di Torbe Amarone della Valpolicella Classico",
         "orientation": "v",
         "showlegend": true,
         "textposition": "auto",
         "type": "bar",
         "x": [
          "coffee"
         ],
         "xaxis": "x",
         "y": [
          48
         ],
         "yaxis": "y"
        },
        {
         "alignmentgroup": "True",
         "hovertemplate": "wine_name=Redigaffi Toscana<br>keywords=%{x}<br>total_user_count=%{y}<extra></extra>",
         "legendgroup": "Redigaffi Toscana",
         "marker": {
          "color": "#19d3f3",
          "pattern": {
           "shape": ""
          }
         },
         "name": "Redigaffi Toscana",
         "offsetgroup": "Redigaffi Toscana",
         "orientation": "v",
         "showlegend": true,
         "textposition": "auto",
         "type": "bar",
         "x": [
          "coffee",
          "toast",
          "cream"
         ],
         "xaxis": "x",
         "y": [
          48,
          22,
          13
         ],
         "yaxis": "y"
        },
        {
         "alignmentgroup": "True",
         "hovertemplate": "wine_name=Pingus<br>keywords=%{x}<br>total_user_count=%{y}<extra></extra>",
         "legendgroup": "Pingus",
         "marker": {
          "color": "#FF6692",
          "pattern": {
           "shape": ""
          }
         },
         "name": "Pingus",
         "offsetgroup": "Pingus",
         "orientation": "v",
         "showlegend": true,
         "textposition": "auto",
         "type": "bar",
         "x": [
          "coffee"
         ],
         "xaxis": "x",
         "y": [
          48
         ],
         "yaxis": "y"
        },
        {
         "alignmentgroup": "True",
         "hovertemplate": "wine_name=Corton-Charlemagne Grand Cru Blanc<br>keywords=%{x}<br>total_user_count=%{y}<extra></extra>",
         "legendgroup": "Corton-Charlemagne Grand Cru Blanc",
         "marker": {
          "color": "#B6E880",
          "pattern": {
           "shape": ""
          }
         },
         "name": "Corton-Charlemagne Grand Cru Blanc",
         "offsetgroup": "Corton-Charlemagne Grand Cru Blanc",
         "orientation": "v",
         "showlegend": true,
         "textposition": "auto",
         "type": "bar",
         "x": [
          "citrus",
          "toast",
          "cream",
          "green apple"
         ],
         "xaxis": "x",
         "y": [
          47,
          40,
          35,
          19
         ],
         "yaxis": "y"
        },
        {
         "alignmentgroup": "True",
         "hovertemplate": "wine_name=25 anni Montefalco Sagrantino<br>keywords=%{x}<br>total_user_count=%{y}<extra></extra>",
         "legendgroup": "25 anni Montefalco Sagrantino",
         "marker": {
          "color": "#FF97FF",
          "pattern": {
           "shape": ""
          }
         },
         "name": "25 anni Montefalco Sagrantino",
         "offsetgroup": "25 anni Montefalco Sagrantino",
         "orientation": "v",
         "showlegend": true,
         "textposition": "auto",
         "type": "bar",
         "x": [
          "coffee",
          "toast"
         ],
         "xaxis": "x",
         "y": [
          46,
          12
         ],
         "yaxis": "y"
        },
        {
         "alignmentgroup": "True",
         "hovertemplate": "wine_name=Pedro Ximenez Tradición 20 Years Old Vos<br>keywords=%{x}<br>total_user_count=%{y}<extra></extra>",
         "legendgroup": "Pedro Ximenez Tradición 20 Years Old Vos",
         "marker": {
          "color": "#FECB52",
          "pattern": {
           "shape": ""
          }
         },
         "name": "Pedro Ximenez Tradición 20 Years Old Vos",
         "offsetgroup": "Pedro Ximenez Tradición 20 Years Old Vos",
         "orientation": "v",
         "showlegend": true,
         "textposition": "auto",
         "type": "bar",
         "x": [
          "coffee"
         ],
         "xaxis": "x",
         "y": [
          46
         ],
         "yaxis": "y"
        },
        {
         "alignmentgroup": "True",
         "hovertemplate": "wine_name=Mai The First A.Montes Malbec<br>keywords=%{x}<br>total_user_count=%{y}<extra></extra>",
         "legendgroup": "Mai The First A.Montes Malbec",
         "marker": {
          "color": "#636efa",
          "pattern": {
           "shape": ""
          }
         },
         "name": "Mai The First A.Montes Malbec",
         "offsetgroup": "Mai The First A.Montes Malbec",
         "orientation": "v",
         "showlegend": true,
         "textposition": "auto",
         "type": "bar",
         "x": [
          "coffee",
          "toast"
         ],
         "xaxis": "x",
         "y": [
          46,
          16
         ],
         "yaxis": "y"
        },
        {
         "alignmentgroup": "True",
         "hovertemplate": "wine_name=Rubicon<br>keywords=%{x}<br>total_user_count=%{y}<extra></extra>",
         "legendgroup": "Rubicon",
         "marker": {
          "color": "#EF553B",
          "pattern": {
           "shape": ""
          }
         },
         "name": "Rubicon",
         "offsetgroup": "Rubicon",
         "orientation": "v",
         "showlegend": true,
         "textposition": "auto",
         "type": "bar",
         "x": [
          "coffee",
          "cream",
          "toast"
         ],
         "xaxis": "x",
         "y": [
          46,
          12,
          12
         ],
         "yaxis": "y"
        },
        {
         "alignmentgroup": "True",
         "hovertemplate": "wine_name=Buisson Renard<br>keywords=%{x}<br>total_user_count=%{y}<extra></extra>",
         "legendgroup": "Buisson Renard",
         "marker": {
          "color": "#00cc96",
          "pattern": {
           "shape": ""
          }
         },
         "name": "Buisson Renard",
         "offsetgroup": "Buisson Renard",
         "orientation": "v",
         "showlegend": true,
         "textposition": "auto",
         "type": "bar",
         "x": [
          "citrus",
          "green apple",
          "cream"
         ],
         "xaxis": "x",
         "y": [
          45,
          16,
          13
         ],
         "yaxis": "y"
        },
        {
         "alignmentgroup": "True",
         "hovertemplate": "wine_name=Mille E Una Notte<br>keywords=%{x}<br>total_user_count=%{y}<extra></extra>",
         "legendgroup": "Mille E Una Notte",
         "marker": {
          "color": "#ab63fa",
          "pattern": {
           "shape": ""
          }
         },
         "name": "Mille E Una Notte",
         "offsetgroup": "Mille E Una Notte",
         "orientation": "v",
         "showlegend": true,
         "textposition": "auto",
         "type": "bar",
         "x": [
          "coffee",
          "cream"
         ],
         "xaxis": "x",
         "y": [
          44,
          11
         ],
         "yaxis": "y"
        },
        {
         "alignmentgroup": "True",
         "hovertemplate": "wine_name=Relentless<br>keywords=%{x}<br>total_user_count=%{y}<extra></extra>",
         "legendgroup": "Relentless",
         "marker": {
          "color": "#FFA15A",
          "pattern": {
           "shape": ""
          }
         },
         "name": "Relentless",
         "offsetgroup": "Relentless",
         "orientation": "v",
         "showlegend": true,
         "textposition": "auto",
         "type": "bar",
         "x": [
          "coffee",
          "cream"
         ],
         "xaxis": "x",
         "y": [
          44,
          11
         ],
         "yaxis": "y"
        },
        {
         "alignmentgroup": "True",
         "hovertemplate": "wine_name=Puligny-Montrachet Enseignères<br>keywords=%{x}<br>total_user_count=%{y}<extra></extra>",
         "legendgroup": "Puligny-Montrachet Enseignères",
         "marker": {
          "color": "#19d3f3",
          "pattern": {
           "shape": ""
          }
         },
         "name": "Puligny-Montrachet Enseignères",
         "offsetgroup": "Puligny-Montrachet Enseignères",
         "orientation": "v",
         "showlegend": true,
         "textposition": "auto",
         "type": "bar",
         "x": [
          "citrus",
          "toast",
          "cream"
         ],
         "xaxis": "x",
         "y": [
          44,
          22,
          12
         ],
         "yaxis": "y"
        },
        {
         "alignmentgroup": "True",
         "hovertemplate": "wine_name=L'Apparita<br>keywords=%{x}<br>total_user_count=%{y}<extra></extra>",
         "legendgroup": "L'Apparita",
         "marker": {
          "color": "#FF6692",
          "pattern": {
           "shape": ""
          }
         },
         "name": "L'Apparita",
         "offsetgroup": "L'Apparita",
         "orientation": "v",
         "showlegend": true,
         "textposition": "auto",
         "type": "bar",
         "x": [
          "coffee"
         ],
         "xaxis": "x",
         "y": [
          44
         ],
         "yaxis": "y"
        },
        {
         "alignmentgroup": "True",
         "hovertemplate": "wine_name=Vittorio Moretti<br>keywords=%{x}<br>total_user_count=%{y}<extra></extra>",
         "legendgroup": "Vittorio Moretti",
         "marker": {
          "color": "#B6E880",
          "pattern": {
           "shape": ""
          }
         },
         "name": "Vittorio Moretti",
         "offsetgroup": "Vittorio Moretti",
         "orientation": "v",
         "showlegend": true,
         "textposition": "auto",
         "type": "bar",
         "x": [
          "toast",
          "citrus",
          "cream"
         ],
         "xaxis": "x",
         "y": [
          44,
          27,
          12
         ],
         "yaxis": "y"
        },
        {
         "alignmentgroup": "True",
         "hovertemplate": "wine_name=Howell Mountain Cabernet Sauvignon<br>keywords=%{x}<br>total_user_count=%{y}<extra></extra>",
         "legendgroup": "Howell Mountain Cabernet Sauvignon",
         "marker": {
          "color": "#FF97FF",
          "pattern": {
           "shape": ""
          }
         },
         "name": "Howell Mountain Cabernet Sauvignon",
         "offsetgroup": "Howell Mountain Cabernet Sauvignon",
         "orientation": "v",
         "showlegend": true,
         "textposition": "auto",
         "type": "bar",
         "x": [
          "coffee",
          "toast"
         ],
         "xaxis": "x",
         "y": [
          44,
          14
         ],
         "yaxis": "y"
        },
        {
         "alignmentgroup": "True",
         "hovertemplate": "wine_name=Pieve Santa Restituta Rennina Brunello di Montalcino<br>keywords=%{x}<br>total_user_count=%{y}<extra></extra>",
         "legendgroup": "Pieve Santa Restituta Rennina Brunello di Montalcino",
         "marker": {
          "color": "#FECB52",
          "pattern": {
           "shape": ""
          }
         },
         "name": "Pieve Santa Restituta Rennina Brunello di Montalcino",
         "offsetgroup": "Pieve Santa Restituta Rennina Brunello di Montalcino",
         "orientation": "v",
         "showlegend": true,
         "textposition": "auto",
         "type": "bar",
         "x": [
          "coffee"
         ],
         "xaxis": "x",
         "y": [
          44
         ],
         "yaxis": "y"
        },
        {
         "alignmentgroup": "True",
         "hovertemplate": "wine_name=La Piu Belle<br>keywords=%{x}<br>total_user_count=%{y}<extra></extra>",
         "legendgroup": "La Piu Belle",
         "marker": {
          "color": "#636efa",
          "pattern": {
           "shape": ""
          }
         },
         "name": "La Piu Belle",
         "offsetgroup": "La Piu Belle",
         "orientation": "v",
         "showlegend": true,
         "textposition": "auto",
         "type": "bar",
         "x": [
          "coffee",
          "cream",
          "toast"
         ],
         "xaxis": "x",
         "y": [
          44,
          14,
          10
         ],
         "yaxis": "y"
        },
        {
         "alignmentgroup": "True",
         "hovertemplate": "wine_name=Toscana I Sodi di San Niccolo<br>keywords=%{x}<br>total_user_count=%{y}<extra></extra>",
         "legendgroup": "Toscana I Sodi di San Niccolo",
         "marker": {
          "color": "#EF553B",
          "pattern": {
           "shape": ""
          }
         },
         "name": "Toscana I Sodi di San Niccolo",
         "offsetgroup": "Toscana I Sodi di San Niccolo",
         "orientation": "v",
         "showlegend": true,
         "textposition": "auto",
         "type": "bar",
         "x": [
          "coffee",
          "toast"
         ],
         "xaxis": "x",
         "y": [
          42,
          10
         ],
         "yaxis": "y"
        },
        {
         "alignmentgroup": "True",
         "hovertemplate": "wine_name=Tokaji Aszú 3 Puttonyos<br>keywords=%{x}<br>total_user_count=%{y}<extra></extra>",
         "legendgroup": "Tokaji Aszú 3 Puttonyos",
         "marker": {
          "color": "#00cc96",
          "pattern": {
           "shape": ""
          }
         },
         "name": "Tokaji Aszú 3 Puttonyos",
         "offsetgroup": "Tokaji Aszú 3 Puttonyos",
         "orientation": "v",
         "showlegend": true,
         "textposition": "auto",
         "type": "bar",
         "x": [
          "citrus",
          "toast",
          "cream"
         ],
         "xaxis": "x",
         "y": [
          41,
          20,
          18
         ],
         "yaxis": "y"
        },
        {
         "alignmentgroup": "True",
         "hovertemplate": "wine_name=Chablis Grand Cru 'Valmur'<br>keywords=%{x}<br>total_user_count=%{y}<extra></extra>",
         "legendgroup": "Chablis Grand Cru 'Valmur'",
         "marker": {
          "color": "#ab63fa",
          "pattern": {
           "shape": ""
          }
         },
         "name": "Chablis Grand Cru 'Valmur'",
         "offsetgroup": "Chablis Grand Cru 'Valmur'",
         "orientation": "v",
         "showlegend": true,
         "textposition": "auto",
         "type": "bar",
         "x": [
          "citrus",
          "cream",
          "green apple"
         ],
         "xaxis": "x",
         "y": [
          41,
          15,
          11
         ],
         "yaxis": "y"
        },
        {
         "alignmentgroup": "True",
         "hovertemplate": "wine_name=Montrachet Grand Cru Marquis de Laguiche<br>keywords=%{x}<br>total_user_count=%{y}<extra></extra>",
         "legendgroup": "Montrachet Grand Cru Marquis de Laguiche",
         "marker": {
          "color": "#FFA15A",
          "pattern": {
           "shape": ""
          }
         },
         "name": "Montrachet Grand Cru Marquis de Laguiche",
         "offsetgroup": "Montrachet Grand Cru Marquis de Laguiche",
         "orientation": "v",
         "showlegend": true,
         "textposition": "auto",
         "type": "bar",
         "x": [
          "citrus",
          "cream",
          "toast"
         ],
         "xaxis": "x",
         "y": [
          41,
          27,
          16
         ],
         "yaxis": "y"
        },
        {
         "alignmentgroup": "True",
         "hovertemplate": "wine_name=Riserva Nova Domus Terlaner<br>keywords=%{x}<br>total_user_count=%{y}<extra></extra>",
         "legendgroup": "Riserva Nova Domus Terlaner",
         "marker": {
          "color": "#19d3f3",
          "pattern": {
           "shape": ""
          }
         },
         "name": "Riserva Nova Domus Terlaner",
         "offsetgroup": "Riserva Nova Domus Terlaner",
         "orientation": "v",
         "showlegend": true,
         "textposition": "auto",
         "type": "bar",
         "x": [
          "cream",
          "citrus",
          "toast"
         ],
         "xaxis": "x",
         "y": [
          41,
          39,
          10
         ],
         "yaxis": "y"
        },
        {
         "alignmentgroup": "True",
         "hovertemplate": "wine_name=Reserve Chardonnay<br>keywords=%{x}<br>total_user_count=%{y}<extra></extra>",
         "legendgroup": "Reserve Chardonnay",
         "marker": {
          "color": "#FF6692",
          "pattern": {
           "shape": ""
          }
         },
         "name": "Reserve Chardonnay",
         "offsetgroup": "Reserve Chardonnay",
         "orientation": "v",
         "showlegend": true,
         "textposition": "auto",
         "type": "bar",
         "x": [
          "citrus",
          "toast",
          "cream"
         ],
         "xaxis": "x",
         "y": [
          41,
          20,
          17
         ],
         "yaxis": "y"
        },
        {
         "alignmentgroup": "True",
         "hovertemplate": "wine_name=Malleolus de Sanchomartin<br>keywords=%{x}<br>total_user_count=%{y}<extra></extra>",
         "legendgroup": "Malleolus de Sanchomartin",
         "marker": {
          "color": "#B6E880",
          "pattern": {
           "shape": ""
          }
         },
         "name": "Malleolus de Sanchomartin",
         "offsetgroup": "Malleolus de Sanchomartin",
         "orientation": "v",
         "showlegend": true,
         "textposition": "auto",
         "type": "bar",
         "x": [
          "coffee"
         ],
         "xaxis": "x",
         "y": [
          40
         ],
         "yaxis": "y"
        },
        {
         "alignmentgroup": "True",
         "hovertemplate": "wine_name=Unico Reserva Especial Edición<br>keywords=%{x}<br>total_user_count=%{y}<extra></extra>",
         "legendgroup": "Unico Reserva Especial Edición",
         "marker": {
          "color": "#FF97FF",
          "pattern": {
           "shape": ""
          }
         },
         "name": "Unico Reserva Especial Edición",
         "offsetgroup": "Unico Reserva Especial Edición",
         "orientation": "v",
         "showlegend": true,
         "textposition": "auto",
         "type": "bar",
         "x": [
          "coffee",
          "cream",
          "toast"
         ],
         "xaxis": "x",
         "y": [
          40,
          11,
          10
         ],
         "yaxis": "y"
        },
        {
         "alignmentgroup": "True",
         "hovertemplate": "wine_name=Brunello di Montalcino Riserva Madonna del Piano<br>keywords=%{x}<br>total_user_count=%{y}<extra></extra>",
         "legendgroup": "Brunello di Montalcino Riserva Madonna del Piano",
         "marker": {
          "color": "#FECB52",
          "pattern": {
           "shape": ""
          }
         },
         "name": "Brunello di Montalcino Riserva Madonna del Piano",
         "offsetgroup": "Brunello di Montalcino Riserva Madonna del Piano",
         "orientation": "v",
         "showlegend": true,
         "textposition": "auto",
         "type": "bar",
         "x": [
          "coffee"
         ],
         "xaxis": "x",
         "y": [
          40
         ],
         "yaxis": "y"
        },
        {
         "alignmentgroup": "True",
         "hovertemplate": "wine_name=Kurni Marche<br>keywords=%{x}<br>total_user_count=%{y}<extra></extra>",
         "legendgroup": "Kurni Marche",
         "marker": {
          "color": "#636efa",
          "pattern": {
           "shape": ""
          }
         },
         "name": "Kurni Marche",
         "offsetgroup": "Kurni Marche",
         "orientation": "v",
         "showlegend": true,
         "textposition": "auto",
         "type": "bar",
         "x": [
          "coffee"
         ],
         "xaxis": "x",
         "y": [
          40
         ],
         "yaxis": "y"
        },
        {
         "alignmentgroup": "True",
         "hovertemplate": "wine_name=Barón de Chirel Rioja Reserva<br>keywords=%{x}<br>total_user_count=%{y}<extra></extra>",
         "legendgroup": "Barón de Chirel Rioja Reserva",
         "marker": {
          "color": "#EF553B",
          "pattern": {
           "shape": ""
          }
         },
         "name": "Barón de Chirel Rioja Reserva",
         "offsetgroup": "Barón de Chirel Rioja Reserva",
         "orientation": "v",
         "showlegend": true,
         "textposition": "auto",
         "type": "bar",
         "x": [
          "coffee",
          "toast"
         ],
         "xaxis": "x",
         "y": [
          40,
          32
         ],
         "yaxis": "y"
        },
        {
         "alignmentgroup": "True",
         "hovertemplate": "wine_name=Cosimo Varvaglione Collezione Privata Primitivo di Manduria<br>keywords=%{x}<br>total_user_count=%{y}<extra></extra>",
         "legendgroup": "Cosimo Varvaglione Collezione Privata Primitivo di Manduria",
         "marker": {
          "color": "#00cc96",
          "pattern": {
           "shape": ""
          }
         },
         "name": "Cosimo Varvaglione Collezione Privata Primitivo di Manduria",
         "offsetgroup": "Cosimo Varvaglione Collezione Privata Primitivo di Manduria",
         "orientation": "v",
         "showlegend": true,
         "textposition": "auto",
         "type": "bar",
         "x": [
          "coffee"
         ],
         "xaxis": "x",
         "y": [
          40
         ],
         "yaxis": "y"
        },
        {
         "alignmentgroup": "True",
         "hovertemplate": "wine_name=Brunello di Montalcino Riserva Vigna Paganelli<br>keywords=%{x}<br>total_user_count=%{y}<extra></extra>",
         "legendgroup": "Brunello di Montalcino Riserva Vigna Paganelli",
         "marker": {
          "color": "#ab63fa",
          "pattern": {
           "shape": ""
          }
         },
         "name": "Brunello di Montalcino Riserva Vigna Paganelli",
         "offsetgroup": "Brunello di Montalcino Riserva Vigna Paganelli",
         "orientation": "v",
         "showlegend": true,
         "textposition": "auto",
         "type": "bar",
         "x": [
          "coffee"
         ],
         "xaxis": "x",
         "y": [
          38
         ],
         "yaxis": "y"
        },
        {
         "alignmentgroup": "True",
         "hovertemplate": "wine_name=Bric Dël Fiasc Barolo<br>keywords=%{x}<br>total_user_count=%{y}<extra></extra>",
         "legendgroup": "Bric Dël Fiasc Barolo",
         "marker": {
          "color": "#FFA15A",
          "pattern": {
           "shape": ""
          }
         },
         "name": "Bric Dël Fiasc Barolo",
         "offsetgroup": "Bric Dël Fiasc Barolo",
         "orientation": "v",
         "showlegend": true,
         "textposition": "auto",
         "type": "bar",
         "x": [
          "coffee"
         ],
         "xaxis": "x",
         "y": [
          38
         ],
         "yaxis": "y"
        },
        {
         "alignmentgroup": "True",
         "hovertemplate": "wine_name=Scharzhofberger Riesling Spätlese<br>keywords=%{x}<br>total_user_count=%{y}<extra></extra>",
         "legendgroup": "Scharzhofberger Riesling Spätlese",
         "marker": {
          "color": "#19d3f3",
          "pattern": {
           "shape": ""
          }
         },
         "name": "Scharzhofberger Riesling Spätlese",
         "offsetgroup": "Scharzhofberger Riesling Spätlese",
         "orientation": "v",
         "showlegend": true,
         "textposition": "auto",
         "type": "bar",
         "x": [
          "citrus"
         ],
         "xaxis": "x",
         "y": [
          38
         ],
         "yaxis": "y"
        },
        {
         "alignmentgroup": "True",
         "hovertemplate": "wine_name=Campo del Titari Amarone della Valpolicella Classico Riserva<br>keywords=%{x}<br>total_user_count=%{y}<extra></extra>",
         "legendgroup": "Campo del Titari Amarone della Valpolicella Classico Riserva",
         "marker": {
          "color": "#FF6692",
          "pattern": {
           "shape": ""
          }
         },
         "name": "Campo del Titari Amarone della Valpolicella Classico Riserva",
         "offsetgroup": "Campo del Titari Amarone della Valpolicella Classico Riserva",
         "orientation": "v",
         "showlegend": true,
         "textposition": "auto",
         "type": "bar",
         "x": [
          "coffee"
         ],
         "xaxis": "x",
         "y": [
          38
         ],
         "yaxis": "y"
        },
        {
         "alignmentgroup": "True",
         "hovertemplate": "wine_name=Amarone della Valpolicella<br>keywords=%{x}<br>total_user_count=%{y}<extra></extra>",
         "legendgroup": "Amarone della Valpolicella",
         "marker": {
          "color": "#B6E880",
          "pattern": {
           "shape": ""
          }
         },
         "name": "Amarone della Valpolicella",
         "offsetgroup": "Amarone della Valpolicella",
         "orientation": "v",
         "showlegend": true,
         "textposition": "auto",
         "type": "bar",
         "x": [
          "coffee",
          "coffee",
          "coffee"
         ],
         "xaxis": "x",
         "y": [
          38,
          24,
          14
         ],
         "yaxis": "y"
        },
        {
         "alignmentgroup": "True",
         "hovertemplate": "wine_name=Vieilles Vignes Châteauneuf-du-Pape Blanc<br>keywords=%{x}<br>total_user_count=%{y}<extra></extra>",
         "legendgroup": "Vieilles Vignes Châteauneuf-du-Pape Blanc",
         "marker": {
          "color": "#FF97FF",
          "pattern": {
           "shape": ""
          }
         },
         "name": "Vieilles Vignes Châteauneuf-du-Pape Blanc",
         "offsetgroup": "Vieilles Vignes Châteauneuf-du-Pape Blanc",
         "orientation": "v",
         "showlegend": true,
         "textposition": "auto",
         "type": "bar",
         "x": [
          "cream",
          "toast",
          "citrus"
         ],
         "xaxis": "x",
         "y": [
          38,
          22,
          17
         ],
         "yaxis": "y"
        },
        {
         "alignmentgroup": "True",
         "hovertemplate": "wine_name=Montepulciano d'Abruzzo<br>keywords=%{x}<br>total_user_count=%{y}<extra></extra>",
         "legendgroup": "Montepulciano d'Abruzzo",
         "marker": {
          "color": "#FECB52",
          "pattern": {
           "shape": ""
          }
         },
         "name": "Montepulciano d'Abruzzo",
         "offsetgroup": "Montepulciano d'Abruzzo",
         "orientation": "v",
         "showlegend": true,
         "textposition": "auto",
         "type": "bar",
         "x": [
          "coffee",
          "coffee"
         ],
         "xaxis": "x",
         "y": [
          36,
          20
         ],
         "yaxis": "y"
        },
        {
         "alignmentgroup": "True",
         "hovertemplate": "wine_name=Barolo Le Vigne<br>keywords=%{x}<br>total_user_count=%{y}<extra></extra>",
         "legendgroup": "Barolo Le Vigne",
         "marker": {
          "color": "#636efa",
          "pattern": {
           "shape": ""
          }
         },
         "name": "Barolo Le Vigne",
         "offsetgroup": "Barolo Le Vigne",
         "orientation": "v",
         "showlegend": true,
         "textposition": "auto",
         "type": "bar",
         "x": [
          "coffee",
          "toast"
         ],
         "xaxis": "x",
         "y": [
          36,
          14
         ],
         "yaxis": "y"
        },
        {
         "alignmentgroup": "True",
         "hovertemplate": "wine_name=Beaune 1er Cru 'Clos des Mouches' Blanc<br>keywords=%{x}<br>total_user_count=%{y}<extra></extra>",
         "legendgroup": "Beaune 1er Cru 'Clos des Mouches' Blanc",
         "marker": {
          "color": "#EF553B",
          "pattern": {
           "shape": ""
          }
         },
         "name": "Beaune 1er Cru 'Clos des Mouches' Blanc",
         "offsetgroup": "Beaune 1er Cru 'Clos des Mouches' Blanc",
         "orientation": "v",
         "showlegend": true,
         "textposition": "auto",
         "type": "bar",
         "x": [
          "citrus",
          "cream",
          "toast"
         ],
         "xaxis": "x",
         "y": [
          36,
          30,
          18
         ],
         "yaxis": "y"
        },
        {
         "alignmentgroup": "True",
         "hovertemplate": "wine_name=The Armagh Shiraz<br>keywords=%{x}<br>total_user_count=%{y}<extra></extra>",
         "legendgroup": "The Armagh Shiraz",
         "marker": {
          "color": "#00cc96",
          "pattern": {
           "shape": ""
          }
         },
         "name": "The Armagh Shiraz",
         "offsetgroup": "The Armagh Shiraz",
         "orientation": "v",
         "showlegend": true,
         "textposition": "auto",
         "type": "bar",
         "x": [
          "coffee",
          "cream",
          "toast"
         ],
         "xaxis": "x",
         "y": [
          36,
          12,
          12
         ],
         "yaxis": "y"
        },
        {
         "alignmentgroup": "True",
         "hovertemplate": "wine_name=Dagromis Barolo<br>keywords=%{x}<br>total_user_count=%{y}<extra></extra>",
         "legendgroup": "Dagromis Barolo",
         "marker": {
          "color": "#ab63fa",
          "pattern": {
           "shape": ""
          }
         },
         "name": "Dagromis Barolo",
         "offsetgroup": "Dagromis Barolo",
         "orientation": "v",
         "showlegend": true,
         "textposition": "auto",
         "type": "bar",
         "x": [
          "coffee",
          "toast"
         ],
         "xaxis": "x",
         "y": [
          36,
          18
         ],
         "yaxis": "y"
        },
        {
         "alignmentgroup": "True",
         "hovertemplate": "wine_name=Cerretalto Brunello di Montalcino<br>keywords=%{x}<br>total_user_count=%{y}<extra></extra>",
         "legendgroup": "Cerretalto Brunello di Montalcino",
         "marker": {
          "color": "#FFA15A",
          "pattern": {
           "shape": ""
          }
         },
         "name": "Cerretalto Brunello di Montalcino",
         "offsetgroup": "Cerretalto Brunello di Montalcino",
         "orientation": "v",
         "showlegend": true,
         "textposition": "auto",
         "type": "bar",
         "x": [
          "coffee"
         ],
         "xaxis": "x",
         "y": [
          36
         ],
         "yaxis": "y"
        },
        {
         "alignmentgroup": "True",
         "hovertemplate": "wine_name=L'Hermitage<br>keywords=%{x}<br>total_user_count=%{y}<extra></extra>",
         "legendgroup": "L'Hermitage",
         "marker": {
          "color": "#19d3f3",
          "pattern": {
           "shape": ""
          }
         },
         "name": "L'Hermitage",
         "offsetgroup": "L'Hermitage",
         "orientation": "v",
         "showlegend": true,
         "textposition": "auto",
         "type": "bar",
         "x": [
          "coffee",
          "toast"
         ],
         "xaxis": "x",
         "y": [
          36,
          14
         ],
         "yaxis": "y"
        },
        {
         "alignmentgroup": "True",
         "hovertemplate": "wine_name=Gran Enemigo<br>keywords=%{x}<br>total_user_count=%{y}<extra></extra>",
         "legendgroup": "Gran Enemigo",
         "marker": {
          "color": "#FF6692",
          "pattern": {
           "shape": ""
          }
         },
         "name": "Gran Enemigo",
         "offsetgroup": "Gran Enemigo",
         "orientation": "v",
         "showlegend": true,
         "textposition": "auto",
         "type": "bar",
         "x": [
          "coffee",
          "toast"
         ],
         "xaxis": "x",
         "y": [
          36,
          20
         ],
         "yaxis": "y"
        },
        {
         "alignmentgroup": "True",
         "hovertemplate": "wine_name=Dalmau Rioja<br>keywords=%{x}<br>total_user_count=%{y}<extra></extra>",
         "legendgroup": "Dalmau Rioja",
         "marker": {
          "color": "#B6E880",
          "pattern": {
           "shape": ""
          }
         },
         "name": "Dalmau Rioja",
         "offsetgroup": "Dalmau Rioja",
         "orientation": "v",
         "showlegend": true,
         "textposition": "auto",
         "type": "bar",
         "x": [
          "coffee",
          "toast",
          "cream"
         ],
         "xaxis": "x",
         "y": [
          36,
          30,
          19
         ],
         "yaxis": "y"
        },
        {
         "alignmentgroup": "True",
         "hovertemplate": "wine_name=Cuvée Risleus Brut Champagne Premier Cru<br>keywords=%{x}<br>total_user_count=%{y}<extra></extra>",
         "legendgroup": "Cuvée Risleus Brut Champagne Premier Cru",
         "marker": {
          "color": "#FF97FF",
          "pattern": {
           "shape": ""
          }
         },
         "name": "Cuvée Risleus Brut Champagne Premier Cru",
         "offsetgroup": "Cuvée Risleus Brut Champagne Premier Cru",
         "orientation": "v",
         "showlegend": true,
         "textposition": "auto",
         "type": "bar",
         "x": [
          "toast"
         ],
         "xaxis": "x",
         "y": [
          36
         ],
         "yaxis": "y"
        },
        {
         "alignmentgroup": "True",
         "hovertemplate": "wine_name=Mazzano Amarone Della Valpolicella Classico<br>keywords=%{x}<br>total_user_count=%{y}<extra></extra>",
         "legendgroup": "Mazzano Amarone Della Valpolicella Classico",
         "marker": {
          "color": "#FECB52",
          "pattern": {
           "shape": ""
          }
         },
         "name": "Mazzano Amarone Della Valpolicella Classico",
         "offsetgroup": "Mazzano Amarone Della Valpolicella Classico",
         "orientation": "v",
         "showlegend": true,
         "textposition": "auto",
         "type": "bar",
         "x": [
          "coffee"
         ],
         "xaxis": "x",
         "y": [
          36
         ],
         "yaxis": "y"
        },
        {
         "alignmentgroup": "True",
         "hovertemplate": "wine_name=Les Pavots<br>keywords=%{x}<br>total_user_count=%{y}<extra></extra>",
         "legendgroup": "Les Pavots",
         "marker": {
          "color": "#636efa",
          "pattern": {
           "shape": ""
          }
         },
         "name": "Les Pavots",
         "offsetgroup": "Les Pavots",
         "orientation": "v",
         "showlegend": true,
         "textposition": "auto",
         "type": "bar",
         "x": [
          "coffee",
          "cream",
          "toast"
         ],
         "xaxis": "x",
         "y": [
          34,
          13,
          12
         ],
         "yaxis": "y"
        },
        {
         "alignmentgroup": "True",
         "hovertemplate": "wine_name=Giramonte Toscana<br>keywords=%{x}<br>total_user_count=%{y}<extra></extra>",
         "legendgroup": "Giramonte Toscana",
         "marker": {
          "color": "#EF553B",
          "pattern": {
           "shape": ""
          }
         },
         "name": "Giramonte Toscana",
         "offsetgroup": "Giramonte Toscana",
         "orientation": "v",
         "showlegend": true,
         "textposition": "auto",
         "type": "bar",
         "x": [
          "coffee"
         ],
         "xaxis": "x",
         "y": [
          34
         ],
         "yaxis": "y"
        },
        {
         "alignmentgroup": "True",
         "hovertemplate": "wine_name=Yarden Katzrin<br>keywords=%{x}<br>total_user_count=%{y}<extra></extra>",
         "legendgroup": "Yarden Katzrin",
         "marker": {
          "color": "#00cc96",
          "pattern": {
           "shape": ""
          }
         },
         "name": "Yarden Katzrin",
         "offsetgroup": "Yarden Katzrin",
         "orientation": "v",
         "showlegend": true,
         "textposition": "auto",
         "type": "bar",
         "x": [
          "coffee"
         ],
         "xaxis": "x",
         "y": [
          34
         ],
         "yaxis": "y"
        },
        {
         "alignmentgroup": "True",
         "hovertemplate": "wine_name=Poggio all'Oro Brunello di Montalcino Riserva<br>keywords=%{x}<br>total_user_count=%{y}<extra></extra>",
         "legendgroup": "Poggio all'Oro Brunello di Montalcino Riserva",
         "marker": {
          "color": "#ab63fa",
          "pattern": {
           "shape": ""
          }
         },
         "name": "Poggio all'Oro Brunello di Montalcino Riserva",
         "offsetgroup": "Poggio all'Oro Brunello di Montalcino Riserva",
         "orientation": "v",
         "showlegend": true,
         "textposition": "auto",
         "type": "bar",
         "x": [
          "coffee"
         ],
         "xaxis": "x",
         "y": [
          34
         ],
         "yaxis": "y"
        },
        {
         "alignmentgroup": "True",
         "hovertemplate": "wine_name=Campo Inferi Amarone della Valpolicella Classico Riserva<br>keywords=%{x}<br>total_user_count=%{y}<extra></extra>",
         "legendgroup": "Campo Inferi Amarone della Valpolicella Classico Riserva",
         "marker": {
          "color": "#FFA15A",
          "pattern": {
           "shape": ""
          }
         },
         "name": "Campo Inferi Amarone della Valpolicella Classico Riserva",
         "offsetgroup": "Campo Inferi Amarone della Valpolicella Classico Riserva",
         "orientation": "v",
         "showlegend": true,
         "textposition": "auto",
         "type": "bar",
         "x": [
          "coffee"
         ],
         "xaxis": "x",
         "y": [
          34
         ],
         "yaxis": "y"
        },
        {
         "alignmentgroup": "True",
         "hovertemplate": "wine_name=Gran Reserva Rioja (Finca Ygay)<br>keywords=%{x}<br>total_user_count=%{y}<extra></extra>",
         "legendgroup": "Gran Reserva Rioja (Finca Ygay)",
         "marker": {
          "color": "#19d3f3",
          "pattern": {
           "shape": ""
          }
         },
         "name": "Gran Reserva Rioja (Finca Ygay)",
         "offsetgroup": "Gran Reserva Rioja (Finca Ygay)",
         "orientation": "v",
         "showlegend": true,
         "textposition": "auto",
         "type": "bar",
         "x": [
          "coffee",
          "toast"
         ],
         "xaxis": "x",
         "y": [
          34,
          18
         ],
         "yaxis": "y"
        },
        {
         "alignmentgroup": "True",
         "hovertemplate": "wine_name=Vintage Port<br>keywords=%{x}<br>total_user_count=%{y}<extra></extra>",
         "legendgroup": "Vintage Port",
         "marker": {
          "color": "#FF6692",
          "pattern": {
           "shape": ""
          }
         },
         "name": "Vintage Port",
         "offsetgroup": "Vintage Port",
         "orientation": "v",
         "showlegend": true,
         "textposition": "auto",
         "type": "bar",
         "x": [
          "coffee",
          "coffee",
          "cream"
         ],
         "xaxis": "x",
         "y": [
          34,
          12,
          10
         ],
         "yaxis": "y"
        },
        {
         "alignmentgroup": "True",
         "hovertemplate": "wine_name=Coteau de Vernon Condrieu<br>keywords=%{x}<br>total_user_count=%{y}<extra></extra>",
         "legendgroup": "Coteau de Vernon Condrieu",
         "marker": {
          "color": "#B6E880",
          "pattern": {
           "shape": ""
          }
         },
         "name": "Coteau de Vernon Condrieu",
         "offsetgroup": "Coteau de Vernon Condrieu",
         "orientation": "v",
         "showlegend": true,
         "textposition": "auto",
         "type": "bar",
         "x": [
          "cream",
          "citrus",
          "toast"
         ],
         "xaxis": "x",
         "y": [
          34,
          29,
          12
         ],
         "yaxis": "y"
        },
        {
         "alignmentgroup": "True",
         "hovertemplate": "wine_name=Giallo d'Arles Greco di Tufo<br>keywords=%{x}<br>total_user_count=%{y}<extra></extra>",
         "legendgroup": "Giallo d'Arles Greco di Tufo",
         "marker": {
          "color": "#FF97FF",
          "pattern": {
           "shape": ""
          }
         },
         "name": "Giallo d'Arles Greco di Tufo",
         "offsetgroup": "Giallo d'Arles Greco di Tufo",
         "orientation": "v",
         "showlegend": true,
         "textposition": "auto",
         "type": "bar",
         "x": [
          "citrus"
         ],
         "xaxis": "x",
         "y": [
          34
         ],
         "yaxis": "y"
        },
        {
         "alignmentgroup": "True",
         "hovertemplate": "wine_name=Domus Aurea Cabernet Sauvignon<br>keywords=%{x}<br>total_user_count=%{y}<extra></extra>",
         "legendgroup": "Domus Aurea Cabernet Sauvignon",
         "marker": {
          "color": "#FECB52",
          "pattern": {
           "shape": ""
          }
         },
         "name": "Domus Aurea Cabernet Sauvignon",
         "offsetgroup": "Domus Aurea Cabernet Sauvignon",
         "orientation": "v",
         "showlegend": true,
         "textposition": "auto",
         "type": "bar",
         "x": [
          "coffee",
          "toast"
         ],
         "xaxis": "x",
         "y": [
          34,
          14
         ],
         "yaxis": "y"
        },
        {
         "alignmentgroup": "True",
         "hovertemplate": "wine_name=Bramare Malbec Uco Valley<br>keywords=%{x}<br>total_user_count=%{y}<extra></extra>",
         "legendgroup": "Bramare Malbec Uco Valley",
         "marker": {
          "color": "#636efa",
          "pattern": {
           "shape": ""
          }
         },
         "name": "Bramare Malbec Uco Valley",
         "offsetgroup": "Bramare Malbec Uco Valley",
         "orientation": "v",
         "showlegend": true,
         "textposition": "auto",
         "type": "bar",
         "x": [
          "coffee",
          "toast"
         ],
         "xaxis": "x",
         "y": [
          34,
          18
         ],
         "yaxis": "y"
        },
        {
         "alignmentgroup": "True",
         "hovertemplate": "wine_name=Pinotage<br>keywords=%{x}<br>total_user_count=%{y}<extra></extra>",
         "legendgroup": "Pinotage",
         "marker": {
          "color": "#EF553B",
          "pattern": {
           "shape": ""
          }
         },
         "name": "Pinotage",
         "offsetgroup": "Pinotage",
         "orientation": "v",
         "showlegend": true,
         "textposition": "auto",
         "type": "bar",
         "x": [
          "coffee",
          "toast"
         ],
         "xaxis": "x",
         "y": [
          34,
          34
         ],
         "yaxis": "y"
        },
        {
         "alignmentgroup": "True",
         "hovertemplate": "wine_name=Le Petit Mouton de Mouton Rothschild Pauillac<br>keywords=%{x}<br>total_user_count=%{y}<extra></extra>",
         "legendgroup": "Le Petit Mouton de Mouton Rothschild Pauillac",
         "marker": {
          "color": "#00cc96",
          "pattern": {
           "shape": ""
          }
         },
         "name": "Le Petit Mouton de Mouton Rothschild Pauillac",
         "offsetgroup": "Le Petit Mouton de Mouton Rothschild Pauillac",
         "orientation": "v",
         "showlegend": true,
         "textposition": "auto",
         "type": "bar",
         "x": [
          "coffee",
          "toast"
         ],
         "xaxis": "x",
         "y": [
          34,
          12
         ],
         "yaxis": "y"
        },
        {
         "alignmentgroup": "True",
         "hovertemplate": "wine_name=Vigne Vecchie Gold Series Leggenda Primitivo di Manduria<br>keywords=%{x}<br>total_user_count=%{y}<extra></extra>",
         "legendgroup": "Vigne Vecchie Gold Series Leggenda Primitivo di Manduria",
         "marker": {
          "color": "#ab63fa",
          "pattern": {
           "shape": ""
          }
         },
         "name": "Vigne Vecchie Gold Series Leggenda Primitivo di Manduria",
         "offsetgroup": "Vigne Vecchie Gold Series Leggenda Primitivo di Manduria",
         "orientation": "v",
         "showlegend": true,
         "textposition": "auto",
         "type": "bar",
         "x": [
          "coffee"
         ],
         "xaxis": "x",
         "y": [
          34
         ],
         "yaxis": "y"
        },
        {
         "alignmentgroup": "True",
         "hovertemplate": "wine_name=Pessac-Léognan Blanc (Grand Cru Classé de Graves)<br>keywords=%{x}<br>total_user_count=%{y}<extra></extra>",
         "legendgroup": "Pessac-Léognan Blanc (Grand Cru Classé de Graves)",
         "marker": {
          "color": "#FFA15A",
          "pattern": {
           "shape": ""
          }
         },
         "name": "Pessac-Léognan Blanc (Grand Cru Classé de Graves)",
         "offsetgroup": "Pessac-Léognan Blanc (Grand Cru Classé de Graves)",
         "orientation": "v",
         "showlegend": true,
         "textposition": "auto",
         "type": "bar",
         "x": [
          "citrus",
          "citrus",
          "toast",
          "toast",
          "cream"
         ],
         "xaxis": "x",
         "y": [
          33,
          25,
          18,
          14,
          13
         ],
         "yaxis": "y"
        },
        {
         "alignmentgroup": "True",
         "hovertemplate": "wine_name=Chevalier-Montrachet Grand Cru Blanc<br>keywords=%{x}<br>total_user_count=%{y}<extra></extra>",
         "legendgroup": "Chevalier-Montrachet Grand Cru Blanc",
         "marker": {
          "color": "#19d3f3",
          "pattern": {
           "shape": ""
          }
         },
         "name": "Chevalier-Montrachet Grand Cru Blanc",
         "offsetgroup": "Chevalier-Montrachet Grand Cru Blanc",
         "orientation": "v",
         "showlegend": true,
         "textposition": "auto",
         "type": "bar",
         "x": [
          "citrus",
          "cream",
          "toast"
         ],
         "xaxis": "x",
         "y": [
          33,
          32,
          26
         ],
         "yaxis": "y"
        },
        {
         "alignmentgroup": "True",
         "hovertemplate": "wine_name=Vieilles Vignes Meursault<br>keywords=%{x}<br>total_user_count=%{y}<extra></extra>",
         "legendgroup": "Vieilles Vignes Meursault",
         "marker": {
          "color": "#FF6692",
          "pattern": {
           "shape": ""
          }
         },
         "name": "Vieilles Vignes Meursault",
         "offsetgroup": "Vieilles Vignes Meursault",
         "orientation": "v",
         "showlegend": true,
         "textposition": "auto",
         "type": "bar",
         "x": [
          "citrus",
          "cream",
          "toast"
         ],
         "xaxis": "x",
         "y": [
          33,
          17,
          14
         ],
         "yaxis": "y"
        },
        {
         "alignmentgroup": "True",
         "hovertemplate": "wine_name=Capitel Monte Olmi Amarone della Valpolicella Classico Riserva<br>keywords=%{x}<br>total_user_count=%{y}<extra></extra>",
         "legendgroup": "Capitel Monte Olmi Amarone della Valpolicella Classico Riserva",
         "marker": {
          "color": "#B6E880",
          "pattern": {
           "shape": ""
          }
         },
         "name": "Capitel Monte Olmi Amarone della Valpolicella Classico Riserva",
         "offsetgroup": "Capitel Monte Olmi Amarone della Valpolicella Classico Riserva",
         "orientation": "v",
         "showlegend": true,
         "textposition": "auto",
         "type": "bar",
         "x": [
          "coffee"
         ],
         "xaxis": "x",
         "y": [
          32
         ],
         "yaxis": "y"
        },
        {
         "alignmentgroup": "True",
         "hovertemplate": "wine_name=Vürsù Barbaresco Starderi<br>keywords=%{x}<br>total_user_count=%{y}<extra></extra>",
         "legendgroup": "Vürsù Barbaresco Starderi",
         "marker": {
          "color": "#FF97FF",
          "pattern": {
           "shape": ""
          }
         },
         "name": "Vürsù Barbaresco Starderi",
         "offsetgroup": "Vürsù Barbaresco Starderi",
         "orientation": "v",
         "showlegend": true,
         "textposition": "auto",
         "type": "bar",
         "x": [
          "coffee"
         ],
         "xaxis": "x",
         "y": [
          32
         ],
         "yaxis": "y"
        },
        {
         "alignmentgroup": "True",
         "hovertemplate": "wine_name=Scrio<br>keywords=%{x}<br>total_user_count=%{y}<extra></extra>",
         "legendgroup": "Scrio",
         "marker": {
          "color": "#FECB52",
          "pattern": {
           "shape": ""
          }
         },
         "name": "Scrio",
         "offsetgroup": "Scrio",
         "orientation": "v",
         "showlegend": true,
         "textposition": "auto",
         "type": "bar",
         "x": [
          "coffee"
         ],
         "xaxis": "x",
         "y": [
          32
         ],
         "yaxis": "y"
        },
        {
         "alignmentgroup": "True",
         "hovertemplate": "wine_name=Cirsion Rioja<br>keywords=%{x}<br>total_user_count=%{y}<extra></extra>",
         "legendgroup": "Cirsion Rioja",
         "marker": {
          "color": "#636efa",
          "pattern": {
           "shape": ""
          }
         },
         "name": "Cirsion Rioja",
         "offsetgroup": "Cirsion Rioja",
         "orientation": "v",
         "showlegend": true,
         "textposition": "auto",
         "type": "bar",
         "x": [
          "coffee",
          "toast"
         ],
         "xaxis": "x",
         "y": [
          32,
          20
         ],
         "yaxis": "y"
        },
        {
         "alignmentgroup": "True",
         "hovertemplate": "wine_name=Barbaresco Rabajà<br>keywords=%{x}<br>total_user_count=%{y}<extra></extra>",
         "legendgroup": "Barbaresco Rabajà",
         "marker": {
          "color": "#EF553B",
          "pattern": {
           "shape": ""
          }
         },
         "name": "Barbaresco Rabajà",
         "offsetgroup": "Barbaresco Rabajà",
         "orientation": "v",
         "showlegend": true,
         "textposition": "auto",
         "type": "bar",
         "x": [
          "coffee"
         ],
         "xaxis": "x",
         "y": [
          32
         ],
         "yaxis": "y"
        },
        {
         "alignmentgroup": "True",
         "hovertemplate": "wine_name=Campo León Amarone della Valpolicella<br>keywords=%{x}<br>total_user_count=%{y}<extra></extra>",
         "legendgroup": "Campo León Amarone della Valpolicella",
         "marker": {
          "color": "#00cc96",
          "pattern": {
           "shape": ""
          }
         },
         "name": "Campo León Amarone della Valpolicella",
         "offsetgroup": "Campo León Amarone della Valpolicella",
         "orientation": "v",
         "showlegend": true,
         "textposition": "auto",
         "type": "bar",
         "x": [
          "coffee"
         ],
         "xaxis": "x",
         "y": [
          32
         ],
         "yaxis": "y"
        },
        {
         "alignmentgroup": "True",
         "hovertemplate": "wine_name=Domaine des Tourettes Hermitage Rouge<br>keywords=%{x}<br>total_user_count=%{y}<extra></extra>",
         "legendgroup": "Domaine des Tourettes Hermitage Rouge",
         "marker": {
          "color": "#ab63fa",
          "pattern": {
           "shape": ""
          }
         },
         "name": "Domaine des Tourettes Hermitage Rouge",
         "offsetgroup": "Domaine des Tourettes Hermitage Rouge",
         "orientation": "v",
         "showlegend": true,
         "textposition": "auto",
         "type": "bar",
         "x": [
          "coffee",
          "cream"
         ],
         "xaxis": "x",
         "y": [
          32,
          15
         ],
         "yaxis": "y"
        },
        {
         "alignmentgroup": "True",
         "hovertemplate": "wine_name=Brunello di Montalcino Riserva<br>keywords=%{x}<br>total_user_count=%{y}<extra></extra>",
         "legendgroup": "Brunello di Montalcino Riserva",
         "marker": {
          "color": "#FFA15A",
          "pattern": {
           "shape": ""
          }
         },
         "name": "Brunello di Montalcino Riserva",
         "offsetgroup": "Brunello di Montalcino Riserva",
         "orientation": "v",
         "showlegend": true,
         "textposition": "auto",
         "type": "bar",
         "x": [
          "coffee",
          "coffee",
          "coffee",
          "coffee",
          "coffee",
          "toast"
         ],
         "xaxis": "x",
         "y": [
          32,
          30,
          16,
          16,
          12,
          10
         ],
         "yaxis": "y"
        },
        {
         "alignmentgroup": "True",
         "hovertemplate": "wine_name=Mossone<br>keywords=%{x}<br>total_user_count=%{y}<extra></extra>",
         "legendgroup": "Mossone",
         "marker": {
          "color": "#19d3f3",
          "pattern": {
           "shape": ""
          }
         },
         "name": "Mossone",
         "offsetgroup": "Mossone",
         "orientation": "v",
         "showlegend": true,
         "textposition": "auto",
         "type": "bar",
         "x": [
          "coffee"
         ],
         "xaxis": "x",
         "y": [
          32
         ],
         "yaxis": "y"
        },
        {
         "alignmentgroup": "True",
         "hovertemplate": "wine_name=Castello della Sala Muffato della Sala<br>keywords=%{x}<br>total_user_count=%{y}<extra></extra>",
         "legendgroup": "Castello della Sala Muffato della Sala",
         "marker": {
          "color": "#FF6692",
          "pattern": {
           "shape": ""
          }
         },
         "name": "Castello della Sala Muffato della Sala",
         "offsetgroup": "Castello della Sala Muffato della Sala",
         "orientation": "v",
         "showlegend": true,
         "textposition": "auto",
         "type": "bar",
         "x": [
          "citrus",
          "cream"
         ],
         "xaxis": "x",
         "y": [
          31,
          11
         ],
         "yaxis": "y"
        },
        {
         "alignmentgroup": "True",
         "hovertemplate": "wine_name=Rutherford<br>keywords=%{x}<br>total_user_count=%{y}<extra></extra>",
         "legendgroup": "Rutherford",
         "marker": {
          "color": "#B6E880",
          "pattern": {
           "shape": ""
          }
         },
         "name": "Rutherford",
         "offsetgroup": "Rutherford",
         "orientation": "v",
         "showlegend": true,
         "textposition": "auto",
         "type": "bar",
         "x": [
          "coffee",
          "cream",
          "toast"
         ],
         "xaxis": "x",
         "y": [
          30,
          20,
          18
         ],
         "yaxis": "y"
        },
        {
         "alignmentgroup": "True",
         "hovertemplate": "wine_name=Campo dei Gigli Amarone della Valpolicella<br>keywords=%{x}<br>total_user_count=%{y}<extra></extra>",
         "legendgroup": "Campo dei Gigli Amarone della Valpolicella",
         "marker": {
          "color": "#FF97FF",
          "pattern": {
           "shape": ""
          }
         },
         "name": "Campo dei Gigli Amarone della Valpolicella",
         "offsetgroup": "Campo dei Gigli Amarone della Valpolicella",
         "orientation": "v",
         "showlegend": true,
         "textposition": "auto",
         "type": "bar",
         "x": [
          "coffee"
         ],
         "xaxis": "x",
         "y": [
          30
         ],
         "yaxis": "y"
        },
        {
         "alignmentgroup": "True",
         "hovertemplate": "wine_name=Vigna Cappella di S. Stefano Perno Barolo<br>keywords=%{x}<br>total_user_count=%{y}<extra></extra>",
         "legendgroup": "Vigna Cappella di S. Stefano Perno Barolo",
         "marker": {
          "color": "#FECB52",
          "pattern": {
           "shape": ""
          }
         },
         "name": "Vigna Cappella di S. Stefano Perno Barolo",
         "offsetgroup": "Vigna Cappella di S. Stefano Perno Barolo",
         "orientation": "v",
         "showlegend": true,
         "textposition": "auto",
         "type": "bar",
         "x": [
          "coffee"
         ],
         "xaxis": "x",
         "y": [
          30
         ],
         "yaxis": "y"
        },
        {
         "alignmentgroup": "True",
         "hovertemplate": "wine_name=Il Bricco Barbaresco<br>keywords=%{x}<br>total_user_count=%{y}<extra></extra>",
         "legendgroup": "Il Bricco Barbaresco",
         "marker": {
          "color": "#636efa",
          "pattern": {
           "shape": ""
          }
         },
         "name": "Il Bricco Barbaresco",
         "offsetgroup": "Il Bricco Barbaresco",
         "orientation": "v",
         "showlegend": true,
         "textposition": "auto",
         "type": "bar",
         "x": [
          "coffee"
         ],
         "xaxis": "x",
         "y": [
          30
         ],
         "yaxis": "y"
        },
        {
         "alignmentgroup": "True",
         "hovertemplate": "wine_name=Veneto Rosso del Bepi<br>keywords=%{x}<br>total_user_count=%{y}<extra></extra>",
         "legendgroup": "Veneto Rosso del Bepi",
         "marker": {
          "color": "#EF553B",
          "pattern": {
           "shape": ""
          }
         },
         "name": "Veneto Rosso del Bepi",
         "offsetgroup": "Veneto Rosso del Bepi",
         "orientation": "v",
         "showlegend": true,
         "textposition": "auto",
         "type": "bar",
         "x": [
          "coffee"
         ],
         "xaxis": "x",
         "y": [
          30
         ],
         "yaxis": "y"
        },
        {
         "alignmentgroup": "True",
         "hovertemplate": "wine_name=Saint-Émilion Grand Cru (Grand Cru Classé)<br>keywords=%{x}<br>total_user_count=%{y}<extra></extra>",
         "legendgroup": "Saint-Émilion Grand Cru (Grand Cru Classé)",
         "marker": {
          "color": "#00cc96",
          "pattern": {
           "shape": ""
          }
         },
         "name": "Saint-Émilion Grand Cru (Grand Cru Classé)",
         "offsetgroup": "Saint-Émilion Grand Cru (Grand Cru Classé)",
         "orientation": "v",
         "showlegend": true,
         "textposition": "auto",
         "type": "bar",
         "x": [
          "coffee"
         ],
         "xaxis": "x",
         "y": [
          30
         ],
         "yaxis": "y"
        },
        {
         "alignmentgroup": "True",
         "hovertemplate": "wine_name=Lagrein Riserva Porphyr<br>keywords=%{x}<br>total_user_count=%{y}<extra></extra>",
         "legendgroup": "Lagrein Riserva Porphyr",
         "marker": {
          "color": "#ab63fa",
          "pattern": {
           "shape": ""
          }
         },
         "name": "Lagrein Riserva Porphyr",
         "offsetgroup": "Lagrein Riserva Porphyr",
         "orientation": "v",
         "showlegend": true,
         "textposition": "auto",
         "type": "bar",
         "x": [
          "coffee"
         ],
         "xaxis": "x",
         "y": [
          30
         ],
         "yaxis": "y"
        },
        {
         "alignmentgroup": "True",
         "hovertemplate": "wine_name=Veneto Alzero Cabernet<br>keywords=%{x}<br>total_user_count=%{y}<extra></extra>",
         "legendgroup": "Veneto Alzero Cabernet",
         "marker": {
          "color": "#FFA15A",
          "pattern": {
           "shape": ""
          }
         },
         "name": "Veneto Alzero Cabernet",
         "offsetgroup": "Veneto Alzero Cabernet",
         "orientation": "v",
         "showlegend": true,
         "textposition": "auto",
         "type": "bar",
         "x": [
          "coffee"
         ],
         "xaxis": "x",
         "y": [
          30
         ],
         "yaxis": "y"
        },
        {
         "alignmentgroup": "True",
         "hovertemplate": "wine_name=Reserve Pinotage<br>keywords=%{x}<br>total_user_count=%{y}<extra></extra>",
         "legendgroup": "Reserve Pinotage",
         "marker": {
          "color": "#19d3f3",
          "pattern": {
           "shape": ""
          }
         },
         "name": "Reserve Pinotage",
         "offsetgroup": "Reserve Pinotage",
         "orientation": "v",
         "showlegend": true,
         "textposition": "auto",
         "type": "bar",
         "x": [
          "coffee",
          "cream"
         ],
         "xaxis": "x",
         "y": [
          30,
          13
         ],
         "yaxis": "y"
        },
        {
         "alignmentgroup": "True",
         "hovertemplate": "wine_name=La Grande Dame Brut Rosé Champagne<br>keywords=%{x}<br>total_user_count=%{y}<extra></extra>",
         "legendgroup": "La Grande Dame Brut Rosé Champagne",
         "marker": {
          "color": "#FF6692",
          "pattern": {
           "shape": ""
          }
         },
         "name": "La Grande Dame Brut Rosé Champagne",
         "offsetgroup": "La Grande Dame Brut Rosé Champagne",
         "orientation": "v",
         "showlegend": true,
         "textposition": "auto",
         "type": "bar",
         "x": [
          "toast",
          "cream",
          "citrus"
         ],
         "xaxis": "x",
         "y": [
          30,
          13,
          11
         ],
         "yaxis": "y"
        },
        {
         "alignmentgroup": "True",
         "hovertemplate": "wine_name=Vin Santo di Montepulciano Occhio di Pernice<br>keywords=%{x}<br>total_user_count=%{y}<extra></extra>",
         "legendgroup": "Vin Santo di Montepulciano Occhio di Pernice",
         "marker": {
          "color": "#B6E880",
          "pattern": {
           "shape": ""
          }
         },
         "name": "Vin Santo di Montepulciano Occhio di Pernice",
         "offsetgroup": "Vin Santo di Montepulciano Occhio di Pernice",
         "orientation": "v",
         "showlegend": true,
         "textposition": "auto",
         "type": "bar",
         "x": [
          "coffee"
         ],
         "xaxis": "x",
         "y": [
          30
         ],
         "yaxis": "y"
        },
        {
         "alignmentgroup": "True",
         "hovertemplate": "wine_name=Blanc<br>keywords=%{x}<br>total_user_count=%{y}<extra></extra>",
         "legendgroup": "Blanc",
         "marker": {
          "color": "#FF97FF",
          "pattern": {
           "shape": ""
          }
         },
         "name": "Blanc",
         "offsetgroup": "Blanc",
         "orientation": "v",
         "showlegend": true,
         "textposition": "auto",
         "type": "bar",
         "x": [
          "cream",
          "citrus"
         ],
         "xaxis": "x",
         "y": [
          29,
          25
         ],
         "yaxis": "y"
        },
        {
         "alignmentgroup": "True",
         "hovertemplate": "wine_name=Chateau Buena Vista Cabernet Sauvignon Napa Valley<br>keywords=%{x}<br>total_user_count=%{y}<extra></extra>",
         "legendgroup": "Chateau Buena Vista Cabernet Sauvignon Napa Valley",
         "marker": {
          "color": "#FECB52",
          "pattern": {
           "shape": ""
          }
         },
         "name": "Chateau Buena Vista Cabernet Sauvignon Napa Valley",
         "offsetgroup": "Chateau Buena Vista Cabernet Sauvignon Napa Valley",
         "orientation": "v",
         "showlegend": true,
         "textposition": "auto",
         "type": "bar",
         "x": [
          "coffee",
          "cream"
         ],
         "xaxis": "x",
         "y": [
          28,
          10
         ],
         "yaxis": "y"
        },
        {
         "alignmentgroup": "True",
         "hovertemplate": "wine_name=La Joie<br>keywords=%{x}<br>total_user_count=%{y}<extra></extra>",
         "legendgroup": "La Joie",
         "marker": {
          "color": "#636efa",
          "pattern": {
           "shape": ""
          }
         },
         "name": "La Joie",
         "offsetgroup": "La Joie",
         "orientation": "v",
         "showlegend": true,
         "textposition": "auto",
         "type": "bar",
         "x": [
          "coffee"
         ],
         "xaxis": "x",
         "y": [
          28
         ],
         "yaxis": "y"
        },
        {
         "alignmentgroup": "True",
         "hovertemplate": "wine_name=Costa Russi (Barbaresco) Langhe<br>keywords=%{x}<br>total_user_count=%{y}<extra></extra>",
         "legendgroup": "Costa Russi (Barbaresco) Langhe",
         "marker": {
          "color": "#EF553B",
          "pattern": {
           "shape": ""
          }
         },
         "name": "Costa Russi (Barbaresco) Langhe",
         "offsetgroup": "Costa Russi (Barbaresco) Langhe",
         "orientation": "v",
         "showlegend": true,
         "textposition": "auto",
         "type": "bar",
         "x": [
          "coffee"
         ],
         "xaxis": "x",
         "y": [
          28
         ],
         "yaxis": "y"
        },
        {
         "alignmentgroup": "True",
         "hovertemplate": "wine_name=Nine Popes<br>keywords=%{x}<br>total_user_count=%{y}<extra></extra>",
         "legendgroup": "Nine Popes",
         "marker": {
          "color": "#00cc96",
          "pattern": {
           "shape": ""
          }
         },
         "name": "Nine Popes",
         "offsetgroup": "Nine Popes",
         "orientation": "v",
         "showlegend": true,
         "textposition": "auto",
         "type": "bar",
         "x": [
          "toast",
          "coffee"
         ],
         "xaxis": "x",
         "y": [
          28,
          22
         ],
         "yaxis": "y"
        },
        {
         "alignmentgroup": "True",
         "hovertemplate": "wine_name=Brunello di Montalcino  Montosoli<br>keywords=%{x}<br>total_user_count=%{y}<extra></extra>",
         "legendgroup": "Brunello di Montalcino  Montosoli",
         "marker": {
          "color": "#ab63fa",
          "pattern": {
           "shape": ""
          }
         },
         "name": "Brunello di Montalcino  Montosoli",
         "offsetgroup": "Brunello di Montalcino  Montosoli",
         "orientation": "v",
         "showlegend": true,
         "textposition": "auto",
         "type": "bar",
         "x": [
          "coffee"
         ],
         "xaxis": "x",
         "y": [
          28
         ],
         "yaxis": "y"
        },
        {
         "alignmentgroup": "True",
         "hovertemplate": "wine_name=Percarlo<br>keywords=%{x}<br>total_user_count=%{y}<extra></extra>",
         "legendgroup": "Percarlo",
         "marker": {
          "color": "#FFA15A",
          "pattern": {
           "shape": ""
          }
         },
         "name": "Percarlo",
         "offsetgroup": "Percarlo",
         "orientation": "v",
         "showlegend": true,
         "textposition": "auto",
         "type": "bar",
         "x": [
          "coffee"
         ],
         "xaxis": "x",
         "y": [
          28
         ],
         "yaxis": "y"
        },
        {
         "alignmentgroup": "True",
         "hovertemplate": "wine_name=Lupicaia<br>keywords=%{x}<br>total_user_count=%{y}<extra></extra>",
         "legendgroup": "Lupicaia",
         "marker": {
          "color": "#19d3f3",
          "pattern": {
           "shape": ""
          }
         },
         "name": "Lupicaia",
         "offsetgroup": "Lupicaia",
         "orientation": "v",
         "showlegend": true,
         "textposition": "auto",
         "type": "bar",
         "x": [
          "coffee"
         ],
         "xaxis": "x",
         "y": [
          28
         ],
         "yaxis": "y"
        },
        {
         "alignmentgroup": "True",
         "hovertemplate": "wine_name=Barolo Riserva Bricco Boschis Vigna San Giuseppe<br>keywords=%{x}<br>total_user_count=%{y}<extra></extra>",
         "legendgroup": "Barolo Riserva Bricco Boschis Vigna San Giuseppe",
         "marker": {
          "color": "#FF6692",
          "pattern": {
           "shape": ""
          }
         },
         "name": "Barolo Riserva Bricco Boschis Vigna San Giuseppe",
         "offsetgroup": "Barolo Riserva Bricco Boschis Vigna San Giuseppe",
         "orientation": "v",
         "showlegend": true,
         "textposition": "auto",
         "type": "bar",
         "x": [
          "coffee"
         ],
         "xaxis": "x",
         "y": [
          28
         ],
         "yaxis": "y"
        },
        {
         "alignmentgroup": "True",
         "hovertemplate": "wine_name=Toscana Rosso<br>keywords=%{x}<br>total_user_count=%{y}<extra></extra>",
         "legendgroup": "Toscana Rosso",
         "marker": {
          "color": "#B6E880",
          "pattern": {
           "shape": ""
          }
         },
         "name": "Toscana Rosso",
         "offsetgroup": "Toscana Rosso",
         "orientation": "v",
         "showlegend": true,
         "textposition": "auto",
         "type": "bar",
         "x": [
          "coffee"
         ],
         "xaxis": "x",
         "y": [
          28
         ],
         "yaxis": "y"
        },
        {
         "alignmentgroup": "True",
         "hovertemplate": "wine_name=Finca Altamira Malbec<br>keywords=%{x}<br>total_user_count=%{y}<extra></extra>",
         "legendgroup": "Finca Altamira Malbec",
         "marker": {
          "color": "#FF97FF",
          "pattern": {
           "shape": ""
          }
         },
         "name": "Finca Altamira Malbec",
         "offsetgroup": "Finca Altamira Malbec",
         "orientation": "v",
         "showlegend": true,
         "textposition": "auto",
         "type": "bar",
         "x": [
          "coffee",
          "toast",
          "cream"
         ],
         "xaxis": "x",
         "y": [
          28,
          14,
          13
         ],
         "yaxis": "y"
        },
        {
         "alignmentgroup": "True",
         "hovertemplate": "wine_name=Gold Series Syrah<br>keywords=%{x}<br>total_user_count=%{y}<extra></extra>",
         "legendgroup": "Gold Series Syrah",
         "marker": {
          "color": "#FECB52",
          "pattern": {
           "shape": ""
          }
         },
         "name": "Gold Series Syrah",
         "offsetgroup": "Gold Series Syrah",
         "orientation": "v",
         "showlegend": true,
         "textposition": "auto",
         "type": "bar",
         "x": [
          "coffee"
         ],
         "xaxis": "x",
         "y": [
          28
         ],
         "yaxis": "y"
        },
        {
         "alignmentgroup": "True",
         "hovertemplate": "wine_name=Nosotros Single Vineyard Nómade<br>keywords=%{x}<br>total_user_count=%{y}<extra></extra>",
         "legendgroup": "Nosotros Single Vineyard Nómade",
         "marker": {
          "color": "#636efa",
          "pattern": {
           "shape": ""
          }
         },
         "name": "Nosotros Single Vineyard Nómade",
         "offsetgroup": "Nosotros Single Vineyard Nómade",
         "orientation": "v",
         "showlegend": true,
         "textposition": "auto",
         "type": "bar",
         "x": [
          "toast",
          "coffee"
         ],
         "xaxis": "x",
         "y": [
          28,
          16
         ],
         "yaxis": "y"
        },
        {
         "alignmentgroup": "True",
         "hovertemplate": "wine_name=Saperavi<br>keywords=%{x}<br>total_user_count=%{y}<extra></extra>",
         "legendgroup": "Saperavi",
         "marker": {
          "color": "#EF553B",
          "pattern": {
           "shape": ""
          }
         },
         "name": "Saperavi",
         "offsetgroup": "Saperavi",
         "orientation": "v",
         "showlegend": true,
         "textposition": "auto",
         "type": "bar",
         "x": [
          "coffee",
          "cream"
         ],
         "xaxis": "x",
         "y": [
          28,
          10
         ],
         "yaxis": "y"
        },
        {
         "alignmentgroup": "True",
         "hovertemplate": "wine_name=Le Petit Cheval Bordeaux Blanc<br>keywords=%{x}<br>total_user_count=%{y}<extra></extra>",
         "legendgroup": "Le Petit Cheval Bordeaux Blanc",
         "marker": {
          "color": "#00cc96",
          "pattern": {
           "shape": ""
          }
         },
         "name": "Le Petit Cheval Bordeaux Blanc",
         "offsetgroup": "Le Petit Cheval Bordeaux Blanc",
         "orientation": "v",
         "showlegend": true,
         "textposition": "auto",
         "type": "bar",
         "x": [
          "citrus",
          "cream"
         ],
         "xaxis": "x",
         "y": [
          28,
          15
         ],
         "yaxis": "y"
        },
        {
         "alignmentgroup": "True",
         "hovertemplate": "wine_name=Chassagne-Montrachet Premier Cru Morgeot Marquis de Laguiche <br>keywords=%{x}<br>total_user_count=%{y}<extra></extra>",
         "legendgroup": "Chassagne-Montrachet Premier Cru Morgeot Marquis de Laguiche ",
         "marker": {
          "color": "#ab63fa",
          "pattern": {
           "shape": ""
          }
         },
         "name": "Chassagne-Montrachet Premier Cru Morgeot Marquis de Laguiche ",
         "offsetgroup": "Chassagne-Montrachet Premier Cru Morgeot Marquis de Laguiche ",
         "orientation": "v",
         "showlegend": true,
         "textposition": "auto",
         "type": "bar",
         "x": [
          "citrus",
          "cream",
          "toast",
          "green apple"
         ],
         "xaxis": "x",
         "y": [
          27,
          21,
          18,
          13
         ],
         "yaxis": "y"
        },
        {
         "alignmentgroup": "True",
         "hovertemplate": "wine_name=Aszú 6 puttonyos<br>keywords=%{x}<br>total_user_count=%{y}<extra></extra>",
         "legendgroup": "Aszú 6 puttonyos",
         "marker": {
          "color": "#FFA15A",
          "pattern": {
           "shape": ""
          }
         },
         "name": "Aszú 6 puttonyos",
         "offsetgroup": "Aszú 6 puttonyos",
         "orientation": "v",
         "showlegend": true,
         "textposition": "auto",
         "type": "bar",
         "x": [
          "citrus",
          "cream"
         ],
         "xaxis": "x",
         "y": [
          27,
          17
         ],
         "yaxis": "y"
        },
        {
         "alignmentgroup": "True",
         "hovertemplate": "wine_name=Evenstad Reserve Pinot Noir<br>keywords=%{x}<br>total_user_count=%{y}<extra></extra>",
         "legendgroup": "Evenstad Reserve Pinot Noir",
         "marker": {
          "color": "#19d3f3",
          "pattern": {
           "shape": ""
          }
         },
         "name": "Evenstad Reserve Pinot Noir",
         "offsetgroup": "Evenstad Reserve Pinot Noir",
         "orientation": "v",
         "showlegend": true,
         "textposition": "auto",
         "type": "bar",
         "x": [
          "cream",
          "coffee",
          "toast",
          "citrus"
         ],
         "xaxis": "x",
         "y": [
          27,
          24,
          24,
          10
         ],
         "yaxis": "y"
        },
        {
         "alignmentgroup": "True",
         "hovertemplate": "wine_name=Puligny-Montrachet 1er Cru 'La Garenne'<br>keywords=%{x}<br>total_user_count=%{y}<extra></extra>",
         "legendgroup": "Puligny-Montrachet 1er Cru 'La Garenne'",
         "marker": {
          "color": "#FF6692",
          "pattern": {
           "shape": ""
          }
         },
         "name": "Puligny-Montrachet 1er Cru 'La Garenne'",
         "offsetgroup": "Puligny-Montrachet 1er Cru 'La Garenne'",
         "orientation": "v",
         "showlegend": true,
         "textposition": "auto",
         "type": "bar",
         "x": [
          "toast"
         ],
         "xaxis": "x",
         "y": [
          26
         ],
         "yaxis": "y"
        },
        {
         "alignmentgroup": "True",
         "hovertemplate": "wine_name=Toscana Camartina<br>keywords=%{x}<br>total_user_count=%{y}<extra></extra>",
         "legendgroup": "Toscana Camartina",
         "marker": {
          "color": "#B6E880",
          "pattern": {
           "shape": ""
          }
         },
         "name": "Toscana Camartina",
         "offsetgroup": "Toscana Camartina",
         "orientation": "v",
         "showlegend": true,
         "textposition": "auto",
         "type": "bar",
         "x": [
          "coffee"
         ],
         "xaxis": "x",
         "y": [
          26
         ],
         "yaxis": "y"
        },
        {
         "alignmentgroup": "True",
         "hovertemplate": "wine_name=Barolo Prapò<br>keywords=%{x}<br>total_user_count=%{y}<extra></extra>",
         "legendgroup": "Barolo Prapò",
         "marker": {
          "color": "#FF97FF",
          "pattern": {
           "shape": ""
          }
         },
         "name": "Barolo Prapò",
         "offsetgroup": "Barolo Prapò",
         "orientation": "v",
         "showlegend": true,
         "textposition": "auto",
         "type": "bar",
         "x": [
          "coffee"
         ],
         "xaxis": "x",
         "y": [
          26
         ],
         "yaxis": "y"
        },
        {
         "alignmentgroup": "True",
         "hovertemplate": "wine_name=Altero Brunello di Montalcino<br>keywords=%{x}<br>total_user_count=%{y}<extra></extra>",
         "legendgroup": "Altero Brunello di Montalcino",
         "marker": {
          "color": "#FECB52",
          "pattern": {
           "shape": ""
          }
         },
         "name": "Altero Brunello di Montalcino",
         "offsetgroup": "Altero Brunello di Montalcino",
         "orientation": "v",
         "showlegend": true,
         "textposition": "auto",
         "type": "bar",
         "x": [
          "coffee"
         ],
         "xaxis": "x",
         "y": [
          26
         ],
         "yaxis": "y"
        },
        {
         "alignmentgroup": "True",
         "hovertemplate": "wine_name=Saint-Emilion Grand Cru (Premier Grand Cru Classé)<br>keywords=%{x}<br>total_user_count=%{y}<extra></extra>",
         "legendgroup": "Saint-Emilion Grand Cru (Premier Grand Cru Classé)",
         "marker": {
          "color": "#636efa",
          "pattern": {
           "shape": ""
          }
         },
         "name": "Saint-Emilion Grand Cru (Premier Grand Cru Classé)",
         "offsetgroup": "Saint-Emilion Grand Cru (Premier Grand Cru Classé)",
         "orientation": "v",
         "showlegend": true,
         "textposition": "auto",
         "type": "bar",
         "x": [
          "coffee",
          "toast"
         ],
         "xaxis": "x",
         "y": [
          26,
          10
         ],
         "yaxis": "y"
        },
        {
         "alignmentgroup": "True",
         "hovertemplate": "wine_name=Malbec<br>keywords=%{x}<br>total_user_count=%{y}<extra></extra>",
         "legendgroup": "Malbec",
         "marker": {
          "color": "#EF553B",
          "pattern": {
           "shape": ""
          }
         },
         "name": "Malbec",
         "offsetgroup": "Malbec",
         "orientation": "v",
         "showlegend": true,
         "textposition": "auto",
         "type": "bar",
         "x": [
          "coffee"
         ],
         "xaxis": "x",
         "y": [
          26
         ],
         "yaxis": "y"
        },
        {
         "alignmentgroup": "True",
         "hovertemplate": "wine_name=Viña El Pison<br>keywords=%{x}<br>total_user_count=%{y}<extra></extra>",
         "legendgroup": "Viña El Pison",
         "marker": {
          "color": "#00cc96",
          "pattern": {
           "shape": ""
          }
         },
         "name": "Viña El Pison",
         "offsetgroup": "Viña El Pison",
         "orientation": "v",
         "showlegend": true,
         "textposition": "auto",
         "type": "bar",
         "x": [
          "coffee",
          "cream",
          "toast"
         ],
         "xaxis": "x",
         "y": [
          26,
          12,
          10
         ],
         "yaxis": "y"
        },
        {
         "alignmentgroup": "True",
         "hovertemplate": "wine_name=Conteisa Langhe<br>keywords=%{x}<br>total_user_count=%{y}<extra></extra>",
         "legendgroup": "Conteisa Langhe",
         "marker": {
          "color": "#ab63fa",
          "pattern": {
           "shape": ""
          }
         },
         "name": "Conteisa Langhe",
         "offsetgroup": "Conteisa Langhe",
         "orientation": "v",
         "showlegend": true,
         "textposition": "auto",
         "type": "bar",
         "x": [
          "coffee"
         ],
         "xaxis": "x",
         "y": [
          26
         ],
         "yaxis": "y"
        },
        {
         "alignmentgroup": "True",
         "hovertemplate": "wine_name=Sperss Barolo<br>keywords=%{x}<br>total_user_count=%{y}<extra></extra>",
         "legendgroup": "Sperss Barolo",
         "marker": {
          "color": "#FFA15A",
          "pattern": {
           "shape": ""
          }
         },
         "name": "Sperss Barolo",
         "offsetgroup": "Sperss Barolo",
         "orientation": "v",
         "showlegend": true,
         "textposition": "auto",
         "type": "bar",
         "x": [
          "coffee",
          "cream",
          "toast"
         ],
         "xaxis": "x",
         "y": [
          26,
          15,
          10
         ],
         "yaxis": "y"
        },
        {
         "alignmentgroup": "True",
         "hovertemplate": "wine_name=Barolo Cascina Francia<br>keywords=%{x}<br>total_user_count=%{y}<extra></extra>",
         "legendgroup": "Barolo Cascina Francia",
         "marker": {
          "color": "#19d3f3",
          "pattern": {
           "shape": ""
          }
         },
         "name": "Barolo Cascina Francia",
         "offsetgroup": "Barolo Cascina Francia",
         "orientation": "v",
         "showlegend": true,
         "textposition": "auto",
         "type": "bar",
         "x": [
          "coffee",
          "cream"
         ],
         "xaxis": "x",
         "y": [
          26,
          10
         ],
         "yaxis": "y"
        },
        {
         "alignmentgroup": "True",
         "hovertemplate": "wine_name=La Cueva del Contador Rioja<br>keywords=%{x}<br>total_user_count=%{y}<extra></extra>",
         "legendgroup": "La Cueva del Contador Rioja",
         "marker": {
          "color": "#FF6692",
          "pattern": {
           "shape": ""
          }
         },
         "name": "La Cueva del Contador Rioja",
         "offsetgroup": "La Cueva del Contador Rioja",
         "orientation": "v",
         "showlegend": true,
         "textposition": "auto",
         "type": "bar",
         "x": [
          "coffee"
         ],
         "xaxis": "x",
         "y": [
          26
         ],
         "yaxis": "y"
        },
        {
         "alignmentgroup": "True",
         "hovertemplate": "wine_name=Chassagne-Montrachet 1er Cru 'La Maltroie'<br>keywords=%{x}<br>total_user_count=%{y}<extra></extra>",
         "legendgroup": "Chassagne-Montrachet 1er Cru 'La Maltroie'",
         "marker": {
          "color": "#B6E880",
          "pattern": {
           "shape": ""
          }
         },
         "name": "Chassagne-Montrachet 1er Cru 'La Maltroie'",
         "offsetgroup": "Chassagne-Montrachet 1er Cru 'La Maltroie'",
         "orientation": "v",
         "showlegend": true,
         "textposition": "auto",
         "type": "bar",
         "x": [
          "citrus",
          "cream",
          "toast"
         ],
         "xaxis": "x",
         "y": [
          26,
          19,
          10
         ],
         "yaxis": "y"
        },
        {
         "alignmentgroup": "True",
         "hovertemplate": "wine_name=Nuits-Saint-Georges 1er Cru Les Damodes<br>keywords=%{x}<br>total_user_count=%{y}<extra></extra>",
         "legendgroup": "Nuits-Saint-Georges 1er Cru Les Damodes",
         "marker": {
          "color": "#FF97FF",
          "pattern": {
           "shape": ""
          }
         },
         "name": "Nuits-Saint-Georges 1er Cru Les Damodes",
         "offsetgroup": "Nuits-Saint-Georges 1er Cru Les Damodes",
         "orientation": "v",
         "showlegend": true,
         "textposition": "auto",
         "type": "bar",
         "x": [
          "toast"
         ],
         "xaxis": "x",
         "y": [
          26
         ],
         "yaxis": "y"
        },
        {
         "alignmentgroup": "True",
         "hovertemplate": "wine_name=Vürsù Barolo Campè<br>keywords=%{x}<br>total_user_count=%{y}<extra></extra>",
         "legendgroup": "Vürsù Barolo Campè",
         "marker": {
          "color": "#FECB52",
          "pattern": {
           "shape": ""
          }
         },
         "name": "Vürsù Barolo Campè",
         "offsetgroup": "Vürsù Barolo Campè",
         "orientation": "v",
         "showlegend": true,
         "textposition": "auto",
         "type": "bar",
         "x": [
          "coffee",
          "cream"
         ],
         "xaxis": "x",
         "y": [
          26,
          10
         ],
         "yaxis": "y"
        },
        {
         "alignmentgroup": "True",
         "hovertemplate": "wine_name=Ai Suma Barbera d'Asti<br>keywords=%{x}<br>total_user_count=%{y}<extra></extra>",
         "legendgroup": "Ai Suma Barbera d'Asti",
         "marker": {
          "color": "#636efa",
          "pattern": {
           "shape": ""
          }
         },
         "name": "Ai Suma Barbera d'Asti",
         "offsetgroup": "Ai Suma Barbera d'Asti",
         "orientation": "v",
         "showlegend": true,
         "textposition": "auto",
         "type": "bar",
         "x": [
          "coffee"
         ],
         "xaxis": "x",
         "y": [
          26
         ],
         "yaxis": "y"
        },
        {
         "alignmentgroup": "True",
         "hovertemplate": "wine_name=Clos de Tart Grand Cru Monopole<br>keywords=%{x}<br>total_user_count=%{y}<extra></extra>",
         "legendgroup": "Clos de Tart Grand Cru Monopole",
         "marker": {
          "color": "#EF553B",
          "pattern": {
           "shape": ""
          }
         },
         "name": "Clos de Tart Grand Cru Monopole",
         "offsetgroup": "Clos de Tart Grand Cru Monopole",
         "orientation": "v",
         "showlegend": true,
         "textposition": "auto",
         "type": "bar",
         "x": [
          "coffee"
         ],
         "xaxis": "x",
         "y": [
          26
         ],
         "yaxis": "y"
        },
        {
         "alignmentgroup": "True",
         "hovertemplate": "wine_name=Recioto della Valpolicella Classico<br>keywords=%{x}<br>total_user_count=%{y}<extra></extra>",
         "legendgroup": "Recioto della Valpolicella Classico",
         "marker": {
          "color": "#00cc96",
          "pattern": {
           "shape": ""
          }
         },
         "name": "Recioto della Valpolicella Classico",
         "offsetgroup": "Recioto della Valpolicella Classico",
         "orientation": "v",
         "showlegend": true,
         "textposition": "auto",
         "type": "bar",
         "x": [
          "coffee"
         ],
         "xaxis": "x",
         "y": [
          26
         ],
         "yaxis": "y"
        },
        {
         "alignmentgroup": "True",
         "hovertemplate": "wine_name=Ca’ del Merlo Rosso Veneto<br>keywords=%{x}<br>total_user_count=%{y}<extra></extra>",
         "legendgroup": "Ca’ del Merlo Rosso Veneto",
         "marker": {
          "color": "#ab63fa",
          "pattern": {
           "shape": ""
          }
         },
         "name": "Ca’ del Merlo Rosso Veneto",
         "offsetgroup": "Ca’ del Merlo Rosso Veneto",
         "orientation": "v",
         "showlegend": true,
         "textposition": "auto",
         "type": "bar",
         "x": [
          "coffee"
         ],
         "xaxis": "x",
         "y": [
          26
         ],
         "yaxis": "y"
        },
        {
         "alignmentgroup": "True",
         "hovertemplate": "wine_name=Red<br>keywords=%{x}<br>total_user_count=%{y}<extra></extra>",
         "legendgroup": "Red",
         "marker": {
          "color": "#FFA15A",
          "pattern": {
           "shape": ""
          }
         },
         "name": "Red",
         "offsetgroup": "Red",
         "orientation": "v",
         "showlegend": true,
         "textposition": "auto",
         "type": "bar",
         "x": [
          "coffee",
          "coffee",
          "toast",
          "toast"
         ],
         "xaxis": "x",
         "y": [
          26,
          26,
          24,
          20
         ],
         "yaxis": "y"
        },
        {
         "alignmentgroup": "True",
         "hovertemplate": "wine_name=Boal Madeira<br>keywords=%{x}<br>total_user_count=%{y}<extra></extra>",
         "legendgroup": "Boal Madeira",
         "marker": {
          "color": "#19d3f3",
          "pattern": {
           "shape": ""
          }
         },
         "name": "Boal Madeira",
         "offsetgroup": "Boal Madeira",
         "orientation": "v",
         "showlegend": true,
         "textposition": "auto",
         "type": "bar",
         "x": [
          "coffee"
         ],
         "xaxis": "x",
         "y": [
          26
         ],
         "yaxis": "y"
        },
        {
         "alignmentgroup": "True",
         "hovertemplate": "wine_name=50 & 50<br>keywords=%{x}<br>total_user_count=%{y}<extra></extra>",
         "legendgroup": "50 & 50",
         "marker": {
          "color": "#FF6692",
          "pattern": {
           "shape": ""
          }
         },
         "name": "50 & 50",
         "offsetgroup": "50 & 50",
         "orientation": "v",
         "showlegend": true,
         "textposition": "auto",
         "type": "bar",
         "x": [
          "coffee",
          "toast"
         ],
         "xaxis": "x",
         "y": [
          26,
          14
         ],
         "yaxis": "y"
        },
        {
         "alignmentgroup": "True",
         "hovertemplate": "wine_name=Pietro Dal Cero Amarone della Valpolicella<br>keywords=%{x}<br>total_user_count=%{y}<extra></extra>",
         "legendgroup": "Pietro Dal Cero Amarone della Valpolicella",
         "marker": {
          "color": "#B6E880",
          "pattern": {
           "shape": ""
          }
         },
         "name": "Pietro Dal Cero Amarone della Valpolicella",
         "offsetgroup": "Pietro Dal Cero Amarone della Valpolicella",
         "orientation": "v",
         "showlegend": true,
         "textposition": "auto",
         "type": "bar",
         "x": [
          "coffee"
         ],
         "xaxis": "x",
         "y": [
          26
         ],
         "yaxis": "y"
        },
        {
         "alignmentgroup": "True",
         "hovertemplate": "wine_name=Barolo Bricco Rocche<br>keywords=%{x}<br>total_user_count=%{y}<extra></extra>",
         "legendgroup": "Barolo Bricco Rocche",
         "marker": {
          "color": "#FF97FF",
          "pattern": {
           "shape": ""
          }
         },
         "name": "Barolo Bricco Rocche",
         "offsetgroup": "Barolo Bricco Rocche",
         "orientation": "v",
         "showlegend": true,
         "textposition": "auto",
         "type": "bar",
         "x": [
          "coffee"
         ],
         "xaxis": "x",
         "y": [
          24
         ],
         "yaxis": "y"
        },
        {
         "alignmentgroup": "True",
         "hovertemplate": "wine_name=Sorì San Lorenzo<br>keywords=%{x}<br>total_user_count=%{y}<extra></extra>",
         "legendgroup": "Sorì San Lorenzo",
         "marker": {
          "color": "#FECB52",
          "pattern": {
           "shape": ""
          }
         },
         "name": "Sorì San Lorenzo",
         "offsetgroup": "Sorì San Lorenzo",
         "orientation": "v",
         "showlegend": true,
         "textposition": "auto",
         "type": "bar",
         "x": [
          "coffee"
         ],
         "xaxis": "x",
         "y": [
          24
         ],
         "yaxis": "y"
        },
        {
         "alignmentgroup": "True",
         "hovertemplate": "wine_name=Colheita Port<br>keywords=%{x}<br>total_user_count=%{y}<extra></extra>",
         "legendgroup": "Colheita Port",
         "marker": {
          "color": "#636efa",
          "pattern": {
           "shape": ""
          }
         },
         "name": "Colheita Port",
         "offsetgroup": "Colheita Port",
         "orientation": "v",
         "showlegend": true,
         "textposition": "auto",
         "type": "bar",
         "x": [
          "coffee",
          "cream"
         ],
         "xaxis": "x",
         "y": [
          24,
          16
         ],
         "yaxis": "y"
        },
        {
         "alignmentgroup": "True",
         "hovertemplate": "wine_name=Luce Brunello di Montalcino<br>keywords=%{x}<br>total_user_count=%{y}<extra></extra>",
         "legendgroup": "Luce Brunello di Montalcino",
         "marker": {
          "color": "#EF553B",
          "pattern": {
           "shape": ""
          }
         },
         "name": "Luce Brunello di Montalcino",
         "offsetgroup": "Luce Brunello di Montalcino",
         "orientation": "v",
         "showlegend": true,
         "textposition": "auto",
         "type": "bar",
         "x": [
          "coffee",
          "toast"
         ],
         "xaxis": "x",
         "y": [
          24,
          10
         ],
         "yaxis": "y"
        },
        {
         "alignmentgroup": "True",
         "hovertemplate": "wine_name=Tessons Clos de Mon Plaisir Meursault<br>keywords=%{x}<br>total_user_count=%{y}<extra></extra>",
         "legendgroup": "Tessons Clos de Mon Plaisir Meursault",
         "marker": {
          "color": "#00cc96",
          "pattern": {
           "shape": ""
          }
         },
         "name": "Tessons Clos de Mon Plaisir Meursault",
         "offsetgroup": "Tessons Clos de Mon Plaisir Meursault",
         "orientation": "v",
         "showlegend": true,
         "textposition": "auto",
         "type": "bar",
         "x": [
          "citrus"
         ],
         "xaxis": "x",
         "y": [
          24
         ],
         "yaxis": "y"
        },
        {
         "alignmentgroup": "True",
         "hovertemplate": "wine_name=Barolo Ciabot Mentin Ginestra<br>keywords=%{x}<br>total_user_count=%{y}<extra></extra>",
         "legendgroup": "Barolo Ciabot Mentin Ginestra",
         "marker": {
          "color": "#ab63fa",
          "pattern": {
           "shape": ""
          }
         },
         "name": "Barolo Ciabot Mentin Ginestra",
         "offsetgroup": "Barolo Ciabot Mentin Ginestra",
         "orientation": "v",
         "showlegend": true,
         "textposition": "auto",
         "type": "bar",
         "x": [
          "coffee"
         ],
         "xaxis": "x",
         "y": [
          24
         ],
         "yaxis": "y"
        },
        {
         "alignmentgroup": "True",
         "hovertemplate": "wine_name=Vecchie Vigne Brunello di Montalcino<br>keywords=%{x}<br>total_user_count=%{y}<extra></extra>",
         "legendgroup": "Vecchie Vigne Brunello di Montalcino",
         "marker": {
          "color": "#FFA15A",
          "pattern": {
           "shape": ""
          }
         },
         "name": "Vecchie Vigne Brunello di Montalcino",
         "offsetgroup": "Vecchie Vigne Brunello di Montalcino",
         "orientation": "v",
         "showlegend": true,
         "textposition": "auto",
         "type": "bar",
         "x": [
          "coffee",
          "cream",
          "toast"
         ],
         "xaxis": "x",
         "y": [
          24,
          10,
          10
         ],
         "yaxis": "y"
        },
        {
         "alignmentgroup": "True",
         "hovertemplate": "wine_name=Kairos<br>keywords=%{x}<br>total_user_count=%{y}<extra></extra>",
         "legendgroup": "Kairos",
         "marker": {
          "color": "#19d3f3",
          "pattern": {
           "shape": ""
          }
         },
         "name": "Kairos",
         "offsetgroup": "Kairos",
         "orientation": "v",
         "showlegend": true,
         "textposition": "auto",
         "type": "bar",
         "x": [
          "coffee"
         ],
         "xaxis": "x",
         "y": [
          24
         ],
         "yaxis": "y"
        },
        {
         "alignmentgroup": "True",
         "hovertemplate": "wine_name=Perpetual<br>keywords=%{x}<br>total_user_count=%{y}<extra></extra>",
         "legendgroup": "Perpetual",
         "marker": {
          "color": "#FF6692",
          "pattern": {
           "shape": ""
          }
         },
         "name": "Perpetual",
         "offsetgroup": "Perpetual",
         "orientation": "v",
         "showlegend": true,
         "textposition": "auto",
         "type": "bar",
         "x": [
          "coffee",
          "toast"
         ],
         "xaxis": "x",
         "y": [
          24,
          14
         ],
         "yaxis": "y"
        },
        {
         "alignmentgroup": "True",
         "hovertemplate": "wine_name=Blueline Estate Cabernet Sauvignon<br>keywords=%{x}<br>total_user_count=%{y}<extra></extra>",
         "legendgroup": "Blueline Estate Cabernet Sauvignon",
         "marker": {
          "color": "#B6E880",
          "pattern": {
           "shape": ""
          }
         },
         "name": "Blueline Estate Cabernet Sauvignon",
         "offsetgroup": "Blueline Estate Cabernet Sauvignon",
         "orientation": "v",
         "showlegend": true,
         "textposition": "auto",
         "type": "bar",
         "x": [
          "coffee"
         ],
         "xaxis": "x",
         "y": [
          24
         ],
         "yaxis": "y"
        },
        {
         "alignmentgroup": "True",
         "hovertemplate": "wine_name=Kevin Arnold Shiraz<br>keywords=%{x}<br>total_user_count=%{y}<extra></extra>",
         "legendgroup": "Kevin Arnold Shiraz",
         "marker": {
          "color": "#FF97FF",
          "pattern": {
           "shape": ""
          }
         },
         "name": "Kevin Arnold Shiraz",
         "offsetgroup": "Kevin Arnold Shiraz",
         "orientation": "v",
         "showlegend": true,
         "textposition": "auto",
         "type": "bar",
         "x": [
          "coffee"
         ],
         "xaxis": "x",
         "y": [
          24
         ],
         "yaxis": "y"
        },
        {
         "alignmentgroup": "True",
         "hovertemplate": "wine_name=d'Alceo<br>keywords=%{x}<br>total_user_count=%{y}<extra></extra>",
         "legendgroup": "d'Alceo",
         "marker": {
          "color": "#FECB52",
          "pattern": {
           "shape": ""
          }
         },
         "name": "d'Alceo",
         "offsetgroup": "d'Alceo",
         "orientation": "v",
         "showlegend": true,
         "textposition": "auto",
         "type": "bar",
         "x": [
          "coffee"
         ],
         "xaxis": "x",
         "y": [
          24
         ],
         "yaxis": "y"
        },
        {
         "alignmentgroup": "True",
         "hovertemplate": "wine_name=Hommage à Jacques Perrin Châteauneuf-du-Pape<br>keywords=%{x}<br>total_user_count=%{y}<extra></extra>",
         "legendgroup": "Hommage à Jacques Perrin Châteauneuf-du-Pape",
         "marker": {
          "color": "#636efa",
          "pattern": {
           "shape": ""
          }
         },
         "name": "Hommage à Jacques Perrin Châteauneuf-du-Pape",
         "offsetgroup": "Hommage à Jacques Perrin Châteauneuf-du-Pape",
         "orientation": "v",
         "showlegend": true,
         "textposition": "auto",
         "type": "bar",
         "x": [
          "coffee"
         ],
         "xaxis": "x",
         "y": [
          24
         ],
         "yaxis": "y"
        },
        {
         "alignmentgroup": "True",
         "hovertemplate": "wine_name=Les Blanchiens Brut Nature Champagne Premier Cru<br>keywords=%{x}<br>total_user_count=%{y}<extra></extra>",
         "legendgroup": "Les Blanchiens Brut Nature Champagne Premier Cru",
         "marker": {
          "color": "#EF553B",
          "pattern": {
           "shape": ""
          }
         },
         "name": "Les Blanchiens Brut Nature Champagne Premier Cru",
         "offsetgroup": "Les Blanchiens Brut Nature Champagne Premier Cru",
         "orientation": "v",
         "showlegend": true,
         "textposition": "auto",
         "type": "bar",
         "x": [
          "toast",
          "citrus"
         ],
         "xaxis": "x",
         "y": [
          24,
          11
         ],
         "yaxis": "y"
        },
        {
         "alignmentgroup": "True",
         "hovertemplate": "wine_name=Guerriero della Terra<br>keywords=%{x}<br>total_user_count=%{y}<extra></extra>",
         "legendgroup": "Guerriero della Terra",
         "marker": {
          "color": "#00cc96",
          "pattern": {
           "shape": ""
          }
         },
         "name": "Guerriero della Terra",
         "offsetgroup": "Guerriero della Terra",
         "orientation": "v",
         "showlegend": true,
         "textposition": "auto",
         "type": "bar",
         "x": [
          "coffee",
          "cream"
         ],
         "xaxis": "x",
         "y": [
          24,
          12
         ],
         "yaxis": "y"
        },
        {
         "alignmentgroup": "True",
         "hovertemplate": "wine_name=80 Vecchie Vigne Primitivo di Manduria Old Vines<br>keywords=%{x}<br>total_user_count=%{y}<extra></extra>",
         "legendgroup": "80 Vecchie Vigne Primitivo di Manduria Old Vines",
         "marker": {
          "color": "#ab63fa",
          "pattern": {
           "shape": ""
          }
         },
         "name": "80 Vecchie Vigne Primitivo di Manduria Old Vines",
         "offsetgroup": "80 Vecchie Vigne Primitivo di Manduria Old Vines",
         "orientation": "v",
         "showlegend": true,
         "textposition": "auto",
         "type": "bar",
         "x": [
          "coffee"
         ],
         "xaxis": "x",
         "y": [
          24
         ],
         "yaxis": "y"
        },
        {
         "alignmentgroup": "True",
         "hovertemplate": "wine_name=Tokaji Aszú 6 Puttonyos<br>keywords=%{x}<br>total_user_count=%{y}<extra></extra>",
         "legendgroup": "Tokaji Aszú 6 Puttonyos",
         "marker": {
          "color": "#FFA15A",
          "pattern": {
           "shape": ""
          }
         },
         "name": "Tokaji Aszú 6 Puttonyos",
         "offsetgroup": "Tokaji Aszú 6 Puttonyos",
         "orientation": "v",
         "showlegend": true,
         "textposition": "auto",
         "type": "bar",
         "x": [
          "citrus",
          "toast",
          "coffee"
         ],
         "xaxis": "x",
         "y": [
          23,
          14,
          10
         ],
         "yaxis": "y"
        },
        {
         "alignmentgroup": "True",
         "hovertemplate": "wine_name=Puligny-Montrachet Premier Cru ' Clos de la Truffière'<br>keywords=%{x}<br>total_user_count=%{y}<extra></extra>",
         "legendgroup": "Puligny-Montrachet Premier Cru ' Clos de la Truffière'",
         "marker": {
          "color": "#19d3f3",
          "pattern": {
           "shape": ""
          }
         },
         "name": "Puligny-Montrachet Premier Cru ' Clos de la Truffière'",
         "offsetgroup": "Puligny-Montrachet Premier Cru ' Clos de la Truffière'",
         "orientation": "v",
         "showlegend": true,
         "textposition": "auto",
         "type": "bar",
         "x": [
          "citrus",
          "green apple",
          "toast"
         ],
         "xaxis": "x",
         "y": [
          23,
          17,
          10
         ],
         "yaxis": "y"
        },
        {
         "alignmentgroup": "True",
         "hovertemplate": "wine_name=Le Désir<br>keywords=%{x}<br>total_user_count=%{y}<extra></extra>",
         "legendgroup": "Le Désir",
         "marker": {
          "color": "#FF6692",
          "pattern": {
           "shape": ""
          }
         },
         "name": "Le Désir",
         "offsetgroup": "Le Désir",
         "orientation": "v",
         "showlegend": true,
         "textposition": "auto",
         "type": "bar",
         "x": [
          "coffee",
          "toast"
         ],
         "xaxis": "x",
         "y": [
          22,
          10
         ],
         "yaxis": "y"
        },
        {
         "alignmentgroup": "True",
         "hovertemplate": "wine_name=Series M<br>keywords=%{x}<br>total_user_count=%{y}<extra></extra>",
         "legendgroup": "Series M",
         "marker": {
          "color": "#B6E880",
          "pattern": {
           "shape": ""
          }
         },
         "name": "Series M",
         "offsetgroup": "Series M",
         "orientation": "v",
         "showlegend": true,
         "textposition": "auto",
         "type": "bar",
         "x": [
          "coffee"
         ],
         "xaxis": "x",
         "y": [
          22
         ],
         "yaxis": "y"
        },
        {
         "alignmentgroup": "True",
         "hovertemplate": "wine_name=Trasnocho<br>keywords=%{x}<br>total_user_count=%{y}<extra></extra>",
         "legendgroup": "Trasnocho",
         "marker": {
          "color": "#FF97FF",
          "pattern": {
           "shape": ""
          }
         },
         "name": "Trasnocho",
         "offsetgroup": "Trasnocho",
         "orientation": "v",
         "showlegend": true,
         "textposition": "auto",
         "type": "bar",
         "x": [
          "coffee",
          "toast"
         ],
         "xaxis": "x",
         "y": [
          22,
          12
         ],
         "yaxis": "y"
        },
        {
         "alignmentgroup": "True",
         "hovertemplate": "wine_name=Douro Pintas Tinto<br>keywords=%{x}<br>total_user_count=%{y}<extra></extra>",
         "legendgroup": "Douro Pintas Tinto",
         "marker": {
          "color": "#FECB52",
          "pattern": {
           "shape": ""
          }
         },
         "name": "Douro Pintas Tinto",
         "offsetgroup": "Douro Pintas Tinto",
         "orientation": "v",
         "showlegend": true,
         "textposition": "auto",
         "type": "bar",
         "x": [
          "coffee",
          "toast"
         ],
         "xaxis": "x",
         "y": [
          22,
          14
         ],
         "yaxis": "y"
        },
        {
         "alignmentgroup": "True",
         "hovertemplate": "wine_name=Primitivo di Manduria<br>keywords=%{x}<br>total_user_count=%{y}<extra></extra>",
         "legendgroup": "Primitivo di Manduria",
         "marker": {
          "color": "#636efa",
          "pattern": {
           "shape": ""
          }
         },
         "name": "Primitivo di Manduria",
         "offsetgroup": "Primitivo di Manduria",
         "orientation": "v",
         "showlegend": true,
         "textposition": "auto",
         "type": "bar",
         "x": [
          "coffee"
         ],
         "xaxis": "x",
         "y": [
          22
         ],
         "yaxis": "y"
        },
        {
         "alignmentgroup": "True",
         "hovertemplate": "wine_name=Ares<br>keywords=%{x}<br>total_user_count=%{y}<extra></extra>",
         "legendgroup": "Ares",
         "marker": {
          "color": "#EF553B",
          "pattern": {
           "shape": ""
          }
         },
         "name": "Ares",
         "offsetgroup": "Ares",
         "orientation": "v",
         "showlegend": true,
         "textposition": "auto",
         "type": "bar",
         "x": [
          "coffee"
         ],
         "xaxis": "x",
         "y": [
          22
         ],
         "yaxis": "y"
        },
        {
         "alignmentgroup": "True",
         "hovertemplate": "wine_name=VIK<br>keywords=%{x}<br>total_user_count=%{y}<extra></extra>",
         "legendgroup": "VIK",
         "marker": {
          "color": "#00cc96",
          "pattern": {
           "shape": ""
          }
         },
         "name": "VIK",
         "offsetgroup": "VIK",
         "orientation": "v",
         "showlegend": true,
         "textposition": "auto",
         "type": "bar",
         "x": [
          "coffee"
         ],
         "xaxis": "x",
         "y": [
          22
         ],
         "yaxis": "y"
        },
        {
         "alignmentgroup": "True",
         "hovertemplate": "wine_name=Cream Tradición Vos 20 Years<br>keywords=%{x}<br>total_user_count=%{y}<extra></extra>",
         "legendgroup": "Cream Tradición Vos 20 Years",
         "marker": {
          "color": "#ab63fa",
          "pattern": {
           "shape": ""
          }
         },
         "name": "Cream Tradición Vos 20 Years",
         "offsetgroup": "Cream Tradición Vos 20 Years",
         "orientation": "v",
         "showlegend": true,
         "textposition": "auto",
         "type": "bar",
         "x": [
          "cream"
         ],
         "xaxis": "x",
         "y": [
          22
         ],
         "yaxis": "y"
        },
        {
         "alignmentgroup": "True",
         "hovertemplate": "wine_name=Duemani Cabernet Franc<br>keywords=%{x}<br>total_user_count=%{y}<extra></extra>",
         "legendgroup": "Duemani Cabernet Franc",
         "marker": {
          "color": "#FFA15A",
          "pattern": {
           "shape": ""
          }
         },
         "name": "Duemani Cabernet Franc",
         "offsetgroup": "Duemani Cabernet Franc",
         "orientation": "v",
         "showlegend": true,
         "textposition": "auto",
         "type": "bar",
         "x": [
          "coffee"
         ],
         "xaxis": "x",
         "y": [
          22
         ],
         "yaxis": "y"
        },
        {
         "alignmentgroup": "True",
         "hovertemplate": "wine_name=VV 26 Blanc de Blancs Vieilles Vignes Grand Cru Brut<br>keywords=%{x}<br>total_user_count=%{y}<extra></extra>",
         "legendgroup": "VV 26 Blanc de Blancs Vieilles Vignes Grand Cru Brut",
         "marker": {
          "color": "#19d3f3",
          "pattern": {
           "shape": ""
          }
         },
         "name": "VV 26 Blanc de Blancs Vieilles Vignes Grand Cru Brut",
         "offsetgroup": "VV 26 Blanc de Blancs Vieilles Vignes Grand Cru Brut",
         "orientation": "v",
         "showlegend": true,
         "textposition": "auto",
         "type": "bar",
         "x": [
          "toast",
          "cream"
         ],
         "xaxis": "x",
         "y": [
          22,
          10
         ],
         "yaxis": "y"
        },
        {
         "alignmentgroup": "True",
         "hovertemplate": "wine_name=Chassagne-Montrachet Premier Cru 'Morgeot' Blanc<br>keywords=%{x}<br>total_user_count=%{y}<extra></extra>",
         "legendgroup": "Chassagne-Montrachet Premier Cru 'Morgeot' Blanc",
         "marker": {
          "color": "#FF6692",
          "pattern": {
           "shape": ""
          }
         },
         "name": "Chassagne-Montrachet Premier Cru 'Morgeot' Blanc",
         "offsetgroup": "Chassagne-Montrachet Premier Cru 'Morgeot' Blanc",
         "orientation": "v",
         "showlegend": true,
         "textposition": "auto",
         "type": "bar",
         "x": [
          "citrus",
          "cream"
         ],
         "xaxis": "x",
         "y": [
          21,
          14
         ],
         "yaxis": "y"
        },
        {
         "alignmentgroup": "True",
         "hovertemplate": "wine_name=Vénus Blanc de Blancs Brut Nature Champagne Grand Cru 'Avize'<br>keywords=%{x}<br>total_user_count=%{y}<extra></extra>",
         "legendgroup": "Vénus Blanc de Blancs Brut Nature Champagne Grand Cru 'Avize'",
         "marker": {
          "color": "#B6E880",
          "pattern": {
           "shape": ""
          }
         },
         "name": "Vénus Blanc de Blancs Brut Nature Champagne Grand Cru 'Avize'",
         "offsetgroup": "Vénus Blanc de Blancs Brut Nature Champagne Grand Cru 'Avize'",
         "orientation": "v",
         "showlegend": true,
         "textposition": "auto",
         "type": "bar",
         "x": [
          "citrus",
          "toast",
          "green apple"
         ],
         "xaxis": "x",
         "y": [
          21,
          18,
          13
         ],
         "yaxis": "y"
        },
        {
         "alignmentgroup": "True",
         "hovertemplate": "wine_name=Vin Santo di Montepulciano<br>keywords=%{x}<br>total_user_count=%{y}<extra></extra>",
         "legendgroup": "Vin Santo di Montepulciano",
         "marker": {
          "color": "#FF97FF",
          "pattern": {
           "shape": ""
          }
         },
         "name": "Vin Santo di Montepulciano",
         "offsetgroup": "Vin Santo di Montepulciano",
         "orientation": "v",
         "showlegend": true,
         "textposition": "auto",
         "type": "bar",
         "x": [
          "coffee"
         ],
         "xaxis": "x",
         "y": [
          20
         ],
         "yaxis": "y"
        },
        {
         "alignmentgroup": "True",
         "hovertemplate": "wine_name=Barolo Brunate<br>keywords=%{x}<br>total_user_count=%{y}<extra></extra>",
         "legendgroup": "Barolo Brunate",
         "marker": {
          "color": "#FECB52",
          "pattern": {
           "shape": ""
          }
         },
         "name": "Barolo Brunate",
         "offsetgroup": "Barolo Brunate",
         "orientation": "v",
         "showlegend": true,
         "textposition": "auto",
         "type": "bar",
         "x": [
          "coffee",
          "coffee"
         ],
         "xaxis": "x",
         "y": [
          20,
          12
         ],
         "yaxis": "y"
        },
        {
         "alignmentgroup": "True",
         "hovertemplate": "wine_name=IX Estate Red<br>keywords=%{x}<br>total_user_count=%{y}<extra></extra>",
         "legendgroup": "IX Estate Red",
         "marker": {
          "color": "#636efa",
          "pattern": {
           "shape": ""
          }
         },
         "name": "IX Estate Red",
         "offsetgroup": "IX Estate Red",
         "orientation": "v",
         "showlegend": true,
         "textposition": "auto",
         "type": "bar",
         "x": [
          "coffee",
          "toast"
         ],
         "xaxis": "x",
         "y": [
          20,
          10
         ],
         "yaxis": "y"
        },
        {
         "alignmentgroup": "True",
         "hovertemplate": "wine_name=Barolo Sorì Ginestra<br>keywords=%{x}<br>total_user_count=%{y}<extra></extra>",
         "legendgroup": "Barolo Sorì Ginestra",
         "marker": {
          "color": "#EF553B",
          "pattern": {
           "shape": ""
          }
         },
         "name": "Barolo Sorì Ginestra",
         "offsetgroup": "Barolo Sorì Ginestra",
         "orientation": "v",
         "showlegend": true,
         "textposition": "auto",
         "type": "bar",
         "x": [
          "coffee"
         ],
         "xaxis": "x",
         "y": [
          20
         ],
         "yaxis": "y"
        },
        {
         "alignmentgroup": "True",
         "hovertemplate": "wine_name=Barolo Ginestra Casa Maté<br>keywords=%{x}<br>total_user_count=%{y}<extra></extra>",
         "legendgroup": "Barolo Ginestra Casa Maté",
         "marker": {
          "color": "#00cc96",
          "pattern": {
           "shape": ""
          }
         },
         "name": "Barolo Ginestra Casa Maté",
         "offsetgroup": "Barolo Ginestra Casa Maté",
         "orientation": "v",
         "showlegend": true,
         "textposition": "auto",
         "type": "bar",
         "x": [
          "coffee"
         ],
         "xaxis": "x",
         "y": [
          20
         ],
         "yaxis": "y"
        },
        {
         "alignmentgroup": "True",
         "hovertemplate": "wine_name=Quinta da Leda Douro<br>keywords=%{x}<br>total_user_count=%{y}<extra></extra>",
         "legendgroup": "Quinta da Leda Douro",
         "marker": {
          "color": "#ab63fa",
          "pattern": {
           "shape": ""
          }
         },
         "name": "Quinta da Leda Douro",
         "offsetgroup": "Quinta da Leda Douro",
         "orientation": "v",
         "showlegend": true,
         "textposition": "auto",
         "type": "bar",
         "x": [
          "toast"
         ],
         "xaxis": "x",
         "y": [
          20
         ],
         "yaxis": "y"
        },
        {
         "alignmentgroup": "True",
         "hovertemplate": "wine_name=Romanée-Saint-Vivant Grand Cru (Marey-Monge)<br>keywords=%{x}<br>total_user_count=%{y}<extra></extra>",
         "legendgroup": "Romanée-Saint-Vivant Grand Cru (Marey-Monge)",
         "marker": {
          "color": "#FFA15A",
          "pattern": {
           "shape": ""
          }
         },
         "name": "Romanée-Saint-Vivant Grand Cru (Marey-Monge)",
         "offsetgroup": "Romanée-Saint-Vivant Grand Cru (Marey-Monge)",
         "orientation": "v",
         "showlegend": true,
         "textposition": "auto",
         "type": "bar",
         "x": [
          "coffee"
         ],
         "xaxis": "x",
         "y": [
          20
         ],
         "yaxis": "y"
        },
        {
         "alignmentgroup": "True",
         "hovertemplate": "wine_name=Contador Rioja<br>keywords=%{x}<br>total_user_count=%{y}<extra></extra>",
         "legendgroup": "Contador Rioja",
         "marker": {
          "color": "#19d3f3",
          "pattern": {
           "shape": ""
          }
         },
         "name": "Contador Rioja",
         "offsetgroup": "Contador Rioja",
         "orientation": "v",
         "showlegend": true,
         "textposition": "auto",
         "type": "bar",
         "x": [
          "toast",
          "coffee"
         ],
         "xaxis": "x",
         "y": [
          20,
          12
         ],
         "yaxis": "y"
        },
        {
         "alignmentgroup": "True",
         "hovertemplate": "wine_name=Gran Corte (VII)<br>keywords=%{x}<br>total_user_count=%{y}<extra></extra>",
         "legendgroup": "Gran Corte (VII)",
         "marker": {
          "color": "#FF6692",
          "pattern": {
           "shape": ""
          }
         },
         "name": "Gran Corte (VII)",
         "offsetgroup": "Gran Corte (VII)",
         "orientation": "v",
         "showlegend": true,
         "textposition": "auto",
         "type": "bar",
         "x": [
          "coffee",
          "toast"
         ],
         "xaxis": "x",
         "y": [
          20,
          18
         ],
         "yaxis": "y"
        },
        {
         "alignmentgroup": "True",
         "hovertemplate": "wine_name=Poggio Al Vento Brunello di Montalcino Riserva<br>keywords=%{x}<br>total_user_count=%{y}<extra></extra>",
         "legendgroup": "Poggio Al Vento Brunello di Montalcino Riserva",
         "marker": {
          "color": "#B6E880",
          "pattern": {
           "shape": ""
          }
         },
         "name": "Poggio Al Vento Brunello di Montalcino Riserva",
         "offsetgroup": "Poggio Al Vento Brunello di Montalcino Riserva",
         "orientation": "v",
         "showlegend": true,
         "textposition": "auto",
         "type": "bar",
         "x": [
          "coffee"
         ],
         "xaxis": "x",
         "y": [
          20
         ],
         "yaxis": "y"
        },
        {
         "alignmentgroup": "True",
         "hovertemplate": "wine_name=Douro<br>keywords=%{x}<br>total_user_count=%{y}<extra></extra>",
         "legendgroup": "Douro",
         "marker": {
          "color": "#FF97FF",
          "pattern": {
           "shape": ""
          }
         },
         "name": "Douro",
         "offsetgroup": "Douro",
         "orientation": "v",
         "showlegend": true,
         "textposition": "auto",
         "type": "bar",
         "x": [
          "toast",
          "coffee"
         ],
         "xaxis": "x",
         "y": [
          20,
          14
         ],
         "yaxis": "y"
        },
        {
         "alignmentgroup": "True",
         "hovertemplate": "wine_name=Richebourg Grand Cru<br>keywords=%{x}<br>total_user_count=%{y}<extra></extra>",
         "legendgroup": "Richebourg Grand Cru",
         "marker": {
          "color": "#FECB52",
          "pattern": {
           "shape": ""
          }
         },
         "name": "Richebourg Grand Cru",
         "offsetgroup": "Richebourg Grand Cru",
         "orientation": "v",
         "showlegend": true,
         "textposition": "auto",
         "type": "bar",
         "x": [
          "coffee"
         ],
         "xaxis": "x",
         "y": [
          20
         ],
         "yaxis": "y"
        },
        {
         "alignmentgroup": "True",
         "hovertemplate": "wine_name=Pieve Santa Restituta Sugarille Brunello di Montalcino<br>keywords=%{x}<br>total_user_count=%{y}<extra></extra>",
         "legendgroup": "Pieve Santa Restituta Sugarille Brunello di Montalcino",
         "marker": {
          "color": "#636efa",
          "pattern": {
           "shape": ""
          }
         },
         "name": "Pieve Santa Restituta Sugarille Brunello di Montalcino",
         "offsetgroup": "Pieve Santa Restituta Sugarille Brunello di Montalcino",
         "orientation": "v",
         "showlegend": true,
         "textposition": "auto",
         "type": "bar",
         "x": [
          "coffee"
         ],
         "xaxis": "x",
         "y": [
          20
         ],
         "yaxis": "y"
        },
        {
         "alignmentgroup": "True",
         "hovertemplate": "wine_name=Harlequin<br>keywords=%{x}<br>total_user_count=%{y}<extra></extra>",
         "legendgroup": "Harlequin",
         "marker": {
          "color": "#EF553B",
          "pattern": {
           "shape": ""
          }
         },
         "name": "Harlequin",
         "offsetgroup": "Harlequin",
         "orientation": "v",
         "showlegend": true,
         "textposition": "auto",
         "type": "bar",
         "x": [
          "coffee"
         ],
         "xaxis": "x",
         "y": [
          20
         ],
         "yaxis": "y"
        },
        {
         "alignmentgroup": "True",
         "hovertemplate": "wine_name=Bâtard-Montrachet Grand Cru<br>keywords=%{x}<br>total_user_count=%{y}<extra></extra>",
         "legendgroup": "Bâtard-Montrachet Grand Cru",
         "marker": {
          "color": "#00cc96",
          "pattern": {
           "shape": ""
          }
         },
         "name": "Bâtard-Montrachet Grand Cru",
         "offsetgroup": "Bâtard-Montrachet Grand Cru",
         "orientation": "v",
         "showlegend": true,
         "textposition": "auto",
         "type": "bar",
         "x": [
          "citrus",
          "citrus",
          "cream",
          "cream",
          "toast"
         ],
         "xaxis": "x",
         "y": [
          20,
          19,
          14,
          11,
          10
         ],
         "yaxis": "y"
        },
        {
         "alignmentgroup": "True",
         "hovertemplate": "wine_name=Amarone della Valpolicella Vigna Garzon<br>keywords=%{x}<br>total_user_count=%{y}<extra></extra>",
         "legendgroup": "Amarone della Valpolicella Vigna Garzon",
         "marker": {
          "color": "#ab63fa",
          "pattern": {
           "shape": ""
          }
         },
         "name": "Amarone della Valpolicella Vigna Garzon",
         "offsetgroup": "Amarone della Valpolicella Vigna Garzon",
         "orientation": "v",
         "showlegend": true,
         "textposition": "auto",
         "type": "bar",
         "x": [
          "coffee",
          "toast"
         ],
         "xaxis": "x",
         "y": [
          20,
          10
         ],
         "yaxis": "y"
        },
        {
         "alignmentgroup": "True",
         "hovertemplate": "wine_name=Champagne<br>keywords=%{x}<br>total_user_count=%{y}<extra></extra>",
         "legendgroup": "Champagne",
         "marker": {
          "color": "#FFA15A",
          "pattern": {
           "shape": ""
          }
         },
         "name": "Champagne",
         "offsetgroup": "Champagne",
         "orientation": "v",
         "showlegend": true,
         "textposition": "auto",
         "type": "bar",
         "x": [
          "toast",
          "cream",
          "citrus"
         ],
         "xaxis": "x",
         "y": [
          20,
          17,
          15
         ],
         "yaxis": "y"
        },
        {
         "alignmentgroup": "True",
         "hovertemplate": "wine_name=Valdegines<br>keywords=%{x}<br>total_user_count=%{y}<extra></extra>",
         "legendgroup": "Valdegines",
         "marker": {
          "color": "#19d3f3",
          "pattern": {
           "shape": ""
          }
         },
         "name": "Valdegines",
         "offsetgroup": "Valdegines",
         "orientation": "v",
         "showlegend": true,
         "textposition": "auto",
         "type": "bar",
         "x": [
          "coffee"
         ],
         "xaxis": "x",
         "y": [
          20
         ],
         "yaxis": "y"
        },
        {
         "alignmentgroup": "True",
         "hovertemplate": "wine_name=6 Anime Puglia Rosso<br>keywords=%{x}<br>total_user_count=%{y}<extra></extra>",
         "legendgroup": "6 Anime Puglia Rosso",
         "marker": {
          "color": "#FF6692",
          "pattern": {
           "shape": ""
          }
         },
         "name": "6 Anime Puglia Rosso",
         "offsetgroup": "6 Anime Puglia Rosso",
         "orientation": "v",
         "showlegend": true,
         "textposition": "auto",
         "type": "bar",
         "x": [
          "coffee",
          "toast"
         ],
         "xaxis": "x",
         "y": [
          20,
          10
         ],
         "yaxis": "y"
        },
        {
         "alignmentgroup": "True",
         "hovertemplate": "wine_name=Toscana Bianco<br>keywords=%{x}<br>total_user_count=%{y}<extra></extra>",
         "legendgroup": "Toscana Bianco",
         "marker": {
          "color": "#B6E880",
          "pattern": {
           "shape": ""
          }
         },
         "name": "Toscana Bianco",
         "offsetgroup": "Toscana Bianco",
         "orientation": "v",
         "showlegend": true,
         "textposition": "auto",
         "type": "bar",
         "x": [
          "citrus",
          "green apple",
          "cream"
         ],
         "xaxis": "x",
         "y": [
          20,
          16,
          12
         ],
         "yaxis": "y"
        },
        {
         "alignmentgroup": "True",
         "hovertemplate": "wine_name=Altagracia Cabernet Sauvignon<br>keywords=%{x}<br>total_user_count=%{y}<extra></extra>",
         "legendgroup": "Altagracia Cabernet Sauvignon",
         "marker": {
          "color": "#FF97FF",
          "pattern": {
           "shape": ""
          }
         },
         "name": "Altagracia Cabernet Sauvignon",
         "offsetgroup": "Altagracia Cabernet Sauvignon",
         "orientation": "v",
         "showlegend": true,
         "textposition": "auto",
         "type": "bar",
         "x": [
          "coffee",
          "toast"
         ],
         "xaxis": "x",
         "y": [
          20,
          12
         ],
         "yaxis": "y"
        },
        {
         "alignmentgroup": "True",
         "hovertemplate": "wine_name=RWT Bin 798 Shiraz<br>keywords=%{x}<br>total_user_count=%{y}<extra></extra>",
         "legendgroup": "RWT Bin 798 Shiraz",
         "marker": {
          "color": "#FECB52",
          "pattern": {
           "shape": ""
          }
         },
         "name": "RWT Bin 798 Shiraz",
         "offsetgroup": "RWT Bin 798 Shiraz",
         "orientation": "v",
         "showlegend": true,
         "textposition": "auto",
         "type": "bar",
         "x": [
          "coffee"
         ],
         "xaxis": "x",
         "y": [
          20
         ],
         "yaxis": "y"
        },
        {
         "alignmentgroup": "True",
         "hovertemplate": "wine_name=Single Barrel Champagne Grand Cru 'Le Mesnil-sur-Oger'<br>keywords=%{x}<br>total_user_count=%{y}<extra></extra>",
         "legendgroup": "Single Barrel Champagne Grand Cru 'Le Mesnil-sur-Oger'",
         "marker": {
          "color": "#636efa",
          "pattern": {
           "shape": ""
          }
         },
         "name": "Single Barrel Champagne Grand Cru 'Le Mesnil-sur-Oger'",
         "offsetgroup": "Single Barrel Champagne Grand Cru 'Le Mesnil-sur-Oger'",
         "orientation": "v",
         "showlegend": true,
         "textposition": "auto",
         "type": "bar",
         "x": [
          "toast"
         ],
         "xaxis": "x",
         "y": [
          20
         ],
         "yaxis": "y"
        },
        {
         "alignmentgroup": "True",
         "hovertemplate": "wine_name=Merlot (Signature)<br>keywords=%{x}<br>total_user_count=%{y}<extra></extra>",
         "legendgroup": "Merlot (Signature)",
         "marker": {
          "color": "#EF553B",
          "pattern": {
           "shape": ""
          }
         },
         "name": "Merlot (Signature)",
         "offsetgroup": "Merlot (Signature)",
         "orientation": "v",
         "showlegend": true,
         "textposition": "auto",
         "type": "bar",
         "x": [
          "coffee",
          "toast"
         ],
         "xaxis": "x",
         "y": [
          18,
          10
         ],
         "yaxis": "y"
        },
        {
         "alignmentgroup": "True",
         "hovertemplate": "wine_name=Gran Reserva Ribera del Duero<br>keywords=%{x}<br>total_user_count=%{y}<extra></extra>",
         "legendgroup": "Gran Reserva Ribera del Duero",
         "marker": {
          "color": "#00cc96",
          "pattern": {
           "shape": ""
          }
         },
         "name": "Gran Reserva Ribera del Duero",
         "offsetgroup": "Gran Reserva Ribera del Duero",
         "orientation": "v",
         "showlegend": true,
         "textposition": "auto",
         "type": "bar",
         "x": [
          "coffee"
         ],
         "xaxis": "x",
         "y": [
          18
         ],
         "yaxis": "y"
        },
        {
         "alignmentgroup": "True",
         "hovertemplate": "wine_name=Barolo Rocche<br>keywords=%{x}<br>total_user_count=%{y}<extra></extra>",
         "legendgroup": "Barolo Rocche",
         "marker": {
          "color": "#ab63fa",
          "pattern": {
           "shape": ""
          }
         },
         "name": "Barolo Rocche",
         "offsetgroup": "Barolo Rocche",
         "orientation": "v",
         "showlegend": true,
         "textposition": "auto",
         "type": "bar",
         "x": [
          "coffee"
         ],
         "xaxis": "x",
         "y": [
          18
         ],
         "yaxis": "y"
        },
        {
         "alignmentgroup": "True",
         "hovertemplate": "wine_name=Ornato Barolo<br>keywords=%{x}<br>total_user_count=%{y}<extra></extra>",
         "legendgroup": "Ornato Barolo",
         "marker": {
          "color": "#FFA15A",
          "pattern": {
           "shape": ""
          }
         },
         "name": "Ornato Barolo",
         "offsetgroup": "Ornato Barolo",
         "orientation": "v",
         "showlegend": true,
         "textposition": "auto",
         "type": "bar",
         "x": [
          "coffee",
          "toast"
         ],
         "xaxis": "x",
         "y": [
          18,
          14
         ],
         "yaxis": "y"
        },
        {
         "alignmentgroup": "True",
         "hovertemplate": "wine_name=Sorì Tildìn (Barbaresco) Langhe<br>keywords=%{x}<br>total_user_count=%{y}<extra></extra>",
         "legendgroup": "Sorì Tildìn (Barbaresco) Langhe",
         "marker": {
          "color": "#19d3f3",
          "pattern": {
           "shape": ""
          }
         },
         "name": "Sorì Tildìn (Barbaresco) Langhe",
         "offsetgroup": "Sorì Tildìn (Barbaresco) Langhe",
         "orientation": "v",
         "showlegend": true,
         "textposition": "auto",
         "type": "bar",
         "x": [
          "coffee",
          "toast"
         ],
         "xaxis": "x",
         "y": [
          18,
          14
         ],
         "yaxis": "y"
        },
        {
         "alignmentgroup": "True",
         "hovertemplate": "wine_name=Puligny-Montrachet Premier Cru Champ-Canet<br>keywords=%{x}<br>total_user_count=%{y}<extra></extra>",
         "legendgroup": "Puligny-Montrachet Premier Cru Champ-Canet",
         "marker": {
          "color": "#FF6692",
          "pattern": {
           "shape": ""
          }
         },
         "name": "Puligny-Montrachet Premier Cru Champ-Canet",
         "offsetgroup": "Puligny-Montrachet Premier Cru Champ-Canet",
         "orientation": "v",
         "showlegend": true,
         "textposition": "auto",
         "type": "bar",
         "x": [
          "citrus",
          "toast",
          "cream"
         ],
         "xaxis": "x",
         "y": [
          18,
          18,
          16
         ],
         "yaxis": "y"
        },
        {
         "alignmentgroup": "True",
         "hovertemplate": "wine_name=Brunate  Barolo<br>keywords=%{x}<br>total_user_count=%{y}<extra></extra>",
         "legendgroup": "Brunate  Barolo",
         "marker": {
          "color": "#B6E880",
          "pattern": {
           "shape": ""
          }
         },
         "name": "Brunate  Barolo",
         "offsetgroup": "Brunate  Barolo",
         "orientation": "v",
         "showlegend": true,
         "textposition": "auto",
         "type": "bar",
         "x": [
          "coffee"
         ],
         "xaxis": "x",
         "y": [
          18
         ],
         "yaxis": "y"
        },
        {
         "alignmentgroup": "True",
         "hovertemplate": "wine_name=Finca Bella Vista Malbec<br>keywords=%{x}<br>total_user_count=%{y}<extra></extra>",
         "legendgroup": "Finca Bella Vista Malbec",
         "marker": {
          "color": "#FF97FF",
          "pattern": {
           "shape": ""
          }
         },
         "name": "Finca Bella Vista Malbec",
         "offsetgroup": "Finca Bella Vista Malbec",
         "orientation": "v",
         "showlegend": true,
         "textposition": "auto",
         "type": "bar",
         "x": [
          "coffee",
          "toast"
         ],
         "xaxis": "x",
         "y": [
          18,
          12
         ],
         "yaxis": "y"
        },
        {
         "alignmentgroup": "True",
         "hovertemplate": "wine_name=V Red<br>keywords=%{x}<br>total_user_count=%{y}<extra></extra>",
         "legendgroup": "V Red",
         "marker": {
          "color": "#FECB52",
          "pattern": {
           "shape": ""
          }
         },
         "name": "V Red",
         "offsetgroup": "V Red",
         "orientation": "v",
         "showlegend": true,
         "textposition": "auto",
         "type": "bar",
         "x": [
          "coffee"
         ],
         "xaxis": "x",
         "y": [
          18
         ],
         "yaxis": "y"
        },
        {
         "alignmentgroup": "True",
         "hovertemplate": "wine_name=Lodovico<br>keywords=%{x}<br>total_user_count=%{y}<extra></extra>",
         "legendgroup": "Lodovico",
         "marker": {
          "color": "#636efa",
          "pattern": {
           "shape": ""
          }
         },
         "name": "Lodovico",
         "offsetgroup": "Lodovico",
         "orientation": "v",
         "showlegend": true,
         "textposition": "auto",
         "type": "bar",
         "x": [
          "coffee"
         ],
         "xaxis": "x",
         "y": [
          18
         ],
         "yaxis": "y"
        },
        {
         "alignmentgroup": "True",
         "hovertemplate": "wine_name=Esporão Private Selection Tinto<br>keywords=%{x}<br>total_user_count=%{y}<extra></extra>",
         "legendgroup": "Esporão Private Selection Tinto",
         "marker": {
          "color": "#EF553B",
          "pattern": {
           "shape": ""
          }
         },
         "name": "Esporão Private Selection Tinto",
         "offsetgroup": "Esporão Private Selection Tinto",
         "orientation": "v",
         "showlegend": true,
         "textposition": "auto",
         "type": "bar",
         "x": [
          "toast",
          "coffee"
         ],
         "xaxis": "x",
         "y": [
          18,
          12
         ],
         "yaxis": "y"
        },
        {
         "alignmentgroup": "True",
         "hovertemplate": "wine_name=Reserve<br>keywords=%{x}<br>total_user_count=%{y}<extra></extra>",
         "legendgroup": "Reserve",
         "marker": {
          "color": "#00cc96",
          "pattern": {
           "shape": ""
          }
         },
         "name": "Reserve",
         "offsetgroup": "Reserve",
         "orientation": "v",
         "showlegend": true,
         "textposition": "auto",
         "type": "bar",
         "x": [
          "coffee"
         ],
         "xaxis": "x",
         "y": [
          18
         ],
         "yaxis": "y"
        },
        {
         "alignmentgroup": "True",
         "hovertemplate": "wine_name=Amour de Deutz Millesimé Rosé Brut Champagne<br>keywords=%{x}<br>total_user_count=%{y}<extra></extra>",
         "legendgroup": "Amour de Deutz Millesimé Rosé Brut Champagne",
         "marker": {
          "color": "#ab63fa",
          "pattern": {
           "shape": ""
          }
         },
         "name": "Amour de Deutz Millesimé Rosé Brut Champagne",
         "offsetgroup": "Amour de Deutz Millesimé Rosé Brut Champagne",
         "orientation": "v",
         "showlegend": true,
         "textposition": "auto",
         "type": "bar",
         "x": [
          "cream",
          "toast",
          "citrus"
         ],
         "xaxis": "x",
         "y": [
          18,
          18,
          13
         ],
         "yaxis": "y"
        },
        {
         "alignmentgroup": "True",
         "hovertemplate": "wine_name=Fieramonte Amarone della Valpolicella Riserva<br>keywords=%{x}<br>total_user_count=%{y}<extra></extra>",
         "legendgroup": "Fieramonte Amarone della Valpolicella Riserva",
         "marker": {
          "color": "#FFA15A",
          "pattern": {
           "shape": ""
          }
         },
         "name": "Fieramonte Amarone della Valpolicella Riserva",
         "offsetgroup": "Fieramonte Amarone della Valpolicella Riserva",
         "orientation": "v",
         "showlegend": true,
         "textposition": "auto",
         "type": "bar",
         "x": [
          "coffee"
         ],
         "xaxis": "x",
         "y": [
          18
         ],
         "yaxis": "y"
        },
        {
         "alignmentgroup": "True",
         "hovertemplate": "wine_name=Gewürztraminer Lunare<br>keywords=%{x}<br>total_user_count=%{y}<extra></extra>",
         "legendgroup": "Gewürztraminer Lunare",
         "marker": {
          "color": "#19d3f3",
          "pattern": {
           "shape": ""
          }
         },
         "name": "Gewürztraminer Lunare",
         "offsetgroup": "Gewürztraminer Lunare",
         "orientation": "v",
         "showlegend": true,
         "textposition": "auto",
         "type": "bar",
         "x": [
          "citrus"
         ],
         "xaxis": "x",
         "y": [
          17
         ],
         "yaxis": "y"
        },
        {
         "alignmentgroup": "True",
         "hovertemplate": "wine_name=Bienvenues-Bâtard-Montrachet Grand Cru<br>keywords=%{x}<br>total_user_count=%{y}<extra></extra>",
         "legendgroup": "Bienvenues-Bâtard-Montrachet Grand Cru",
         "marker": {
          "color": "#FF6692",
          "pattern": {
           "shape": ""
          }
         },
         "name": "Bienvenues-Bâtard-Montrachet Grand Cru",
         "offsetgroup": "Bienvenues-Bâtard-Montrachet Grand Cru",
         "orientation": "v",
         "showlegend": true,
         "textposition": "auto",
         "type": "bar",
         "x": [
          "citrus",
          "toast"
         ],
         "xaxis": "x",
         "y": [
          17,
          12
         ],
         "yaxis": "y"
        },
        {
         "alignmentgroup": "True",
         "hovertemplate": "wine_name=Hyde Vineyard Chardonnay<br>keywords=%{x}<br>total_user_count=%{y}<extra></extra>",
         "legendgroup": "Hyde Vineyard Chardonnay",
         "marker": {
          "color": "#B6E880",
          "pattern": {
           "shape": ""
          }
         },
         "name": "Hyde Vineyard Chardonnay",
         "offsetgroup": "Hyde Vineyard Chardonnay",
         "orientation": "v",
         "showlegend": true,
         "textposition": "auto",
         "type": "bar",
         "x": [
          "citrus"
         ],
         "xaxis": "x",
         "y": [
          17
         ],
         "yaxis": "y"
        },
        {
         "alignmentgroup": "True",
         "hovertemplate": "wine_name=Altura<br>keywords=%{x}<br>total_user_count=%{y}<extra></extra>",
         "legendgroup": "Altura",
         "marker": {
          "color": "#FF97FF",
          "pattern": {
           "shape": ""
          }
         },
         "name": "Altura",
         "offsetgroup": "Altura",
         "orientation": "v",
         "showlegend": true,
         "textposition": "auto",
         "type": "bar",
         "x": [
          "coffee"
         ],
         "xaxis": "x",
         "y": [
          16
         ],
         "yaxis": "y"
        },
        {
         "alignmentgroup": "True",
         "hovertemplate": "wine_name=Carruades de Lafite Pauillac<br>keywords=%{x}<br>total_user_count=%{y}<extra></extra>",
         "legendgroup": "Carruades de Lafite Pauillac",
         "marker": {
          "color": "#FECB52",
          "pattern": {
           "shape": ""
          }
         },
         "name": "Carruades de Lafite Pauillac",
         "offsetgroup": "Carruades de Lafite Pauillac",
         "orientation": "v",
         "showlegend": true,
         "textposition": "auto",
         "type": "bar",
         "x": [
          "coffee",
          "toast",
          "cream"
         ],
         "xaxis": "x",
         "y": [
          16,
          12,
          11
         ],
         "yaxis": "y"
        },
        {
         "alignmentgroup": "True",
         "hovertemplate": "wine_name=Ermitage Ex-Voto<br>keywords=%{x}<br>total_user_count=%{y}<extra></extra>",
         "legendgroup": "Ermitage Ex-Voto",
         "marker": {
          "color": "#636efa",
          "pattern": {
           "shape": ""
          }
         },
         "name": "Ermitage Ex-Voto",
         "offsetgroup": "Ermitage Ex-Voto",
         "orientation": "v",
         "showlegend": true,
         "textposition": "auto",
         "type": "bar",
         "x": [
          "coffee"
         ],
         "xaxis": "x",
         "y": [
          16
         ],
         "yaxis": "y"
        },
        {
         "alignmentgroup": "True",
         "hovertemplate": "wine_name=Bramare Marchiori Vineyard Malbec<br>keywords=%{x}<br>total_user_count=%{y}<extra></extra>",
         "legendgroup": "Bramare Marchiori Vineyard Malbec",
         "marker": {
          "color": "#EF553B",
          "pattern": {
           "shape": ""
          }
         },
         "name": "Bramare Marchiori Vineyard Malbec",
         "offsetgroup": "Bramare Marchiori Vineyard Malbec",
         "orientation": "v",
         "showlegend": true,
         "textposition": "auto",
         "type": "bar",
         "x": [
          "coffee",
          "toast"
         ],
         "xaxis": "x",
         "y": [
          16,
          12
         ],
         "yaxis": "y"
        },
        {
         "alignmentgroup": "True",
         "hovertemplate": "wine_name=Darmagi Langhe<br>keywords=%{x}<br>total_user_count=%{y}<extra></extra>",
         "legendgroup": "Darmagi Langhe",
         "marker": {
          "color": "#00cc96",
          "pattern": {
           "shape": ""
          }
         },
         "name": "Darmagi Langhe",
         "offsetgroup": "Darmagi Langhe",
         "orientation": "v",
         "showlegend": true,
         "textposition": "auto",
         "type": "bar",
         "x": [
          "coffee"
         ],
         "xaxis": "x",
         "y": [
          16
         ],
         "yaxis": "y"
        },
        {
         "alignmentgroup": "True",
         "hovertemplate": "wine_name=Barolo Riserva Villero<br>keywords=%{x}<br>total_user_count=%{y}<extra></extra>",
         "legendgroup": "Barolo Riserva Villero",
         "marker": {
          "color": "#ab63fa",
          "pattern": {
           "shape": ""
          }
         },
         "name": "Barolo Riserva Villero",
         "offsetgroup": "Barolo Riserva Villero",
         "orientation": "v",
         "showlegend": true,
         "textposition": "auto",
         "type": "bar",
         "x": [
          "coffee"
         ],
         "xaxis": "x",
         "y": [
          16
         ],
         "yaxis": "y"
        },
        {
         "alignmentgroup": "True",
         "hovertemplate": "wine_name=Montrachet Grand Cru<br>keywords=%{x}<br>total_user_count=%{y}<extra></extra>",
         "legendgroup": "Montrachet Grand Cru",
         "marker": {
          "color": "#FFA15A",
          "pattern": {
           "shape": ""
          }
         },
         "name": "Montrachet Grand Cru",
         "offsetgroup": "Montrachet Grand Cru",
         "orientation": "v",
         "showlegend": true,
         "textposition": "auto",
         "type": "bar",
         "x": [
          "citrus",
          "citrus"
         ],
         "xaxis": "x",
         "y": [
          16,
          13
         ],
         "yaxis": "y"
        },
        {
         "alignmentgroup": "True",
         "hovertemplate": "wine_name=Barolo Riserva Monfortino<br>keywords=%{x}<br>total_user_count=%{y}<extra></extra>",
         "legendgroup": "Barolo Riserva Monfortino",
         "marker": {
          "color": "#19d3f3",
          "pattern": {
           "shape": ""
          }
         },
         "name": "Barolo Riserva Monfortino",
         "offsetgroup": "Barolo Riserva Monfortino",
         "orientation": "v",
         "showlegend": true,
         "textposition": "auto",
         "type": "bar",
         "x": [
          "coffee"
         ],
         "xaxis": "x",
         "y": [
          16
         ],
         "yaxis": "y"
        },
        {
         "alignmentgroup": "True",
         "hovertemplate": "wine_name=Clos de la Roche Grand Cru Cuvée Vieilles Vignes<br>keywords=%{x}<br>total_user_count=%{y}<extra></extra>",
         "legendgroup": "Clos de la Roche Grand Cru Cuvée Vieilles Vignes",
         "marker": {
          "color": "#FF6692",
          "pattern": {
           "shape": ""
          }
         },
         "name": "Clos de la Roche Grand Cru Cuvée Vieilles Vignes",
         "offsetgroup": "Clos de la Roche Grand Cru Cuvée Vieilles Vignes",
         "orientation": "v",
         "showlegend": true,
         "textposition": "auto",
         "type": "bar",
         "x": [
          "toast",
          "coffee"
         ],
         "xaxis": "x",
         "y": [
          16,
          10
         ],
         "yaxis": "y"
        },
        {
         "alignmentgroup": "True",
         "hovertemplate": "wine_name=La Nieta<br>keywords=%{x}<br>total_user_count=%{y}<extra></extra>",
         "legendgroup": "La Nieta",
         "marker": {
          "color": "#B6E880",
          "pattern": {
           "shape": ""
          }
         },
         "name": "La Nieta",
         "offsetgroup": "La Nieta",
         "orientation": "v",
         "showlegend": true,
         "textposition": "auto",
         "type": "bar",
         "x": [
          "toast",
          "coffee"
         ],
         "xaxis": "x",
         "y": [
          16,
          14
         ],
         "yaxis": "y"
        },
        {
         "alignmentgroup": "True",
         "hovertemplate": "wine_name=Old Vines Primitivo di Manduria<br>keywords=%{x}<br>total_user_count=%{y}<extra></extra>",
         "legendgroup": "Old Vines Primitivo di Manduria",
         "marker": {
          "color": "#FF97FF",
          "pattern": {
           "shape": ""
          }
         },
         "name": "Old Vines Primitivo di Manduria",
         "offsetgroup": "Old Vines Primitivo di Manduria",
         "orientation": "v",
         "showlegend": true,
         "textposition": "auto",
         "type": "bar",
         "x": [
          "coffee"
         ],
         "xaxis": "x",
         "y": [
          16
         ],
         "yaxis": "y"
        },
        {
         "alignmentgroup": "True",
         "hovertemplate": "wine_name=L'Amarone del Maestro Fornaser<br>keywords=%{x}<br>total_user_count=%{y}<extra></extra>",
         "legendgroup": "L'Amarone del Maestro Fornaser",
         "marker": {
          "color": "#FECB52",
          "pattern": {
           "shape": ""
          }
         },
         "name": "L'Amarone del Maestro Fornaser",
         "offsetgroup": "L'Amarone del Maestro Fornaser",
         "orientation": "v",
         "showlegend": true,
         "textposition": "auto",
         "type": "bar",
         "x": [
          "coffee"
         ],
         "xaxis": "x",
         "y": [
          16
         ],
         "yaxis": "y"
        },
        {
         "alignmentgroup": "True",
         "hovertemplate": "wine_name=Barolo Monprivato<br>keywords=%{x}<br>total_user_count=%{y}<extra></extra>",
         "legendgroup": "Barolo Monprivato",
         "marker": {
          "color": "#636efa",
          "pattern": {
           "shape": ""
          }
         },
         "name": "Barolo Monprivato",
         "offsetgroup": "Barolo Monprivato",
         "orientation": "v",
         "showlegend": true,
         "textposition": "auto",
         "type": "bar",
         "x": [
          "coffee"
         ],
         "xaxis": "x",
         "y": [
          16
         ],
         "yaxis": "y"
        },
        {
         "alignmentgroup": "True",
         "hovertemplate": "wine_name=Vigneto Bellavista Chianti Classico<br>keywords=%{x}<br>total_user_count=%{y}<extra></extra>",
         "legendgroup": "Vigneto Bellavista Chianti Classico",
         "marker": {
          "color": "#EF553B",
          "pattern": {
           "shape": ""
          }
         },
         "name": "Vigneto Bellavista Chianti Classico",
         "offsetgroup": "Vigneto Bellavista Chianti Classico",
         "orientation": "v",
         "showlegend": true,
         "textposition": "auto",
         "type": "bar",
         "x": [
          "coffee"
         ],
         "xaxis": "x",
         "y": [
          16
         ],
         "yaxis": "y"
        },
        {
         "alignmentgroup": "True",
         "hovertemplate": "wine_name=Arborina Barolo<br>keywords=%{x}<br>total_user_count=%{y}<extra></extra>",
         "legendgroup": "Arborina Barolo",
         "marker": {
          "color": "#00cc96",
          "pattern": {
           "shape": ""
          }
         },
         "name": "Arborina Barolo",
         "offsetgroup": "Arborina Barolo",
         "orientation": "v",
         "showlegend": true,
         "textposition": "auto",
         "type": "bar",
         "x": [
          "coffee"
         ],
         "xaxis": "x",
         "y": [
          16
         ],
         "yaxis": "y"
        },
        {
         "alignmentgroup": "True",
         "hovertemplate": "wine_name=Vürsù Barbaresco Gallina<br>keywords=%{x}<br>total_user_count=%{y}<extra></extra>",
         "legendgroup": "Vürsù Barbaresco Gallina",
         "marker": {
          "color": "#ab63fa",
          "pattern": {
           "shape": ""
          }
         },
         "name": "Vürsù Barbaresco Gallina",
         "offsetgroup": "Vürsù Barbaresco Gallina",
         "orientation": "v",
         "showlegend": true,
         "textposition": "auto",
         "type": "bar",
         "x": [
          "coffee"
         ],
         "xaxis": "x",
         "y": [
          16
         ],
         "yaxis": "y"
        },
        {
         "alignmentgroup": "True",
         "hovertemplate": "wine_name=Barolo Bussia Cicala<br>keywords=%{x}<br>total_user_count=%{y}<extra></extra>",
         "legendgroup": "Barolo Bussia Cicala",
         "marker": {
          "color": "#FFA15A",
          "pattern": {
           "shape": ""
          }
         },
         "name": "Barolo Bussia Cicala",
         "offsetgroup": "Barolo Bussia Cicala",
         "orientation": "v",
         "showlegend": true,
         "textposition": "auto",
         "type": "bar",
         "x": [
          "coffee"
         ],
         "xaxis": "x",
         "y": [
          16
         ],
         "yaxis": "y"
        },
        {
         "alignmentgroup": "True",
         "hovertemplate": "wine_name=Memorias<br>keywords=%{x}<br>total_user_count=%{y}<extra></extra>",
         "legendgroup": "Memorias",
         "marker": {
          "color": "#19d3f3",
          "pattern": {
           "shape": ""
          }
         },
         "name": "Memorias",
         "offsetgroup": "Memorias",
         "orientation": "v",
         "showlegend": true,
         "textposition": "auto",
         "type": "bar",
         "x": [
          "coffee"
         ],
         "xaxis": "x",
         "y": [
          16
         ],
         "yaxis": "y"
        },
        {
         "alignmentgroup": "True",
         "hovertemplate": "wine_name=Lion Tamer Napa Valley Red Blend<br>keywords=%{x}<br>total_user_count=%{y}<extra></extra>",
         "legendgroup": "Lion Tamer Napa Valley Red Blend",
         "marker": {
          "color": "#FF6692",
          "pattern": {
           "shape": ""
          }
         },
         "name": "Lion Tamer Napa Valley Red Blend",
         "offsetgroup": "Lion Tamer Napa Valley Red Blend",
         "orientation": "v",
         "showlegend": true,
         "textposition": "auto",
         "type": "bar",
         "x": [
          "cream",
          "coffee"
         ],
         "xaxis": "x",
         "y": [
          16,
          10
         ],
         "yaxis": "y"
        },
        {
         "alignmentgroup": "True",
         "hovertemplate": "wine_name=Valmezzane Amarone della Valpolicella<br>keywords=%{x}<br>total_user_count=%{y}<extra></extra>",
         "legendgroup": "Valmezzane Amarone della Valpolicella",
         "marker": {
          "color": "#B6E880",
          "pattern": {
           "shape": ""
          }
         },
         "name": "Valmezzane Amarone della Valpolicella",
         "offsetgroup": "Valmezzane Amarone della Valpolicella",
         "orientation": "v",
         "showlegend": true,
         "textposition": "auto",
         "type": "bar",
         "x": [
          "coffee"
         ],
         "xaxis": "x",
         "y": [
          16
         ],
         "yaxis": "y"
        },
        {
         "alignmentgroup": "True",
         "hovertemplate": "wine_name=Montrachet Grand Cru Blanc<br>keywords=%{x}<br>total_user_count=%{y}<extra></extra>",
         "legendgroup": "Montrachet Grand Cru Blanc",
         "marker": {
          "color": "#FF97FF",
          "pattern": {
           "shape": ""
          }
         },
         "name": "Montrachet Grand Cru Blanc",
         "offsetgroup": "Montrachet Grand Cru Blanc",
         "orientation": "v",
         "showlegend": true,
         "textposition": "auto",
         "type": "bar",
         "x": [
          "citrus"
         ],
         "xaxis": "x",
         "y": [
          15
         ],
         "yaxis": "y"
        },
        {
         "alignmentgroup": "True",
         "hovertemplate": "wine_name=Chloe Chardonnay<br>keywords=%{x}<br>total_user_count=%{y}<extra></extra>",
         "legendgroup": "Chloe Chardonnay",
         "marker": {
          "color": "#FECB52",
          "pattern": {
           "shape": ""
          }
         },
         "name": "Chloe Chardonnay",
         "offsetgroup": "Chloe Chardonnay",
         "orientation": "v",
         "showlegend": true,
         "textposition": "auto",
         "type": "bar",
         "x": [
          "cream",
          "citrus"
         ],
         "xaxis": "x",
         "y": [
          15,
          13
         ],
         "yaxis": "y"
        },
        {
         "alignmentgroup": "True",
         "hovertemplate": "wine_name=Vürsù Barbaresco Valeirano<br>keywords=%{x}<br>total_user_count=%{y}<extra></extra>",
         "legendgroup": "Vürsù Barbaresco Valeirano",
         "marker": {
          "color": "#636efa",
          "pattern": {
           "shape": ""
          }
         },
         "name": "Vürsù Barbaresco Valeirano",
         "offsetgroup": "Vürsù Barbaresco Valeirano",
         "orientation": "v",
         "showlegend": true,
         "textposition": "auto",
         "type": "bar",
         "x": [
          "toast"
         ],
         "xaxis": "x",
         "y": [
          14
         ],
         "yaxis": "y"
        },
        {
         "alignmentgroup": "True",
         "hovertemplate": "wine_name=Barolo Ginestra Vigna del Gris<br>keywords=%{x}<br>total_user_count=%{y}<extra></extra>",
         "legendgroup": "Barolo Ginestra Vigna del Gris",
         "marker": {
          "color": "#EF553B",
          "pattern": {
           "shape": ""
          }
         },
         "name": "Barolo Ginestra Vigna del Gris",
         "offsetgroup": "Barolo Ginestra Vigna del Gris",
         "orientation": "v",
         "showlegend": true,
         "textposition": "auto",
         "type": "bar",
         "x": [
          "coffee"
         ],
         "xaxis": "x",
         "y": [
          14
         ],
         "yaxis": "y"
        },
        {
         "alignmentgroup": "True",
         "hovertemplate": "wine_name=La Ricolma<br>keywords=%{x}<br>total_user_count=%{y}<extra></extra>",
         "legendgroup": "La Ricolma",
         "marker": {
          "color": "#00cc96",
          "pattern": {
           "shape": ""
          }
         },
         "name": "La Ricolma",
         "offsetgroup": "La Ricolma",
         "orientation": "v",
         "showlegend": true,
         "textposition": "auto",
         "type": "bar",
         "x": [
          "coffee"
         ],
         "xaxis": "x",
         "y": [
          14
         ],
         "yaxis": "y"
        },
        {
         "alignmentgroup": "True",
         "hovertemplate": "wine_name=Cuvée Impériale Châteauneuf-du-Pape<br>keywords=%{x}<br>total_user_count=%{y}<extra></extra>",
         "legendgroup": "Cuvée Impériale Châteauneuf-du-Pape",
         "marker": {
          "color": "#ab63fa",
          "pattern": {
           "shape": ""
          }
         },
         "name": "Cuvée Impériale Châteauneuf-du-Pape",
         "offsetgroup": "Cuvée Impériale Châteauneuf-du-Pape",
         "orientation": "v",
         "showlegend": true,
         "textposition": "auto",
         "type": "bar",
         "x": [
          "coffee"
         ],
         "xaxis": "x",
         "y": [
          14
         ],
         "yaxis": "y"
        },
        {
         "alignmentgroup": "True",
         "hovertemplate": "wine_name=Saint-Joseph<br>keywords=%{x}<br>total_user_count=%{y}<extra></extra>",
         "legendgroup": "Saint-Joseph",
         "marker": {
          "color": "#FFA15A",
          "pattern": {
           "shape": ""
          }
         },
         "name": "Saint-Joseph",
         "offsetgroup": "Saint-Joseph",
         "orientation": "v",
         "showlegend": true,
         "textposition": "auto",
         "type": "bar",
         "x": [
          "coffee",
          "toast"
         ],
         "xaxis": "x",
         "y": [
          14,
          12
         ],
         "yaxis": "y"
        },
        {
         "alignmentgroup": "True",
         "hovertemplate": "wine_name=Chateauneuf-du-Pape Réserve des Célestins<br>keywords=%{x}<br>total_user_count=%{y}<extra></extra>",
         "legendgroup": "Chateauneuf-du-Pape Réserve des Célestins",
         "marker": {
          "color": "#19d3f3",
          "pattern": {
           "shape": ""
          }
         },
         "name": "Chateauneuf-du-Pape Réserve des Célestins",
         "offsetgroup": "Chateauneuf-du-Pape Réserve des Célestins",
         "orientation": "v",
         "showlegend": true,
         "textposition": "auto",
         "type": "bar",
         "x": [
          "coffee"
         ],
         "xaxis": "x",
         "y": [
          14
         ],
         "yaxis": "y"
        },
        {
         "alignmentgroup": "True",
         "hovertemplate": "wine_name=Cuvée des Cadettes Châteauneuf-du-Pape<br>keywords=%{x}<br>total_user_count=%{y}<extra></extra>",
         "legendgroup": "Cuvée des Cadettes Châteauneuf-du-Pape",
         "marker": {
          "color": "#FF6692",
          "pattern": {
           "shape": ""
          }
         },
         "name": "Cuvée des Cadettes Châteauneuf-du-Pape",
         "offsetgroup": "Cuvée des Cadettes Châteauneuf-du-Pape",
         "orientation": "v",
         "showlegend": true,
         "textposition": "auto",
         "type": "bar",
         "x": [
          "coffee"
         ],
         "xaxis": "x",
         "y": [
          14
         ],
         "yaxis": "y"
        },
        {
         "alignmentgroup": "True",
         "hovertemplate": "wine_name=Madonna delle Grazie Brunello di Montalcino<br>keywords=%{x}<br>total_user_count=%{y}<extra></extra>",
         "legendgroup": "Madonna delle Grazie Brunello di Montalcino",
         "marker": {
          "color": "#B6E880",
          "pattern": {
           "shape": ""
          }
         },
         "name": "Madonna delle Grazie Brunello di Montalcino",
         "offsetgroup": "Madonna delle Grazie Brunello di Montalcino",
         "orientation": "v",
         "showlegend": true,
         "textposition": "auto",
         "type": "bar",
         "x": [
          "coffee"
         ],
         "xaxis": "x",
         "y": [
          14
         ],
         "yaxis": "y"
        },
        {
         "alignmentgroup": "True",
         "hovertemplate": "wine_name=Aquilon Garnacha<br>keywords=%{x}<br>total_user_count=%{y}<extra></extra>",
         "legendgroup": "Aquilon Garnacha",
         "marker": {
          "color": "#FF97FF",
          "pattern": {
           "shape": ""
          }
         },
         "name": "Aquilon Garnacha",
         "offsetgroup": "Aquilon Garnacha",
         "orientation": "v",
         "showlegend": true,
         "textposition": "auto",
         "type": "bar",
         "x": [
          "coffee"
         ],
         "xaxis": "x",
         "y": [
          14
         ],
         "yaxis": "y"
        },
        {
         "alignmentgroup": "True",
         "hovertemplate": "wine_name=Réserve Côtes-du-Rhône<br>keywords=%{x}<br>total_user_count=%{y}<extra></extra>",
         "legendgroup": "Réserve Côtes-du-Rhône",
         "marker": {
          "color": "#FECB52",
          "pattern": {
           "shape": ""
          }
         },
         "name": "Réserve Côtes-du-Rhône",
         "offsetgroup": "Réserve Côtes-du-Rhône",
         "orientation": "v",
         "showlegend": true,
         "textposition": "auto",
         "type": "bar",
         "x": [
          "coffee"
         ],
         "xaxis": "x",
         "y": [
          14
         ],
         "yaxis": "y"
        },
        {
         "alignmentgroup": "True",
         "hovertemplate": "wine_name=Cresasso Corvina Veronese<br>keywords=%{x}<br>total_user_count=%{y}<extra></extra>",
         "legendgroup": "Cresasso Corvina Veronese",
         "marker": {
          "color": "#636efa",
          "pattern": {
           "shape": ""
          }
         },
         "name": "Cresasso Corvina Veronese",
         "offsetgroup": "Cresasso Corvina Veronese",
         "orientation": "v",
         "showlegend": true,
         "textposition": "auto",
         "type": "bar",
         "x": [
          "coffee"
         ],
         "xaxis": "x",
         "y": [
          14
         ],
         "yaxis": "y"
        },
        {
         "alignmentgroup": "True",
         "hovertemplate": "wine_name=Alabaster<br>keywords=%{x}<br>total_user_count=%{y}<extra></extra>",
         "legendgroup": "Alabaster",
         "marker": {
          "color": "#EF553B",
          "pattern": {
           "shape": ""
          }
         },
         "name": "Alabaster",
         "offsetgroup": "Alabaster",
         "orientation": "v",
         "showlegend": true,
         "textposition": "auto",
         "type": "bar",
         "x": [
          "coffee"
         ],
         "xaxis": "x",
         "y": [
          14
         ],
         "yaxis": "y"
        },
        {
         "alignmentgroup": "True",
         "hovertemplate": "wine_name=Colore Toscana<br>keywords=%{x}<br>total_user_count=%{y}<extra></extra>",
         "legendgroup": "Colore Toscana",
         "marker": {
          "color": "#00cc96",
          "pattern": {
           "shape": ""
          }
         },
         "name": "Colore Toscana",
         "offsetgroup": "Colore Toscana",
         "orientation": "v",
         "showlegend": true,
         "textposition": "auto",
         "type": "bar",
         "x": [
          "coffee"
         ],
         "xaxis": "x",
         "y": [
          14
         ],
         "yaxis": "y"
        },
        {
         "alignmentgroup": "True",
         "hovertemplate": "wine_name=Scharzhofberger Riesling Auslese<br>keywords=%{x}<br>total_user_count=%{y}<extra></extra>",
         "legendgroup": "Scharzhofberger Riesling Auslese",
         "marker": {
          "color": "#ab63fa",
          "pattern": {
           "shape": ""
          }
         },
         "name": "Scharzhofberger Riesling Auslese",
         "offsetgroup": "Scharzhofberger Riesling Auslese",
         "orientation": "v",
         "showlegend": true,
         "textposition": "auto",
         "type": "bar",
         "x": [
          "citrus",
          "cream"
         ],
         "xaxis": "x",
         "y": [
          14,
          13
         ],
         "yaxis": "y"
        },
        {
         "alignmentgroup": "True",
         "hovertemplate": "wine_name=El Carretil<br>keywords=%{x}<br>total_user_count=%{y}<extra></extra>",
         "legendgroup": "El Carretil",
         "marker": {
          "color": "#FFA15A",
          "pattern": {
           "shape": ""
          }
         },
         "name": "El Carretil",
         "offsetgroup": "El Carretil",
         "orientation": "v",
         "showlegend": true,
         "textposition": "auto",
         "type": "bar",
         "x": [
          "toast",
          "coffee"
         ],
         "xaxis": "x",
         "y": [
          14,
          10
         ],
         "yaxis": "y"
        },
        {
         "alignmentgroup": "True",
         "hovertemplate": "wine_name=Chafandin<br>keywords=%{x}<br>total_user_count=%{y}<extra></extra>",
         "legendgroup": "Chafandin",
         "marker": {
          "color": "#19d3f3",
          "pattern": {
           "shape": ""
          }
         },
         "name": "Chafandin",
         "offsetgroup": "Chafandin",
         "orientation": "v",
         "showlegend": true,
         "textposition": "auto",
         "type": "bar",
         "x": [
          "coffee"
         ],
         "xaxis": "x",
         "y": [
          14
         ],
         "yaxis": "y"
        },
        {
         "alignmentgroup": "True",
         "hovertemplate": "wine_name=Clos de la Roche Grand Cru<br>keywords=%{x}<br>total_user_count=%{y}<extra></extra>",
         "legendgroup": "Clos de la Roche Grand Cru",
         "marker": {
          "color": "#FF6692",
          "pattern": {
           "shape": ""
          }
         },
         "name": "Clos de la Roche Grand Cru",
         "offsetgroup": "Clos de la Roche Grand Cru",
         "orientation": "v",
         "showlegend": true,
         "textposition": "auto",
         "type": "bar",
         "x": [
          "coffee"
         ],
         "xaxis": "x",
         "y": [
          14
         ],
         "yaxis": "y"
        },
        {
         "alignmentgroup": "True",
         "hovertemplate": "wine_name=MV Rosé<br>keywords=%{x}<br>total_user_count=%{y}<extra></extra>",
         "legendgroup": "MV Rosé",
         "marker": {
          "color": "#B6E880",
          "pattern": {
           "shape": ""
          }
         },
         "name": "MV Rosé",
         "offsetgroup": "MV Rosé",
         "orientation": "v",
         "showlegend": true,
         "textposition": "auto",
         "type": "bar",
         "x": [
          "toast"
         ],
         "xaxis": "x",
         "y": [
          14
         ],
         "yaxis": "y"
        },
        {
         "alignmentgroup": "True",
         "hovertemplate": "wine_name=Au Paradis Cabernet Sauvignon<br>keywords=%{x}<br>total_user_count=%{y}<extra></extra>",
         "legendgroup": "Au Paradis Cabernet Sauvignon",
         "marker": {
          "color": "#FF97FF",
          "pattern": {
           "shape": ""
          }
         },
         "name": "Au Paradis Cabernet Sauvignon",
         "offsetgroup": "Au Paradis Cabernet Sauvignon",
         "orientation": "v",
         "showlegend": true,
         "textposition": "auto",
         "type": "bar",
         "x": [
          "coffee"
         ],
         "xaxis": "x",
         "y": [
          14
         ],
         "yaxis": "y"
        },
        {
         "alignmentgroup": "True",
         "hovertemplate": "wine_name=Kalós Cru Gran Reserva Malbec<br>keywords=%{x}<br>total_user_count=%{y}<extra></extra>",
         "legendgroup": "Kalós Cru Gran Reserva Malbec",
         "marker": {
          "color": "#FECB52",
          "pattern": {
           "shape": ""
          }
         },
         "name": "Kalós Cru Gran Reserva Malbec",
         "offsetgroup": "Kalós Cru Gran Reserva Malbec",
         "orientation": "v",
         "showlegend": true,
         "textposition": "auto",
         "type": "bar",
         "x": [
          "coffee"
         ],
         "xaxis": "x",
         "y": [
          14
         ],
         "yaxis": "y"
        },
        {
         "alignmentgroup": "True",
         "hovertemplate": "wine_name=Champ Cain Extra Brut Champagne Grand Cru 'Avize'<br>keywords=%{x}<br>total_user_count=%{y}<extra></extra>",
         "legendgroup": "Champ Cain Extra Brut Champagne Grand Cru 'Avize'",
         "marker": {
          "color": "#636efa",
          "pattern": {
           "shape": ""
          }
         },
         "name": "Champ Cain Extra Brut Champagne Grand Cru 'Avize'",
         "offsetgroup": "Champ Cain Extra Brut Champagne Grand Cru 'Avize'",
         "orientation": "v",
         "showlegend": true,
         "textposition": "auto",
         "type": "bar",
         "x": [
          "toast"
         ],
         "xaxis": "x",
         "y": [
          14
         ],
         "yaxis": "y"
        },
        {
         "alignmentgroup": "True",
         "hovertemplate": "wine_name=Rioja Blanco Reserva<br>keywords=%{x}<br>total_user_count=%{y}<extra></extra>",
         "legendgroup": "Rioja Blanco Reserva",
         "marker": {
          "color": "#EF553B",
          "pattern": {
           "shape": ""
          }
         },
         "name": "Rioja Blanco Reserva",
         "offsetgroup": "Rioja Blanco Reserva",
         "orientation": "v",
         "showlegend": true,
         "textposition": "auto",
         "type": "bar",
         "x": [
          "cream",
          "citrus"
         ],
         "xaxis": "x",
         "y": [
          14,
          10
         ],
         "yaxis": "y"
        },
        {
         "alignmentgroup": "True",
         "hovertemplate": "wine_name=Meursault 1er Cru 'Les Genevrières'<br>keywords=%{x}<br>total_user_count=%{y}<extra></extra>",
         "legendgroup": "Meursault 1er Cru 'Les Genevrières'",
         "marker": {
          "color": "#00cc96",
          "pattern": {
           "shape": ""
          }
         },
         "name": "Meursault 1er Cru 'Les Genevrières'",
         "offsetgroup": "Meursault 1er Cru 'Les Genevrières'",
         "orientation": "v",
         "showlegend": true,
         "textposition": "auto",
         "type": "bar",
         "x": [
          "citrus"
         ],
         "xaxis": "x",
         "y": [
          13
         ],
         "yaxis": "y"
        },
        {
         "alignmentgroup": "True",
         "hovertemplate": "wine_name=Il San Lorenzo Bianco<br>keywords=%{x}<br>total_user_count=%{y}<extra></extra>",
         "legendgroup": "Il San Lorenzo Bianco",
         "marker": {
          "color": "#ab63fa",
          "pattern": {
           "shape": ""
          }
         },
         "name": "Il San Lorenzo Bianco",
         "offsetgroup": "Il San Lorenzo Bianco",
         "orientation": "v",
         "showlegend": true,
         "textposition": "auto",
         "type": "bar",
         "x": [
          "cream"
         ],
         "xaxis": "x",
         "y": [
          13
         ],
         "yaxis": "y"
        },
        {
         "alignmentgroup": "True",
         "hovertemplate": "wine_name=Ribera del Duero Prestigio<br>keywords=%{x}<br>total_user_count=%{y}<extra></extra>",
         "legendgroup": "Ribera del Duero Prestigio",
         "marker": {
          "color": "#FFA15A",
          "pattern": {
           "shape": ""
          }
         },
         "name": "Ribera del Duero Prestigio",
         "offsetgroup": "Ribera del Duero Prestigio",
         "orientation": "v",
         "showlegend": true,
         "textposition": "auto",
         "type": "bar",
         "x": [
          "coffee"
         ],
         "xaxis": "x",
         "y": [
          12
         ],
         "yaxis": "y"
        },
        {
         "alignmentgroup": "True",
         "hovertemplate": "wine_name=Barolo Cannubi Boschis<br>keywords=%{x}<br>total_user_count=%{y}<extra></extra>",
         "legendgroup": "Barolo Cannubi Boschis",
         "marker": {
          "color": "#19d3f3",
          "pattern": {
           "shape": ""
          }
         },
         "name": "Barolo Cannubi Boschis",
         "offsetgroup": "Barolo Cannubi Boschis",
         "orientation": "v",
         "showlegend": true,
         "textposition": "auto",
         "type": "bar",
         "x": [
          "coffee"
         ],
         "xaxis": "x",
         "y": [
          12
         ],
         "yaxis": "y"
        },
        {
         "alignmentgroup": "True",
         "hovertemplate": "wine_name=Châteauneuf-du-Pape Chaupin<br>keywords=%{x}<br>total_user_count=%{y}<extra></extra>",
         "legendgroup": "Châteauneuf-du-Pape Chaupin",
         "marker": {
          "color": "#FF6692",
          "pattern": {
           "shape": ""
          }
         },
         "name": "Châteauneuf-du-Pape Chaupin",
         "offsetgroup": "Châteauneuf-du-Pape Chaupin",
         "orientation": "v",
         "showlegend": true,
         "textposition": "auto",
         "type": "bar",
         "x": [
          "toast"
         ],
         "xaxis": "x",
         "y": [
          12
         ],
         "yaxis": "y"
        },
        {
         "alignmentgroup": "True",
         "hovertemplate": "wine_name=Crichet Pajè Barbaresco<br>keywords=%{x}<br>total_user_count=%{y}<extra></extra>",
         "legendgroup": "Crichet Pajè Barbaresco",
         "marker": {
          "color": "#B6E880",
          "pattern": {
           "shape": ""
          }
         },
         "name": "Crichet Pajè Barbaresco",
         "offsetgroup": "Crichet Pajè Barbaresco",
         "orientation": "v",
         "showlegend": true,
         "textposition": "auto",
         "type": "bar",
         "x": [
          "coffee"
         ],
         "xaxis": "x",
         "y": [
          12
         ],
         "yaxis": "y"
        },
        {
         "alignmentgroup": "True",
         "hovertemplate": "wine_name=Barbera d'Alba Vigna Francia<br>keywords=%{x}<br>total_user_count=%{y}<extra></extra>",
         "legendgroup": "Barbera d'Alba Vigna Francia",
         "marker": {
          "color": "#FF97FF",
          "pattern": {
           "shape": ""
          }
         },
         "name": "Barbera d'Alba Vigna Francia",
         "offsetgroup": "Barbera d'Alba Vigna Francia",
         "orientation": "v",
         "showlegend": true,
         "textposition": "auto",
         "type": "bar",
         "x": [
          "coffee"
         ],
         "xaxis": "x",
         "y": [
          12
         ],
         "yaxis": "y"
        },
        {
         "alignmentgroup": "True",
         "hovertemplate": "wine_name=Clos des Porrets Nuits-Saint-Georges 1er Cru<br>keywords=%{x}<br>total_user_count=%{y}<extra></extra>",
         "legendgroup": "Clos des Porrets Nuits-Saint-Georges 1er Cru",
         "marker": {
          "color": "#FECB52",
          "pattern": {
           "shape": ""
          }
         },
         "name": "Clos des Porrets Nuits-Saint-Georges 1er Cru",
         "offsetgroup": "Clos des Porrets Nuits-Saint-Georges 1er Cru",
         "orientation": "v",
         "showlegend": true,
         "textposition": "auto",
         "type": "bar",
         "x": [
          "coffee"
         ],
         "xaxis": "x",
         "y": [
          12
         ],
         "yaxis": "y"
        },
        {
         "alignmentgroup": "True",
         "hovertemplate": "wine_name=Bonnes-Mares Grand Cru<br>keywords=%{x}<br>total_user_count=%{y}<extra></extra>",
         "legendgroup": "Bonnes-Mares Grand Cru",
         "marker": {
          "color": "#636efa",
          "pattern": {
           "shape": ""
          }
         },
         "name": "Bonnes-Mares Grand Cru",
         "offsetgroup": "Bonnes-Mares Grand Cru",
         "orientation": "v",
         "showlegend": true,
         "textposition": "auto",
         "type": "bar",
         "x": [
          "coffee"
         ],
         "xaxis": "x",
         "y": [
          12
         ],
         "yaxis": "y"
        },
        {
         "alignmentgroup": "True",
         "hovertemplate": "wine_name=Barolo Cerequio<br>keywords=%{x}<br>total_user_count=%{y}<extra></extra>",
         "legendgroup": "Barolo Cerequio",
         "marker": {
          "color": "#EF553B",
          "pattern": {
           "shape": ""
          }
         },
         "name": "Barolo Cerequio",
         "offsetgroup": "Barolo Cerequio",
         "orientation": "v",
         "showlegend": true,
         "textposition": "auto",
         "type": "bar",
         "x": [
          "coffee"
         ],
         "xaxis": "x",
         "y": [
          12
         ],
         "yaxis": "y"
        },
        {
         "alignmentgroup": "True",
         "hovertemplate": "wine_name=Falletto Barolo Le Rocche del Falletto<br>keywords=%{x}<br>total_user_count=%{y}<extra></extra>",
         "legendgroup": "Falletto Barolo Le Rocche del Falletto",
         "marker": {
          "color": "#00cc96",
          "pattern": {
           "shape": ""
          }
         },
         "name": "Falletto Barolo Le Rocche del Falletto",
         "offsetgroup": "Falletto Barolo Le Rocche del Falletto",
         "orientation": "v",
         "showlegend": true,
         "textposition": "auto",
         "type": "bar",
         "x": [
          "coffee"
         ],
         "xaxis": "x",
         "y": [
          12
         ],
         "yaxis": "y"
        },
        {
         "alignmentgroup": "True",
         "hovertemplate": "wine_name=Côtes du Rhône<br>keywords=%{x}<br>total_user_count=%{y}<extra></extra>",
         "legendgroup": "Côtes du Rhône",
         "marker": {
          "color": "#ab63fa",
          "pattern": {
           "shape": ""
          }
         },
         "name": "Côtes du Rhône",
         "offsetgroup": "Côtes du Rhône",
         "orientation": "v",
         "showlegend": true,
         "textposition": "auto",
         "type": "bar",
         "x": [
          "coffee",
          "toast"
         ],
         "xaxis": "x",
         "y": [
          12,
          12
         ],
         "yaxis": "y"
        },
        {
         "alignmentgroup": "True",
         "hovertemplate": "wine_name=Camí Pesseroles<br>keywords=%{x}<br>total_user_count=%{y}<extra></extra>",
         "legendgroup": "Camí Pesseroles",
         "marker": {
          "color": "#FFA15A",
          "pattern": {
           "shape": ""
          }
         },
         "name": "Camí Pesseroles",
         "offsetgroup": "Camí Pesseroles",
         "orientation": "v",
         "showlegend": true,
         "textposition": "auto",
         "type": "bar",
         "x": [
          "toast"
         ],
         "xaxis": "x",
         "y": [
          12
         ],
         "yaxis": "y"
        },
        {
         "alignmentgroup": "True",
         "hovertemplate": "wine_name=Rapture Cabernet Sauvignon<br>keywords=%{x}<br>total_user_count=%{y}<extra></extra>",
         "legendgroup": "Rapture Cabernet Sauvignon",
         "marker": {
          "color": "#19d3f3",
          "pattern": {
           "shape": ""
          }
         },
         "name": "Rapture Cabernet Sauvignon",
         "offsetgroup": "Rapture Cabernet Sauvignon",
         "orientation": "v",
         "showlegend": true,
         "textposition": "auto",
         "type": "bar",
         "x": [
          "coffee"
         ],
         "xaxis": "x",
         "y": [
          12
         ],
         "yaxis": "y"
        },
        {
         "alignmentgroup": "True",
         "hovertemplate": "wine_name=Ozanne Blanc de Blancs Brut Champagne Grand Cru 'Avize'<br>keywords=%{x}<br>total_user_count=%{y}<extra></extra>",
         "legendgroup": "Ozanne Blanc de Blancs Brut Champagne Grand Cru 'Avize'",
         "marker": {
          "color": "#FF6692",
          "pattern": {
           "shape": ""
          }
         },
         "name": "Ozanne Blanc de Blancs Brut Champagne Grand Cru 'Avize'",
         "offsetgroup": "Ozanne Blanc de Blancs Brut Champagne Grand Cru 'Avize'",
         "orientation": "v",
         "showlegend": true,
         "textposition": "auto",
         "type": "bar",
         "x": [
          "toast"
         ],
         "xaxis": "x",
         "y": [
          12
         ],
         "yaxis": "y"
        },
        {
         "alignmentgroup": "True",
         "hovertemplate": "wine_name=Tenuta Guado al Tasso Matarocchio<br>keywords=%{x}<br>total_user_count=%{y}<extra></extra>",
         "legendgroup": "Tenuta Guado al Tasso Matarocchio",
         "marker": {
          "color": "#B6E880",
          "pattern": {
           "shape": ""
          }
         },
         "name": "Tenuta Guado al Tasso Matarocchio",
         "offsetgroup": "Tenuta Guado al Tasso Matarocchio",
         "orientation": "v",
         "showlegend": true,
         "textposition": "auto",
         "type": "bar",
         "x": [
          "coffee",
          "toast"
         ],
         "xaxis": "x",
         "y": [
          12,
          10
         ],
         "yaxis": "y"
        },
        {
         "alignmentgroup": "True",
         "hovertemplate": "wine_name=Châteauneuf-du-Pape Amiral G<br>keywords=%{x}<br>total_user_count=%{y}<extra></extra>",
         "legendgroup": "Châteauneuf-du-Pape Amiral G",
         "marker": {
          "color": "#FF97FF",
          "pattern": {
           "shape": ""
          }
         },
         "name": "Châteauneuf-du-Pape Amiral G",
         "offsetgroup": "Châteauneuf-du-Pape Amiral G",
         "orientation": "v",
         "showlegend": true,
         "textposition": "auto",
         "type": "bar",
         "x": [
          "coffee"
         ],
         "xaxis": "x",
         "y": [
          12
         ],
         "yaxis": "y"
        },
        {
         "alignmentgroup": "True",
         "hovertemplate": "wine_name=Don PX Selección<br>keywords=%{x}<br>total_user_count=%{y}<extra></extra>",
         "legendgroup": "Don PX Selección",
         "marker": {
          "color": "#FECB52",
          "pattern": {
           "shape": ""
          }
         },
         "name": "Don PX Selección",
         "offsetgroup": "Don PX Selección",
         "orientation": "v",
         "showlegend": true,
         "textposition": "auto",
         "type": "bar",
         "x": [
          "coffee"
         ],
         "xaxis": "x",
         "y": [
          12
         ],
         "yaxis": "y"
        },
        {
         "alignmentgroup": "True",
         "hovertemplate": "wine_name=Ginés Liébana Pedro Ximénez<br>keywords=%{x}<br>total_user_count=%{y}<extra></extra>",
         "legendgroup": "Ginés Liébana Pedro Ximénez",
         "marker": {
          "color": "#636efa",
          "pattern": {
           "shape": ""
          }
         },
         "name": "Ginés Liébana Pedro Ximénez",
         "offsetgroup": "Ginés Liébana Pedro Ximénez",
         "orientation": "v",
         "showlegend": true,
         "textposition": "auto",
         "type": "bar",
         "x": [
          "coffee"
         ],
         "xaxis": "x",
         "y": [
          12
         ],
         "yaxis": "y"
        },
        {
         "alignmentgroup": "True",
         "hovertemplate": "wine_name=Gorgona<br>keywords=%{x}<br>total_user_count=%{y}<extra></extra>",
         "legendgroup": "Gorgona",
         "marker": {
          "color": "#EF553B",
          "pattern": {
           "shape": ""
          }
         },
         "name": "Gorgona",
         "offsetgroup": "Gorgona",
         "orientation": "v",
         "showlegend": true,
         "textposition": "auto",
         "type": "bar",
         "x": [
          "cream"
         ],
         "xaxis": "x",
         "y": [
          12
         ],
         "yaxis": "y"
        },
        {
         "alignmentgroup": "True",
         "hovertemplate": "wine_name=Royal St Robert Cuvée Pinot Noir<br>keywords=%{x}<br>total_user_count=%{y}<extra></extra>",
         "legendgroup": "Royal St Robert Cuvée Pinot Noir",
         "marker": {
          "color": "#00cc96",
          "pattern": {
           "shape": ""
          }
         },
         "name": "Royal St Robert Cuvée Pinot Noir",
         "offsetgroup": "Royal St Robert Cuvée Pinot Noir",
         "orientation": "v",
         "showlegend": true,
         "textposition": "auto",
         "type": "bar",
         "x": [
          "toast"
         ],
         "xaxis": "x",
         "y": [
          12
         ],
         "yaxis": "y"
        },
        {
         "alignmentgroup": "True",
         "hovertemplate": "wine_name=Il Bacca Old Vine Primitivo di Manduria<br>keywords=%{x}<br>total_user_count=%{y}<extra></extra>",
         "legendgroup": "Il Bacca Old Vine Primitivo di Manduria",
         "marker": {
          "color": "#ab63fa",
          "pattern": {
           "shape": ""
          }
         },
         "name": "Il Bacca Old Vine Primitivo di Manduria",
         "offsetgroup": "Il Bacca Old Vine Primitivo di Manduria",
         "orientation": "v",
         "showlegend": true,
         "textposition": "auto",
         "type": "bar",
         "x": [
          "coffee"
         ],
         "xaxis": "x",
         "y": [
          12
         ],
         "yaxis": "y"
        },
        {
         "alignmentgroup": "True",
         "hovertemplate": "wine_name=50 Old Vines Vecchie Vigne Negroamaro<br>keywords=%{x}<br>total_user_count=%{y}<extra></extra>",
         "legendgroup": "50 Old Vines Vecchie Vigne Negroamaro",
         "marker": {
          "color": "#FFA15A",
          "pattern": {
           "shape": ""
          }
         },
         "name": "50 Old Vines Vecchie Vigne Negroamaro",
         "offsetgroup": "50 Old Vines Vecchie Vigne Negroamaro",
         "orientation": "v",
         "showlegend": true,
         "textposition": "auto",
         "type": "bar",
         "x": [
          "coffee"
         ],
         "xaxis": "x",
         "y": [
          12
         ],
         "yaxis": "y"
        },
        {
         "alignmentgroup": "True",
         "hovertemplate": "wine_name=Paralupi Appassimento<br>keywords=%{x}<br>total_user_count=%{y}<extra></extra>",
         "legendgroup": "Paralupi Appassimento",
         "marker": {
          "color": "#19d3f3",
          "pattern": {
           "shape": ""
          }
         },
         "name": "Paralupi Appassimento",
         "offsetgroup": "Paralupi Appassimento",
         "orientation": "v",
         "showlegend": true,
         "textposition": "auto",
         "type": "bar",
         "x": [
          "coffee"
         ],
         "xaxis": "x",
         "y": [
          12
         ],
         "yaxis": "y"
        },
        {
         "alignmentgroup": "True",
         "hovertemplate": "wine_name=Châteauneuf-du-Pape Réservé Blanc<br>keywords=%{x}<br>total_user_count=%{y}<extra></extra>",
         "legendgroup": "Châteauneuf-du-Pape Réservé Blanc",
         "marker": {
          "color": "#FF6692",
          "pattern": {
           "shape": ""
          }
         },
         "name": "Châteauneuf-du-Pape Réservé Blanc",
         "offsetgroup": "Châteauneuf-du-Pape Réservé Blanc",
         "orientation": "v",
         "showlegend": true,
         "textposition": "auto",
         "type": "bar",
         "x": [
          "citrus",
          "toast"
         ],
         "xaxis": "x",
         "y": [
          11,
          10
         ],
         "yaxis": "y"
        },
        {
         "alignmentgroup": "True",
         "hovertemplate": "wine_name=Cinque Autoctoni Collection Limited Release<br>keywords=%{x}<br>total_user_count=%{y}<extra></extra>",
         "legendgroup": "Cinque Autoctoni Collection Limited Release",
         "marker": {
          "color": "#B6E880",
          "pattern": {
           "shape": ""
          }
         },
         "name": "Cinque Autoctoni Collection Limited Release",
         "offsetgroup": "Cinque Autoctoni Collection Limited Release",
         "orientation": "v",
         "showlegend": true,
         "textposition": "auto",
         "type": "bar",
         "x": [
          "cream"
         ],
         "xaxis": "x",
         "y": [
          11
         ],
         "yaxis": "y"
        },
        {
         "alignmentgroup": "True",
         "hovertemplate": "wine_name=Rioja 150 Aniversario<br>keywords=%{x}<br>total_user_count=%{y}<extra></extra>",
         "legendgroup": "Rioja 150 Aniversario",
         "marker": {
          "color": "#FF97FF",
          "pattern": {
           "shape": ""
          }
         },
         "name": "Rioja 150 Aniversario",
         "offsetgroup": "Rioja 150 Aniversario",
         "orientation": "v",
         "showlegend": true,
         "textposition": "auto",
         "type": "bar",
         "x": [
          "toast"
         ],
         "xaxis": "x",
         "y": [
          10
         ],
         "yaxis": "y"
        },
        {
         "alignmentgroup": "True",
         "hovertemplate": "wine_name=La Muse<br>keywords=%{x}<br>total_user_count=%{y}<extra></extra>",
         "legendgroup": "La Muse",
         "marker": {
          "color": "#FECB52",
          "pattern": {
           "shape": ""
          }
         },
         "name": "La Muse",
         "offsetgroup": "La Muse",
         "orientation": "v",
         "showlegend": true,
         "textposition": "auto",
         "type": "bar",
         "x": [
          "coffee",
          "toast"
         ],
         "xaxis": "x",
         "y": [
          10,
          10
         ],
         "yaxis": "y"
        },
        {
         "alignmentgroup": "True",
         "hovertemplate": "wine_name=Falletto Barolo<br>keywords=%{x}<br>total_user_count=%{y}<extra></extra>",
         "legendgroup": "Falletto Barolo",
         "marker": {
          "color": "#636efa",
          "pattern": {
           "shape": ""
          }
         },
         "name": "Falletto Barolo",
         "offsetgroup": "Falletto Barolo",
         "orientation": "v",
         "showlegend": true,
         "textposition": "auto",
         "type": "bar",
         "x": [
          "coffee"
         ],
         "xaxis": "x",
         "y": [
          10
         ],
         "yaxis": "y"
        },
        {
         "alignmentgroup": "True",
         "hovertemplate": "wine_name=Les Bessards Hermitage<br>keywords=%{x}<br>total_user_count=%{y}<extra></extra>",
         "legendgroup": "Les Bessards Hermitage",
         "marker": {
          "color": "#EF553B",
          "pattern": {
           "shape": ""
          }
         },
         "name": "Les Bessards Hermitage",
         "offsetgroup": "Les Bessards Hermitage",
         "orientation": "v",
         "showlegend": true,
         "textposition": "auto",
         "type": "bar",
         "x": [
          "coffee"
         ],
         "xaxis": "x",
         "y": [
          10
         ],
         "yaxis": "y"
        },
        {
         "alignmentgroup": "True",
         "hovertemplate": "wine_name=Chambertin Clos de Bèze Grand Cru<br>keywords=%{x}<br>total_user_count=%{y}<extra></extra>",
         "legendgroup": "Chambertin Clos de Bèze Grand Cru",
         "marker": {
          "color": "#00cc96",
          "pattern": {
           "shape": ""
          }
         },
         "name": "Chambertin Clos de Bèze Grand Cru",
         "offsetgroup": "Chambertin Clos de Bèze Grand Cru",
         "orientation": "v",
         "showlegend": true,
         "textposition": "auto",
         "type": "bar",
         "x": [
          "coffee",
          "coffee"
         ],
         "xaxis": "x",
         "y": [
          10,
          10
         ],
         "yaxis": "y"
        },
        {
         "alignmentgroup": "True",
         "hovertemplate": "wine_name=Conde de Superunda<br>keywords=%{x}<br>total_user_count=%{y}<extra></extra>",
         "legendgroup": "Conde de Superunda",
         "marker": {
          "color": "#ab63fa",
          "pattern": {
           "shape": ""
          }
         },
         "name": "Conde de Superunda",
         "offsetgroup": "Conde de Superunda",
         "orientation": "v",
         "showlegend": true,
         "textposition": "auto",
         "type": "bar",
         "x": [
          "coffee"
         ],
         "xaxis": "x",
         "y": [
          10
         ],
         "yaxis": "y"
        },
        {
         "alignmentgroup": "True",
         "hovertemplate": "wine_name=Barolo Bussia Romirasco<br>keywords=%{x}<br>total_user_count=%{y}<extra></extra>",
         "legendgroup": "Barolo Bussia Romirasco",
         "marker": {
          "color": "#FFA15A",
          "pattern": {
           "shape": ""
          }
         },
         "name": "Barolo Bussia Romirasco",
         "offsetgroup": "Barolo Bussia Romirasco",
         "orientation": "v",
         "showlegend": true,
         "textposition": "auto",
         "type": "bar",
         "x": [
          "coffee"
         ],
         "xaxis": "x",
         "y": [
          10
         ],
         "yaxis": "y"
        },
        {
         "alignmentgroup": "True",
         "hovertemplate": "wine_name=Barolo Riserva Vigna Rionda<br>keywords=%{x}<br>total_user_count=%{y}<extra></extra>",
         "legendgroup": "Barolo Riserva Vigna Rionda",
         "marker": {
          "color": "#19d3f3",
          "pattern": {
           "shape": ""
          }
         },
         "name": "Barolo Riserva Vigna Rionda",
         "offsetgroup": "Barolo Riserva Vigna Rionda",
         "orientation": "v",
         "showlegend": true,
         "textposition": "auto",
         "type": "bar",
         "x": [
          "coffee"
         ],
         "xaxis": "x",
         "y": [
          10
         ],
         "yaxis": "y"
        },
        {
         "alignmentgroup": "True",
         "hovertemplate": "wine_name=Chambolle-Musigny<br>keywords=%{x}<br>total_user_count=%{y}<extra></extra>",
         "legendgroup": "Chambolle-Musigny",
         "marker": {
          "color": "#FF6692",
          "pattern": {
           "shape": ""
          }
         },
         "name": "Chambolle-Musigny",
         "offsetgroup": "Chambolle-Musigny",
         "orientation": "v",
         "showlegend": true,
         "textposition": "auto",
         "type": "bar",
         "x": [
          "toast"
         ],
         "xaxis": "x",
         "y": [
          10
         ],
         "yaxis": "y"
        },
        {
         "alignmentgroup": "True",
         "hovertemplate": "wine_name=Clos de L'Obac<br>keywords=%{x}<br>total_user_count=%{y}<extra></extra>",
         "legendgroup": "Clos de L'Obac",
         "marker": {
          "color": "#B6E880",
          "pattern": {
           "shape": ""
          }
         },
         "name": "Clos de L'Obac",
         "offsetgroup": "Clos de L'Obac",
         "orientation": "v",
         "showlegend": true,
         "textposition": "auto",
         "type": "bar",
         "x": [
          "coffee"
         ],
         "xaxis": "x",
         "y": [
          10
         ],
         "yaxis": "y"
        },
        {
         "alignmentgroup": "True",
         "hovertemplate": "wine_name=Attunga 1865 Shiraz<br>keywords=%{x}<br>total_user_count=%{y}<extra></extra>",
         "legendgroup": "Attunga 1865 Shiraz",
         "marker": {
          "color": "#FF97FF",
          "pattern": {
           "shape": ""
          }
         },
         "name": "Attunga 1865 Shiraz",
         "offsetgroup": "Attunga 1865 Shiraz",
         "orientation": "v",
         "showlegend": true,
         "textposition": "auto",
         "type": "bar",
         "x": [
          "coffee"
         ],
         "xaxis": "x",
         "y": [
          10
         ],
         "yaxis": "y"
        },
        {
         "alignmentgroup": "True",
         "hovertemplate": "wine_name=Montelìg<br>keywords=%{x}<br>total_user_count=%{y}<extra></extra>",
         "legendgroup": "Montelìg",
         "marker": {
          "color": "#FECB52",
          "pattern": {
           "shape": ""
          }
         },
         "name": "Montelìg",
         "offsetgroup": "Montelìg",
         "orientation": "v",
         "showlegend": true,
         "textposition": "auto",
         "type": "bar",
         "x": [
          "coffee"
         ],
         "xaxis": "x",
         "y": [
          10
         ],
         "yaxis": "y"
        },
        {
         "alignmentgroup": "True",
         "hovertemplate": "wine_name=Falletto Barbaresco Asili<br>keywords=%{x}<br>total_user_count=%{y}<extra></extra>",
         "legendgroup": "Falletto Barbaresco Asili",
         "marker": {
          "color": "#636efa",
          "pattern": {
           "shape": ""
          }
         },
         "name": "Falletto Barbaresco Asili",
         "offsetgroup": "Falletto Barbaresco Asili",
         "orientation": "v",
         "showlegend": true,
         "textposition": "auto",
         "type": "bar",
         "x": [
          "coffee"
         ],
         "xaxis": "x",
         "y": [
          10
         ],
         "yaxis": "y"
        },
        {
         "alignmentgroup": "True",
         "hovertemplate": "wine_name=Tenuta Montebello Picconero<br>keywords=%{x}<br>total_user_count=%{y}<extra></extra>",
         "legendgroup": "Tenuta Montebello Picconero",
         "marker": {
          "color": "#EF553B",
          "pattern": {
           "shape": ""
          }
         },
         "name": "Tenuta Montebello Picconero",
         "offsetgroup": "Tenuta Montebello Picconero",
         "orientation": "v",
         "showlegend": true,
         "textposition": "auto",
         "type": "bar",
         "x": [
          "coffee"
         ],
         "xaxis": "x",
         "y": [
          10
         ],
         "yaxis": "y"
        },
        {
         "alignmentgroup": "True",
         "hovertemplate": "wine_name=Gran Malbec (X)<br>keywords=%{x}<br>total_user_count=%{y}<extra></extra>",
         "legendgroup": "Gran Malbec (X)",
         "marker": {
          "color": "#00cc96",
          "pattern": {
           "shape": ""
          }
         },
         "name": "Gran Malbec (X)",
         "offsetgroup": "Gran Malbec (X)",
         "orientation": "v",
         "showlegend": true,
         "textposition": "auto",
         "type": "bar",
         "x": [
          "coffee"
         ],
         "xaxis": "x",
         "y": [
          10
         ],
         "yaxis": "y"
        },
        {
         "alignmentgroup": "True",
         "hovertemplate": "wine_name=Vosne-Romanée Premier Cru Les Suchots<br>keywords=%{x}<br>total_user_count=%{y}<extra></extra>",
         "legendgroup": "Vosne-Romanée Premier Cru Les Suchots",
         "marker": {
          "color": "#ab63fa",
          "pattern": {
           "shape": ""
          }
         },
         "name": "Vosne-Romanée Premier Cru Les Suchots",
         "offsetgroup": "Vosne-Romanée Premier Cru Les Suchots",
         "orientation": "v",
         "showlegend": true,
         "textposition": "auto",
         "type": "bar",
         "x": [
          "toast"
         ],
         "xaxis": "x",
         "y": [
          10
         ],
         "yaxis": "y"
        },
        {
         "alignmentgroup": "True",
         "hovertemplate": "wine_name=Graticciaia<br>keywords=%{x}<br>total_user_count=%{y}<extra></extra>",
         "legendgroup": "Graticciaia",
         "marker": {
          "color": "#FFA15A",
          "pattern": {
           "shape": ""
          }
         },
         "name": "Graticciaia",
         "offsetgroup": "Graticciaia",
         "orientation": "v",
         "showlegend": true,
         "textposition": "auto",
         "type": "bar",
         "x": [
          "coffee"
         ],
         "xaxis": "x",
         "y": [
          10
         ],
         "yaxis": "y"
        },
        {
         "alignmentgroup": "True",
         "hovertemplate": "wine_name=The Laird<br>keywords=%{x}<br>total_user_count=%{y}<extra></extra>",
         "legendgroup": "The Laird",
         "marker": {
          "color": "#19d3f3",
          "pattern": {
           "shape": ""
          }
         },
         "name": "The Laird",
         "offsetgroup": "The Laird",
         "orientation": "v",
         "showlegend": true,
         "textposition": "auto",
         "type": "bar",
         "x": [
          "coffee"
         ],
         "xaxis": "x",
         "y": [
          10
         ],
         "yaxis": "y"
        },
        {
         "alignmentgroup": "True",
         "hovertemplate": "wine_name=Musigny Grand Cru (Cuveé Vieilles Vignes)<br>keywords=%{x}<br>total_user_count=%{y}<extra></extra>",
         "legendgroup": "Musigny Grand Cru (Cuveé Vieilles Vignes)",
         "marker": {
          "color": "#FF6692",
          "pattern": {
           "shape": ""
          }
         },
         "name": "Musigny Grand Cru (Cuveé Vieilles Vignes)",
         "offsetgroup": "Musigny Grand Cru (Cuveé Vieilles Vignes)",
         "orientation": "v",
         "showlegend": true,
         "textposition": "auto",
         "type": "bar",
         "x": [
          "cream"
         ],
         "xaxis": "x",
         "y": [
          10
         ],
         "yaxis": "y"
        },
        {
         "alignmentgroup": "True",
         "hovertemplate": "wine_name=Rocche dell'Annunziata Barolo Riserva<br>keywords=%{x}<br>total_user_count=%{y}<extra></extra>",
         "legendgroup": "Rocche dell'Annunziata Barolo Riserva",
         "marker": {
          "color": "#B6E880",
          "pattern": {
           "shape": ""
          }
         },
         "name": "Rocche dell'Annunziata Barolo Riserva",
         "offsetgroup": "Rocche dell'Annunziata Barolo Riserva",
         "orientation": "v",
         "showlegend": true,
         "textposition": "auto",
         "type": "bar",
         "x": [
          "coffee"
         ],
         "xaxis": "x",
         "y": [
          10
         ],
         "yaxis": "y"
        },
        {
         "alignmentgroup": "True",
         "hovertemplate": "wine_name=Barolo Bussia<br>keywords=%{x}<br>total_user_count=%{y}<extra></extra>",
         "legendgroup": "Barolo Bussia",
         "marker": {
          "color": "#FF97FF",
          "pattern": {
           "shape": ""
          }
         },
         "name": "Barolo Bussia",
         "offsetgroup": "Barolo Bussia",
         "orientation": "v",
         "showlegend": true,
         "textposition": "auto",
         "type": "bar",
         "x": [
          "coffee"
         ],
         "xaxis": "x",
         "y": [
          10
         ],
         "yaxis": "y"
        },
        {
         "alignmentgroup": "True",
         "hovertemplate": "wine_name=Amancio<br>keywords=%{x}<br>total_user_count=%{y}<extra></extra>",
         "legendgroup": "Amancio",
         "marker": {
          "color": "#FECB52",
          "pattern": {
           "shape": ""
          }
         },
         "name": "Amancio",
         "offsetgroup": "Amancio",
         "orientation": "v",
         "showlegend": true,
         "textposition": "auto",
         "type": "bar",
         "x": [
          "coffee"
         ],
         "xaxis": "x",
         "y": [
          10
         ],
         "yaxis": "y"
        },
        {
         "alignmentgroup": "True",
         "hovertemplate": "wine_name=Clos de Bèze Grand Cru<br>keywords=%{x}<br>total_user_count=%{y}<extra></extra>",
         "legendgroup": "Clos de Bèze Grand Cru",
         "marker": {
          "color": "#636efa",
          "pattern": {
           "shape": ""
          }
         },
         "name": "Clos de Bèze Grand Cru",
         "offsetgroup": "Clos de Bèze Grand Cru",
         "orientation": "v",
         "showlegend": true,
         "textposition": "auto",
         "type": "bar",
         "x": [
          "coffee"
         ],
         "xaxis": "x",
         "y": [
          10
         ],
         "yaxis": "y"
        },
        {
         "alignmentgroup": "True",
         "hovertemplate": "wine_name=Poggio Alle Nane Maremma Toscana<br>keywords=%{x}<br>total_user_count=%{y}<extra></extra>",
         "legendgroup": "Poggio Alle Nane Maremma Toscana",
         "marker": {
          "color": "#EF553B",
          "pattern": {
           "shape": ""
          }
         },
         "name": "Poggio Alle Nane Maremma Toscana",
         "offsetgroup": "Poggio Alle Nane Maremma Toscana",
         "orientation": "v",
         "showlegend": true,
         "textposition": "auto",
         "type": "bar",
         "x": [
          "coffee"
         ],
         "xaxis": "x",
         "y": [
          10
         ],
         "yaxis": "y"
        },
        {
         "alignmentgroup": "True",
         "hovertemplate": "wine_name=Maria Adelaide Barbaresco<br>keywords=%{x}<br>total_user_count=%{y}<extra></extra>",
         "legendgroup": "Maria Adelaide Barbaresco",
         "marker": {
          "color": "#00cc96",
          "pattern": {
           "shape": ""
          }
         },
         "name": "Maria Adelaide Barbaresco",
         "offsetgroup": "Maria Adelaide Barbaresco",
         "orientation": "v",
         "showlegend": true,
         "textposition": "auto",
         "type": "bar",
         "x": [
          "coffee"
         ],
         "xaxis": "x",
         "y": [
          10
         ],
         "yaxis": "y"
        },
        {
         "alignmentgroup": "True",
         "hovertemplate": "wine_name=Reserva Particular de Recaredo Gran Reserva Brut Nature<br>keywords=%{x}<br>total_user_count=%{y}<extra></extra>",
         "legendgroup": "Reserva Particular de Recaredo Gran Reserva Brut Nature",
         "marker": {
          "color": "#ab63fa",
          "pattern": {
           "shape": ""
          }
         },
         "name": "Reserva Particular de Recaredo Gran Reserva Brut Nature",
         "offsetgroup": "Reserva Particular de Recaredo Gran Reserva Brut Nature",
         "orientation": "v",
         "showlegend": true,
         "textposition": "auto",
         "type": "bar",
         "x": [
          "toast"
         ],
         "xaxis": "x",
         "y": [
          10
         ],
         "yaxis": "y"
        },
        {
         "alignmentgroup": "True",
         "hovertemplate": "wine_name=Son Negre<br>keywords=%{x}<br>total_user_count=%{y}<extra></extra>",
         "legendgroup": "Son Negre",
         "marker": {
          "color": "#FFA15A",
          "pattern": {
           "shape": ""
          }
         },
         "name": "Son Negre",
         "offsetgroup": "Son Negre",
         "orientation": "v",
         "showlegend": true,
         "textposition": "auto",
         "type": "bar",
         "x": [
          "coffee"
         ],
         "xaxis": "x",
         "y": [
          10
         ],
         "yaxis": "y"
        },
        {
         "alignmentgroup": "True",
         "hovertemplate": "wine_name=Puligny-Montrachet Premier Cru Les Combettes<br>keywords=%{x}<br>total_user_count=%{y}<extra></extra>",
         "legendgroup": "Puligny-Montrachet Premier Cru Les Combettes",
         "marker": {
          "color": "#19d3f3",
          "pattern": {
           "shape": ""
          }
         },
         "name": "Puligny-Montrachet Premier Cru Les Combettes",
         "offsetgroup": "Puligny-Montrachet Premier Cru Les Combettes",
         "orientation": "v",
         "showlegend": true,
         "textposition": "auto",
         "type": "bar",
         "x": [
          "cream",
          "toast"
         ],
         "xaxis": "x",
         "y": [
          10,
          10
         ],
         "yaxis": "y"
        },
        {
         "alignmentgroup": "True",
         "hovertemplate": "wine_name=Amarone della Valpolicella Riserva<br>keywords=%{x}<br>total_user_count=%{y}<extra></extra>",
         "legendgroup": "Amarone della Valpolicella Riserva",
         "marker": {
          "color": "#FF6692",
          "pattern": {
           "shape": ""
          }
         },
         "name": "Amarone della Valpolicella Riserva",
         "offsetgroup": "Amarone della Valpolicella Riserva",
         "orientation": "v",
         "showlegend": true,
         "textposition": "auto",
         "type": "bar",
         "x": [
          "coffee"
         ],
         "xaxis": "x",
         "y": [
          10
         ],
         "yaxis": "y"
        },
        {
         "alignmentgroup": "True",
         "hovertemplate": "wine_name=30 Year Old Tawny Port<br>keywords=%{x}<br>total_user_count=%{y}<extra></extra>",
         "legendgroup": "30 Year Old Tawny Port",
         "marker": {
          "color": "#B6E880",
          "pattern": {
           "shape": ""
          }
         },
         "name": "30 Year Old Tawny Port",
         "offsetgroup": "30 Year Old Tawny Port",
         "orientation": "v",
         "showlegend": true,
         "textposition": "auto",
         "type": "bar",
         "x": [
          "coffee"
         ],
         "xaxis": "x",
         "y": [
          10
         ],
         "yaxis": "y"
        },
        {
         "alignmentgroup": "True",
         "hovertemplate": "wine_name=Kapnios Aglianico<br>keywords=%{x}<br>total_user_count=%{y}<extra></extra>",
         "legendgroup": "Kapnios Aglianico",
         "marker": {
          "color": "#FF97FF",
          "pattern": {
           "shape": ""
          }
         },
         "name": "Kapnios Aglianico",
         "offsetgroup": "Kapnios Aglianico",
         "orientation": "v",
         "showlegend": true,
         "textposition": "auto",
         "type": "bar",
         "x": [
          "coffee"
         ],
         "xaxis": "x",
         "y": [
          10
         ],
         "yaxis": "y"
        },
        {
         "alignmentgroup": "True",
         "hovertemplate": "wine_name=Lupi e Sirene Riserva<br>keywords=%{x}<br>total_user_count=%{y}<extra></extra>",
         "legendgroup": "Lupi e Sirene Riserva",
         "marker": {
          "color": "#FECB52",
          "pattern": {
           "shape": ""
          }
         },
         "name": "Lupi e Sirene Riserva",
         "offsetgroup": "Lupi e Sirene Riserva",
         "orientation": "v",
         "showlegend": true,
         "textposition": "auto",
         "type": "bar",
         "x": [
          "coffee"
         ],
         "xaxis": "x",
         "y": [
          10
         ],
         "yaxis": "y"
        },
        {
         "alignmentgroup": "True",
         "hovertemplate": "wine_name=Vigna Grande Cerzito Taurasi Riserva<br>keywords=%{x}<br>total_user_count=%{y}<extra></extra>",
         "legendgroup": "Vigna Grande Cerzito Taurasi Riserva",
         "marker": {
          "color": "#636efa",
          "pattern": {
           "shape": ""
          }
         },
         "name": "Vigna Grande Cerzito Taurasi Riserva",
         "offsetgroup": "Vigna Grande Cerzito Taurasi Riserva",
         "orientation": "v",
         "showlegend": true,
         "textposition": "auto",
         "type": "bar",
         "x": [
          "coffee"
         ],
         "xaxis": "x",
         "y": [
          10
         ],
         "yaxis": "y"
        },
        {
         "alignmentgroup": "True",
         "hovertemplate": "wine_name=Rioja Reserva 10 Años Después Edición Limitada<br>keywords=%{x}<br>total_user_count=%{y}<extra></extra>",
         "legendgroup": "Rioja Reserva 10 Años Después Edición Limitada",
         "marker": {
          "color": "#EF553B",
          "pattern": {
           "shape": ""
          }
         },
         "name": "Rioja Reserva 10 Años Después Edición Limitada",
         "offsetgroup": "Rioja Reserva 10 Años Después Edición Limitada",
         "orientation": "v",
         "showlegend": true,
         "textposition": "auto",
         "type": "bar",
         "x": [
          "coffee"
         ],
         "xaxis": "x",
         "y": [
          10
         ],
         "yaxis": "y"
        },
        {
         "alignmentgroup": "True",
         "hovertemplate": "wine_name=Estate Reserve Viognier<br>keywords=%{x}<br>total_user_count=%{y}<extra></extra>",
         "legendgroup": "Estate Reserve Viognier",
         "marker": {
          "color": "#00cc96",
          "pattern": {
           "shape": ""
          }
         },
         "name": "Estate Reserve Viognier",
         "offsetgroup": "Estate Reserve Viognier",
         "orientation": "v",
         "showlegend": true,
         "textposition": "auto",
         "type": "bar",
         "x": [
          "citrus"
         ],
         "xaxis": "x",
         "y": [
          10
         ],
         "yaxis": "y"
        }
       ],
       "layout": {
        "barmode": "relative",
        "legend": {
         "title": {
          "text": "wine_name"
         },
         "tracegroupgap": 0
        },
        "template": {
         "data": {
          "bar": [
           {
            "error_x": {
             "color": "#2a3f5f"
            },
            "error_y": {
             "color": "#2a3f5f"
            },
            "marker": {
             "line": {
              "color": "#E5ECF6",
              "width": 0.5
             },
             "pattern": {
              "fillmode": "overlay",
              "size": 10,
              "solidity": 0.2
             }
            },
            "type": "bar"
           }
          ],
          "barpolar": [
           {
            "marker": {
             "line": {
              "color": "#E5ECF6",
              "width": 0.5
             },
             "pattern": {
              "fillmode": "overlay",
              "size": 10,
              "solidity": 0.2
             }
            },
            "type": "barpolar"
           }
          ],
          "carpet": [
           {
            "aaxis": {
             "endlinecolor": "#2a3f5f",
             "gridcolor": "white",
             "linecolor": "white",
             "minorgridcolor": "white",
             "startlinecolor": "#2a3f5f"
            },
            "baxis": {
             "endlinecolor": "#2a3f5f",
             "gridcolor": "white",
             "linecolor": "white",
             "minorgridcolor": "white",
             "startlinecolor": "#2a3f5f"
            },
            "type": "carpet"
           }
          ],
          "choropleth": [
           {
            "colorbar": {
             "outlinewidth": 0,
             "ticks": ""
            },
            "type": "choropleth"
           }
          ],
          "contour": [
           {
            "colorbar": {
             "outlinewidth": 0,
             "ticks": ""
            },
            "colorscale": [
             [
              0,
              "#0d0887"
             ],
             [
              0.1111111111111111,
              "#46039f"
             ],
             [
              0.2222222222222222,
              "#7201a8"
             ],
             [
              0.3333333333333333,
              "#9c179e"
             ],
             [
              0.4444444444444444,
              "#bd3786"
             ],
             [
              0.5555555555555556,
              "#d8576b"
             ],
             [
              0.6666666666666666,
              "#ed7953"
             ],
             [
              0.7777777777777778,
              "#fb9f3a"
             ],
             [
              0.8888888888888888,
              "#fdca26"
             ],
             [
              1,
              "#f0f921"
             ]
            ],
            "type": "contour"
           }
          ],
          "contourcarpet": [
           {
            "colorbar": {
             "outlinewidth": 0,
             "ticks": ""
            },
            "type": "contourcarpet"
           }
          ],
          "heatmap": [
           {
            "colorbar": {
             "outlinewidth": 0,
             "ticks": ""
            },
            "colorscale": [
             [
              0,
              "#0d0887"
             ],
             [
              0.1111111111111111,
              "#46039f"
             ],
             [
              0.2222222222222222,
              "#7201a8"
             ],
             [
              0.3333333333333333,
              "#9c179e"
             ],
             [
              0.4444444444444444,
              "#bd3786"
             ],
             [
              0.5555555555555556,
              "#d8576b"
             ],
             [
              0.6666666666666666,
              "#ed7953"
             ],
             [
              0.7777777777777778,
              "#fb9f3a"
             ],
             [
              0.8888888888888888,
              "#fdca26"
             ],
             [
              1,
              "#f0f921"
             ]
            ],
            "type": "heatmap"
           }
          ],
          "heatmapgl": [
           {
            "colorbar": {
             "outlinewidth": 0,
             "ticks": ""
            },
            "colorscale": [
             [
              0,
              "#0d0887"
             ],
             [
              0.1111111111111111,
              "#46039f"
             ],
             [
              0.2222222222222222,
              "#7201a8"
             ],
             [
              0.3333333333333333,
              "#9c179e"
             ],
             [
              0.4444444444444444,
              "#bd3786"
             ],
             [
              0.5555555555555556,
              "#d8576b"
             ],
             [
              0.6666666666666666,
              "#ed7953"
             ],
             [
              0.7777777777777778,
              "#fb9f3a"
             ],
             [
              0.8888888888888888,
              "#fdca26"
             ],
             [
              1,
              "#f0f921"
             ]
            ],
            "type": "heatmapgl"
           }
          ],
          "histogram": [
           {
            "marker": {
             "pattern": {
              "fillmode": "overlay",
              "size": 10,
              "solidity": 0.2
             }
            },
            "type": "histogram"
           }
          ],
          "histogram2d": [
           {
            "colorbar": {
             "outlinewidth": 0,
             "ticks": ""
            },
            "colorscale": [
             [
              0,
              "#0d0887"
             ],
             [
              0.1111111111111111,
              "#46039f"
             ],
             [
              0.2222222222222222,
              "#7201a8"
             ],
             [
              0.3333333333333333,
              "#9c179e"
             ],
             [
              0.4444444444444444,
              "#bd3786"
             ],
             [
              0.5555555555555556,
              "#d8576b"
             ],
             [
              0.6666666666666666,
              "#ed7953"
             ],
             [
              0.7777777777777778,
              "#fb9f3a"
             ],
             [
              0.8888888888888888,
              "#fdca26"
             ],
             [
              1,
              "#f0f921"
             ]
            ],
            "type": "histogram2d"
           }
          ],
          "histogram2dcontour": [
           {
            "colorbar": {
             "outlinewidth": 0,
             "ticks": ""
            },
            "colorscale": [
             [
              0,
              "#0d0887"
             ],
             [
              0.1111111111111111,
              "#46039f"
             ],
             [
              0.2222222222222222,
              "#7201a8"
             ],
             [
              0.3333333333333333,
              "#9c179e"
             ],
             [
              0.4444444444444444,
              "#bd3786"
             ],
             [
              0.5555555555555556,
              "#d8576b"
             ],
             [
              0.6666666666666666,
              "#ed7953"
             ],
             [
              0.7777777777777778,
              "#fb9f3a"
             ],
             [
              0.8888888888888888,
              "#fdca26"
             ],
             [
              1,
              "#f0f921"
             ]
            ],
            "type": "histogram2dcontour"
           }
          ],
          "mesh3d": [
           {
            "colorbar": {
             "outlinewidth": 0,
             "ticks": ""
            },
            "type": "mesh3d"
           }
          ],
          "parcoords": [
           {
            "line": {
             "colorbar": {
              "outlinewidth": 0,
              "ticks": ""
             }
            },
            "type": "parcoords"
           }
          ],
          "pie": [
           {
            "automargin": true,
            "type": "pie"
           }
          ],
          "scatter": [
           {
            "fillpattern": {
             "fillmode": "overlay",
             "size": 10,
             "solidity": 0.2
            },
            "type": "scatter"
           }
          ],
          "scatter3d": [
           {
            "line": {
             "colorbar": {
              "outlinewidth": 0,
              "ticks": ""
             }
            },
            "marker": {
             "colorbar": {
              "outlinewidth": 0,
              "ticks": ""
             }
            },
            "type": "scatter3d"
           }
          ],
          "scattercarpet": [
           {
            "marker": {
             "colorbar": {
              "outlinewidth": 0,
              "ticks": ""
             }
            },
            "type": "scattercarpet"
           }
          ],
          "scattergeo": [
           {
            "marker": {
             "colorbar": {
              "outlinewidth": 0,
              "ticks": ""
             }
            },
            "type": "scattergeo"
           }
          ],
          "scattergl": [
           {
            "marker": {
             "colorbar": {
              "outlinewidth": 0,
              "ticks": ""
             }
            },
            "type": "scattergl"
           }
          ],
          "scattermapbox": [
           {
            "marker": {
             "colorbar": {
              "outlinewidth": 0,
              "ticks": ""
             }
            },
            "type": "scattermapbox"
           }
          ],
          "scatterpolar": [
           {
            "marker": {
             "colorbar": {
              "outlinewidth": 0,
              "ticks": ""
             }
            },
            "type": "scatterpolar"
           }
          ],
          "scatterpolargl": [
           {
            "marker": {
             "colorbar": {
              "outlinewidth": 0,
              "ticks": ""
             }
            },
            "type": "scatterpolargl"
           }
          ],
          "scatterternary": [
           {
            "marker": {
             "colorbar": {
              "outlinewidth": 0,
              "ticks": ""
             }
            },
            "type": "scatterternary"
           }
          ],
          "surface": [
           {
            "colorbar": {
             "outlinewidth": 0,
             "ticks": ""
            },
            "colorscale": [
             [
              0,
              "#0d0887"
             ],
             [
              0.1111111111111111,
              "#46039f"
             ],
             [
              0.2222222222222222,
              "#7201a8"
             ],
             [
              0.3333333333333333,
              "#9c179e"
             ],
             [
              0.4444444444444444,
              "#bd3786"
             ],
             [
              0.5555555555555556,
              "#d8576b"
             ],
             [
              0.6666666666666666,
              "#ed7953"
             ],
             [
              0.7777777777777778,
              "#fb9f3a"
             ],
             [
              0.8888888888888888,
              "#fdca26"
             ],
             [
              1,
              "#f0f921"
             ]
            ],
            "type": "surface"
           }
          ],
          "table": [
           {
            "cells": {
             "fill": {
              "color": "#EBF0F8"
             },
             "line": {
              "color": "white"
             }
            },
            "header": {
             "fill": {
              "color": "#C8D4E3"
             },
             "line": {
              "color": "white"
             }
            },
            "type": "table"
           }
          ]
         },
         "layout": {
          "annotationdefaults": {
           "arrowcolor": "#2a3f5f",
           "arrowhead": 0,
           "arrowwidth": 1
          },
          "autotypenumbers": "strict",
          "coloraxis": {
           "colorbar": {
            "outlinewidth": 0,
            "ticks": ""
           }
          },
          "colorscale": {
           "diverging": [
            [
             0,
             "#8e0152"
            ],
            [
             0.1,
             "#c51b7d"
            ],
            [
             0.2,
             "#de77ae"
            ],
            [
             0.3,
             "#f1b6da"
            ],
            [
             0.4,
             "#fde0ef"
            ],
            [
             0.5,
             "#f7f7f7"
            ],
            [
             0.6,
             "#e6f5d0"
            ],
            [
             0.7,
             "#b8e186"
            ],
            [
             0.8,
             "#7fbc41"
            ],
            [
             0.9,
             "#4d9221"
            ],
            [
             1,
             "#276419"
            ]
           ],
           "sequential": [
            [
             0,
             "#0d0887"
            ],
            [
             0.1111111111111111,
             "#46039f"
            ],
            [
             0.2222222222222222,
             "#7201a8"
            ],
            [
             0.3333333333333333,
             "#9c179e"
            ],
            [
             0.4444444444444444,
             "#bd3786"
            ],
            [
             0.5555555555555556,
             "#d8576b"
            ],
            [
             0.6666666666666666,
             "#ed7953"
            ],
            [
             0.7777777777777778,
             "#fb9f3a"
            ],
            [
             0.8888888888888888,
             "#fdca26"
            ],
            [
             1,
             "#f0f921"
            ]
           ],
           "sequentialminus": [
            [
             0,
             "#0d0887"
            ],
            [
             0.1111111111111111,
             "#46039f"
            ],
            [
             0.2222222222222222,
             "#7201a8"
            ],
            [
             0.3333333333333333,
             "#9c179e"
            ],
            [
             0.4444444444444444,
             "#bd3786"
            ],
            [
             0.5555555555555556,
             "#d8576b"
            ],
            [
             0.6666666666666666,
             "#ed7953"
            ],
            [
             0.7777777777777778,
             "#fb9f3a"
            ],
            [
             0.8888888888888888,
             "#fdca26"
            ],
            [
             1,
             "#f0f921"
            ]
           ]
          },
          "colorway": [
           "#636efa",
           "#EF553B",
           "#00cc96",
           "#ab63fa",
           "#FFA15A",
           "#19d3f3",
           "#FF6692",
           "#B6E880",
           "#FF97FF",
           "#FECB52"
          ],
          "font": {
           "color": "#2a3f5f"
          },
          "geo": {
           "bgcolor": "white",
           "lakecolor": "white",
           "landcolor": "#E5ECF6",
           "showlakes": true,
           "showland": true,
           "subunitcolor": "white"
          },
          "hoverlabel": {
           "align": "left"
          },
          "hovermode": "closest",
          "mapbox": {
           "style": "light"
          },
          "paper_bgcolor": "white",
          "plot_bgcolor": "#E5ECF6",
          "polar": {
           "angularaxis": {
            "gridcolor": "white",
            "linecolor": "white",
            "ticks": ""
           },
           "bgcolor": "#E5ECF6",
           "radialaxis": {
            "gridcolor": "white",
            "linecolor": "white",
            "ticks": ""
           }
          },
          "scene": {
           "xaxis": {
            "backgroundcolor": "#E5ECF6",
            "gridcolor": "white",
            "gridwidth": 2,
            "linecolor": "white",
            "showbackground": true,
            "ticks": "",
            "zerolinecolor": "white"
           },
           "yaxis": {
            "backgroundcolor": "#E5ECF6",
            "gridcolor": "white",
            "gridwidth": 2,
            "linecolor": "white",
            "showbackground": true,
            "ticks": "",
            "zerolinecolor": "white"
           },
           "zaxis": {
            "backgroundcolor": "#E5ECF6",
            "gridcolor": "white",
            "gridwidth": 2,
            "linecolor": "white",
            "showbackground": true,
            "ticks": "",
            "zerolinecolor": "white"
           }
          },
          "shapedefaults": {
           "line": {
            "color": "#2a3f5f"
           }
          },
          "ternary": {
           "aaxis": {
            "gridcolor": "white",
            "linecolor": "white",
            "ticks": ""
           },
           "baxis": {
            "gridcolor": "white",
            "linecolor": "white",
            "ticks": ""
           },
           "bgcolor": "#E5ECF6",
           "caxis": {
            "gridcolor": "white",
            "linecolor": "white",
            "ticks": ""
           }
          },
          "title": {
           "x": 0.05
          },
          "xaxis": {
           "automargin": true,
           "gridcolor": "white",
           "linecolor": "white",
           "ticks": "",
           "title": {
            "standoff": 15
           },
           "zerolinecolor": "white",
           "zerolinewidth": 2
          },
          "yaxis": {
           "automargin": true,
           "gridcolor": "white",
           "linecolor": "white",
           "ticks": "",
           "title": {
            "standoff": 15
           },
           "zerolinecolor": "white",
           "zerolinewidth": 2
          }
         }
        },
        "title": {
         "text": "Wines Related to Specific Keywords"
        },
        "xaxis": {
         "anchor": "y",
         "domain": [
          0,
          1
         ],
         "title": {
          "text": "keywords"
         }
        },
        "yaxis": {
         "anchor": "x",
         "domain": [
          0,
          1
         ],
         "title": {
          "text": "total_user_count"
         }
        }
       }
      },
      "text/html": [
       "<div>                            <div id=\"8d1fd0e5-69b7-434a-a644-b8d18f9c316d\" class=\"plotly-graph-div\" style=\"height:525px; width:100%;\"></div>            <script type=\"text/javascript\">                require([\"plotly\"], function(Plotly) {                    window.PLOTLYENV=window.PLOTLYENV || {};                                    if (document.getElementById(\"8d1fd0e5-69b7-434a-a644-b8d18f9c316d\")) {                    Plotly.newPlot(                        \"8d1fd0e5-69b7-434a-a644-b8d18f9c316d\",                        [{\"alignmentgroup\":\"True\",\"hovertemplate\":\"wine_name=Brut Champagne\\u003cbr\\u003ekeywords=%{x}\\u003cbr\\u003etotal_user_count=%{y}\\u003cextra\\u003e\\u003c\\u002fextra\\u003e\",\"legendgroup\":\"Brut Champagne\",\"marker\":{\"color\":\"#636efa\",\"pattern\":{\"shape\":\"\"}},\"name\":\"Brut Champagne\",\"offsetgroup\":\"Brut Champagne\",\"orientation\":\"v\",\"showlegend\":true,\"textposition\":\"auto\",\"x\":[\"toast\",\"citrus\",\"cream\",\"green apple\",\"coffee\"],\"xaxis\":\"x\",\"y\":[4330,2596,1564,893,290],\"yaxis\":\"y\",\"type\":\"bar\"},{\"alignmentgroup\":\"True\",\"hovertemplate\":\"wine_name=Grande Cuv\\u00e9e\\u003cbr\\u003ekeywords=%{x}\\u003cbr\\u003etotal_user_count=%{y}\\u003cextra\\u003e\\u003c\\u002fextra\\u003e\",\"legendgroup\":\"Grande Cuv\\u00e9e\",\"marker\":{\"color\":\"#EF553B\",\"pattern\":{\"shape\":\"\"}},\"name\":\"Grande Cuv\\u00e9e\",\"offsetgroup\":\"Grande Cuv\\u00e9e\",\"orientation\":\"v\",\"showlegend\":true,\"textposition\":\"auto\",\"x\":[\"toast\",\"citrus\",\"cream\",\"green apple\",\"coffee\"],\"xaxis\":\"x\",\"y\":[1426,916,439,304,100],\"yaxis\":\"y\",\"type\":\"bar\"},{\"alignmentgroup\":\"True\",\"hovertemplate\":\"wine_name=Comtes de Champagne Blanc de Blancs\\u003cbr\\u003ekeywords=%{x}\\u003cbr\\u003etotal_user_count=%{y}\\u003cextra\\u003e\\u003c\\u002fextra\\u003e\",\"legendgroup\":\"Comtes de Champagne Blanc de Blancs\",\"marker\":{\"color\":\"#00cc96\",\"pattern\":{\"shape\":\"\"}},\"name\":\"Comtes de Champagne Blanc de Blancs\",\"offsetgroup\":\"Comtes de Champagne Blanc de Blancs\",\"orientation\":\"v\",\"showlegend\":true,\"textposition\":\"auto\",\"x\":[\"toast\",\"citrus\",\"cream\",\"green apple\",\"coffee\"],\"xaxis\":\"x\",\"y\":[1174,720,589,249,78],\"yaxis\":\"y\",\"type\":\"bar\"},{\"alignmentgroup\":\"True\",\"hovertemplate\":\"wine_name=La Grande Ann\\u00e9e Brut Champagne\\u003cbr\\u003ekeywords=%{x}\\u003cbr\\u003etotal_user_count=%{y}\\u003cextra\\u003e\\u003c\\u002fextra\\u003e\",\"legendgroup\":\"La Grande Ann\\u00e9e Brut Champagne\",\"marker\":{\"color\":\"#ab63fa\",\"pattern\":{\"shape\":\"\"}},\"name\":\"La Grande Ann\\u00e9e Brut Champagne\",\"offsetgroup\":\"La Grande Ann\\u00e9e Brut Champagne\",\"orientation\":\"v\",\"showlegend\":true,\"textposition\":\"auto\",\"x\":[\"toast\",\"citrus\",\"cream\",\"green apple\",\"coffee\"],\"xaxis\":\"x\",\"y\":[1050,454,425,175,64],\"yaxis\":\"y\",\"type\":\"bar\"},{\"alignmentgroup\":\"True\",\"hovertemplate\":\"wine_name=Cristal Brut Champagne (Mill\\u00e9sim\\u00e9)\\u003cbr\\u003ekeywords=%{x}\\u003cbr\\u003etotal_user_count=%{y}\\u003cextra\\u003e\\u003c\\u002fextra\\u003e\",\"legendgroup\":\"Cristal Brut Champagne (Mill\\u00e9sim\\u00e9)\",\"marker\":{\"color\":\"#FFA15A\",\"pattern\":{\"shape\":\"\"}},\"name\":\"Cristal Brut Champagne (Mill\\u00e9sim\\u00e9)\",\"offsetgroup\":\"Cristal Brut Champagne (Mill\\u00e9sim\\u00e9)\",\"orientation\":\"v\",\"showlegend\":true,\"textposition\":\"auto\",\"x\":[\"citrus\",\"toast\",\"cream\",\"green apple\",\"coffee\"],\"xaxis\":\"x\",\"y\":[954,928,496,298,52],\"yaxis\":\"y\",\"type\":\"bar\"},{\"alignmentgroup\":\"True\",\"hovertemplate\":\"wine_name=Costasera Amarone della Valpolicella Classico\\u003cbr\\u003ekeywords=%{x}\\u003cbr\\u003etotal_user_count=%{y}\\u003cextra\\u003e\\u003c\\u002fextra\\u003e\",\"legendgroup\":\"Costasera Amarone della Valpolicella Classico\",\"marker\":{\"color\":\"#19d3f3\",\"pattern\":{\"shape\":\"\"}},\"name\":\"Costasera Amarone della Valpolicella Classico\",\"offsetgroup\":\"Costasera Amarone della Valpolicella Classico\",\"orientation\":\"v\",\"showlegend\":true,\"textposition\":\"auto\",\"x\":[\"coffee\",\"toast\",\"cream\"],\"xaxis\":\"x\",\"y\":[744,68,49],\"yaxis\":\"y\",\"type\":\"bar\"},{\"alignmentgroup\":\"True\",\"hovertemplate\":\"wine_name=Vintage\\u003cbr\\u003ekeywords=%{x}\\u003cbr\\u003etotal_user_count=%{y}\\u003cextra\\u003e\\u003c\\u002fextra\\u003e\",\"legendgroup\":\"Vintage\",\"marker\":{\"color\":\"#FF6692\",\"pattern\":{\"shape\":\"\"}},\"name\":\"Vintage\",\"offsetgroup\":\"Vintage\",\"orientation\":\"v\",\"showlegend\":true,\"textposition\":\"auto\",\"x\":[\"toast\",\"citrus\",\"cream\",\"coffee\",\"green apple\"],\"xaxis\":\"x\",\"y\":[712,406,240,112,96],\"yaxis\":\"y\",\"type\":\"bar\"},{\"alignmentgroup\":\"True\",\"hovertemplate\":\"wine_name=Chardonnay\\u003cbr\\u003ekeywords=%{x}\\u003cbr\\u003etotal_user_count=%{y}\\u003cextra\\u003e\\u003c\\u002fextra\\u003e\",\"legendgroup\":\"Chardonnay\",\"marker\":{\"color\":\"#B6E880\",\"pattern\":{\"shape\":\"\"}},\"name\":\"Chardonnay\",\"offsetgroup\":\"Chardonnay\",\"orientation\":\"v\",\"showlegend\":true,\"textposition\":\"auto\",\"x\":[\"citrus\",\"green apple\",\"cream\",\"toast\",\"citrus\",\"cream\",\"toast\",\"green apple\"],\"xaxis\":\"x\",\"y\":[654,406,318,178,56,35,26,12],\"yaxis\":\"y\",\"type\":\"bar\"},{\"alignmentgroup\":\"True\",\"hovertemplate\":\"wine_name=Pauillac (Premier Grand Cru Class\\u00e9)\\u003cbr\\u003ekeywords=%{x}\\u003cbr\\u003etotal_user_count=%{y}\\u003cextra\\u003e\\u003c\\u002fextra\\u003e\",\"legendgroup\":\"Pauillac (Premier Grand Cru Class\\u00e9)\",\"marker\":{\"color\":\"#FF97FF\",\"pattern\":{\"shape\":\"\"}},\"name\":\"Pauillac (Premier Grand Cru Class\\u00e9)\",\"offsetgroup\":\"Pauillac (Premier Grand Cru Class\\u00e9)\",\"orientation\":\"v\",\"showlegend\":true,\"textposition\":\"auto\",\"x\":[\"coffee\",\"toast\",\"coffee\",\"cream\",\"toast\",\"cream\",\"citrus\"],\"xaxis\":\"x\",\"y\":[636,146,134,78,34,27,11],\"yaxis\":\"y\",\"type\":\"bar\"},{\"alignmentgroup\":\"True\",\"hovertemplate\":\"wine_name=Sir Winston Churchill Brut Champagne\\u003cbr\\u003ekeywords=%{x}\\u003cbr\\u003etotal_user_count=%{y}\\u003cextra\\u003e\\u003c\\u002fextra\\u003e\",\"legendgroup\":\"Sir Winston Churchill Brut Champagne\",\"marker\":{\"color\":\"#FECB52\",\"pattern\":{\"shape\":\"\"}},\"name\":\"Sir Winston Churchill Brut Champagne\",\"offsetgroup\":\"Sir Winston Churchill Brut Champagne\",\"orientation\":\"v\",\"showlegend\":true,\"textposition\":\"auto\",\"x\":[\"toast\",\"citrus\",\"cream\",\"green apple\",\"coffee\"],\"xaxis\":\"x\",\"y\":[564,408,290,127,26],\"yaxis\":\"y\",\"type\":\"bar\"},{\"alignmentgroup\":\"True\",\"hovertemplate\":\"wine_name=Tignanello\\u003cbr\\u003ekeywords=%{x}\\u003cbr\\u003etotal_user_count=%{y}\\u003cextra\\u003e\\u003c\\u002fextra\\u003e\",\"legendgroup\":\"Tignanello\",\"marker\":{\"color\":\"#636efa\",\"pattern\":{\"shape\":\"\"}},\"name\":\"Tignanello\",\"offsetgroup\":\"Tignanello\",\"orientation\":\"v\",\"showlegend\":true,\"textposition\":\"auto\",\"x\":[\"coffee\",\"toast\",\"cream\",\"citrus\"],\"xaxis\":\"x\",\"y\":[542,122,96,15],\"yaxis\":\"y\",\"type\":\"bar\"},{\"alignmentgroup\":\"True\",\"hovertemplate\":\"wine_name=Brut Cuv\\u00e9e Champagne Ros\\u00e9\\u003cbr\\u003ekeywords=%{x}\\u003cbr\\u003etotal_user_count=%{y}\\u003cextra\\u003e\\u003c\\u002fextra\\u003e\",\"legendgroup\":\"Brut Cuv\\u00e9e Champagne Ros\\u00e9\",\"marker\":{\"color\":\"#EF553B\",\"pattern\":{\"shape\":\"\"}},\"name\":\"Brut Cuv\\u00e9e Champagne Ros\\u00e9\",\"offsetgroup\":\"Brut Cuv\\u00e9e Champagne Ros\\u00e9\",\"orientation\":\"v\",\"showlegend\":true,\"textposition\":\"auto\",\"x\":[\"toast\",\"citrus\",\"cream\",\"green apple\"],\"xaxis\":\"x\",\"y\":[502,436,378,66],\"yaxis\":\"y\",\"type\":\"bar\"},{\"alignmentgroup\":\"True\",\"hovertemplate\":\"wine_name=La Grande Dame Brut Champagne\\u003cbr\\u003ekeywords=%{x}\\u003cbr\\u003etotal_user_count=%{y}\\u003cextra\\u003e\\u003c\\u002fextra\\u003e\",\"legendgroup\":\"La Grande Dame Brut Champagne\",\"marker\":{\"color\":\"#00cc96\",\"pattern\":{\"shape\":\"\"}},\"name\":\"La Grande Dame Brut Champagne\",\"offsetgroup\":\"La Grande Dame Brut Champagne\",\"orientation\":\"v\",\"showlegend\":true,\"textposition\":\"auto\",\"x\":[\"toast\",\"citrus\",\"cream\",\"green apple\",\"coffee\"],\"xaxis\":\"x\",\"y\":[488,326,178,111,32],\"yaxis\":\"y\",\"type\":\"bar\"},{\"alignmentgroup\":\"True\",\"hovertemplate\":\"wine_name=Castello della Sala Cervaro della Sala\\u003cbr\\u003ekeywords=%{x}\\u003cbr\\u003etotal_user_count=%{y}\\u003cextra\\u003e\\u003c\\u002fextra\\u003e\",\"legendgroup\":\"Castello della Sala Cervaro della Sala\",\"marker\":{\"color\":\"#ab63fa\",\"pattern\":{\"shape\":\"\"}},\"name\":\"Castello della Sala Cervaro della Sala\",\"offsetgroup\":\"Castello della Sala Cervaro della Sala\",\"orientation\":\"v\",\"showlegend\":true,\"textposition\":\"auto\",\"x\":[\"citrus\",\"cream\",\"toast\",\"green apple\"],\"xaxis\":\"x\",\"y\":[486,268,156,72],\"yaxis\":\"y\",\"type\":\"bar\"},{\"alignmentgroup\":\"True\",\"hovertemplate\":\"wine_name=Belle Epoque Brut Champagne\\u003cbr\\u003ekeywords=%{x}\\u003cbr\\u003etotal_user_count=%{y}\\u003cextra\\u003e\\u003c\\u002fextra\\u003e\",\"legendgroup\":\"Belle Epoque Brut Champagne\",\"marker\":{\"color\":\"#FFA15A\",\"pattern\":{\"shape\":\"\"}},\"name\":\"Belle Epoque Brut Champagne\",\"offsetgroup\":\"Belle Epoque Brut Champagne\",\"orientation\":\"v\",\"showlegend\":true,\"textposition\":\"auto\",\"x\":[\"toast\",\"citrus\",\"green apple\",\"cream\",\"coffee\"],\"xaxis\":\"x\",\"y\":[478,423,224,207,28],\"yaxis\":\"y\",\"type\":\"bar\"},{\"alignmentgroup\":\"True\",\"hovertemplate\":\"wine_name=Cos d'Estournel\\u003cbr\\u003ekeywords=%{x}\\u003cbr\\u003etotal_user_count=%{y}\\u003cextra\\u003e\\u003c\\u002fextra\\u003e\",\"legendgroup\":\"Cos d'Estournel\",\"marker\":{\"color\":\"#19d3f3\",\"pattern\":{\"shape\":\"\"}},\"name\":\"Cos d'Estournel\",\"offsetgroup\":\"Cos d'Estournel\",\"orientation\":\"v\",\"showlegend\":true,\"textposition\":\"auto\",\"x\":[\"coffee\",\"toast\",\"cream\"],\"xaxis\":\"x\",\"y\":[462,108,62],\"yaxis\":\"y\",\"type\":\"bar\"},{\"alignmentgroup\":\"True\",\"hovertemplate\":\"wine_name=Dom Ruinart Blanc de Blancs Brut Champagne\\u003cbr\\u003ekeywords=%{x}\\u003cbr\\u003etotal_user_count=%{y}\\u003cextra\\u003e\\u003c\\u002fextra\\u003e\",\"legendgroup\":\"Dom Ruinart Blanc de Blancs Brut Champagne\",\"marker\":{\"color\":\"#FF6692\",\"pattern\":{\"shape\":\"\"}},\"name\":\"Dom Ruinart Blanc de Blancs Brut Champagne\",\"offsetgroup\":\"Dom Ruinart Blanc de Blancs Brut Champagne\",\"orientation\":\"v\",\"showlegend\":true,\"textposition\":\"auto\",\"x\":[\"toast\",\"citrus\",\"cream\",\"green apple\",\"coffee\"],\"xaxis\":\"x\",\"y\":[452,250,165,86,44],\"yaxis\":\"y\",\"type\":\"bar\"},{\"alignmentgroup\":\"True\",\"hovertemplate\":\"wine_name=Brut Ros\\u00e9 Champagne\\u003cbr\\u003ekeywords=%{x}\\u003cbr\\u003etotal_user_count=%{y}\\u003cextra\\u003e\\u003c\\u002fextra\\u003e\",\"legendgroup\":\"Brut Ros\\u00e9 Champagne\",\"marker\":{\"color\":\"#B6E880\",\"pattern\":{\"shape\":\"\"}},\"name\":\"Brut Ros\\u00e9 Champagne\",\"offsetgroup\":\"Brut Ros\\u00e9 Champagne\",\"orientation\":\"v\",\"showlegend\":true,\"textposition\":\"auto\",\"x\":[\"citrus\",\"toast\",\"cream\",\"toast\",\"citrus\",\"cream\",\"toast\",\"cream\",\"green apple\",\"citrus\",\"green apple\",\"coffee\",\"cream\"],\"xaxis\":\"x\",\"y\":[441,380,364,316,242,222,214,141,91,79,29,14,13],\"yaxis\":\"y\",\"type\":\"bar\"},{\"alignmentgroup\":\"True\",\"hovertemplate\":\"wine_name=Grand Si\\u00e8cle Champagne (Grande Cuv\\u00e9e)\\u003cbr\\u003ekeywords=%{x}\\u003cbr\\u003etotal_user_count=%{y}\\u003cextra\\u003e\\u003c\\u002fextra\\u003e\",\"legendgroup\":\"Grand Si\\u00e8cle Champagne (Grande Cuv\\u00e9e)\",\"marker\":{\"color\":\"#FF97FF\",\"pattern\":{\"shape\":\"\"}},\"name\":\"Grand Si\\u00e8cle Champagne (Grande Cuv\\u00e9e)\",\"offsetgroup\":\"Grand Si\\u00e8cle Champagne (Grande Cuv\\u00e9e)\",\"orientation\":\"v\",\"showlegend\":true,\"textposition\":\"auto\",\"x\":[\"toast\",\"citrus\",\"cream\",\"green apple\",\"coffee\"],\"xaxis\":\"x\",\"y\":[424,296,169,136,14],\"yaxis\":\"y\",\"type\":\"bar\"},{\"alignmentgroup\":\"True\",\"hovertemplate\":\"wine_name=Pauillac (Grand Cru Class\\u00e9)\\u003cbr\\u003ekeywords=%{x}\\u003cbr\\u003etotal_user_count=%{y}\\u003cextra\\u003e\\u003c\\u002fextra\\u003e\",\"legendgroup\":\"Pauillac (Grand Cru Class\\u00e9)\",\"marker\":{\"color\":\"#FECB52\",\"pattern\":{\"shape\":\"\"}},\"name\":\"Pauillac (Grand Cru Class\\u00e9)\",\"offsetgroup\":\"Pauillac (Grand Cru Class\\u00e9)\",\"orientation\":\"v\",\"showlegend\":true,\"textposition\":\"auto\",\"x\":[\"coffee\",\"coffee\",\"coffee\",\"coffee\",\"toast\",\"toast\",\"toast\",\"toast\",\"cream\",\"cream\",\"cream\",\"cream\",\"citrus\"],\"xaxis\":\"x\",\"y\":[402,314,308,294,98,86,84,74,58,49,46,36,12],\"yaxis\":\"y\",\"type\":\"bar\"},{\"alignmentgroup\":\"True\",\"hovertemplate\":\"wine_name=Ribera del Duero\\u003cbr\\u003ekeywords=%{x}\\u003cbr\\u003etotal_user_count=%{y}\\u003cextra\\u003e\\u003c\\u002fextra\\u003e\",\"legendgroup\":\"Ribera del Duero\",\"marker\":{\"color\":\"#636efa\",\"pattern\":{\"shape\":\"\"}},\"name\":\"Ribera del Duero\",\"offsetgroup\":\"Ribera del Duero\",\"orientation\":\"v\",\"showlegend\":true,\"textposition\":\"auto\",\"x\":[\"coffee\",\"toast\",\"cream\"],\"xaxis\":\"x\",\"y\":[384,118,73],\"yaxis\":\"y\",\"type\":\"bar\"},{\"alignmentgroup\":\"True\",\"hovertemplate\":\"wine_name=Saint-Julien (Grand Cru Class\\u00e9)\\u003cbr\\u003ekeywords=%{x}\\u003cbr\\u003etotal_user_count=%{y}\\u003cextra\\u003e\\u003c\\u002fextra\\u003e\",\"legendgroup\":\"Saint-Julien (Grand Cru Class\\u00e9)\",\"marker\":{\"color\":\"#EF553B\",\"pattern\":{\"shape\":\"\"}},\"name\":\"Saint-Julien (Grand Cru Class\\u00e9)\",\"offsetgroup\":\"Saint-Julien (Grand Cru Class\\u00e9)\",\"orientation\":\"v\",\"showlegend\":true,\"textposition\":\"auto\",\"x\":[\"coffee\",\"coffee\",\"coffee\",\"coffee\",\"coffee\",\"toast\",\"toast\",\"cream\",\"toast\",\"toast\",\"toast\",\"cream\",\"cream\",\"cream\",\"cream\"],\"xaxis\":\"x\",\"y\":[370,306,238,214,204,108,86,65,64,60,58,56,43,42,26],\"yaxis\":\"y\",\"type\":\"bar\"},{\"alignmentgroup\":\"True\",\"hovertemplate\":\"wine_name=Toro\\u003cbr\\u003ekeywords=%{x}\\u003cbr\\u003etotal_user_count=%{y}\\u003cextra\\u003e\\u003c\\u002fextra\\u003e\",\"legendgroup\":\"Toro\",\"marker\":{\"color\":\"#00cc96\",\"pattern\":{\"shape\":\"\"}},\"name\":\"Toro\",\"offsetgroup\":\"Toro\",\"orientation\":\"v\",\"showlegend\":true,\"textposition\":\"auto\",\"x\":[\"coffee\",\"toast\",\"cream\"],\"xaxis\":\"x\",\"y\":[368,116,60],\"yaxis\":\"y\",\"type\":\"bar\"},{\"alignmentgroup\":\"True\",\"hovertemplate\":\"wine_name=Sassicaia\\u003cbr\\u003ekeywords=%{x}\\u003cbr\\u003etotal_user_count=%{y}\\u003cextra\\u003e\\u003c\\u002fextra\\u003e\",\"legendgroup\":\"Sassicaia\",\"marker\":{\"color\":\"#ab63fa\",\"pattern\":{\"shape\":\"\"}},\"name\":\"Sassicaia\",\"offsetgroup\":\"Sassicaia\",\"orientation\":\"v\",\"showlegend\":true,\"textposition\":\"auto\",\"x\":[\"coffee\",\"toast\",\"cream\",\"citrus\"],\"xaxis\":\"x\",\"y\":[358,94,75,16],\"yaxis\":\"y\",\"type\":\"bar\"},{\"alignmentgroup\":\"True\",\"hovertemplate\":\"wine_name=Cabernet Sauvignon\\u003cbr\\u003ekeywords=%{x}\\u003cbr\\u003etotal_user_count=%{y}\\u003cextra\\u003e\\u003c\\u002fextra\\u003e\",\"legendgroup\":\"Cabernet Sauvignon\",\"marker\":{\"color\":\"#FFA15A\",\"pattern\":{\"shape\":\"\"}},\"name\":\"Cabernet Sauvignon\",\"offsetgroup\":\"Cabernet Sauvignon\",\"orientation\":\"v\",\"showlegend\":true,\"textposition\":\"auto\",\"x\":[\"coffee\",\"cream\",\"coffee\",\"toast\",\"toast\",\"cream\",\"coffee\",\"coffee\",\"toast\",\"coffee\",\"coffee\",\"citrus\",\"cream\"],\"xaxis\":\"x\",\"y\":[346,252,160,156,52,51,50,32,16,14,14,11,11],\"yaxis\":\"y\",\"type\":\"bar\"},{\"alignmentgroup\":\"True\",\"hovertemplate\":\"wine_name=R.D Extra Brut Champagne (R\\u00e9cemment D\\u00e9gorg\\u00e9)\\u003cbr\\u003ekeywords=%{x}\\u003cbr\\u003etotal_user_count=%{y}\\u003cextra\\u003e\\u003c\\u002fextra\\u003e\",\"legendgroup\":\"R.D Extra Brut Champagne (R\\u00e9cemment D\\u00e9gorg\\u00e9)\",\"marker\":{\"color\":\"#19d3f3\",\"pattern\":{\"shape\":\"\"}},\"name\":\"R.D Extra Brut Champagne (R\\u00e9cemment D\\u00e9gorg\\u00e9)\",\"offsetgroup\":\"R.D Extra Brut Champagne (R\\u00e9cemment D\\u00e9gorg\\u00e9)\",\"orientation\":\"v\",\"showlegend\":true,\"textposition\":\"auto\",\"x\":[\"toast\",\"cream\",\"citrus\",\"coffee\",\"green apple\"],\"xaxis\":\"x\",\"y\":[326,157,149,34,34],\"yaxis\":\"y\",\"type\":\"bar\"},{\"alignmentgroup\":\"True\",\"hovertemplate\":\"wine_name=P2 Pl\\u00e9nitude Brut Champagne\\u003cbr\\u003ekeywords=%{x}\\u003cbr\\u003etotal_user_count=%{y}\\u003cextra\\u003e\\u003c\\u002fextra\\u003e\",\"legendgroup\":\"P2 Pl\\u00e9nitude Brut Champagne\",\"marker\":{\"color\":\"#FF6692\",\"pattern\":{\"shape\":\"\"}},\"name\":\"P2 Pl\\u00e9nitude Brut Champagne\",\"offsetgroup\":\"P2 Pl\\u00e9nitude Brut Champagne\",\"orientation\":\"v\",\"showlegend\":true,\"textposition\":\"auto\",\"x\":[\"toast\",\"citrus\",\"cream\",\"green apple\",\"coffee\"],\"xaxis\":\"x\",\"y\":[322,141,135,30,28],\"yaxis\":\"y\",\"type\":\"bar\"},{\"alignmentgroup\":\"True\",\"hovertemplate\":\"wine_name=Blanc des Mill\\u00e9naires\\u003cbr\\u003ekeywords=%{x}\\u003cbr\\u003etotal_user_count=%{y}\\u003cextra\\u003e\\u003c\\u002fextra\\u003e\",\"legendgroup\":\"Blanc des Mill\\u00e9naires\",\"marker\":{\"color\":\"#B6E880\",\"pattern\":{\"shape\":\"\"}},\"name\":\"Blanc des Mill\\u00e9naires\",\"offsetgroup\":\"Blanc des Mill\\u00e9naires\",\"orientation\":\"v\",\"showlegend\":true,\"textposition\":\"auto\",\"x\":[\"toast\",\"citrus\",\"cream\",\"green apple\",\"coffee\"],\"xaxis\":\"x\",\"y\":[320,181,149,66,54],\"yaxis\":\"y\",\"type\":\"bar\"},{\"alignmentgroup\":\"True\",\"hovertemplate\":\"wine_name=Cuv\\u00e9e Nicolas Fran\\u00e7ois Billecart Brut Champagne\\u003cbr\\u003ekeywords=%{x}\\u003cbr\\u003etotal_user_count=%{y}\\u003cextra\\u003e\\u003c\\u002fextra\\u003e\",\"legendgroup\":\"Cuv\\u00e9e Nicolas Fran\\u00e7ois Billecart Brut Champagne\",\"marker\":{\"color\":\"#FF97FF\",\"pattern\":{\"shape\":\"\"}},\"name\":\"Cuv\\u00e9e Nicolas Fran\\u00e7ois Billecart Brut Champagne\",\"offsetgroup\":\"Cuv\\u00e9e Nicolas Fran\\u00e7ois Billecart Brut Champagne\",\"orientation\":\"v\",\"showlegend\":true,\"textposition\":\"auto\",\"x\":[\"toast\",\"citrus\",\"cream\",\"green apple\"],\"xaxis\":\"x\",\"y\":[318,173,134,53],\"yaxis\":\"y\",\"type\":\"bar\"},{\"alignmentgroup\":\"True\",\"hovertemplate\":\"wine_name=Opus One\\u003cbr\\u003ekeywords=%{x}\\u003cbr\\u003etotal_user_count=%{y}\\u003cextra\\u003e\\u003c\\u002fextra\\u003e\",\"legendgroup\":\"Opus One\",\"marker\":{\"color\":\"#FECB52\",\"pattern\":{\"shape\":\"\"}},\"name\":\"Opus One\",\"offsetgroup\":\"Opus One\",\"orientation\":\"v\",\"showlegend\":true,\"textposition\":\"auto\",\"x\":[\"coffee\",\"cream\",\"toast\",\"citrus\"],\"xaxis\":\"x\",\"y\":[298,119,110,10],\"yaxis\":\"y\",\"type\":\"bar\"},{\"alignmentgroup\":\"True\",\"hovertemplate\":\"wine_name=60 Sessantanni Old Vines Primitivo di Manduria\\u003cbr\\u003ekeywords=%{x}\\u003cbr\\u003etotal_user_count=%{y}\\u003cextra\\u003e\\u003c\\u002fextra\\u003e\",\"legendgroup\":\"60 Sessantanni Old Vines Primitivo di Manduria\",\"marker\":{\"color\":\"#636efa\",\"pattern\":{\"shape\":\"\"}},\"name\":\"60 Sessantanni Old Vines Primitivo di Manduria\",\"offsetgroup\":\"60 Sessantanni Old Vines Primitivo di Manduria\",\"orientation\":\"v\",\"showlegend\":true,\"textposition\":\"auto\",\"x\":[\"coffee\",\"cream\",\"toast\"],\"xaxis\":\"x\",\"y\":[272,27,22],\"yaxis\":\"y\",\"type\":\"bar\"},{\"alignmentgroup\":\"True\",\"hovertemplate\":\"wine_name=Grange\\u003cbr\\u003ekeywords=%{x}\\u003cbr\\u003etotal_user_count=%{y}\\u003cextra\\u003e\\u003c\\u002fextra\\u003e\",\"legendgroup\":\"Grange\",\"marker\":{\"color\":\"#EF553B\",\"pattern\":{\"shape\":\"\"}},\"name\":\"Grange\",\"offsetgroup\":\"Grange\",\"orientation\":\"v\",\"showlegend\":true,\"textposition\":\"auto\",\"x\":[\"coffee\",\"toast\",\"cream\"],\"xaxis\":\"x\",\"y\":[258,66,44],\"yaxis\":\"y\",\"type\":\"bar\"},{\"alignmentgroup\":\"True\",\"hovertemplate\":\"wine_name=Pessac-L\\u00e9ognan (Premier Grand Cru Class\\u00e9)\\u003cbr\\u003ekeywords=%{x}\\u003cbr\\u003etotal_user_count=%{y}\\u003cextra\\u003e\\u003c\\u002fextra\\u003e\",\"legendgroup\":\"Pessac-L\\u00e9ognan (Premier Grand Cru Class\\u00e9)\",\"marker\":{\"color\":\"#00cc96\",\"pattern\":{\"shape\":\"\"}},\"name\":\"Pessac-L\\u00e9ognan (Premier Grand Cru Class\\u00e9)\",\"offsetgroup\":\"Pessac-L\\u00e9ognan (Premier Grand Cru Class\\u00e9)\",\"orientation\":\"v\",\"showlegend\":true,\"textposition\":\"auto\",\"x\":[\"coffee\",\"toast\",\"cream\",\"citrus\"],\"xaxis\":\"x\",\"y\":[258,76,38,10],\"yaxis\":\"y\",\"type\":\"bar\"},{\"alignmentgroup\":\"True\",\"hovertemplate\":\"wine_name=Corton-Charlemagne Grand Cru\\u003cbr\\u003ekeywords=%{x}\\u003cbr\\u003etotal_user_count=%{y}\\u003cextra\\u003e\\u003c\\u002fextra\\u003e\",\"legendgroup\":\"Corton-Charlemagne Grand Cru\",\"marker\":{\"color\":\"#ab63fa\",\"pattern\":{\"shape\":\"\"}},\"name\":\"Corton-Charlemagne Grand Cru\",\"offsetgroup\":\"Corton-Charlemagne Grand Cru\",\"orientation\":\"v\",\"showlegend\":true,\"textposition\":\"auto\",\"x\":[\"citrus\",\"cream\",\"toast\",\"cream\",\"citrus\",\"toast\",\"citrus\",\"green apple\",\"toast\",\"citrus\",\"toast\",\"citrus\",\"citrus\",\"toast\",\"green apple\",\"green apple\",\"cream\",\"cream\",\"citrus\",\"cream\",\"cream\"],\"xaxis\":\"x\",\"y\":[254,132,114,110,86,86,58,48,32,25,24,24,18,18,16,14,13,13,12,10,10],\"yaxis\":\"y\",\"type\":\"bar\"},{\"alignmentgroup\":\"True\",\"hovertemplate\":\"wine_name=Amarone della Valpolicella Classico\\u003cbr\\u003ekeywords=%{x}\\u003cbr\\u003etotal_user_count=%{y}\\u003cextra\\u003e\\u003c\\u002fextra\\u003e\",\"legendgroup\":\"Amarone della Valpolicella Classico\",\"marker\":{\"color\":\"#FFA15A\",\"pattern\":{\"shape\":\"\"}},\"name\":\"Amarone della Valpolicella Classico\",\"offsetgroup\":\"Amarone della Valpolicella Classico\",\"orientation\":\"v\",\"showlegend\":true,\"textposition\":\"auto\",\"x\":[\"coffee\",\"coffee\",\"coffee\",\"coffee\",\"coffee\",\"cream\",\"toast\",\"coffee\",\"coffee\",\"toast\",\"cream\",\"toast\",\"cream\",\"cream\",\"citrus\",\"coffee\",\"toast\"],\"xaxis\":\"x\",\"y\":[252,176,174,94,78,55,50,38,34,30,28,28,21,15,15,14,12],\"yaxis\":\"y\",\"type\":\"bar\"},{\"alignmentgroup\":\"True\",\"hovertemplate\":\"wine_name=Blanc de Blancs Brut Champagne Grand Cru\\u003cbr\\u003ekeywords=%{x}\\u003cbr\\u003etotal_user_count=%{y}\\u003cextra\\u003e\\u003c\\u002fextra\\u003e\",\"legendgroup\":\"Blanc de Blancs Brut Champagne Grand Cru\",\"marker\":{\"color\":\"#19d3f3\",\"pattern\":{\"shape\":\"\"}},\"name\":\"Blanc de Blancs Brut Champagne Grand Cru\",\"offsetgroup\":\"Blanc de Blancs Brut Champagne Grand Cru\",\"orientation\":\"v\",\"showlegend\":true,\"textposition\":\"auto\",\"x\":[\"toast\",\"citrus\",\"cream\",\"green apple\"],\"xaxis\":\"x\",\"y\":[252,152,118,74],\"yaxis\":\"y\",\"type\":\"bar\"},{\"alignmentgroup\":\"True\",\"hovertemplate\":\"wine_name=Bolgheri Superiore\\u003cbr\\u003ekeywords=%{x}\\u003cbr\\u003etotal_user_count=%{y}\\u003cextra\\u003e\\u003c\\u002fextra\\u003e\",\"legendgroup\":\"Bolgheri Superiore\",\"marker\":{\"color\":\"#FF6692\",\"pattern\":{\"shape\":\"\"}},\"name\":\"Bolgheri Superiore\",\"offsetgroup\":\"Bolgheri Superiore\",\"orientation\":\"v\",\"showlegend\":true,\"textposition\":\"auto\",\"x\":[\"coffee\",\"toast\",\"cream\",\"coffee\",\"coffee\",\"toast\",\"cream\",\"cream\"],\"xaxis\":\"x\",\"y\":[250,80,64,60,46,18,12,10],\"yaxis\":\"y\",\"type\":\"bar\"},{\"alignmentgroup\":\"True\",\"hovertemplate\":\"wine_name=Almaviva\\u003cbr\\u003ekeywords=%{x}\\u003cbr\\u003etotal_user_count=%{y}\\u003cextra\\u003e\\u003c\\u002fextra\\u003e\",\"legendgroup\":\"Almaviva\",\"marker\":{\"color\":\"#B6E880\",\"pattern\":{\"shape\":\"\"}},\"name\":\"Almaviva\",\"offsetgroup\":\"Almaviva\",\"orientation\":\"v\",\"showlegend\":true,\"textposition\":\"auto\",\"x\":[\"coffee\",\"toast\",\"cream\"],\"xaxis\":\"x\",\"y\":[246,60,41],\"yaxis\":\"y\",\"type\":\"bar\"},{\"alignmentgroup\":\"True\",\"hovertemplate\":\"wine_name=Valbuena 5\\u00ba\\u003cbr\\u003ekeywords=%{x}\\u003cbr\\u003etotal_user_count=%{y}\\u003cextra\\u003e\\u003c\\u002fextra\\u003e\",\"legendgroup\":\"Valbuena 5\\u00ba\",\"marker\":{\"color\":\"#FF97FF\",\"pattern\":{\"shape\":\"\"}},\"name\":\"Valbuena 5\\u00ba\",\"offsetgroup\":\"Valbuena 5\\u00ba\",\"orientation\":\"v\",\"showlegend\":true,\"textposition\":\"auto\",\"x\":[\"coffee\",\"toast\",\"cream\"],\"xaxis\":\"x\",\"y\":[244,138,60],\"yaxis\":\"y\",\"type\":\"bar\"},{\"alignmentgroup\":\"True\",\"hovertemplate\":\"wine_name=Le Mesnil Blanc de Blancs (Cuv\\u00e9e S) Brut Champagne\\u003cbr\\u003ekeywords=%{x}\\u003cbr\\u003etotal_user_count=%{y}\\u003cextra\\u003e\\u003c\\u002fextra\\u003e\",\"legendgroup\":\"Le Mesnil Blanc de Blancs (Cuv\\u00e9e S) Brut Champagne\",\"marker\":{\"color\":\"#FECB52\",\"pattern\":{\"shape\":\"\"}},\"name\":\"Le Mesnil Blanc de Blancs (Cuv\\u00e9e S) Brut Champagne\",\"offsetgroup\":\"Le Mesnil Blanc de Blancs (Cuv\\u00e9e S) Brut Champagne\",\"orientation\":\"v\",\"showlegend\":true,\"textposition\":\"auto\",\"x\":[\"citrus\",\"toast\",\"cream\",\"green apple\",\"coffee\"],\"xaxis\":\"x\",\"y\":[240,200,118,76,24],\"yaxis\":\"y\",\"type\":\"bar\"},{\"alignmentgroup\":\"True\",\"hovertemplate\":\"wine_name=Tenuta Guado al Tasso Bolgheri Superiore\\u003cbr\\u003ekeywords=%{x}\\u003cbr\\u003etotal_user_count=%{y}\\u003cextra\\u003e\\u003c\\u002fextra\\u003e\",\"legendgroup\":\"Tenuta Guado al Tasso Bolgheri Superiore\",\"marker\":{\"color\":\"#636efa\",\"pattern\":{\"shape\":\"\"}},\"name\":\"Tenuta Guado al Tasso Bolgheri Superiore\",\"offsetgroup\":\"Tenuta Guado al Tasso Bolgheri Superiore\",\"orientation\":\"v\",\"showlegend\":true,\"textposition\":\"auto\",\"x\":[\"coffee\",\"toast\",\"cream\"],\"xaxis\":\"x\",\"y\":[234,44,28],\"yaxis\":\"y\",\"type\":\"bar\"},{\"alignmentgroup\":\"True\",\"hovertemplate\":\"wine_name=Unico\\u003cbr\\u003ekeywords=%{x}\\u003cbr\\u003etotal_user_count=%{y}\\u003cextra\\u003e\\u003c\\u002fextra\\u003e\",\"legendgroup\":\"Unico\",\"marker\":{\"color\":\"#EF553B\",\"pattern\":{\"shape\":\"\"}},\"name\":\"Unico\",\"offsetgroup\":\"Unico\",\"orientation\":\"v\",\"showlegend\":true,\"textposition\":\"auto\",\"x\":[\"coffee\",\"toast\",\"cream\",\"citrus\"],\"xaxis\":\"x\",\"y\":[234,76,53,11],\"yaxis\":\"y\",\"type\":\"bar\"},{\"alignmentgroup\":\"True\",\"hovertemplate\":\"wine_name=Pessac-L\\u00e9ognan (Grand Cru Class\\u00e9 de Graves)\\u003cbr\\u003ekeywords=%{x}\\u003cbr\\u003etotal_user_count=%{y}\\u003cextra\\u003e\\u003c\\u002fextra\\u003e\",\"legendgroup\":\"Pessac-L\\u00e9ognan (Grand Cru Class\\u00e9 de Graves)\",\"marker\":{\"color\":\"#00cc96\",\"pattern\":{\"shape\":\"\"}},\"name\":\"Pessac-L\\u00e9ognan (Grand Cru Class\\u00e9 de Graves)\",\"offsetgroup\":\"Pessac-L\\u00e9ognan (Grand Cru Class\\u00e9 de Graves)\",\"orientation\":\"v\",\"showlegend\":true,\"textposition\":\"auto\",\"x\":[\"coffee\",\"coffee\",\"coffee\",\"toast\",\"cream\",\"toast\",\"cream\",\"citrus\",\"citrus\",\"toast\",\"cream\"],\"xaxis\":\"x\",\"y\":[234,210,86,72,70,62,53,33,29,28,20],\"yaxis\":\"y\",\"type\":\"bar\"},{\"alignmentgroup\":\"True\",\"hovertemplate\":\"wine_name=ARTEMIS Cabernet Sauvignon\\u003cbr\\u003ekeywords=%{x}\\u003cbr\\u003etotal_user_count=%{y}\\u003cextra\\u003e\\u003c\\u002fextra\\u003e\",\"legendgroup\":\"ARTEMIS Cabernet Sauvignon\",\"marker\":{\"color\":\"#ab63fa\",\"pattern\":{\"shape\":\"\"}},\"name\":\"ARTEMIS Cabernet Sauvignon\",\"offsetgroup\":\"ARTEMIS Cabernet Sauvignon\",\"orientation\":\"v\",\"showlegend\":true,\"textposition\":\"auto\",\"x\":[\"coffee\",\"toast\",\"cream\"],\"xaxis\":\"x\",\"y\":[232,120,93],\"yaxis\":\"y\",\"type\":\"bar\"},{\"alignmentgroup\":\"True\",\"hovertemplate\":\"wine_name=MV\\u003cbr\\u003ekeywords=%{x}\\u003cbr\\u003etotal_user_count=%{y}\\u003cextra\\u003e\\u003c\\u002fextra\\u003e\",\"legendgroup\":\"MV\",\"marker\":{\"color\":\"#FFA15A\",\"pattern\":{\"shape\":\"\"}},\"name\":\"MV\",\"offsetgroup\":\"MV\",\"orientation\":\"v\",\"showlegend\":true,\"textposition\":\"auto\",\"x\":[\"toast\",\"citrus\",\"cream\",\"green apple\",\"coffee\"],\"xaxis\":\"x\",\"y\":[226,131,109,33,20],\"yaxis\":\"y\",\"type\":\"bar\"},{\"alignmentgroup\":\"True\",\"hovertemplate\":\"wine_name=Grand Vin de Ch\\u00e2teau Palmer (Grand Cru Class\\u00e9)\\u003cbr\\u003ekeywords=%{x}\\u003cbr\\u003etotal_user_count=%{y}\\u003cextra\\u003e\\u003c\\u002fextra\\u003e\",\"legendgroup\":\"Grand Vin de Ch\\u00e2teau Palmer (Grand Cru Class\\u00e9)\",\"marker\":{\"color\":\"#19d3f3\",\"pattern\":{\"shape\":\"\"}},\"name\":\"Grand Vin de Ch\\u00e2teau Palmer (Grand Cru Class\\u00e9)\",\"offsetgroup\":\"Grand Vin de Ch\\u00e2teau Palmer (Grand Cru Class\\u00e9)\",\"orientation\":\"v\",\"showlegend\":true,\"textposition\":\"auto\",\"x\":[\"coffee\",\"toast\",\"cream\"],\"xaxis\":\"x\",\"y\":[222,70,38],\"yaxis\":\"y\",\"type\":\"bar\"},{\"alignmentgroup\":\"True\",\"hovertemplate\":\"wine_name=Grand Vin Pauillac (Premier Grand Cru Class\\u00e9)\\u003cbr\\u003ekeywords=%{x}\\u003cbr\\u003etotal_user_count=%{y}\\u003cextra\\u003e\\u003c\\u002fextra\\u003e\",\"legendgroup\":\"Grand Vin Pauillac (Premier Grand Cru Class\\u00e9)\",\"marker\":{\"color\":\"#FF6692\",\"pattern\":{\"shape\":\"\"}},\"name\":\"Grand Vin Pauillac (Premier Grand Cru Class\\u00e9)\",\"offsetgroup\":\"Grand Vin Pauillac (Premier Grand Cru Class\\u00e9)\",\"orientation\":\"v\",\"showlegend\":true,\"textposition\":\"auto\",\"x\":[\"coffee\",\"toast\",\"cream\"],\"xaxis\":\"x\",\"y\":[216,46,29],\"yaxis\":\"y\",\"type\":\"bar\"},{\"alignmentgroup\":\"True\",\"hovertemplate\":\"wine_name=Sauternes\\u003cbr\\u003ekeywords=%{x}\\u003cbr\\u003etotal_user_count=%{y}\\u003cextra\\u003e\\u003c\\u002fextra\\u003e\",\"legendgroup\":\"Sauternes\",\"marker\":{\"color\":\"#B6E880\",\"pattern\":{\"shape\":\"\"}},\"name\":\"Sauternes\",\"offsetgroup\":\"Sauternes\",\"orientation\":\"v\",\"showlegend\":true,\"textposition\":\"auto\",\"x\":[\"cream\",\"citrus\",\"toast\",\"coffee\",\"green apple\"],\"xaxis\":\"x\",\"y\":[215,201,98,52,13],\"yaxis\":\"y\",\"type\":\"bar\"},{\"alignmentgroup\":\"True\",\"hovertemplate\":\"wine_name=Clio\\u003cbr\\u003ekeywords=%{x}\\u003cbr\\u003etotal_user_count=%{y}\\u003cextra\\u003e\\u003c\\u002fextra\\u003e\",\"legendgroup\":\"Clio\",\"marker\":{\"color\":\"#FF97FF\",\"pattern\":{\"shape\":\"\"}},\"name\":\"Clio\",\"offsetgroup\":\"Clio\",\"orientation\":\"v\",\"showlegend\":true,\"textposition\":\"auto\",\"x\":[\"coffee\",\"cream\",\"toast\"],\"xaxis\":\"x\",\"y\":[210,54,44],\"yaxis\":\"y\",\"type\":\"bar\"},{\"alignmentgroup\":\"True\",\"hovertemplate\":\"wine_name=Ch\\u00e2teau Margaux (Premier Grand Cru Class\\u00e9)\\u003cbr\\u003ekeywords=%{x}\\u003cbr\\u003etotal_user_count=%{y}\\u003cextra\\u003e\\u003c\\u002fextra\\u003e\",\"legendgroup\":\"Ch\\u00e2teau Margaux (Premier Grand Cru Class\\u00e9)\",\"marker\":{\"color\":\"#FECB52\",\"pattern\":{\"shape\":\"\"}},\"name\":\"Ch\\u00e2teau Margaux (Premier Grand Cru Class\\u00e9)\",\"offsetgroup\":\"Ch\\u00e2teau Margaux (Premier Grand Cru Class\\u00e9)\",\"orientation\":\"v\",\"showlegend\":true,\"textposition\":\"auto\",\"x\":[\"coffee\",\"toast\",\"cream\",\"citrus\"],\"xaxis\":\"x\",\"y\":[206,76,37,10],\"yaxis\":\"y\",\"type\":\"bar\"},{\"alignmentgroup\":\"True\",\"hovertemplate\":\"wine_name=Le Serre Nuove\\u003cbr\\u003ekeywords=%{x}\\u003cbr\\u003etotal_user_count=%{y}\\u003cextra\\u003e\\u003c\\u002fextra\\u003e\",\"legendgroup\":\"Le Serre Nuove\",\"marker\":{\"color\":\"#636efa\",\"pattern\":{\"shape\":\"\"}},\"name\":\"Le Serre Nuove\",\"offsetgroup\":\"Le Serre Nuove\",\"orientation\":\"v\",\"showlegend\":true,\"textposition\":\"auto\",\"x\":[\"coffee\",\"cream\",\"toast\"],\"xaxis\":\"x\",\"y\":[202,56,48],\"yaxis\":\"y\",\"type\":\"bar\"},{\"alignmentgroup\":\"True\",\"hovertemplate\":\"wine_name=Saint-\\u00c9milion Grand Cru (Premier Grand Cru Class\\u00e9)\\u003cbr\\u003ekeywords=%{x}\\u003cbr\\u003etotal_user_count=%{y}\\u003cextra\\u003e\\u003c\\u002fextra\\u003e\",\"legendgroup\":\"Saint-\\u00c9milion Grand Cru (Premier Grand Cru Class\\u00e9)\",\"marker\":{\"color\":\"#EF553B\",\"pattern\":{\"shape\":\"\"}},\"name\":\"Saint-\\u00c9milion Grand Cru (Premier Grand Cru Class\\u00e9)\",\"offsetgroup\":\"Saint-\\u00c9milion Grand Cru (Premier Grand Cru Class\\u00e9)\",\"orientation\":\"v\",\"showlegend\":true,\"textposition\":\"auto\",\"x\":[\"coffee\",\"coffee\",\"coffee\",\"coffee\",\"coffee\",\"coffee\",\"coffee\",\"coffee\",\"toast\",\"toast\",\"cream\",\"cream\",\"toast\",\"cream\",\"toast\",\"cream\",\"toast\",\"toast\",\"cream\",\"cream\",\"cream\",\"toast\",\"toast\"],\"xaxis\":\"x\",\"y\":[202,176,166,160,134,92,74,66,48,46,36,33,30,28,28,26,26,24,22,19,18,14,14],\"yaxis\":\"y\",\"type\":\"bar\"},{\"alignmentgroup\":\"True\",\"hovertemplate\":\"wine_name=Tenuta Tignanello 'Solaia'\\u003cbr\\u003ekeywords=%{x}\\u003cbr\\u003etotal_user_count=%{y}\\u003cextra\\u003e\\u003c\\u002fextra\\u003e\",\"legendgroup\":\"Tenuta Tignanello 'Solaia'\",\"marker\":{\"color\":\"#00cc96\",\"pattern\":{\"shape\":\"\"}},\"name\":\"Tenuta Tignanello 'Solaia'\",\"offsetgroup\":\"Tenuta Tignanello 'Solaia'\",\"orientation\":\"v\",\"showlegend\":true,\"textposition\":\"auto\",\"x\":[\"coffee\",\"toast\",\"cream\"],\"xaxis\":\"x\",\"y\":[200,38,33],\"yaxis\":\"y\",\"type\":\"bar\"},{\"alignmentgroup\":\"True\",\"hovertemplate\":\"wine_name=Les Noisetiers\\u003cbr\\u003ekeywords=%{x}\\u003cbr\\u003etotal_user_count=%{y}\\u003cextra\\u003e\\u003c\\u002fextra\\u003e\",\"legendgroup\":\"Les Noisetiers\",\"marker\":{\"color\":\"#ab63fa\",\"pattern\":{\"shape\":\"\"}},\"name\":\"Les Noisetiers\",\"offsetgroup\":\"Les Noisetiers\",\"orientation\":\"v\",\"showlegend\":true,\"textposition\":\"auto\",\"x\":[\"cream\",\"citrus\",\"toast\",\"green apple\"],\"xaxis\":\"x\",\"y\":[197,174,74,44],\"yaxis\":\"y\",\"type\":\"bar\"},{\"alignmentgroup\":\"True\",\"hovertemplate\":\"wine_name=Insignia\\u003cbr\\u003ekeywords=%{x}\\u003cbr\\u003etotal_user_count=%{y}\\u003cextra\\u003e\\u003c\\u002fextra\\u003e\",\"legendgroup\":\"Insignia\",\"marker\":{\"color\":\"#FFA15A\",\"pattern\":{\"shape\":\"\"}},\"name\":\"Insignia\",\"offsetgroup\":\"Insignia\",\"orientation\":\"v\",\"showlegend\":true,\"textposition\":\"auto\",\"x\":[\"coffee\",\"toast\",\"cream\"],\"xaxis\":\"x\",\"y\":[194,58,51],\"yaxis\":\"y\",\"type\":\"bar\"},{\"alignmentgroup\":\"True\",\"hovertemplate\":\"wine_name=Amour de Deutz Mill\\u00e9sim\\u00e9 Brut Champagne\\u003cbr\\u003ekeywords=%{x}\\u003cbr\\u003etotal_user_count=%{y}\\u003cextra\\u003e\\u003c\\u002fextra\\u003e\",\"legendgroup\":\"Amour de Deutz Mill\\u00e9sim\\u00e9 Brut Champagne\",\"marker\":{\"color\":\"#19d3f3\",\"pattern\":{\"shape\":\"\"}},\"name\":\"Amour de Deutz Mill\\u00e9sim\\u00e9 Brut Champagne\",\"offsetgroup\":\"Amour de Deutz Mill\\u00e9sim\\u00e9 Brut Champagne\",\"orientation\":\"v\",\"showlegend\":true,\"textposition\":\"auto\",\"x\":[\"toast\",\"cream\",\"citrus\",\"green apple\"],\"xaxis\":\"x\",\"y\":[190,92,89,25],\"yaxis\":\"y\",\"type\":\"bar\"},{\"alignmentgroup\":\"True\",\"hovertemplate\":\"wine_name=Pomerol\\u003cbr\\u003ekeywords=%{x}\\u003cbr\\u003etotal_user_count=%{y}\\u003cextra\\u003e\\u003c\\u002fextra\\u003e\",\"legendgroup\":\"Pomerol\",\"marker\":{\"color\":\"#FF6692\",\"pattern\":{\"shape\":\"\"}},\"name\":\"Pomerol\",\"offsetgroup\":\"Pomerol\",\"orientation\":\"v\",\"showlegend\":true,\"textposition\":\"auto\",\"x\":[\"coffee\",\"coffee\",\"coffee\",\"coffee\",\"coffee\",\"coffee\",\"coffee\",\"coffee\",\"toast\",\"coffee\",\"toast\",\"coffee\",\"coffee\",\"toast\",\"toast\",\"cream\",\"toast\",\"toast\",\"cream\",\"coffee\",\"cream\",\"cream\",\"toast\",\"toast\",\"cream\",\"cream\",\"cream\",\"cream\",\"toast\",\"cream\"],\"xaxis\":\"x\",\"y\":[188,124,104,98,92,90,88,72,62,50,46,44,36,32,32,29,28,28,26,26,22,21,20,20,18,15,13,12,12,10],\"yaxis\":\"y\",\"type\":\"bar\"},{\"alignmentgroup\":\"True\",\"hovertemplate\":\"wine_name=Saint-Est\\u00e8phe (Grand Cru Class\\u00e9)\\u003cbr\\u003ekeywords=%{x}\\u003cbr\\u003etotal_user_count=%{y}\\u003cextra\\u003e\\u003c\\u002fextra\\u003e\",\"legendgroup\":\"Saint-Est\\u00e8phe (Grand Cru Class\\u00e9)\",\"marker\":{\"color\":\"#B6E880\",\"pattern\":{\"shape\":\"\"}},\"name\":\"Saint-Est\\u00e8phe (Grand Cru Class\\u00e9)\",\"offsetgroup\":\"Saint-Est\\u00e8phe (Grand Cru Class\\u00e9)\",\"orientation\":\"v\",\"showlegend\":true,\"textposition\":\"auto\",\"x\":[\"coffee\",\"toast\",\"cream\"],\"xaxis\":\"x\",\"y\":[188,70,39],\"yaxis\":\"y\",\"type\":\"bar\"},{\"alignmentgroup\":\"True\",\"hovertemplate\":\"wine_name=Silex\\u003cbr\\u003ekeywords=%{x}\\u003cbr\\u003etotal_user_count=%{y}\\u003cextra\\u003e\\u003c\\u002fextra\\u003e\",\"legendgroup\":\"Silex\",\"marker\":{\"color\":\"#FF97FF\",\"pattern\":{\"shape\":\"\"}},\"name\":\"Silex\",\"offsetgroup\":\"Silex\",\"orientation\":\"v\",\"showlegend\":true,\"textposition\":\"auto\",\"x\":[\"citrus\",\"green apple\",\"cream\",\"toast\"],\"xaxis\":\"x\",\"y\":[185,48,45,26],\"yaxis\":\"y\",\"type\":\"bar\"},{\"alignmentgroup\":\"True\",\"hovertemplate\":\"wine_name=Ch\\u00e2teauneuf-du-Pape\\u003cbr\\u003ekeywords=%{x}\\u003cbr\\u003etotal_user_count=%{y}\\u003cextra\\u003e\\u003c\\u002fextra\\u003e\",\"legendgroup\":\"Ch\\u00e2teauneuf-du-Pape\",\"marker\":{\"color\":\"#FECB52\",\"pattern\":{\"shape\":\"\"}},\"name\":\"Ch\\u00e2teauneuf-du-Pape\",\"offsetgroup\":\"Ch\\u00e2teauneuf-du-Pape\",\"orientation\":\"v\",\"showlegend\":true,\"textposition\":\"auto\",\"x\":[\"coffee\",\"toast\",\"cream\",\"coffee\",\"toast\",\"toast\",\"cream\",\"citrus\"],\"xaxis\":\"x\",\"y\":[184,82,49,24,12,12,11,11],\"yaxis\":\"y\",\"type\":\"bar\"},{\"alignmentgroup\":\"True\",\"hovertemplate\":\"wine_name=Malleolus\\u003cbr\\u003ekeywords=%{x}\\u003cbr\\u003etotal_user_count=%{y}\\u003cextra\\u003e\\u003c\\u002fextra\\u003e\",\"legendgroup\":\"Malleolus\",\"marker\":{\"color\":\"#636efa\",\"pattern\":{\"shape\":\"\"}},\"name\":\"Malleolus\",\"offsetgroup\":\"Malleolus\",\"orientation\":\"v\",\"showlegend\":true,\"textposition\":\"auto\",\"x\":[\"coffee\",\"toast\",\"cream\"],\"xaxis\":\"x\",\"y\":[172,52,12],\"yaxis\":\"y\",\"type\":\"bar\"},{\"alignmentgroup\":\"True\",\"hovertemplate\":\"wine_name=Alexander Valley Cabernet Sauvignon\\u003cbr\\u003ekeywords=%{x}\\u003cbr\\u003etotal_user_count=%{y}\\u003cextra\\u003e\\u003c\\u002fextra\\u003e\",\"legendgroup\":\"Alexander Valley Cabernet Sauvignon\",\"marker\":{\"color\":\"#EF553B\",\"pattern\":{\"shape\":\"\"}},\"name\":\"Alexander Valley Cabernet Sauvignon\",\"offsetgroup\":\"Alexander Valley Cabernet Sauvignon\",\"orientation\":\"v\",\"showlegend\":true,\"textposition\":\"auto\",\"x\":[\"coffee\",\"toast\",\"cream\"],\"xaxis\":\"x\",\"y\":[168,62,46],\"yaxis\":\"y\",\"type\":\"bar\"},{\"alignmentgroup\":\"True\",\"hovertemplate\":\"wine_name=Special Selection Cabernet Sauvignon\\u003cbr\\u003ekeywords=%{x}\\u003cbr\\u003etotal_user_count=%{y}\\u003cextra\\u003e\\u003c\\u002fextra\\u003e\",\"legendgroup\":\"Special Selection Cabernet Sauvignon\",\"marker\":{\"color\":\"#00cc96\",\"pattern\":{\"shape\":\"\"}},\"name\":\"Special Selection Cabernet Sauvignon\",\"offsetgroup\":\"Special Selection Cabernet Sauvignon\",\"orientation\":\"v\",\"showlegend\":true,\"textposition\":\"auto\",\"x\":[\"coffee\",\"cream\",\"toast\"],\"xaxis\":\"x\",\"y\":[162,82,50],\"yaxis\":\"y\",\"type\":\"bar\"},{\"alignmentgroup\":\"True\",\"hovertemplate\":\"wine_name=Flor de Pingus\\u003cbr\\u003ekeywords=%{x}\\u003cbr\\u003etotal_user_count=%{y}\\u003cextra\\u003e\\u003c\\u002fextra\\u003e\",\"legendgroup\":\"Flor de Pingus\",\"marker\":{\"color\":\"#ab63fa\",\"pattern\":{\"shape\":\"\"}},\"name\":\"Flor de Pingus\",\"offsetgroup\":\"Flor de Pingus\",\"orientation\":\"v\",\"showlegend\":true,\"textposition\":\"auto\",\"x\":[\"coffee\",\"toast\",\"cream\"],\"xaxis\":\"x\",\"y\":[158,52,25],\"yaxis\":\"y\",\"type\":\"bar\"},{\"alignmentgroup\":\"True\",\"hovertemplate\":\"wine_name=Capellan\\u00eda Reserva\\u003cbr\\u003ekeywords=%{x}\\u003cbr\\u003etotal_user_count=%{y}\\u003cextra\\u003e\\u003c\\u002fextra\\u003e\",\"legendgroup\":\"Capellan\\u00eda Reserva\",\"marker\":{\"color\":\"#FFA15A\",\"pattern\":{\"shape\":\"\"}},\"name\":\"Capellan\\u00eda Reserva\",\"offsetgroup\":\"Capellan\\u00eda Reserva\",\"orientation\":\"v\",\"showlegend\":true,\"textposition\":\"auto\",\"x\":[\"citrus\",\"cream\",\"toast\",\"green apple\"],\"xaxis\":\"x\",\"y\":[157,131,114,31],\"yaxis\":\"y\",\"type\":\"bar\"},{\"alignmentgroup\":\"True\",\"hovertemplate\":\"wine_name=Flaccianello della Pieve\\u003cbr\\u003ekeywords=%{x}\\u003cbr\\u003etotal_user_count=%{y}\\u003cextra\\u003e\\u003c\\u002fextra\\u003e\",\"legendgroup\":\"Flaccianello della Pieve\",\"marker\":{\"color\":\"#19d3f3\",\"pattern\":{\"shape\":\"\"}},\"name\":\"Flaccianello della Pieve\",\"offsetgroup\":\"Flaccianello della Pieve\",\"orientation\":\"v\",\"showlegend\":true,\"textposition\":\"auto\",\"x\":[\"coffee\",\"toast\",\"cream\"],\"xaxis\":\"x\",\"y\":[156,50,22],\"yaxis\":\"y\",\"type\":\"bar\"},{\"alignmentgroup\":\"True\",\"hovertemplate\":\"wine_name=Margaux (Grand Cru Class\\u00e9)\\u003cbr\\u003ekeywords=%{x}\\u003cbr\\u003etotal_user_count=%{y}\\u003cextra\\u003e\\u003c\\u002fextra\\u003e\",\"legendgroup\":\"Margaux (Grand Cru Class\\u00e9)\",\"marker\":{\"color\":\"#FF6692\",\"pattern\":{\"shape\":\"\"}},\"name\":\"Margaux (Grand Cru Class\\u00e9)\",\"offsetgroup\":\"Margaux (Grand Cru Class\\u00e9)\",\"orientation\":\"v\",\"showlegend\":true,\"textposition\":\"auto\",\"x\":[\"coffee\",\"toast\",\"cream\"],\"xaxis\":\"x\",\"y\":[154,52,22],\"yaxis\":\"y\",\"type\":\"bar\"},{\"alignmentgroup\":\"True\",\"hovertemplate\":\"wine_name=Dominus (Christian Moueix)\\u003cbr\\u003ekeywords=%{x}\\u003cbr\\u003etotal_user_count=%{y}\\u003cextra\\u003e\\u003c\\u002fextra\\u003e\",\"legendgroup\":\"Dominus (Christian Moueix)\",\"marker\":{\"color\":\"#B6E880\",\"pattern\":{\"shape\":\"\"}},\"name\":\"Dominus (Christian Moueix)\",\"offsetgroup\":\"Dominus (Christian Moueix)\",\"orientation\":\"v\",\"showlegend\":true,\"textposition\":\"auto\",\"x\":[\"coffee\",\"cream\",\"toast\"],\"xaxis\":\"x\",\"y\":[152,58,50],\"yaxis\":\"y\",\"type\":\"bar\"},{\"alignmentgroup\":\"True\",\"hovertemplate\":\"wine_name=Clos Apalta\\u003cbr\\u003ekeywords=%{x}\\u003cbr\\u003etotal_user_count=%{y}\\u003cextra\\u003e\\u003c\\u002fextra\\u003e\",\"legendgroup\":\"Clos Apalta\",\"marker\":{\"color\":\"#FF97FF\",\"pattern\":{\"shape\":\"\"}},\"name\":\"Clos Apalta\",\"offsetgroup\":\"Clos Apalta\",\"orientation\":\"v\",\"showlegend\":true,\"textposition\":\"auto\",\"x\":[\"coffee\",\"cream\",\"toast\"],\"xaxis\":\"x\",\"y\":[152,36,26],\"yaxis\":\"y\",\"type\":\"bar\"},{\"alignmentgroup\":\"True\",\"hovertemplate\":\"wine_name=Sauternes (Premier Grand Cru Class\\u00e9)\\u003cbr\\u003ekeywords=%{x}\\u003cbr\\u003etotal_user_count=%{y}\\u003cextra\\u003e\\u003c\\u002fextra\\u003e\",\"legendgroup\":\"Sauternes (Premier Grand Cru Class\\u00e9)\",\"marker\":{\"color\":\"#FECB52\",\"pattern\":{\"shape\":\"\"}},\"name\":\"Sauternes (Premier Grand Cru Class\\u00e9)\",\"offsetgroup\":\"Sauternes (Premier Grand Cru Class\\u00e9)\",\"orientation\":\"v\",\"showlegend\":true,\"textposition\":\"auto\",\"x\":[\"cream\",\"citrus\",\"citrus\",\"cream\",\"toast\",\"toast\",\"coffee\",\"coffee\",\"green apple\"],\"xaxis\":\"x\",\"y\":[151,134,133,126,88,74,32,26,10],\"yaxis\":\"y\",\"type\":\"bar\"},{\"alignmentgroup\":\"True\",\"hovertemplate\":\"wine_name=Blanc de Blancs Brut Champagne (Vintage)\\u003cbr\\u003ekeywords=%{x}\\u003cbr\\u003etotal_user_count=%{y}\\u003cextra\\u003e\\u003c\\u002fextra\\u003e\",\"legendgroup\":\"Blanc de Blancs Brut Champagne (Vintage)\",\"marker\":{\"color\":\"#636efa\",\"pattern\":{\"shape\":\"\"}},\"name\":\"Blanc de Blancs Brut Champagne (Vintage)\",\"offsetgroup\":\"Blanc de Blancs Brut Champagne (Vintage)\",\"orientation\":\"v\",\"showlegend\":true,\"textposition\":\"auto\",\"x\":[\"citrus\",\"toast\",\"cream\",\"green apple\"],\"xaxis\":\"x\",\"y\":[143,112,92,62],\"yaxis\":\"y\",\"type\":\"bar\"},{\"alignmentgroup\":\"True\",\"hovertemplate\":\"wine_name=Pian delle Vigne Brunello di Montalcino\\u003cbr\\u003ekeywords=%{x}\\u003cbr\\u003etotal_user_count=%{y}\\u003cextra\\u003e\\u003c\\u002fextra\\u003e\",\"legendgroup\":\"Pian delle Vigne Brunello di Montalcino\",\"marker\":{\"color\":\"#EF553B\",\"pattern\":{\"shape\":\"\"}},\"name\":\"Pian delle Vigne Brunello di Montalcino\",\"offsetgroup\":\"Pian delle Vigne Brunello di Montalcino\",\"orientation\":\"v\",\"showlegend\":true,\"textposition\":\"auto\",\"x\":[\"coffee\",\"cream\",\"toast\"],\"xaxis\":\"x\",\"y\":[140,26,22],\"yaxis\":\"y\",\"type\":\"bar\"},{\"alignmentgroup\":\"True\",\"hovertemplate\":\"wine_name=Saint-\\u00c9milion Grand Cru\\u003cbr\\u003ekeywords=%{x}\\u003cbr\\u003etotal_user_count=%{y}\\u003cextra\\u003e\\u003c\\u002fextra\\u003e\",\"legendgroup\":\"Saint-\\u00c9milion Grand Cru\",\"marker\":{\"color\":\"#00cc96\",\"pattern\":{\"shape\":\"\"}},\"name\":\"Saint-\\u00c9milion Grand Cru\",\"offsetgroup\":\"Saint-\\u00c9milion Grand Cru\",\"orientation\":\"v\",\"showlegend\":true,\"textposition\":\"auto\",\"x\":[\"coffee\",\"coffee\",\"coffee\",\"cream\",\"cream\"],\"xaxis\":\"x\",\"y\":[138,60,20,15,11],\"yaxis\":\"y\",\"type\":\"bar\"},{\"alignmentgroup\":\"True\",\"hovertemplate\":\"wine_name=Roda I Reserva Rioja\\u003cbr\\u003ekeywords=%{x}\\u003cbr\\u003etotal_user_count=%{y}\\u003cextra\\u003e\\u003c\\u002fextra\\u003e\",\"legendgroup\":\"Roda I Reserva Rioja\",\"marker\":{\"color\":\"#ab63fa\",\"pattern\":{\"shape\":\"\"}},\"name\":\"Roda I Reserva Rioja\",\"offsetgroup\":\"Roda I Reserva Rioja\",\"orientation\":\"v\",\"showlegend\":true,\"textposition\":\"auto\",\"x\":[\"coffee\",\"cream\",\"toast\"],\"xaxis\":\"x\",\"y\":[138,41,40],\"yaxis\":\"y\",\"type\":\"bar\"},{\"alignmentgroup\":\"True\",\"hovertemplate\":\"wine_name=Aconcagua Valley\\u003cbr\\u003ekeywords=%{x}\\u003cbr\\u003etotal_user_count=%{y}\\u003cextra\\u003e\\u003c\\u002fextra\\u003e\",\"legendgroup\":\"Aconcagua Valley\",\"marker\":{\"color\":\"#FFA15A\",\"pattern\":{\"shape\":\"\"}},\"name\":\"Aconcagua Valley\",\"offsetgroup\":\"Aconcagua Valley\",\"orientation\":\"v\",\"showlegend\":true,\"textposition\":\"auto\",\"x\":[\"coffee\",\"toast\",\"cream\"],\"xaxis\":\"x\",\"y\":[136,58,31],\"yaxis\":\"y\",\"type\":\"bar\"},{\"alignmentgroup\":\"True\",\"hovertemplate\":\"wine_name=Barbaresco\\u003cbr\\u003ekeywords=%{x}\\u003cbr\\u003etotal_user_count=%{y}\\u003cextra\\u003e\\u003c\\u002fextra\\u003e\",\"legendgroup\":\"Barbaresco\",\"marker\":{\"color\":\"#19d3f3\",\"pattern\":{\"shape\":\"\"}},\"name\":\"Barbaresco\",\"offsetgroup\":\"Barbaresco\",\"orientation\":\"v\",\"showlegend\":true,\"textposition\":\"auto\",\"x\":[\"coffee\",\"toast\",\"citrus\"],\"xaxis\":\"x\",\"y\":[134,16,10],\"yaxis\":\"y\",\"type\":\"bar\"},{\"alignmentgroup\":\"True\",\"hovertemplate\":\"wine_name=St. Henri Shiraz\\u003cbr\\u003ekeywords=%{x}\\u003cbr\\u003etotal_user_count=%{y}\\u003cextra\\u003e\\u003c\\u002fextra\\u003e\",\"legendgroup\":\"St. Henri Shiraz\",\"marker\":{\"color\":\"#FF6692\",\"pattern\":{\"shape\":\"\"}},\"name\":\"St. Henri Shiraz\",\"offsetgroup\":\"St. Henri Shiraz\",\"orientation\":\"v\",\"showlegend\":true,\"textposition\":\"auto\",\"x\":[\"coffee\",\"cream\",\"toast\"],\"xaxis\":\"x\",\"y\":[130,29,20],\"yaxis\":\"y\",\"type\":\"bar\"},{\"alignmentgroup\":\"True\",\"hovertemplate\":\"wine_name=Tenuta Nuova Brunello di Montalcino\\u003cbr\\u003ekeywords=%{x}\\u003cbr\\u003etotal_user_count=%{y}\\u003cextra\\u003e\\u003c\\u002fextra\\u003e\",\"legendgroup\":\"Tenuta Nuova Brunello di Montalcino\",\"marker\":{\"color\":\"#B6E880\",\"pattern\":{\"shape\":\"\"}},\"name\":\"Tenuta Nuova Brunello di Montalcino\",\"offsetgroup\":\"Tenuta Nuova Brunello di Montalcino\",\"orientation\":\"v\",\"showlegend\":true,\"textposition\":\"auto\",\"x\":[\"coffee\",\"cream\",\"toast\"],\"xaxis\":\"x\",\"y\":[130,22,14],\"yaxis\":\"y\",\"type\":\"bar\"},{\"alignmentgroup\":\"True\",\"hovertemplate\":\"wine_name=Ros\\u00e9\\u003cbr\\u003ekeywords=%{x}\\u003cbr\\u003etotal_user_count=%{y}\\u003cextra\\u003e\\u003c\\u002fextra\\u003e\",\"legendgroup\":\"Ros\\u00e9\",\"marker\":{\"color\":\"#FF97FF\",\"pattern\":{\"shape\":\"\"}},\"name\":\"Ros\\u00e9\",\"offsetgroup\":\"Ros\\u00e9\",\"orientation\":\"v\",\"showlegend\":true,\"textposition\":\"auto\",\"x\":[\"toast\",\"cream\",\"citrus\"],\"xaxis\":\"x\",\"y\":[130,56,43],\"yaxis\":\"y\",\"type\":\"bar\"},{\"alignmentgroup\":\"True\",\"hovertemplate\":\"wine_name=Vin de Constance (Natural Sweet)\\u003cbr\\u003ekeywords=%{x}\\u003cbr\\u003etotal_user_count=%{y}\\u003cextra\\u003e\\u003c\\u002fextra\\u003e\",\"legendgroup\":\"Vin de Constance (Natural Sweet)\",\"marker\":{\"color\":\"#FECB52\",\"pattern\":{\"shape\":\"\"}},\"name\":\"Vin de Constance (Natural Sweet)\",\"offsetgroup\":\"Vin de Constance (Natural Sweet)\",\"orientation\":\"v\",\"showlegend\":true,\"textposition\":\"auto\",\"x\":[\"citrus\",\"cream\",\"toast\",\"coffee\"],\"xaxis\":\"x\",\"y\":[129,81,36,26],\"yaxis\":\"y\",\"type\":\"bar\"},{\"alignmentgroup\":\"True\",\"hovertemplate\":\"wine_name=Mendoza\\u003cbr\\u003ekeywords=%{x}\\u003cbr\\u003etotal_user_count=%{y}\\u003cextra\\u003e\\u003c\\u002fextra\\u003e\",\"legendgroup\":\"Mendoza\",\"marker\":{\"color\":\"#636efa\",\"pattern\":{\"shape\":\"\"}},\"name\":\"Mendoza\",\"offsetgroup\":\"Mendoza\",\"orientation\":\"v\",\"showlegend\":true,\"textposition\":\"auto\",\"x\":[\"coffee\",\"cream\",\"toast\"],\"xaxis\":\"x\",\"y\":[128,23,14],\"yaxis\":\"y\",\"type\":\"bar\"},{\"alignmentgroup\":\"True\",\"hovertemplate\":\"wine_name=Paleo Rosso\\u003cbr\\u003ekeywords=%{x}\\u003cbr\\u003etotal_user_count=%{y}\\u003cextra\\u003e\\u003c\\u002fextra\\u003e\",\"legendgroup\":\"Paleo Rosso\",\"marker\":{\"color\":\"#EF553B\",\"pattern\":{\"shape\":\"\"}},\"name\":\"Paleo Rosso\",\"offsetgroup\":\"Paleo Rosso\",\"orientation\":\"v\",\"showlegend\":true,\"textposition\":\"auto\",\"x\":[\"coffee\",\"cream\",\"toast\"],\"xaxis\":\"x\",\"y\":[124,27,14],\"yaxis\":\"y\",\"type\":\"bar\"},{\"alignmentgroup\":\"True\",\"hovertemplate\":\"wine_name=Papillon\\u003cbr\\u003ekeywords=%{x}\\u003cbr\\u003etotal_user_count=%{y}\\u003cextra\\u003e\\u003c\\u002fextra\\u003e\",\"legendgroup\":\"Papillon\",\"marker\":{\"color\":\"#00cc96\",\"pattern\":{\"shape\":\"\"}},\"name\":\"Papillon\",\"offsetgroup\":\"Papillon\",\"orientation\":\"v\",\"showlegend\":true,\"textposition\":\"auto\",\"x\":[\"coffee\",\"toast\",\"cream\"],\"xaxis\":\"x\",\"y\":[122,76,29],\"yaxis\":\"y\",\"type\":\"bar\"},{\"alignmentgroup\":\"True\",\"hovertemplate\":\"wine_name=Valpolicella Superiore Monte Lodoletta\\u003cbr\\u003ekeywords=%{x}\\u003cbr\\u003etotal_user_count=%{y}\\u003cextra\\u003e\\u003c\\u002fextra\\u003e\",\"legendgroup\":\"Valpolicella Superiore Monte Lodoletta\",\"marker\":{\"color\":\"#ab63fa\",\"pattern\":{\"shape\":\"\"}},\"name\":\"Valpolicella Superiore Monte Lodoletta\",\"offsetgroup\":\"Valpolicella Superiore Monte Lodoletta\",\"orientation\":\"v\",\"showlegend\":true,\"textposition\":\"auto\",\"x\":[\"coffee\",\"toast\",\"cream\"],\"xaxis\":\"x\",\"y\":[122,18,11],\"yaxis\":\"y\",\"type\":\"bar\"},{\"alignmentgroup\":\"True\",\"hovertemplate\":\"wine_name=Hermitage La Chapelle Rouge\\u003cbr\\u003ekeywords=%{x}\\u003cbr\\u003etotal_user_count=%{y}\\u003cextra\\u003e\\u003c\\u002fextra\\u003e\",\"legendgroup\":\"Hermitage La Chapelle Rouge\",\"marker\":{\"color\":\"#FFA15A\",\"pattern\":{\"shape\":\"\"}},\"name\":\"Hermitage La Chapelle Rouge\",\"offsetgroup\":\"Hermitage La Chapelle Rouge\",\"orientation\":\"v\",\"showlegend\":true,\"textposition\":\"auto\",\"x\":[\"coffee\",\"toast\",\"cream\"],\"xaxis\":\"x\",\"y\":[120,36,22],\"yaxis\":\"y\",\"type\":\"bar\"},{\"alignmentgroup\":\"True\",\"hovertemplate\":\"wine_name=Castillo Ygay Gran Reserva Especial Tinto\\u003cbr\\u003ekeywords=%{x}\\u003cbr\\u003etotal_user_count=%{y}\\u003cextra\\u003e\\u003c\\u002fextra\\u003e\",\"legendgroup\":\"Castillo Ygay Gran Reserva Especial Tinto\",\"marker\":{\"color\":\"#19d3f3\",\"pattern\":{\"shape\":\"\"}},\"name\":\"Castillo Ygay Gran Reserva Especial Tinto\",\"offsetgroup\":\"Castillo Ygay Gran Reserva Especial Tinto\",\"orientation\":\"v\",\"showlegend\":true,\"textposition\":\"auto\",\"x\":[\"coffee\",\"cream\",\"toast\"],\"xaxis\":\"x\",\"y\":[120,71,68],\"yaxis\":\"y\",\"type\":\"bar\"},{\"alignmentgroup\":\"True\",\"hovertemplate\":\"wine_name=Puligny-Montrachet\\u003cbr\\u003ekeywords=%{x}\\u003cbr\\u003etotal_user_count=%{y}\\u003cextra\\u003e\\u003c\\u002fextra\\u003e\",\"legendgroup\":\"Puligny-Montrachet\",\"marker\":{\"color\":\"#FF6692\",\"pattern\":{\"shape\":\"\"}},\"name\":\"Puligny-Montrachet\",\"offsetgroup\":\"Puligny-Montrachet\",\"orientation\":\"v\",\"showlegend\":true,\"textposition\":\"auto\",\"x\":[\"citrus\",\"cream\",\"toast\",\"green apple\"],\"xaxis\":\"x\",\"y\":[118,68,54,15],\"yaxis\":\"y\",\"type\":\"bar\"},{\"alignmentgroup\":\"True\",\"hovertemplate\":\"wine_name=Baron de L Pouilly-Fum\\u00e9\\u003cbr\\u003ekeywords=%{x}\\u003cbr\\u003etotal_user_count=%{y}\\u003cextra\\u003e\\u003c\\u002fextra\\u003e\",\"legendgroup\":\"Baron de L Pouilly-Fum\\u00e9\",\"marker\":{\"color\":\"#B6E880\",\"pattern\":{\"shape\":\"\"}},\"name\":\"Baron de L Pouilly-Fum\\u00e9\",\"offsetgroup\":\"Baron de L Pouilly-Fum\\u00e9\",\"orientation\":\"v\",\"showlegend\":true,\"textposition\":\"auto\",\"x\":[\"citrus\",\"green apple\",\"cream\"],\"xaxis\":\"x\",\"y\":[118,48,19],\"yaxis\":\"y\",\"type\":\"bar\"},{\"alignmentgroup\":\"True\",\"hovertemplate\":\"wine_name=5 Puttonyos Asz\\u00fa (Blue Label)\\u003cbr\\u003ekeywords=%{x}\\u003cbr\\u003etotal_user_count=%{y}\\u003cextra\\u003e\\u003c\\u002fextra\\u003e\",\"legendgroup\":\"5 Puttonyos Asz\\u00fa (Blue Label)\",\"marker\":{\"color\":\"#FF97FF\",\"pattern\":{\"shape\":\"\"}},\"name\":\"5 Puttonyos Asz\\u00fa (Blue Label)\",\"offsetgroup\":\"5 Puttonyos Asz\\u00fa (Blue Label)\",\"orientation\":\"v\",\"showlegend\":true,\"textposition\":\"auto\",\"x\":[\"citrus\",\"cream\",\"toast\",\"green apple\"],\"xaxis\":\"x\",\"y\":[118,68,60,12],\"yaxis\":\"y\",\"type\":\"bar\"},{\"alignmentgroup\":\"True\",\"hovertemplate\":\"wine_name=Fusion V\\u003cbr\\u003ekeywords=%{x}\\u003cbr\\u003etotal_user_count=%{y}\\u003cextra\\u003e\\u003c\\u002fextra\\u003e\",\"legendgroup\":\"Fusion V\",\"marker\":{\"color\":\"#FECB52\",\"pattern\":{\"shape\":\"\"}},\"name\":\"Fusion V\",\"offsetgroup\":\"Fusion V\",\"orientation\":\"v\",\"showlegend\":true,\"textposition\":\"auto\",\"x\":[\"coffee\",\"toast\"],\"xaxis\":\"x\",\"y\":[114,18],\"yaxis\":\"y\",\"type\":\"bar\"},{\"alignmentgroup\":\"True\",\"hovertemplate\":\"wine_name=TD9\\u003cbr\\u003ekeywords=%{x}\\u003cbr\\u003etotal_user_count=%{y}\\u003cextra\\u003e\\u003c\\u002fextra\\u003e\",\"legendgroup\":\"TD9\",\"marker\":{\"color\":\"#636efa\",\"pattern\":{\"shape\":\"\"}},\"name\":\"TD9\",\"offsetgroup\":\"TD9\",\"orientation\":\"v\",\"showlegend\":true,\"textposition\":\"auto\",\"x\":[\"coffee\",\"toast\"],\"xaxis\":\"x\",\"y\":[112,18],\"yaxis\":\"y\",\"type\":\"bar\"},{\"alignmentgroup\":\"True\",\"hovertemplate\":\"wine_name=Luce\\u003cbr\\u003ekeywords=%{x}\\u003cbr\\u003etotal_user_count=%{y}\\u003cextra\\u003e\\u003c\\u002fextra\\u003e\",\"legendgroup\":\"Luce\",\"marker\":{\"color\":\"#EF553B\",\"pattern\":{\"shape\":\"\"}},\"name\":\"Luce\",\"offsetgroup\":\"Luce\",\"orientation\":\"v\",\"showlegend\":true,\"textposition\":\"auto\",\"x\":[\"coffee\",\"toast\",\"cream\"],\"xaxis\":\"x\",\"y\":[108,30,15],\"yaxis\":\"y\",\"type\":\"bar\"},{\"alignmentgroup\":\"True\",\"hovertemplate\":\"wine_name=Monte Bello\\u003cbr\\u003ekeywords=%{x}\\u003cbr\\u003etotal_user_count=%{y}\\u003cextra\\u003e\\u003c\\u002fextra\\u003e\",\"legendgroup\":\"Monte Bello\",\"marker\":{\"color\":\"#00cc96\",\"pattern\":{\"shape\":\"\"}},\"name\":\"Monte Bello\",\"offsetgroup\":\"Monte Bello\",\"orientation\":\"v\",\"showlegend\":true,\"textposition\":\"auto\",\"x\":[\"coffee\",\"toast\",\"cream\"],\"xaxis\":\"x\",\"y\":[106,30,27],\"yaxis\":\"y\",\"type\":\"bar\"},{\"alignmentgroup\":\"True\",\"hovertemplate\":\"wine_name=Clos des Goisses Champagne\\u003cbr\\u003ekeywords=%{x}\\u003cbr\\u003etotal_user_count=%{y}\\u003cextra\\u003e\\u003c\\u002fextra\\u003e\",\"legendgroup\":\"Clos des Goisses Champagne\",\"marker\":{\"color\":\"#ab63fa\",\"pattern\":{\"shape\":\"\"}},\"name\":\"Clos des Goisses Champagne\",\"offsetgroup\":\"Clos des Goisses Champagne\",\"orientation\":\"v\",\"showlegend\":true,\"textposition\":\"auto\",\"x\":[\"toast\",\"citrus\",\"cream\",\"green apple\",\"coffee\"],\"xaxis\":\"x\",\"y\":[106,78,65,24,18],\"yaxis\":\"y\",\"type\":\"bar\"},{\"alignmentgroup\":\"True\",\"hovertemplate\":\"wine_name=Belondrade y Lurton\\u003cbr\\u003ekeywords=%{x}\\u003cbr\\u003etotal_user_count=%{y}\\u003cextra\\u003e\\u003c\\u002fextra\\u003e\",\"legendgroup\":\"Belondrade y Lurton\",\"marker\":{\"color\":\"#FFA15A\",\"pattern\":{\"shape\":\"\"}},\"name\":\"Belondrade y Lurton\",\"offsetgroup\":\"Belondrade y Lurton\",\"orientation\":\"v\",\"showlegend\":true,\"textposition\":\"auto\",\"x\":[\"citrus\",\"cream\",\"green apple\",\"toast\"],\"xaxis\":\"x\",\"y\":[105,75,27,26],\"yaxis\":\"y\",\"type\":\"bar\"},{\"alignmentgroup\":\"True\",\"hovertemplate\":\"wine_name=Oreno Toscana\\u003cbr\\u003ekeywords=%{x}\\u003cbr\\u003etotal_user_count=%{y}\\u003cextra\\u003e\\u003c\\u002fextra\\u003e\",\"legendgroup\":\"Oreno Toscana\",\"marker\":{\"color\":\"#19d3f3\",\"pattern\":{\"shape\":\"\"}},\"name\":\"Oreno Toscana\",\"offsetgroup\":\"Oreno Toscana\",\"orientation\":\"v\",\"showlegend\":true,\"textposition\":\"auto\",\"x\":[\"coffee\",\"toast\",\"cream\"],\"xaxis\":\"x\",\"y\":[104,36,21],\"yaxis\":\"y\",\"type\":\"bar\"},{\"alignmentgroup\":\"True\",\"hovertemplate\":\"wine_name=Mac\\u00e1n Cl\\u00e1sico\\u003cbr\\u003ekeywords=%{x}\\u003cbr\\u003etotal_user_count=%{y}\\u003cextra\\u003e\\u003c\\u002fextra\\u003e\",\"legendgroup\":\"Mac\\u00e1n Cl\\u00e1sico\",\"marker\":{\"color\":\"#FF6692\",\"pattern\":{\"shape\":\"\"}},\"name\":\"Mac\\u00e1n Cl\\u00e1sico\",\"offsetgroup\":\"Mac\\u00e1n Cl\\u00e1sico\",\"orientation\":\"v\",\"showlegend\":true,\"textposition\":\"auto\",\"x\":[\"coffee\",\"toast\",\"cream\"],\"xaxis\":\"x\",\"y\":[104,30,11],\"yaxis\":\"y\",\"type\":\"bar\"},{\"alignmentgroup\":\"True\",\"hovertemplate\":\"wine_name=V.P Extra Brut Champagne Grand Cru 'Ambonnay'\\u003cbr\\u003ekeywords=%{x}\\u003cbr\\u003etotal_user_count=%{y}\\u003cextra\\u003e\\u003c\\u002fextra\\u003e\",\"legendgroup\":\"V.P Extra Brut Champagne Grand Cru 'Ambonnay'\",\"marker\":{\"color\":\"#B6E880\",\"pattern\":{\"shape\":\"\"}},\"name\":\"V.P Extra Brut Champagne Grand Cru 'Ambonnay'\",\"offsetgroup\":\"V.P Extra Brut Champagne Grand Cru 'Ambonnay'\",\"orientation\":\"v\",\"showlegend\":true,\"textposition\":\"auto\",\"x\":[\"toast\",\"citrus\",\"cream\",\"green apple\"],\"xaxis\":\"x\",\"y\":[104,63,31,26],\"yaxis\":\"y\",\"type\":\"bar\"},{\"alignmentgroup\":\"True\",\"hovertemplate\":\"wine_name=Cristal Ros\\u00e9 Brut Champagne (Mill\\u00e9sim\\u00e9)\\u003cbr\\u003ekeywords=%{x}\\u003cbr\\u003etotal_user_count=%{y}\\u003cextra\\u003e\\u003c\\u002fextra\\u003e\",\"legendgroup\":\"Cristal Ros\\u00e9 Brut Champagne (Mill\\u00e9sim\\u00e9)\",\"marker\":{\"color\":\"#FF97FF\",\"pattern\":{\"shape\":\"\"}},\"name\":\"Cristal Ros\\u00e9 Brut Champagne (Mill\\u00e9sim\\u00e9)\",\"offsetgroup\":\"Cristal Ros\\u00e9 Brut Champagne (Mill\\u00e9sim\\u00e9)\",\"orientation\":\"v\",\"showlegend\":true,\"textposition\":\"auto\",\"x\":[\"toast\",\"citrus\",\"cream\",\"green apple\",\"coffee\"],\"xaxis\":\"x\",\"y\":[102,74,48,15,10],\"yaxis\":\"y\",\"type\":\"bar\"},{\"alignmentgroup\":\"True\",\"hovertemplate\":\"wine_name=Clos Sainte Hune Riesling Alsace\\u003cbr\\u003ekeywords=%{x}\\u003cbr\\u003etotal_user_count=%{y}\\u003cextra\\u003e\\u003c\\u002fextra\\u003e\",\"legendgroup\":\"Clos Sainte Hune Riesling Alsace\",\"marker\":{\"color\":\"#FECB52\",\"pattern\":{\"shape\":\"\"}},\"name\":\"Clos Sainte Hune Riesling Alsace\",\"offsetgroup\":\"Clos Sainte Hune Riesling Alsace\",\"orientation\":\"v\",\"showlegend\":true,\"textposition\":\"auto\",\"x\":[\"citrus\",\"green apple\",\"cream\"],\"xaxis\":\"x\",\"y\":[99,36,13],\"yaxis\":\"y\",\"type\":\"bar\"},{\"alignmentgroup\":\"True\",\"hovertemplate\":\"wine_name='Giulio Ferrari' Riserva del Fondatore\\u003cbr\\u003ekeywords=%{x}\\u003cbr\\u003etotal_user_count=%{y}\\u003cextra\\u003e\\u003c\\u002fextra\\u003e\",\"legendgroup\":\"'Giulio Ferrari' Riserva del Fondatore\",\"marker\":{\"color\":\"#636efa\",\"pattern\":{\"shape\":\"\"}},\"name\":\"'Giulio Ferrari' Riserva del Fondatore\",\"offsetgroup\":\"'Giulio Ferrari' Riserva del Fondatore\",\"orientation\":\"v\",\"showlegend\":true,\"textposition\":\"auto\",\"x\":[\"toast\",\"cream\",\"citrus\",\"green apple\"],\"xaxis\":\"x\",\"y\":[96,72,66,15],\"yaxis\":\"y\",\"type\":\"bar\"},{\"alignmentgroup\":\"True\",\"hovertemplate\":\"wine_name=Brunello di Montalcino\\u003cbr\\u003ekeywords=%{x}\\u003cbr\\u003etotal_user_count=%{y}\\u003cextra\\u003e\\u003c\\u002fextra\\u003e\",\"legendgroup\":\"Brunello di Montalcino\",\"marker\":{\"color\":\"#EF553B\",\"pattern\":{\"shape\":\"\"}},\"name\":\"Brunello di Montalcino\",\"offsetgroup\":\"Brunello di Montalcino\",\"orientation\":\"v\",\"showlegend\":true,\"textposition\":\"auto\",\"x\":[\"coffee\",\"coffee\",\"coffee\",\"coffee\",\"coffee\",\"coffee\",\"coffee\",\"coffee\",\"toast\",\"coffee\",\"coffee\",\"coffee\",\"coffee\",\"coffee\",\"coffee\",\"coffee\",\"toast\",\"coffee\",\"toast\",\"toast\",\"citrus\",\"cream\",\"cream\",\"toast\"],\"xaxis\":\"x\",\"y\":[94,80,66,38,38,36,36,32,28,28,28,26,22,20,20,18,16,14,12,12,11,11,10,10],\"yaxis\":\"y\",\"type\":\"bar\"},{\"alignmentgroup\":\"True\",\"hovertemplate\":\"wine_name=Aile d'Argent Blanc Bordeaux\\u003cbr\\u003ekeywords=%{x}\\u003cbr\\u003etotal_user_count=%{y}\\u003cextra\\u003e\\u003c\\u002fextra\\u003e\",\"legendgroup\":\"Aile d'Argent Blanc Bordeaux\",\"marker\":{\"color\":\"#00cc96\",\"pattern\":{\"shape\":\"\"}},\"name\":\"Aile d'Argent Blanc Bordeaux\",\"offsetgroup\":\"Aile d'Argent Blanc Bordeaux\",\"orientation\":\"v\",\"showlegend\":true,\"textposition\":\"auto\",\"x\":[\"citrus\",\"cream\",\"toast\",\"green apple\"],\"xaxis\":\"x\",\"y\":[94,37,20,12],\"yaxis\":\"y\",\"type\":\"bar\"},{\"alignmentgroup\":\"True\",\"hovertemplate\":\"wine_name=Pur Sang\\u003cbr\\u003ekeywords=%{x}\\u003cbr\\u003etotal_user_count=%{y}\\u003cextra\\u003e\\u003c\\u002fextra\\u003e\",\"legendgroup\":\"Pur Sang\",\"marker\":{\"color\":\"#ab63fa\",\"pattern\":{\"shape\":\"\"}},\"name\":\"Pur Sang\",\"offsetgroup\":\"Pur Sang\",\"orientation\":\"v\",\"showlegend\":true,\"textposition\":\"auto\",\"x\":[\"citrus\",\"green apple\",\"cream\",\"toast\"],\"xaxis\":\"x\",\"y\":[93,29,23,12],\"yaxis\":\"y\",\"type\":\"bar\"},{\"alignmentgroup\":\"True\",\"hovertemplate\":\"wine_name=Eight Years In The Desert\\u003cbr\\u003ekeywords=%{x}\\u003cbr\\u003etotal_user_count=%{y}\\u003cextra\\u003e\\u003c\\u002fextra\\u003e\",\"legendgroup\":\"Eight Years In The Desert\",\"marker\":{\"color\":\"#FFA15A\",\"pattern\":{\"shape\":\"\"}},\"name\":\"Eight Years In The Desert\",\"offsetgroup\":\"Eight Years In The Desert\",\"orientation\":\"v\",\"showlegend\":true,\"textposition\":\"auto\",\"x\":[\"coffee\",\"toast\",\"cream\"],\"xaxis\":\"x\",\"y\":[92,44,41],\"yaxis\":\"y\",\"type\":\"bar\"},{\"alignmentgroup\":\"True\",\"hovertemplate\":\"wine_name=Malbec Argentino\\u003cbr\\u003ekeywords=%{x}\\u003cbr\\u003etotal_user_count=%{y}\\u003cextra\\u003e\\u003c\\u002fextra\\u003e\",\"legendgroup\":\"Malbec Argentino\",\"marker\":{\"color\":\"#19d3f3\",\"pattern\":{\"shape\":\"\"}},\"name\":\"Malbec Argentino\",\"offsetgroup\":\"Malbec Argentino\",\"orientation\":\"v\",\"showlegend\":true,\"textposition\":\"auto\",\"x\":[\"coffee\",\"toast\",\"cream\"],\"xaxis\":\"x\",\"y\":[90,28,13],\"yaxis\":\"y\",\"type\":\"bar\"},{\"alignmentgroup\":\"True\",\"hovertemplate\":\"wine_name=Cepparello Red\\u003cbr\\u003ekeywords=%{x}\\u003cbr\\u003etotal_user_count=%{y}\\u003cextra\\u003e\\u003c\\u002fextra\\u003e\",\"legendgroup\":\"Cepparello Red\",\"marker\":{\"color\":\"#FF6692\",\"pattern\":{\"shape\":\"\"}},\"name\":\"Cepparello Red\",\"offsetgroup\":\"Cepparello Red\",\"orientation\":\"v\",\"showlegend\":true,\"textposition\":\"auto\",\"x\":[\"coffee\",\"toast\",\"cream\"],\"xaxis\":\"x\",\"y\":[90,22,16],\"yaxis\":\"y\",\"type\":\"bar\"},{\"alignmentgroup\":\"True\",\"hovertemplate\":\"wine_name=Limited Edition 10 Vendemmie\\u003cbr\\u003ekeywords=%{x}\\u003cbr\\u003etotal_user_count=%{y}\\u003cextra\\u003e\\u003c\\u002fextra\\u003e\",\"legendgroup\":\"Limited Edition 10 Vendemmie\",\"marker\":{\"color\":\"#B6E880\",\"pattern\":{\"shape\":\"\"}},\"name\":\"Limited Edition 10 Vendemmie\",\"offsetgroup\":\"Limited Edition 10 Vendemmie\",\"orientation\":\"v\",\"showlegend\":true,\"textposition\":\"auto\",\"x\":[\"coffee\",\"cream\"],\"xaxis\":\"x\",\"y\":[90,15],\"yaxis\":\"y\",\"type\":\"bar\"},{\"alignmentgroup\":\"True\",\"hovertemplate\":\"wine_name=Chassagne-Montrachet\\u003cbr\\u003ekeywords=%{x}\\u003cbr\\u003etotal_user_count=%{y}\\u003cextra\\u003e\\u003c\\u002fextra\\u003e\",\"legendgroup\":\"Chassagne-Montrachet\",\"marker\":{\"color\":\"#FF97FF\",\"pattern\":{\"shape\":\"\"}},\"name\":\"Chassagne-Montrachet\",\"offsetgroup\":\"Chassagne-Montrachet\",\"orientation\":\"v\",\"showlegend\":true,\"textposition\":\"auto\",\"x\":[\"citrus\",\"cream\",\"toast\",\"green apple\"],\"xaxis\":\"x\",\"y\":[89,45,28,10],\"yaxis\":\"y\",\"type\":\"bar\"},{\"alignmentgroup\":\"True\",\"hovertemplate\":\"wine_name=Pieve Santa Restituta Brunello di Montalcino\\u003cbr\\u003ekeywords=%{x}\\u003cbr\\u003etotal_user_count=%{y}\\u003cextra\\u003e\\u003c\\u002fextra\\u003e\",\"legendgroup\":\"Pieve Santa Restituta Brunello di Montalcino\",\"marker\":{\"color\":\"#FECB52\",\"pattern\":{\"shape\":\"\"}},\"name\":\"Pieve Santa Restituta Brunello di Montalcino\",\"offsetgroup\":\"Pieve Santa Restituta Brunello di Montalcino\",\"orientation\":\"v\",\"showlegend\":true,\"textposition\":\"auto\",\"x\":[\"coffee\",\"toast\",\"cream\"],\"xaxis\":\"x\",\"y\":[88,30,15],\"yaxis\":\"y\",\"type\":\"bar\"},{\"alignmentgroup\":\"True\",\"hovertemplate\":\"wine_name=Nicol\\u00e1s Catena Zapata\\u003cbr\\u003ekeywords=%{x}\\u003cbr\\u003etotal_user_count=%{y}\\u003cextra\\u003e\\u003c\\u002fextra\\u003e\",\"legendgroup\":\"Nicol\\u00e1s Catena Zapata\",\"marker\":{\"color\":\"#636efa\",\"pattern\":{\"shape\":\"\"}},\"name\":\"Nicol\\u00e1s Catena Zapata\",\"offsetgroup\":\"Nicol\\u00e1s Catena Zapata\",\"orientation\":\"v\",\"showlegend\":true,\"textposition\":\"auto\",\"x\":[\"coffee\",\"cream\",\"toast\"],\"xaxis\":\"x\",\"y\":[86,24,16],\"yaxis\":\"y\",\"type\":\"bar\"},{\"alignmentgroup\":\"True\",\"hovertemplate\":\"wine_name=Quarz Sauvignon\\u003cbr\\u003ekeywords=%{x}\\u003cbr\\u003etotal_user_count=%{y}\\u003cextra\\u003e\\u003c\\u002fextra\\u003e\",\"legendgroup\":\"Quarz Sauvignon\",\"marker\":{\"color\":\"#EF553B\",\"pattern\":{\"shape\":\"\"}},\"name\":\"Quarz Sauvignon\",\"offsetgroup\":\"Quarz Sauvignon\",\"orientation\":\"v\",\"showlegend\":true,\"textposition\":\"auto\",\"x\":[\"citrus\",\"cream\",\"green apple\"],\"xaxis\":\"x\",\"y\":[86,28,24],\"yaxis\":\"y\",\"type\":\"bar\"},{\"alignmentgroup\":\"True\",\"hovertemplate\":\"wine_name=Tinto\\u003cbr\\u003ekeywords=%{x}\\u003cbr\\u003etotal_user_count=%{y}\\u003cextra\\u003e\\u003c\\u002fextra\\u003e\",\"legendgroup\":\"Tinto\",\"marker\":{\"color\":\"#00cc96\",\"pattern\":{\"shape\":\"\"}},\"name\":\"Tinto\",\"offsetgroup\":\"Tinto\",\"orientation\":\"v\",\"showlegend\":true,\"textposition\":\"auto\",\"x\":[\"coffee\",\"toast\",\"coffee\",\"cream\",\"cream\"],\"xaxis\":\"x\",\"y\":[86,42,26,23,14],\"yaxis\":\"y\",\"type\":\"bar\"},{\"alignmentgroup\":\"True\",\"hovertemplate\":\"wine_name=Toscana\\u003cbr\\u003ekeywords=%{x}\\u003cbr\\u003etotal_user_count=%{y}\\u003cextra\\u003e\\u003c\\u002fextra\\u003e\",\"legendgroup\":\"Toscana\",\"marker\":{\"color\":\"#ab63fa\",\"pattern\":{\"shape\":\"\"}},\"name\":\"Toscana\",\"offsetgroup\":\"Toscana\",\"orientation\":\"v\",\"showlegend\":true,\"textposition\":\"auto\",\"x\":[\"coffee\",\"coffee\",\"toast\",\"coffee\",\"cream\",\"toast\",\"cream\"],\"xaxis\":\"x\",\"y\":[86,32,32,20,16,12,11],\"yaxis\":\"y\",\"type\":\"bar\"},{\"alignmentgroup\":\"True\",\"hovertemplate\":\"wine_name=Ribera del Duero Reserva\\u003cbr\\u003ekeywords=%{x}\\u003cbr\\u003etotal_user_count=%{y}\\u003cextra\\u003e\\u003c\\u002fextra\\u003e\",\"legendgroup\":\"Ribera del Duero Reserva\",\"marker\":{\"color\":\"#FFA15A\",\"pattern\":{\"shape\":\"\"}},\"name\":\"Ribera del Duero Reserva\",\"offsetgroup\":\"Ribera del Duero Reserva\",\"orientation\":\"v\",\"showlegend\":true,\"textposition\":\"auto\",\"x\":[\"coffee\",\"toast\"],\"xaxis\":\"x\",\"y\":[84,44],\"yaxis\":\"y\",\"type\":\"bar\"},{\"alignmentgroup\":\"True\",\"hovertemplate\":\"wine_name=Cabernet Sauvignon (Signature)\\u003cbr\\u003ekeywords=%{x}\\u003cbr\\u003etotal_user_count=%{y}\\u003cextra\\u003e\\u003c\\u002fextra\\u003e\",\"legendgroup\":\"Cabernet Sauvignon (Signature)\",\"marker\":{\"color\":\"#19d3f3\",\"pattern\":{\"shape\":\"\"}},\"name\":\"Cabernet Sauvignon (Signature)\",\"offsetgroup\":\"Cabernet Sauvignon (Signature)\",\"orientation\":\"v\",\"showlegend\":true,\"textposition\":\"auto\",\"x\":[\"coffee\",\"cream\",\"toast\"],\"xaxis\":\"x\",\"y\":[82,17,16],\"yaxis\":\"y\",\"type\":\"bar\"},{\"alignmentgroup\":\"True\",\"hovertemplate\":\"wine_name=Mac\\u00e1n\\u003cbr\\u003ekeywords=%{x}\\u003cbr\\u003etotal_user_count=%{y}\\u003cextra\\u003e\\u003c\\u002fextra\\u003e\",\"legendgroup\":\"Mac\\u00e1n\",\"marker\":{\"color\":\"#FF6692\",\"pattern\":{\"shape\":\"\"}},\"name\":\"Mac\\u00e1n\",\"offsetgroup\":\"Mac\\u00e1n\",\"orientation\":\"v\",\"showlegend\":true,\"textposition\":\"auto\",\"x\":[\"coffee\",\"toast\",\"cream\"],\"xaxis\":\"x\",\"y\":[82,16,14],\"yaxis\":\"y\",\"type\":\"bar\"},{\"alignmentgroup\":\"True\",\"hovertemplate\":\"wine_name=Messorio\\u003cbr\\u003ekeywords=%{x}\\u003cbr\\u003etotal_user_count=%{y}\\u003cextra\\u003e\\u003c\\u002fextra\\u003e\",\"legendgroup\":\"Messorio\",\"marker\":{\"color\":\"#B6E880\",\"pattern\":{\"shape\":\"\"}},\"name\":\"Messorio\",\"offsetgroup\":\"Messorio\",\"orientation\":\"v\",\"showlegend\":true,\"textposition\":\"auto\",\"x\":[\"coffee\",\"toast\"],\"xaxis\":\"x\",\"y\":[80,14],\"yaxis\":\"y\",\"type\":\"bar\"},{\"alignmentgroup\":\"True\",\"hovertemplate\":\"wine_name=Cuv\\u00e9e Annamaria Clementi (Extra Brut)\\u003cbr\\u003ekeywords=%{x}\\u003cbr\\u003etotal_user_count=%{y}\\u003cextra\\u003e\\u003c\\u002fextra\\u003e\",\"legendgroup\":\"Cuv\\u00e9e Annamaria Clementi (Extra Brut)\",\"marker\":{\"color\":\"#FF97FF\",\"pattern\":{\"shape\":\"\"}},\"name\":\"Cuv\\u00e9e Annamaria Clementi (Extra Brut)\",\"offsetgroup\":\"Cuv\\u00e9e Annamaria Clementi (Extra Brut)\",\"orientation\":\"v\",\"showlegend\":true,\"textposition\":\"auto\",\"x\":[\"toast\",\"cream\",\"citrus\",\"green apple\"],\"xaxis\":\"x\",\"y\":[80,65,35,20],\"yaxis\":\"y\",\"type\":\"bar\"},{\"alignmentgroup\":\"True\",\"hovertemplate\":\"wine_name=One Point Five Cabernet Sauvignon\\u003cbr\\u003ekeywords=%{x}\\u003cbr\\u003etotal_user_count=%{y}\\u003cextra\\u003e\\u003c\\u002fextra\\u003e\",\"legendgroup\":\"One Point Five Cabernet Sauvignon\",\"marker\":{\"color\":\"#FECB52\",\"pattern\":{\"shape\":\"\"}},\"name\":\"One Point Five Cabernet Sauvignon\",\"offsetgroup\":\"One Point Five Cabernet Sauvignon\",\"orientation\":\"v\",\"showlegend\":true,\"textposition\":\"auto\",\"x\":[\"coffee\",\"cream\",\"toast\"],\"xaxis\":\"x\",\"y\":[80,28,20],\"yaxis\":\"y\",\"type\":\"bar\"},{\"alignmentgroup\":\"True\",\"hovertemplate\":\"wine_name=Ben Ry\\u00e9 Passito di Pantelleria\\u003cbr\\u003ekeywords=%{x}\\u003cbr\\u003etotal_user_count=%{y}\\u003cextra\\u003e\\u003c\\u002fextra\\u003e\",\"legendgroup\":\"Ben Ry\\u00e9 Passito di Pantelleria\",\"marker\":{\"color\":\"#636efa\",\"pattern\":{\"shape\":\"\"}},\"name\":\"Ben Ry\\u00e9 Passito di Pantelleria\",\"offsetgroup\":\"Ben Ry\\u00e9 Passito di Pantelleria\",\"orientation\":\"v\",\"showlegend\":true,\"textposition\":\"auto\",\"x\":[\"citrus\",\"cream\",\"coffee\",\"toast\"],\"xaxis\":\"x\",\"y\":[80,35,16,12],\"yaxis\":\"y\",\"type\":\"bar\"},{\"alignmentgroup\":\"True\",\"hovertemplate\":\"wine_name=Victorino\\u003cbr\\u003ekeywords=%{x}\\u003cbr\\u003etotal_user_count=%{y}\\u003cextra\\u003e\\u003c\\u002fextra\\u003e\",\"legendgroup\":\"Victorino\",\"marker\":{\"color\":\"#EF553B\",\"pattern\":{\"shape\":\"\"}},\"name\":\"Victorino\",\"offsetgroup\":\"Victorino\",\"orientation\":\"v\",\"showlegend\":true,\"textposition\":\"auto\",\"x\":[\"coffee\",\"toast\",\"cream\"],\"xaxis\":\"x\",\"y\":[78,48,15],\"yaxis\":\"y\",\"type\":\"bar\"},{\"alignmentgroup\":\"True\",\"hovertemplate\":\"wine_name=Lupi Rezerva\\u003cbr\\u003ekeywords=%{x}\\u003cbr\\u003etotal_user_count=%{y}\\u003cextra\\u003e\\u003c\\u002fextra\\u003e\",\"legendgroup\":\"Lupi Rezerva\",\"marker\":{\"color\":\"#00cc96\",\"pattern\":{\"shape\":\"\"}},\"name\":\"Lupi Rezerva\",\"offsetgroup\":\"Lupi Rezerva\",\"orientation\":\"v\",\"showlegend\":true,\"textposition\":\"auto\",\"x\":[\"coffee\"],\"xaxis\":\"x\",\"y\":[78],\"yaxis\":\"y\",\"type\":\"bar\"},{\"alignmentgroup\":\"True\",\"hovertemplate\":\"wine_name=Toscana Batar\\u003cbr\\u003ekeywords=%{x}\\u003cbr\\u003etotal_user_count=%{y}\\u003cextra\\u003e\\u003c\\u002fextra\\u003e\",\"legendgroup\":\"Toscana Batar\",\"marker\":{\"color\":\"#ab63fa\",\"pattern\":{\"shape\":\"\"}},\"name\":\"Toscana Batar\",\"offsetgroup\":\"Toscana Batar\",\"orientation\":\"v\",\"showlegend\":true,\"textposition\":\"auto\",\"x\":[\"cream\",\"citrus\",\"toast\",\"green apple\"],\"xaxis\":\"x\",\"y\":[76,50,38,13],\"yaxis\":\"y\",\"type\":\"bar\"},{\"alignmentgroup\":\"True\",\"hovertemplate\":\"wine_name=S.L.V. Cabernet Sauvignon\\u003cbr\\u003ekeywords=%{x}\\u003cbr\\u003etotal_user_count=%{y}\\u003cextra\\u003e\\u003c\\u002fextra\\u003e\",\"legendgroup\":\"S.L.V. Cabernet Sauvignon\",\"marker\":{\"color\":\"#FFA15A\",\"pattern\":{\"shape\":\"\"}},\"name\":\"S.L.V. Cabernet Sauvignon\",\"offsetgroup\":\"S.L.V. Cabernet Sauvignon\",\"orientation\":\"v\",\"showlegend\":true,\"textposition\":\"auto\",\"x\":[\"coffee\",\"toast\"],\"xaxis\":\"x\",\"y\":[76,18],\"yaxis\":\"y\",\"type\":\"bar\"},{\"alignmentgroup\":\"True\",\"hovertemplate\":\"wine_name=San Vicente Rioja\\u003cbr\\u003ekeywords=%{x}\\u003cbr\\u003etotal_user_count=%{y}\\u003cextra\\u003e\\u003c\\u002fextra\\u003e\",\"legendgroup\":\"San Vicente Rioja\",\"marker\":{\"color\":\"#19d3f3\",\"pattern\":{\"shape\":\"\"}},\"name\":\"San Vicente Rioja\",\"offsetgroup\":\"San Vicente Rioja\",\"orientation\":\"v\",\"showlegend\":true,\"textposition\":\"auto\",\"x\":[\"coffee\",\"toast\"],\"xaxis\":\"x\",\"y\":[76,28],\"yaxis\":\"y\",\"type\":\"bar\"},{\"alignmentgroup\":\"True\",\"hovertemplate\":\"wine_name=One Sixteen Chardonnay\\u003cbr\\u003ekeywords=%{x}\\u003cbr\\u003etotal_user_count=%{y}\\u003cextra\\u003e\\u003c\\u002fextra\\u003e\",\"legendgroup\":\"One Sixteen Chardonnay\",\"marker\":{\"color\":\"#FF6692\",\"pattern\":{\"shape\":\"\"}},\"name\":\"One Sixteen Chardonnay\",\"offsetgroup\":\"One Sixteen Chardonnay\",\"orientation\":\"v\",\"showlegend\":true,\"textposition\":\"auto\",\"x\":[\"citrus\",\"green apple\",\"toast\",\"cream\"],\"xaxis\":\"x\",\"y\":[76,43,32,17],\"yaxis\":\"y\",\"type\":\"bar\"},{\"alignmentgroup\":\"True\",\"hovertemplate\":\"wine_name=Galatrona\\u003cbr\\u003ekeywords=%{x}\\u003cbr\\u003etotal_user_count=%{y}\\u003cextra\\u003e\\u003c\\u002fextra\\u003e\",\"legendgroup\":\"Galatrona\",\"marker\":{\"color\":\"#B6E880\",\"pattern\":{\"shape\":\"\"}},\"name\":\"Galatrona\",\"offsetgroup\":\"Galatrona\",\"orientation\":\"v\",\"showlegend\":true,\"textposition\":\"auto\",\"x\":[\"coffee\",\"cream\",\"toast\"],\"xaxis\":\"x\",\"y\":[74,19,10],\"yaxis\":\"y\",\"type\":\"bar\"},{\"alignmentgroup\":\"True\",\"hovertemplate\":\"wine_name=C\\u00f4te-R\\u00f4tie La Turque\\u003cbr\\u003ekeywords=%{x}\\u003cbr\\u003etotal_user_count=%{y}\\u003cextra\\u003e\\u003c\\u002fextra\\u003e\",\"legendgroup\":\"C\\u00f4te-R\\u00f4tie La Turque\",\"marker\":{\"color\":\"#FF97FF\",\"pattern\":{\"shape\":\"\"}},\"name\":\"C\\u00f4te-R\\u00f4tie La Turque\",\"offsetgroup\":\"C\\u00f4te-R\\u00f4tie La Turque\",\"orientation\":\"v\",\"showlegend\":true,\"textposition\":\"auto\",\"x\":[\"coffee\",\"toast\",\"cream\"],\"xaxis\":\"x\",\"y\":[74,26,11],\"yaxis\":\"y\",\"type\":\"bar\"},{\"alignmentgroup\":\"True\",\"hovertemplate\":\"wine_name=Brut Champagne (Gold)\\u003cbr\\u003ekeywords=%{x}\\u003cbr\\u003etotal_user_count=%{y}\\u003cextra\\u003e\\u003c\\u002fextra\\u003e\",\"legendgroup\":\"Brut Champagne (Gold)\",\"marker\":{\"color\":\"#FECB52\",\"pattern\":{\"shape\":\"\"}},\"name\":\"Brut Champagne (Gold)\",\"offsetgroup\":\"Brut Champagne (Gold)\",\"orientation\":\"v\",\"showlegend\":true,\"textposition\":\"auto\",\"x\":[\"citrus\",\"cream\",\"toast\",\"green apple\"],\"xaxis\":\"x\",\"y\":[74,54,40,28],\"yaxis\":\"y\",\"type\":\"bar\"},{\"alignmentgroup\":\"True\",\"hovertemplate\":\"wine_name=Turriga Isola dei Nuraghi\\u003cbr\\u003ekeywords=%{x}\\u003cbr\\u003etotal_user_count=%{y}\\u003cextra\\u003e\\u003c\\u002fextra\\u003e\",\"legendgroup\":\"Turriga Isola dei Nuraghi\",\"marker\":{\"color\":\"#636efa\",\"pattern\":{\"shape\":\"\"}},\"name\":\"Turriga Isola dei Nuraghi\",\"offsetgroup\":\"Turriga Isola dei Nuraghi\",\"orientation\":\"v\",\"showlegend\":true,\"textposition\":\"auto\",\"x\":[\"coffee\",\"toast\",\"cream\"],\"xaxis\":\"x\",\"y\":[72,12,10],\"yaxis\":\"y\",\"type\":\"bar\"},{\"alignmentgroup\":\"True\",\"hovertemplate\":\"wine_name=Valpolicella Classico Superiore\\u003cbr\\u003ekeywords=%{x}\\u003cbr\\u003etotal_user_count=%{y}\\u003cextra\\u003e\\u003c\\u002fextra\\u003e\",\"legendgroup\":\"Valpolicella Classico Superiore\",\"marker\":{\"color\":\"#EF553B\",\"pattern\":{\"shape\":\"\"}},\"name\":\"Valpolicella Classico Superiore\",\"offsetgroup\":\"Valpolicella Classico Superiore\",\"orientation\":\"v\",\"showlegend\":true,\"textposition\":\"auto\",\"x\":[\"coffee\",\"cream\",\"toast\"],\"xaxis\":\"x\",\"y\":[72,12,10],\"yaxis\":\"y\",\"type\":\"bar\"},{\"alignmentgroup\":\"True\",\"hovertemplate\":\"wine_name=Scharzhofberger Riesling Kabinett\\u003cbr\\u003ekeywords=%{x}\\u003cbr\\u003etotal_user_count=%{y}\\u003cextra\\u003e\\u003c\\u002fextra\\u003e\",\"legendgroup\":\"Scharzhofberger Riesling Kabinett\",\"marker\":{\"color\":\"#00cc96\",\"pattern\":{\"shape\":\"\"}},\"name\":\"Scharzhofberger Riesling Kabinett\",\"offsetgroup\":\"Scharzhofberger Riesling Kabinett\",\"orientation\":\"v\",\"showlegend\":true,\"textposition\":\"auto\",\"x\":[\"citrus\",\"green apple\",\"cream\"],\"xaxis\":\"x\",\"y\":[72,36,16],\"yaxis\":\"y\",\"type\":\"bar\"},{\"alignmentgroup\":\"True\",\"hovertemplate\":\"wine_name=Continuum Estate\\u003cbr\\u003ekeywords=%{x}\\u003cbr\\u003etotal_user_count=%{y}\\u003cextra\\u003e\\u003c\\u002fextra\\u003e\",\"legendgroup\":\"Continuum Estate\",\"marker\":{\"color\":\"#ab63fa\",\"pattern\":{\"shape\":\"\"}},\"name\":\"Continuum Estate\",\"offsetgroup\":\"Continuum Estate\",\"orientation\":\"v\",\"showlegend\":true,\"textposition\":\"auto\",\"x\":[\"coffee\",\"toast\",\"cream\"],\"xaxis\":\"x\",\"y\":[72,22,11],\"yaxis\":\"y\",\"type\":\"bar\"},{\"alignmentgroup\":\"True\",\"hovertemplate\":\"wine_name=Amarone della Valpolicella Classico Riserva (Sergio Zenato)\\u003cbr\\u003ekeywords=%{x}\\u003cbr\\u003etotal_user_count=%{y}\\u003cextra\\u003e\\u003c\\u002fextra\\u003e\",\"legendgroup\":\"Amarone della Valpolicella Classico Riserva (Sergio Zenato)\",\"marker\":{\"color\":\"#FFA15A\",\"pattern\":{\"shape\":\"\"}},\"name\":\"Amarone della Valpolicella Classico Riserva (Sergio Zenato)\",\"offsetgroup\":\"Amarone della Valpolicella Classico Riserva (Sergio Zenato)\",\"orientation\":\"v\",\"showlegend\":true,\"textposition\":\"auto\",\"x\":[\"coffee\",\"cream\"],\"xaxis\":\"x\",\"y\":[72,12],\"yaxis\":\"y\",\"type\":\"bar\"},{\"alignmentgroup\":\"True\",\"hovertemplate\":\"wine_name=Siepi\\u003cbr\\u003ekeywords=%{x}\\u003cbr\\u003etotal_user_count=%{y}\\u003cextra\\u003e\\u003c\\u002fextra\\u003e\",\"legendgroup\":\"Siepi\",\"marker\":{\"color\":\"#19d3f3\",\"pattern\":{\"shape\":\"\"}},\"name\":\"Siepi\",\"offsetgroup\":\"Siepi\",\"orientation\":\"v\",\"showlegend\":true,\"textposition\":\"auto\",\"x\":[\"coffee\",\"toast\"],\"xaxis\":\"x\",\"y\":[70,26],\"yaxis\":\"y\",\"type\":\"bar\"},{\"alignmentgroup\":\"True\",\"hovertemplate\":\"wine_name=Pavillon Rouge du Ch\\u00e2teau Margaux\\u003cbr\\u003ekeywords=%{x}\\u003cbr\\u003etotal_user_count=%{y}\\u003cextra\\u003e\\u003c\\u002fextra\\u003e\",\"legendgroup\":\"Pavillon Rouge du Ch\\u00e2teau Margaux\",\"marker\":{\"color\":\"#FF6692\",\"pattern\":{\"shape\":\"\"}},\"name\":\"Pavillon Rouge du Ch\\u00e2teau Margaux\",\"offsetgroup\":\"Pavillon Rouge du Ch\\u00e2teau Margaux\",\"orientation\":\"v\",\"showlegend\":true,\"textposition\":\"auto\",\"x\":[\"coffee\",\"toast\",\"cream\"],\"xaxis\":\"x\",\"y\":[70,26,19],\"yaxis\":\"y\",\"type\":\"bar\"},{\"alignmentgroup\":\"True\",\"hovertemplate\":\"wine_name=5 Stelle Sfursat\\u003cbr\\u003ekeywords=%{x}\\u003cbr\\u003etotal_user_count=%{y}\\u003cextra\\u003e\\u003c\\u002fextra\\u003e\",\"legendgroup\":\"5 Stelle Sfursat\",\"marker\":{\"color\":\"#B6E880\",\"pattern\":{\"shape\":\"\"}},\"name\":\"5 Stelle Sfursat\",\"offsetgroup\":\"5 Stelle Sfursat\",\"orientation\":\"v\",\"showlegend\":true,\"textposition\":\"auto\",\"x\":[\"coffee\"],\"xaxis\":\"x\",\"y\":[70],\"yaxis\":\"y\",\"type\":\"bar\"},{\"alignmentgroup\":\"True\",\"hovertemplate\":\"wine_name=Bolgheri Superiore Sondraia\\u003cbr\\u003ekeywords=%{x}\\u003cbr\\u003etotal_user_count=%{y}\\u003cextra\\u003e\\u003c\\u002fextra\\u003e\",\"legendgroup\":\"Bolgheri Superiore Sondraia\",\"marker\":{\"color\":\"#FF97FF\",\"pattern\":{\"shape\":\"\"}},\"name\":\"Bolgheri Superiore Sondraia\",\"offsetgroup\":\"Bolgheri Superiore Sondraia\",\"orientation\":\"v\",\"showlegend\":true,\"textposition\":\"auto\",\"x\":[\"coffee\",\"toast\"],\"xaxis\":\"x\",\"y\":[70,14],\"yaxis\":\"y\",\"type\":\"bar\"},{\"alignmentgroup\":\"True\",\"hovertemplate\":\"wine_name=Gaia & Rey Langhe\\u003cbr\\u003ekeywords=%{x}\\u003cbr\\u003etotal_user_count=%{y}\\u003cextra\\u003e\\u003c\\u002fextra\\u003e\",\"legendgroup\":\"Gaia & Rey Langhe\",\"marker\":{\"color\":\"#FECB52\",\"pattern\":{\"shape\":\"\"}},\"name\":\"Gaia & Rey Langhe\",\"offsetgroup\":\"Gaia & Rey Langhe\",\"orientation\":\"v\",\"showlegend\":true,\"textposition\":\"auto\",\"x\":[\"citrus\",\"cream\",\"toast\",\"green apple\"],\"xaxis\":\"x\",\"y\":[69,53,34,20],\"yaxis\":\"y\",\"type\":\"bar\"},{\"alignmentgroup\":\"True\",\"hovertemplate\":\"wine_name=Overture\\u003cbr\\u003ekeywords=%{x}\\u003cbr\\u003etotal_user_count=%{y}\\u003cextra\\u003e\\u003c\\u002fextra\\u003e\",\"legendgroup\":\"Overture\",\"marker\":{\"color\":\"#636efa\",\"pattern\":{\"shape\":\"\"}},\"name\":\"Overture\",\"offsetgroup\":\"Overture\",\"orientation\":\"v\",\"showlegend\":true,\"textposition\":\"auto\",\"x\":[\"coffee\",\"toast\",\"cream\"],\"xaxis\":\"x\",\"y\":[68,16,12],\"yaxis\":\"y\",\"type\":\"bar\"},{\"alignmentgroup\":\"True\",\"hovertemplate\":\"wine_name=C\\u00f4tes de Bourg\\u003cbr\\u003ekeywords=%{x}\\u003cbr\\u003etotal_user_count=%{y}\\u003cextra\\u003e\\u003c\\u002fextra\\u003e\",\"legendgroup\":\"C\\u00f4tes de Bourg\",\"marker\":{\"color\":\"#EF553B\",\"pattern\":{\"shape\":\"\"}},\"name\":\"C\\u00f4tes de Bourg\",\"offsetgroup\":\"C\\u00f4tes de Bourg\",\"orientation\":\"v\",\"showlegend\":true,\"textposition\":\"auto\",\"x\":[\"coffee\",\"toast\",\"cream\"],\"xaxis\":\"x\",\"y\":[68,16,11],\"yaxis\":\"y\",\"type\":\"bar\"},{\"alignmentgroup\":\"True\",\"hovertemplate\":\"wine_name=Clos du Mesnil\\u003cbr\\u003ekeywords=%{x}\\u003cbr\\u003etotal_user_count=%{y}\\u003cextra\\u003e\\u003c\\u002fextra\\u003e\",\"legendgroup\":\"Clos du Mesnil\",\"marker\":{\"color\":\"#00cc96\",\"pattern\":{\"shape\":\"\"}},\"name\":\"Clos du Mesnil\",\"offsetgroup\":\"Clos du Mesnil\",\"orientation\":\"v\",\"showlegend\":true,\"textposition\":\"auto\",\"x\":[\"toast\",\"citrus\",\"green apple\",\"coffee\",\"cream\"],\"xaxis\":\"x\",\"y\":[66,62,19,18,16],\"yaxis\":\"y\",\"type\":\"bar\"},{\"alignmentgroup\":\"True\",\"hovertemplate\":\"wine_name=Saffredi\\u003cbr\\u003ekeywords=%{x}\\u003cbr\\u003etotal_user_count=%{y}\\u003cextra\\u003e\\u003c\\u002fextra\\u003e\",\"legendgroup\":\"Saffredi\",\"marker\":{\"color\":\"#ab63fa\",\"pattern\":{\"shape\":\"\"}},\"name\":\"Saffredi\",\"offsetgroup\":\"Saffredi\",\"orientation\":\"v\",\"showlegend\":true,\"textposition\":\"auto\",\"x\":[\"coffee\",\"cream\",\"toast\"],\"xaxis\":\"x\",\"y\":[66,21,14],\"yaxis\":\"y\",\"type\":\"bar\"},{\"alignmentgroup\":\"True\",\"hovertemplate\":\"wine_name=FAY Cabernet Sauvignon\\u003cbr\\u003ekeywords=%{x}\\u003cbr\\u003etotal_user_count=%{y}\\u003cextra\\u003e\\u003c\\u002fextra\\u003e\",\"legendgroup\":\"FAY Cabernet Sauvignon\",\"marker\":{\"color\":\"#FFA15A\",\"pattern\":{\"shape\":\"\"}},\"name\":\"FAY Cabernet Sauvignon\",\"offsetgroup\":\"FAY Cabernet Sauvignon\",\"orientation\":\"v\",\"showlegend\":true,\"textposition\":\"auto\",\"x\":[\"coffee\",\"toast\",\"cream\"],\"xaxis\":\"x\",\"y\":[66,18,12],\"yaxis\":\"y\",\"type\":\"bar\"},{\"alignmentgroup\":\"True\",\"hovertemplate\":\"wine_name=Barsac (Premier Grand Cru Class\\u00e9)\\u003cbr\\u003ekeywords=%{x}\\u003cbr\\u003etotal_user_count=%{y}\\u003cextra\\u003e\\u003c\\u002fextra\\u003e\",\"legendgroup\":\"Barsac (Premier Grand Cru Class\\u00e9)\",\"marker\":{\"color\":\"#19d3f3\",\"pattern\":{\"shape\":\"\"}},\"name\":\"Barsac (Premier Grand Cru Class\\u00e9)\",\"offsetgroup\":\"Barsac (Premier Grand Cru Class\\u00e9)\",\"orientation\":\"v\",\"showlegend\":true,\"textposition\":\"auto\",\"x\":[\"cream\",\"citrus\",\"toast\"],\"xaxis\":\"x\",\"y\":[65,57,38],\"yaxis\":\"y\",\"type\":\"bar\"},{\"alignmentgroup\":\"True\",\"hovertemplate\":\"wine_name=Clos de la Coul\\u00e9e de Serrant\\u003cbr\\u003ekeywords=%{x}\\u003cbr\\u003etotal_user_count=%{y}\\u003cextra\\u003e\\u003c\\u002fextra\\u003e\",\"legendgroup\":\"Clos de la Coul\\u00e9e de Serrant\",\"marker\":{\"color\":\"#FF6692\",\"pattern\":{\"shape\":\"\"}},\"name\":\"Clos de la Coul\\u00e9e de Serrant\",\"offsetgroup\":\"Clos de la Coul\\u00e9e de Serrant\",\"orientation\":\"v\",\"showlegend\":true,\"textposition\":\"auto\",\"x\":[\"citrus\",\"cream\",\"toast\",\"green apple\"],\"xaxis\":\"x\",\"y\":[65,45,24,14],\"yaxis\":\"y\",\"type\":\"bar\"},{\"alignmentgroup\":\"True\",\"hovertemplate\":\"wine_name=Torre Muga\\u003cbr\\u003ekeywords=%{x}\\u003cbr\\u003etotal_user_count=%{y}\\u003cextra\\u003e\\u003c\\u002fextra\\u003e\",\"legendgroup\":\"Torre Muga\",\"marker\":{\"color\":\"#B6E880\",\"pattern\":{\"shape\":\"\"}},\"name\":\"Torre Muga\",\"offsetgroup\":\"Torre Muga\",\"orientation\":\"v\",\"showlegend\":true,\"textposition\":\"auto\",\"x\":[\"coffee\",\"toast\",\"cream\"],\"xaxis\":\"x\",\"y\":[64,36,18],\"yaxis\":\"y\",\"type\":\"bar\"},{\"alignmentgroup\":\"True\",\"hovertemplate\":\"wine_name=Amarone della Valpolicella Monte Lodoletta\\u003cbr\\u003ekeywords=%{x}\\u003cbr\\u003etotal_user_count=%{y}\\u003cextra\\u003e\\u003c\\u002fextra\\u003e\",\"legendgroup\":\"Amarone della Valpolicella Monte Lodoletta\",\"marker\":{\"color\":\"#FF97FF\",\"pattern\":{\"shape\":\"\"}},\"name\":\"Amarone della Valpolicella Monte Lodoletta\",\"offsetgroup\":\"Amarone della Valpolicella Monte Lodoletta\",\"orientation\":\"v\",\"showlegend\":true,\"textposition\":\"auto\",\"x\":[\"coffee\",\"toast\"],\"xaxis\":\"x\",\"y\":[64,14],\"yaxis\":\"y\",\"type\":\"bar\"},{\"alignmentgroup\":\"True\",\"hovertemplate\":\"wine_name=La Chapelle de La Mission Haut-Brion Pessac-L\\u00e9ognan\\u003cbr\\u003ekeywords=%{x}\\u003cbr\\u003etotal_user_count=%{y}\\u003cextra\\u003e\\u003c\\u002fextra\\u003e\",\"legendgroup\":\"La Chapelle de La Mission Haut-Brion Pessac-L\\u00e9ognan\",\"marker\":{\"color\":\"#FECB52\",\"pattern\":{\"shape\":\"\"}},\"name\":\"La Chapelle de La Mission Haut-Brion Pessac-L\\u00e9ognan\",\"offsetgroup\":\"La Chapelle de La Mission Haut-Brion Pessac-L\\u00e9ognan\",\"orientation\":\"v\",\"showlegend\":true,\"textposition\":\"auto\",\"x\":[\"coffee\",\"toast\"],\"xaxis\":\"x\",\"y\":[64,18],\"yaxis\":\"y\",\"type\":\"bar\"},{\"alignmentgroup\":\"True\",\"hovertemplate\":\"wine_name=Isosceles\\u003cbr\\u003ekeywords=%{x}\\u003cbr\\u003etotal_user_count=%{y}\\u003cextra\\u003e\\u003c\\u002fextra\\u003e\",\"legendgroup\":\"Isosceles\",\"marker\":{\"color\":\"#636efa\",\"pattern\":{\"shape\":\"\"}},\"name\":\"Isosceles\",\"offsetgroup\":\"Isosceles\",\"orientation\":\"v\",\"showlegend\":true,\"textposition\":\"auto\",\"x\":[\"coffee\",\"toast\",\"cream\"],\"xaxis\":\"x\",\"y\":[64,40,16],\"yaxis\":\"y\",\"type\":\"bar\"},{\"alignmentgroup\":\"True\",\"hovertemplate\":\"wine_name=Barolo Riserva\\u003cbr\\u003ekeywords=%{x}\\u003cbr\\u003etotal_user_count=%{y}\\u003cextra\\u003e\\u003c\\u002fextra\\u003e\",\"legendgroup\":\"Barolo Riserva\",\"marker\":{\"color\":\"#EF553B\",\"pattern\":{\"shape\":\"\"}},\"name\":\"Barolo Riserva\",\"offsetgroup\":\"Barolo Riserva\",\"orientation\":\"v\",\"showlegend\":true,\"textposition\":\"auto\",\"x\":[\"coffee\"],\"xaxis\":\"x\",\"y\":[64],\"yaxis\":\"y\",\"type\":\"bar\"},{\"alignmentgroup\":\"True\",\"hovertemplate\":\"wine_name=Gaudium\\u003cbr\\u003ekeywords=%{x}\\u003cbr\\u003etotal_user_count=%{y}\\u003cextra\\u003e\\u003c\\u002fextra\\u003e\",\"legendgroup\":\"Gaudium\",\"marker\":{\"color\":\"#00cc96\",\"pattern\":{\"shape\":\"\"}},\"name\":\"Gaudium\",\"offsetgroup\":\"Gaudium\",\"orientation\":\"v\",\"showlegend\":true,\"textposition\":\"auto\",\"x\":[\"coffee\",\"toast\",\"cream\"],\"xaxis\":\"x\",\"y\":[64,22,11],\"yaxis\":\"y\",\"type\":\"bar\"},{\"alignmentgroup\":\"True\",\"hovertemplate\":\"wine_name=Guerriero del Mare\\u003cbr\\u003ekeywords=%{x}\\u003cbr\\u003etotal_user_count=%{y}\\u003cextra\\u003e\\u003c\\u002fextra\\u003e\",\"legendgroup\":\"Guerriero del Mare\",\"marker\":{\"color\":\"#ab63fa\",\"pattern\":{\"shape\":\"\"}},\"name\":\"Guerriero del Mare\",\"offsetgroup\":\"Guerriero del Mare\",\"orientation\":\"v\",\"showlegend\":true,\"textposition\":\"auto\",\"x\":[\"citrus\",\"cream\"],\"xaxis\":\"x\",\"y\":[63,17],\"yaxis\":\"y\",\"type\":\"bar\"},{\"alignmentgroup\":\"True\",\"hovertemplate\":\"wine_name=Solare Toscana\\u003cbr\\u003ekeywords=%{x}\\u003cbr\\u003etotal_user_count=%{y}\\u003cextra\\u003e\\u003c\\u002fextra\\u003e\",\"legendgroup\":\"Solare Toscana\",\"marker\":{\"color\":\"#FFA15A\",\"pattern\":{\"shape\":\"\"}},\"name\":\"Solare Toscana\",\"offsetgroup\":\"Solare Toscana\",\"orientation\":\"v\",\"showlegend\":true,\"textposition\":\"auto\",\"x\":[\"coffee\"],\"xaxis\":\"x\",\"y\":[62],\"yaxis\":\"y\",\"type\":\"bar\"},{\"alignmentgroup\":\"True\",\"hovertemplate\":\"wine_name=Il Pino di Biserno\\u003cbr\\u003ekeywords=%{x}\\u003cbr\\u003etotal_user_count=%{y}\\u003cextra\\u003e\\u003c\\u002fextra\\u003e\",\"legendgroup\":\"Il Pino di Biserno\",\"marker\":{\"color\":\"#19d3f3\",\"pattern\":{\"shape\":\"\"}},\"name\":\"Il Pino di Biserno\",\"offsetgroup\":\"Il Pino di Biserno\",\"orientation\":\"v\",\"showlegend\":true,\"textposition\":\"auto\",\"x\":[\"coffee\",\"cream\",\"toast\"],\"xaxis\":\"x\",\"y\":[62,19,12],\"yaxis\":\"y\",\"type\":\"bar\"},{\"alignmentgroup\":\"True\",\"hovertemplate\":\"wine_name=Cuv\\u00e9e des Enchanteleurs Brut Champagne\\u003cbr\\u003ekeywords=%{x}\\u003cbr\\u003etotal_user_count=%{y}\\u003cextra\\u003e\\u003c\\u002fextra\\u003e\",\"legendgroup\":\"Cuv\\u00e9e des Enchanteleurs Brut Champagne\",\"marker\":{\"color\":\"#FF6692\",\"pattern\":{\"shape\":\"\"}},\"name\":\"Cuv\\u00e9e des Enchanteleurs Brut Champagne\",\"offsetgroup\":\"Cuv\\u00e9e des Enchanteleurs Brut Champagne\",\"orientation\":\"v\",\"showlegend\":true,\"textposition\":\"auto\",\"x\":[\"toast\",\"cream\",\"coffee\",\"citrus\",\"green apple\"],\"xaxis\":\"x\",\"y\":[62,37,28,25,11],\"yaxis\":\"y\",\"type\":\"bar\"},{\"alignmentgroup\":\"True\",\"hovertemplate\":\"wine_name=Serral del Vell Brut Nature\\u003cbr\\u003ekeywords=%{x}\\u003cbr\\u003etotal_user_count=%{y}\\u003cextra\\u003e\\u003c\\u002fextra\\u003e\",\"legendgroup\":\"Serral del Vell Brut Nature\",\"marker\":{\"color\":\"#B6E880\",\"pattern\":{\"shape\":\"\"}},\"name\":\"Serral del Vell Brut Nature\",\"offsetgroup\":\"Serral del Vell Brut Nature\",\"orientation\":\"v\",\"showlegend\":true,\"textposition\":\"auto\",\"x\":[\"toast\",\"cream\",\"citrus\"],\"xaxis\":\"x\",\"y\":[60,38,28],\"yaxis\":\"y\",\"type\":\"bar\"},{\"alignmentgroup\":\"True\",\"hovertemplate\":\"wine_name=Georges De Latour Private Reserve Cabernet Sauvignon\\u003cbr\\u003ekeywords=%{x}\\u003cbr\\u003etotal_user_count=%{y}\\u003cextra\\u003e\\u003c\\u002fextra\\u003e\",\"legendgroup\":\"Georges De Latour Private Reserve Cabernet Sauvignon\",\"marker\":{\"color\":\"#FF97FF\",\"pattern\":{\"shape\":\"\"}},\"name\":\"Georges De Latour Private Reserve Cabernet Sauvignon\",\"offsetgroup\":\"Georges De Latour Private Reserve Cabernet Sauvignon\",\"orientation\":\"v\",\"showlegend\":true,\"textposition\":\"auto\",\"x\":[\"coffee\",\"toast\",\"cream\"],\"xaxis\":\"x\",\"y\":[60,46,15],\"yaxis\":\"y\",\"type\":\"bar\"},{\"alignmentgroup\":\"True\",\"hovertemplate\":\"wine_name=N.P.U. Extra Brut Champagne (Nec Plus Ultra)\\u003cbr\\u003ekeywords=%{x}\\u003cbr\\u003etotal_user_count=%{y}\\u003cextra\\u003e\\u003c\\u002fextra\\u003e\",\"legendgroup\":\"N.P.U. Extra Brut Champagne (Nec Plus Ultra)\",\"marker\":{\"color\":\"#FECB52\",\"pattern\":{\"shape\":\"\"}},\"name\":\"N.P.U. Extra Brut Champagne (Nec Plus Ultra)\",\"offsetgroup\":\"N.P.U. Extra Brut Champagne (Nec Plus Ultra)\",\"orientation\":\"v\",\"showlegend\":true,\"textposition\":\"auto\",\"x\":[\"toast\",\"citrus\",\"cream\"],\"xaxis\":\"x\",\"y\":[60,30,19],\"yaxis\":\"y\",\"type\":\"bar\"},{\"alignmentgroup\":\"True\",\"hovertemplate\":\"wine_name=Cava Celler Batlle\\u003cbr\\u003ekeywords=%{x}\\u003cbr\\u003etotal_user_count=%{y}\\u003cextra\\u003e\\u003c\\u002fextra\\u003e\",\"legendgroup\":\"Cava Celler Batlle\",\"marker\":{\"color\":\"#636efa\",\"pattern\":{\"shape\":\"\"}},\"name\":\"Cava Celler Batlle\",\"offsetgroup\":\"Cava Celler Batlle\",\"orientation\":\"v\",\"showlegend\":true,\"textposition\":\"auto\",\"x\":[\"toast\",\"citrus\",\"cream\",\"green apple\"],\"xaxis\":\"x\",\"y\":[60,26,25,15],\"yaxis\":\"y\",\"type\":\"bar\"},{\"alignmentgroup\":\"True\",\"hovertemplate\":\"wine_name=Tokaji Asz\\u00fa 5 Puttonyos\\u003cbr\\u003ekeywords=%{x}\\u003cbr\\u003etotal_user_count=%{y}\\u003cextra\\u003e\\u003c\\u002fextra\\u003e\",\"legendgroup\":\"Tokaji Asz\\u00fa 5 Puttonyos\",\"marker\":{\"color\":\"#EF553B\",\"pattern\":{\"shape\":\"\"}},\"name\":\"Tokaji Asz\\u00fa 5 Puttonyos\",\"offsetgroup\":\"Tokaji Asz\\u00fa 5 Puttonyos\",\"orientation\":\"v\",\"showlegend\":true,\"textposition\":\"auto\",\"x\":[\"toast\",\"citrus\",\"cream\",\"coffee\"],\"xaxis\":\"x\",\"y\":[60,46,19,16],\"yaxis\":\"y\",\"type\":\"bar\"},{\"alignmentgroup\":\"True\",\"hovertemplate\":\"wine_name=Don PX Convento Selecci\\u00f3n\\u003cbr\\u003ekeywords=%{x}\\u003cbr\\u003etotal_user_count=%{y}\\u003cextra\\u003e\\u003c\\u002fextra\\u003e\",\"legendgroup\":\"Don PX Convento Selecci\\u00f3n\",\"marker\":{\"color\":\"#00cc96\",\"pattern\":{\"shape\":\"\"}},\"name\":\"Don PX Convento Selecci\\u00f3n\",\"offsetgroup\":\"Don PX Convento Selecci\\u00f3n\",\"orientation\":\"v\",\"showlegend\":true,\"textposition\":\"auto\",\"x\":[\"coffee\"],\"xaxis\":\"x\",\"y\":[58],\"yaxis\":\"y\",\"type\":\"bar\"},{\"alignmentgroup\":\"True\",\"hovertemplate\":\"wine_name=Collection\\u003cbr\\u003ekeywords=%{x}\\u003cbr\\u003etotal_user_count=%{y}\\u003cextra\\u003e\\u003c\\u002fextra\\u003e\",\"legendgroup\":\"Collection\",\"marker\":{\"color\":\"#ab63fa\",\"pattern\":{\"shape\":\"\"}},\"name\":\"Collection\",\"offsetgroup\":\"Collection\",\"orientation\":\"v\",\"showlegend\":true,\"textposition\":\"auto\",\"x\":[\"toast\",\"citrus\",\"cream\",\"coffee\"],\"xaxis\":\"x\",\"y\":[56,38,36,12],\"yaxis\":\"y\",\"type\":\"bar\"},{\"alignmentgroup\":\"True\",\"hovertemplate\":\"wine_name=Clos des Lambrays Grand Cru\\u003cbr\\u003ekeywords=%{x}\\u003cbr\\u003etotal_user_count=%{y}\\u003cextra\\u003e\\u003c\\u002fextra\\u003e\",\"legendgroup\":\"Clos des Lambrays Grand Cru\",\"marker\":{\"color\":\"#FFA15A\",\"pattern\":{\"shape\":\"\"}},\"name\":\"Clos des Lambrays Grand Cru\",\"offsetgroup\":\"Clos des Lambrays Grand Cru\",\"orientation\":\"v\",\"showlegend\":true,\"textposition\":\"auto\",\"x\":[\"coffee\",\"toast\"],\"xaxis\":\"x\",\"y\":[56,14],\"yaxis\":\"y\",\"type\":\"bar\"},{\"alignmentgroup\":\"True\",\"hovertemplate\":\"wine_name=Beyond the Clouds\\u003cbr\\u003ekeywords=%{x}\\u003cbr\\u003etotal_user_count=%{y}\\u003cextra\\u003e\\u003c\\u002fextra\\u003e\",\"legendgroup\":\"Beyond the Clouds\",\"marker\":{\"color\":\"#19d3f3\",\"pattern\":{\"shape\":\"\"}},\"name\":\"Beyond the Clouds\",\"offsetgroup\":\"Beyond the Clouds\",\"orientation\":\"v\",\"showlegend\":true,\"textposition\":\"auto\",\"x\":[\"cream\",\"citrus\",\"green apple\",\"toast\"],\"xaxis\":\"x\",\"y\":[56,22,13,12],\"yaxis\":\"y\",\"type\":\"bar\"},{\"alignmentgroup\":\"True\",\"hovertemplate\":\"wine_name=Rioja Reserva\\u003cbr\\u003ekeywords=%{x}\\u003cbr\\u003etotal_user_count=%{y}\\u003cextra\\u003e\\u003c\\u002fextra\\u003e\",\"legendgroup\":\"Rioja Reserva\",\"marker\":{\"color\":\"#FF6692\",\"pattern\":{\"shape\":\"\"}},\"name\":\"Rioja Reserva\",\"offsetgroup\":\"Rioja Reserva\",\"orientation\":\"v\",\"showlegend\":true,\"textposition\":\"auto\",\"x\":[\"coffee\",\"toast\",\"cream\"],\"xaxis\":\"x\",\"y\":[56,18,16],\"yaxis\":\"y\",\"type\":\"bar\"},{\"alignmentgroup\":\"True\",\"hovertemplate\":\"wine_name=Avizoise Blanc de Blancs Extra Brut Champagne Grand Cru 'Avize'\\u003cbr\\u003ekeywords=%{x}\\u003cbr\\u003etotal_user_count=%{y}\\u003cextra\\u003e\\u003c\\u002fextra\\u003e\",\"legendgroup\":\"Avizoise Blanc de Blancs Extra Brut Champagne Grand Cru 'Avize'\",\"marker\":{\"color\":\"#B6E880\",\"pattern\":{\"shape\":\"\"}},\"name\":\"Avizoise Blanc de Blancs Extra Brut Champagne Grand Cru 'Avize'\",\"offsetgroup\":\"Avizoise Blanc de Blancs Extra Brut Champagne Grand Cru 'Avize'\",\"orientation\":\"v\",\"showlegend\":true,\"textposition\":\"auto\",\"x\":[\"toast\",\"cream\",\"citrus\",\"green apple\"],\"xaxis\":\"x\",\"y\":[56,30,26,20],\"yaxis\":\"y\",\"type\":\"bar\"},{\"alignmentgroup\":\"True\",\"hovertemplate\":\"wine_name=Trebbiano d'Abruzzo\\u003cbr\\u003ekeywords=%{x}\\u003cbr\\u003etotal_user_count=%{y}\\u003cextra\\u003e\\u003c\\u002fextra\\u003e\",\"legendgroup\":\"Trebbiano d'Abruzzo\",\"marker\":{\"color\":\"#FF97FF\",\"pattern\":{\"shape\":\"\"}},\"name\":\"Trebbiano d'Abruzzo\",\"offsetgroup\":\"Trebbiano d'Abruzzo\",\"orientation\":\"v\",\"showlegend\":true,\"textposition\":\"auto\",\"x\":[\"citrus\",\"coffee\",\"cream\",\"toast\",\"green apple\"],\"xaxis\":\"x\",\"y\":[55,42,27,22,14],\"yaxis\":\"y\",\"type\":\"bar\"},{\"alignmentgroup\":\"True\",\"hovertemplate\":\"wine_name=Bricco dell'Uccellone Barbera d'Asti\\u003cbr\\u003ekeywords=%{x}\\u003cbr\\u003etotal_user_count=%{y}\\u003cextra\\u003e\\u003c\\u002fextra\\u003e\",\"legendgroup\":\"Bricco dell'Uccellone Barbera d'Asti\",\"marker\":{\"color\":\"#FECB52\",\"pattern\":{\"shape\":\"\"}},\"name\":\"Bricco dell'Uccellone Barbera d'Asti\",\"offsetgroup\":\"Bricco dell'Uccellone Barbera d'Asti\",\"orientation\":\"v\",\"showlegend\":true,\"textposition\":\"auto\",\"x\":[\"coffee\",\"toast\",\"cream\"],\"xaxis\":\"x\",\"y\":[54,22,12],\"yaxis\":\"y\",\"type\":\"bar\"},{\"alignmentgroup\":\"True\",\"hovertemplate\":\"wine_name=Chevalier-Montrachet Grand Cru\\u003cbr\\u003ekeywords=%{x}\\u003cbr\\u003etotal_user_count=%{y}\\u003cextra\\u003e\\u003c\\u002fextra\\u003e\",\"legendgroup\":\"Chevalier-Montrachet Grand Cru\",\"marker\":{\"color\":\"#636efa\",\"pattern\":{\"shape\":\"\"}},\"name\":\"Chevalier-Montrachet Grand Cru\",\"offsetgroup\":\"Chevalier-Montrachet Grand Cru\",\"orientation\":\"v\",\"showlegend\":true,\"textposition\":\"auto\",\"x\":[\"citrus\",\"cream\",\"toast\"],\"xaxis\":\"x\",\"y\":[54,22,16],\"yaxis\":\"y\",\"type\":\"bar\"},{\"alignmentgroup\":\"True\",\"hovertemplate\":\"wine_name=Harlan Estate Red\\u003cbr\\u003ekeywords=%{x}\\u003cbr\\u003etotal_user_count=%{y}\\u003cextra\\u003e\\u003c\\u002fextra\\u003e\",\"legendgroup\":\"Harlan Estate Red\",\"marker\":{\"color\":\"#EF553B\",\"pattern\":{\"shape\":\"\"}},\"name\":\"Harlan Estate Red\",\"offsetgroup\":\"Harlan Estate Red\",\"orientation\":\"v\",\"showlegend\":true,\"textposition\":\"auto\",\"x\":[\"coffee\",\"cream\",\"toast\"],\"xaxis\":\"x\",\"y\":[54,20,12],\"yaxis\":\"y\",\"type\":\"bar\"},{\"alignmentgroup\":\"True\",\"hovertemplate\":\"wine_name=CASK 23 Cabernet Sauvignon\\u003cbr\\u003ekeywords=%{x}\\u003cbr\\u003etotal_user_count=%{y}\\u003cextra\\u003e\\u003c\\u002fextra\\u003e\",\"legendgroup\":\"CASK 23 Cabernet Sauvignon\",\"marker\":{\"color\":\"#00cc96\",\"pattern\":{\"shape\":\"\"}},\"name\":\"CASK 23 Cabernet Sauvignon\",\"offsetgroup\":\"CASK 23 Cabernet Sauvignon\",\"orientation\":\"v\",\"showlegend\":true,\"textposition\":\"auto\",\"x\":[\"coffee\",\"toast\",\"cream\"],\"xaxis\":\"x\",\"y\":[54,20,11],\"yaxis\":\"y\",\"type\":\"bar\"},{\"alignmentgroup\":\"True\",\"hovertemplate\":\"wine_name=Gran Reserva 890\\u003cbr\\u003ekeywords=%{x}\\u003cbr\\u003etotal_user_count=%{y}\\u003cextra\\u003e\\u003c\\u002fextra\\u003e\",\"legendgroup\":\"Gran Reserva 890\",\"marker\":{\"color\":\"#ab63fa\",\"pattern\":{\"shape\":\"\"}},\"name\":\"Gran Reserva 890\",\"offsetgroup\":\"Gran Reserva 890\",\"orientation\":\"v\",\"showlegend\":true,\"textposition\":\"auto\",\"x\":[\"toast\",\"coffee\",\"cream\"],\"xaxis\":\"x\",\"y\":[52,50,42],\"yaxis\":\"y\",\"type\":\"bar\"},{\"alignmentgroup\":\"True\",\"hovertemplate\":\"wine_name=C\\u00f4te-R\\u00f4tie La Landonne\\u003cbr\\u003ekeywords=%{x}\\u003cbr\\u003etotal_user_count=%{y}\\u003cextra\\u003e\\u003c\\u002fextra\\u003e\",\"legendgroup\":\"C\\u00f4te-R\\u00f4tie La Landonne\",\"marker\":{\"color\":\"#FFA15A\",\"pattern\":{\"shape\":\"\"}},\"name\":\"C\\u00f4te-R\\u00f4tie La Landonne\",\"offsetgroup\":\"C\\u00f4te-R\\u00f4tie La Landonne\",\"orientation\":\"v\",\"showlegend\":true,\"textposition\":\"auto\",\"x\":[\"coffee\",\"toast\"],\"xaxis\":\"x\",\"y\":[52,10],\"yaxis\":\"y\",\"type\":\"bar\"},{\"alignmentgroup\":\"True\",\"hovertemplate\":\"wine_name=C\\u00f4te-R\\u00f4tie\\u003cbr\\u003ekeywords=%{x}\\u003cbr\\u003etotal_user_count=%{y}\\u003cextra\\u003e\\u003c\\u002fextra\\u003e\",\"legendgroup\":\"C\\u00f4te-R\\u00f4tie\",\"marker\":{\"color\":\"#19d3f3\",\"pattern\":{\"shape\":\"\"}},\"name\":\"C\\u00f4te-R\\u00f4tie\",\"offsetgroup\":\"C\\u00f4te-R\\u00f4tie\",\"orientation\":\"v\",\"showlegend\":true,\"textposition\":\"auto\",\"x\":[\"coffee\",\"toast\"],\"xaxis\":\"x\",\"y\":[52,14],\"yaxis\":\"y\",\"type\":\"bar\"},{\"alignmentgroup\":\"True\",\"hovertemplate\":\"wine_name=Bibbona\\u003cbr\\u003ekeywords=%{x}\\u003cbr\\u003etotal_user_count=%{y}\\u003cextra\\u003e\\u003c\\u002fextra\\u003e\",\"legendgroup\":\"Bibbona\",\"marker\":{\"color\":\"#FF6692\",\"pattern\":{\"shape\":\"\"}},\"name\":\"Bibbona\",\"offsetgroup\":\"Bibbona\",\"orientation\":\"v\",\"showlegend\":true,\"textposition\":\"auto\",\"x\":[\"coffee\",\"toast\"],\"xaxis\":\"x\",\"y\":[52,24],\"yaxis\":\"y\",\"type\":\"bar\"},{\"alignmentgroup\":\"True\",\"hovertemplate\":\"wine_name=Reserva Ribera del Duero\\u003cbr\\u003ekeywords=%{x}\\u003cbr\\u003etotal_user_count=%{y}\\u003cextra\\u003e\\u003c\\u002fextra\\u003e\",\"legendgroup\":\"Reserva Ribera del Duero\",\"marker\":{\"color\":\"#B6E880\",\"pattern\":{\"shape\":\"\"}},\"name\":\"Reserva Ribera del Duero\",\"offsetgroup\":\"Reserva Ribera del Duero\",\"orientation\":\"v\",\"showlegend\":true,\"textposition\":\"auto\",\"x\":[\"coffee\",\"toast\",\"cream\"],\"xaxis\":\"x\",\"y\":[52,24,13],\"yaxis\":\"y\",\"type\":\"bar\"},{\"alignmentgroup\":\"True\",\"hovertemplate\":\"wine_name=Ros\\u00e9 Brut Champagne Grand Cru 'Ambonnay'\\u003cbr\\u003ekeywords=%{x}\\u003cbr\\u003etotal_user_count=%{y}\\u003cextra\\u003e\\u003c\\u002fextra\\u003e\",\"legendgroup\":\"Ros\\u00e9 Brut Champagne Grand Cru 'Ambonnay'\",\"marker\":{\"color\":\"#FF97FF\",\"pattern\":{\"shape\":\"\"}},\"name\":\"Ros\\u00e9 Brut Champagne Grand Cru 'Ambonnay'\",\"offsetgroup\":\"Ros\\u00e9 Brut Champagne Grand Cru 'Ambonnay'\",\"orientation\":\"v\",\"showlegend\":true,\"textposition\":\"auto\",\"x\":[\"toast\",\"cream\",\"citrus\"],\"xaxis\":\"x\",\"y\":[52,47,42],\"yaxis\":\"y\",\"type\":\"bar\"},{\"alignmentgroup\":\"True\",\"hovertemplate\":\"wine_name=Series C\\u003cbr\\u003ekeywords=%{x}\\u003cbr\\u003etotal_user_count=%{y}\\u003cextra\\u003e\\u003c\\u002fextra\\u003e\",\"legendgroup\":\"Series C\",\"marker\":{\"color\":\"#FECB52\",\"pattern\":{\"shape\":\"\"}},\"name\":\"Series C\",\"offsetgroup\":\"Series C\",\"orientation\":\"v\",\"showlegend\":true,\"textposition\":\"auto\",\"x\":[\"coffee\"],\"xaxis\":\"x\",\"y\":[50],\"yaxis\":\"y\",\"type\":\"bar\"},{\"alignmentgroup\":\"True\",\"hovertemplate\":\"wine_name=C\\u00f4te-R\\u00f4tie La Mouline\\u003cbr\\u003ekeywords=%{x}\\u003cbr\\u003etotal_user_count=%{y}\\u003cextra\\u003e\\u003c\\u002fextra\\u003e\",\"legendgroup\":\"C\\u00f4te-R\\u00f4tie La Mouline\",\"marker\":{\"color\":\"#636efa\",\"pattern\":{\"shape\":\"\"}},\"name\":\"C\\u00f4te-R\\u00f4tie La Mouline\",\"offsetgroup\":\"C\\u00f4te-R\\u00f4tie La Mouline\",\"orientation\":\"v\",\"showlegend\":true,\"textposition\":\"auto\",\"x\":[\"coffee\",\"toast\"],\"xaxis\":\"x\",\"y\":[50,12],\"yaxis\":\"y\",\"type\":\"bar\"},{\"alignmentgroup\":\"True\",\"hovertemplate\":\"wine_name=Calcarole Amarone della Valpolicella Classico\\u003cbr\\u003ekeywords=%{x}\\u003cbr\\u003etotal_user_count=%{y}\\u003cextra\\u003e\\u003c\\u002fextra\\u003e\",\"legendgroup\":\"Calcarole Amarone della Valpolicella Classico\",\"marker\":{\"color\":\"#EF553B\",\"pattern\":{\"shape\":\"\"}},\"name\":\"Calcarole Amarone della Valpolicella Classico\",\"offsetgroup\":\"Calcarole Amarone della Valpolicella Classico\",\"orientation\":\"v\",\"showlegend\":true,\"textposition\":\"auto\",\"x\":[\"coffee\"],\"xaxis\":\"x\",\"y\":[50],\"yaxis\":\"y\",\"type\":\"bar\"},{\"alignmentgroup\":\"True\",\"hovertemplate\":\"wine_name=Les Clos Chabl\\u00eds Grand Cru\\u003cbr\\u003ekeywords=%{x}\\u003cbr\\u003etotal_user_count=%{y}\\u003cextra\\u003e\\u003c\\u002fextra\\u003e\",\"legendgroup\":\"Les Clos Chabl\\u00eds Grand Cru\",\"marker\":{\"color\":\"#00cc96\",\"pattern\":{\"shape\":\"\"}},\"name\":\"Les Clos Chabl\\u00eds Grand Cru\",\"offsetgroup\":\"Les Clos Chabl\\u00eds Grand Cru\",\"orientation\":\"v\",\"showlegend\":true,\"textposition\":\"auto\",\"x\":[\"citrus\",\"cream\",\"green apple\"],\"xaxis\":\"x\",\"y\":[50,23,11],\"yaxis\":\"y\",\"type\":\"bar\"},{\"alignmentgroup\":\"True\",\"hovertemplate\":\"wine_name=Ribolla Gialla\\u003cbr\\u003ekeywords=%{x}\\u003cbr\\u003etotal_user_count=%{y}\\u003cextra\\u003e\\u003c\\u002fextra\\u003e\",\"legendgroup\":\"Ribolla Gialla\",\"marker\":{\"color\":\"#ab63fa\",\"pattern\":{\"shape\":\"\"}},\"name\":\"Ribolla Gialla\",\"offsetgroup\":\"Ribolla Gialla\",\"orientation\":\"v\",\"showlegend\":true,\"textposition\":\"auto\",\"x\":[\"citrus\",\"cream\"],\"xaxis\":\"x\",\"y\":[49,14],\"yaxis\":\"y\",\"type\":\"bar\"},{\"alignmentgroup\":\"True\",\"hovertemplate\":\"wine_name=Campolongo di Torbe Amarone della Valpolicella Classico\\u003cbr\\u003ekeywords=%{x}\\u003cbr\\u003etotal_user_count=%{y}\\u003cextra\\u003e\\u003c\\u002fextra\\u003e\",\"legendgroup\":\"Campolongo di Torbe Amarone della Valpolicella Classico\",\"marker\":{\"color\":\"#FFA15A\",\"pattern\":{\"shape\":\"\"}},\"name\":\"Campolongo di Torbe Amarone della Valpolicella Classico\",\"offsetgroup\":\"Campolongo di Torbe Amarone della Valpolicella Classico\",\"orientation\":\"v\",\"showlegend\":true,\"textposition\":\"auto\",\"x\":[\"coffee\"],\"xaxis\":\"x\",\"y\":[48],\"yaxis\":\"y\",\"type\":\"bar\"},{\"alignmentgroup\":\"True\",\"hovertemplate\":\"wine_name=Redigaffi Toscana\\u003cbr\\u003ekeywords=%{x}\\u003cbr\\u003etotal_user_count=%{y}\\u003cextra\\u003e\\u003c\\u002fextra\\u003e\",\"legendgroup\":\"Redigaffi Toscana\",\"marker\":{\"color\":\"#19d3f3\",\"pattern\":{\"shape\":\"\"}},\"name\":\"Redigaffi Toscana\",\"offsetgroup\":\"Redigaffi Toscana\",\"orientation\":\"v\",\"showlegend\":true,\"textposition\":\"auto\",\"x\":[\"coffee\",\"toast\",\"cream\"],\"xaxis\":\"x\",\"y\":[48,22,13],\"yaxis\":\"y\",\"type\":\"bar\"},{\"alignmentgroup\":\"True\",\"hovertemplate\":\"wine_name=Pingus\\u003cbr\\u003ekeywords=%{x}\\u003cbr\\u003etotal_user_count=%{y}\\u003cextra\\u003e\\u003c\\u002fextra\\u003e\",\"legendgroup\":\"Pingus\",\"marker\":{\"color\":\"#FF6692\",\"pattern\":{\"shape\":\"\"}},\"name\":\"Pingus\",\"offsetgroup\":\"Pingus\",\"orientation\":\"v\",\"showlegend\":true,\"textposition\":\"auto\",\"x\":[\"coffee\"],\"xaxis\":\"x\",\"y\":[48],\"yaxis\":\"y\",\"type\":\"bar\"},{\"alignmentgroup\":\"True\",\"hovertemplate\":\"wine_name=Corton-Charlemagne Grand Cru Blanc\\u003cbr\\u003ekeywords=%{x}\\u003cbr\\u003etotal_user_count=%{y}\\u003cextra\\u003e\\u003c\\u002fextra\\u003e\",\"legendgroup\":\"Corton-Charlemagne Grand Cru Blanc\",\"marker\":{\"color\":\"#B6E880\",\"pattern\":{\"shape\":\"\"}},\"name\":\"Corton-Charlemagne Grand Cru Blanc\",\"offsetgroup\":\"Corton-Charlemagne Grand Cru Blanc\",\"orientation\":\"v\",\"showlegend\":true,\"textposition\":\"auto\",\"x\":[\"citrus\",\"toast\",\"cream\",\"green apple\"],\"xaxis\":\"x\",\"y\":[47,40,35,19],\"yaxis\":\"y\",\"type\":\"bar\"},{\"alignmentgroup\":\"True\",\"hovertemplate\":\"wine_name=25 anni Montefalco Sagrantino\\u003cbr\\u003ekeywords=%{x}\\u003cbr\\u003etotal_user_count=%{y}\\u003cextra\\u003e\\u003c\\u002fextra\\u003e\",\"legendgroup\":\"25 anni Montefalco Sagrantino\",\"marker\":{\"color\":\"#FF97FF\",\"pattern\":{\"shape\":\"\"}},\"name\":\"25 anni Montefalco Sagrantino\",\"offsetgroup\":\"25 anni Montefalco Sagrantino\",\"orientation\":\"v\",\"showlegend\":true,\"textposition\":\"auto\",\"x\":[\"coffee\",\"toast\"],\"xaxis\":\"x\",\"y\":[46,12],\"yaxis\":\"y\",\"type\":\"bar\"},{\"alignmentgroup\":\"True\",\"hovertemplate\":\"wine_name=Pedro Ximenez Tradici\\u00f3n 20 Years Old Vos\\u003cbr\\u003ekeywords=%{x}\\u003cbr\\u003etotal_user_count=%{y}\\u003cextra\\u003e\\u003c\\u002fextra\\u003e\",\"legendgroup\":\"Pedro Ximenez Tradici\\u00f3n 20 Years Old Vos\",\"marker\":{\"color\":\"#FECB52\",\"pattern\":{\"shape\":\"\"}},\"name\":\"Pedro Ximenez Tradici\\u00f3n 20 Years Old Vos\",\"offsetgroup\":\"Pedro Ximenez Tradici\\u00f3n 20 Years Old Vos\",\"orientation\":\"v\",\"showlegend\":true,\"textposition\":\"auto\",\"x\":[\"coffee\"],\"xaxis\":\"x\",\"y\":[46],\"yaxis\":\"y\",\"type\":\"bar\"},{\"alignmentgroup\":\"True\",\"hovertemplate\":\"wine_name=Mai The First A.Montes Malbec\\u003cbr\\u003ekeywords=%{x}\\u003cbr\\u003etotal_user_count=%{y}\\u003cextra\\u003e\\u003c\\u002fextra\\u003e\",\"legendgroup\":\"Mai The First A.Montes Malbec\",\"marker\":{\"color\":\"#636efa\",\"pattern\":{\"shape\":\"\"}},\"name\":\"Mai The First A.Montes Malbec\",\"offsetgroup\":\"Mai The First A.Montes Malbec\",\"orientation\":\"v\",\"showlegend\":true,\"textposition\":\"auto\",\"x\":[\"coffee\",\"toast\"],\"xaxis\":\"x\",\"y\":[46,16],\"yaxis\":\"y\",\"type\":\"bar\"},{\"alignmentgroup\":\"True\",\"hovertemplate\":\"wine_name=Rubicon\\u003cbr\\u003ekeywords=%{x}\\u003cbr\\u003etotal_user_count=%{y}\\u003cextra\\u003e\\u003c\\u002fextra\\u003e\",\"legendgroup\":\"Rubicon\",\"marker\":{\"color\":\"#EF553B\",\"pattern\":{\"shape\":\"\"}},\"name\":\"Rubicon\",\"offsetgroup\":\"Rubicon\",\"orientation\":\"v\",\"showlegend\":true,\"textposition\":\"auto\",\"x\":[\"coffee\",\"cream\",\"toast\"],\"xaxis\":\"x\",\"y\":[46,12,12],\"yaxis\":\"y\",\"type\":\"bar\"},{\"alignmentgroup\":\"True\",\"hovertemplate\":\"wine_name=Buisson Renard\\u003cbr\\u003ekeywords=%{x}\\u003cbr\\u003etotal_user_count=%{y}\\u003cextra\\u003e\\u003c\\u002fextra\\u003e\",\"legendgroup\":\"Buisson Renard\",\"marker\":{\"color\":\"#00cc96\",\"pattern\":{\"shape\":\"\"}},\"name\":\"Buisson Renard\",\"offsetgroup\":\"Buisson Renard\",\"orientation\":\"v\",\"showlegend\":true,\"textposition\":\"auto\",\"x\":[\"citrus\",\"green apple\",\"cream\"],\"xaxis\":\"x\",\"y\":[45,16,13],\"yaxis\":\"y\",\"type\":\"bar\"},{\"alignmentgroup\":\"True\",\"hovertemplate\":\"wine_name=Mille E Una Notte\\u003cbr\\u003ekeywords=%{x}\\u003cbr\\u003etotal_user_count=%{y}\\u003cextra\\u003e\\u003c\\u002fextra\\u003e\",\"legendgroup\":\"Mille E Una Notte\",\"marker\":{\"color\":\"#ab63fa\",\"pattern\":{\"shape\":\"\"}},\"name\":\"Mille E Una Notte\",\"offsetgroup\":\"Mille E Una Notte\",\"orientation\":\"v\",\"showlegend\":true,\"textposition\":\"auto\",\"x\":[\"coffee\",\"cream\"],\"xaxis\":\"x\",\"y\":[44,11],\"yaxis\":\"y\",\"type\":\"bar\"},{\"alignmentgroup\":\"True\",\"hovertemplate\":\"wine_name=Relentless\\u003cbr\\u003ekeywords=%{x}\\u003cbr\\u003etotal_user_count=%{y}\\u003cextra\\u003e\\u003c\\u002fextra\\u003e\",\"legendgroup\":\"Relentless\",\"marker\":{\"color\":\"#FFA15A\",\"pattern\":{\"shape\":\"\"}},\"name\":\"Relentless\",\"offsetgroup\":\"Relentless\",\"orientation\":\"v\",\"showlegend\":true,\"textposition\":\"auto\",\"x\":[\"coffee\",\"cream\"],\"xaxis\":\"x\",\"y\":[44,11],\"yaxis\":\"y\",\"type\":\"bar\"},{\"alignmentgroup\":\"True\",\"hovertemplate\":\"wine_name=Puligny-Montrachet Enseign\\u00e8res\\u003cbr\\u003ekeywords=%{x}\\u003cbr\\u003etotal_user_count=%{y}\\u003cextra\\u003e\\u003c\\u002fextra\\u003e\",\"legendgroup\":\"Puligny-Montrachet Enseign\\u00e8res\",\"marker\":{\"color\":\"#19d3f3\",\"pattern\":{\"shape\":\"\"}},\"name\":\"Puligny-Montrachet Enseign\\u00e8res\",\"offsetgroup\":\"Puligny-Montrachet Enseign\\u00e8res\",\"orientation\":\"v\",\"showlegend\":true,\"textposition\":\"auto\",\"x\":[\"citrus\",\"toast\",\"cream\"],\"xaxis\":\"x\",\"y\":[44,22,12],\"yaxis\":\"y\",\"type\":\"bar\"},{\"alignmentgroup\":\"True\",\"hovertemplate\":\"wine_name=L'Apparita\\u003cbr\\u003ekeywords=%{x}\\u003cbr\\u003etotal_user_count=%{y}\\u003cextra\\u003e\\u003c\\u002fextra\\u003e\",\"legendgroup\":\"L'Apparita\",\"marker\":{\"color\":\"#FF6692\",\"pattern\":{\"shape\":\"\"}},\"name\":\"L'Apparita\",\"offsetgroup\":\"L'Apparita\",\"orientation\":\"v\",\"showlegend\":true,\"textposition\":\"auto\",\"x\":[\"coffee\"],\"xaxis\":\"x\",\"y\":[44],\"yaxis\":\"y\",\"type\":\"bar\"},{\"alignmentgroup\":\"True\",\"hovertemplate\":\"wine_name=Vittorio Moretti\\u003cbr\\u003ekeywords=%{x}\\u003cbr\\u003etotal_user_count=%{y}\\u003cextra\\u003e\\u003c\\u002fextra\\u003e\",\"legendgroup\":\"Vittorio Moretti\",\"marker\":{\"color\":\"#B6E880\",\"pattern\":{\"shape\":\"\"}},\"name\":\"Vittorio Moretti\",\"offsetgroup\":\"Vittorio Moretti\",\"orientation\":\"v\",\"showlegend\":true,\"textposition\":\"auto\",\"x\":[\"toast\",\"citrus\",\"cream\"],\"xaxis\":\"x\",\"y\":[44,27,12],\"yaxis\":\"y\",\"type\":\"bar\"},{\"alignmentgroup\":\"True\",\"hovertemplate\":\"wine_name=Howell Mountain Cabernet Sauvignon\\u003cbr\\u003ekeywords=%{x}\\u003cbr\\u003etotal_user_count=%{y}\\u003cextra\\u003e\\u003c\\u002fextra\\u003e\",\"legendgroup\":\"Howell Mountain Cabernet Sauvignon\",\"marker\":{\"color\":\"#FF97FF\",\"pattern\":{\"shape\":\"\"}},\"name\":\"Howell Mountain Cabernet Sauvignon\",\"offsetgroup\":\"Howell Mountain Cabernet Sauvignon\",\"orientation\":\"v\",\"showlegend\":true,\"textposition\":\"auto\",\"x\":[\"coffee\",\"toast\"],\"xaxis\":\"x\",\"y\":[44,14],\"yaxis\":\"y\",\"type\":\"bar\"},{\"alignmentgroup\":\"True\",\"hovertemplate\":\"wine_name=Pieve Santa Restituta Rennina Brunello di Montalcino\\u003cbr\\u003ekeywords=%{x}\\u003cbr\\u003etotal_user_count=%{y}\\u003cextra\\u003e\\u003c\\u002fextra\\u003e\",\"legendgroup\":\"Pieve Santa Restituta Rennina Brunello di Montalcino\",\"marker\":{\"color\":\"#FECB52\",\"pattern\":{\"shape\":\"\"}},\"name\":\"Pieve Santa Restituta Rennina Brunello di Montalcino\",\"offsetgroup\":\"Pieve Santa Restituta Rennina Brunello di Montalcino\",\"orientation\":\"v\",\"showlegend\":true,\"textposition\":\"auto\",\"x\":[\"coffee\"],\"xaxis\":\"x\",\"y\":[44],\"yaxis\":\"y\",\"type\":\"bar\"},{\"alignmentgroup\":\"True\",\"hovertemplate\":\"wine_name=La Piu Belle\\u003cbr\\u003ekeywords=%{x}\\u003cbr\\u003etotal_user_count=%{y}\\u003cextra\\u003e\\u003c\\u002fextra\\u003e\",\"legendgroup\":\"La Piu Belle\",\"marker\":{\"color\":\"#636efa\",\"pattern\":{\"shape\":\"\"}},\"name\":\"La Piu Belle\",\"offsetgroup\":\"La Piu Belle\",\"orientation\":\"v\",\"showlegend\":true,\"textposition\":\"auto\",\"x\":[\"coffee\",\"cream\",\"toast\"],\"xaxis\":\"x\",\"y\":[44,14,10],\"yaxis\":\"y\",\"type\":\"bar\"},{\"alignmentgroup\":\"True\",\"hovertemplate\":\"wine_name=Toscana I Sodi di San Niccolo\\u003cbr\\u003ekeywords=%{x}\\u003cbr\\u003etotal_user_count=%{y}\\u003cextra\\u003e\\u003c\\u002fextra\\u003e\",\"legendgroup\":\"Toscana I Sodi di San Niccolo\",\"marker\":{\"color\":\"#EF553B\",\"pattern\":{\"shape\":\"\"}},\"name\":\"Toscana I Sodi di San Niccolo\",\"offsetgroup\":\"Toscana I Sodi di San Niccolo\",\"orientation\":\"v\",\"showlegend\":true,\"textposition\":\"auto\",\"x\":[\"coffee\",\"toast\"],\"xaxis\":\"x\",\"y\":[42,10],\"yaxis\":\"y\",\"type\":\"bar\"},{\"alignmentgroup\":\"True\",\"hovertemplate\":\"wine_name=Tokaji Asz\\u00fa 3 Puttonyos\\u003cbr\\u003ekeywords=%{x}\\u003cbr\\u003etotal_user_count=%{y}\\u003cextra\\u003e\\u003c\\u002fextra\\u003e\",\"legendgroup\":\"Tokaji Asz\\u00fa 3 Puttonyos\",\"marker\":{\"color\":\"#00cc96\",\"pattern\":{\"shape\":\"\"}},\"name\":\"Tokaji Asz\\u00fa 3 Puttonyos\",\"offsetgroup\":\"Tokaji Asz\\u00fa 3 Puttonyos\",\"orientation\":\"v\",\"showlegend\":true,\"textposition\":\"auto\",\"x\":[\"citrus\",\"toast\",\"cream\"],\"xaxis\":\"x\",\"y\":[41,20,18],\"yaxis\":\"y\",\"type\":\"bar\"},{\"alignmentgroup\":\"True\",\"hovertemplate\":\"wine_name=Chablis Grand Cru 'Valmur'\\u003cbr\\u003ekeywords=%{x}\\u003cbr\\u003etotal_user_count=%{y}\\u003cextra\\u003e\\u003c\\u002fextra\\u003e\",\"legendgroup\":\"Chablis Grand Cru 'Valmur'\",\"marker\":{\"color\":\"#ab63fa\",\"pattern\":{\"shape\":\"\"}},\"name\":\"Chablis Grand Cru 'Valmur'\",\"offsetgroup\":\"Chablis Grand Cru 'Valmur'\",\"orientation\":\"v\",\"showlegend\":true,\"textposition\":\"auto\",\"x\":[\"citrus\",\"cream\",\"green apple\"],\"xaxis\":\"x\",\"y\":[41,15,11],\"yaxis\":\"y\",\"type\":\"bar\"},{\"alignmentgroup\":\"True\",\"hovertemplate\":\"wine_name=Montrachet Grand Cru Marquis de Laguiche\\u003cbr\\u003ekeywords=%{x}\\u003cbr\\u003etotal_user_count=%{y}\\u003cextra\\u003e\\u003c\\u002fextra\\u003e\",\"legendgroup\":\"Montrachet Grand Cru Marquis de Laguiche\",\"marker\":{\"color\":\"#FFA15A\",\"pattern\":{\"shape\":\"\"}},\"name\":\"Montrachet Grand Cru Marquis de Laguiche\",\"offsetgroup\":\"Montrachet Grand Cru Marquis de Laguiche\",\"orientation\":\"v\",\"showlegend\":true,\"textposition\":\"auto\",\"x\":[\"citrus\",\"cream\",\"toast\"],\"xaxis\":\"x\",\"y\":[41,27,16],\"yaxis\":\"y\",\"type\":\"bar\"},{\"alignmentgroup\":\"True\",\"hovertemplate\":\"wine_name=Riserva Nova Domus Terlaner\\u003cbr\\u003ekeywords=%{x}\\u003cbr\\u003etotal_user_count=%{y}\\u003cextra\\u003e\\u003c\\u002fextra\\u003e\",\"legendgroup\":\"Riserva Nova Domus Terlaner\",\"marker\":{\"color\":\"#19d3f3\",\"pattern\":{\"shape\":\"\"}},\"name\":\"Riserva Nova Domus Terlaner\",\"offsetgroup\":\"Riserva Nova Domus Terlaner\",\"orientation\":\"v\",\"showlegend\":true,\"textposition\":\"auto\",\"x\":[\"cream\",\"citrus\",\"toast\"],\"xaxis\":\"x\",\"y\":[41,39,10],\"yaxis\":\"y\",\"type\":\"bar\"},{\"alignmentgroup\":\"True\",\"hovertemplate\":\"wine_name=Reserve Chardonnay\\u003cbr\\u003ekeywords=%{x}\\u003cbr\\u003etotal_user_count=%{y}\\u003cextra\\u003e\\u003c\\u002fextra\\u003e\",\"legendgroup\":\"Reserve Chardonnay\",\"marker\":{\"color\":\"#FF6692\",\"pattern\":{\"shape\":\"\"}},\"name\":\"Reserve Chardonnay\",\"offsetgroup\":\"Reserve Chardonnay\",\"orientation\":\"v\",\"showlegend\":true,\"textposition\":\"auto\",\"x\":[\"citrus\",\"toast\",\"cream\"],\"xaxis\":\"x\",\"y\":[41,20,17],\"yaxis\":\"y\",\"type\":\"bar\"},{\"alignmentgroup\":\"True\",\"hovertemplate\":\"wine_name=Malleolus de Sanchomartin\\u003cbr\\u003ekeywords=%{x}\\u003cbr\\u003etotal_user_count=%{y}\\u003cextra\\u003e\\u003c\\u002fextra\\u003e\",\"legendgroup\":\"Malleolus de Sanchomartin\",\"marker\":{\"color\":\"#B6E880\",\"pattern\":{\"shape\":\"\"}},\"name\":\"Malleolus de Sanchomartin\",\"offsetgroup\":\"Malleolus de Sanchomartin\",\"orientation\":\"v\",\"showlegend\":true,\"textposition\":\"auto\",\"x\":[\"coffee\"],\"xaxis\":\"x\",\"y\":[40],\"yaxis\":\"y\",\"type\":\"bar\"},{\"alignmentgroup\":\"True\",\"hovertemplate\":\"wine_name=Unico Reserva Especial Edici\\u00f3n\\u003cbr\\u003ekeywords=%{x}\\u003cbr\\u003etotal_user_count=%{y}\\u003cextra\\u003e\\u003c\\u002fextra\\u003e\",\"legendgroup\":\"Unico Reserva Especial Edici\\u00f3n\",\"marker\":{\"color\":\"#FF97FF\",\"pattern\":{\"shape\":\"\"}},\"name\":\"Unico Reserva Especial Edici\\u00f3n\",\"offsetgroup\":\"Unico Reserva Especial Edici\\u00f3n\",\"orientation\":\"v\",\"showlegend\":true,\"textposition\":\"auto\",\"x\":[\"coffee\",\"cream\",\"toast\"],\"xaxis\":\"x\",\"y\":[40,11,10],\"yaxis\":\"y\",\"type\":\"bar\"},{\"alignmentgroup\":\"True\",\"hovertemplate\":\"wine_name=Brunello di Montalcino Riserva Madonna del Piano\\u003cbr\\u003ekeywords=%{x}\\u003cbr\\u003etotal_user_count=%{y}\\u003cextra\\u003e\\u003c\\u002fextra\\u003e\",\"legendgroup\":\"Brunello di Montalcino Riserva Madonna del Piano\",\"marker\":{\"color\":\"#FECB52\",\"pattern\":{\"shape\":\"\"}},\"name\":\"Brunello di Montalcino Riserva Madonna del Piano\",\"offsetgroup\":\"Brunello di Montalcino Riserva Madonna del Piano\",\"orientation\":\"v\",\"showlegend\":true,\"textposition\":\"auto\",\"x\":[\"coffee\"],\"xaxis\":\"x\",\"y\":[40],\"yaxis\":\"y\",\"type\":\"bar\"},{\"alignmentgroup\":\"True\",\"hovertemplate\":\"wine_name=Kurni Marche\\u003cbr\\u003ekeywords=%{x}\\u003cbr\\u003etotal_user_count=%{y}\\u003cextra\\u003e\\u003c\\u002fextra\\u003e\",\"legendgroup\":\"Kurni Marche\",\"marker\":{\"color\":\"#636efa\",\"pattern\":{\"shape\":\"\"}},\"name\":\"Kurni Marche\",\"offsetgroup\":\"Kurni Marche\",\"orientation\":\"v\",\"showlegend\":true,\"textposition\":\"auto\",\"x\":[\"coffee\"],\"xaxis\":\"x\",\"y\":[40],\"yaxis\":\"y\",\"type\":\"bar\"},{\"alignmentgroup\":\"True\",\"hovertemplate\":\"wine_name=Bar\\u00f3n de Chirel Rioja Reserva\\u003cbr\\u003ekeywords=%{x}\\u003cbr\\u003etotal_user_count=%{y}\\u003cextra\\u003e\\u003c\\u002fextra\\u003e\",\"legendgroup\":\"Bar\\u00f3n de Chirel Rioja Reserva\",\"marker\":{\"color\":\"#EF553B\",\"pattern\":{\"shape\":\"\"}},\"name\":\"Bar\\u00f3n de Chirel Rioja Reserva\",\"offsetgroup\":\"Bar\\u00f3n de Chirel Rioja Reserva\",\"orientation\":\"v\",\"showlegend\":true,\"textposition\":\"auto\",\"x\":[\"coffee\",\"toast\"],\"xaxis\":\"x\",\"y\":[40,32],\"yaxis\":\"y\",\"type\":\"bar\"},{\"alignmentgroup\":\"True\",\"hovertemplate\":\"wine_name=Cosimo Varvaglione Collezione Privata Primitivo di Manduria\\u003cbr\\u003ekeywords=%{x}\\u003cbr\\u003etotal_user_count=%{y}\\u003cextra\\u003e\\u003c\\u002fextra\\u003e\",\"legendgroup\":\"Cosimo Varvaglione Collezione Privata Primitivo di Manduria\",\"marker\":{\"color\":\"#00cc96\",\"pattern\":{\"shape\":\"\"}},\"name\":\"Cosimo Varvaglione Collezione Privata Primitivo di Manduria\",\"offsetgroup\":\"Cosimo Varvaglione Collezione Privata Primitivo di Manduria\",\"orientation\":\"v\",\"showlegend\":true,\"textposition\":\"auto\",\"x\":[\"coffee\"],\"xaxis\":\"x\",\"y\":[40],\"yaxis\":\"y\",\"type\":\"bar\"},{\"alignmentgroup\":\"True\",\"hovertemplate\":\"wine_name=Brunello di Montalcino Riserva Vigna Paganelli\\u003cbr\\u003ekeywords=%{x}\\u003cbr\\u003etotal_user_count=%{y}\\u003cextra\\u003e\\u003c\\u002fextra\\u003e\",\"legendgroup\":\"Brunello di Montalcino Riserva Vigna Paganelli\",\"marker\":{\"color\":\"#ab63fa\",\"pattern\":{\"shape\":\"\"}},\"name\":\"Brunello di Montalcino Riserva Vigna Paganelli\",\"offsetgroup\":\"Brunello di Montalcino Riserva Vigna Paganelli\",\"orientation\":\"v\",\"showlegend\":true,\"textposition\":\"auto\",\"x\":[\"coffee\"],\"xaxis\":\"x\",\"y\":[38],\"yaxis\":\"y\",\"type\":\"bar\"},{\"alignmentgroup\":\"True\",\"hovertemplate\":\"wine_name=Bric D\\u00ebl Fiasc Barolo\\u003cbr\\u003ekeywords=%{x}\\u003cbr\\u003etotal_user_count=%{y}\\u003cextra\\u003e\\u003c\\u002fextra\\u003e\",\"legendgroup\":\"Bric D\\u00ebl Fiasc Barolo\",\"marker\":{\"color\":\"#FFA15A\",\"pattern\":{\"shape\":\"\"}},\"name\":\"Bric D\\u00ebl Fiasc Barolo\",\"offsetgroup\":\"Bric D\\u00ebl Fiasc Barolo\",\"orientation\":\"v\",\"showlegend\":true,\"textposition\":\"auto\",\"x\":[\"coffee\"],\"xaxis\":\"x\",\"y\":[38],\"yaxis\":\"y\",\"type\":\"bar\"},{\"alignmentgroup\":\"True\",\"hovertemplate\":\"wine_name=Scharzhofberger Riesling Sp\\u00e4tlese\\u003cbr\\u003ekeywords=%{x}\\u003cbr\\u003etotal_user_count=%{y}\\u003cextra\\u003e\\u003c\\u002fextra\\u003e\",\"legendgroup\":\"Scharzhofberger Riesling Sp\\u00e4tlese\",\"marker\":{\"color\":\"#19d3f3\",\"pattern\":{\"shape\":\"\"}},\"name\":\"Scharzhofberger Riesling Sp\\u00e4tlese\",\"offsetgroup\":\"Scharzhofberger Riesling Sp\\u00e4tlese\",\"orientation\":\"v\",\"showlegend\":true,\"textposition\":\"auto\",\"x\":[\"citrus\"],\"xaxis\":\"x\",\"y\":[38],\"yaxis\":\"y\",\"type\":\"bar\"},{\"alignmentgroup\":\"True\",\"hovertemplate\":\"wine_name=Campo del Titari Amarone della Valpolicella Classico Riserva\\u003cbr\\u003ekeywords=%{x}\\u003cbr\\u003etotal_user_count=%{y}\\u003cextra\\u003e\\u003c\\u002fextra\\u003e\",\"legendgroup\":\"Campo del Titari Amarone della Valpolicella Classico Riserva\",\"marker\":{\"color\":\"#FF6692\",\"pattern\":{\"shape\":\"\"}},\"name\":\"Campo del Titari Amarone della Valpolicella Classico Riserva\",\"offsetgroup\":\"Campo del Titari Amarone della Valpolicella Classico Riserva\",\"orientation\":\"v\",\"showlegend\":true,\"textposition\":\"auto\",\"x\":[\"coffee\"],\"xaxis\":\"x\",\"y\":[38],\"yaxis\":\"y\",\"type\":\"bar\"},{\"alignmentgroup\":\"True\",\"hovertemplate\":\"wine_name=Amarone della Valpolicella\\u003cbr\\u003ekeywords=%{x}\\u003cbr\\u003etotal_user_count=%{y}\\u003cextra\\u003e\\u003c\\u002fextra\\u003e\",\"legendgroup\":\"Amarone della Valpolicella\",\"marker\":{\"color\":\"#B6E880\",\"pattern\":{\"shape\":\"\"}},\"name\":\"Amarone della Valpolicella\",\"offsetgroup\":\"Amarone della Valpolicella\",\"orientation\":\"v\",\"showlegend\":true,\"textposition\":\"auto\",\"x\":[\"coffee\",\"coffee\",\"coffee\"],\"xaxis\":\"x\",\"y\":[38,24,14],\"yaxis\":\"y\",\"type\":\"bar\"},{\"alignmentgroup\":\"True\",\"hovertemplate\":\"wine_name=Vieilles Vignes Ch\\u00e2teauneuf-du-Pape Blanc\\u003cbr\\u003ekeywords=%{x}\\u003cbr\\u003etotal_user_count=%{y}\\u003cextra\\u003e\\u003c\\u002fextra\\u003e\",\"legendgroup\":\"Vieilles Vignes Ch\\u00e2teauneuf-du-Pape Blanc\",\"marker\":{\"color\":\"#FF97FF\",\"pattern\":{\"shape\":\"\"}},\"name\":\"Vieilles Vignes Ch\\u00e2teauneuf-du-Pape Blanc\",\"offsetgroup\":\"Vieilles Vignes Ch\\u00e2teauneuf-du-Pape Blanc\",\"orientation\":\"v\",\"showlegend\":true,\"textposition\":\"auto\",\"x\":[\"cream\",\"toast\",\"citrus\"],\"xaxis\":\"x\",\"y\":[38,22,17],\"yaxis\":\"y\",\"type\":\"bar\"},{\"alignmentgroup\":\"True\",\"hovertemplate\":\"wine_name=Montepulciano d'Abruzzo\\u003cbr\\u003ekeywords=%{x}\\u003cbr\\u003etotal_user_count=%{y}\\u003cextra\\u003e\\u003c\\u002fextra\\u003e\",\"legendgroup\":\"Montepulciano d'Abruzzo\",\"marker\":{\"color\":\"#FECB52\",\"pattern\":{\"shape\":\"\"}},\"name\":\"Montepulciano d'Abruzzo\",\"offsetgroup\":\"Montepulciano d'Abruzzo\",\"orientation\":\"v\",\"showlegend\":true,\"textposition\":\"auto\",\"x\":[\"coffee\",\"coffee\"],\"xaxis\":\"x\",\"y\":[36,20],\"yaxis\":\"y\",\"type\":\"bar\"},{\"alignmentgroup\":\"True\",\"hovertemplate\":\"wine_name=Barolo Le Vigne\\u003cbr\\u003ekeywords=%{x}\\u003cbr\\u003etotal_user_count=%{y}\\u003cextra\\u003e\\u003c\\u002fextra\\u003e\",\"legendgroup\":\"Barolo Le Vigne\",\"marker\":{\"color\":\"#636efa\",\"pattern\":{\"shape\":\"\"}},\"name\":\"Barolo Le Vigne\",\"offsetgroup\":\"Barolo Le Vigne\",\"orientation\":\"v\",\"showlegend\":true,\"textposition\":\"auto\",\"x\":[\"coffee\",\"toast\"],\"xaxis\":\"x\",\"y\":[36,14],\"yaxis\":\"y\",\"type\":\"bar\"},{\"alignmentgroup\":\"True\",\"hovertemplate\":\"wine_name=Beaune 1er Cru 'Clos des Mouches' Blanc\\u003cbr\\u003ekeywords=%{x}\\u003cbr\\u003etotal_user_count=%{y}\\u003cextra\\u003e\\u003c\\u002fextra\\u003e\",\"legendgroup\":\"Beaune 1er Cru 'Clos des Mouches' Blanc\",\"marker\":{\"color\":\"#EF553B\",\"pattern\":{\"shape\":\"\"}},\"name\":\"Beaune 1er Cru 'Clos des Mouches' Blanc\",\"offsetgroup\":\"Beaune 1er Cru 'Clos des Mouches' Blanc\",\"orientation\":\"v\",\"showlegend\":true,\"textposition\":\"auto\",\"x\":[\"citrus\",\"cream\",\"toast\"],\"xaxis\":\"x\",\"y\":[36,30,18],\"yaxis\":\"y\",\"type\":\"bar\"},{\"alignmentgroup\":\"True\",\"hovertemplate\":\"wine_name=The Armagh Shiraz\\u003cbr\\u003ekeywords=%{x}\\u003cbr\\u003etotal_user_count=%{y}\\u003cextra\\u003e\\u003c\\u002fextra\\u003e\",\"legendgroup\":\"The Armagh Shiraz\",\"marker\":{\"color\":\"#00cc96\",\"pattern\":{\"shape\":\"\"}},\"name\":\"The Armagh Shiraz\",\"offsetgroup\":\"The Armagh Shiraz\",\"orientation\":\"v\",\"showlegend\":true,\"textposition\":\"auto\",\"x\":[\"coffee\",\"cream\",\"toast\"],\"xaxis\":\"x\",\"y\":[36,12,12],\"yaxis\":\"y\",\"type\":\"bar\"},{\"alignmentgroup\":\"True\",\"hovertemplate\":\"wine_name=Dagromis Barolo\\u003cbr\\u003ekeywords=%{x}\\u003cbr\\u003etotal_user_count=%{y}\\u003cextra\\u003e\\u003c\\u002fextra\\u003e\",\"legendgroup\":\"Dagromis Barolo\",\"marker\":{\"color\":\"#ab63fa\",\"pattern\":{\"shape\":\"\"}},\"name\":\"Dagromis Barolo\",\"offsetgroup\":\"Dagromis Barolo\",\"orientation\":\"v\",\"showlegend\":true,\"textposition\":\"auto\",\"x\":[\"coffee\",\"toast\"],\"xaxis\":\"x\",\"y\":[36,18],\"yaxis\":\"y\",\"type\":\"bar\"},{\"alignmentgroup\":\"True\",\"hovertemplate\":\"wine_name=Cerretalto Brunello di Montalcino\\u003cbr\\u003ekeywords=%{x}\\u003cbr\\u003etotal_user_count=%{y}\\u003cextra\\u003e\\u003c\\u002fextra\\u003e\",\"legendgroup\":\"Cerretalto Brunello di Montalcino\",\"marker\":{\"color\":\"#FFA15A\",\"pattern\":{\"shape\":\"\"}},\"name\":\"Cerretalto Brunello di Montalcino\",\"offsetgroup\":\"Cerretalto Brunello di Montalcino\",\"orientation\":\"v\",\"showlegend\":true,\"textposition\":\"auto\",\"x\":[\"coffee\"],\"xaxis\":\"x\",\"y\":[36],\"yaxis\":\"y\",\"type\":\"bar\"},{\"alignmentgroup\":\"True\",\"hovertemplate\":\"wine_name=L'Hermitage\\u003cbr\\u003ekeywords=%{x}\\u003cbr\\u003etotal_user_count=%{y}\\u003cextra\\u003e\\u003c\\u002fextra\\u003e\",\"legendgroup\":\"L'Hermitage\",\"marker\":{\"color\":\"#19d3f3\",\"pattern\":{\"shape\":\"\"}},\"name\":\"L'Hermitage\",\"offsetgroup\":\"L'Hermitage\",\"orientation\":\"v\",\"showlegend\":true,\"textposition\":\"auto\",\"x\":[\"coffee\",\"toast\"],\"xaxis\":\"x\",\"y\":[36,14],\"yaxis\":\"y\",\"type\":\"bar\"},{\"alignmentgroup\":\"True\",\"hovertemplate\":\"wine_name=Gran Enemigo\\u003cbr\\u003ekeywords=%{x}\\u003cbr\\u003etotal_user_count=%{y}\\u003cextra\\u003e\\u003c\\u002fextra\\u003e\",\"legendgroup\":\"Gran Enemigo\",\"marker\":{\"color\":\"#FF6692\",\"pattern\":{\"shape\":\"\"}},\"name\":\"Gran Enemigo\",\"offsetgroup\":\"Gran Enemigo\",\"orientation\":\"v\",\"showlegend\":true,\"textposition\":\"auto\",\"x\":[\"coffee\",\"toast\"],\"xaxis\":\"x\",\"y\":[36,20],\"yaxis\":\"y\",\"type\":\"bar\"},{\"alignmentgroup\":\"True\",\"hovertemplate\":\"wine_name=Dalmau Rioja\\u003cbr\\u003ekeywords=%{x}\\u003cbr\\u003etotal_user_count=%{y}\\u003cextra\\u003e\\u003c\\u002fextra\\u003e\",\"legendgroup\":\"Dalmau Rioja\",\"marker\":{\"color\":\"#B6E880\",\"pattern\":{\"shape\":\"\"}},\"name\":\"Dalmau Rioja\",\"offsetgroup\":\"Dalmau Rioja\",\"orientation\":\"v\",\"showlegend\":true,\"textposition\":\"auto\",\"x\":[\"coffee\",\"toast\",\"cream\"],\"xaxis\":\"x\",\"y\":[36,30,19],\"yaxis\":\"y\",\"type\":\"bar\"},{\"alignmentgroup\":\"True\",\"hovertemplate\":\"wine_name=Cuv\\u00e9e Risleus Brut Champagne Premier Cru\\u003cbr\\u003ekeywords=%{x}\\u003cbr\\u003etotal_user_count=%{y}\\u003cextra\\u003e\\u003c\\u002fextra\\u003e\",\"legendgroup\":\"Cuv\\u00e9e Risleus Brut Champagne Premier Cru\",\"marker\":{\"color\":\"#FF97FF\",\"pattern\":{\"shape\":\"\"}},\"name\":\"Cuv\\u00e9e Risleus Brut Champagne Premier Cru\",\"offsetgroup\":\"Cuv\\u00e9e Risleus Brut Champagne Premier Cru\",\"orientation\":\"v\",\"showlegend\":true,\"textposition\":\"auto\",\"x\":[\"toast\"],\"xaxis\":\"x\",\"y\":[36],\"yaxis\":\"y\",\"type\":\"bar\"},{\"alignmentgroup\":\"True\",\"hovertemplate\":\"wine_name=Mazzano Amarone Della Valpolicella Classico\\u003cbr\\u003ekeywords=%{x}\\u003cbr\\u003etotal_user_count=%{y}\\u003cextra\\u003e\\u003c\\u002fextra\\u003e\",\"legendgroup\":\"Mazzano Amarone Della Valpolicella Classico\",\"marker\":{\"color\":\"#FECB52\",\"pattern\":{\"shape\":\"\"}},\"name\":\"Mazzano Amarone Della Valpolicella Classico\",\"offsetgroup\":\"Mazzano Amarone Della Valpolicella Classico\",\"orientation\":\"v\",\"showlegend\":true,\"textposition\":\"auto\",\"x\":[\"coffee\"],\"xaxis\":\"x\",\"y\":[36],\"yaxis\":\"y\",\"type\":\"bar\"},{\"alignmentgroup\":\"True\",\"hovertemplate\":\"wine_name=Les Pavots\\u003cbr\\u003ekeywords=%{x}\\u003cbr\\u003etotal_user_count=%{y}\\u003cextra\\u003e\\u003c\\u002fextra\\u003e\",\"legendgroup\":\"Les Pavots\",\"marker\":{\"color\":\"#636efa\",\"pattern\":{\"shape\":\"\"}},\"name\":\"Les Pavots\",\"offsetgroup\":\"Les Pavots\",\"orientation\":\"v\",\"showlegend\":true,\"textposition\":\"auto\",\"x\":[\"coffee\",\"cream\",\"toast\"],\"xaxis\":\"x\",\"y\":[34,13,12],\"yaxis\":\"y\",\"type\":\"bar\"},{\"alignmentgroup\":\"True\",\"hovertemplate\":\"wine_name=Giramonte Toscana\\u003cbr\\u003ekeywords=%{x}\\u003cbr\\u003etotal_user_count=%{y}\\u003cextra\\u003e\\u003c\\u002fextra\\u003e\",\"legendgroup\":\"Giramonte Toscana\",\"marker\":{\"color\":\"#EF553B\",\"pattern\":{\"shape\":\"\"}},\"name\":\"Giramonte Toscana\",\"offsetgroup\":\"Giramonte Toscana\",\"orientation\":\"v\",\"showlegend\":true,\"textposition\":\"auto\",\"x\":[\"coffee\"],\"xaxis\":\"x\",\"y\":[34],\"yaxis\":\"y\",\"type\":\"bar\"},{\"alignmentgroup\":\"True\",\"hovertemplate\":\"wine_name=Yarden Katzrin\\u003cbr\\u003ekeywords=%{x}\\u003cbr\\u003etotal_user_count=%{y}\\u003cextra\\u003e\\u003c\\u002fextra\\u003e\",\"legendgroup\":\"Yarden Katzrin\",\"marker\":{\"color\":\"#00cc96\",\"pattern\":{\"shape\":\"\"}},\"name\":\"Yarden Katzrin\",\"offsetgroup\":\"Yarden Katzrin\",\"orientation\":\"v\",\"showlegend\":true,\"textposition\":\"auto\",\"x\":[\"coffee\"],\"xaxis\":\"x\",\"y\":[34],\"yaxis\":\"y\",\"type\":\"bar\"},{\"alignmentgroup\":\"True\",\"hovertemplate\":\"wine_name=Poggio all'Oro Brunello di Montalcino Riserva\\u003cbr\\u003ekeywords=%{x}\\u003cbr\\u003etotal_user_count=%{y}\\u003cextra\\u003e\\u003c\\u002fextra\\u003e\",\"legendgroup\":\"Poggio all'Oro Brunello di Montalcino Riserva\",\"marker\":{\"color\":\"#ab63fa\",\"pattern\":{\"shape\":\"\"}},\"name\":\"Poggio all'Oro Brunello di Montalcino Riserva\",\"offsetgroup\":\"Poggio all'Oro Brunello di Montalcino Riserva\",\"orientation\":\"v\",\"showlegend\":true,\"textposition\":\"auto\",\"x\":[\"coffee\"],\"xaxis\":\"x\",\"y\":[34],\"yaxis\":\"y\",\"type\":\"bar\"},{\"alignmentgroup\":\"True\",\"hovertemplate\":\"wine_name=Campo Inferi Amarone della Valpolicella Classico Riserva\\u003cbr\\u003ekeywords=%{x}\\u003cbr\\u003etotal_user_count=%{y}\\u003cextra\\u003e\\u003c\\u002fextra\\u003e\",\"legendgroup\":\"Campo Inferi Amarone della Valpolicella Classico Riserva\",\"marker\":{\"color\":\"#FFA15A\",\"pattern\":{\"shape\":\"\"}},\"name\":\"Campo Inferi Amarone della Valpolicella Classico Riserva\",\"offsetgroup\":\"Campo Inferi Amarone della Valpolicella Classico Riserva\",\"orientation\":\"v\",\"showlegend\":true,\"textposition\":\"auto\",\"x\":[\"coffee\"],\"xaxis\":\"x\",\"y\":[34],\"yaxis\":\"y\",\"type\":\"bar\"},{\"alignmentgroup\":\"True\",\"hovertemplate\":\"wine_name=Gran Reserva Rioja (Finca Ygay)\\u003cbr\\u003ekeywords=%{x}\\u003cbr\\u003etotal_user_count=%{y}\\u003cextra\\u003e\\u003c\\u002fextra\\u003e\",\"legendgroup\":\"Gran Reserva Rioja (Finca Ygay)\",\"marker\":{\"color\":\"#19d3f3\",\"pattern\":{\"shape\":\"\"}},\"name\":\"Gran Reserva Rioja (Finca Ygay)\",\"offsetgroup\":\"Gran Reserva Rioja (Finca Ygay)\",\"orientation\":\"v\",\"showlegend\":true,\"textposition\":\"auto\",\"x\":[\"coffee\",\"toast\"],\"xaxis\":\"x\",\"y\":[34,18],\"yaxis\":\"y\",\"type\":\"bar\"},{\"alignmentgroup\":\"True\",\"hovertemplate\":\"wine_name=Vintage Port\\u003cbr\\u003ekeywords=%{x}\\u003cbr\\u003etotal_user_count=%{y}\\u003cextra\\u003e\\u003c\\u002fextra\\u003e\",\"legendgroup\":\"Vintage Port\",\"marker\":{\"color\":\"#FF6692\",\"pattern\":{\"shape\":\"\"}},\"name\":\"Vintage Port\",\"offsetgroup\":\"Vintage Port\",\"orientation\":\"v\",\"showlegend\":true,\"textposition\":\"auto\",\"x\":[\"coffee\",\"coffee\",\"cream\"],\"xaxis\":\"x\",\"y\":[34,12,10],\"yaxis\":\"y\",\"type\":\"bar\"},{\"alignmentgroup\":\"True\",\"hovertemplate\":\"wine_name=Coteau de Vernon Condrieu\\u003cbr\\u003ekeywords=%{x}\\u003cbr\\u003etotal_user_count=%{y}\\u003cextra\\u003e\\u003c\\u002fextra\\u003e\",\"legendgroup\":\"Coteau de Vernon Condrieu\",\"marker\":{\"color\":\"#B6E880\",\"pattern\":{\"shape\":\"\"}},\"name\":\"Coteau de Vernon Condrieu\",\"offsetgroup\":\"Coteau de Vernon Condrieu\",\"orientation\":\"v\",\"showlegend\":true,\"textposition\":\"auto\",\"x\":[\"cream\",\"citrus\",\"toast\"],\"xaxis\":\"x\",\"y\":[34,29,12],\"yaxis\":\"y\",\"type\":\"bar\"},{\"alignmentgroup\":\"True\",\"hovertemplate\":\"wine_name=Giallo d'Arles Greco di Tufo\\u003cbr\\u003ekeywords=%{x}\\u003cbr\\u003etotal_user_count=%{y}\\u003cextra\\u003e\\u003c\\u002fextra\\u003e\",\"legendgroup\":\"Giallo d'Arles Greco di Tufo\",\"marker\":{\"color\":\"#FF97FF\",\"pattern\":{\"shape\":\"\"}},\"name\":\"Giallo d'Arles Greco di Tufo\",\"offsetgroup\":\"Giallo d'Arles Greco di Tufo\",\"orientation\":\"v\",\"showlegend\":true,\"textposition\":\"auto\",\"x\":[\"citrus\"],\"xaxis\":\"x\",\"y\":[34],\"yaxis\":\"y\",\"type\":\"bar\"},{\"alignmentgroup\":\"True\",\"hovertemplate\":\"wine_name=Domus Aurea Cabernet Sauvignon\\u003cbr\\u003ekeywords=%{x}\\u003cbr\\u003etotal_user_count=%{y}\\u003cextra\\u003e\\u003c\\u002fextra\\u003e\",\"legendgroup\":\"Domus Aurea Cabernet Sauvignon\",\"marker\":{\"color\":\"#FECB52\",\"pattern\":{\"shape\":\"\"}},\"name\":\"Domus Aurea Cabernet Sauvignon\",\"offsetgroup\":\"Domus Aurea Cabernet Sauvignon\",\"orientation\":\"v\",\"showlegend\":true,\"textposition\":\"auto\",\"x\":[\"coffee\",\"toast\"],\"xaxis\":\"x\",\"y\":[34,14],\"yaxis\":\"y\",\"type\":\"bar\"},{\"alignmentgroup\":\"True\",\"hovertemplate\":\"wine_name=Bramare Malbec Uco Valley\\u003cbr\\u003ekeywords=%{x}\\u003cbr\\u003etotal_user_count=%{y}\\u003cextra\\u003e\\u003c\\u002fextra\\u003e\",\"legendgroup\":\"Bramare Malbec Uco Valley\",\"marker\":{\"color\":\"#636efa\",\"pattern\":{\"shape\":\"\"}},\"name\":\"Bramare Malbec Uco Valley\",\"offsetgroup\":\"Bramare Malbec Uco Valley\",\"orientation\":\"v\",\"showlegend\":true,\"textposition\":\"auto\",\"x\":[\"coffee\",\"toast\"],\"xaxis\":\"x\",\"y\":[34,18],\"yaxis\":\"y\",\"type\":\"bar\"},{\"alignmentgroup\":\"True\",\"hovertemplate\":\"wine_name=Pinotage\\u003cbr\\u003ekeywords=%{x}\\u003cbr\\u003etotal_user_count=%{y}\\u003cextra\\u003e\\u003c\\u002fextra\\u003e\",\"legendgroup\":\"Pinotage\",\"marker\":{\"color\":\"#EF553B\",\"pattern\":{\"shape\":\"\"}},\"name\":\"Pinotage\",\"offsetgroup\":\"Pinotage\",\"orientation\":\"v\",\"showlegend\":true,\"textposition\":\"auto\",\"x\":[\"coffee\",\"toast\"],\"xaxis\":\"x\",\"y\":[34,34],\"yaxis\":\"y\",\"type\":\"bar\"},{\"alignmentgroup\":\"True\",\"hovertemplate\":\"wine_name=Le Petit Mouton de Mouton Rothschild Pauillac\\u003cbr\\u003ekeywords=%{x}\\u003cbr\\u003etotal_user_count=%{y}\\u003cextra\\u003e\\u003c\\u002fextra\\u003e\",\"legendgroup\":\"Le Petit Mouton de Mouton Rothschild Pauillac\",\"marker\":{\"color\":\"#00cc96\",\"pattern\":{\"shape\":\"\"}},\"name\":\"Le Petit Mouton de Mouton Rothschild Pauillac\",\"offsetgroup\":\"Le Petit Mouton de Mouton Rothschild Pauillac\",\"orientation\":\"v\",\"showlegend\":true,\"textposition\":\"auto\",\"x\":[\"coffee\",\"toast\"],\"xaxis\":\"x\",\"y\":[34,12],\"yaxis\":\"y\",\"type\":\"bar\"},{\"alignmentgroup\":\"True\",\"hovertemplate\":\"wine_name=Vigne Vecchie Gold Series Leggenda Primitivo di Manduria\\u003cbr\\u003ekeywords=%{x}\\u003cbr\\u003etotal_user_count=%{y}\\u003cextra\\u003e\\u003c\\u002fextra\\u003e\",\"legendgroup\":\"Vigne Vecchie Gold Series Leggenda Primitivo di Manduria\",\"marker\":{\"color\":\"#ab63fa\",\"pattern\":{\"shape\":\"\"}},\"name\":\"Vigne Vecchie Gold Series Leggenda Primitivo di Manduria\",\"offsetgroup\":\"Vigne Vecchie Gold Series Leggenda Primitivo di Manduria\",\"orientation\":\"v\",\"showlegend\":true,\"textposition\":\"auto\",\"x\":[\"coffee\"],\"xaxis\":\"x\",\"y\":[34],\"yaxis\":\"y\",\"type\":\"bar\"},{\"alignmentgroup\":\"True\",\"hovertemplate\":\"wine_name=Pessac-L\\u00e9ognan Blanc (Grand Cru Class\\u00e9 de Graves)\\u003cbr\\u003ekeywords=%{x}\\u003cbr\\u003etotal_user_count=%{y}\\u003cextra\\u003e\\u003c\\u002fextra\\u003e\",\"legendgroup\":\"Pessac-L\\u00e9ognan Blanc (Grand Cru Class\\u00e9 de Graves)\",\"marker\":{\"color\":\"#FFA15A\",\"pattern\":{\"shape\":\"\"}},\"name\":\"Pessac-L\\u00e9ognan Blanc (Grand Cru Class\\u00e9 de Graves)\",\"offsetgroup\":\"Pessac-L\\u00e9ognan Blanc (Grand Cru Class\\u00e9 de Graves)\",\"orientation\":\"v\",\"showlegend\":true,\"textposition\":\"auto\",\"x\":[\"citrus\",\"citrus\",\"toast\",\"toast\",\"cream\"],\"xaxis\":\"x\",\"y\":[33,25,18,14,13],\"yaxis\":\"y\",\"type\":\"bar\"},{\"alignmentgroup\":\"True\",\"hovertemplate\":\"wine_name=Chevalier-Montrachet Grand Cru Blanc\\u003cbr\\u003ekeywords=%{x}\\u003cbr\\u003etotal_user_count=%{y}\\u003cextra\\u003e\\u003c\\u002fextra\\u003e\",\"legendgroup\":\"Chevalier-Montrachet Grand Cru Blanc\",\"marker\":{\"color\":\"#19d3f3\",\"pattern\":{\"shape\":\"\"}},\"name\":\"Chevalier-Montrachet Grand Cru Blanc\",\"offsetgroup\":\"Chevalier-Montrachet Grand Cru Blanc\",\"orientation\":\"v\",\"showlegend\":true,\"textposition\":\"auto\",\"x\":[\"citrus\",\"cream\",\"toast\"],\"xaxis\":\"x\",\"y\":[33,32,26],\"yaxis\":\"y\",\"type\":\"bar\"},{\"alignmentgroup\":\"True\",\"hovertemplate\":\"wine_name=Vieilles Vignes Meursault\\u003cbr\\u003ekeywords=%{x}\\u003cbr\\u003etotal_user_count=%{y}\\u003cextra\\u003e\\u003c\\u002fextra\\u003e\",\"legendgroup\":\"Vieilles Vignes Meursault\",\"marker\":{\"color\":\"#FF6692\",\"pattern\":{\"shape\":\"\"}},\"name\":\"Vieilles Vignes Meursault\",\"offsetgroup\":\"Vieilles Vignes Meursault\",\"orientation\":\"v\",\"showlegend\":true,\"textposition\":\"auto\",\"x\":[\"citrus\",\"cream\",\"toast\"],\"xaxis\":\"x\",\"y\":[33,17,14],\"yaxis\":\"y\",\"type\":\"bar\"},{\"alignmentgroup\":\"True\",\"hovertemplate\":\"wine_name=Capitel Monte Olmi Amarone della Valpolicella Classico Riserva\\u003cbr\\u003ekeywords=%{x}\\u003cbr\\u003etotal_user_count=%{y}\\u003cextra\\u003e\\u003c\\u002fextra\\u003e\",\"legendgroup\":\"Capitel Monte Olmi Amarone della Valpolicella Classico Riserva\",\"marker\":{\"color\":\"#B6E880\",\"pattern\":{\"shape\":\"\"}},\"name\":\"Capitel Monte Olmi Amarone della Valpolicella Classico Riserva\",\"offsetgroup\":\"Capitel Monte Olmi Amarone della Valpolicella Classico Riserva\",\"orientation\":\"v\",\"showlegend\":true,\"textposition\":\"auto\",\"x\":[\"coffee\"],\"xaxis\":\"x\",\"y\":[32],\"yaxis\":\"y\",\"type\":\"bar\"},{\"alignmentgroup\":\"True\",\"hovertemplate\":\"wine_name=V\\u00fcrs\\u00f9 Barbaresco Starderi\\u003cbr\\u003ekeywords=%{x}\\u003cbr\\u003etotal_user_count=%{y}\\u003cextra\\u003e\\u003c\\u002fextra\\u003e\",\"legendgroup\":\"V\\u00fcrs\\u00f9 Barbaresco Starderi\",\"marker\":{\"color\":\"#FF97FF\",\"pattern\":{\"shape\":\"\"}},\"name\":\"V\\u00fcrs\\u00f9 Barbaresco Starderi\",\"offsetgroup\":\"V\\u00fcrs\\u00f9 Barbaresco Starderi\",\"orientation\":\"v\",\"showlegend\":true,\"textposition\":\"auto\",\"x\":[\"coffee\"],\"xaxis\":\"x\",\"y\":[32],\"yaxis\":\"y\",\"type\":\"bar\"},{\"alignmentgroup\":\"True\",\"hovertemplate\":\"wine_name=Scrio\\u003cbr\\u003ekeywords=%{x}\\u003cbr\\u003etotal_user_count=%{y}\\u003cextra\\u003e\\u003c\\u002fextra\\u003e\",\"legendgroup\":\"Scrio\",\"marker\":{\"color\":\"#FECB52\",\"pattern\":{\"shape\":\"\"}},\"name\":\"Scrio\",\"offsetgroup\":\"Scrio\",\"orientation\":\"v\",\"showlegend\":true,\"textposition\":\"auto\",\"x\":[\"coffee\"],\"xaxis\":\"x\",\"y\":[32],\"yaxis\":\"y\",\"type\":\"bar\"},{\"alignmentgroup\":\"True\",\"hovertemplate\":\"wine_name=Cirsion Rioja\\u003cbr\\u003ekeywords=%{x}\\u003cbr\\u003etotal_user_count=%{y}\\u003cextra\\u003e\\u003c\\u002fextra\\u003e\",\"legendgroup\":\"Cirsion Rioja\",\"marker\":{\"color\":\"#636efa\",\"pattern\":{\"shape\":\"\"}},\"name\":\"Cirsion Rioja\",\"offsetgroup\":\"Cirsion Rioja\",\"orientation\":\"v\",\"showlegend\":true,\"textposition\":\"auto\",\"x\":[\"coffee\",\"toast\"],\"xaxis\":\"x\",\"y\":[32,20],\"yaxis\":\"y\",\"type\":\"bar\"},{\"alignmentgroup\":\"True\",\"hovertemplate\":\"wine_name=Barbaresco Rabaj\\u00e0\\u003cbr\\u003ekeywords=%{x}\\u003cbr\\u003etotal_user_count=%{y}\\u003cextra\\u003e\\u003c\\u002fextra\\u003e\",\"legendgroup\":\"Barbaresco Rabaj\\u00e0\",\"marker\":{\"color\":\"#EF553B\",\"pattern\":{\"shape\":\"\"}},\"name\":\"Barbaresco Rabaj\\u00e0\",\"offsetgroup\":\"Barbaresco Rabaj\\u00e0\",\"orientation\":\"v\",\"showlegend\":true,\"textposition\":\"auto\",\"x\":[\"coffee\"],\"xaxis\":\"x\",\"y\":[32],\"yaxis\":\"y\",\"type\":\"bar\"},{\"alignmentgroup\":\"True\",\"hovertemplate\":\"wine_name=Campo Le\\u00f3n Amarone della Valpolicella\\u003cbr\\u003ekeywords=%{x}\\u003cbr\\u003etotal_user_count=%{y}\\u003cextra\\u003e\\u003c\\u002fextra\\u003e\",\"legendgroup\":\"Campo Le\\u00f3n Amarone della Valpolicella\",\"marker\":{\"color\":\"#00cc96\",\"pattern\":{\"shape\":\"\"}},\"name\":\"Campo Le\\u00f3n Amarone della Valpolicella\",\"offsetgroup\":\"Campo Le\\u00f3n Amarone della Valpolicella\",\"orientation\":\"v\",\"showlegend\":true,\"textposition\":\"auto\",\"x\":[\"coffee\"],\"xaxis\":\"x\",\"y\":[32],\"yaxis\":\"y\",\"type\":\"bar\"},{\"alignmentgroup\":\"True\",\"hovertemplate\":\"wine_name=Domaine des Tourettes Hermitage Rouge\\u003cbr\\u003ekeywords=%{x}\\u003cbr\\u003etotal_user_count=%{y}\\u003cextra\\u003e\\u003c\\u002fextra\\u003e\",\"legendgroup\":\"Domaine des Tourettes Hermitage Rouge\",\"marker\":{\"color\":\"#ab63fa\",\"pattern\":{\"shape\":\"\"}},\"name\":\"Domaine des Tourettes Hermitage Rouge\",\"offsetgroup\":\"Domaine des Tourettes Hermitage Rouge\",\"orientation\":\"v\",\"showlegend\":true,\"textposition\":\"auto\",\"x\":[\"coffee\",\"cream\"],\"xaxis\":\"x\",\"y\":[32,15],\"yaxis\":\"y\",\"type\":\"bar\"},{\"alignmentgroup\":\"True\",\"hovertemplate\":\"wine_name=Brunello di Montalcino Riserva\\u003cbr\\u003ekeywords=%{x}\\u003cbr\\u003etotal_user_count=%{y}\\u003cextra\\u003e\\u003c\\u002fextra\\u003e\",\"legendgroup\":\"Brunello di Montalcino Riserva\",\"marker\":{\"color\":\"#FFA15A\",\"pattern\":{\"shape\":\"\"}},\"name\":\"Brunello di Montalcino Riserva\",\"offsetgroup\":\"Brunello di Montalcino Riserva\",\"orientation\":\"v\",\"showlegend\":true,\"textposition\":\"auto\",\"x\":[\"coffee\",\"coffee\",\"coffee\",\"coffee\",\"coffee\",\"toast\"],\"xaxis\":\"x\",\"y\":[32,30,16,16,12,10],\"yaxis\":\"y\",\"type\":\"bar\"},{\"alignmentgroup\":\"True\",\"hovertemplate\":\"wine_name=Mossone\\u003cbr\\u003ekeywords=%{x}\\u003cbr\\u003etotal_user_count=%{y}\\u003cextra\\u003e\\u003c\\u002fextra\\u003e\",\"legendgroup\":\"Mossone\",\"marker\":{\"color\":\"#19d3f3\",\"pattern\":{\"shape\":\"\"}},\"name\":\"Mossone\",\"offsetgroup\":\"Mossone\",\"orientation\":\"v\",\"showlegend\":true,\"textposition\":\"auto\",\"x\":[\"coffee\"],\"xaxis\":\"x\",\"y\":[32],\"yaxis\":\"y\",\"type\":\"bar\"},{\"alignmentgroup\":\"True\",\"hovertemplate\":\"wine_name=Castello della Sala Muffato della Sala\\u003cbr\\u003ekeywords=%{x}\\u003cbr\\u003etotal_user_count=%{y}\\u003cextra\\u003e\\u003c\\u002fextra\\u003e\",\"legendgroup\":\"Castello della Sala Muffato della Sala\",\"marker\":{\"color\":\"#FF6692\",\"pattern\":{\"shape\":\"\"}},\"name\":\"Castello della Sala Muffato della Sala\",\"offsetgroup\":\"Castello della Sala Muffato della Sala\",\"orientation\":\"v\",\"showlegend\":true,\"textposition\":\"auto\",\"x\":[\"citrus\",\"cream\"],\"xaxis\":\"x\",\"y\":[31,11],\"yaxis\":\"y\",\"type\":\"bar\"},{\"alignmentgroup\":\"True\",\"hovertemplate\":\"wine_name=Rutherford\\u003cbr\\u003ekeywords=%{x}\\u003cbr\\u003etotal_user_count=%{y}\\u003cextra\\u003e\\u003c\\u002fextra\\u003e\",\"legendgroup\":\"Rutherford\",\"marker\":{\"color\":\"#B6E880\",\"pattern\":{\"shape\":\"\"}},\"name\":\"Rutherford\",\"offsetgroup\":\"Rutherford\",\"orientation\":\"v\",\"showlegend\":true,\"textposition\":\"auto\",\"x\":[\"coffee\",\"cream\",\"toast\"],\"xaxis\":\"x\",\"y\":[30,20,18],\"yaxis\":\"y\",\"type\":\"bar\"},{\"alignmentgroup\":\"True\",\"hovertemplate\":\"wine_name=Campo dei Gigli Amarone della Valpolicella\\u003cbr\\u003ekeywords=%{x}\\u003cbr\\u003etotal_user_count=%{y}\\u003cextra\\u003e\\u003c\\u002fextra\\u003e\",\"legendgroup\":\"Campo dei Gigli Amarone della Valpolicella\",\"marker\":{\"color\":\"#FF97FF\",\"pattern\":{\"shape\":\"\"}},\"name\":\"Campo dei Gigli Amarone della Valpolicella\",\"offsetgroup\":\"Campo dei Gigli Amarone della Valpolicella\",\"orientation\":\"v\",\"showlegend\":true,\"textposition\":\"auto\",\"x\":[\"coffee\"],\"xaxis\":\"x\",\"y\":[30],\"yaxis\":\"y\",\"type\":\"bar\"},{\"alignmentgroup\":\"True\",\"hovertemplate\":\"wine_name=Vigna Cappella di S. Stefano Perno Barolo\\u003cbr\\u003ekeywords=%{x}\\u003cbr\\u003etotal_user_count=%{y}\\u003cextra\\u003e\\u003c\\u002fextra\\u003e\",\"legendgroup\":\"Vigna Cappella di S. Stefano Perno Barolo\",\"marker\":{\"color\":\"#FECB52\",\"pattern\":{\"shape\":\"\"}},\"name\":\"Vigna Cappella di S. Stefano Perno Barolo\",\"offsetgroup\":\"Vigna Cappella di S. Stefano Perno Barolo\",\"orientation\":\"v\",\"showlegend\":true,\"textposition\":\"auto\",\"x\":[\"coffee\"],\"xaxis\":\"x\",\"y\":[30],\"yaxis\":\"y\",\"type\":\"bar\"},{\"alignmentgroup\":\"True\",\"hovertemplate\":\"wine_name=Il Bricco Barbaresco\\u003cbr\\u003ekeywords=%{x}\\u003cbr\\u003etotal_user_count=%{y}\\u003cextra\\u003e\\u003c\\u002fextra\\u003e\",\"legendgroup\":\"Il Bricco Barbaresco\",\"marker\":{\"color\":\"#636efa\",\"pattern\":{\"shape\":\"\"}},\"name\":\"Il Bricco Barbaresco\",\"offsetgroup\":\"Il Bricco Barbaresco\",\"orientation\":\"v\",\"showlegend\":true,\"textposition\":\"auto\",\"x\":[\"coffee\"],\"xaxis\":\"x\",\"y\":[30],\"yaxis\":\"y\",\"type\":\"bar\"},{\"alignmentgroup\":\"True\",\"hovertemplate\":\"wine_name=Veneto Rosso del Bepi\\u003cbr\\u003ekeywords=%{x}\\u003cbr\\u003etotal_user_count=%{y}\\u003cextra\\u003e\\u003c\\u002fextra\\u003e\",\"legendgroup\":\"Veneto Rosso del Bepi\",\"marker\":{\"color\":\"#EF553B\",\"pattern\":{\"shape\":\"\"}},\"name\":\"Veneto Rosso del Bepi\",\"offsetgroup\":\"Veneto Rosso del Bepi\",\"orientation\":\"v\",\"showlegend\":true,\"textposition\":\"auto\",\"x\":[\"coffee\"],\"xaxis\":\"x\",\"y\":[30],\"yaxis\":\"y\",\"type\":\"bar\"},{\"alignmentgroup\":\"True\",\"hovertemplate\":\"wine_name=Saint-\\u00c9milion Grand Cru (Grand Cru Class\\u00e9)\\u003cbr\\u003ekeywords=%{x}\\u003cbr\\u003etotal_user_count=%{y}\\u003cextra\\u003e\\u003c\\u002fextra\\u003e\",\"legendgroup\":\"Saint-\\u00c9milion Grand Cru (Grand Cru Class\\u00e9)\",\"marker\":{\"color\":\"#00cc96\",\"pattern\":{\"shape\":\"\"}},\"name\":\"Saint-\\u00c9milion Grand Cru (Grand Cru Class\\u00e9)\",\"offsetgroup\":\"Saint-\\u00c9milion Grand Cru (Grand Cru Class\\u00e9)\",\"orientation\":\"v\",\"showlegend\":true,\"textposition\":\"auto\",\"x\":[\"coffee\"],\"xaxis\":\"x\",\"y\":[30],\"yaxis\":\"y\",\"type\":\"bar\"},{\"alignmentgroup\":\"True\",\"hovertemplate\":\"wine_name=Lagrein Riserva Porphyr\\u003cbr\\u003ekeywords=%{x}\\u003cbr\\u003etotal_user_count=%{y}\\u003cextra\\u003e\\u003c\\u002fextra\\u003e\",\"legendgroup\":\"Lagrein Riserva Porphyr\",\"marker\":{\"color\":\"#ab63fa\",\"pattern\":{\"shape\":\"\"}},\"name\":\"Lagrein Riserva Porphyr\",\"offsetgroup\":\"Lagrein Riserva Porphyr\",\"orientation\":\"v\",\"showlegend\":true,\"textposition\":\"auto\",\"x\":[\"coffee\"],\"xaxis\":\"x\",\"y\":[30],\"yaxis\":\"y\",\"type\":\"bar\"},{\"alignmentgroup\":\"True\",\"hovertemplate\":\"wine_name=Veneto Alzero Cabernet\\u003cbr\\u003ekeywords=%{x}\\u003cbr\\u003etotal_user_count=%{y}\\u003cextra\\u003e\\u003c\\u002fextra\\u003e\",\"legendgroup\":\"Veneto Alzero Cabernet\",\"marker\":{\"color\":\"#FFA15A\",\"pattern\":{\"shape\":\"\"}},\"name\":\"Veneto Alzero Cabernet\",\"offsetgroup\":\"Veneto Alzero Cabernet\",\"orientation\":\"v\",\"showlegend\":true,\"textposition\":\"auto\",\"x\":[\"coffee\"],\"xaxis\":\"x\",\"y\":[30],\"yaxis\":\"y\",\"type\":\"bar\"},{\"alignmentgroup\":\"True\",\"hovertemplate\":\"wine_name=Reserve Pinotage\\u003cbr\\u003ekeywords=%{x}\\u003cbr\\u003etotal_user_count=%{y}\\u003cextra\\u003e\\u003c\\u002fextra\\u003e\",\"legendgroup\":\"Reserve Pinotage\",\"marker\":{\"color\":\"#19d3f3\",\"pattern\":{\"shape\":\"\"}},\"name\":\"Reserve Pinotage\",\"offsetgroup\":\"Reserve Pinotage\",\"orientation\":\"v\",\"showlegend\":true,\"textposition\":\"auto\",\"x\":[\"coffee\",\"cream\"],\"xaxis\":\"x\",\"y\":[30,13],\"yaxis\":\"y\",\"type\":\"bar\"},{\"alignmentgroup\":\"True\",\"hovertemplate\":\"wine_name=La Grande Dame Brut Ros\\u00e9 Champagne\\u003cbr\\u003ekeywords=%{x}\\u003cbr\\u003etotal_user_count=%{y}\\u003cextra\\u003e\\u003c\\u002fextra\\u003e\",\"legendgroup\":\"La Grande Dame Brut Ros\\u00e9 Champagne\",\"marker\":{\"color\":\"#FF6692\",\"pattern\":{\"shape\":\"\"}},\"name\":\"La Grande Dame Brut Ros\\u00e9 Champagne\",\"offsetgroup\":\"La Grande Dame Brut Ros\\u00e9 Champagne\",\"orientation\":\"v\",\"showlegend\":true,\"textposition\":\"auto\",\"x\":[\"toast\",\"cream\",\"citrus\"],\"xaxis\":\"x\",\"y\":[30,13,11],\"yaxis\":\"y\",\"type\":\"bar\"},{\"alignmentgroup\":\"True\",\"hovertemplate\":\"wine_name=Vin Santo di Montepulciano Occhio di Pernice\\u003cbr\\u003ekeywords=%{x}\\u003cbr\\u003etotal_user_count=%{y}\\u003cextra\\u003e\\u003c\\u002fextra\\u003e\",\"legendgroup\":\"Vin Santo di Montepulciano Occhio di Pernice\",\"marker\":{\"color\":\"#B6E880\",\"pattern\":{\"shape\":\"\"}},\"name\":\"Vin Santo di Montepulciano Occhio di Pernice\",\"offsetgroup\":\"Vin Santo di Montepulciano Occhio di Pernice\",\"orientation\":\"v\",\"showlegend\":true,\"textposition\":\"auto\",\"x\":[\"coffee\"],\"xaxis\":\"x\",\"y\":[30],\"yaxis\":\"y\",\"type\":\"bar\"},{\"alignmentgroup\":\"True\",\"hovertemplate\":\"wine_name=Blanc\\u003cbr\\u003ekeywords=%{x}\\u003cbr\\u003etotal_user_count=%{y}\\u003cextra\\u003e\\u003c\\u002fextra\\u003e\",\"legendgroup\":\"Blanc\",\"marker\":{\"color\":\"#FF97FF\",\"pattern\":{\"shape\":\"\"}},\"name\":\"Blanc\",\"offsetgroup\":\"Blanc\",\"orientation\":\"v\",\"showlegend\":true,\"textposition\":\"auto\",\"x\":[\"cream\",\"citrus\"],\"xaxis\":\"x\",\"y\":[29,25],\"yaxis\":\"y\",\"type\":\"bar\"},{\"alignmentgroup\":\"True\",\"hovertemplate\":\"wine_name=Chateau Buena Vista Cabernet Sauvignon Napa Valley\\u003cbr\\u003ekeywords=%{x}\\u003cbr\\u003etotal_user_count=%{y}\\u003cextra\\u003e\\u003c\\u002fextra\\u003e\",\"legendgroup\":\"Chateau Buena Vista Cabernet Sauvignon Napa Valley\",\"marker\":{\"color\":\"#FECB52\",\"pattern\":{\"shape\":\"\"}},\"name\":\"Chateau Buena Vista Cabernet Sauvignon Napa Valley\",\"offsetgroup\":\"Chateau Buena Vista Cabernet Sauvignon Napa Valley\",\"orientation\":\"v\",\"showlegend\":true,\"textposition\":\"auto\",\"x\":[\"coffee\",\"cream\"],\"xaxis\":\"x\",\"y\":[28,10],\"yaxis\":\"y\",\"type\":\"bar\"},{\"alignmentgroup\":\"True\",\"hovertemplate\":\"wine_name=La Joie\\u003cbr\\u003ekeywords=%{x}\\u003cbr\\u003etotal_user_count=%{y}\\u003cextra\\u003e\\u003c\\u002fextra\\u003e\",\"legendgroup\":\"La Joie\",\"marker\":{\"color\":\"#636efa\",\"pattern\":{\"shape\":\"\"}},\"name\":\"La Joie\",\"offsetgroup\":\"La Joie\",\"orientation\":\"v\",\"showlegend\":true,\"textposition\":\"auto\",\"x\":[\"coffee\"],\"xaxis\":\"x\",\"y\":[28],\"yaxis\":\"y\",\"type\":\"bar\"},{\"alignmentgroup\":\"True\",\"hovertemplate\":\"wine_name=Costa Russi (Barbaresco) Langhe\\u003cbr\\u003ekeywords=%{x}\\u003cbr\\u003etotal_user_count=%{y}\\u003cextra\\u003e\\u003c\\u002fextra\\u003e\",\"legendgroup\":\"Costa Russi (Barbaresco) Langhe\",\"marker\":{\"color\":\"#EF553B\",\"pattern\":{\"shape\":\"\"}},\"name\":\"Costa Russi (Barbaresco) Langhe\",\"offsetgroup\":\"Costa Russi (Barbaresco) Langhe\",\"orientation\":\"v\",\"showlegend\":true,\"textposition\":\"auto\",\"x\":[\"coffee\"],\"xaxis\":\"x\",\"y\":[28],\"yaxis\":\"y\",\"type\":\"bar\"},{\"alignmentgroup\":\"True\",\"hovertemplate\":\"wine_name=Nine Popes\\u003cbr\\u003ekeywords=%{x}\\u003cbr\\u003etotal_user_count=%{y}\\u003cextra\\u003e\\u003c\\u002fextra\\u003e\",\"legendgroup\":\"Nine Popes\",\"marker\":{\"color\":\"#00cc96\",\"pattern\":{\"shape\":\"\"}},\"name\":\"Nine Popes\",\"offsetgroup\":\"Nine Popes\",\"orientation\":\"v\",\"showlegend\":true,\"textposition\":\"auto\",\"x\":[\"toast\",\"coffee\"],\"xaxis\":\"x\",\"y\":[28,22],\"yaxis\":\"y\",\"type\":\"bar\"},{\"alignmentgroup\":\"True\",\"hovertemplate\":\"wine_name=Brunello di Montalcino  Montosoli\\u003cbr\\u003ekeywords=%{x}\\u003cbr\\u003etotal_user_count=%{y}\\u003cextra\\u003e\\u003c\\u002fextra\\u003e\",\"legendgroup\":\"Brunello di Montalcino  Montosoli\",\"marker\":{\"color\":\"#ab63fa\",\"pattern\":{\"shape\":\"\"}},\"name\":\"Brunello di Montalcino  Montosoli\",\"offsetgroup\":\"Brunello di Montalcino  Montosoli\",\"orientation\":\"v\",\"showlegend\":true,\"textposition\":\"auto\",\"x\":[\"coffee\"],\"xaxis\":\"x\",\"y\":[28],\"yaxis\":\"y\",\"type\":\"bar\"},{\"alignmentgroup\":\"True\",\"hovertemplate\":\"wine_name=Percarlo\\u003cbr\\u003ekeywords=%{x}\\u003cbr\\u003etotal_user_count=%{y}\\u003cextra\\u003e\\u003c\\u002fextra\\u003e\",\"legendgroup\":\"Percarlo\",\"marker\":{\"color\":\"#FFA15A\",\"pattern\":{\"shape\":\"\"}},\"name\":\"Percarlo\",\"offsetgroup\":\"Percarlo\",\"orientation\":\"v\",\"showlegend\":true,\"textposition\":\"auto\",\"x\":[\"coffee\"],\"xaxis\":\"x\",\"y\":[28],\"yaxis\":\"y\",\"type\":\"bar\"},{\"alignmentgroup\":\"True\",\"hovertemplate\":\"wine_name=Lupicaia\\u003cbr\\u003ekeywords=%{x}\\u003cbr\\u003etotal_user_count=%{y}\\u003cextra\\u003e\\u003c\\u002fextra\\u003e\",\"legendgroup\":\"Lupicaia\",\"marker\":{\"color\":\"#19d3f3\",\"pattern\":{\"shape\":\"\"}},\"name\":\"Lupicaia\",\"offsetgroup\":\"Lupicaia\",\"orientation\":\"v\",\"showlegend\":true,\"textposition\":\"auto\",\"x\":[\"coffee\"],\"xaxis\":\"x\",\"y\":[28],\"yaxis\":\"y\",\"type\":\"bar\"},{\"alignmentgroup\":\"True\",\"hovertemplate\":\"wine_name=Barolo Riserva Bricco Boschis Vigna San Giuseppe\\u003cbr\\u003ekeywords=%{x}\\u003cbr\\u003etotal_user_count=%{y}\\u003cextra\\u003e\\u003c\\u002fextra\\u003e\",\"legendgroup\":\"Barolo Riserva Bricco Boschis Vigna San Giuseppe\",\"marker\":{\"color\":\"#FF6692\",\"pattern\":{\"shape\":\"\"}},\"name\":\"Barolo Riserva Bricco Boschis Vigna San Giuseppe\",\"offsetgroup\":\"Barolo Riserva Bricco Boschis Vigna San Giuseppe\",\"orientation\":\"v\",\"showlegend\":true,\"textposition\":\"auto\",\"x\":[\"coffee\"],\"xaxis\":\"x\",\"y\":[28],\"yaxis\":\"y\",\"type\":\"bar\"},{\"alignmentgroup\":\"True\",\"hovertemplate\":\"wine_name=Toscana Rosso\\u003cbr\\u003ekeywords=%{x}\\u003cbr\\u003etotal_user_count=%{y}\\u003cextra\\u003e\\u003c\\u002fextra\\u003e\",\"legendgroup\":\"Toscana Rosso\",\"marker\":{\"color\":\"#B6E880\",\"pattern\":{\"shape\":\"\"}},\"name\":\"Toscana Rosso\",\"offsetgroup\":\"Toscana Rosso\",\"orientation\":\"v\",\"showlegend\":true,\"textposition\":\"auto\",\"x\":[\"coffee\"],\"xaxis\":\"x\",\"y\":[28],\"yaxis\":\"y\",\"type\":\"bar\"},{\"alignmentgroup\":\"True\",\"hovertemplate\":\"wine_name=Finca Altamira Malbec\\u003cbr\\u003ekeywords=%{x}\\u003cbr\\u003etotal_user_count=%{y}\\u003cextra\\u003e\\u003c\\u002fextra\\u003e\",\"legendgroup\":\"Finca Altamira Malbec\",\"marker\":{\"color\":\"#FF97FF\",\"pattern\":{\"shape\":\"\"}},\"name\":\"Finca Altamira Malbec\",\"offsetgroup\":\"Finca Altamira Malbec\",\"orientation\":\"v\",\"showlegend\":true,\"textposition\":\"auto\",\"x\":[\"coffee\",\"toast\",\"cream\"],\"xaxis\":\"x\",\"y\":[28,14,13],\"yaxis\":\"y\",\"type\":\"bar\"},{\"alignmentgroup\":\"True\",\"hovertemplate\":\"wine_name=Gold Series Syrah\\u003cbr\\u003ekeywords=%{x}\\u003cbr\\u003etotal_user_count=%{y}\\u003cextra\\u003e\\u003c\\u002fextra\\u003e\",\"legendgroup\":\"Gold Series Syrah\",\"marker\":{\"color\":\"#FECB52\",\"pattern\":{\"shape\":\"\"}},\"name\":\"Gold Series Syrah\",\"offsetgroup\":\"Gold Series Syrah\",\"orientation\":\"v\",\"showlegend\":true,\"textposition\":\"auto\",\"x\":[\"coffee\"],\"xaxis\":\"x\",\"y\":[28],\"yaxis\":\"y\",\"type\":\"bar\"},{\"alignmentgroup\":\"True\",\"hovertemplate\":\"wine_name=Nosotros Single Vineyard N\\u00f3made\\u003cbr\\u003ekeywords=%{x}\\u003cbr\\u003etotal_user_count=%{y}\\u003cextra\\u003e\\u003c\\u002fextra\\u003e\",\"legendgroup\":\"Nosotros Single Vineyard N\\u00f3made\",\"marker\":{\"color\":\"#636efa\",\"pattern\":{\"shape\":\"\"}},\"name\":\"Nosotros Single Vineyard N\\u00f3made\",\"offsetgroup\":\"Nosotros Single Vineyard N\\u00f3made\",\"orientation\":\"v\",\"showlegend\":true,\"textposition\":\"auto\",\"x\":[\"toast\",\"coffee\"],\"xaxis\":\"x\",\"y\":[28,16],\"yaxis\":\"y\",\"type\":\"bar\"},{\"alignmentgroup\":\"True\",\"hovertemplate\":\"wine_name=Saperavi\\u003cbr\\u003ekeywords=%{x}\\u003cbr\\u003etotal_user_count=%{y}\\u003cextra\\u003e\\u003c\\u002fextra\\u003e\",\"legendgroup\":\"Saperavi\",\"marker\":{\"color\":\"#EF553B\",\"pattern\":{\"shape\":\"\"}},\"name\":\"Saperavi\",\"offsetgroup\":\"Saperavi\",\"orientation\":\"v\",\"showlegend\":true,\"textposition\":\"auto\",\"x\":[\"coffee\",\"cream\"],\"xaxis\":\"x\",\"y\":[28,10],\"yaxis\":\"y\",\"type\":\"bar\"},{\"alignmentgroup\":\"True\",\"hovertemplate\":\"wine_name=Le Petit Cheval Bordeaux Blanc\\u003cbr\\u003ekeywords=%{x}\\u003cbr\\u003etotal_user_count=%{y}\\u003cextra\\u003e\\u003c\\u002fextra\\u003e\",\"legendgroup\":\"Le Petit Cheval Bordeaux Blanc\",\"marker\":{\"color\":\"#00cc96\",\"pattern\":{\"shape\":\"\"}},\"name\":\"Le Petit Cheval Bordeaux Blanc\",\"offsetgroup\":\"Le Petit Cheval Bordeaux Blanc\",\"orientation\":\"v\",\"showlegend\":true,\"textposition\":\"auto\",\"x\":[\"citrus\",\"cream\"],\"xaxis\":\"x\",\"y\":[28,15],\"yaxis\":\"y\",\"type\":\"bar\"},{\"alignmentgroup\":\"True\",\"hovertemplate\":\"wine_name=Chassagne-Montrachet Premier Cru Morgeot Marquis de Laguiche \\u003cbr\\u003ekeywords=%{x}\\u003cbr\\u003etotal_user_count=%{y}\\u003cextra\\u003e\\u003c\\u002fextra\\u003e\",\"legendgroup\":\"Chassagne-Montrachet Premier Cru Morgeot Marquis de Laguiche \",\"marker\":{\"color\":\"#ab63fa\",\"pattern\":{\"shape\":\"\"}},\"name\":\"Chassagne-Montrachet Premier Cru Morgeot Marquis de Laguiche \",\"offsetgroup\":\"Chassagne-Montrachet Premier Cru Morgeot Marquis de Laguiche \",\"orientation\":\"v\",\"showlegend\":true,\"textposition\":\"auto\",\"x\":[\"citrus\",\"cream\",\"toast\",\"green apple\"],\"xaxis\":\"x\",\"y\":[27,21,18,13],\"yaxis\":\"y\",\"type\":\"bar\"},{\"alignmentgroup\":\"True\",\"hovertemplate\":\"wine_name=Asz\\u00fa 6 puttonyos\\u003cbr\\u003ekeywords=%{x}\\u003cbr\\u003etotal_user_count=%{y}\\u003cextra\\u003e\\u003c\\u002fextra\\u003e\",\"legendgroup\":\"Asz\\u00fa 6 puttonyos\",\"marker\":{\"color\":\"#FFA15A\",\"pattern\":{\"shape\":\"\"}},\"name\":\"Asz\\u00fa 6 puttonyos\",\"offsetgroup\":\"Asz\\u00fa 6 puttonyos\",\"orientation\":\"v\",\"showlegend\":true,\"textposition\":\"auto\",\"x\":[\"citrus\",\"cream\"],\"xaxis\":\"x\",\"y\":[27,17],\"yaxis\":\"y\",\"type\":\"bar\"},{\"alignmentgroup\":\"True\",\"hovertemplate\":\"wine_name=Evenstad Reserve Pinot Noir\\u003cbr\\u003ekeywords=%{x}\\u003cbr\\u003etotal_user_count=%{y}\\u003cextra\\u003e\\u003c\\u002fextra\\u003e\",\"legendgroup\":\"Evenstad Reserve Pinot Noir\",\"marker\":{\"color\":\"#19d3f3\",\"pattern\":{\"shape\":\"\"}},\"name\":\"Evenstad Reserve Pinot Noir\",\"offsetgroup\":\"Evenstad Reserve Pinot Noir\",\"orientation\":\"v\",\"showlegend\":true,\"textposition\":\"auto\",\"x\":[\"cream\",\"coffee\",\"toast\",\"citrus\"],\"xaxis\":\"x\",\"y\":[27,24,24,10],\"yaxis\":\"y\",\"type\":\"bar\"},{\"alignmentgroup\":\"True\",\"hovertemplate\":\"wine_name=Puligny-Montrachet 1er Cru 'La Garenne'\\u003cbr\\u003ekeywords=%{x}\\u003cbr\\u003etotal_user_count=%{y}\\u003cextra\\u003e\\u003c\\u002fextra\\u003e\",\"legendgroup\":\"Puligny-Montrachet 1er Cru 'La Garenne'\",\"marker\":{\"color\":\"#FF6692\",\"pattern\":{\"shape\":\"\"}},\"name\":\"Puligny-Montrachet 1er Cru 'La Garenne'\",\"offsetgroup\":\"Puligny-Montrachet 1er Cru 'La Garenne'\",\"orientation\":\"v\",\"showlegend\":true,\"textposition\":\"auto\",\"x\":[\"toast\"],\"xaxis\":\"x\",\"y\":[26],\"yaxis\":\"y\",\"type\":\"bar\"},{\"alignmentgroup\":\"True\",\"hovertemplate\":\"wine_name=Toscana Camartina\\u003cbr\\u003ekeywords=%{x}\\u003cbr\\u003etotal_user_count=%{y}\\u003cextra\\u003e\\u003c\\u002fextra\\u003e\",\"legendgroup\":\"Toscana Camartina\",\"marker\":{\"color\":\"#B6E880\",\"pattern\":{\"shape\":\"\"}},\"name\":\"Toscana Camartina\",\"offsetgroup\":\"Toscana Camartina\",\"orientation\":\"v\",\"showlegend\":true,\"textposition\":\"auto\",\"x\":[\"coffee\"],\"xaxis\":\"x\",\"y\":[26],\"yaxis\":\"y\",\"type\":\"bar\"},{\"alignmentgroup\":\"True\",\"hovertemplate\":\"wine_name=Barolo Prap\\u00f2\\u003cbr\\u003ekeywords=%{x}\\u003cbr\\u003etotal_user_count=%{y}\\u003cextra\\u003e\\u003c\\u002fextra\\u003e\",\"legendgroup\":\"Barolo Prap\\u00f2\",\"marker\":{\"color\":\"#FF97FF\",\"pattern\":{\"shape\":\"\"}},\"name\":\"Barolo Prap\\u00f2\",\"offsetgroup\":\"Barolo Prap\\u00f2\",\"orientation\":\"v\",\"showlegend\":true,\"textposition\":\"auto\",\"x\":[\"coffee\"],\"xaxis\":\"x\",\"y\":[26],\"yaxis\":\"y\",\"type\":\"bar\"},{\"alignmentgroup\":\"True\",\"hovertemplate\":\"wine_name=Altero Brunello di Montalcino\\u003cbr\\u003ekeywords=%{x}\\u003cbr\\u003etotal_user_count=%{y}\\u003cextra\\u003e\\u003c\\u002fextra\\u003e\",\"legendgroup\":\"Altero Brunello di Montalcino\",\"marker\":{\"color\":\"#FECB52\",\"pattern\":{\"shape\":\"\"}},\"name\":\"Altero Brunello di Montalcino\",\"offsetgroup\":\"Altero Brunello di Montalcino\",\"orientation\":\"v\",\"showlegend\":true,\"textposition\":\"auto\",\"x\":[\"coffee\"],\"xaxis\":\"x\",\"y\":[26],\"yaxis\":\"y\",\"type\":\"bar\"},{\"alignmentgroup\":\"True\",\"hovertemplate\":\"wine_name=Saint-Emilion Grand Cru (Premier Grand Cru Class\\u00e9)\\u003cbr\\u003ekeywords=%{x}\\u003cbr\\u003etotal_user_count=%{y}\\u003cextra\\u003e\\u003c\\u002fextra\\u003e\",\"legendgroup\":\"Saint-Emilion Grand Cru (Premier Grand Cru Class\\u00e9)\",\"marker\":{\"color\":\"#636efa\",\"pattern\":{\"shape\":\"\"}},\"name\":\"Saint-Emilion Grand Cru (Premier Grand Cru Class\\u00e9)\",\"offsetgroup\":\"Saint-Emilion Grand Cru (Premier Grand Cru Class\\u00e9)\",\"orientation\":\"v\",\"showlegend\":true,\"textposition\":\"auto\",\"x\":[\"coffee\",\"toast\"],\"xaxis\":\"x\",\"y\":[26,10],\"yaxis\":\"y\",\"type\":\"bar\"},{\"alignmentgroup\":\"True\",\"hovertemplate\":\"wine_name=Malbec\\u003cbr\\u003ekeywords=%{x}\\u003cbr\\u003etotal_user_count=%{y}\\u003cextra\\u003e\\u003c\\u002fextra\\u003e\",\"legendgroup\":\"Malbec\",\"marker\":{\"color\":\"#EF553B\",\"pattern\":{\"shape\":\"\"}},\"name\":\"Malbec\",\"offsetgroup\":\"Malbec\",\"orientation\":\"v\",\"showlegend\":true,\"textposition\":\"auto\",\"x\":[\"coffee\"],\"xaxis\":\"x\",\"y\":[26],\"yaxis\":\"y\",\"type\":\"bar\"},{\"alignmentgroup\":\"True\",\"hovertemplate\":\"wine_name=Vi\\u00f1a El Pison\\u003cbr\\u003ekeywords=%{x}\\u003cbr\\u003etotal_user_count=%{y}\\u003cextra\\u003e\\u003c\\u002fextra\\u003e\",\"legendgroup\":\"Vi\\u00f1a El Pison\",\"marker\":{\"color\":\"#00cc96\",\"pattern\":{\"shape\":\"\"}},\"name\":\"Vi\\u00f1a El Pison\",\"offsetgroup\":\"Vi\\u00f1a El Pison\",\"orientation\":\"v\",\"showlegend\":true,\"textposition\":\"auto\",\"x\":[\"coffee\",\"cream\",\"toast\"],\"xaxis\":\"x\",\"y\":[26,12,10],\"yaxis\":\"y\",\"type\":\"bar\"},{\"alignmentgroup\":\"True\",\"hovertemplate\":\"wine_name=Conteisa Langhe\\u003cbr\\u003ekeywords=%{x}\\u003cbr\\u003etotal_user_count=%{y}\\u003cextra\\u003e\\u003c\\u002fextra\\u003e\",\"legendgroup\":\"Conteisa Langhe\",\"marker\":{\"color\":\"#ab63fa\",\"pattern\":{\"shape\":\"\"}},\"name\":\"Conteisa Langhe\",\"offsetgroup\":\"Conteisa Langhe\",\"orientation\":\"v\",\"showlegend\":true,\"textposition\":\"auto\",\"x\":[\"coffee\"],\"xaxis\":\"x\",\"y\":[26],\"yaxis\":\"y\",\"type\":\"bar\"},{\"alignmentgroup\":\"True\",\"hovertemplate\":\"wine_name=Sperss Barolo\\u003cbr\\u003ekeywords=%{x}\\u003cbr\\u003etotal_user_count=%{y}\\u003cextra\\u003e\\u003c\\u002fextra\\u003e\",\"legendgroup\":\"Sperss Barolo\",\"marker\":{\"color\":\"#FFA15A\",\"pattern\":{\"shape\":\"\"}},\"name\":\"Sperss Barolo\",\"offsetgroup\":\"Sperss Barolo\",\"orientation\":\"v\",\"showlegend\":true,\"textposition\":\"auto\",\"x\":[\"coffee\",\"cream\",\"toast\"],\"xaxis\":\"x\",\"y\":[26,15,10],\"yaxis\":\"y\",\"type\":\"bar\"},{\"alignmentgroup\":\"True\",\"hovertemplate\":\"wine_name=Barolo Cascina Francia\\u003cbr\\u003ekeywords=%{x}\\u003cbr\\u003etotal_user_count=%{y}\\u003cextra\\u003e\\u003c\\u002fextra\\u003e\",\"legendgroup\":\"Barolo Cascina Francia\",\"marker\":{\"color\":\"#19d3f3\",\"pattern\":{\"shape\":\"\"}},\"name\":\"Barolo Cascina Francia\",\"offsetgroup\":\"Barolo Cascina Francia\",\"orientation\":\"v\",\"showlegend\":true,\"textposition\":\"auto\",\"x\":[\"coffee\",\"cream\"],\"xaxis\":\"x\",\"y\":[26,10],\"yaxis\":\"y\",\"type\":\"bar\"},{\"alignmentgroup\":\"True\",\"hovertemplate\":\"wine_name=La Cueva del Contador Rioja\\u003cbr\\u003ekeywords=%{x}\\u003cbr\\u003etotal_user_count=%{y}\\u003cextra\\u003e\\u003c\\u002fextra\\u003e\",\"legendgroup\":\"La Cueva del Contador Rioja\",\"marker\":{\"color\":\"#FF6692\",\"pattern\":{\"shape\":\"\"}},\"name\":\"La Cueva del Contador Rioja\",\"offsetgroup\":\"La Cueva del Contador Rioja\",\"orientation\":\"v\",\"showlegend\":true,\"textposition\":\"auto\",\"x\":[\"coffee\"],\"xaxis\":\"x\",\"y\":[26],\"yaxis\":\"y\",\"type\":\"bar\"},{\"alignmentgroup\":\"True\",\"hovertemplate\":\"wine_name=Chassagne-Montrachet 1er Cru 'La Maltroie'\\u003cbr\\u003ekeywords=%{x}\\u003cbr\\u003etotal_user_count=%{y}\\u003cextra\\u003e\\u003c\\u002fextra\\u003e\",\"legendgroup\":\"Chassagne-Montrachet 1er Cru 'La Maltroie'\",\"marker\":{\"color\":\"#B6E880\",\"pattern\":{\"shape\":\"\"}},\"name\":\"Chassagne-Montrachet 1er Cru 'La Maltroie'\",\"offsetgroup\":\"Chassagne-Montrachet 1er Cru 'La Maltroie'\",\"orientation\":\"v\",\"showlegend\":true,\"textposition\":\"auto\",\"x\":[\"citrus\",\"cream\",\"toast\"],\"xaxis\":\"x\",\"y\":[26,19,10],\"yaxis\":\"y\",\"type\":\"bar\"},{\"alignmentgroup\":\"True\",\"hovertemplate\":\"wine_name=Nuits-Saint-Georges 1er Cru Les Damodes\\u003cbr\\u003ekeywords=%{x}\\u003cbr\\u003etotal_user_count=%{y}\\u003cextra\\u003e\\u003c\\u002fextra\\u003e\",\"legendgroup\":\"Nuits-Saint-Georges 1er Cru Les Damodes\",\"marker\":{\"color\":\"#FF97FF\",\"pattern\":{\"shape\":\"\"}},\"name\":\"Nuits-Saint-Georges 1er Cru Les Damodes\",\"offsetgroup\":\"Nuits-Saint-Georges 1er Cru Les Damodes\",\"orientation\":\"v\",\"showlegend\":true,\"textposition\":\"auto\",\"x\":[\"toast\"],\"xaxis\":\"x\",\"y\":[26],\"yaxis\":\"y\",\"type\":\"bar\"},{\"alignmentgroup\":\"True\",\"hovertemplate\":\"wine_name=V\\u00fcrs\\u00f9 Barolo Camp\\u00e8\\u003cbr\\u003ekeywords=%{x}\\u003cbr\\u003etotal_user_count=%{y}\\u003cextra\\u003e\\u003c\\u002fextra\\u003e\",\"legendgroup\":\"V\\u00fcrs\\u00f9 Barolo Camp\\u00e8\",\"marker\":{\"color\":\"#FECB52\",\"pattern\":{\"shape\":\"\"}},\"name\":\"V\\u00fcrs\\u00f9 Barolo Camp\\u00e8\",\"offsetgroup\":\"V\\u00fcrs\\u00f9 Barolo Camp\\u00e8\",\"orientation\":\"v\",\"showlegend\":true,\"textposition\":\"auto\",\"x\":[\"coffee\",\"cream\"],\"xaxis\":\"x\",\"y\":[26,10],\"yaxis\":\"y\",\"type\":\"bar\"},{\"alignmentgroup\":\"True\",\"hovertemplate\":\"wine_name=Ai Suma Barbera d'Asti\\u003cbr\\u003ekeywords=%{x}\\u003cbr\\u003etotal_user_count=%{y}\\u003cextra\\u003e\\u003c\\u002fextra\\u003e\",\"legendgroup\":\"Ai Suma Barbera d'Asti\",\"marker\":{\"color\":\"#636efa\",\"pattern\":{\"shape\":\"\"}},\"name\":\"Ai Suma Barbera d'Asti\",\"offsetgroup\":\"Ai Suma Barbera d'Asti\",\"orientation\":\"v\",\"showlegend\":true,\"textposition\":\"auto\",\"x\":[\"coffee\"],\"xaxis\":\"x\",\"y\":[26],\"yaxis\":\"y\",\"type\":\"bar\"},{\"alignmentgroup\":\"True\",\"hovertemplate\":\"wine_name=Clos de Tart Grand Cru Monopole\\u003cbr\\u003ekeywords=%{x}\\u003cbr\\u003etotal_user_count=%{y}\\u003cextra\\u003e\\u003c\\u002fextra\\u003e\",\"legendgroup\":\"Clos de Tart Grand Cru Monopole\",\"marker\":{\"color\":\"#EF553B\",\"pattern\":{\"shape\":\"\"}},\"name\":\"Clos de Tart Grand Cru Monopole\",\"offsetgroup\":\"Clos de Tart Grand Cru Monopole\",\"orientation\":\"v\",\"showlegend\":true,\"textposition\":\"auto\",\"x\":[\"coffee\"],\"xaxis\":\"x\",\"y\":[26],\"yaxis\":\"y\",\"type\":\"bar\"},{\"alignmentgroup\":\"True\",\"hovertemplate\":\"wine_name=Recioto della Valpolicella Classico\\u003cbr\\u003ekeywords=%{x}\\u003cbr\\u003etotal_user_count=%{y}\\u003cextra\\u003e\\u003c\\u002fextra\\u003e\",\"legendgroup\":\"Recioto della Valpolicella Classico\",\"marker\":{\"color\":\"#00cc96\",\"pattern\":{\"shape\":\"\"}},\"name\":\"Recioto della Valpolicella Classico\",\"offsetgroup\":\"Recioto della Valpolicella Classico\",\"orientation\":\"v\",\"showlegend\":true,\"textposition\":\"auto\",\"x\":[\"coffee\"],\"xaxis\":\"x\",\"y\":[26],\"yaxis\":\"y\",\"type\":\"bar\"},{\"alignmentgroup\":\"True\",\"hovertemplate\":\"wine_name=Ca\\u2019 del Merlo Rosso Veneto\\u003cbr\\u003ekeywords=%{x}\\u003cbr\\u003etotal_user_count=%{y}\\u003cextra\\u003e\\u003c\\u002fextra\\u003e\",\"legendgroup\":\"Ca\\u2019 del Merlo Rosso Veneto\",\"marker\":{\"color\":\"#ab63fa\",\"pattern\":{\"shape\":\"\"}},\"name\":\"Ca\\u2019 del Merlo Rosso Veneto\",\"offsetgroup\":\"Ca\\u2019 del Merlo Rosso Veneto\",\"orientation\":\"v\",\"showlegend\":true,\"textposition\":\"auto\",\"x\":[\"coffee\"],\"xaxis\":\"x\",\"y\":[26],\"yaxis\":\"y\",\"type\":\"bar\"},{\"alignmentgroup\":\"True\",\"hovertemplate\":\"wine_name=Red\\u003cbr\\u003ekeywords=%{x}\\u003cbr\\u003etotal_user_count=%{y}\\u003cextra\\u003e\\u003c\\u002fextra\\u003e\",\"legendgroup\":\"Red\",\"marker\":{\"color\":\"#FFA15A\",\"pattern\":{\"shape\":\"\"}},\"name\":\"Red\",\"offsetgroup\":\"Red\",\"orientation\":\"v\",\"showlegend\":true,\"textposition\":\"auto\",\"x\":[\"coffee\",\"coffee\",\"toast\",\"toast\"],\"xaxis\":\"x\",\"y\":[26,26,24,20],\"yaxis\":\"y\",\"type\":\"bar\"},{\"alignmentgroup\":\"True\",\"hovertemplate\":\"wine_name=Boal Madeira\\u003cbr\\u003ekeywords=%{x}\\u003cbr\\u003etotal_user_count=%{y}\\u003cextra\\u003e\\u003c\\u002fextra\\u003e\",\"legendgroup\":\"Boal Madeira\",\"marker\":{\"color\":\"#19d3f3\",\"pattern\":{\"shape\":\"\"}},\"name\":\"Boal Madeira\",\"offsetgroup\":\"Boal Madeira\",\"orientation\":\"v\",\"showlegend\":true,\"textposition\":\"auto\",\"x\":[\"coffee\"],\"xaxis\":\"x\",\"y\":[26],\"yaxis\":\"y\",\"type\":\"bar\"},{\"alignmentgroup\":\"True\",\"hovertemplate\":\"wine_name=50 & 50\\u003cbr\\u003ekeywords=%{x}\\u003cbr\\u003etotal_user_count=%{y}\\u003cextra\\u003e\\u003c\\u002fextra\\u003e\",\"legendgroup\":\"50 & 50\",\"marker\":{\"color\":\"#FF6692\",\"pattern\":{\"shape\":\"\"}},\"name\":\"50 & 50\",\"offsetgroup\":\"50 & 50\",\"orientation\":\"v\",\"showlegend\":true,\"textposition\":\"auto\",\"x\":[\"coffee\",\"toast\"],\"xaxis\":\"x\",\"y\":[26,14],\"yaxis\":\"y\",\"type\":\"bar\"},{\"alignmentgroup\":\"True\",\"hovertemplate\":\"wine_name=Pietro Dal Cero Amarone della Valpolicella\\u003cbr\\u003ekeywords=%{x}\\u003cbr\\u003etotal_user_count=%{y}\\u003cextra\\u003e\\u003c\\u002fextra\\u003e\",\"legendgroup\":\"Pietro Dal Cero Amarone della Valpolicella\",\"marker\":{\"color\":\"#B6E880\",\"pattern\":{\"shape\":\"\"}},\"name\":\"Pietro Dal Cero Amarone della Valpolicella\",\"offsetgroup\":\"Pietro Dal Cero Amarone della Valpolicella\",\"orientation\":\"v\",\"showlegend\":true,\"textposition\":\"auto\",\"x\":[\"coffee\"],\"xaxis\":\"x\",\"y\":[26],\"yaxis\":\"y\",\"type\":\"bar\"},{\"alignmentgroup\":\"True\",\"hovertemplate\":\"wine_name=Barolo Bricco Rocche\\u003cbr\\u003ekeywords=%{x}\\u003cbr\\u003etotal_user_count=%{y}\\u003cextra\\u003e\\u003c\\u002fextra\\u003e\",\"legendgroup\":\"Barolo Bricco Rocche\",\"marker\":{\"color\":\"#FF97FF\",\"pattern\":{\"shape\":\"\"}},\"name\":\"Barolo Bricco Rocche\",\"offsetgroup\":\"Barolo Bricco Rocche\",\"orientation\":\"v\",\"showlegend\":true,\"textposition\":\"auto\",\"x\":[\"coffee\"],\"xaxis\":\"x\",\"y\":[24],\"yaxis\":\"y\",\"type\":\"bar\"},{\"alignmentgroup\":\"True\",\"hovertemplate\":\"wine_name=Sor\\u00ec San Lorenzo\\u003cbr\\u003ekeywords=%{x}\\u003cbr\\u003etotal_user_count=%{y}\\u003cextra\\u003e\\u003c\\u002fextra\\u003e\",\"legendgroup\":\"Sor\\u00ec San Lorenzo\",\"marker\":{\"color\":\"#FECB52\",\"pattern\":{\"shape\":\"\"}},\"name\":\"Sor\\u00ec San Lorenzo\",\"offsetgroup\":\"Sor\\u00ec San Lorenzo\",\"orientation\":\"v\",\"showlegend\":true,\"textposition\":\"auto\",\"x\":[\"coffee\"],\"xaxis\":\"x\",\"y\":[24],\"yaxis\":\"y\",\"type\":\"bar\"},{\"alignmentgroup\":\"True\",\"hovertemplate\":\"wine_name=Colheita Port\\u003cbr\\u003ekeywords=%{x}\\u003cbr\\u003etotal_user_count=%{y}\\u003cextra\\u003e\\u003c\\u002fextra\\u003e\",\"legendgroup\":\"Colheita Port\",\"marker\":{\"color\":\"#636efa\",\"pattern\":{\"shape\":\"\"}},\"name\":\"Colheita Port\",\"offsetgroup\":\"Colheita Port\",\"orientation\":\"v\",\"showlegend\":true,\"textposition\":\"auto\",\"x\":[\"coffee\",\"cream\"],\"xaxis\":\"x\",\"y\":[24,16],\"yaxis\":\"y\",\"type\":\"bar\"},{\"alignmentgroup\":\"True\",\"hovertemplate\":\"wine_name=Luce Brunello di Montalcino\\u003cbr\\u003ekeywords=%{x}\\u003cbr\\u003etotal_user_count=%{y}\\u003cextra\\u003e\\u003c\\u002fextra\\u003e\",\"legendgroup\":\"Luce Brunello di Montalcino\",\"marker\":{\"color\":\"#EF553B\",\"pattern\":{\"shape\":\"\"}},\"name\":\"Luce Brunello di Montalcino\",\"offsetgroup\":\"Luce Brunello di Montalcino\",\"orientation\":\"v\",\"showlegend\":true,\"textposition\":\"auto\",\"x\":[\"coffee\",\"toast\"],\"xaxis\":\"x\",\"y\":[24,10],\"yaxis\":\"y\",\"type\":\"bar\"},{\"alignmentgroup\":\"True\",\"hovertemplate\":\"wine_name=Tessons Clos de Mon Plaisir Meursault\\u003cbr\\u003ekeywords=%{x}\\u003cbr\\u003etotal_user_count=%{y}\\u003cextra\\u003e\\u003c\\u002fextra\\u003e\",\"legendgroup\":\"Tessons Clos de Mon Plaisir Meursault\",\"marker\":{\"color\":\"#00cc96\",\"pattern\":{\"shape\":\"\"}},\"name\":\"Tessons Clos de Mon Plaisir Meursault\",\"offsetgroup\":\"Tessons Clos de Mon Plaisir Meursault\",\"orientation\":\"v\",\"showlegend\":true,\"textposition\":\"auto\",\"x\":[\"citrus\"],\"xaxis\":\"x\",\"y\":[24],\"yaxis\":\"y\",\"type\":\"bar\"},{\"alignmentgroup\":\"True\",\"hovertemplate\":\"wine_name=Barolo Ciabot Mentin Ginestra\\u003cbr\\u003ekeywords=%{x}\\u003cbr\\u003etotal_user_count=%{y}\\u003cextra\\u003e\\u003c\\u002fextra\\u003e\",\"legendgroup\":\"Barolo Ciabot Mentin Ginestra\",\"marker\":{\"color\":\"#ab63fa\",\"pattern\":{\"shape\":\"\"}},\"name\":\"Barolo Ciabot Mentin Ginestra\",\"offsetgroup\":\"Barolo Ciabot Mentin Ginestra\",\"orientation\":\"v\",\"showlegend\":true,\"textposition\":\"auto\",\"x\":[\"coffee\"],\"xaxis\":\"x\",\"y\":[24],\"yaxis\":\"y\",\"type\":\"bar\"},{\"alignmentgroup\":\"True\",\"hovertemplate\":\"wine_name=Vecchie Vigne Brunello di Montalcino\\u003cbr\\u003ekeywords=%{x}\\u003cbr\\u003etotal_user_count=%{y}\\u003cextra\\u003e\\u003c\\u002fextra\\u003e\",\"legendgroup\":\"Vecchie Vigne Brunello di Montalcino\",\"marker\":{\"color\":\"#FFA15A\",\"pattern\":{\"shape\":\"\"}},\"name\":\"Vecchie Vigne Brunello di Montalcino\",\"offsetgroup\":\"Vecchie Vigne Brunello di Montalcino\",\"orientation\":\"v\",\"showlegend\":true,\"textposition\":\"auto\",\"x\":[\"coffee\",\"cream\",\"toast\"],\"xaxis\":\"x\",\"y\":[24,10,10],\"yaxis\":\"y\",\"type\":\"bar\"},{\"alignmentgroup\":\"True\",\"hovertemplate\":\"wine_name=Kairos\\u003cbr\\u003ekeywords=%{x}\\u003cbr\\u003etotal_user_count=%{y}\\u003cextra\\u003e\\u003c\\u002fextra\\u003e\",\"legendgroup\":\"Kairos\",\"marker\":{\"color\":\"#19d3f3\",\"pattern\":{\"shape\":\"\"}},\"name\":\"Kairos\",\"offsetgroup\":\"Kairos\",\"orientation\":\"v\",\"showlegend\":true,\"textposition\":\"auto\",\"x\":[\"coffee\"],\"xaxis\":\"x\",\"y\":[24],\"yaxis\":\"y\",\"type\":\"bar\"},{\"alignmentgroup\":\"True\",\"hovertemplate\":\"wine_name=Perpetual\\u003cbr\\u003ekeywords=%{x}\\u003cbr\\u003etotal_user_count=%{y}\\u003cextra\\u003e\\u003c\\u002fextra\\u003e\",\"legendgroup\":\"Perpetual\",\"marker\":{\"color\":\"#FF6692\",\"pattern\":{\"shape\":\"\"}},\"name\":\"Perpetual\",\"offsetgroup\":\"Perpetual\",\"orientation\":\"v\",\"showlegend\":true,\"textposition\":\"auto\",\"x\":[\"coffee\",\"toast\"],\"xaxis\":\"x\",\"y\":[24,14],\"yaxis\":\"y\",\"type\":\"bar\"},{\"alignmentgroup\":\"True\",\"hovertemplate\":\"wine_name=Blueline Estate Cabernet Sauvignon\\u003cbr\\u003ekeywords=%{x}\\u003cbr\\u003etotal_user_count=%{y}\\u003cextra\\u003e\\u003c\\u002fextra\\u003e\",\"legendgroup\":\"Blueline Estate Cabernet Sauvignon\",\"marker\":{\"color\":\"#B6E880\",\"pattern\":{\"shape\":\"\"}},\"name\":\"Blueline Estate Cabernet Sauvignon\",\"offsetgroup\":\"Blueline Estate Cabernet Sauvignon\",\"orientation\":\"v\",\"showlegend\":true,\"textposition\":\"auto\",\"x\":[\"coffee\"],\"xaxis\":\"x\",\"y\":[24],\"yaxis\":\"y\",\"type\":\"bar\"},{\"alignmentgroup\":\"True\",\"hovertemplate\":\"wine_name=Kevin Arnold Shiraz\\u003cbr\\u003ekeywords=%{x}\\u003cbr\\u003etotal_user_count=%{y}\\u003cextra\\u003e\\u003c\\u002fextra\\u003e\",\"legendgroup\":\"Kevin Arnold Shiraz\",\"marker\":{\"color\":\"#FF97FF\",\"pattern\":{\"shape\":\"\"}},\"name\":\"Kevin Arnold Shiraz\",\"offsetgroup\":\"Kevin Arnold Shiraz\",\"orientation\":\"v\",\"showlegend\":true,\"textposition\":\"auto\",\"x\":[\"coffee\"],\"xaxis\":\"x\",\"y\":[24],\"yaxis\":\"y\",\"type\":\"bar\"},{\"alignmentgroup\":\"True\",\"hovertemplate\":\"wine_name=d'Alceo\\u003cbr\\u003ekeywords=%{x}\\u003cbr\\u003etotal_user_count=%{y}\\u003cextra\\u003e\\u003c\\u002fextra\\u003e\",\"legendgroup\":\"d'Alceo\",\"marker\":{\"color\":\"#FECB52\",\"pattern\":{\"shape\":\"\"}},\"name\":\"d'Alceo\",\"offsetgroup\":\"d'Alceo\",\"orientation\":\"v\",\"showlegend\":true,\"textposition\":\"auto\",\"x\":[\"coffee\"],\"xaxis\":\"x\",\"y\":[24],\"yaxis\":\"y\",\"type\":\"bar\"},{\"alignmentgroup\":\"True\",\"hovertemplate\":\"wine_name=Hommage \\u00e0 Jacques Perrin Ch\\u00e2teauneuf-du-Pape\\u003cbr\\u003ekeywords=%{x}\\u003cbr\\u003etotal_user_count=%{y}\\u003cextra\\u003e\\u003c\\u002fextra\\u003e\",\"legendgroup\":\"Hommage \\u00e0 Jacques Perrin Ch\\u00e2teauneuf-du-Pape\",\"marker\":{\"color\":\"#636efa\",\"pattern\":{\"shape\":\"\"}},\"name\":\"Hommage \\u00e0 Jacques Perrin Ch\\u00e2teauneuf-du-Pape\",\"offsetgroup\":\"Hommage \\u00e0 Jacques Perrin Ch\\u00e2teauneuf-du-Pape\",\"orientation\":\"v\",\"showlegend\":true,\"textposition\":\"auto\",\"x\":[\"coffee\"],\"xaxis\":\"x\",\"y\":[24],\"yaxis\":\"y\",\"type\":\"bar\"},{\"alignmentgroup\":\"True\",\"hovertemplate\":\"wine_name=Les Blanchiens Brut Nature Champagne Premier Cru\\u003cbr\\u003ekeywords=%{x}\\u003cbr\\u003etotal_user_count=%{y}\\u003cextra\\u003e\\u003c\\u002fextra\\u003e\",\"legendgroup\":\"Les Blanchiens Brut Nature Champagne Premier Cru\",\"marker\":{\"color\":\"#EF553B\",\"pattern\":{\"shape\":\"\"}},\"name\":\"Les Blanchiens Brut Nature Champagne Premier Cru\",\"offsetgroup\":\"Les Blanchiens Brut Nature Champagne Premier Cru\",\"orientation\":\"v\",\"showlegend\":true,\"textposition\":\"auto\",\"x\":[\"toast\",\"citrus\"],\"xaxis\":\"x\",\"y\":[24,11],\"yaxis\":\"y\",\"type\":\"bar\"},{\"alignmentgroup\":\"True\",\"hovertemplate\":\"wine_name=Guerriero della Terra\\u003cbr\\u003ekeywords=%{x}\\u003cbr\\u003etotal_user_count=%{y}\\u003cextra\\u003e\\u003c\\u002fextra\\u003e\",\"legendgroup\":\"Guerriero della Terra\",\"marker\":{\"color\":\"#00cc96\",\"pattern\":{\"shape\":\"\"}},\"name\":\"Guerriero della Terra\",\"offsetgroup\":\"Guerriero della Terra\",\"orientation\":\"v\",\"showlegend\":true,\"textposition\":\"auto\",\"x\":[\"coffee\",\"cream\"],\"xaxis\":\"x\",\"y\":[24,12],\"yaxis\":\"y\",\"type\":\"bar\"},{\"alignmentgroup\":\"True\",\"hovertemplate\":\"wine_name=80 Vecchie Vigne Primitivo di Manduria Old Vines\\u003cbr\\u003ekeywords=%{x}\\u003cbr\\u003etotal_user_count=%{y}\\u003cextra\\u003e\\u003c\\u002fextra\\u003e\",\"legendgroup\":\"80 Vecchie Vigne Primitivo di Manduria Old Vines\",\"marker\":{\"color\":\"#ab63fa\",\"pattern\":{\"shape\":\"\"}},\"name\":\"80 Vecchie Vigne Primitivo di Manduria Old Vines\",\"offsetgroup\":\"80 Vecchie Vigne Primitivo di Manduria Old Vines\",\"orientation\":\"v\",\"showlegend\":true,\"textposition\":\"auto\",\"x\":[\"coffee\"],\"xaxis\":\"x\",\"y\":[24],\"yaxis\":\"y\",\"type\":\"bar\"},{\"alignmentgroup\":\"True\",\"hovertemplate\":\"wine_name=Tokaji Asz\\u00fa 6 Puttonyos\\u003cbr\\u003ekeywords=%{x}\\u003cbr\\u003etotal_user_count=%{y}\\u003cextra\\u003e\\u003c\\u002fextra\\u003e\",\"legendgroup\":\"Tokaji Asz\\u00fa 6 Puttonyos\",\"marker\":{\"color\":\"#FFA15A\",\"pattern\":{\"shape\":\"\"}},\"name\":\"Tokaji Asz\\u00fa 6 Puttonyos\",\"offsetgroup\":\"Tokaji Asz\\u00fa 6 Puttonyos\",\"orientation\":\"v\",\"showlegend\":true,\"textposition\":\"auto\",\"x\":[\"citrus\",\"toast\",\"coffee\"],\"xaxis\":\"x\",\"y\":[23,14,10],\"yaxis\":\"y\",\"type\":\"bar\"},{\"alignmentgroup\":\"True\",\"hovertemplate\":\"wine_name=Puligny-Montrachet Premier Cru ' Clos de la Truffi\\u00e8re'\\u003cbr\\u003ekeywords=%{x}\\u003cbr\\u003etotal_user_count=%{y}\\u003cextra\\u003e\\u003c\\u002fextra\\u003e\",\"legendgroup\":\"Puligny-Montrachet Premier Cru ' Clos de la Truffi\\u00e8re'\",\"marker\":{\"color\":\"#19d3f3\",\"pattern\":{\"shape\":\"\"}},\"name\":\"Puligny-Montrachet Premier Cru ' Clos de la Truffi\\u00e8re'\",\"offsetgroup\":\"Puligny-Montrachet Premier Cru ' Clos de la Truffi\\u00e8re'\",\"orientation\":\"v\",\"showlegend\":true,\"textposition\":\"auto\",\"x\":[\"citrus\",\"green apple\",\"toast\"],\"xaxis\":\"x\",\"y\":[23,17,10],\"yaxis\":\"y\",\"type\":\"bar\"},{\"alignmentgroup\":\"True\",\"hovertemplate\":\"wine_name=Le D\\u00e9sir\\u003cbr\\u003ekeywords=%{x}\\u003cbr\\u003etotal_user_count=%{y}\\u003cextra\\u003e\\u003c\\u002fextra\\u003e\",\"legendgroup\":\"Le D\\u00e9sir\",\"marker\":{\"color\":\"#FF6692\",\"pattern\":{\"shape\":\"\"}},\"name\":\"Le D\\u00e9sir\",\"offsetgroup\":\"Le D\\u00e9sir\",\"orientation\":\"v\",\"showlegend\":true,\"textposition\":\"auto\",\"x\":[\"coffee\",\"toast\"],\"xaxis\":\"x\",\"y\":[22,10],\"yaxis\":\"y\",\"type\":\"bar\"},{\"alignmentgroup\":\"True\",\"hovertemplate\":\"wine_name=Series M\\u003cbr\\u003ekeywords=%{x}\\u003cbr\\u003etotal_user_count=%{y}\\u003cextra\\u003e\\u003c\\u002fextra\\u003e\",\"legendgroup\":\"Series M\",\"marker\":{\"color\":\"#B6E880\",\"pattern\":{\"shape\":\"\"}},\"name\":\"Series M\",\"offsetgroup\":\"Series M\",\"orientation\":\"v\",\"showlegend\":true,\"textposition\":\"auto\",\"x\":[\"coffee\"],\"xaxis\":\"x\",\"y\":[22],\"yaxis\":\"y\",\"type\":\"bar\"},{\"alignmentgroup\":\"True\",\"hovertemplate\":\"wine_name=Trasnocho\\u003cbr\\u003ekeywords=%{x}\\u003cbr\\u003etotal_user_count=%{y}\\u003cextra\\u003e\\u003c\\u002fextra\\u003e\",\"legendgroup\":\"Trasnocho\",\"marker\":{\"color\":\"#FF97FF\",\"pattern\":{\"shape\":\"\"}},\"name\":\"Trasnocho\",\"offsetgroup\":\"Trasnocho\",\"orientation\":\"v\",\"showlegend\":true,\"textposition\":\"auto\",\"x\":[\"coffee\",\"toast\"],\"xaxis\":\"x\",\"y\":[22,12],\"yaxis\":\"y\",\"type\":\"bar\"},{\"alignmentgroup\":\"True\",\"hovertemplate\":\"wine_name=Douro Pintas Tinto\\u003cbr\\u003ekeywords=%{x}\\u003cbr\\u003etotal_user_count=%{y}\\u003cextra\\u003e\\u003c\\u002fextra\\u003e\",\"legendgroup\":\"Douro Pintas Tinto\",\"marker\":{\"color\":\"#FECB52\",\"pattern\":{\"shape\":\"\"}},\"name\":\"Douro Pintas Tinto\",\"offsetgroup\":\"Douro Pintas Tinto\",\"orientation\":\"v\",\"showlegend\":true,\"textposition\":\"auto\",\"x\":[\"coffee\",\"toast\"],\"xaxis\":\"x\",\"y\":[22,14],\"yaxis\":\"y\",\"type\":\"bar\"},{\"alignmentgroup\":\"True\",\"hovertemplate\":\"wine_name=Primitivo di Manduria\\u003cbr\\u003ekeywords=%{x}\\u003cbr\\u003etotal_user_count=%{y}\\u003cextra\\u003e\\u003c\\u002fextra\\u003e\",\"legendgroup\":\"Primitivo di Manduria\",\"marker\":{\"color\":\"#636efa\",\"pattern\":{\"shape\":\"\"}},\"name\":\"Primitivo di Manduria\",\"offsetgroup\":\"Primitivo di Manduria\",\"orientation\":\"v\",\"showlegend\":true,\"textposition\":\"auto\",\"x\":[\"coffee\"],\"xaxis\":\"x\",\"y\":[22],\"yaxis\":\"y\",\"type\":\"bar\"},{\"alignmentgroup\":\"True\",\"hovertemplate\":\"wine_name=Ares\\u003cbr\\u003ekeywords=%{x}\\u003cbr\\u003etotal_user_count=%{y}\\u003cextra\\u003e\\u003c\\u002fextra\\u003e\",\"legendgroup\":\"Ares\",\"marker\":{\"color\":\"#EF553B\",\"pattern\":{\"shape\":\"\"}},\"name\":\"Ares\",\"offsetgroup\":\"Ares\",\"orientation\":\"v\",\"showlegend\":true,\"textposition\":\"auto\",\"x\":[\"coffee\"],\"xaxis\":\"x\",\"y\":[22],\"yaxis\":\"y\",\"type\":\"bar\"},{\"alignmentgroup\":\"True\",\"hovertemplate\":\"wine_name=VIK\\u003cbr\\u003ekeywords=%{x}\\u003cbr\\u003etotal_user_count=%{y}\\u003cextra\\u003e\\u003c\\u002fextra\\u003e\",\"legendgroup\":\"VIK\",\"marker\":{\"color\":\"#00cc96\",\"pattern\":{\"shape\":\"\"}},\"name\":\"VIK\",\"offsetgroup\":\"VIK\",\"orientation\":\"v\",\"showlegend\":true,\"textposition\":\"auto\",\"x\":[\"coffee\"],\"xaxis\":\"x\",\"y\":[22],\"yaxis\":\"y\",\"type\":\"bar\"},{\"alignmentgroup\":\"True\",\"hovertemplate\":\"wine_name=Cream Tradici\\u00f3n Vos 20 Years\\u003cbr\\u003ekeywords=%{x}\\u003cbr\\u003etotal_user_count=%{y}\\u003cextra\\u003e\\u003c\\u002fextra\\u003e\",\"legendgroup\":\"Cream Tradici\\u00f3n Vos 20 Years\",\"marker\":{\"color\":\"#ab63fa\",\"pattern\":{\"shape\":\"\"}},\"name\":\"Cream Tradici\\u00f3n Vos 20 Years\",\"offsetgroup\":\"Cream Tradici\\u00f3n Vos 20 Years\",\"orientation\":\"v\",\"showlegend\":true,\"textposition\":\"auto\",\"x\":[\"cream\"],\"xaxis\":\"x\",\"y\":[22],\"yaxis\":\"y\",\"type\":\"bar\"},{\"alignmentgroup\":\"True\",\"hovertemplate\":\"wine_name=Duemani Cabernet Franc\\u003cbr\\u003ekeywords=%{x}\\u003cbr\\u003etotal_user_count=%{y}\\u003cextra\\u003e\\u003c\\u002fextra\\u003e\",\"legendgroup\":\"Duemani Cabernet Franc\",\"marker\":{\"color\":\"#FFA15A\",\"pattern\":{\"shape\":\"\"}},\"name\":\"Duemani Cabernet Franc\",\"offsetgroup\":\"Duemani Cabernet Franc\",\"orientation\":\"v\",\"showlegend\":true,\"textposition\":\"auto\",\"x\":[\"coffee\"],\"xaxis\":\"x\",\"y\":[22],\"yaxis\":\"y\",\"type\":\"bar\"},{\"alignmentgroup\":\"True\",\"hovertemplate\":\"wine_name=VV 26 Blanc de Blancs Vieilles Vignes Grand Cru Brut\\u003cbr\\u003ekeywords=%{x}\\u003cbr\\u003etotal_user_count=%{y}\\u003cextra\\u003e\\u003c\\u002fextra\\u003e\",\"legendgroup\":\"VV 26 Blanc de Blancs Vieilles Vignes Grand Cru Brut\",\"marker\":{\"color\":\"#19d3f3\",\"pattern\":{\"shape\":\"\"}},\"name\":\"VV 26 Blanc de Blancs Vieilles Vignes Grand Cru Brut\",\"offsetgroup\":\"VV 26 Blanc de Blancs Vieilles Vignes Grand Cru Brut\",\"orientation\":\"v\",\"showlegend\":true,\"textposition\":\"auto\",\"x\":[\"toast\",\"cream\"],\"xaxis\":\"x\",\"y\":[22,10],\"yaxis\":\"y\",\"type\":\"bar\"},{\"alignmentgroup\":\"True\",\"hovertemplate\":\"wine_name=Chassagne-Montrachet Premier Cru 'Morgeot' Blanc\\u003cbr\\u003ekeywords=%{x}\\u003cbr\\u003etotal_user_count=%{y}\\u003cextra\\u003e\\u003c\\u002fextra\\u003e\",\"legendgroup\":\"Chassagne-Montrachet Premier Cru 'Morgeot' Blanc\",\"marker\":{\"color\":\"#FF6692\",\"pattern\":{\"shape\":\"\"}},\"name\":\"Chassagne-Montrachet Premier Cru 'Morgeot' Blanc\",\"offsetgroup\":\"Chassagne-Montrachet Premier Cru 'Morgeot' Blanc\",\"orientation\":\"v\",\"showlegend\":true,\"textposition\":\"auto\",\"x\":[\"citrus\",\"cream\"],\"xaxis\":\"x\",\"y\":[21,14],\"yaxis\":\"y\",\"type\":\"bar\"},{\"alignmentgroup\":\"True\",\"hovertemplate\":\"wine_name=V\\u00e9nus Blanc de Blancs Brut Nature Champagne Grand Cru 'Avize'\\u003cbr\\u003ekeywords=%{x}\\u003cbr\\u003etotal_user_count=%{y}\\u003cextra\\u003e\\u003c\\u002fextra\\u003e\",\"legendgroup\":\"V\\u00e9nus Blanc de Blancs Brut Nature Champagne Grand Cru 'Avize'\",\"marker\":{\"color\":\"#B6E880\",\"pattern\":{\"shape\":\"\"}},\"name\":\"V\\u00e9nus Blanc de Blancs Brut Nature Champagne Grand Cru 'Avize'\",\"offsetgroup\":\"V\\u00e9nus Blanc de Blancs Brut Nature Champagne Grand Cru 'Avize'\",\"orientation\":\"v\",\"showlegend\":true,\"textposition\":\"auto\",\"x\":[\"citrus\",\"toast\",\"green apple\"],\"xaxis\":\"x\",\"y\":[21,18,13],\"yaxis\":\"y\",\"type\":\"bar\"},{\"alignmentgroup\":\"True\",\"hovertemplate\":\"wine_name=Vin Santo di Montepulciano\\u003cbr\\u003ekeywords=%{x}\\u003cbr\\u003etotal_user_count=%{y}\\u003cextra\\u003e\\u003c\\u002fextra\\u003e\",\"legendgroup\":\"Vin Santo di Montepulciano\",\"marker\":{\"color\":\"#FF97FF\",\"pattern\":{\"shape\":\"\"}},\"name\":\"Vin Santo di Montepulciano\",\"offsetgroup\":\"Vin Santo di Montepulciano\",\"orientation\":\"v\",\"showlegend\":true,\"textposition\":\"auto\",\"x\":[\"coffee\"],\"xaxis\":\"x\",\"y\":[20],\"yaxis\":\"y\",\"type\":\"bar\"},{\"alignmentgroup\":\"True\",\"hovertemplate\":\"wine_name=Barolo Brunate\\u003cbr\\u003ekeywords=%{x}\\u003cbr\\u003etotal_user_count=%{y}\\u003cextra\\u003e\\u003c\\u002fextra\\u003e\",\"legendgroup\":\"Barolo Brunate\",\"marker\":{\"color\":\"#FECB52\",\"pattern\":{\"shape\":\"\"}},\"name\":\"Barolo Brunate\",\"offsetgroup\":\"Barolo Brunate\",\"orientation\":\"v\",\"showlegend\":true,\"textposition\":\"auto\",\"x\":[\"coffee\",\"coffee\"],\"xaxis\":\"x\",\"y\":[20,12],\"yaxis\":\"y\",\"type\":\"bar\"},{\"alignmentgroup\":\"True\",\"hovertemplate\":\"wine_name=IX Estate Red\\u003cbr\\u003ekeywords=%{x}\\u003cbr\\u003etotal_user_count=%{y}\\u003cextra\\u003e\\u003c\\u002fextra\\u003e\",\"legendgroup\":\"IX Estate Red\",\"marker\":{\"color\":\"#636efa\",\"pattern\":{\"shape\":\"\"}},\"name\":\"IX Estate Red\",\"offsetgroup\":\"IX Estate Red\",\"orientation\":\"v\",\"showlegend\":true,\"textposition\":\"auto\",\"x\":[\"coffee\",\"toast\"],\"xaxis\":\"x\",\"y\":[20,10],\"yaxis\":\"y\",\"type\":\"bar\"},{\"alignmentgroup\":\"True\",\"hovertemplate\":\"wine_name=Barolo Sor\\u00ec Ginestra\\u003cbr\\u003ekeywords=%{x}\\u003cbr\\u003etotal_user_count=%{y}\\u003cextra\\u003e\\u003c\\u002fextra\\u003e\",\"legendgroup\":\"Barolo Sor\\u00ec Ginestra\",\"marker\":{\"color\":\"#EF553B\",\"pattern\":{\"shape\":\"\"}},\"name\":\"Barolo Sor\\u00ec Ginestra\",\"offsetgroup\":\"Barolo Sor\\u00ec Ginestra\",\"orientation\":\"v\",\"showlegend\":true,\"textposition\":\"auto\",\"x\":[\"coffee\"],\"xaxis\":\"x\",\"y\":[20],\"yaxis\":\"y\",\"type\":\"bar\"},{\"alignmentgroup\":\"True\",\"hovertemplate\":\"wine_name=Barolo Ginestra Casa Mat\\u00e9\\u003cbr\\u003ekeywords=%{x}\\u003cbr\\u003etotal_user_count=%{y}\\u003cextra\\u003e\\u003c\\u002fextra\\u003e\",\"legendgroup\":\"Barolo Ginestra Casa Mat\\u00e9\",\"marker\":{\"color\":\"#00cc96\",\"pattern\":{\"shape\":\"\"}},\"name\":\"Barolo Ginestra Casa Mat\\u00e9\",\"offsetgroup\":\"Barolo Ginestra Casa Mat\\u00e9\",\"orientation\":\"v\",\"showlegend\":true,\"textposition\":\"auto\",\"x\":[\"coffee\"],\"xaxis\":\"x\",\"y\":[20],\"yaxis\":\"y\",\"type\":\"bar\"},{\"alignmentgroup\":\"True\",\"hovertemplate\":\"wine_name=Quinta da Leda Douro\\u003cbr\\u003ekeywords=%{x}\\u003cbr\\u003etotal_user_count=%{y}\\u003cextra\\u003e\\u003c\\u002fextra\\u003e\",\"legendgroup\":\"Quinta da Leda Douro\",\"marker\":{\"color\":\"#ab63fa\",\"pattern\":{\"shape\":\"\"}},\"name\":\"Quinta da Leda Douro\",\"offsetgroup\":\"Quinta da Leda Douro\",\"orientation\":\"v\",\"showlegend\":true,\"textposition\":\"auto\",\"x\":[\"toast\"],\"xaxis\":\"x\",\"y\":[20],\"yaxis\":\"y\",\"type\":\"bar\"},{\"alignmentgroup\":\"True\",\"hovertemplate\":\"wine_name=Roman\\u00e9e-Saint-Vivant Grand Cru (Marey-Monge)\\u003cbr\\u003ekeywords=%{x}\\u003cbr\\u003etotal_user_count=%{y}\\u003cextra\\u003e\\u003c\\u002fextra\\u003e\",\"legendgroup\":\"Roman\\u00e9e-Saint-Vivant Grand Cru (Marey-Monge)\",\"marker\":{\"color\":\"#FFA15A\",\"pattern\":{\"shape\":\"\"}},\"name\":\"Roman\\u00e9e-Saint-Vivant Grand Cru (Marey-Monge)\",\"offsetgroup\":\"Roman\\u00e9e-Saint-Vivant Grand Cru (Marey-Monge)\",\"orientation\":\"v\",\"showlegend\":true,\"textposition\":\"auto\",\"x\":[\"coffee\"],\"xaxis\":\"x\",\"y\":[20],\"yaxis\":\"y\",\"type\":\"bar\"},{\"alignmentgroup\":\"True\",\"hovertemplate\":\"wine_name=Contador Rioja\\u003cbr\\u003ekeywords=%{x}\\u003cbr\\u003etotal_user_count=%{y}\\u003cextra\\u003e\\u003c\\u002fextra\\u003e\",\"legendgroup\":\"Contador Rioja\",\"marker\":{\"color\":\"#19d3f3\",\"pattern\":{\"shape\":\"\"}},\"name\":\"Contador Rioja\",\"offsetgroup\":\"Contador Rioja\",\"orientation\":\"v\",\"showlegend\":true,\"textposition\":\"auto\",\"x\":[\"toast\",\"coffee\"],\"xaxis\":\"x\",\"y\":[20,12],\"yaxis\":\"y\",\"type\":\"bar\"},{\"alignmentgroup\":\"True\",\"hovertemplate\":\"wine_name=Gran Corte (VII)\\u003cbr\\u003ekeywords=%{x}\\u003cbr\\u003etotal_user_count=%{y}\\u003cextra\\u003e\\u003c\\u002fextra\\u003e\",\"legendgroup\":\"Gran Corte (VII)\",\"marker\":{\"color\":\"#FF6692\",\"pattern\":{\"shape\":\"\"}},\"name\":\"Gran Corte (VII)\",\"offsetgroup\":\"Gran Corte (VII)\",\"orientation\":\"v\",\"showlegend\":true,\"textposition\":\"auto\",\"x\":[\"coffee\",\"toast\"],\"xaxis\":\"x\",\"y\":[20,18],\"yaxis\":\"y\",\"type\":\"bar\"},{\"alignmentgroup\":\"True\",\"hovertemplate\":\"wine_name=Poggio Al Vento Brunello di Montalcino Riserva\\u003cbr\\u003ekeywords=%{x}\\u003cbr\\u003etotal_user_count=%{y}\\u003cextra\\u003e\\u003c\\u002fextra\\u003e\",\"legendgroup\":\"Poggio Al Vento Brunello di Montalcino Riserva\",\"marker\":{\"color\":\"#B6E880\",\"pattern\":{\"shape\":\"\"}},\"name\":\"Poggio Al Vento Brunello di Montalcino Riserva\",\"offsetgroup\":\"Poggio Al Vento Brunello di Montalcino Riserva\",\"orientation\":\"v\",\"showlegend\":true,\"textposition\":\"auto\",\"x\":[\"coffee\"],\"xaxis\":\"x\",\"y\":[20],\"yaxis\":\"y\",\"type\":\"bar\"},{\"alignmentgroup\":\"True\",\"hovertemplate\":\"wine_name=Douro\\u003cbr\\u003ekeywords=%{x}\\u003cbr\\u003etotal_user_count=%{y}\\u003cextra\\u003e\\u003c\\u002fextra\\u003e\",\"legendgroup\":\"Douro\",\"marker\":{\"color\":\"#FF97FF\",\"pattern\":{\"shape\":\"\"}},\"name\":\"Douro\",\"offsetgroup\":\"Douro\",\"orientation\":\"v\",\"showlegend\":true,\"textposition\":\"auto\",\"x\":[\"toast\",\"coffee\"],\"xaxis\":\"x\",\"y\":[20,14],\"yaxis\":\"y\",\"type\":\"bar\"},{\"alignmentgroup\":\"True\",\"hovertemplate\":\"wine_name=Richebourg Grand Cru\\u003cbr\\u003ekeywords=%{x}\\u003cbr\\u003etotal_user_count=%{y}\\u003cextra\\u003e\\u003c\\u002fextra\\u003e\",\"legendgroup\":\"Richebourg Grand Cru\",\"marker\":{\"color\":\"#FECB52\",\"pattern\":{\"shape\":\"\"}},\"name\":\"Richebourg Grand Cru\",\"offsetgroup\":\"Richebourg Grand Cru\",\"orientation\":\"v\",\"showlegend\":true,\"textposition\":\"auto\",\"x\":[\"coffee\"],\"xaxis\":\"x\",\"y\":[20],\"yaxis\":\"y\",\"type\":\"bar\"},{\"alignmentgroup\":\"True\",\"hovertemplate\":\"wine_name=Pieve Santa Restituta Sugarille Brunello di Montalcino\\u003cbr\\u003ekeywords=%{x}\\u003cbr\\u003etotal_user_count=%{y}\\u003cextra\\u003e\\u003c\\u002fextra\\u003e\",\"legendgroup\":\"Pieve Santa Restituta Sugarille Brunello di Montalcino\",\"marker\":{\"color\":\"#636efa\",\"pattern\":{\"shape\":\"\"}},\"name\":\"Pieve Santa Restituta Sugarille Brunello di Montalcino\",\"offsetgroup\":\"Pieve Santa Restituta Sugarille Brunello di Montalcino\",\"orientation\":\"v\",\"showlegend\":true,\"textposition\":\"auto\",\"x\":[\"coffee\"],\"xaxis\":\"x\",\"y\":[20],\"yaxis\":\"y\",\"type\":\"bar\"},{\"alignmentgroup\":\"True\",\"hovertemplate\":\"wine_name=Harlequin\\u003cbr\\u003ekeywords=%{x}\\u003cbr\\u003etotal_user_count=%{y}\\u003cextra\\u003e\\u003c\\u002fextra\\u003e\",\"legendgroup\":\"Harlequin\",\"marker\":{\"color\":\"#EF553B\",\"pattern\":{\"shape\":\"\"}},\"name\":\"Harlequin\",\"offsetgroup\":\"Harlequin\",\"orientation\":\"v\",\"showlegend\":true,\"textposition\":\"auto\",\"x\":[\"coffee\"],\"xaxis\":\"x\",\"y\":[20],\"yaxis\":\"y\",\"type\":\"bar\"},{\"alignmentgroup\":\"True\",\"hovertemplate\":\"wine_name=B\\u00e2tard-Montrachet Grand Cru\\u003cbr\\u003ekeywords=%{x}\\u003cbr\\u003etotal_user_count=%{y}\\u003cextra\\u003e\\u003c\\u002fextra\\u003e\",\"legendgroup\":\"B\\u00e2tard-Montrachet Grand Cru\",\"marker\":{\"color\":\"#00cc96\",\"pattern\":{\"shape\":\"\"}},\"name\":\"B\\u00e2tard-Montrachet Grand Cru\",\"offsetgroup\":\"B\\u00e2tard-Montrachet Grand Cru\",\"orientation\":\"v\",\"showlegend\":true,\"textposition\":\"auto\",\"x\":[\"citrus\",\"citrus\",\"cream\",\"cream\",\"toast\"],\"xaxis\":\"x\",\"y\":[20,19,14,11,10],\"yaxis\":\"y\",\"type\":\"bar\"},{\"alignmentgroup\":\"True\",\"hovertemplate\":\"wine_name=Amarone della Valpolicella Vigna Garzon\\u003cbr\\u003ekeywords=%{x}\\u003cbr\\u003etotal_user_count=%{y}\\u003cextra\\u003e\\u003c\\u002fextra\\u003e\",\"legendgroup\":\"Amarone della Valpolicella Vigna Garzon\",\"marker\":{\"color\":\"#ab63fa\",\"pattern\":{\"shape\":\"\"}},\"name\":\"Amarone della Valpolicella Vigna Garzon\",\"offsetgroup\":\"Amarone della Valpolicella Vigna Garzon\",\"orientation\":\"v\",\"showlegend\":true,\"textposition\":\"auto\",\"x\":[\"coffee\",\"toast\"],\"xaxis\":\"x\",\"y\":[20,10],\"yaxis\":\"y\",\"type\":\"bar\"},{\"alignmentgroup\":\"True\",\"hovertemplate\":\"wine_name=Champagne\\u003cbr\\u003ekeywords=%{x}\\u003cbr\\u003etotal_user_count=%{y}\\u003cextra\\u003e\\u003c\\u002fextra\\u003e\",\"legendgroup\":\"Champagne\",\"marker\":{\"color\":\"#FFA15A\",\"pattern\":{\"shape\":\"\"}},\"name\":\"Champagne\",\"offsetgroup\":\"Champagne\",\"orientation\":\"v\",\"showlegend\":true,\"textposition\":\"auto\",\"x\":[\"toast\",\"cream\",\"citrus\"],\"xaxis\":\"x\",\"y\":[20,17,15],\"yaxis\":\"y\",\"type\":\"bar\"},{\"alignmentgroup\":\"True\",\"hovertemplate\":\"wine_name=Valdegines\\u003cbr\\u003ekeywords=%{x}\\u003cbr\\u003etotal_user_count=%{y}\\u003cextra\\u003e\\u003c\\u002fextra\\u003e\",\"legendgroup\":\"Valdegines\",\"marker\":{\"color\":\"#19d3f3\",\"pattern\":{\"shape\":\"\"}},\"name\":\"Valdegines\",\"offsetgroup\":\"Valdegines\",\"orientation\":\"v\",\"showlegend\":true,\"textposition\":\"auto\",\"x\":[\"coffee\"],\"xaxis\":\"x\",\"y\":[20],\"yaxis\":\"y\",\"type\":\"bar\"},{\"alignmentgroup\":\"True\",\"hovertemplate\":\"wine_name=6 Anime Puglia Rosso\\u003cbr\\u003ekeywords=%{x}\\u003cbr\\u003etotal_user_count=%{y}\\u003cextra\\u003e\\u003c\\u002fextra\\u003e\",\"legendgroup\":\"6 Anime Puglia Rosso\",\"marker\":{\"color\":\"#FF6692\",\"pattern\":{\"shape\":\"\"}},\"name\":\"6 Anime Puglia Rosso\",\"offsetgroup\":\"6 Anime Puglia Rosso\",\"orientation\":\"v\",\"showlegend\":true,\"textposition\":\"auto\",\"x\":[\"coffee\",\"toast\"],\"xaxis\":\"x\",\"y\":[20,10],\"yaxis\":\"y\",\"type\":\"bar\"},{\"alignmentgroup\":\"True\",\"hovertemplate\":\"wine_name=Toscana Bianco\\u003cbr\\u003ekeywords=%{x}\\u003cbr\\u003etotal_user_count=%{y}\\u003cextra\\u003e\\u003c\\u002fextra\\u003e\",\"legendgroup\":\"Toscana Bianco\",\"marker\":{\"color\":\"#B6E880\",\"pattern\":{\"shape\":\"\"}},\"name\":\"Toscana Bianco\",\"offsetgroup\":\"Toscana Bianco\",\"orientation\":\"v\",\"showlegend\":true,\"textposition\":\"auto\",\"x\":[\"citrus\",\"green apple\",\"cream\"],\"xaxis\":\"x\",\"y\":[20,16,12],\"yaxis\":\"y\",\"type\":\"bar\"},{\"alignmentgroup\":\"True\",\"hovertemplate\":\"wine_name=Altagracia Cabernet Sauvignon\\u003cbr\\u003ekeywords=%{x}\\u003cbr\\u003etotal_user_count=%{y}\\u003cextra\\u003e\\u003c\\u002fextra\\u003e\",\"legendgroup\":\"Altagracia Cabernet Sauvignon\",\"marker\":{\"color\":\"#FF97FF\",\"pattern\":{\"shape\":\"\"}},\"name\":\"Altagracia Cabernet Sauvignon\",\"offsetgroup\":\"Altagracia Cabernet Sauvignon\",\"orientation\":\"v\",\"showlegend\":true,\"textposition\":\"auto\",\"x\":[\"coffee\",\"toast\"],\"xaxis\":\"x\",\"y\":[20,12],\"yaxis\":\"y\",\"type\":\"bar\"},{\"alignmentgroup\":\"True\",\"hovertemplate\":\"wine_name=RWT Bin 798 Shiraz\\u003cbr\\u003ekeywords=%{x}\\u003cbr\\u003etotal_user_count=%{y}\\u003cextra\\u003e\\u003c\\u002fextra\\u003e\",\"legendgroup\":\"RWT Bin 798 Shiraz\",\"marker\":{\"color\":\"#FECB52\",\"pattern\":{\"shape\":\"\"}},\"name\":\"RWT Bin 798 Shiraz\",\"offsetgroup\":\"RWT Bin 798 Shiraz\",\"orientation\":\"v\",\"showlegend\":true,\"textposition\":\"auto\",\"x\":[\"coffee\"],\"xaxis\":\"x\",\"y\":[20],\"yaxis\":\"y\",\"type\":\"bar\"},{\"alignmentgroup\":\"True\",\"hovertemplate\":\"wine_name=Single Barrel Champagne Grand Cru 'Le Mesnil-sur-Oger'\\u003cbr\\u003ekeywords=%{x}\\u003cbr\\u003etotal_user_count=%{y}\\u003cextra\\u003e\\u003c\\u002fextra\\u003e\",\"legendgroup\":\"Single Barrel Champagne Grand Cru 'Le Mesnil-sur-Oger'\",\"marker\":{\"color\":\"#636efa\",\"pattern\":{\"shape\":\"\"}},\"name\":\"Single Barrel Champagne Grand Cru 'Le Mesnil-sur-Oger'\",\"offsetgroup\":\"Single Barrel Champagne Grand Cru 'Le Mesnil-sur-Oger'\",\"orientation\":\"v\",\"showlegend\":true,\"textposition\":\"auto\",\"x\":[\"toast\"],\"xaxis\":\"x\",\"y\":[20],\"yaxis\":\"y\",\"type\":\"bar\"},{\"alignmentgroup\":\"True\",\"hovertemplate\":\"wine_name=Merlot (Signature)\\u003cbr\\u003ekeywords=%{x}\\u003cbr\\u003etotal_user_count=%{y}\\u003cextra\\u003e\\u003c\\u002fextra\\u003e\",\"legendgroup\":\"Merlot (Signature)\",\"marker\":{\"color\":\"#EF553B\",\"pattern\":{\"shape\":\"\"}},\"name\":\"Merlot (Signature)\",\"offsetgroup\":\"Merlot (Signature)\",\"orientation\":\"v\",\"showlegend\":true,\"textposition\":\"auto\",\"x\":[\"coffee\",\"toast\"],\"xaxis\":\"x\",\"y\":[18,10],\"yaxis\":\"y\",\"type\":\"bar\"},{\"alignmentgroup\":\"True\",\"hovertemplate\":\"wine_name=Gran Reserva Ribera del Duero\\u003cbr\\u003ekeywords=%{x}\\u003cbr\\u003etotal_user_count=%{y}\\u003cextra\\u003e\\u003c\\u002fextra\\u003e\",\"legendgroup\":\"Gran Reserva Ribera del Duero\",\"marker\":{\"color\":\"#00cc96\",\"pattern\":{\"shape\":\"\"}},\"name\":\"Gran Reserva Ribera del Duero\",\"offsetgroup\":\"Gran Reserva Ribera del Duero\",\"orientation\":\"v\",\"showlegend\":true,\"textposition\":\"auto\",\"x\":[\"coffee\"],\"xaxis\":\"x\",\"y\":[18],\"yaxis\":\"y\",\"type\":\"bar\"},{\"alignmentgroup\":\"True\",\"hovertemplate\":\"wine_name=Barolo Rocche\\u003cbr\\u003ekeywords=%{x}\\u003cbr\\u003etotal_user_count=%{y}\\u003cextra\\u003e\\u003c\\u002fextra\\u003e\",\"legendgroup\":\"Barolo Rocche\",\"marker\":{\"color\":\"#ab63fa\",\"pattern\":{\"shape\":\"\"}},\"name\":\"Barolo Rocche\",\"offsetgroup\":\"Barolo Rocche\",\"orientation\":\"v\",\"showlegend\":true,\"textposition\":\"auto\",\"x\":[\"coffee\"],\"xaxis\":\"x\",\"y\":[18],\"yaxis\":\"y\",\"type\":\"bar\"},{\"alignmentgroup\":\"True\",\"hovertemplate\":\"wine_name=Ornato Barolo\\u003cbr\\u003ekeywords=%{x}\\u003cbr\\u003etotal_user_count=%{y}\\u003cextra\\u003e\\u003c\\u002fextra\\u003e\",\"legendgroup\":\"Ornato Barolo\",\"marker\":{\"color\":\"#FFA15A\",\"pattern\":{\"shape\":\"\"}},\"name\":\"Ornato Barolo\",\"offsetgroup\":\"Ornato Barolo\",\"orientation\":\"v\",\"showlegend\":true,\"textposition\":\"auto\",\"x\":[\"coffee\",\"toast\"],\"xaxis\":\"x\",\"y\":[18,14],\"yaxis\":\"y\",\"type\":\"bar\"},{\"alignmentgroup\":\"True\",\"hovertemplate\":\"wine_name=Sor\\u00ec Tild\\u00ecn (Barbaresco) Langhe\\u003cbr\\u003ekeywords=%{x}\\u003cbr\\u003etotal_user_count=%{y}\\u003cextra\\u003e\\u003c\\u002fextra\\u003e\",\"legendgroup\":\"Sor\\u00ec Tild\\u00ecn (Barbaresco) Langhe\",\"marker\":{\"color\":\"#19d3f3\",\"pattern\":{\"shape\":\"\"}},\"name\":\"Sor\\u00ec Tild\\u00ecn (Barbaresco) Langhe\",\"offsetgroup\":\"Sor\\u00ec Tild\\u00ecn (Barbaresco) Langhe\",\"orientation\":\"v\",\"showlegend\":true,\"textposition\":\"auto\",\"x\":[\"coffee\",\"toast\"],\"xaxis\":\"x\",\"y\":[18,14],\"yaxis\":\"y\",\"type\":\"bar\"},{\"alignmentgroup\":\"True\",\"hovertemplate\":\"wine_name=Puligny-Montrachet Premier Cru Champ-Canet\\u003cbr\\u003ekeywords=%{x}\\u003cbr\\u003etotal_user_count=%{y}\\u003cextra\\u003e\\u003c\\u002fextra\\u003e\",\"legendgroup\":\"Puligny-Montrachet Premier Cru Champ-Canet\",\"marker\":{\"color\":\"#FF6692\",\"pattern\":{\"shape\":\"\"}},\"name\":\"Puligny-Montrachet Premier Cru Champ-Canet\",\"offsetgroup\":\"Puligny-Montrachet Premier Cru Champ-Canet\",\"orientation\":\"v\",\"showlegend\":true,\"textposition\":\"auto\",\"x\":[\"citrus\",\"toast\",\"cream\"],\"xaxis\":\"x\",\"y\":[18,18,16],\"yaxis\":\"y\",\"type\":\"bar\"},{\"alignmentgroup\":\"True\",\"hovertemplate\":\"wine_name=Brunate  Barolo\\u003cbr\\u003ekeywords=%{x}\\u003cbr\\u003etotal_user_count=%{y}\\u003cextra\\u003e\\u003c\\u002fextra\\u003e\",\"legendgroup\":\"Brunate  Barolo\",\"marker\":{\"color\":\"#B6E880\",\"pattern\":{\"shape\":\"\"}},\"name\":\"Brunate  Barolo\",\"offsetgroup\":\"Brunate  Barolo\",\"orientation\":\"v\",\"showlegend\":true,\"textposition\":\"auto\",\"x\":[\"coffee\"],\"xaxis\":\"x\",\"y\":[18],\"yaxis\":\"y\",\"type\":\"bar\"},{\"alignmentgroup\":\"True\",\"hovertemplate\":\"wine_name=Finca Bella Vista Malbec\\u003cbr\\u003ekeywords=%{x}\\u003cbr\\u003etotal_user_count=%{y}\\u003cextra\\u003e\\u003c\\u002fextra\\u003e\",\"legendgroup\":\"Finca Bella Vista Malbec\",\"marker\":{\"color\":\"#FF97FF\",\"pattern\":{\"shape\":\"\"}},\"name\":\"Finca Bella Vista Malbec\",\"offsetgroup\":\"Finca Bella Vista Malbec\",\"orientation\":\"v\",\"showlegend\":true,\"textposition\":\"auto\",\"x\":[\"coffee\",\"toast\"],\"xaxis\":\"x\",\"y\":[18,12],\"yaxis\":\"y\",\"type\":\"bar\"},{\"alignmentgroup\":\"True\",\"hovertemplate\":\"wine_name=V Red\\u003cbr\\u003ekeywords=%{x}\\u003cbr\\u003etotal_user_count=%{y}\\u003cextra\\u003e\\u003c\\u002fextra\\u003e\",\"legendgroup\":\"V Red\",\"marker\":{\"color\":\"#FECB52\",\"pattern\":{\"shape\":\"\"}},\"name\":\"V Red\",\"offsetgroup\":\"V Red\",\"orientation\":\"v\",\"showlegend\":true,\"textposition\":\"auto\",\"x\":[\"coffee\"],\"xaxis\":\"x\",\"y\":[18],\"yaxis\":\"y\",\"type\":\"bar\"},{\"alignmentgroup\":\"True\",\"hovertemplate\":\"wine_name=Lodovico\\u003cbr\\u003ekeywords=%{x}\\u003cbr\\u003etotal_user_count=%{y}\\u003cextra\\u003e\\u003c\\u002fextra\\u003e\",\"legendgroup\":\"Lodovico\",\"marker\":{\"color\":\"#636efa\",\"pattern\":{\"shape\":\"\"}},\"name\":\"Lodovico\",\"offsetgroup\":\"Lodovico\",\"orientation\":\"v\",\"showlegend\":true,\"textposition\":\"auto\",\"x\":[\"coffee\"],\"xaxis\":\"x\",\"y\":[18],\"yaxis\":\"y\",\"type\":\"bar\"},{\"alignmentgroup\":\"True\",\"hovertemplate\":\"wine_name=Espor\\u00e3o Private Selection Tinto\\u003cbr\\u003ekeywords=%{x}\\u003cbr\\u003etotal_user_count=%{y}\\u003cextra\\u003e\\u003c\\u002fextra\\u003e\",\"legendgroup\":\"Espor\\u00e3o Private Selection Tinto\",\"marker\":{\"color\":\"#EF553B\",\"pattern\":{\"shape\":\"\"}},\"name\":\"Espor\\u00e3o Private Selection Tinto\",\"offsetgroup\":\"Espor\\u00e3o Private Selection Tinto\",\"orientation\":\"v\",\"showlegend\":true,\"textposition\":\"auto\",\"x\":[\"toast\",\"coffee\"],\"xaxis\":\"x\",\"y\":[18,12],\"yaxis\":\"y\",\"type\":\"bar\"},{\"alignmentgroup\":\"True\",\"hovertemplate\":\"wine_name=Reserve\\u003cbr\\u003ekeywords=%{x}\\u003cbr\\u003etotal_user_count=%{y}\\u003cextra\\u003e\\u003c\\u002fextra\\u003e\",\"legendgroup\":\"Reserve\",\"marker\":{\"color\":\"#00cc96\",\"pattern\":{\"shape\":\"\"}},\"name\":\"Reserve\",\"offsetgroup\":\"Reserve\",\"orientation\":\"v\",\"showlegend\":true,\"textposition\":\"auto\",\"x\":[\"coffee\"],\"xaxis\":\"x\",\"y\":[18],\"yaxis\":\"y\",\"type\":\"bar\"},{\"alignmentgroup\":\"True\",\"hovertemplate\":\"wine_name=Amour de Deutz Millesim\\u00e9 Ros\\u00e9 Brut Champagne\\u003cbr\\u003ekeywords=%{x}\\u003cbr\\u003etotal_user_count=%{y}\\u003cextra\\u003e\\u003c\\u002fextra\\u003e\",\"legendgroup\":\"Amour de Deutz Millesim\\u00e9 Ros\\u00e9 Brut Champagne\",\"marker\":{\"color\":\"#ab63fa\",\"pattern\":{\"shape\":\"\"}},\"name\":\"Amour de Deutz Millesim\\u00e9 Ros\\u00e9 Brut Champagne\",\"offsetgroup\":\"Amour de Deutz Millesim\\u00e9 Ros\\u00e9 Brut Champagne\",\"orientation\":\"v\",\"showlegend\":true,\"textposition\":\"auto\",\"x\":[\"cream\",\"toast\",\"citrus\"],\"xaxis\":\"x\",\"y\":[18,18,13],\"yaxis\":\"y\",\"type\":\"bar\"},{\"alignmentgroup\":\"True\",\"hovertemplate\":\"wine_name=Fieramonte Amarone della Valpolicella Riserva\\u003cbr\\u003ekeywords=%{x}\\u003cbr\\u003etotal_user_count=%{y}\\u003cextra\\u003e\\u003c\\u002fextra\\u003e\",\"legendgroup\":\"Fieramonte Amarone della Valpolicella Riserva\",\"marker\":{\"color\":\"#FFA15A\",\"pattern\":{\"shape\":\"\"}},\"name\":\"Fieramonte Amarone della Valpolicella Riserva\",\"offsetgroup\":\"Fieramonte Amarone della Valpolicella Riserva\",\"orientation\":\"v\",\"showlegend\":true,\"textposition\":\"auto\",\"x\":[\"coffee\"],\"xaxis\":\"x\",\"y\":[18],\"yaxis\":\"y\",\"type\":\"bar\"},{\"alignmentgroup\":\"True\",\"hovertemplate\":\"wine_name=Gew\\u00fcrztraminer Lunare\\u003cbr\\u003ekeywords=%{x}\\u003cbr\\u003etotal_user_count=%{y}\\u003cextra\\u003e\\u003c\\u002fextra\\u003e\",\"legendgroup\":\"Gew\\u00fcrztraminer Lunare\",\"marker\":{\"color\":\"#19d3f3\",\"pattern\":{\"shape\":\"\"}},\"name\":\"Gew\\u00fcrztraminer Lunare\",\"offsetgroup\":\"Gew\\u00fcrztraminer Lunare\",\"orientation\":\"v\",\"showlegend\":true,\"textposition\":\"auto\",\"x\":[\"citrus\"],\"xaxis\":\"x\",\"y\":[17],\"yaxis\":\"y\",\"type\":\"bar\"},{\"alignmentgroup\":\"True\",\"hovertemplate\":\"wine_name=Bienvenues-B\\u00e2tard-Montrachet Grand Cru\\u003cbr\\u003ekeywords=%{x}\\u003cbr\\u003etotal_user_count=%{y}\\u003cextra\\u003e\\u003c\\u002fextra\\u003e\",\"legendgroup\":\"Bienvenues-B\\u00e2tard-Montrachet Grand Cru\",\"marker\":{\"color\":\"#FF6692\",\"pattern\":{\"shape\":\"\"}},\"name\":\"Bienvenues-B\\u00e2tard-Montrachet Grand Cru\",\"offsetgroup\":\"Bienvenues-B\\u00e2tard-Montrachet Grand Cru\",\"orientation\":\"v\",\"showlegend\":true,\"textposition\":\"auto\",\"x\":[\"citrus\",\"toast\"],\"xaxis\":\"x\",\"y\":[17,12],\"yaxis\":\"y\",\"type\":\"bar\"},{\"alignmentgroup\":\"True\",\"hovertemplate\":\"wine_name=Hyde Vineyard Chardonnay\\u003cbr\\u003ekeywords=%{x}\\u003cbr\\u003etotal_user_count=%{y}\\u003cextra\\u003e\\u003c\\u002fextra\\u003e\",\"legendgroup\":\"Hyde Vineyard Chardonnay\",\"marker\":{\"color\":\"#B6E880\",\"pattern\":{\"shape\":\"\"}},\"name\":\"Hyde Vineyard Chardonnay\",\"offsetgroup\":\"Hyde Vineyard Chardonnay\",\"orientation\":\"v\",\"showlegend\":true,\"textposition\":\"auto\",\"x\":[\"citrus\"],\"xaxis\":\"x\",\"y\":[17],\"yaxis\":\"y\",\"type\":\"bar\"},{\"alignmentgroup\":\"True\",\"hovertemplate\":\"wine_name=Altura\\u003cbr\\u003ekeywords=%{x}\\u003cbr\\u003etotal_user_count=%{y}\\u003cextra\\u003e\\u003c\\u002fextra\\u003e\",\"legendgroup\":\"Altura\",\"marker\":{\"color\":\"#FF97FF\",\"pattern\":{\"shape\":\"\"}},\"name\":\"Altura\",\"offsetgroup\":\"Altura\",\"orientation\":\"v\",\"showlegend\":true,\"textposition\":\"auto\",\"x\":[\"coffee\"],\"xaxis\":\"x\",\"y\":[16],\"yaxis\":\"y\",\"type\":\"bar\"},{\"alignmentgroup\":\"True\",\"hovertemplate\":\"wine_name=Carruades de Lafite Pauillac\\u003cbr\\u003ekeywords=%{x}\\u003cbr\\u003etotal_user_count=%{y}\\u003cextra\\u003e\\u003c\\u002fextra\\u003e\",\"legendgroup\":\"Carruades de Lafite Pauillac\",\"marker\":{\"color\":\"#FECB52\",\"pattern\":{\"shape\":\"\"}},\"name\":\"Carruades de Lafite Pauillac\",\"offsetgroup\":\"Carruades de Lafite Pauillac\",\"orientation\":\"v\",\"showlegend\":true,\"textposition\":\"auto\",\"x\":[\"coffee\",\"toast\",\"cream\"],\"xaxis\":\"x\",\"y\":[16,12,11],\"yaxis\":\"y\",\"type\":\"bar\"},{\"alignmentgroup\":\"True\",\"hovertemplate\":\"wine_name=Ermitage Ex-Voto\\u003cbr\\u003ekeywords=%{x}\\u003cbr\\u003etotal_user_count=%{y}\\u003cextra\\u003e\\u003c\\u002fextra\\u003e\",\"legendgroup\":\"Ermitage Ex-Voto\",\"marker\":{\"color\":\"#636efa\",\"pattern\":{\"shape\":\"\"}},\"name\":\"Ermitage Ex-Voto\",\"offsetgroup\":\"Ermitage Ex-Voto\",\"orientation\":\"v\",\"showlegend\":true,\"textposition\":\"auto\",\"x\":[\"coffee\"],\"xaxis\":\"x\",\"y\":[16],\"yaxis\":\"y\",\"type\":\"bar\"},{\"alignmentgroup\":\"True\",\"hovertemplate\":\"wine_name=Bramare Marchiori Vineyard Malbec\\u003cbr\\u003ekeywords=%{x}\\u003cbr\\u003etotal_user_count=%{y}\\u003cextra\\u003e\\u003c\\u002fextra\\u003e\",\"legendgroup\":\"Bramare Marchiori Vineyard Malbec\",\"marker\":{\"color\":\"#EF553B\",\"pattern\":{\"shape\":\"\"}},\"name\":\"Bramare Marchiori Vineyard Malbec\",\"offsetgroup\":\"Bramare Marchiori Vineyard Malbec\",\"orientation\":\"v\",\"showlegend\":true,\"textposition\":\"auto\",\"x\":[\"coffee\",\"toast\"],\"xaxis\":\"x\",\"y\":[16,12],\"yaxis\":\"y\",\"type\":\"bar\"},{\"alignmentgroup\":\"True\",\"hovertemplate\":\"wine_name=Darmagi Langhe\\u003cbr\\u003ekeywords=%{x}\\u003cbr\\u003etotal_user_count=%{y}\\u003cextra\\u003e\\u003c\\u002fextra\\u003e\",\"legendgroup\":\"Darmagi Langhe\",\"marker\":{\"color\":\"#00cc96\",\"pattern\":{\"shape\":\"\"}},\"name\":\"Darmagi Langhe\",\"offsetgroup\":\"Darmagi Langhe\",\"orientation\":\"v\",\"showlegend\":true,\"textposition\":\"auto\",\"x\":[\"coffee\"],\"xaxis\":\"x\",\"y\":[16],\"yaxis\":\"y\",\"type\":\"bar\"},{\"alignmentgroup\":\"True\",\"hovertemplate\":\"wine_name=Barolo Riserva Villero\\u003cbr\\u003ekeywords=%{x}\\u003cbr\\u003etotal_user_count=%{y}\\u003cextra\\u003e\\u003c\\u002fextra\\u003e\",\"legendgroup\":\"Barolo Riserva Villero\",\"marker\":{\"color\":\"#ab63fa\",\"pattern\":{\"shape\":\"\"}},\"name\":\"Barolo Riserva Villero\",\"offsetgroup\":\"Barolo Riserva Villero\",\"orientation\":\"v\",\"showlegend\":true,\"textposition\":\"auto\",\"x\":[\"coffee\"],\"xaxis\":\"x\",\"y\":[16],\"yaxis\":\"y\",\"type\":\"bar\"},{\"alignmentgroup\":\"True\",\"hovertemplate\":\"wine_name=Montrachet Grand Cru\\u003cbr\\u003ekeywords=%{x}\\u003cbr\\u003etotal_user_count=%{y}\\u003cextra\\u003e\\u003c\\u002fextra\\u003e\",\"legendgroup\":\"Montrachet Grand Cru\",\"marker\":{\"color\":\"#FFA15A\",\"pattern\":{\"shape\":\"\"}},\"name\":\"Montrachet Grand Cru\",\"offsetgroup\":\"Montrachet Grand Cru\",\"orientation\":\"v\",\"showlegend\":true,\"textposition\":\"auto\",\"x\":[\"citrus\",\"citrus\"],\"xaxis\":\"x\",\"y\":[16,13],\"yaxis\":\"y\",\"type\":\"bar\"},{\"alignmentgroup\":\"True\",\"hovertemplate\":\"wine_name=Barolo Riserva Monfortino\\u003cbr\\u003ekeywords=%{x}\\u003cbr\\u003etotal_user_count=%{y}\\u003cextra\\u003e\\u003c\\u002fextra\\u003e\",\"legendgroup\":\"Barolo Riserva Monfortino\",\"marker\":{\"color\":\"#19d3f3\",\"pattern\":{\"shape\":\"\"}},\"name\":\"Barolo Riserva Monfortino\",\"offsetgroup\":\"Barolo Riserva Monfortino\",\"orientation\":\"v\",\"showlegend\":true,\"textposition\":\"auto\",\"x\":[\"coffee\"],\"xaxis\":\"x\",\"y\":[16],\"yaxis\":\"y\",\"type\":\"bar\"},{\"alignmentgroup\":\"True\",\"hovertemplate\":\"wine_name=Clos de la Roche Grand Cru Cuv\\u00e9e Vieilles Vignes\\u003cbr\\u003ekeywords=%{x}\\u003cbr\\u003etotal_user_count=%{y}\\u003cextra\\u003e\\u003c\\u002fextra\\u003e\",\"legendgroup\":\"Clos de la Roche Grand Cru Cuv\\u00e9e Vieilles Vignes\",\"marker\":{\"color\":\"#FF6692\",\"pattern\":{\"shape\":\"\"}},\"name\":\"Clos de la Roche Grand Cru Cuv\\u00e9e Vieilles Vignes\",\"offsetgroup\":\"Clos de la Roche Grand Cru Cuv\\u00e9e Vieilles Vignes\",\"orientation\":\"v\",\"showlegend\":true,\"textposition\":\"auto\",\"x\":[\"toast\",\"coffee\"],\"xaxis\":\"x\",\"y\":[16,10],\"yaxis\":\"y\",\"type\":\"bar\"},{\"alignmentgroup\":\"True\",\"hovertemplate\":\"wine_name=La Nieta\\u003cbr\\u003ekeywords=%{x}\\u003cbr\\u003etotal_user_count=%{y}\\u003cextra\\u003e\\u003c\\u002fextra\\u003e\",\"legendgroup\":\"La Nieta\",\"marker\":{\"color\":\"#B6E880\",\"pattern\":{\"shape\":\"\"}},\"name\":\"La Nieta\",\"offsetgroup\":\"La Nieta\",\"orientation\":\"v\",\"showlegend\":true,\"textposition\":\"auto\",\"x\":[\"toast\",\"coffee\"],\"xaxis\":\"x\",\"y\":[16,14],\"yaxis\":\"y\",\"type\":\"bar\"},{\"alignmentgroup\":\"True\",\"hovertemplate\":\"wine_name=Old Vines Primitivo di Manduria\\u003cbr\\u003ekeywords=%{x}\\u003cbr\\u003etotal_user_count=%{y}\\u003cextra\\u003e\\u003c\\u002fextra\\u003e\",\"legendgroup\":\"Old Vines Primitivo di Manduria\",\"marker\":{\"color\":\"#FF97FF\",\"pattern\":{\"shape\":\"\"}},\"name\":\"Old Vines Primitivo di Manduria\",\"offsetgroup\":\"Old Vines Primitivo di Manduria\",\"orientation\":\"v\",\"showlegend\":true,\"textposition\":\"auto\",\"x\":[\"coffee\"],\"xaxis\":\"x\",\"y\":[16],\"yaxis\":\"y\",\"type\":\"bar\"},{\"alignmentgroup\":\"True\",\"hovertemplate\":\"wine_name=L'Amarone del Maestro Fornaser\\u003cbr\\u003ekeywords=%{x}\\u003cbr\\u003etotal_user_count=%{y}\\u003cextra\\u003e\\u003c\\u002fextra\\u003e\",\"legendgroup\":\"L'Amarone del Maestro Fornaser\",\"marker\":{\"color\":\"#FECB52\",\"pattern\":{\"shape\":\"\"}},\"name\":\"L'Amarone del Maestro Fornaser\",\"offsetgroup\":\"L'Amarone del Maestro Fornaser\",\"orientation\":\"v\",\"showlegend\":true,\"textposition\":\"auto\",\"x\":[\"coffee\"],\"xaxis\":\"x\",\"y\":[16],\"yaxis\":\"y\",\"type\":\"bar\"},{\"alignmentgroup\":\"True\",\"hovertemplate\":\"wine_name=Barolo Monprivato\\u003cbr\\u003ekeywords=%{x}\\u003cbr\\u003etotal_user_count=%{y}\\u003cextra\\u003e\\u003c\\u002fextra\\u003e\",\"legendgroup\":\"Barolo Monprivato\",\"marker\":{\"color\":\"#636efa\",\"pattern\":{\"shape\":\"\"}},\"name\":\"Barolo Monprivato\",\"offsetgroup\":\"Barolo Monprivato\",\"orientation\":\"v\",\"showlegend\":true,\"textposition\":\"auto\",\"x\":[\"coffee\"],\"xaxis\":\"x\",\"y\":[16],\"yaxis\":\"y\",\"type\":\"bar\"},{\"alignmentgroup\":\"True\",\"hovertemplate\":\"wine_name=Vigneto Bellavista Chianti Classico\\u003cbr\\u003ekeywords=%{x}\\u003cbr\\u003etotal_user_count=%{y}\\u003cextra\\u003e\\u003c\\u002fextra\\u003e\",\"legendgroup\":\"Vigneto Bellavista Chianti Classico\",\"marker\":{\"color\":\"#EF553B\",\"pattern\":{\"shape\":\"\"}},\"name\":\"Vigneto Bellavista Chianti Classico\",\"offsetgroup\":\"Vigneto Bellavista Chianti Classico\",\"orientation\":\"v\",\"showlegend\":true,\"textposition\":\"auto\",\"x\":[\"coffee\"],\"xaxis\":\"x\",\"y\":[16],\"yaxis\":\"y\",\"type\":\"bar\"},{\"alignmentgroup\":\"True\",\"hovertemplate\":\"wine_name=Arborina Barolo\\u003cbr\\u003ekeywords=%{x}\\u003cbr\\u003etotal_user_count=%{y}\\u003cextra\\u003e\\u003c\\u002fextra\\u003e\",\"legendgroup\":\"Arborina Barolo\",\"marker\":{\"color\":\"#00cc96\",\"pattern\":{\"shape\":\"\"}},\"name\":\"Arborina Barolo\",\"offsetgroup\":\"Arborina Barolo\",\"orientation\":\"v\",\"showlegend\":true,\"textposition\":\"auto\",\"x\":[\"coffee\"],\"xaxis\":\"x\",\"y\":[16],\"yaxis\":\"y\",\"type\":\"bar\"},{\"alignmentgroup\":\"True\",\"hovertemplate\":\"wine_name=V\\u00fcrs\\u00f9 Barbaresco Gallina\\u003cbr\\u003ekeywords=%{x}\\u003cbr\\u003etotal_user_count=%{y}\\u003cextra\\u003e\\u003c\\u002fextra\\u003e\",\"legendgroup\":\"V\\u00fcrs\\u00f9 Barbaresco Gallina\",\"marker\":{\"color\":\"#ab63fa\",\"pattern\":{\"shape\":\"\"}},\"name\":\"V\\u00fcrs\\u00f9 Barbaresco Gallina\",\"offsetgroup\":\"V\\u00fcrs\\u00f9 Barbaresco Gallina\",\"orientation\":\"v\",\"showlegend\":true,\"textposition\":\"auto\",\"x\":[\"coffee\"],\"xaxis\":\"x\",\"y\":[16],\"yaxis\":\"y\",\"type\":\"bar\"},{\"alignmentgroup\":\"True\",\"hovertemplate\":\"wine_name=Barolo Bussia Cicala\\u003cbr\\u003ekeywords=%{x}\\u003cbr\\u003etotal_user_count=%{y}\\u003cextra\\u003e\\u003c\\u002fextra\\u003e\",\"legendgroup\":\"Barolo Bussia Cicala\",\"marker\":{\"color\":\"#FFA15A\",\"pattern\":{\"shape\":\"\"}},\"name\":\"Barolo Bussia Cicala\",\"offsetgroup\":\"Barolo Bussia Cicala\",\"orientation\":\"v\",\"showlegend\":true,\"textposition\":\"auto\",\"x\":[\"coffee\"],\"xaxis\":\"x\",\"y\":[16],\"yaxis\":\"y\",\"type\":\"bar\"},{\"alignmentgroup\":\"True\",\"hovertemplate\":\"wine_name=Memorias\\u003cbr\\u003ekeywords=%{x}\\u003cbr\\u003etotal_user_count=%{y}\\u003cextra\\u003e\\u003c\\u002fextra\\u003e\",\"legendgroup\":\"Memorias\",\"marker\":{\"color\":\"#19d3f3\",\"pattern\":{\"shape\":\"\"}},\"name\":\"Memorias\",\"offsetgroup\":\"Memorias\",\"orientation\":\"v\",\"showlegend\":true,\"textposition\":\"auto\",\"x\":[\"coffee\"],\"xaxis\":\"x\",\"y\":[16],\"yaxis\":\"y\",\"type\":\"bar\"},{\"alignmentgroup\":\"True\",\"hovertemplate\":\"wine_name=Lion Tamer Napa Valley Red Blend\\u003cbr\\u003ekeywords=%{x}\\u003cbr\\u003etotal_user_count=%{y}\\u003cextra\\u003e\\u003c\\u002fextra\\u003e\",\"legendgroup\":\"Lion Tamer Napa Valley Red Blend\",\"marker\":{\"color\":\"#FF6692\",\"pattern\":{\"shape\":\"\"}},\"name\":\"Lion Tamer Napa Valley Red Blend\",\"offsetgroup\":\"Lion Tamer Napa Valley Red Blend\",\"orientation\":\"v\",\"showlegend\":true,\"textposition\":\"auto\",\"x\":[\"cream\",\"coffee\"],\"xaxis\":\"x\",\"y\":[16,10],\"yaxis\":\"y\",\"type\":\"bar\"},{\"alignmentgroup\":\"True\",\"hovertemplate\":\"wine_name=Valmezzane Amarone della Valpolicella\\u003cbr\\u003ekeywords=%{x}\\u003cbr\\u003etotal_user_count=%{y}\\u003cextra\\u003e\\u003c\\u002fextra\\u003e\",\"legendgroup\":\"Valmezzane Amarone della Valpolicella\",\"marker\":{\"color\":\"#B6E880\",\"pattern\":{\"shape\":\"\"}},\"name\":\"Valmezzane Amarone della Valpolicella\",\"offsetgroup\":\"Valmezzane Amarone della Valpolicella\",\"orientation\":\"v\",\"showlegend\":true,\"textposition\":\"auto\",\"x\":[\"coffee\"],\"xaxis\":\"x\",\"y\":[16],\"yaxis\":\"y\",\"type\":\"bar\"},{\"alignmentgroup\":\"True\",\"hovertemplate\":\"wine_name=Montrachet Grand Cru Blanc\\u003cbr\\u003ekeywords=%{x}\\u003cbr\\u003etotal_user_count=%{y}\\u003cextra\\u003e\\u003c\\u002fextra\\u003e\",\"legendgroup\":\"Montrachet Grand Cru Blanc\",\"marker\":{\"color\":\"#FF97FF\",\"pattern\":{\"shape\":\"\"}},\"name\":\"Montrachet Grand Cru Blanc\",\"offsetgroup\":\"Montrachet Grand Cru Blanc\",\"orientation\":\"v\",\"showlegend\":true,\"textposition\":\"auto\",\"x\":[\"citrus\"],\"xaxis\":\"x\",\"y\":[15],\"yaxis\":\"y\",\"type\":\"bar\"},{\"alignmentgroup\":\"True\",\"hovertemplate\":\"wine_name=Chloe Chardonnay\\u003cbr\\u003ekeywords=%{x}\\u003cbr\\u003etotal_user_count=%{y}\\u003cextra\\u003e\\u003c\\u002fextra\\u003e\",\"legendgroup\":\"Chloe Chardonnay\",\"marker\":{\"color\":\"#FECB52\",\"pattern\":{\"shape\":\"\"}},\"name\":\"Chloe Chardonnay\",\"offsetgroup\":\"Chloe Chardonnay\",\"orientation\":\"v\",\"showlegend\":true,\"textposition\":\"auto\",\"x\":[\"cream\",\"citrus\"],\"xaxis\":\"x\",\"y\":[15,13],\"yaxis\":\"y\",\"type\":\"bar\"},{\"alignmentgroup\":\"True\",\"hovertemplate\":\"wine_name=V\\u00fcrs\\u00f9 Barbaresco Valeirano\\u003cbr\\u003ekeywords=%{x}\\u003cbr\\u003etotal_user_count=%{y}\\u003cextra\\u003e\\u003c\\u002fextra\\u003e\",\"legendgroup\":\"V\\u00fcrs\\u00f9 Barbaresco Valeirano\",\"marker\":{\"color\":\"#636efa\",\"pattern\":{\"shape\":\"\"}},\"name\":\"V\\u00fcrs\\u00f9 Barbaresco Valeirano\",\"offsetgroup\":\"V\\u00fcrs\\u00f9 Barbaresco Valeirano\",\"orientation\":\"v\",\"showlegend\":true,\"textposition\":\"auto\",\"x\":[\"toast\"],\"xaxis\":\"x\",\"y\":[14],\"yaxis\":\"y\",\"type\":\"bar\"},{\"alignmentgroup\":\"True\",\"hovertemplate\":\"wine_name=Barolo Ginestra Vigna del Gris\\u003cbr\\u003ekeywords=%{x}\\u003cbr\\u003etotal_user_count=%{y}\\u003cextra\\u003e\\u003c\\u002fextra\\u003e\",\"legendgroup\":\"Barolo Ginestra Vigna del Gris\",\"marker\":{\"color\":\"#EF553B\",\"pattern\":{\"shape\":\"\"}},\"name\":\"Barolo Ginestra Vigna del Gris\",\"offsetgroup\":\"Barolo Ginestra Vigna del Gris\",\"orientation\":\"v\",\"showlegend\":true,\"textposition\":\"auto\",\"x\":[\"coffee\"],\"xaxis\":\"x\",\"y\":[14],\"yaxis\":\"y\",\"type\":\"bar\"},{\"alignmentgroup\":\"True\",\"hovertemplate\":\"wine_name=La Ricolma\\u003cbr\\u003ekeywords=%{x}\\u003cbr\\u003etotal_user_count=%{y}\\u003cextra\\u003e\\u003c\\u002fextra\\u003e\",\"legendgroup\":\"La Ricolma\",\"marker\":{\"color\":\"#00cc96\",\"pattern\":{\"shape\":\"\"}},\"name\":\"La Ricolma\",\"offsetgroup\":\"La Ricolma\",\"orientation\":\"v\",\"showlegend\":true,\"textposition\":\"auto\",\"x\":[\"coffee\"],\"xaxis\":\"x\",\"y\":[14],\"yaxis\":\"y\",\"type\":\"bar\"},{\"alignmentgroup\":\"True\",\"hovertemplate\":\"wine_name=Cuv\\u00e9e Imp\\u00e9riale Ch\\u00e2teauneuf-du-Pape\\u003cbr\\u003ekeywords=%{x}\\u003cbr\\u003etotal_user_count=%{y}\\u003cextra\\u003e\\u003c\\u002fextra\\u003e\",\"legendgroup\":\"Cuv\\u00e9e Imp\\u00e9riale Ch\\u00e2teauneuf-du-Pape\",\"marker\":{\"color\":\"#ab63fa\",\"pattern\":{\"shape\":\"\"}},\"name\":\"Cuv\\u00e9e Imp\\u00e9riale Ch\\u00e2teauneuf-du-Pape\",\"offsetgroup\":\"Cuv\\u00e9e Imp\\u00e9riale Ch\\u00e2teauneuf-du-Pape\",\"orientation\":\"v\",\"showlegend\":true,\"textposition\":\"auto\",\"x\":[\"coffee\"],\"xaxis\":\"x\",\"y\":[14],\"yaxis\":\"y\",\"type\":\"bar\"},{\"alignmentgroup\":\"True\",\"hovertemplate\":\"wine_name=Saint-Joseph\\u003cbr\\u003ekeywords=%{x}\\u003cbr\\u003etotal_user_count=%{y}\\u003cextra\\u003e\\u003c\\u002fextra\\u003e\",\"legendgroup\":\"Saint-Joseph\",\"marker\":{\"color\":\"#FFA15A\",\"pattern\":{\"shape\":\"\"}},\"name\":\"Saint-Joseph\",\"offsetgroup\":\"Saint-Joseph\",\"orientation\":\"v\",\"showlegend\":true,\"textposition\":\"auto\",\"x\":[\"coffee\",\"toast\"],\"xaxis\":\"x\",\"y\":[14,12],\"yaxis\":\"y\",\"type\":\"bar\"},{\"alignmentgroup\":\"True\",\"hovertemplate\":\"wine_name=Chateauneuf-du-Pape R\\u00e9serve des C\\u00e9lestins\\u003cbr\\u003ekeywords=%{x}\\u003cbr\\u003etotal_user_count=%{y}\\u003cextra\\u003e\\u003c\\u002fextra\\u003e\",\"legendgroup\":\"Chateauneuf-du-Pape R\\u00e9serve des C\\u00e9lestins\",\"marker\":{\"color\":\"#19d3f3\",\"pattern\":{\"shape\":\"\"}},\"name\":\"Chateauneuf-du-Pape R\\u00e9serve des C\\u00e9lestins\",\"offsetgroup\":\"Chateauneuf-du-Pape R\\u00e9serve des C\\u00e9lestins\",\"orientation\":\"v\",\"showlegend\":true,\"textposition\":\"auto\",\"x\":[\"coffee\"],\"xaxis\":\"x\",\"y\":[14],\"yaxis\":\"y\",\"type\":\"bar\"},{\"alignmentgroup\":\"True\",\"hovertemplate\":\"wine_name=Cuv\\u00e9e des Cadettes Ch\\u00e2teauneuf-du-Pape\\u003cbr\\u003ekeywords=%{x}\\u003cbr\\u003etotal_user_count=%{y}\\u003cextra\\u003e\\u003c\\u002fextra\\u003e\",\"legendgroup\":\"Cuv\\u00e9e des Cadettes Ch\\u00e2teauneuf-du-Pape\",\"marker\":{\"color\":\"#FF6692\",\"pattern\":{\"shape\":\"\"}},\"name\":\"Cuv\\u00e9e des Cadettes Ch\\u00e2teauneuf-du-Pape\",\"offsetgroup\":\"Cuv\\u00e9e des Cadettes Ch\\u00e2teauneuf-du-Pape\",\"orientation\":\"v\",\"showlegend\":true,\"textposition\":\"auto\",\"x\":[\"coffee\"],\"xaxis\":\"x\",\"y\":[14],\"yaxis\":\"y\",\"type\":\"bar\"},{\"alignmentgroup\":\"True\",\"hovertemplate\":\"wine_name=Madonna delle Grazie Brunello di Montalcino\\u003cbr\\u003ekeywords=%{x}\\u003cbr\\u003etotal_user_count=%{y}\\u003cextra\\u003e\\u003c\\u002fextra\\u003e\",\"legendgroup\":\"Madonna delle Grazie Brunello di Montalcino\",\"marker\":{\"color\":\"#B6E880\",\"pattern\":{\"shape\":\"\"}},\"name\":\"Madonna delle Grazie Brunello di Montalcino\",\"offsetgroup\":\"Madonna delle Grazie Brunello di Montalcino\",\"orientation\":\"v\",\"showlegend\":true,\"textposition\":\"auto\",\"x\":[\"coffee\"],\"xaxis\":\"x\",\"y\":[14],\"yaxis\":\"y\",\"type\":\"bar\"},{\"alignmentgroup\":\"True\",\"hovertemplate\":\"wine_name=Aquilon Garnacha\\u003cbr\\u003ekeywords=%{x}\\u003cbr\\u003etotal_user_count=%{y}\\u003cextra\\u003e\\u003c\\u002fextra\\u003e\",\"legendgroup\":\"Aquilon Garnacha\",\"marker\":{\"color\":\"#FF97FF\",\"pattern\":{\"shape\":\"\"}},\"name\":\"Aquilon Garnacha\",\"offsetgroup\":\"Aquilon Garnacha\",\"orientation\":\"v\",\"showlegend\":true,\"textposition\":\"auto\",\"x\":[\"coffee\"],\"xaxis\":\"x\",\"y\":[14],\"yaxis\":\"y\",\"type\":\"bar\"},{\"alignmentgroup\":\"True\",\"hovertemplate\":\"wine_name=R\\u00e9serve C\\u00f4tes-du-Rh\\u00f4ne\\u003cbr\\u003ekeywords=%{x}\\u003cbr\\u003etotal_user_count=%{y}\\u003cextra\\u003e\\u003c\\u002fextra\\u003e\",\"legendgroup\":\"R\\u00e9serve C\\u00f4tes-du-Rh\\u00f4ne\",\"marker\":{\"color\":\"#FECB52\",\"pattern\":{\"shape\":\"\"}},\"name\":\"R\\u00e9serve C\\u00f4tes-du-Rh\\u00f4ne\",\"offsetgroup\":\"R\\u00e9serve C\\u00f4tes-du-Rh\\u00f4ne\",\"orientation\":\"v\",\"showlegend\":true,\"textposition\":\"auto\",\"x\":[\"coffee\"],\"xaxis\":\"x\",\"y\":[14],\"yaxis\":\"y\",\"type\":\"bar\"},{\"alignmentgroup\":\"True\",\"hovertemplate\":\"wine_name=Cresasso Corvina Veronese\\u003cbr\\u003ekeywords=%{x}\\u003cbr\\u003etotal_user_count=%{y}\\u003cextra\\u003e\\u003c\\u002fextra\\u003e\",\"legendgroup\":\"Cresasso Corvina Veronese\",\"marker\":{\"color\":\"#636efa\",\"pattern\":{\"shape\":\"\"}},\"name\":\"Cresasso Corvina Veronese\",\"offsetgroup\":\"Cresasso Corvina Veronese\",\"orientation\":\"v\",\"showlegend\":true,\"textposition\":\"auto\",\"x\":[\"coffee\"],\"xaxis\":\"x\",\"y\":[14],\"yaxis\":\"y\",\"type\":\"bar\"},{\"alignmentgroup\":\"True\",\"hovertemplate\":\"wine_name=Alabaster\\u003cbr\\u003ekeywords=%{x}\\u003cbr\\u003etotal_user_count=%{y}\\u003cextra\\u003e\\u003c\\u002fextra\\u003e\",\"legendgroup\":\"Alabaster\",\"marker\":{\"color\":\"#EF553B\",\"pattern\":{\"shape\":\"\"}},\"name\":\"Alabaster\",\"offsetgroup\":\"Alabaster\",\"orientation\":\"v\",\"showlegend\":true,\"textposition\":\"auto\",\"x\":[\"coffee\"],\"xaxis\":\"x\",\"y\":[14],\"yaxis\":\"y\",\"type\":\"bar\"},{\"alignmentgroup\":\"True\",\"hovertemplate\":\"wine_name=Colore Toscana\\u003cbr\\u003ekeywords=%{x}\\u003cbr\\u003etotal_user_count=%{y}\\u003cextra\\u003e\\u003c\\u002fextra\\u003e\",\"legendgroup\":\"Colore Toscana\",\"marker\":{\"color\":\"#00cc96\",\"pattern\":{\"shape\":\"\"}},\"name\":\"Colore Toscana\",\"offsetgroup\":\"Colore Toscana\",\"orientation\":\"v\",\"showlegend\":true,\"textposition\":\"auto\",\"x\":[\"coffee\"],\"xaxis\":\"x\",\"y\":[14],\"yaxis\":\"y\",\"type\":\"bar\"},{\"alignmentgroup\":\"True\",\"hovertemplate\":\"wine_name=Scharzhofberger Riesling Auslese\\u003cbr\\u003ekeywords=%{x}\\u003cbr\\u003etotal_user_count=%{y}\\u003cextra\\u003e\\u003c\\u002fextra\\u003e\",\"legendgroup\":\"Scharzhofberger Riesling Auslese\",\"marker\":{\"color\":\"#ab63fa\",\"pattern\":{\"shape\":\"\"}},\"name\":\"Scharzhofberger Riesling Auslese\",\"offsetgroup\":\"Scharzhofberger Riesling Auslese\",\"orientation\":\"v\",\"showlegend\":true,\"textposition\":\"auto\",\"x\":[\"citrus\",\"cream\"],\"xaxis\":\"x\",\"y\":[14,13],\"yaxis\":\"y\",\"type\":\"bar\"},{\"alignmentgroup\":\"True\",\"hovertemplate\":\"wine_name=El Carretil\\u003cbr\\u003ekeywords=%{x}\\u003cbr\\u003etotal_user_count=%{y}\\u003cextra\\u003e\\u003c\\u002fextra\\u003e\",\"legendgroup\":\"El Carretil\",\"marker\":{\"color\":\"#FFA15A\",\"pattern\":{\"shape\":\"\"}},\"name\":\"El Carretil\",\"offsetgroup\":\"El Carretil\",\"orientation\":\"v\",\"showlegend\":true,\"textposition\":\"auto\",\"x\":[\"toast\",\"coffee\"],\"xaxis\":\"x\",\"y\":[14,10],\"yaxis\":\"y\",\"type\":\"bar\"},{\"alignmentgroup\":\"True\",\"hovertemplate\":\"wine_name=Chafandin\\u003cbr\\u003ekeywords=%{x}\\u003cbr\\u003etotal_user_count=%{y}\\u003cextra\\u003e\\u003c\\u002fextra\\u003e\",\"legendgroup\":\"Chafandin\",\"marker\":{\"color\":\"#19d3f3\",\"pattern\":{\"shape\":\"\"}},\"name\":\"Chafandin\",\"offsetgroup\":\"Chafandin\",\"orientation\":\"v\",\"showlegend\":true,\"textposition\":\"auto\",\"x\":[\"coffee\"],\"xaxis\":\"x\",\"y\":[14],\"yaxis\":\"y\",\"type\":\"bar\"},{\"alignmentgroup\":\"True\",\"hovertemplate\":\"wine_name=Clos de la Roche Grand Cru\\u003cbr\\u003ekeywords=%{x}\\u003cbr\\u003etotal_user_count=%{y}\\u003cextra\\u003e\\u003c\\u002fextra\\u003e\",\"legendgroup\":\"Clos de la Roche Grand Cru\",\"marker\":{\"color\":\"#FF6692\",\"pattern\":{\"shape\":\"\"}},\"name\":\"Clos de la Roche Grand Cru\",\"offsetgroup\":\"Clos de la Roche Grand Cru\",\"orientation\":\"v\",\"showlegend\":true,\"textposition\":\"auto\",\"x\":[\"coffee\"],\"xaxis\":\"x\",\"y\":[14],\"yaxis\":\"y\",\"type\":\"bar\"},{\"alignmentgroup\":\"True\",\"hovertemplate\":\"wine_name=MV Ros\\u00e9\\u003cbr\\u003ekeywords=%{x}\\u003cbr\\u003etotal_user_count=%{y}\\u003cextra\\u003e\\u003c\\u002fextra\\u003e\",\"legendgroup\":\"MV Ros\\u00e9\",\"marker\":{\"color\":\"#B6E880\",\"pattern\":{\"shape\":\"\"}},\"name\":\"MV Ros\\u00e9\",\"offsetgroup\":\"MV Ros\\u00e9\",\"orientation\":\"v\",\"showlegend\":true,\"textposition\":\"auto\",\"x\":[\"toast\"],\"xaxis\":\"x\",\"y\":[14],\"yaxis\":\"y\",\"type\":\"bar\"},{\"alignmentgroup\":\"True\",\"hovertemplate\":\"wine_name=Au Paradis Cabernet Sauvignon\\u003cbr\\u003ekeywords=%{x}\\u003cbr\\u003etotal_user_count=%{y}\\u003cextra\\u003e\\u003c\\u002fextra\\u003e\",\"legendgroup\":\"Au Paradis Cabernet Sauvignon\",\"marker\":{\"color\":\"#FF97FF\",\"pattern\":{\"shape\":\"\"}},\"name\":\"Au Paradis Cabernet Sauvignon\",\"offsetgroup\":\"Au Paradis Cabernet Sauvignon\",\"orientation\":\"v\",\"showlegend\":true,\"textposition\":\"auto\",\"x\":[\"coffee\"],\"xaxis\":\"x\",\"y\":[14],\"yaxis\":\"y\",\"type\":\"bar\"},{\"alignmentgroup\":\"True\",\"hovertemplate\":\"wine_name=Kal\\u00f3s Cru Gran Reserva Malbec\\u003cbr\\u003ekeywords=%{x}\\u003cbr\\u003etotal_user_count=%{y}\\u003cextra\\u003e\\u003c\\u002fextra\\u003e\",\"legendgroup\":\"Kal\\u00f3s Cru Gran Reserva Malbec\",\"marker\":{\"color\":\"#FECB52\",\"pattern\":{\"shape\":\"\"}},\"name\":\"Kal\\u00f3s Cru Gran Reserva Malbec\",\"offsetgroup\":\"Kal\\u00f3s Cru Gran Reserva Malbec\",\"orientation\":\"v\",\"showlegend\":true,\"textposition\":\"auto\",\"x\":[\"coffee\"],\"xaxis\":\"x\",\"y\":[14],\"yaxis\":\"y\",\"type\":\"bar\"},{\"alignmentgroup\":\"True\",\"hovertemplate\":\"wine_name=Champ Cain Extra Brut Champagne Grand Cru 'Avize'\\u003cbr\\u003ekeywords=%{x}\\u003cbr\\u003etotal_user_count=%{y}\\u003cextra\\u003e\\u003c\\u002fextra\\u003e\",\"legendgroup\":\"Champ Cain Extra Brut Champagne Grand Cru 'Avize'\",\"marker\":{\"color\":\"#636efa\",\"pattern\":{\"shape\":\"\"}},\"name\":\"Champ Cain Extra Brut Champagne Grand Cru 'Avize'\",\"offsetgroup\":\"Champ Cain Extra Brut Champagne Grand Cru 'Avize'\",\"orientation\":\"v\",\"showlegend\":true,\"textposition\":\"auto\",\"x\":[\"toast\"],\"xaxis\":\"x\",\"y\":[14],\"yaxis\":\"y\",\"type\":\"bar\"},{\"alignmentgroup\":\"True\",\"hovertemplate\":\"wine_name=Rioja Blanco Reserva\\u003cbr\\u003ekeywords=%{x}\\u003cbr\\u003etotal_user_count=%{y}\\u003cextra\\u003e\\u003c\\u002fextra\\u003e\",\"legendgroup\":\"Rioja Blanco Reserva\",\"marker\":{\"color\":\"#EF553B\",\"pattern\":{\"shape\":\"\"}},\"name\":\"Rioja Blanco Reserva\",\"offsetgroup\":\"Rioja Blanco Reserva\",\"orientation\":\"v\",\"showlegend\":true,\"textposition\":\"auto\",\"x\":[\"cream\",\"citrus\"],\"xaxis\":\"x\",\"y\":[14,10],\"yaxis\":\"y\",\"type\":\"bar\"},{\"alignmentgroup\":\"True\",\"hovertemplate\":\"wine_name=Meursault 1er Cru 'Les Genevri\\u00e8res'\\u003cbr\\u003ekeywords=%{x}\\u003cbr\\u003etotal_user_count=%{y}\\u003cextra\\u003e\\u003c\\u002fextra\\u003e\",\"legendgroup\":\"Meursault 1er Cru 'Les Genevri\\u00e8res'\",\"marker\":{\"color\":\"#00cc96\",\"pattern\":{\"shape\":\"\"}},\"name\":\"Meursault 1er Cru 'Les Genevri\\u00e8res'\",\"offsetgroup\":\"Meursault 1er Cru 'Les Genevri\\u00e8res'\",\"orientation\":\"v\",\"showlegend\":true,\"textposition\":\"auto\",\"x\":[\"citrus\"],\"xaxis\":\"x\",\"y\":[13],\"yaxis\":\"y\",\"type\":\"bar\"},{\"alignmentgroup\":\"True\",\"hovertemplate\":\"wine_name=Il San Lorenzo Bianco\\u003cbr\\u003ekeywords=%{x}\\u003cbr\\u003etotal_user_count=%{y}\\u003cextra\\u003e\\u003c\\u002fextra\\u003e\",\"legendgroup\":\"Il San Lorenzo Bianco\",\"marker\":{\"color\":\"#ab63fa\",\"pattern\":{\"shape\":\"\"}},\"name\":\"Il San Lorenzo Bianco\",\"offsetgroup\":\"Il San Lorenzo Bianco\",\"orientation\":\"v\",\"showlegend\":true,\"textposition\":\"auto\",\"x\":[\"cream\"],\"xaxis\":\"x\",\"y\":[13],\"yaxis\":\"y\",\"type\":\"bar\"},{\"alignmentgroup\":\"True\",\"hovertemplate\":\"wine_name=Ribera del Duero Prestigio\\u003cbr\\u003ekeywords=%{x}\\u003cbr\\u003etotal_user_count=%{y}\\u003cextra\\u003e\\u003c\\u002fextra\\u003e\",\"legendgroup\":\"Ribera del Duero Prestigio\",\"marker\":{\"color\":\"#FFA15A\",\"pattern\":{\"shape\":\"\"}},\"name\":\"Ribera del Duero Prestigio\",\"offsetgroup\":\"Ribera del Duero Prestigio\",\"orientation\":\"v\",\"showlegend\":true,\"textposition\":\"auto\",\"x\":[\"coffee\"],\"xaxis\":\"x\",\"y\":[12],\"yaxis\":\"y\",\"type\":\"bar\"},{\"alignmentgroup\":\"True\",\"hovertemplate\":\"wine_name=Barolo Cannubi Boschis\\u003cbr\\u003ekeywords=%{x}\\u003cbr\\u003etotal_user_count=%{y}\\u003cextra\\u003e\\u003c\\u002fextra\\u003e\",\"legendgroup\":\"Barolo Cannubi Boschis\",\"marker\":{\"color\":\"#19d3f3\",\"pattern\":{\"shape\":\"\"}},\"name\":\"Barolo Cannubi Boschis\",\"offsetgroup\":\"Barolo Cannubi Boschis\",\"orientation\":\"v\",\"showlegend\":true,\"textposition\":\"auto\",\"x\":[\"coffee\"],\"xaxis\":\"x\",\"y\":[12],\"yaxis\":\"y\",\"type\":\"bar\"},{\"alignmentgroup\":\"True\",\"hovertemplate\":\"wine_name=Ch\\u00e2teauneuf-du-Pape Chaupin\\u003cbr\\u003ekeywords=%{x}\\u003cbr\\u003etotal_user_count=%{y}\\u003cextra\\u003e\\u003c\\u002fextra\\u003e\",\"legendgroup\":\"Ch\\u00e2teauneuf-du-Pape Chaupin\",\"marker\":{\"color\":\"#FF6692\",\"pattern\":{\"shape\":\"\"}},\"name\":\"Ch\\u00e2teauneuf-du-Pape Chaupin\",\"offsetgroup\":\"Ch\\u00e2teauneuf-du-Pape Chaupin\",\"orientation\":\"v\",\"showlegend\":true,\"textposition\":\"auto\",\"x\":[\"toast\"],\"xaxis\":\"x\",\"y\":[12],\"yaxis\":\"y\",\"type\":\"bar\"},{\"alignmentgroup\":\"True\",\"hovertemplate\":\"wine_name=Crichet Paj\\u00e8 Barbaresco\\u003cbr\\u003ekeywords=%{x}\\u003cbr\\u003etotal_user_count=%{y}\\u003cextra\\u003e\\u003c\\u002fextra\\u003e\",\"legendgroup\":\"Crichet Paj\\u00e8 Barbaresco\",\"marker\":{\"color\":\"#B6E880\",\"pattern\":{\"shape\":\"\"}},\"name\":\"Crichet Paj\\u00e8 Barbaresco\",\"offsetgroup\":\"Crichet Paj\\u00e8 Barbaresco\",\"orientation\":\"v\",\"showlegend\":true,\"textposition\":\"auto\",\"x\":[\"coffee\"],\"xaxis\":\"x\",\"y\":[12],\"yaxis\":\"y\",\"type\":\"bar\"},{\"alignmentgroup\":\"True\",\"hovertemplate\":\"wine_name=Barbera d'Alba Vigna Francia\\u003cbr\\u003ekeywords=%{x}\\u003cbr\\u003etotal_user_count=%{y}\\u003cextra\\u003e\\u003c\\u002fextra\\u003e\",\"legendgroup\":\"Barbera d'Alba Vigna Francia\",\"marker\":{\"color\":\"#FF97FF\",\"pattern\":{\"shape\":\"\"}},\"name\":\"Barbera d'Alba Vigna Francia\",\"offsetgroup\":\"Barbera d'Alba Vigna Francia\",\"orientation\":\"v\",\"showlegend\":true,\"textposition\":\"auto\",\"x\":[\"coffee\"],\"xaxis\":\"x\",\"y\":[12],\"yaxis\":\"y\",\"type\":\"bar\"},{\"alignmentgroup\":\"True\",\"hovertemplate\":\"wine_name=Clos des Porrets Nuits-Saint-Georges 1er Cru\\u003cbr\\u003ekeywords=%{x}\\u003cbr\\u003etotal_user_count=%{y}\\u003cextra\\u003e\\u003c\\u002fextra\\u003e\",\"legendgroup\":\"Clos des Porrets Nuits-Saint-Georges 1er Cru\",\"marker\":{\"color\":\"#FECB52\",\"pattern\":{\"shape\":\"\"}},\"name\":\"Clos des Porrets Nuits-Saint-Georges 1er Cru\",\"offsetgroup\":\"Clos des Porrets Nuits-Saint-Georges 1er Cru\",\"orientation\":\"v\",\"showlegend\":true,\"textposition\":\"auto\",\"x\":[\"coffee\"],\"xaxis\":\"x\",\"y\":[12],\"yaxis\":\"y\",\"type\":\"bar\"},{\"alignmentgroup\":\"True\",\"hovertemplate\":\"wine_name=Bonnes-Mares Grand Cru\\u003cbr\\u003ekeywords=%{x}\\u003cbr\\u003etotal_user_count=%{y}\\u003cextra\\u003e\\u003c\\u002fextra\\u003e\",\"legendgroup\":\"Bonnes-Mares Grand Cru\",\"marker\":{\"color\":\"#636efa\",\"pattern\":{\"shape\":\"\"}},\"name\":\"Bonnes-Mares Grand Cru\",\"offsetgroup\":\"Bonnes-Mares Grand Cru\",\"orientation\":\"v\",\"showlegend\":true,\"textposition\":\"auto\",\"x\":[\"coffee\"],\"xaxis\":\"x\",\"y\":[12],\"yaxis\":\"y\",\"type\":\"bar\"},{\"alignmentgroup\":\"True\",\"hovertemplate\":\"wine_name=Barolo Cerequio\\u003cbr\\u003ekeywords=%{x}\\u003cbr\\u003etotal_user_count=%{y}\\u003cextra\\u003e\\u003c\\u002fextra\\u003e\",\"legendgroup\":\"Barolo Cerequio\",\"marker\":{\"color\":\"#EF553B\",\"pattern\":{\"shape\":\"\"}},\"name\":\"Barolo Cerequio\",\"offsetgroup\":\"Barolo Cerequio\",\"orientation\":\"v\",\"showlegend\":true,\"textposition\":\"auto\",\"x\":[\"coffee\"],\"xaxis\":\"x\",\"y\":[12],\"yaxis\":\"y\",\"type\":\"bar\"},{\"alignmentgroup\":\"True\",\"hovertemplate\":\"wine_name=Falletto Barolo Le Rocche del Falletto\\u003cbr\\u003ekeywords=%{x}\\u003cbr\\u003etotal_user_count=%{y}\\u003cextra\\u003e\\u003c\\u002fextra\\u003e\",\"legendgroup\":\"Falletto Barolo Le Rocche del Falletto\",\"marker\":{\"color\":\"#00cc96\",\"pattern\":{\"shape\":\"\"}},\"name\":\"Falletto Barolo Le Rocche del Falletto\",\"offsetgroup\":\"Falletto Barolo Le Rocche del Falletto\",\"orientation\":\"v\",\"showlegend\":true,\"textposition\":\"auto\",\"x\":[\"coffee\"],\"xaxis\":\"x\",\"y\":[12],\"yaxis\":\"y\",\"type\":\"bar\"},{\"alignmentgroup\":\"True\",\"hovertemplate\":\"wine_name=C\\u00f4tes du Rh\\u00f4ne\\u003cbr\\u003ekeywords=%{x}\\u003cbr\\u003etotal_user_count=%{y}\\u003cextra\\u003e\\u003c\\u002fextra\\u003e\",\"legendgroup\":\"C\\u00f4tes du Rh\\u00f4ne\",\"marker\":{\"color\":\"#ab63fa\",\"pattern\":{\"shape\":\"\"}},\"name\":\"C\\u00f4tes du Rh\\u00f4ne\",\"offsetgroup\":\"C\\u00f4tes du Rh\\u00f4ne\",\"orientation\":\"v\",\"showlegend\":true,\"textposition\":\"auto\",\"x\":[\"coffee\",\"toast\"],\"xaxis\":\"x\",\"y\":[12,12],\"yaxis\":\"y\",\"type\":\"bar\"},{\"alignmentgroup\":\"True\",\"hovertemplate\":\"wine_name=Cam\\u00ed Pesseroles\\u003cbr\\u003ekeywords=%{x}\\u003cbr\\u003etotal_user_count=%{y}\\u003cextra\\u003e\\u003c\\u002fextra\\u003e\",\"legendgroup\":\"Cam\\u00ed Pesseroles\",\"marker\":{\"color\":\"#FFA15A\",\"pattern\":{\"shape\":\"\"}},\"name\":\"Cam\\u00ed Pesseroles\",\"offsetgroup\":\"Cam\\u00ed Pesseroles\",\"orientation\":\"v\",\"showlegend\":true,\"textposition\":\"auto\",\"x\":[\"toast\"],\"xaxis\":\"x\",\"y\":[12],\"yaxis\":\"y\",\"type\":\"bar\"},{\"alignmentgroup\":\"True\",\"hovertemplate\":\"wine_name=Rapture Cabernet Sauvignon\\u003cbr\\u003ekeywords=%{x}\\u003cbr\\u003etotal_user_count=%{y}\\u003cextra\\u003e\\u003c\\u002fextra\\u003e\",\"legendgroup\":\"Rapture Cabernet Sauvignon\",\"marker\":{\"color\":\"#19d3f3\",\"pattern\":{\"shape\":\"\"}},\"name\":\"Rapture Cabernet Sauvignon\",\"offsetgroup\":\"Rapture Cabernet Sauvignon\",\"orientation\":\"v\",\"showlegend\":true,\"textposition\":\"auto\",\"x\":[\"coffee\"],\"xaxis\":\"x\",\"y\":[12],\"yaxis\":\"y\",\"type\":\"bar\"},{\"alignmentgroup\":\"True\",\"hovertemplate\":\"wine_name=Ozanne Blanc de Blancs Brut Champagne Grand Cru 'Avize'\\u003cbr\\u003ekeywords=%{x}\\u003cbr\\u003etotal_user_count=%{y}\\u003cextra\\u003e\\u003c\\u002fextra\\u003e\",\"legendgroup\":\"Ozanne Blanc de Blancs Brut Champagne Grand Cru 'Avize'\",\"marker\":{\"color\":\"#FF6692\",\"pattern\":{\"shape\":\"\"}},\"name\":\"Ozanne Blanc de Blancs Brut Champagne Grand Cru 'Avize'\",\"offsetgroup\":\"Ozanne Blanc de Blancs Brut Champagne Grand Cru 'Avize'\",\"orientation\":\"v\",\"showlegend\":true,\"textposition\":\"auto\",\"x\":[\"toast\"],\"xaxis\":\"x\",\"y\":[12],\"yaxis\":\"y\",\"type\":\"bar\"},{\"alignmentgroup\":\"True\",\"hovertemplate\":\"wine_name=Tenuta Guado al Tasso Matarocchio\\u003cbr\\u003ekeywords=%{x}\\u003cbr\\u003etotal_user_count=%{y}\\u003cextra\\u003e\\u003c\\u002fextra\\u003e\",\"legendgroup\":\"Tenuta Guado al Tasso Matarocchio\",\"marker\":{\"color\":\"#B6E880\",\"pattern\":{\"shape\":\"\"}},\"name\":\"Tenuta Guado al Tasso Matarocchio\",\"offsetgroup\":\"Tenuta Guado al Tasso Matarocchio\",\"orientation\":\"v\",\"showlegend\":true,\"textposition\":\"auto\",\"x\":[\"coffee\",\"toast\"],\"xaxis\":\"x\",\"y\":[12,10],\"yaxis\":\"y\",\"type\":\"bar\"},{\"alignmentgroup\":\"True\",\"hovertemplate\":\"wine_name=Ch\\u00e2teauneuf-du-Pape Amiral G\\u003cbr\\u003ekeywords=%{x}\\u003cbr\\u003etotal_user_count=%{y}\\u003cextra\\u003e\\u003c\\u002fextra\\u003e\",\"legendgroup\":\"Ch\\u00e2teauneuf-du-Pape Amiral G\",\"marker\":{\"color\":\"#FF97FF\",\"pattern\":{\"shape\":\"\"}},\"name\":\"Ch\\u00e2teauneuf-du-Pape Amiral G\",\"offsetgroup\":\"Ch\\u00e2teauneuf-du-Pape Amiral G\",\"orientation\":\"v\",\"showlegend\":true,\"textposition\":\"auto\",\"x\":[\"coffee\"],\"xaxis\":\"x\",\"y\":[12],\"yaxis\":\"y\",\"type\":\"bar\"},{\"alignmentgroup\":\"True\",\"hovertemplate\":\"wine_name=Don PX Selecci\\u00f3n\\u003cbr\\u003ekeywords=%{x}\\u003cbr\\u003etotal_user_count=%{y}\\u003cextra\\u003e\\u003c\\u002fextra\\u003e\",\"legendgroup\":\"Don PX Selecci\\u00f3n\",\"marker\":{\"color\":\"#FECB52\",\"pattern\":{\"shape\":\"\"}},\"name\":\"Don PX Selecci\\u00f3n\",\"offsetgroup\":\"Don PX Selecci\\u00f3n\",\"orientation\":\"v\",\"showlegend\":true,\"textposition\":\"auto\",\"x\":[\"coffee\"],\"xaxis\":\"x\",\"y\":[12],\"yaxis\":\"y\",\"type\":\"bar\"},{\"alignmentgroup\":\"True\",\"hovertemplate\":\"wine_name=Gin\\u00e9s Li\\u00e9bana Pedro Xim\\u00e9nez\\u003cbr\\u003ekeywords=%{x}\\u003cbr\\u003etotal_user_count=%{y}\\u003cextra\\u003e\\u003c\\u002fextra\\u003e\",\"legendgroup\":\"Gin\\u00e9s Li\\u00e9bana Pedro Xim\\u00e9nez\",\"marker\":{\"color\":\"#636efa\",\"pattern\":{\"shape\":\"\"}},\"name\":\"Gin\\u00e9s Li\\u00e9bana Pedro Xim\\u00e9nez\",\"offsetgroup\":\"Gin\\u00e9s Li\\u00e9bana Pedro Xim\\u00e9nez\",\"orientation\":\"v\",\"showlegend\":true,\"textposition\":\"auto\",\"x\":[\"coffee\"],\"xaxis\":\"x\",\"y\":[12],\"yaxis\":\"y\",\"type\":\"bar\"},{\"alignmentgroup\":\"True\",\"hovertemplate\":\"wine_name=Gorgona\\u003cbr\\u003ekeywords=%{x}\\u003cbr\\u003etotal_user_count=%{y}\\u003cextra\\u003e\\u003c\\u002fextra\\u003e\",\"legendgroup\":\"Gorgona\",\"marker\":{\"color\":\"#EF553B\",\"pattern\":{\"shape\":\"\"}},\"name\":\"Gorgona\",\"offsetgroup\":\"Gorgona\",\"orientation\":\"v\",\"showlegend\":true,\"textposition\":\"auto\",\"x\":[\"cream\"],\"xaxis\":\"x\",\"y\":[12],\"yaxis\":\"y\",\"type\":\"bar\"},{\"alignmentgroup\":\"True\",\"hovertemplate\":\"wine_name=Royal St Robert Cuv\\u00e9e Pinot Noir\\u003cbr\\u003ekeywords=%{x}\\u003cbr\\u003etotal_user_count=%{y}\\u003cextra\\u003e\\u003c\\u002fextra\\u003e\",\"legendgroup\":\"Royal St Robert Cuv\\u00e9e Pinot Noir\",\"marker\":{\"color\":\"#00cc96\",\"pattern\":{\"shape\":\"\"}},\"name\":\"Royal St Robert Cuv\\u00e9e Pinot Noir\",\"offsetgroup\":\"Royal St Robert Cuv\\u00e9e Pinot Noir\",\"orientation\":\"v\",\"showlegend\":true,\"textposition\":\"auto\",\"x\":[\"toast\"],\"xaxis\":\"x\",\"y\":[12],\"yaxis\":\"y\",\"type\":\"bar\"},{\"alignmentgroup\":\"True\",\"hovertemplate\":\"wine_name=Il Bacca Old Vine Primitivo di Manduria\\u003cbr\\u003ekeywords=%{x}\\u003cbr\\u003etotal_user_count=%{y}\\u003cextra\\u003e\\u003c\\u002fextra\\u003e\",\"legendgroup\":\"Il Bacca Old Vine Primitivo di Manduria\",\"marker\":{\"color\":\"#ab63fa\",\"pattern\":{\"shape\":\"\"}},\"name\":\"Il Bacca Old Vine Primitivo di Manduria\",\"offsetgroup\":\"Il Bacca Old Vine Primitivo di Manduria\",\"orientation\":\"v\",\"showlegend\":true,\"textposition\":\"auto\",\"x\":[\"coffee\"],\"xaxis\":\"x\",\"y\":[12],\"yaxis\":\"y\",\"type\":\"bar\"},{\"alignmentgroup\":\"True\",\"hovertemplate\":\"wine_name=50 Old Vines Vecchie Vigne Negroamaro\\u003cbr\\u003ekeywords=%{x}\\u003cbr\\u003etotal_user_count=%{y}\\u003cextra\\u003e\\u003c\\u002fextra\\u003e\",\"legendgroup\":\"50 Old Vines Vecchie Vigne Negroamaro\",\"marker\":{\"color\":\"#FFA15A\",\"pattern\":{\"shape\":\"\"}},\"name\":\"50 Old Vines Vecchie Vigne Negroamaro\",\"offsetgroup\":\"50 Old Vines Vecchie Vigne Negroamaro\",\"orientation\":\"v\",\"showlegend\":true,\"textposition\":\"auto\",\"x\":[\"coffee\"],\"xaxis\":\"x\",\"y\":[12],\"yaxis\":\"y\",\"type\":\"bar\"},{\"alignmentgroup\":\"True\",\"hovertemplate\":\"wine_name=Paralupi Appassimento\\u003cbr\\u003ekeywords=%{x}\\u003cbr\\u003etotal_user_count=%{y}\\u003cextra\\u003e\\u003c\\u002fextra\\u003e\",\"legendgroup\":\"Paralupi Appassimento\",\"marker\":{\"color\":\"#19d3f3\",\"pattern\":{\"shape\":\"\"}},\"name\":\"Paralupi Appassimento\",\"offsetgroup\":\"Paralupi Appassimento\",\"orientation\":\"v\",\"showlegend\":true,\"textposition\":\"auto\",\"x\":[\"coffee\"],\"xaxis\":\"x\",\"y\":[12],\"yaxis\":\"y\",\"type\":\"bar\"},{\"alignmentgroup\":\"True\",\"hovertemplate\":\"wine_name=Ch\\u00e2teauneuf-du-Pape R\\u00e9serv\\u00e9 Blanc\\u003cbr\\u003ekeywords=%{x}\\u003cbr\\u003etotal_user_count=%{y}\\u003cextra\\u003e\\u003c\\u002fextra\\u003e\",\"legendgroup\":\"Ch\\u00e2teauneuf-du-Pape R\\u00e9serv\\u00e9 Blanc\",\"marker\":{\"color\":\"#FF6692\",\"pattern\":{\"shape\":\"\"}},\"name\":\"Ch\\u00e2teauneuf-du-Pape R\\u00e9serv\\u00e9 Blanc\",\"offsetgroup\":\"Ch\\u00e2teauneuf-du-Pape R\\u00e9serv\\u00e9 Blanc\",\"orientation\":\"v\",\"showlegend\":true,\"textposition\":\"auto\",\"x\":[\"citrus\",\"toast\"],\"xaxis\":\"x\",\"y\":[11,10],\"yaxis\":\"y\",\"type\":\"bar\"},{\"alignmentgroup\":\"True\",\"hovertemplate\":\"wine_name=Cinque Autoctoni Collection Limited Release\\u003cbr\\u003ekeywords=%{x}\\u003cbr\\u003etotal_user_count=%{y}\\u003cextra\\u003e\\u003c\\u002fextra\\u003e\",\"legendgroup\":\"Cinque Autoctoni Collection Limited Release\",\"marker\":{\"color\":\"#B6E880\",\"pattern\":{\"shape\":\"\"}},\"name\":\"Cinque Autoctoni Collection Limited Release\",\"offsetgroup\":\"Cinque Autoctoni Collection Limited Release\",\"orientation\":\"v\",\"showlegend\":true,\"textposition\":\"auto\",\"x\":[\"cream\"],\"xaxis\":\"x\",\"y\":[11],\"yaxis\":\"y\",\"type\":\"bar\"},{\"alignmentgroup\":\"True\",\"hovertemplate\":\"wine_name=Rioja 150 Aniversario\\u003cbr\\u003ekeywords=%{x}\\u003cbr\\u003etotal_user_count=%{y}\\u003cextra\\u003e\\u003c\\u002fextra\\u003e\",\"legendgroup\":\"Rioja 150 Aniversario\",\"marker\":{\"color\":\"#FF97FF\",\"pattern\":{\"shape\":\"\"}},\"name\":\"Rioja 150 Aniversario\",\"offsetgroup\":\"Rioja 150 Aniversario\",\"orientation\":\"v\",\"showlegend\":true,\"textposition\":\"auto\",\"x\":[\"toast\"],\"xaxis\":\"x\",\"y\":[10],\"yaxis\":\"y\",\"type\":\"bar\"},{\"alignmentgroup\":\"True\",\"hovertemplate\":\"wine_name=La Muse\\u003cbr\\u003ekeywords=%{x}\\u003cbr\\u003etotal_user_count=%{y}\\u003cextra\\u003e\\u003c\\u002fextra\\u003e\",\"legendgroup\":\"La Muse\",\"marker\":{\"color\":\"#FECB52\",\"pattern\":{\"shape\":\"\"}},\"name\":\"La Muse\",\"offsetgroup\":\"La Muse\",\"orientation\":\"v\",\"showlegend\":true,\"textposition\":\"auto\",\"x\":[\"coffee\",\"toast\"],\"xaxis\":\"x\",\"y\":[10,10],\"yaxis\":\"y\",\"type\":\"bar\"},{\"alignmentgroup\":\"True\",\"hovertemplate\":\"wine_name=Falletto Barolo\\u003cbr\\u003ekeywords=%{x}\\u003cbr\\u003etotal_user_count=%{y}\\u003cextra\\u003e\\u003c\\u002fextra\\u003e\",\"legendgroup\":\"Falletto Barolo\",\"marker\":{\"color\":\"#636efa\",\"pattern\":{\"shape\":\"\"}},\"name\":\"Falletto Barolo\",\"offsetgroup\":\"Falletto Barolo\",\"orientation\":\"v\",\"showlegend\":true,\"textposition\":\"auto\",\"x\":[\"coffee\"],\"xaxis\":\"x\",\"y\":[10],\"yaxis\":\"y\",\"type\":\"bar\"},{\"alignmentgroup\":\"True\",\"hovertemplate\":\"wine_name=Les Bessards Hermitage\\u003cbr\\u003ekeywords=%{x}\\u003cbr\\u003etotal_user_count=%{y}\\u003cextra\\u003e\\u003c\\u002fextra\\u003e\",\"legendgroup\":\"Les Bessards Hermitage\",\"marker\":{\"color\":\"#EF553B\",\"pattern\":{\"shape\":\"\"}},\"name\":\"Les Bessards Hermitage\",\"offsetgroup\":\"Les Bessards Hermitage\",\"orientation\":\"v\",\"showlegend\":true,\"textposition\":\"auto\",\"x\":[\"coffee\"],\"xaxis\":\"x\",\"y\":[10],\"yaxis\":\"y\",\"type\":\"bar\"},{\"alignmentgroup\":\"True\",\"hovertemplate\":\"wine_name=Chambertin Clos de B\\u00e8ze Grand Cru\\u003cbr\\u003ekeywords=%{x}\\u003cbr\\u003etotal_user_count=%{y}\\u003cextra\\u003e\\u003c\\u002fextra\\u003e\",\"legendgroup\":\"Chambertin Clos de B\\u00e8ze Grand Cru\",\"marker\":{\"color\":\"#00cc96\",\"pattern\":{\"shape\":\"\"}},\"name\":\"Chambertin Clos de B\\u00e8ze Grand Cru\",\"offsetgroup\":\"Chambertin Clos de B\\u00e8ze Grand Cru\",\"orientation\":\"v\",\"showlegend\":true,\"textposition\":\"auto\",\"x\":[\"coffee\",\"coffee\"],\"xaxis\":\"x\",\"y\":[10,10],\"yaxis\":\"y\",\"type\":\"bar\"},{\"alignmentgroup\":\"True\",\"hovertemplate\":\"wine_name=Conde de Superunda\\u003cbr\\u003ekeywords=%{x}\\u003cbr\\u003etotal_user_count=%{y}\\u003cextra\\u003e\\u003c\\u002fextra\\u003e\",\"legendgroup\":\"Conde de Superunda\",\"marker\":{\"color\":\"#ab63fa\",\"pattern\":{\"shape\":\"\"}},\"name\":\"Conde de Superunda\",\"offsetgroup\":\"Conde de Superunda\",\"orientation\":\"v\",\"showlegend\":true,\"textposition\":\"auto\",\"x\":[\"coffee\"],\"xaxis\":\"x\",\"y\":[10],\"yaxis\":\"y\",\"type\":\"bar\"},{\"alignmentgroup\":\"True\",\"hovertemplate\":\"wine_name=Barolo Bussia Romirasco\\u003cbr\\u003ekeywords=%{x}\\u003cbr\\u003etotal_user_count=%{y}\\u003cextra\\u003e\\u003c\\u002fextra\\u003e\",\"legendgroup\":\"Barolo Bussia Romirasco\",\"marker\":{\"color\":\"#FFA15A\",\"pattern\":{\"shape\":\"\"}},\"name\":\"Barolo Bussia Romirasco\",\"offsetgroup\":\"Barolo Bussia Romirasco\",\"orientation\":\"v\",\"showlegend\":true,\"textposition\":\"auto\",\"x\":[\"coffee\"],\"xaxis\":\"x\",\"y\":[10],\"yaxis\":\"y\",\"type\":\"bar\"},{\"alignmentgroup\":\"True\",\"hovertemplate\":\"wine_name=Barolo Riserva Vigna Rionda\\u003cbr\\u003ekeywords=%{x}\\u003cbr\\u003etotal_user_count=%{y}\\u003cextra\\u003e\\u003c\\u002fextra\\u003e\",\"legendgroup\":\"Barolo Riserva Vigna Rionda\",\"marker\":{\"color\":\"#19d3f3\",\"pattern\":{\"shape\":\"\"}},\"name\":\"Barolo Riserva Vigna Rionda\",\"offsetgroup\":\"Barolo Riserva Vigna Rionda\",\"orientation\":\"v\",\"showlegend\":true,\"textposition\":\"auto\",\"x\":[\"coffee\"],\"xaxis\":\"x\",\"y\":[10],\"yaxis\":\"y\",\"type\":\"bar\"},{\"alignmentgroup\":\"True\",\"hovertemplate\":\"wine_name=Chambolle-Musigny\\u003cbr\\u003ekeywords=%{x}\\u003cbr\\u003etotal_user_count=%{y}\\u003cextra\\u003e\\u003c\\u002fextra\\u003e\",\"legendgroup\":\"Chambolle-Musigny\",\"marker\":{\"color\":\"#FF6692\",\"pattern\":{\"shape\":\"\"}},\"name\":\"Chambolle-Musigny\",\"offsetgroup\":\"Chambolle-Musigny\",\"orientation\":\"v\",\"showlegend\":true,\"textposition\":\"auto\",\"x\":[\"toast\"],\"xaxis\":\"x\",\"y\":[10],\"yaxis\":\"y\",\"type\":\"bar\"},{\"alignmentgroup\":\"True\",\"hovertemplate\":\"wine_name=Clos de L'Obac\\u003cbr\\u003ekeywords=%{x}\\u003cbr\\u003etotal_user_count=%{y}\\u003cextra\\u003e\\u003c\\u002fextra\\u003e\",\"legendgroup\":\"Clos de L'Obac\",\"marker\":{\"color\":\"#B6E880\",\"pattern\":{\"shape\":\"\"}},\"name\":\"Clos de L'Obac\",\"offsetgroup\":\"Clos de L'Obac\",\"orientation\":\"v\",\"showlegend\":true,\"textposition\":\"auto\",\"x\":[\"coffee\"],\"xaxis\":\"x\",\"y\":[10],\"yaxis\":\"y\",\"type\":\"bar\"},{\"alignmentgroup\":\"True\",\"hovertemplate\":\"wine_name=Attunga 1865 Shiraz\\u003cbr\\u003ekeywords=%{x}\\u003cbr\\u003etotal_user_count=%{y}\\u003cextra\\u003e\\u003c\\u002fextra\\u003e\",\"legendgroup\":\"Attunga 1865 Shiraz\",\"marker\":{\"color\":\"#FF97FF\",\"pattern\":{\"shape\":\"\"}},\"name\":\"Attunga 1865 Shiraz\",\"offsetgroup\":\"Attunga 1865 Shiraz\",\"orientation\":\"v\",\"showlegend\":true,\"textposition\":\"auto\",\"x\":[\"coffee\"],\"xaxis\":\"x\",\"y\":[10],\"yaxis\":\"y\",\"type\":\"bar\"},{\"alignmentgroup\":\"True\",\"hovertemplate\":\"wine_name=Montel\\u00ecg\\u003cbr\\u003ekeywords=%{x}\\u003cbr\\u003etotal_user_count=%{y}\\u003cextra\\u003e\\u003c\\u002fextra\\u003e\",\"legendgroup\":\"Montel\\u00ecg\",\"marker\":{\"color\":\"#FECB52\",\"pattern\":{\"shape\":\"\"}},\"name\":\"Montel\\u00ecg\",\"offsetgroup\":\"Montel\\u00ecg\",\"orientation\":\"v\",\"showlegend\":true,\"textposition\":\"auto\",\"x\":[\"coffee\"],\"xaxis\":\"x\",\"y\":[10],\"yaxis\":\"y\",\"type\":\"bar\"},{\"alignmentgroup\":\"True\",\"hovertemplate\":\"wine_name=Falletto Barbaresco Asili\\u003cbr\\u003ekeywords=%{x}\\u003cbr\\u003etotal_user_count=%{y}\\u003cextra\\u003e\\u003c\\u002fextra\\u003e\",\"legendgroup\":\"Falletto Barbaresco Asili\",\"marker\":{\"color\":\"#636efa\",\"pattern\":{\"shape\":\"\"}},\"name\":\"Falletto Barbaresco Asili\",\"offsetgroup\":\"Falletto Barbaresco Asili\",\"orientation\":\"v\",\"showlegend\":true,\"textposition\":\"auto\",\"x\":[\"coffee\"],\"xaxis\":\"x\",\"y\":[10],\"yaxis\":\"y\",\"type\":\"bar\"},{\"alignmentgroup\":\"True\",\"hovertemplate\":\"wine_name=Tenuta Montebello Picconero\\u003cbr\\u003ekeywords=%{x}\\u003cbr\\u003etotal_user_count=%{y}\\u003cextra\\u003e\\u003c\\u002fextra\\u003e\",\"legendgroup\":\"Tenuta Montebello Picconero\",\"marker\":{\"color\":\"#EF553B\",\"pattern\":{\"shape\":\"\"}},\"name\":\"Tenuta Montebello Picconero\",\"offsetgroup\":\"Tenuta Montebello Picconero\",\"orientation\":\"v\",\"showlegend\":true,\"textposition\":\"auto\",\"x\":[\"coffee\"],\"xaxis\":\"x\",\"y\":[10],\"yaxis\":\"y\",\"type\":\"bar\"},{\"alignmentgroup\":\"True\",\"hovertemplate\":\"wine_name=Gran Malbec (X)\\u003cbr\\u003ekeywords=%{x}\\u003cbr\\u003etotal_user_count=%{y}\\u003cextra\\u003e\\u003c\\u002fextra\\u003e\",\"legendgroup\":\"Gran Malbec (X)\",\"marker\":{\"color\":\"#00cc96\",\"pattern\":{\"shape\":\"\"}},\"name\":\"Gran Malbec (X)\",\"offsetgroup\":\"Gran Malbec (X)\",\"orientation\":\"v\",\"showlegend\":true,\"textposition\":\"auto\",\"x\":[\"coffee\"],\"xaxis\":\"x\",\"y\":[10],\"yaxis\":\"y\",\"type\":\"bar\"},{\"alignmentgroup\":\"True\",\"hovertemplate\":\"wine_name=Vosne-Roman\\u00e9e Premier Cru Les Suchots\\u003cbr\\u003ekeywords=%{x}\\u003cbr\\u003etotal_user_count=%{y}\\u003cextra\\u003e\\u003c\\u002fextra\\u003e\",\"legendgroup\":\"Vosne-Roman\\u00e9e Premier Cru Les Suchots\",\"marker\":{\"color\":\"#ab63fa\",\"pattern\":{\"shape\":\"\"}},\"name\":\"Vosne-Roman\\u00e9e Premier Cru Les Suchots\",\"offsetgroup\":\"Vosne-Roman\\u00e9e Premier Cru Les Suchots\",\"orientation\":\"v\",\"showlegend\":true,\"textposition\":\"auto\",\"x\":[\"toast\"],\"xaxis\":\"x\",\"y\":[10],\"yaxis\":\"y\",\"type\":\"bar\"},{\"alignmentgroup\":\"True\",\"hovertemplate\":\"wine_name=Graticciaia\\u003cbr\\u003ekeywords=%{x}\\u003cbr\\u003etotal_user_count=%{y}\\u003cextra\\u003e\\u003c\\u002fextra\\u003e\",\"legendgroup\":\"Graticciaia\",\"marker\":{\"color\":\"#FFA15A\",\"pattern\":{\"shape\":\"\"}},\"name\":\"Graticciaia\",\"offsetgroup\":\"Graticciaia\",\"orientation\":\"v\",\"showlegend\":true,\"textposition\":\"auto\",\"x\":[\"coffee\"],\"xaxis\":\"x\",\"y\":[10],\"yaxis\":\"y\",\"type\":\"bar\"},{\"alignmentgroup\":\"True\",\"hovertemplate\":\"wine_name=The Laird\\u003cbr\\u003ekeywords=%{x}\\u003cbr\\u003etotal_user_count=%{y}\\u003cextra\\u003e\\u003c\\u002fextra\\u003e\",\"legendgroup\":\"The Laird\",\"marker\":{\"color\":\"#19d3f3\",\"pattern\":{\"shape\":\"\"}},\"name\":\"The Laird\",\"offsetgroup\":\"The Laird\",\"orientation\":\"v\",\"showlegend\":true,\"textposition\":\"auto\",\"x\":[\"coffee\"],\"xaxis\":\"x\",\"y\":[10],\"yaxis\":\"y\",\"type\":\"bar\"},{\"alignmentgroup\":\"True\",\"hovertemplate\":\"wine_name=Musigny Grand Cru (Cuve\\u00e9 Vieilles Vignes)\\u003cbr\\u003ekeywords=%{x}\\u003cbr\\u003etotal_user_count=%{y}\\u003cextra\\u003e\\u003c\\u002fextra\\u003e\",\"legendgroup\":\"Musigny Grand Cru (Cuve\\u00e9 Vieilles Vignes)\",\"marker\":{\"color\":\"#FF6692\",\"pattern\":{\"shape\":\"\"}},\"name\":\"Musigny Grand Cru (Cuve\\u00e9 Vieilles Vignes)\",\"offsetgroup\":\"Musigny Grand Cru (Cuve\\u00e9 Vieilles Vignes)\",\"orientation\":\"v\",\"showlegend\":true,\"textposition\":\"auto\",\"x\":[\"cream\"],\"xaxis\":\"x\",\"y\":[10],\"yaxis\":\"y\",\"type\":\"bar\"},{\"alignmentgroup\":\"True\",\"hovertemplate\":\"wine_name=Rocche dell'Annunziata Barolo Riserva\\u003cbr\\u003ekeywords=%{x}\\u003cbr\\u003etotal_user_count=%{y}\\u003cextra\\u003e\\u003c\\u002fextra\\u003e\",\"legendgroup\":\"Rocche dell'Annunziata Barolo Riserva\",\"marker\":{\"color\":\"#B6E880\",\"pattern\":{\"shape\":\"\"}},\"name\":\"Rocche dell'Annunziata Barolo Riserva\",\"offsetgroup\":\"Rocche dell'Annunziata Barolo Riserva\",\"orientation\":\"v\",\"showlegend\":true,\"textposition\":\"auto\",\"x\":[\"coffee\"],\"xaxis\":\"x\",\"y\":[10],\"yaxis\":\"y\",\"type\":\"bar\"},{\"alignmentgroup\":\"True\",\"hovertemplate\":\"wine_name=Barolo Bussia\\u003cbr\\u003ekeywords=%{x}\\u003cbr\\u003etotal_user_count=%{y}\\u003cextra\\u003e\\u003c\\u002fextra\\u003e\",\"legendgroup\":\"Barolo Bussia\",\"marker\":{\"color\":\"#FF97FF\",\"pattern\":{\"shape\":\"\"}},\"name\":\"Barolo Bussia\",\"offsetgroup\":\"Barolo Bussia\",\"orientation\":\"v\",\"showlegend\":true,\"textposition\":\"auto\",\"x\":[\"coffee\"],\"xaxis\":\"x\",\"y\":[10],\"yaxis\":\"y\",\"type\":\"bar\"},{\"alignmentgroup\":\"True\",\"hovertemplate\":\"wine_name=Amancio\\u003cbr\\u003ekeywords=%{x}\\u003cbr\\u003etotal_user_count=%{y}\\u003cextra\\u003e\\u003c\\u002fextra\\u003e\",\"legendgroup\":\"Amancio\",\"marker\":{\"color\":\"#FECB52\",\"pattern\":{\"shape\":\"\"}},\"name\":\"Amancio\",\"offsetgroup\":\"Amancio\",\"orientation\":\"v\",\"showlegend\":true,\"textposition\":\"auto\",\"x\":[\"coffee\"],\"xaxis\":\"x\",\"y\":[10],\"yaxis\":\"y\",\"type\":\"bar\"},{\"alignmentgroup\":\"True\",\"hovertemplate\":\"wine_name=Clos de B\\u00e8ze Grand Cru\\u003cbr\\u003ekeywords=%{x}\\u003cbr\\u003etotal_user_count=%{y}\\u003cextra\\u003e\\u003c\\u002fextra\\u003e\",\"legendgroup\":\"Clos de B\\u00e8ze Grand Cru\",\"marker\":{\"color\":\"#636efa\",\"pattern\":{\"shape\":\"\"}},\"name\":\"Clos de B\\u00e8ze Grand Cru\",\"offsetgroup\":\"Clos de B\\u00e8ze Grand Cru\",\"orientation\":\"v\",\"showlegend\":true,\"textposition\":\"auto\",\"x\":[\"coffee\"],\"xaxis\":\"x\",\"y\":[10],\"yaxis\":\"y\",\"type\":\"bar\"},{\"alignmentgroup\":\"True\",\"hovertemplate\":\"wine_name=Poggio Alle Nane Maremma Toscana\\u003cbr\\u003ekeywords=%{x}\\u003cbr\\u003etotal_user_count=%{y}\\u003cextra\\u003e\\u003c\\u002fextra\\u003e\",\"legendgroup\":\"Poggio Alle Nane Maremma Toscana\",\"marker\":{\"color\":\"#EF553B\",\"pattern\":{\"shape\":\"\"}},\"name\":\"Poggio Alle Nane Maremma Toscana\",\"offsetgroup\":\"Poggio Alle Nane Maremma Toscana\",\"orientation\":\"v\",\"showlegend\":true,\"textposition\":\"auto\",\"x\":[\"coffee\"],\"xaxis\":\"x\",\"y\":[10],\"yaxis\":\"y\",\"type\":\"bar\"},{\"alignmentgroup\":\"True\",\"hovertemplate\":\"wine_name=Maria Adelaide Barbaresco\\u003cbr\\u003ekeywords=%{x}\\u003cbr\\u003etotal_user_count=%{y}\\u003cextra\\u003e\\u003c\\u002fextra\\u003e\",\"legendgroup\":\"Maria Adelaide Barbaresco\",\"marker\":{\"color\":\"#00cc96\",\"pattern\":{\"shape\":\"\"}},\"name\":\"Maria Adelaide Barbaresco\",\"offsetgroup\":\"Maria Adelaide Barbaresco\",\"orientation\":\"v\",\"showlegend\":true,\"textposition\":\"auto\",\"x\":[\"coffee\"],\"xaxis\":\"x\",\"y\":[10],\"yaxis\":\"y\",\"type\":\"bar\"},{\"alignmentgroup\":\"True\",\"hovertemplate\":\"wine_name=Reserva Particular de Recaredo Gran Reserva Brut Nature\\u003cbr\\u003ekeywords=%{x}\\u003cbr\\u003etotal_user_count=%{y}\\u003cextra\\u003e\\u003c\\u002fextra\\u003e\",\"legendgroup\":\"Reserva Particular de Recaredo Gran Reserva Brut Nature\",\"marker\":{\"color\":\"#ab63fa\",\"pattern\":{\"shape\":\"\"}},\"name\":\"Reserva Particular de Recaredo Gran Reserva Brut Nature\",\"offsetgroup\":\"Reserva Particular de Recaredo Gran Reserva Brut Nature\",\"orientation\":\"v\",\"showlegend\":true,\"textposition\":\"auto\",\"x\":[\"toast\"],\"xaxis\":\"x\",\"y\":[10],\"yaxis\":\"y\",\"type\":\"bar\"},{\"alignmentgroup\":\"True\",\"hovertemplate\":\"wine_name=Son Negre\\u003cbr\\u003ekeywords=%{x}\\u003cbr\\u003etotal_user_count=%{y}\\u003cextra\\u003e\\u003c\\u002fextra\\u003e\",\"legendgroup\":\"Son Negre\",\"marker\":{\"color\":\"#FFA15A\",\"pattern\":{\"shape\":\"\"}},\"name\":\"Son Negre\",\"offsetgroup\":\"Son Negre\",\"orientation\":\"v\",\"showlegend\":true,\"textposition\":\"auto\",\"x\":[\"coffee\"],\"xaxis\":\"x\",\"y\":[10],\"yaxis\":\"y\",\"type\":\"bar\"},{\"alignmentgroup\":\"True\",\"hovertemplate\":\"wine_name=Puligny-Montrachet Premier Cru Les Combettes\\u003cbr\\u003ekeywords=%{x}\\u003cbr\\u003etotal_user_count=%{y}\\u003cextra\\u003e\\u003c\\u002fextra\\u003e\",\"legendgroup\":\"Puligny-Montrachet Premier Cru Les Combettes\",\"marker\":{\"color\":\"#19d3f3\",\"pattern\":{\"shape\":\"\"}},\"name\":\"Puligny-Montrachet Premier Cru Les Combettes\",\"offsetgroup\":\"Puligny-Montrachet Premier Cru Les Combettes\",\"orientation\":\"v\",\"showlegend\":true,\"textposition\":\"auto\",\"x\":[\"cream\",\"toast\"],\"xaxis\":\"x\",\"y\":[10,10],\"yaxis\":\"y\",\"type\":\"bar\"},{\"alignmentgroup\":\"True\",\"hovertemplate\":\"wine_name=Amarone della Valpolicella Riserva\\u003cbr\\u003ekeywords=%{x}\\u003cbr\\u003etotal_user_count=%{y}\\u003cextra\\u003e\\u003c\\u002fextra\\u003e\",\"legendgroup\":\"Amarone della Valpolicella Riserva\",\"marker\":{\"color\":\"#FF6692\",\"pattern\":{\"shape\":\"\"}},\"name\":\"Amarone della Valpolicella Riserva\",\"offsetgroup\":\"Amarone della Valpolicella Riserva\",\"orientation\":\"v\",\"showlegend\":true,\"textposition\":\"auto\",\"x\":[\"coffee\"],\"xaxis\":\"x\",\"y\":[10],\"yaxis\":\"y\",\"type\":\"bar\"},{\"alignmentgroup\":\"True\",\"hovertemplate\":\"wine_name=30 Year Old Tawny Port\\u003cbr\\u003ekeywords=%{x}\\u003cbr\\u003etotal_user_count=%{y}\\u003cextra\\u003e\\u003c\\u002fextra\\u003e\",\"legendgroup\":\"30 Year Old Tawny Port\",\"marker\":{\"color\":\"#B6E880\",\"pattern\":{\"shape\":\"\"}},\"name\":\"30 Year Old Tawny Port\",\"offsetgroup\":\"30 Year Old Tawny Port\",\"orientation\":\"v\",\"showlegend\":true,\"textposition\":\"auto\",\"x\":[\"coffee\"],\"xaxis\":\"x\",\"y\":[10],\"yaxis\":\"y\",\"type\":\"bar\"},{\"alignmentgroup\":\"True\",\"hovertemplate\":\"wine_name=Kapnios Aglianico\\u003cbr\\u003ekeywords=%{x}\\u003cbr\\u003etotal_user_count=%{y}\\u003cextra\\u003e\\u003c\\u002fextra\\u003e\",\"legendgroup\":\"Kapnios Aglianico\",\"marker\":{\"color\":\"#FF97FF\",\"pattern\":{\"shape\":\"\"}},\"name\":\"Kapnios Aglianico\",\"offsetgroup\":\"Kapnios Aglianico\",\"orientation\":\"v\",\"showlegend\":true,\"textposition\":\"auto\",\"x\":[\"coffee\"],\"xaxis\":\"x\",\"y\":[10],\"yaxis\":\"y\",\"type\":\"bar\"},{\"alignmentgroup\":\"True\",\"hovertemplate\":\"wine_name=Lupi e Sirene Riserva\\u003cbr\\u003ekeywords=%{x}\\u003cbr\\u003etotal_user_count=%{y}\\u003cextra\\u003e\\u003c\\u002fextra\\u003e\",\"legendgroup\":\"Lupi e Sirene Riserva\",\"marker\":{\"color\":\"#FECB52\",\"pattern\":{\"shape\":\"\"}},\"name\":\"Lupi e Sirene Riserva\",\"offsetgroup\":\"Lupi e Sirene Riserva\",\"orientation\":\"v\",\"showlegend\":true,\"textposition\":\"auto\",\"x\":[\"coffee\"],\"xaxis\":\"x\",\"y\":[10],\"yaxis\":\"y\",\"type\":\"bar\"},{\"alignmentgroup\":\"True\",\"hovertemplate\":\"wine_name=Vigna Grande Cerzito Taurasi Riserva\\u003cbr\\u003ekeywords=%{x}\\u003cbr\\u003etotal_user_count=%{y}\\u003cextra\\u003e\\u003c\\u002fextra\\u003e\",\"legendgroup\":\"Vigna Grande Cerzito Taurasi Riserva\",\"marker\":{\"color\":\"#636efa\",\"pattern\":{\"shape\":\"\"}},\"name\":\"Vigna Grande Cerzito Taurasi Riserva\",\"offsetgroup\":\"Vigna Grande Cerzito Taurasi Riserva\",\"orientation\":\"v\",\"showlegend\":true,\"textposition\":\"auto\",\"x\":[\"coffee\"],\"xaxis\":\"x\",\"y\":[10],\"yaxis\":\"y\",\"type\":\"bar\"},{\"alignmentgroup\":\"True\",\"hovertemplate\":\"wine_name=Rioja Reserva 10 A\\u00f1os Despu\\u00e9s Edici\\u00f3n Limitada\\u003cbr\\u003ekeywords=%{x}\\u003cbr\\u003etotal_user_count=%{y}\\u003cextra\\u003e\\u003c\\u002fextra\\u003e\",\"legendgroup\":\"Rioja Reserva 10 A\\u00f1os Despu\\u00e9s Edici\\u00f3n Limitada\",\"marker\":{\"color\":\"#EF553B\",\"pattern\":{\"shape\":\"\"}},\"name\":\"Rioja Reserva 10 A\\u00f1os Despu\\u00e9s Edici\\u00f3n Limitada\",\"offsetgroup\":\"Rioja Reserva 10 A\\u00f1os Despu\\u00e9s Edici\\u00f3n Limitada\",\"orientation\":\"v\",\"showlegend\":true,\"textposition\":\"auto\",\"x\":[\"coffee\"],\"xaxis\":\"x\",\"y\":[10],\"yaxis\":\"y\",\"type\":\"bar\"},{\"alignmentgroup\":\"True\",\"hovertemplate\":\"wine_name=Estate Reserve Viognier\\u003cbr\\u003ekeywords=%{x}\\u003cbr\\u003etotal_user_count=%{y}\\u003cextra\\u003e\\u003c\\u002fextra\\u003e\",\"legendgroup\":\"Estate Reserve Viognier\",\"marker\":{\"color\":\"#00cc96\",\"pattern\":{\"shape\":\"\"}},\"name\":\"Estate Reserve Viognier\",\"offsetgroup\":\"Estate Reserve Viognier\",\"orientation\":\"v\",\"showlegend\":true,\"textposition\":\"auto\",\"x\":[\"citrus\"],\"xaxis\":\"x\",\"y\":[10],\"yaxis\":\"y\",\"type\":\"bar\"}],                        {\"template\":{\"data\":{\"histogram2dcontour\":[{\"type\":\"histogram2dcontour\",\"colorbar\":{\"outlinewidth\":0,\"ticks\":\"\"},\"colorscale\":[[0.0,\"#0d0887\"],[0.1111111111111111,\"#46039f\"],[0.2222222222222222,\"#7201a8\"],[0.3333333333333333,\"#9c179e\"],[0.4444444444444444,\"#bd3786\"],[0.5555555555555556,\"#d8576b\"],[0.6666666666666666,\"#ed7953\"],[0.7777777777777778,\"#fb9f3a\"],[0.8888888888888888,\"#fdca26\"],[1.0,\"#f0f921\"]]}],\"choropleth\":[{\"type\":\"choropleth\",\"colorbar\":{\"outlinewidth\":0,\"ticks\":\"\"}}],\"histogram2d\":[{\"type\":\"histogram2d\",\"colorbar\":{\"outlinewidth\":0,\"ticks\":\"\"},\"colorscale\":[[0.0,\"#0d0887\"],[0.1111111111111111,\"#46039f\"],[0.2222222222222222,\"#7201a8\"],[0.3333333333333333,\"#9c179e\"],[0.4444444444444444,\"#bd3786\"],[0.5555555555555556,\"#d8576b\"],[0.6666666666666666,\"#ed7953\"],[0.7777777777777778,\"#fb9f3a\"],[0.8888888888888888,\"#fdca26\"],[1.0,\"#f0f921\"]]}],\"heatmap\":[{\"type\":\"heatmap\",\"colorbar\":{\"outlinewidth\":0,\"ticks\":\"\"},\"colorscale\":[[0.0,\"#0d0887\"],[0.1111111111111111,\"#46039f\"],[0.2222222222222222,\"#7201a8\"],[0.3333333333333333,\"#9c179e\"],[0.4444444444444444,\"#bd3786\"],[0.5555555555555556,\"#d8576b\"],[0.6666666666666666,\"#ed7953\"],[0.7777777777777778,\"#fb9f3a\"],[0.8888888888888888,\"#fdca26\"],[1.0,\"#f0f921\"]]}],\"heatmapgl\":[{\"type\":\"heatmapgl\",\"colorbar\":{\"outlinewidth\":0,\"ticks\":\"\"},\"colorscale\":[[0.0,\"#0d0887\"],[0.1111111111111111,\"#46039f\"],[0.2222222222222222,\"#7201a8\"],[0.3333333333333333,\"#9c179e\"],[0.4444444444444444,\"#bd3786\"],[0.5555555555555556,\"#d8576b\"],[0.6666666666666666,\"#ed7953\"],[0.7777777777777778,\"#fb9f3a\"],[0.8888888888888888,\"#fdca26\"],[1.0,\"#f0f921\"]]}],\"contourcarpet\":[{\"type\":\"contourcarpet\",\"colorbar\":{\"outlinewidth\":0,\"ticks\":\"\"}}],\"contour\":[{\"type\":\"contour\",\"colorbar\":{\"outlinewidth\":0,\"ticks\":\"\"},\"colorscale\":[[0.0,\"#0d0887\"],[0.1111111111111111,\"#46039f\"],[0.2222222222222222,\"#7201a8\"],[0.3333333333333333,\"#9c179e\"],[0.4444444444444444,\"#bd3786\"],[0.5555555555555556,\"#d8576b\"],[0.6666666666666666,\"#ed7953\"],[0.7777777777777778,\"#fb9f3a\"],[0.8888888888888888,\"#fdca26\"],[1.0,\"#f0f921\"]]}],\"surface\":[{\"type\":\"surface\",\"colorbar\":{\"outlinewidth\":0,\"ticks\":\"\"},\"colorscale\":[[0.0,\"#0d0887\"],[0.1111111111111111,\"#46039f\"],[0.2222222222222222,\"#7201a8\"],[0.3333333333333333,\"#9c179e\"],[0.4444444444444444,\"#bd3786\"],[0.5555555555555556,\"#d8576b\"],[0.6666666666666666,\"#ed7953\"],[0.7777777777777778,\"#fb9f3a\"],[0.8888888888888888,\"#fdca26\"],[1.0,\"#f0f921\"]]}],\"mesh3d\":[{\"type\":\"mesh3d\",\"colorbar\":{\"outlinewidth\":0,\"ticks\":\"\"}}],\"scatter\":[{\"fillpattern\":{\"fillmode\":\"overlay\",\"size\":10,\"solidity\":0.2},\"type\":\"scatter\"}],\"parcoords\":[{\"type\":\"parcoords\",\"line\":{\"colorbar\":{\"outlinewidth\":0,\"ticks\":\"\"}}}],\"scatterpolargl\":[{\"type\":\"scatterpolargl\",\"marker\":{\"colorbar\":{\"outlinewidth\":0,\"ticks\":\"\"}}}],\"bar\":[{\"error_x\":{\"color\":\"#2a3f5f\"},\"error_y\":{\"color\":\"#2a3f5f\"},\"marker\":{\"line\":{\"color\":\"#E5ECF6\",\"width\":0.5},\"pattern\":{\"fillmode\":\"overlay\",\"size\":10,\"solidity\":0.2}},\"type\":\"bar\"}],\"scattergeo\":[{\"type\":\"scattergeo\",\"marker\":{\"colorbar\":{\"outlinewidth\":0,\"ticks\":\"\"}}}],\"scatterpolar\":[{\"type\":\"scatterpolar\",\"marker\":{\"colorbar\":{\"outlinewidth\":0,\"ticks\":\"\"}}}],\"histogram\":[{\"marker\":{\"pattern\":{\"fillmode\":\"overlay\",\"size\":10,\"solidity\":0.2}},\"type\":\"histogram\"}],\"scattergl\":[{\"type\":\"scattergl\",\"marker\":{\"colorbar\":{\"outlinewidth\":0,\"ticks\":\"\"}}}],\"scatter3d\":[{\"type\":\"scatter3d\",\"line\":{\"colorbar\":{\"outlinewidth\":0,\"ticks\":\"\"}},\"marker\":{\"colorbar\":{\"outlinewidth\":0,\"ticks\":\"\"}}}],\"scattermapbox\":[{\"type\":\"scattermapbox\",\"marker\":{\"colorbar\":{\"outlinewidth\":0,\"ticks\":\"\"}}}],\"scatterternary\":[{\"type\":\"scatterternary\",\"marker\":{\"colorbar\":{\"outlinewidth\":0,\"ticks\":\"\"}}}],\"scattercarpet\":[{\"type\":\"scattercarpet\",\"marker\":{\"colorbar\":{\"outlinewidth\":0,\"ticks\":\"\"}}}],\"carpet\":[{\"aaxis\":{\"endlinecolor\":\"#2a3f5f\",\"gridcolor\":\"white\",\"linecolor\":\"white\",\"minorgridcolor\":\"white\",\"startlinecolor\":\"#2a3f5f\"},\"baxis\":{\"endlinecolor\":\"#2a3f5f\",\"gridcolor\":\"white\",\"linecolor\":\"white\",\"minorgridcolor\":\"white\",\"startlinecolor\":\"#2a3f5f\"},\"type\":\"carpet\"}],\"table\":[{\"cells\":{\"fill\":{\"color\":\"#EBF0F8\"},\"line\":{\"color\":\"white\"}},\"header\":{\"fill\":{\"color\":\"#C8D4E3\"},\"line\":{\"color\":\"white\"}},\"type\":\"table\"}],\"barpolar\":[{\"marker\":{\"line\":{\"color\":\"#E5ECF6\",\"width\":0.5},\"pattern\":{\"fillmode\":\"overlay\",\"size\":10,\"solidity\":0.2}},\"type\":\"barpolar\"}],\"pie\":[{\"automargin\":true,\"type\":\"pie\"}]},\"layout\":{\"autotypenumbers\":\"strict\",\"colorway\":[\"#636efa\",\"#EF553B\",\"#00cc96\",\"#ab63fa\",\"#FFA15A\",\"#19d3f3\",\"#FF6692\",\"#B6E880\",\"#FF97FF\",\"#FECB52\"],\"font\":{\"color\":\"#2a3f5f\"},\"hovermode\":\"closest\",\"hoverlabel\":{\"align\":\"left\"},\"paper_bgcolor\":\"white\",\"plot_bgcolor\":\"#E5ECF6\",\"polar\":{\"bgcolor\":\"#E5ECF6\",\"angularaxis\":{\"gridcolor\":\"white\",\"linecolor\":\"white\",\"ticks\":\"\"},\"radialaxis\":{\"gridcolor\":\"white\",\"linecolor\":\"white\",\"ticks\":\"\"}},\"ternary\":{\"bgcolor\":\"#E5ECF6\",\"aaxis\":{\"gridcolor\":\"white\",\"linecolor\":\"white\",\"ticks\":\"\"},\"baxis\":{\"gridcolor\":\"white\",\"linecolor\":\"white\",\"ticks\":\"\"},\"caxis\":{\"gridcolor\":\"white\",\"linecolor\":\"white\",\"ticks\":\"\"}},\"coloraxis\":{\"colorbar\":{\"outlinewidth\":0,\"ticks\":\"\"}},\"colorscale\":{\"sequential\":[[0.0,\"#0d0887\"],[0.1111111111111111,\"#46039f\"],[0.2222222222222222,\"#7201a8\"],[0.3333333333333333,\"#9c179e\"],[0.4444444444444444,\"#bd3786\"],[0.5555555555555556,\"#d8576b\"],[0.6666666666666666,\"#ed7953\"],[0.7777777777777778,\"#fb9f3a\"],[0.8888888888888888,\"#fdca26\"],[1.0,\"#f0f921\"]],\"sequentialminus\":[[0.0,\"#0d0887\"],[0.1111111111111111,\"#46039f\"],[0.2222222222222222,\"#7201a8\"],[0.3333333333333333,\"#9c179e\"],[0.4444444444444444,\"#bd3786\"],[0.5555555555555556,\"#d8576b\"],[0.6666666666666666,\"#ed7953\"],[0.7777777777777778,\"#fb9f3a\"],[0.8888888888888888,\"#fdca26\"],[1.0,\"#f0f921\"]],\"diverging\":[[0,\"#8e0152\"],[0.1,\"#c51b7d\"],[0.2,\"#de77ae\"],[0.3,\"#f1b6da\"],[0.4,\"#fde0ef\"],[0.5,\"#f7f7f7\"],[0.6,\"#e6f5d0\"],[0.7,\"#b8e186\"],[0.8,\"#7fbc41\"],[0.9,\"#4d9221\"],[1,\"#276419\"]]},\"xaxis\":{\"gridcolor\":\"white\",\"linecolor\":\"white\",\"ticks\":\"\",\"title\":{\"standoff\":15},\"zerolinecolor\":\"white\",\"automargin\":true,\"zerolinewidth\":2},\"yaxis\":{\"gridcolor\":\"white\",\"linecolor\":\"white\",\"ticks\":\"\",\"title\":{\"standoff\":15},\"zerolinecolor\":\"white\",\"automargin\":true,\"zerolinewidth\":2},\"scene\":{\"xaxis\":{\"backgroundcolor\":\"#E5ECF6\",\"gridcolor\":\"white\",\"linecolor\":\"white\",\"showbackground\":true,\"ticks\":\"\",\"zerolinecolor\":\"white\",\"gridwidth\":2},\"yaxis\":{\"backgroundcolor\":\"#E5ECF6\",\"gridcolor\":\"white\",\"linecolor\":\"white\",\"showbackground\":true,\"ticks\":\"\",\"zerolinecolor\":\"white\",\"gridwidth\":2},\"zaxis\":{\"backgroundcolor\":\"#E5ECF6\",\"gridcolor\":\"white\",\"linecolor\":\"white\",\"showbackground\":true,\"ticks\":\"\",\"zerolinecolor\":\"white\",\"gridwidth\":2}},\"shapedefaults\":{\"line\":{\"color\":\"#2a3f5f\"}},\"annotationdefaults\":{\"arrowcolor\":\"#2a3f5f\",\"arrowhead\":0,\"arrowwidth\":1},\"geo\":{\"bgcolor\":\"white\",\"landcolor\":\"#E5ECF6\",\"subunitcolor\":\"white\",\"showland\":true,\"showlakes\":true,\"lakecolor\":\"white\"},\"title\":{\"x\":0.05},\"mapbox\":{\"style\":\"light\"}}},\"xaxis\":{\"anchor\":\"y\",\"domain\":[0.0,1.0],\"title\":{\"text\":\"keywords\"}},\"yaxis\":{\"anchor\":\"x\",\"domain\":[0.0,1.0],\"title\":{\"text\":\"total_user_count\"}},\"legend\":{\"title\":{\"text\":\"wine_name\"},\"tracegroupgap\":0},\"title\":{\"text\":\"Wines Related to Specific Keywords\"},\"barmode\":\"relative\"},                        {\"responsive\": true}                    ).then(function(){\n",
       "                            \n",
       "var gd = document.getElementById('8d1fd0e5-69b7-434a-a644-b8d18f9c316d');\n",
       "var x = new MutationObserver(function (mutations, observer) {{\n",
       "        var display = window.getComputedStyle(gd).display;\n",
       "        if (!display || display === 'none') {{\n",
       "            console.log([gd, 'removed!']);\n",
       "            Plotly.purge(gd);\n",
       "            observer.disconnect();\n",
       "        }}\n",
       "}});\n",
       "\n",
       "// Listen for the removal of the full notebook cells\n",
       "var notebookContainer = gd.closest('#notebook-container');\n",
       "if (notebookContainer) {{\n",
       "    x.observe(notebookContainer, {childList: true});\n",
       "}}\n",
       "\n",
       "// Listen for the clearing of the current output cell\n",
       "var outputEl = gd.closest('.output');\n",
       "if (outputEl) {{\n",
       "    x.observe(outputEl, {childList: true});\n",
       "}}\n",
       "\n",
       "                        })                };                });            </script>        </div>"
      ]
     },
     "metadata": {},
     "output_type": "display_data"
    }
   ],
   "source": [
    "df_04 = pd.read_csv(\"04.csv\")\n",
    "keywords = [\"coffee\", \"toast\", \"green apple\", \"cream\", \"citrus\"]\n",
    "df_04['keywords'] = df_04['keywords'].str.lower()\n",
    "keywords = [kw.lower() for kw in keywords]\n",
    "df_04['keywords'] = df_04['keywords'].str.split(', ')\n",
    "df_04 = df_04.explode('keywords')\n",
    "df_filtered = df_04[df_04['keywords'].isin(keywords) & (df_04['total_user_count'] >= 10)]\n",
    "fig_keywords = px.bar(df_filtered, x='keywords', y='total_user_count', color='wine_name', \n",
    "                      title='Wines Related to Specific Keywords')\n",
    "fig_keywords.show()"
   ]
  },
  {
   "cell_type": "code",
   "execution_count": 4,
   "metadata": {},
   "outputs": [
    {
     "data": {
      "application/vnd.plotly.v1+json": {
       "config": {
        "plotlyServerURL": "https://plot.ly"
       },
       "data": [
        {
         "alignmentgroup": "True",
         "customdata": [
          [
           "Cabernet Sauvignon"
          ],
          [
           "Cabernet Sauvignon"
          ]
         ],
         "hovertemplate": "wine=%{customdata[0]}<br>grape=%{x}<br>rating=%{y}<extra></extra>",
         "legendgroup": "Cabernet Sauvignon",
         "marker": {
          "color": "#636efa",
          "pattern": {
           "shape": ""
          }
         },
         "name": "Cabernet Sauvignon",
         "offsetgroup": "Cabernet Sauvignon",
         "orientation": "v",
         "showlegend": true,
         "textposition": "auto",
         "type": "bar",
         "x": [
          "Cabernet Sauvignon",
          "Cabernet Sauvignon"
         ],
         "xaxis": "x",
         "y": [
          4.8,
          4.6
         ],
         "yaxis": "y"
        },
        {
         "alignmentgroup": "True",
         "customdata": [
          [
           "Special Selection Cabernet Sauvignon"
          ]
         ],
         "hovertemplate": "wine=%{customdata[0]}<br>grape=%{x}<br>rating=%{y}<extra></extra>",
         "legendgroup": "Special Selection Cabernet Sauvignon",
         "marker": {
          "color": "#EF553B",
          "pattern": {
           "shape": ""
          }
         },
         "name": "Special Selection Cabernet Sauvignon",
         "offsetgroup": "Special Selection Cabernet Sauvignon",
         "orientation": "v",
         "showlegend": true,
         "textposition": "auto",
         "type": "bar",
         "x": [
          "Cabernet Sauvignon"
         ],
         "xaxis": "x",
         "y": [
          4.7
         ],
         "yaxis": "y"
        },
        {
         "alignmentgroup": "True",
         "customdata": [
          [
           "Cabernet Sauvignon (Signature)"
          ]
         ],
         "hovertemplate": "wine=%{customdata[0]}<br>grape=%{x}<br>rating=%{y}<extra></extra>",
         "legendgroup": "Cabernet Sauvignon (Signature)",
         "marker": {
          "color": "#00cc96",
          "pattern": {
           "shape": ""
          }
         },
         "name": "Cabernet Sauvignon (Signature)",
         "offsetgroup": "Cabernet Sauvignon (Signature)",
         "orientation": "v",
         "showlegend": true,
         "textposition": "auto",
         "type": "bar",
         "x": [
          "Cabernet Sauvignon"
         ],
         "xaxis": "x",
         "y": [
          4.6
         ],
         "yaxis": "y"
        },
        {
         "alignmentgroup": "True",
         "customdata": [
          [
           "CASK 23 Cabernet Sauvignon"
          ]
         ],
         "hovertemplate": "wine=%{customdata[0]}<br>grape=%{x}<br>rating=%{y}<extra></extra>",
         "legendgroup": "CASK 23 Cabernet Sauvignon",
         "marker": {
          "color": "#ab63fa",
          "pattern": {
           "shape": ""
          }
         },
         "name": "CASK 23 Cabernet Sauvignon",
         "offsetgroup": "CASK 23 Cabernet Sauvignon",
         "orientation": "v",
         "showlegend": true,
         "textposition": "auto",
         "type": "bar",
         "x": [
          "Cabernet Sauvignon"
         ],
         "xaxis": "x",
         "y": [
          4.6
         ],
         "yaxis": "y"
        },
        {
         "alignmentgroup": "True",
         "customdata": [
          [
           "Chloe Chardonnay"
          ]
         ],
         "hovertemplate": "wine=%{customdata[0]}<br>grape=%{x}<br>rating=%{y}<extra></extra>",
         "legendgroup": "Chloe Chardonnay",
         "marker": {
          "color": "#FFA15A",
          "pattern": {
           "shape": ""
          }
         },
         "name": "Chloe Chardonnay",
         "offsetgroup": "Chloe Chardonnay",
         "orientation": "v",
         "showlegend": true,
         "textposition": "auto",
         "type": "bar",
         "x": [
          "Chardonnay"
         ],
         "xaxis": "x",
         "y": [
          4.5
         ],
         "yaxis": "y"
        },
        {
         "alignmentgroup": "True",
         "customdata": [
          [
           "Reserve Chardonnay"
          ]
         ],
         "hovertemplate": "wine=%{customdata[0]}<br>grape=%{x}<br>rating=%{y}<extra></extra>",
         "legendgroup": "Reserve Chardonnay",
         "marker": {
          "color": "#19d3f3",
          "pattern": {
           "shape": ""
          }
         },
         "name": "Reserve Chardonnay",
         "offsetgroup": "Reserve Chardonnay",
         "orientation": "v",
         "showlegend": true,
         "textposition": "auto",
         "type": "bar",
         "x": [
          "Chardonnay"
         ],
         "xaxis": "x",
         "y": [
          4.5
         ],
         "yaxis": "y"
        },
        {
         "alignmentgroup": "True",
         "customdata": [
          [
           "Bentrock Vineyard Chardonnay"
          ]
         ],
         "hovertemplate": "wine=%{customdata[0]}<br>grape=%{x}<br>rating=%{y}<extra></extra>",
         "legendgroup": "Bentrock Vineyard Chardonnay",
         "marker": {
          "color": "#FF6692",
          "pattern": {
           "shape": ""
          }
         },
         "name": "Bentrock Vineyard Chardonnay",
         "offsetgroup": "Bentrock Vineyard Chardonnay",
         "orientation": "v",
         "showlegend": true,
         "textposition": "auto",
         "type": "bar",
         "x": [
          "Chardonnay"
         ],
         "xaxis": "x",
         "y": [
          4.5
         ],
         "yaxis": "y"
        },
        {
         "alignmentgroup": "True",
         "customdata": [
          [
           "One Sixteen Chardonnay"
          ]
         ],
         "hovertemplate": "wine=%{customdata[0]}<br>grape=%{x}<br>rating=%{y}<extra></extra>",
         "legendgroup": "One Sixteen Chardonnay",
         "marker": {
          "color": "#B6E880",
          "pattern": {
           "shape": ""
          }
         },
         "name": "One Sixteen Chardonnay",
         "offsetgroup": "One Sixteen Chardonnay",
         "orientation": "v",
         "showlegend": true,
         "textposition": "auto",
         "type": "bar",
         "x": [
          "Chardonnay"
         ],
         "xaxis": "x",
         "y": [
          4.4
         ],
         "yaxis": "y"
        },
        {
         "alignmentgroup": "True",
         "customdata": [
          [
           "Chardonnay"
          ]
         ],
         "hovertemplate": "wine=%{customdata[0]}<br>grape=%{x}<br>rating=%{y}<extra></extra>",
         "legendgroup": "Chardonnay",
         "marker": {
          "color": "#FF97FF",
          "pattern": {
           "shape": ""
          }
         },
         "name": "Chardonnay",
         "offsetgroup": "Chardonnay",
         "orientation": "v",
         "showlegend": true,
         "textposition": "auto",
         "type": "bar",
         "x": [
          "Chardonnay"
         ],
         "xaxis": "x",
         "y": [
          4.4
         ],
         "yaxis": "y"
        },
        {
         "alignmentgroup": "True",
         "customdata": [
          [
           "Merlot"
          ]
         ],
         "hovertemplate": "wine=%{customdata[0]}<br>grape=%{x}<br>rating=%{y}<extra></extra>",
         "legendgroup": "Merlot",
         "marker": {
          "color": "#FECB52",
          "pattern": {
           "shape": ""
          }
         },
         "name": "Merlot",
         "offsetgroup": "Merlot",
         "orientation": "v",
         "showlegend": true,
         "textposition": "auto",
         "type": "bar",
         "x": [
          "Merlot"
         ],
         "xaxis": "x",
         "y": [
          4.4
         ],
         "yaxis": "y"
        },
        {
         "alignmentgroup": "True",
         "customdata": [
          [
           "Calle Merlot Rosso Veronese"
          ]
         ],
         "hovertemplate": "wine=%{customdata[0]}<br>grape=%{x}<br>rating=%{y}<extra></extra>",
         "legendgroup": "Calle Merlot Rosso Veronese",
         "marker": {
          "color": "#636efa",
          "pattern": {
           "shape": ""
          }
         },
         "name": "Calle Merlot Rosso Veronese",
         "offsetgroup": "Calle Merlot Rosso Veronese",
         "orientation": "v",
         "showlegend": true,
         "textposition": "auto",
         "type": "bar",
         "x": [
          "Merlot"
         ],
         "xaxis": "x",
         "y": [
          4.4
         ],
         "yaxis": "y"
        },
        {
         "alignmentgroup": "True",
         "customdata": [
          [
           "110 e Lode Merlot"
          ]
         ],
         "hovertemplate": "wine=%{customdata[0]}<br>grape=%{x}<br>rating=%{y}<extra></extra>",
         "legendgroup": "110 e Lode Merlot",
         "marker": {
          "color": "#EF553B",
          "pattern": {
           "shape": ""
          }
         },
         "name": "110 e Lode Merlot",
         "offsetgroup": "110 e Lode Merlot",
         "orientation": "v",
         "showlegend": true,
         "textposition": "auto",
         "type": "bar",
         "x": [
          "Merlot"
         ],
         "xaxis": "x",
         "y": [
          4.4
         ],
         "yaxis": "y"
        },
        {
         "alignmentgroup": "True",
         "customdata": [
          [
           "Merlot (Signature)"
          ]
         ],
         "hovertemplate": "wine=%{customdata[0]}<br>grape=%{x}<br>rating=%{y}<extra></extra>",
         "legendgroup": "Merlot (Signature)",
         "marker": {
          "color": "#00cc96",
          "pattern": {
           "shape": ""
          }
         },
         "name": "Merlot (Signature)",
         "offsetgroup": "Merlot (Signature)",
         "orientation": "v",
         "showlegend": true,
         "textposition": "auto",
         "type": "bar",
         "x": [
          "Merlot"
         ],
         "xaxis": "x",
         "y": [
          4.3
         ],
         "yaxis": "y"
        }
       ],
       "layout": {
        "barmode": "relative",
        "legend": {
         "title": {
          "text": "wine"
         },
         "tracegroupgap": 0
        },
        "template": {
         "data": {
          "bar": [
           {
            "error_x": {
             "color": "#2a3f5f"
            },
            "error_y": {
             "color": "#2a3f5f"
            },
            "marker": {
             "line": {
              "color": "#E5ECF6",
              "width": 0.5
             },
             "pattern": {
              "fillmode": "overlay",
              "size": 10,
              "solidity": 0.2
             }
            },
            "type": "bar"
           }
          ],
          "barpolar": [
           {
            "marker": {
             "line": {
              "color": "#E5ECF6",
              "width": 0.5
             },
             "pattern": {
              "fillmode": "overlay",
              "size": 10,
              "solidity": 0.2
             }
            },
            "type": "barpolar"
           }
          ],
          "carpet": [
           {
            "aaxis": {
             "endlinecolor": "#2a3f5f",
             "gridcolor": "white",
             "linecolor": "white",
             "minorgridcolor": "white",
             "startlinecolor": "#2a3f5f"
            },
            "baxis": {
             "endlinecolor": "#2a3f5f",
             "gridcolor": "white",
             "linecolor": "white",
             "minorgridcolor": "white",
             "startlinecolor": "#2a3f5f"
            },
            "type": "carpet"
           }
          ],
          "choropleth": [
           {
            "colorbar": {
             "outlinewidth": 0,
             "ticks": ""
            },
            "type": "choropleth"
           }
          ],
          "contour": [
           {
            "colorbar": {
             "outlinewidth": 0,
             "ticks": ""
            },
            "colorscale": [
             [
              0,
              "#0d0887"
             ],
             [
              0.1111111111111111,
              "#46039f"
             ],
             [
              0.2222222222222222,
              "#7201a8"
             ],
             [
              0.3333333333333333,
              "#9c179e"
             ],
             [
              0.4444444444444444,
              "#bd3786"
             ],
             [
              0.5555555555555556,
              "#d8576b"
             ],
             [
              0.6666666666666666,
              "#ed7953"
             ],
             [
              0.7777777777777778,
              "#fb9f3a"
             ],
             [
              0.8888888888888888,
              "#fdca26"
             ],
             [
              1,
              "#f0f921"
             ]
            ],
            "type": "contour"
           }
          ],
          "contourcarpet": [
           {
            "colorbar": {
             "outlinewidth": 0,
             "ticks": ""
            },
            "type": "contourcarpet"
           }
          ],
          "heatmap": [
           {
            "colorbar": {
             "outlinewidth": 0,
             "ticks": ""
            },
            "colorscale": [
             [
              0,
              "#0d0887"
             ],
             [
              0.1111111111111111,
              "#46039f"
             ],
             [
              0.2222222222222222,
              "#7201a8"
             ],
             [
              0.3333333333333333,
              "#9c179e"
             ],
             [
              0.4444444444444444,
              "#bd3786"
             ],
             [
              0.5555555555555556,
              "#d8576b"
             ],
             [
              0.6666666666666666,
              "#ed7953"
             ],
             [
              0.7777777777777778,
              "#fb9f3a"
             ],
             [
              0.8888888888888888,
              "#fdca26"
             ],
             [
              1,
              "#f0f921"
             ]
            ],
            "type": "heatmap"
           }
          ],
          "heatmapgl": [
           {
            "colorbar": {
             "outlinewidth": 0,
             "ticks": ""
            },
            "colorscale": [
             [
              0,
              "#0d0887"
             ],
             [
              0.1111111111111111,
              "#46039f"
             ],
             [
              0.2222222222222222,
              "#7201a8"
             ],
             [
              0.3333333333333333,
              "#9c179e"
             ],
             [
              0.4444444444444444,
              "#bd3786"
             ],
             [
              0.5555555555555556,
              "#d8576b"
             ],
             [
              0.6666666666666666,
              "#ed7953"
             ],
             [
              0.7777777777777778,
              "#fb9f3a"
             ],
             [
              0.8888888888888888,
              "#fdca26"
             ],
             [
              1,
              "#f0f921"
             ]
            ],
            "type": "heatmapgl"
           }
          ],
          "histogram": [
           {
            "marker": {
             "pattern": {
              "fillmode": "overlay",
              "size": 10,
              "solidity": 0.2
             }
            },
            "type": "histogram"
           }
          ],
          "histogram2d": [
           {
            "colorbar": {
             "outlinewidth": 0,
             "ticks": ""
            },
            "colorscale": [
             [
              0,
              "#0d0887"
             ],
             [
              0.1111111111111111,
              "#46039f"
             ],
             [
              0.2222222222222222,
              "#7201a8"
             ],
             [
              0.3333333333333333,
              "#9c179e"
             ],
             [
              0.4444444444444444,
              "#bd3786"
             ],
             [
              0.5555555555555556,
              "#d8576b"
             ],
             [
              0.6666666666666666,
              "#ed7953"
             ],
             [
              0.7777777777777778,
              "#fb9f3a"
             ],
             [
              0.8888888888888888,
              "#fdca26"
             ],
             [
              1,
              "#f0f921"
             ]
            ],
            "type": "histogram2d"
           }
          ],
          "histogram2dcontour": [
           {
            "colorbar": {
             "outlinewidth": 0,
             "ticks": ""
            },
            "colorscale": [
             [
              0,
              "#0d0887"
             ],
             [
              0.1111111111111111,
              "#46039f"
             ],
             [
              0.2222222222222222,
              "#7201a8"
             ],
             [
              0.3333333333333333,
              "#9c179e"
             ],
             [
              0.4444444444444444,
              "#bd3786"
             ],
             [
              0.5555555555555556,
              "#d8576b"
             ],
             [
              0.6666666666666666,
              "#ed7953"
             ],
             [
              0.7777777777777778,
              "#fb9f3a"
             ],
             [
              0.8888888888888888,
              "#fdca26"
             ],
             [
              1,
              "#f0f921"
             ]
            ],
            "type": "histogram2dcontour"
           }
          ],
          "mesh3d": [
           {
            "colorbar": {
             "outlinewidth": 0,
             "ticks": ""
            },
            "type": "mesh3d"
           }
          ],
          "parcoords": [
           {
            "line": {
             "colorbar": {
              "outlinewidth": 0,
              "ticks": ""
             }
            },
            "type": "parcoords"
           }
          ],
          "pie": [
           {
            "automargin": true,
            "type": "pie"
           }
          ],
          "scatter": [
           {
            "fillpattern": {
             "fillmode": "overlay",
             "size": 10,
             "solidity": 0.2
            },
            "type": "scatter"
           }
          ],
          "scatter3d": [
           {
            "line": {
             "colorbar": {
              "outlinewidth": 0,
              "ticks": ""
             }
            },
            "marker": {
             "colorbar": {
              "outlinewidth": 0,
              "ticks": ""
             }
            },
            "type": "scatter3d"
           }
          ],
          "scattercarpet": [
           {
            "marker": {
             "colorbar": {
              "outlinewidth": 0,
              "ticks": ""
             }
            },
            "type": "scattercarpet"
           }
          ],
          "scattergeo": [
           {
            "marker": {
             "colorbar": {
              "outlinewidth": 0,
              "ticks": ""
             }
            },
            "type": "scattergeo"
           }
          ],
          "scattergl": [
           {
            "marker": {
             "colorbar": {
              "outlinewidth": 0,
              "ticks": ""
             }
            },
            "type": "scattergl"
           }
          ],
          "scattermapbox": [
           {
            "marker": {
             "colorbar": {
              "outlinewidth": 0,
              "ticks": ""
             }
            },
            "type": "scattermapbox"
           }
          ],
          "scatterpolar": [
           {
            "marker": {
             "colorbar": {
              "outlinewidth": 0,
              "ticks": ""
             }
            },
            "type": "scatterpolar"
           }
          ],
          "scatterpolargl": [
           {
            "marker": {
             "colorbar": {
              "outlinewidth": 0,
              "ticks": ""
             }
            },
            "type": "scatterpolargl"
           }
          ],
          "scatterternary": [
           {
            "marker": {
             "colorbar": {
              "outlinewidth": 0,
              "ticks": ""
             }
            },
            "type": "scatterternary"
           }
          ],
          "surface": [
           {
            "colorbar": {
             "outlinewidth": 0,
             "ticks": ""
            },
            "colorscale": [
             [
              0,
              "#0d0887"
             ],
             [
              0.1111111111111111,
              "#46039f"
             ],
             [
              0.2222222222222222,
              "#7201a8"
             ],
             [
              0.3333333333333333,
              "#9c179e"
             ],
             [
              0.4444444444444444,
              "#bd3786"
             ],
             [
              0.5555555555555556,
              "#d8576b"
             ],
             [
              0.6666666666666666,
              "#ed7953"
             ],
             [
              0.7777777777777778,
              "#fb9f3a"
             ],
             [
              0.8888888888888888,
              "#fdca26"
             ],
             [
              1,
              "#f0f921"
             ]
            ],
            "type": "surface"
           }
          ],
          "table": [
           {
            "cells": {
             "fill": {
              "color": "#EBF0F8"
             },
             "line": {
              "color": "white"
             }
            },
            "header": {
             "fill": {
              "color": "#C8D4E3"
             },
             "line": {
              "color": "white"
             }
            },
            "type": "table"
           }
          ]
         },
         "layout": {
          "annotationdefaults": {
           "arrowcolor": "#2a3f5f",
           "arrowhead": 0,
           "arrowwidth": 1
          },
          "autotypenumbers": "strict",
          "coloraxis": {
           "colorbar": {
            "outlinewidth": 0,
            "ticks": ""
           }
          },
          "colorscale": {
           "diverging": [
            [
             0,
             "#8e0152"
            ],
            [
             0.1,
             "#c51b7d"
            ],
            [
             0.2,
             "#de77ae"
            ],
            [
             0.3,
             "#f1b6da"
            ],
            [
             0.4,
             "#fde0ef"
            ],
            [
             0.5,
             "#f7f7f7"
            ],
            [
             0.6,
             "#e6f5d0"
            ],
            [
             0.7,
             "#b8e186"
            ],
            [
             0.8,
             "#7fbc41"
            ],
            [
             0.9,
             "#4d9221"
            ],
            [
             1,
             "#276419"
            ]
           ],
           "sequential": [
            [
             0,
             "#0d0887"
            ],
            [
             0.1111111111111111,
             "#46039f"
            ],
            [
             0.2222222222222222,
             "#7201a8"
            ],
            [
             0.3333333333333333,
             "#9c179e"
            ],
            [
             0.4444444444444444,
             "#bd3786"
            ],
            [
             0.5555555555555556,
             "#d8576b"
            ],
            [
             0.6666666666666666,
             "#ed7953"
            ],
            [
             0.7777777777777778,
             "#fb9f3a"
            ],
            [
             0.8888888888888888,
             "#fdca26"
            ],
            [
             1,
             "#f0f921"
            ]
           ],
           "sequentialminus": [
            [
             0,
             "#0d0887"
            ],
            [
             0.1111111111111111,
             "#46039f"
            ],
            [
             0.2222222222222222,
             "#7201a8"
            ],
            [
             0.3333333333333333,
             "#9c179e"
            ],
            [
             0.4444444444444444,
             "#bd3786"
            ],
            [
             0.5555555555555556,
             "#d8576b"
            ],
            [
             0.6666666666666666,
             "#ed7953"
            ],
            [
             0.7777777777777778,
             "#fb9f3a"
            ],
            [
             0.8888888888888888,
             "#fdca26"
            ],
            [
             1,
             "#f0f921"
            ]
           ]
          },
          "colorway": [
           "#636efa",
           "#EF553B",
           "#00cc96",
           "#ab63fa",
           "#FFA15A",
           "#19d3f3",
           "#FF6692",
           "#B6E880",
           "#FF97FF",
           "#FECB52"
          ],
          "font": {
           "color": "#2a3f5f"
          },
          "geo": {
           "bgcolor": "white",
           "lakecolor": "white",
           "landcolor": "#E5ECF6",
           "showlakes": true,
           "showland": true,
           "subunitcolor": "white"
          },
          "hoverlabel": {
           "align": "left"
          },
          "hovermode": "closest",
          "mapbox": {
           "style": "light"
          },
          "paper_bgcolor": "white",
          "plot_bgcolor": "#E5ECF6",
          "polar": {
           "angularaxis": {
            "gridcolor": "white",
            "linecolor": "white",
            "ticks": ""
           },
           "bgcolor": "#E5ECF6",
           "radialaxis": {
            "gridcolor": "white",
            "linecolor": "white",
            "ticks": ""
           }
          },
          "scene": {
           "xaxis": {
            "backgroundcolor": "#E5ECF6",
            "gridcolor": "white",
            "gridwidth": 2,
            "linecolor": "white",
            "showbackground": true,
            "ticks": "",
            "zerolinecolor": "white"
           },
           "yaxis": {
            "backgroundcolor": "#E5ECF6",
            "gridcolor": "white",
            "gridwidth": 2,
            "linecolor": "white",
            "showbackground": true,
            "ticks": "",
            "zerolinecolor": "white"
           },
           "zaxis": {
            "backgroundcolor": "#E5ECF6",
            "gridcolor": "white",
            "gridwidth": 2,
            "linecolor": "white",
            "showbackground": true,
            "ticks": "",
            "zerolinecolor": "white"
           }
          },
          "shapedefaults": {
           "line": {
            "color": "#2a3f5f"
           }
          },
          "ternary": {
           "aaxis": {
            "gridcolor": "white",
            "linecolor": "white",
            "ticks": ""
           },
           "baxis": {
            "gridcolor": "white",
            "linecolor": "white",
            "ticks": ""
           },
           "bgcolor": "#E5ECF6",
           "caxis": {
            "gridcolor": "white",
            "linecolor": "white",
            "ticks": ""
           }
          },
          "title": {
           "x": 0.05
          },
          "xaxis": {
           "automargin": true,
           "gridcolor": "white",
           "linecolor": "white",
           "ticks": "",
           "title": {
            "standoff": 15
           },
           "zerolinecolor": "white",
           "zerolinewidth": 2
          },
          "yaxis": {
           "automargin": true,
           "gridcolor": "white",
           "linecolor": "white",
           "ticks": "",
           "title": {
            "standoff": 15
           },
           "zerolinecolor": "white",
           "zerolinewidth": 2
          }
         }
        },
        "title": {
         "text": "Top 5 Best Rated Wines for the Top 3 Most Common Grapes"
        },
        "xaxis": {
         "anchor": "y",
         "domain": [
          0,
          1
         ],
         "title": {
          "text": "grape"
         }
        },
        "yaxis": {
         "anchor": "x",
         "domain": [
          0,
          1
         ],
         "title": {
          "text": "rating"
         }
        }
       }
      },
      "text/html": [
       "<div>                            <div id=\"59cb698c-e892-4082-a6ab-d31679cc9cfe\" class=\"plotly-graph-div\" style=\"height:525px; width:100%;\"></div>            <script type=\"text/javascript\">                require([\"plotly\"], function(Plotly) {                    window.PLOTLYENV=window.PLOTLYENV || {};                                    if (document.getElementById(\"59cb698c-e892-4082-a6ab-d31679cc9cfe\")) {                    Plotly.newPlot(                        \"59cb698c-e892-4082-a6ab-d31679cc9cfe\",                        [{\"alignmentgroup\":\"True\",\"customdata\":[[\"Cabernet Sauvignon\"],[\"Cabernet Sauvignon\"]],\"hovertemplate\":\"wine=%{customdata[0]}\\u003cbr\\u003egrape=%{x}\\u003cbr\\u003erating=%{y}\\u003cextra\\u003e\\u003c\\u002fextra\\u003e\",\"legendgroup\":\"Cabernet Sauvignon\",\"marker\":{\"color\":\"#636efa\",\"pattern\":{\"shape\":\"\"}},\"name\":\"Cabernet Sauvignon\",\"offsetgroup\":\"Cabernet Sauvignon\",\"orientation\":\"v\",\"showlegend\":true,\"textposition\":\"auto\",\"x\":[\"Cabernet Sauvignon\",\"Cabernet Sauvignon\"],\"xaxis\":\"x\",\"y\":[4.8,4.6],\"yaxis\":\"y\",\"type\":\"bar\"},{\"alignmentgroup\":\"True\",\"customdata\":[[\"Special Selection Cabernet Sauvignon\"]],\"hovertemplate\":\"wine=%{customdata[0]}\\u003cbr\\u003egrape=%{x}\\u003cbr\\u003erating=%{y}\\u003cextra\\u003e\\u003c\\u002fextra\\u003e\",\"legendgroup\":\"Special Selection Cabernet Sauvignon\",\"marker\":{\"color\":\"#EF553B\",\"pattern\":{\"shape\":\"\"}},\"name\":\"Special Selection Cabernet Sauvignon\",\"offsetgroup\":\"Special Selection Cabernet Sauvignon\",\"orientation\":\"v\",\"showlegend\":true,\"textposition\":\"auto\",\"x\":[\"Cabernet Sauvignon\"],\"xaxis\":\"x\",\"y\":[4.7],\"yaxis\":\"y\",\"type\":\"bar\"},{\"alignmentgroup\":\"True\",\"customdata\":[[\"Cabernet Sauvignon (Signature)\"]],\"hovertemplate\":\"wine=%{customdata[0]}\\u003cbr\\u003egrape=%{x}\\u003cbr\\u003erating=%{y}\\u003cextra\\u003e\\u003c\\u002fextra\\u003e\",\"legendgroup\":\"Cabernet Sauvignon (Signature)\",\"marker\":{\"color\":\"#00cc96\",\"pattern\":{\"shape\":\"\"}},\"name\":\"Cabernet Sauvignon (Signature)\",\"offsetgroup\":\"Cabernet Sauvignon (Signature)\",\"orientation\":\"v\",\"showlegend\":true,\"textposition\":\"auto\",\"x\":[\"Cabernet Sauvignon\"],\"xaxis\":\"x\",\"y\":[4.6],\"yaxis\":\"y\",\"type\":\"bar\"},{\"alignmentgroup\":\"True\",\"customdata\":[[\"CASK 23 Cabernet Sauvignon\"]],\"hovertemplate\":\"wine=%{customdata[0]}\\u003cbr\\u003egrape=%{x}\\u003cbr\\u003erating=%{y}\\u003cextra\\u003e\\u003c\\u002fextra\\u003e\",\"legendgroup\":\"CASK 23 Cabernet Sauvignon\",\"marker\":{\"color\":\"#ab63fa\",\"pattern\":{\"shape\":\"\"}},\"name\":\"CASK 23 Cabernet Sauvignon\",\"offsetgroup\":\"CASK 23 Cabernet Sauvignon\",\"orientation\":\"v\",\"showlegend\":true,\"textposition\":\"auto\",\"x\":[\"Cabernet Sauvignon\"],\"xaxis\":\"x\",\"y\":[4.6],\"yaxis\":\"y\",\"type\":\"bar\"},{\"alignmentgroup\":\"True\",\"customdata\":[[\"Chloe Chardonnay\"]],\"hovertemplate\":\"wine=%{customdata[0]}\\u003cbr\\u003egrape=%{x}\\u003cbr\\u003erating=%{y}\\u003cextra\\u003e\\u003c\\u002fextra\\u003e\",\"legendgroup\":\"Chloe Chardonnay\",\"marker\":{\"color\":\"#FFA15A\",\"pattern\":{\"shape\":\"\"}},\"name\":\"Chloe Chardonnay\",\"offsetgroup\":\"Chloe Chardonnay\",\"orientation\":\"v\",\"showlegend\":true,\"textposition\":\"auto\",\"x\":[\"Chardonnay\"],\"xaxis\":\"x\",\"y\":[4.5],\"yaxis\":\"y\",\"type\":\"bar\"},{\"alignmentgroup\":\"True\",\"customdata\":[[\"Reserve Chardonnay\"]],\"hovertemplate\":\"wine=%{customdata[0]}\\u003cbr\\u003egrape=%{x}\\u003cbr\\u003erating=%{y}\\u003cextra\\u003e\\u003c\\u002fextra\\u003e\",\"legendgroup\":\"Reserve Chardonnay\",\"marker\":{\"color\":\"#19d3f3\",\"pattern\":{\"shape\":\"\"}},\"name\":\"Reserve Chardonnay\",\"offsetgroup\":\"Reserve Chardonnay\",\"orientation\":\"v\",\"showlegend\":true,\"textposition\":\"auto\",\"x\":[\"Chardonnay\"],\"xaxis\":\"x\",\"y\":[4.5],\"yaxis\":\"y\",\"type\":\"bar\"},{\"alignmentgroup\":\"True\",\"customdata\":[[\"Bentrock Vineyard Chardonnay\"]],\"hovertemplate\":\"wine=%{customdata[0]}\\u003cbr\\u003egrape=%{x}\\u003cbr\\u003erating=%{y}\\u003cextra\\u003e\\u003c\\u002fextra\\u003e\",\"legendgroup\":\"Bentrock Vineyard Chardonnay\",\"marker\":{\"color\":\"#FF6692\",\"pattern\":{\"shape\":\"\"}},\"name\":\"Bentrock Vineyard Chardonnay\",\"offsetgroup\":\"Bentrock Vineyard Chardonnay\",\"orientation\":\"v\",\"showlegend\":true,\"textposition\":\"auto\",\"x\":[\"Chardonnay\"],\"xaxis\":\"x\",\"y\":[4.5],\"yaxis\":\"y\",\"type\":\"bar\"},{\"alignmentgroup\":\"True\",\"customdata\":[[\"One Sixteen Chardonnay\"]],\"hovertemplate\":\"wine=%{customdata[0]}\\u003cbr\\u003egrape=%{x}\\u003cbr\\u003erating=%{y}\\u003cextra\\u003e\\u003c\\u002fextra\\u003e\",\"legendgroup\":\"One Sixteen Chardonnay\",\"marker\":{\"color\":\"#B6E880\",\"pattern\":{\"shape\":\"\"}},\"name\":\"One Sixteen Chardonnay\",\"offsetgroup\":\"One Sixteen Chardonnay\",\"orientation\":\"v\",\"showlegend\":true,\"textposition\":\"auto\",\"x\":[\"Chardonnay\"],\"xaxis\":\"x\",\"y\":[4.4],\"yaxis\":\"y\",\"type\":\"bar\"},{\"alignmentgroup\":\"True\",\"customdata\":[[\"Chardonnay\"]],\"hovertemplate\":\"wine=%{customdata[0]}\\u003cbr\\u003egrape=%{x}\\u003cbr\\u003erating=%{y}\\u003cextra\\u003e\\u003c\\u002fextra\\u003e\",\"legendgroup\":\"Chardonnay\",\"marker\":{\"color\":\"#FF97FF\",\"pattern\":{\"shape\":\"\"}},\"name\":\"Chardonnay\",\"offsetgroup\":\"Chardonnay\",\"orientation\":\"v\",\"showlegend\":true,\"textposition\":\"auto\",\"x\":[\"Chardonnay\"],\"xaxis\":\"x\",\"y\":[4.4],\"yaxis\":\"y\",\"type\":\"bar\"},{\"alignmentgroup\":\"True\",\"customdata\":[[\"Merlot\"]],\"hovertemplate\":\"wine=%{customdata[0]}\\u003cbr\\u003egrape=%{x}\\u003cbr\\u003erating=%{y}\\u003cextra\\u003e\\u003c\\u002fextra\\u003e\",\"legendgroup\":\"Merlot\",\"marker\":{\"color\":\"#FECB52\",\"pattern\":{\"shape\":\"\"}},\"name\":\"Merlot\",\"offsetgroup\":\"Merlot\",\"orientation\":\"v\",\"showlegend\":true,\"textposition\":\"auto\",\"x\":[\"Merlot\"],\"xaxis\":\"x\",\"y\":[4.4],\"yaxis\":\"y\",\"type\":\"bar\"},{\"alignmentgroup\":\"True\",\"customdata\":[[\"Calle Merlot Rosso Veronese\"]],\"hovertemplate\":\"wine=%{customdata[0]}\\u003cbr\\u003egrape=%{x}\\u003cbr\\u003erating=%{y}\\u003cextra\\u003e\\u003c\\u002fextra\\u003e\",\"legendgroup\":\"Calle Merlot Rosso Veronese\",\"marker\":{\"color\":\"#636efa\",\"pattern\":{\"shape\":\"\"}},\"name\":\"Calle Merlot Rosso Veronese\",\"offsetgroup\":\"Calle Merlot Rosso Veronese\",\"orientation\":\"v\",\"showlegend\":true,\"textposition\":\"auto\",\"x\":[\"Merlot\"],\"xaxis\":\"x\",\"y\":[4.4],\"yaxis\":\"y\",\"type\":\"bar\"},{\"alignmentgroup\":\"True\",\"customdata\":[[\"110 e Lode Merlot\"]],\"hovertemplate\":\"wine=%{customdata[0]}\\u003cbr\\u003egrape=%{x}\\u003cbr\\u003erating=%{y}\\u003cextra\\u003e\\u003c\\u002fextra\\u003e\",\"legendgroup\":\"110 e Lode Merlot\",\"marker\":{\"color\":\"#EF553B\",\"pattern\":{\"shape\":\"\"}},\"name\":\"110 e Lode Merlot\",\"offsetgroup\":\"110 e Lode Merlot\",\"orientation\":\"v\",\"showlegend\":true,\"textposition\":\"auto\",\"x\":[\"Merlot\"],\"xaxis\":\"x\",\"y\":[4.4],\"yaxis\":\"y\",\"type\":\"bar\"},{\"alignmentgroup\":\"True\",\"customdata\":[[\"Merlot (Signature)\"]],\"hovertemplate\":\"wine=%{customdata[0]}\\u003cbr\\u003egrape=%{x}\\u003cbr\\u003erating=%{y}\\u003cextra\\u003e\\u003c\\u002fextra\\u003e\",\"legendgroup\":\"Merlot (Signature)\",\"marker\":{\"color\":\"#00cc96\",\"pattern\":{\"shape\":\"\"}},\"name\":\"Merlot (Signature)\",\"offsetgroup\":\"Merlot (Signature)\",\"orientation\":\"v\",\"showlegend\":true,\"textposition\":\"auto\",\"x\":[\"Merlot\"],\"xaxis\":\"x\",\"y\":[4.3],\"yaxis\":\"y\",\"type\":\"bar\"}],                        {\"template\":{\"data\":{\"histogram2dcontour\":[{\"type\":\"histogram2dcontour\",\"colorbar\":{\"outlinewidth\":0,\"ticks\":\"\"},\"colorscale\":[[0.0,\"#0d0887\"],[0.1111111111111111,\"#46039f\"],[0.2222222222222222,\"#7201a8\"],[0.3333333333333333,\"#9c179e\"],[0.4444444444444444,\"#bd3786\"],[0.5555555555555556,\"#d8576b\"],[0.6666666666666666,\"#ed7953\"],[0.7777777777777778,\"#fb9f3a\"],[0.8888888888888888,\"#fdca26\"],[1.0,\"#f0f921\"]]}],\"choropleth\":[{\"type\":\"choropleth\",\"colorbar\":{\"outlinewidth\":0,\"ticks\":\"\"}}],\"histogram2d\":[{\"type\":\"histogram2d\",\"colorbar\":{\"outlinewidth\":0,\"ticks\":\"\"},\"colorscale\":[[0.0,\"#0d0887\"],[0.1111111111111111,\"#46039f\"],[0.2222222222222222,\"#7201a8\"],[0.3333333333333333,\"#9c179e\"],[0.4444444444444444,\"#bd3786\"],[0.5555555555555556,\"#d8576b\"],[0.6666666666666666,\"#ed7953\"],[0.7777777777777778,\"#fb9f3a\"],[0.8888888888888888,\"#fdca26\"],[1.0,\"#f0f921\"]]}],\"heatmap\":[{\"type\":\"heatmap\",\"colorbar\":{\"outlinewidth\":0,\"ticks\":\"\"},\"colorscale\":[[0.0,\"#0d0887\"],[0.1111111111111111,\"#46039f\"],[0.2222222222222222,\"#7201a8\"],[0.3333333333333333,\"#9c179e\"],[0.4444444444444444,\"#bd3786\"],[0.5555555555555556,\"#d8576b\"],[0.6666666666666666,\"#ed7953\"],[0.7777777777777778,\"#fb9f3a\"],[0.8888888888888888,\"#fdca26\"],[1.0,\"#f0f921\"]]}],\"heatmapgl\":[{\"type\":\"heatmapgl\",\"colorbar\":{\"outlinewidth\":0,\"ticks\":\"\"},\"colorscale\":[[0.0,\"#0d0887\"],[0.1111111111111111,\"#46039f\"],[0.2222222222222222,\"#7201a8\"],[0.3333333333333333,\"#9c179e\"],[0.4444444444444444,\"#bd3786\"],[0.5555555555555556,\"#d8576b\"],[0.6666666666666666,\"#ed7953\"],[0.7777777777777778,\"#fb9f3a\"],[0.8888888888888888,\"#fdca26\"],[1.0,\"#f0f921\"]]}],\"contourcarpet\":[{\"type\":\"contourcarpet\",\"colorbar\":{\"outlinewidth\":0,\"ticks\":\"\"}}],\"contour\":[{\"type\":\"contour\",\"colorbar\":{\"outlinewidth\":0,\"ticks\":\"\"},\"colorscale\":[[0.0,\"#0d0887\"],[0.1111111111111111,\"#46039f\"],[0.2222222222222222,\"#7201a8\"],[0.3333333333333333,\"#9c179e\"],[0.4444444444444444,\"#bd3786\"],[0.5555555555555556,\"#d8576b\"],[0.6666666666666666,\"#ed7953\"],[0.7777777777777778,\"#fb9f3a\"],[0.8888888888888888,\"#fdca26\"],[1.0,\"#f0f921\"]]}],\"surface\":[{\"type\":\"surface\",\"colorbar\":{\"outlinewidth\":0,\"ticks\":\"\"},\"colorscale\":[[0.0,\"#0d0887\"],[0.1111111111111111,\"#46039f\"],[0.2222222222222222,\"#7201a8\"],[0.3333333333333333,\"#9c179e\"],[0.4444444444444444,\"#bd3786\"],[0.5555555555555556,\"#d8576b\"],[0.6666666666666666,\"#ed7953\"],[0.7777777777777778,\"#fb9f3a\"],[0.8888888888888888,\"#fdca26\"],[1.0,\"#f0f921\"]]}],\"mesh3d\":[{\"type\":\"mesh3d\",\"colorbar\":{\"outlinewidth\":0,\"ticks\":\"\"}}],\"scatter\":[{\"fillpattern\":{\"fillmode\":\"overlay\",\"size\":10,\"solidity\":0.2},\"type\":\"scatter\"}],\"parcoords\":[{\"type\":\"parcoords\",\"line\":{\"colorbar\":{\"outlinewidth\":0,\"ticks\":\"\"}}}],\"scatterpolargl\":[{\"type\":\"scatterpolargl\",\"marker\":{\"colorbar\":{\"outlinewidth\":0,\"ticks\":\"\"}}}],\"bar\":[{\"error_x\":{\"color\":\"#2a3f5f\"},\"error_y\":{\"color\":\"#2a3f5f\"},\"marker\":{\"line\":{\"color\":\"#E5ECF6\",\"width\":0.5},\"pattern\":{\"fillmode\":\"overlay\",\"size\":10,\"solidity\":0.2}},\"type\":\"bar\"}],\"scattergeo\":[{\"type\":\"scattergeo\",\"marker\":{\"colorbar\":{\"outlinewidth\":0,\"ticks\":\"\"}}}],\"scatterpolar\":[{\"type\":\"scatterpolar\",\"marker\":{\"colorbar\":{\"outlinewidth\":0,\"ticks\":\"\"}}}],\"histogram\":[{\"marker\":{\"pattern\":{\"fillmode\":\"overlay\",\"size\":10,\"solidity\":0.2}},\"type\":\"histogram\"}],\"scattergl\":[{\"type\":\"scattergl\",\"marker\":{\"colorbar\":{\"outlinewidth\":0,\"ticks\":\"\"}}}],\"scatter3d\":[{\"type\":\"scatter3d\",\"line\":{\"colorbar\":{\"outlinewidth\":0,\"ticks\":\"\"}},\"marker\":{\"colorbar\":{\"outlinewidth\":0,\"ticks\":\"\"}}}],\"scattermapbox\":[{\"type\":\"scattermapbox\",\"marker\":{\"colorbar\":{\"outlinewidth\":0,\"ticks\":\"\"}}}],\"scatterternary\":[{\"type\":\"scatterternary\",\"marker\":{\"colorbar\":{\"outlinewidth\":0,\"ticks\":\"\"}}}],\"scattercarpet\":[{\"type\":\"scattercarpet\",\"marker\":{\"colorbar\":{\"outlinewidth\":0,\"ticks\":\"\"}}}],\"carpet\":[{\"aaxis\":{\"endlinecolor\":\"#2a3f5f\",\"gridcolor\":\"white\",\"linecolor\":\"white\",\"minorgridcolor\":\"white\",\"startlinecolor\":\"#2a3f5f\"},\"baxis\":{\"endlinecolor\":\"#2a3f5f\",\"gridcolor\":\"white\",\"linecolor\":\"white\",\"minorgridcolor\":\"white\",\"startlinecolor\":\"#2a3f5f\"},\"type\":\"carpet\"}],\"table\":[{\"cells\":{\"fill\":{\"color\":\"#EBF0F8\"},\"line\":{\"color\":\"white\"}},\"header\":{\"fill\":{\"color\":\"#C8D4E3\"},\"line\":{\"color\":\"white\"}},\"type\":\"table\"}],\"barpolar\":[{\"marker\":{\"line\":{\"color\":\"#E5ECF6\",\"width\":0.5},\"pattern\":{\"fillmode\":\"overlay\",\"size\":10,\"solidity\":0.2}},\"type\":\"barpolar\"}],\"pie\":[{\"automargin\":true,\"type\":\"pie\"}]},\"layout\":{\"autotypenumbers\":\"strict\",\"colorway\":[\"#636efa\",\"#EF553B\",\"#00cc96\",\"#ab63fa\",\"#FFA15A\",\"#19d3f3\",\"#FF6692\",\"#B6E880\",\"#FF97FF\",\"#FECB52\"],\"font\":{\"color\":\"#2a3f5f\"},\"hovermode\":\"closest\",\"hoverlabel\":{\"align\":\"left\"},\"paper_bgcolor\":\"white\",\"plot_bgcolor\":\"#E5ECF6\",\"polar\":{\"bgcolor\":\"#E5ECF6\",\"angularaxis\":{\"gridcolor\":\"white\",\"linecolor\":\"white\",\"ticks\":\"\"},\"radialaxis\":{\"gridcolor\":\"white\",\"linecolor\":\"white\",\"ticks\":\"\"}},\"ternary\":{\"bgcolor\":\"#E5ECF6\",\"aaxis\":{\"gridcolor\":\"white\",\"linecolor\":\"white\",\"ticks\":\"\"},\"baxis\":{\"gridcolor\":\"white\",\"linecolor\":\"white\",\"ticks\":\"\"},\"caxis\":{\"gridcolor\":\"white\",\"linecolor\":\"white\",\"ticks\":\"\"}},\"coloraxis\":{\"colorbar\":{\"outlinewidth\":0,\"ticks\":\"\"}},\"colorscale\":{\"sequential\":[[0.0,\"#0d0887\"],[0.1111111111111111,\"#46039f\"],[0.2222222222222222,\"#7201a8\"],[0.3333333333333333,\"#9c179e\"],[0.4444444444444444,\"#bd3786\"],[0.5555555555555556,\"#d8576b\"],[0.6666666666666666,\"#ed7953\"],[0.7777777777777778,\"#fb9f3a\"],[0.8888888888888888,\"#fdca26\"],[1.0,\"#f0f921\"]],\"sequentialminus\":[[0.0,\"#0d0887\"],[0.1111111111111111,\"#46039f\"],[0.2222222222222222,\"#7201a8\"],[0.3333333333333333,\"#9c179e\"],[0.4444444444444444,\"#bd3786\"],[0.5555555555555556,\"#d8576b\"],[0.6666666666666666,\"#ed7953\"],[0.7777777777777778,\"#fb9f3a\"],[0.8888888888888888,\"#fdca26\"],[1.0,\"#f0f921\"]],\"diverging\":[[0,\"#8e0152\"],[0.1,\"#c51b7d\"],[0.2,\"#de77ae\"],[0.3,\"#f1b6da\"],[0.4,\"#fde0ef\"],[0.5,\"#f7f7f7\"],[0.6,\"#e6f5d0\"],[0.7,\"#b8e186\"],[0.8,\"#7fbc41\"],[0.9,\"#4d9221\"],[1,\"#276419\"]]},\"xaxis\":{\"gridcolor\":\"white\",\"linecolor\":\"white\",\"ticks\":\"\",\"title\":{\"standoff\":15},\"zerolinecolor\":\"white\",\"automargin\":true,\"zerolinewidth\":2},\"yaxis\":{\"gridcolor\":\"white\",\"linecolor\":\"white\",\"ticks\":\"\",\"title\":{\"standoff\":15},\"zerolinecolor\":\"white\",\"automargin\":true,\"zerolinewidth\":2},\"scene\":{\"xaxis\":{\"backgroundcolor\":\"#E5ECF6\",\"gridcolor\":\"white\",\"linecolor\":\"white\",\"showbackground\":true,\"ticks\":\"\",\"zerolinecolor\":\"white\",\"gridwidth\":2},\"yaxis\":{\"backgroundcolor\":\"#E5ECF6\",\"gridcolor\":\"white\",\"linecolor\":\"white\",\"showbackground\":true,\"ticks\":\"\",\"zerolinecolor\":\"white\",\"gridwidth\":2},\"zaxis\":{\"backgroundcolor\":\"#E5ECF6\",\"gridcolor\":\"white\",\"linecolor\":\"white\",\"showbackground\":true,\"ticks\":\"\",\"zerolinecolor\":\"white\",\"gridwidth\":2}},\"shapedefaults\":{\"line\":{\"color\":\"#2a3f5f\"}},\"annotationdefaults\":{\"arrowcolor\":\"#2a3f5f\",\"arrowhead\":0,\"arrowwidth\":1},\"geo\":{\"bgcolor\":\"white\",\"landcolor\":\"#E5ECF6\",\"subunitcolor\":\"white\",\"showland\":true,\"showlakes\":true,\"lakecolor\":\"white\"},\"title\":{\"x\":0.05},\"mapbox\":{\"style\":\"light\"}}},\"xaxis\":{\"anchor\":\"y\",\"domain\":[0.0,1.0],\"title\":{\"text\":\"grape\"}},\"yaxis\":{\"anchor\":\"x\",\"domain\":[0.0,1.0],\"title\":{\"text\":\"rating\"}},\"legend\":{\"title\":{\"text\":\"wine\"},\"tracegroupgap\":0},\"title\":{\"text\":\"Top 5 Best Rated Wines for the Top 3 Most Common Grapes\"},\"barmode\":\"relative\"},                        {\"responsive\": true}                    ).then(function(){\n",
       "                            \n",
       "var gd = document.getElementById('59cb698c-e892-4082-a6ab-d31679cc9cfe');\n",
       "var x = new MutationObserver(function (mutations, observer) {{\n",
       "        var display = window.getComputedStyle(gd).display;\n",
       "        if (!display || display === 'none') {{\n",
       "            console.log([gd, 'removed!']);\n",
       "            Plotly.purge(gd);\n",
       "            observer.disconnect();\n",
       "        }}\n",
       "}});\n",
       "\n",
       "// Listen for the removal of the full notebook cells\n",
       "var notebookContainer = gd.closest('#notebook-container');\n",
       "if (notebookContainer) {{\n",
       "    x.observe(notebookContainer, {childList: true});\n",
       "}}\n",
       "\n",
       "// Listen for the clearing of the current output cell\n",
       "var outputEl = gd.closest('.output');\n",
       "if (outputEl) {{\n",
       "    x.observe(outputEl, {childList: true});\n",
       "}}\n",
       "\n",
       "                        })                };                });            </script>        </div>"
      ]
     },
     "metadata": {},
     "output_type": "display_data"
    }
   ],
   "source": [
    "df_05 = pd.read_csv(\"05.csv\")\n",
    "top_grapes = df_05['grape'].value_counts().head(3).index.tolist()\n",
    "best_wines = pd.DataFrame()\n",
    "for grape in top_grapes:\n",
    "    top_wines = df_05[df_05['grape'] == grape].nlargest(5, 'rating')\n",
    "    best_wines = pd.concat([best_wines, top_wines])\n",
    "best_wines = best_wines.reset_index(drop=True)\n",
    "fig_best_wines = px.bar(best_wines, x='grape', y='rating', color='wine', \n",
    "                        title='Top 5 Best Rated Wines for the Top 3 Most Common Grapes',\n",
    "                        hover_data=['wine', 'rating'])\n",
    "fig_best_wines.show()"
   ]
  },
  {
   "cell_type": "code",
   "execution_count": 13,
   "metadata": {},
   "outputs": [
    {
     "data": {
      "application/vnd.plotly.v1+json": {
       "config": {
        "plotlyServerURL": "https://plot.ly"
       },
       "data": [
        {
         "alignmentgroup": "True",
         "hovertemplate": "Country=%{x}<br>Average Rating=%{text}<extra></extra>",
         "legendgroup": "Allemagne",
         "marker": {
          "color": "#B279A2",
          "pattern": {
           "shape": ""
          }
         },
         "name": "Allemagne",
         "offsetgroup": "Allemagne",
         "orientation": "v",
         "showlegend": true,
         "text": [
          4.5
         ],
         "textposition": "outside",
         "texttemplate": "%{text:.2f}",
         "type": "bar",
         "x": [
          "Allemagne"
         ],
         "xaxis": "x",
         "y": [
          4.5
         ],
         "yaxis": "y"
        },
        {
         "alignmentgroup": "True",
         "hovertemplate": "Country=%{x}<br>Average Rating=%{text}<extra></extra>",
         "legendgroup": "Israël",
         "marker": {
          "color": "#4C78A8",
          "pattern": {
           "shape": ""
          }
         },
         "name": "Israël",
         "offsetgroup": "Israël",
         "orientation": "v",
         "showlegend": true,
         "text": [
          4.5
         ],
         "textposition": "outside",
         "texttemplate": "%{text:.2f}",
         "type": "bar",
         "x": [
          "Israël"
         ],
         "xaxis": "x",
         "y": [
          4.5
         ],
         "yaxis": "y"
        },
        {
         "alignmentgroup": "True",
         "hovertemplate": "Country=%{x}<br>Average Rating=%{text}<extra></extra>",
         "legendgroup": "États-Unis",
         "marker": {
          "color": "#E15F99",
          "pattern": {
           "shape": ""
          }
         },
         "name": "États-Unis",
         "offsetgroup": "États-Unis",
         "orientation": "v",
         "showlegend": true,
         "text": [
          4.49
         ],
         "textposition": "outside",
         "texttemplate": "%{text:.2f}",
         "type": "bar",
         "x": [
          "États-Unis"
         ],
         "xaxis": "x",
         "y": [
          4.49
         ],
         "yaxis": "y"
        },
        {
         "alignmentgroup": "True",
         "hovertemplate": "Country=%{x}<br>Average Rating=%{text}<extra></extra>",
         "legendgroup": "Moldavie",
         "marker": {
          "color": "#F58518",
          "pattern": {
           "shape": ""
          }
         },
         "name": "Moldavie",
         "offsetgroup": "Moldavie",
         "orientation": "v",
         "showlegend": true,
         "text": [
          4.48
         ],
         "textposition": "outside",
         "texttemplate": "%{text:.2f}",
         "type": "bar",
         "x": [
          "Moldavie"
         ],
         "xaxis": "x",
         "y": [
          4.48
         ],
         "yaxis": "y"
        },
        {
         "alignmentgroup": "True",
         "hovertemplate": "Country=%{x}<br>Average Rating=%{text}<extra></extra>",
         "legendgroup": "Hongrie",
         "marker": {
          "color": "#72B7B2",
          "pattern": {
           "shape": ""
          }
         },
         "name": "Hongrie",
         "offsetgroup": "Hongrie",
         "orientation": "v",
         "showlegend": true,
         "text": [
          4.47
         ],
         "textposition": "outside",
         "texttemplate": "%{text:.2f}",
         "type": "bar",
         "x": [
          "Hongrie"
         ],
         "xaxis": "x",
         "y": [
          4.47
         ],
         "yaxis": "y"
        },
        {
         "alignmentgroup": "True",
         "hovertemplate": "Country=%{x}<br>Average Rating=%{text}<extra></extra>",
         "legendgroup": "Afrique du Sud",
         "marker": {
          "color": "#B68100",
          "pattern": {
           "shape": ""
          }
         },
         "name": "Afrique du Sud",
         "offsetgroup": "Afrique du Sud",
         "orientation": "v",
         "showlegend": true,
         "text": [
          4.46
         ],
         "textposition": "outside",
         "texttemplate": "%{text:.2f}",
         "type": "bar",
         "x": [
          "Afrique du Sud"
         ],
         "xaxis": "x",
         "y": [
          4.46
         ],
         "yaxis": "y"
        },
        {
         "alignmentgroup": "True",
         "hovertemplate": "Country=%{x}<br>Average Rating=%{text}<extra></extra>",
         "legendgroup": "Australie",
         "marker": {
          "color": "#FB0D0D",
          "pattern": {
           "shape": ""
          }
         },
         "name": "Australie",
         "offsetgroup": "Australie",
         "orientation": "v",
         "showlegend": true,
         "text": [
          4.46
         ],
         "textposition": "outside",
         "texttemplate": "%{text:.2f}",
         "type": "bar",
         "x": [
          "Australie"
         ],
         "xaxis": "x",
         "y": [
          4.46
         ],
         "yaxis": "y"
        },
        {
         "alignmentgroup": "True",
         "hovertemplate": "Country=%{x}<br>Average Rating=%{text}<extra></extra>",
         "legendgroup": "France",
         "marker": {
          "color": "#222A2A",
          "pattern": {
           "shape": ""
          }
         },
         "name": "France",
         "offsetgroup": "France",
         "orientation": "v",
         "showlegend": true,
         "text": [
          4.45
         ],
         "textposition": "outside",
         "texttemplate": "%{text:.2f}",
         "type": "bar",
         "x": [
          "France"
         ],
         "xaxis": "x",
         "y": [
          4.45
         ],
         "yaxis": "y"
        },
        {
         "alignmentgroup": "True",
         "hovertemplate": "Country=%{x}<br>Average Rating=%{text}<extra></extra>",
         "legendgroup": "Espagne",
         "marker": {
          "color": "#E45756",
          "pattern": {
           "shape": ""
          }
         },
         "name": "Espagne",
         "offsetgroup": "Espagne",
         "orientation": "v",
         "showlegend": true,
         "text": [
          4.44
         ],
         "textposition": "outside",
         "texttemplate": "%{text:.2f}",
         "type": "bar",
         "x": [
          "Espagne"
         ],
         "xaxis": "x",
         "y": [
          4.44
         ],
         "yaxis": "y"
        },
        {
         "alignmentgroup": "True",
         "hovertemplate": "Country=%{x}<br>Average Rating=%{text}<extra></extra>",
         "legendgroup": "Portugal",
         "marker": {
          "color": "#FF9DA6",
          "pattern": {
           "shape": ""
          }
         },
         "name": "Portugal",
         "offsetgroup": "Portugal",
         "orientation": "v",
         "showlegend": true,
         "text": [
          4.44
         ],
         "textposition": "outside",
         "texttemplate": "%{text:.2f}",
         "type": "bar",
         "x": [
          "Portugal"
         ],
         "xaxis": "x",
         "y": [
          4.44
         ],
         "yaxis": "y"
        },
        {
         "alignmentgroup": "True",
         "hovertemplate": "Country=%{x}<br>Average Rating=%{text}<extra></extra>",
         "legendgroup": "Italie",
         "marker": {
          "color": "#DA16FF",
          "pattern": {
           "shape": ""
          }
         },
         "name": "Italie",
         "offsetgroup": "Italie",
         "orientation": "v",
         "showlegend": true,
         "text": [
          4.43
         ],
         "textposition": "outside",
         "texttemplate": "%{text:.2f}",
         "type": "bar",
         "x": [
          "Italie"
         ],
         "xaxis": "x",
         "y": [
          4.43
         ],
         "yaxis": "y"
        },
        {
         "alignmentgroup": "True",
         "hovertemplate": "Country=%{x}<br>Average Rating=%{text}<extra></extra>",
         "legendgroup": "Chili",
         "marker": {
          "color": "#1CA71C",
          "pattern": {
           "shape": ""
          }
         },
         "name": "Chili",
         "offsetgroup": "Chili",
         "orientation": "v",
         "showlegend": true,
         "text": [
          4.43
         ],
         "textposition": "outside",
         "texttemplate": "%{text:.2f}",
         "type": "bar",
         "x": [
          "Chili"
         ],
         "xaxis": "x",
         "y": [
          4.43
         ],
         "yaxis": "y"
        },
        {
         "alignmentgroup": "True",
         "hovertemplate": "Country=%{x}<br>Average Rating=%{text}<extra></extra>",
         "legendgroup": "Argentine",
         "marker": {
          "color": "#EECA3B",
          "pattern": {
           "shape": ""
          }
         },
         "name": "Argentine",
         "offsetgroup": "Argentine",
         "orientation": "v",
         "showlegend": true,
         "text": [
          4.42
         ],
         "textposition": "outside",
         "texttemplate": "%{text:.2f}",
         "type": "bar",
         "x": [
          "Argentine"
         ],
         "xaxis": "x",
         "y": [
          4.42
         ],
         "yaxis": "y"
        },
        {
         "alignmentgroup": "True",
         "hovertemplate": "Country=%{x}<br>Average Rating=%{text}<extra></extra>",
         "legendgroup": "Roumanie",
         "marker": {
          "color": "#BAB0AC",
          "pattern": {
           "shape": ""
          }
         },
         "name": "Roumanie",
         "offsetgroup": "Roumanie",
         "orientation": "v",
         "showlegend": true,
         "text": [
          4.4
         ],
         "textposition": "outside",
         "texttemplate": "%{text:.2f}",
         "type": "bar",
         "x": [
          "Roumanie"
         ],
         "xaxis": "x",
         "y": [
          4.4
         ],
         "yaxis": "y"
        },
        {
         "alignmentgroup": "True",
         "hovertemplate": "Country=%{x}<br>Average Rating=%{text}<extra></extra>",
         "legendgroup": "Grèce",
         "marker": {
          "color": "#9D755D",
          "pattern": {
           "shape": ""
          }
         },
         "name": "Grèce",
         "offsetgroup": "Grèce",
         "orientation": "v",
         "showlegend": true,
         "text": [
          4.4
         ],
         "textposition": "outside",
         "texttemplate": "%{text:.2f}",
         "type": "bar",
         "x": [
          "Grèce"
         ],
         "xaxis": "x",
         "y": [
          4.4
         ],
         "yaxis": "y"
        },
        {
         "alignmentgroup": "True",
         "hovertemplate": "Country=%{x}<br>Average Rating=%{text}<extra></extra>",
         "legendgroup": "Suisse",
         "marker": {
          "color": "#2E91E5",
          "pattern": {
           "shape": ""
          }
         },
         "name": "Suisse",
         "offsetgroup": "Suisse",
         "orientation": "v",
         "showlegend": true,
         "text": [
          4.35
         ],
         "textposition": "outside",
         "texttemplate": "%{text:.2f}",
         "type": "bar",
         "x": [
          "Suisse"
         ],
         "xaxis": "x",
         "y": [
          4.35
         ],
         "yaxis": "y"
        },
        {
         "alignmentgroup": "True",
         "hovertemplate": "Country=%{x}<br>Average Rating=%{text}<extra></extra>",
         "legendgroup": "Croatie",
         "marker": {
          "color": "#54A24B",
          "pattern": {
           "shape": ""
          }
         },
         "name": "Croatie",
         "offsetgroup": "Croatie",
         "orientation": "v",
         "showlegend": true,
         "text": [
          4.3
         ],
         "textposition": "outside",
         "texttemplate": "%{text:.2f}",
         "type": "bar",
         "x": [
          "Croatie"
         ],
         "xaxis": "x",
         "y": [
          4.3
         ],
         "yaxis": "y"
        }
       ],
       "layout": {
        "barmode": "relative",
        "legend": {
         "title": {
          "text": "Country"
         },
         "tracegroupgap": 0
        },
        "template": {
         "data": {
          "bar": [
           {
            "error_x": {
             "color": "#2a3f5f"
            },
            "error_y": {
             "color": "#2a3f5f"
            },
            "marker": {
             "line": {
              "color": "#E5ECF6",
              "width": 0.5
             },
             "pattern": {
              "fillmode": "overlay",
              "size": 10,
              "solidity": 0.2
             }
            },
            "type": "bar"
           }
          ],
          "barpolar": [
           {
            "marker": {
             "line": {
              "color": "#E5ECF6",
              "width": 0.5
             },
             "pattern": {
              "fillmode": "overlay",
              "size": 10,
              "solidity": 0.2
             }
            },
            "type": "barpolar"
           }
          ],
          "carpet": [
           {
            "aaxis": {
             "endlinecolor": "#2a3f5f",
             "gridcolor": "white",
             "linecolor": "white",
             "minorgridcolor": "white",
             "startlinecolor": "#2a3f5f"
            },
            "baxis": {
             "endlinecolor": "#2a3f5f",
             "gridcolor": "white",
             "linecolor": "white",
             "minorgridcolor": "white",
             "startlinecolor": "#2a3f5f"
            },
            "type": "carpet"
           }
          ],
          "choropleth": [
           {
            "colorbar": {
             "outlinewidth": 0,
             "ticks": ""
            },
            "type": "choropleth"
           }
          ],
          "contour": [
           {
            "colorbar": {
             "outlinewidth": 0,
             "ticks": ""
            },
            "colorscale": [
             [
              0,
              "#0d0887"
             ],
             [
              0.1111111111111111,
              "#46039f"
             ],
             [
              0.2222222222222222,
              "#7201a8"
             ],
             [
              0.3333333333333333,
              "#9c179e"
             ],
             [
              0.4444444444444444,
              "#bd3786"
             ],
             [
              0.5555555555555556,
              "#d8576b"
             ],
             [
              0.6666666666666666,
              "#ed7953"
             ],
             [
              0.7777777777777778,
              "#fb9f3a"
             ],
             [
              0.8888888888888888,
              "#fdca26"
             ],
             [
              1,
              "#f0f921"
             ]
            ],
            "type": "contour"
           }
          ],
          "contourcarpet": [
           {
            "colorbar": {
             "outlinewidth": 0,
             "ticks": ""
            },
            "type": "contourcarpet"
           }
          ],
          "heatmap": [
           {
            "colorbar": {
             "outlinewidth": 0,
             "ticks": ""
            },
            "colorscale": [
             [
              0,
              "#0d0887"
             ],
             [
              0.1111111111111111,
              "#46039f"
             ],
             [
              0.2222222222222222,
              "#7201a8"
             ],
             [
              0.3333333333333333,
              "#9c179e"
             ],
             [
              0.4444444444444444,
              "#bd3786"
             ],
             [
              0.5555555555555556,
              "#d8576b"
             ],
             [
              0.6666666666666666,
              "#ed7953"
             ],
             [
              0.7777777777777778,
              "#fb9f3a"
             ],
             [
              0.8888888888888888,
              "#fdca26"
             ],
             [
              1,
              "#f0f921"
             ]
            ],
            "type": "heatmap"
           }
          ],
          "heatmapgl": [
           {
            "colorbar": {
             "outlinewidth": 0,
             "ticks": ""
            },
            "colorscale": [
             [
              0,
              "#0d0887"
             ],
             [
              0.1111111111111111,
              "#46039f"
             ],
             [
              0.2222222222222222,
              "#7201a8"
             ],
             [
              0.3333333333333333,
              "#9c179e"
             ],
             [
              0.4444444444444444,
              "#bd3786"
             ],
             [
              0.5555555555555556,
              "#d8576b"
             ],
             [
              0.6666666666666666,
              "#ed7953"
             ],
             [
              0.7777777777777778,
              "#fb9f3a"
             ],
             [
              0.8888888888888888,
              "#fdca26"
             ],
             [
              1,
              "#f0f921"
             ]
            ],
            "type": "heatmapgl"
           }
          ],
          "histogram": [
           {
            "marker": {
             "pattern": {
              "fillmode": "overlay",
              "size": 10,
              "solidity": 0.2
             }
            },
            "type": "histogram"
           }
          ],
          "histogram2d": [
           {
            "colorbar": {
             "outlinewidth": 0,
             "ticks": ""
            },
            "colorscale": [
             [
              0,
              "#0d0887"
             ],
             [
              0.1111111111111111,
              "#46039f"
             ],
             [
              0.2222222222222222,
              "#7201a8"
             ],
             [
              0.3333333333333333,
              "#9c179e"
             ],
             [
              0.4444444444444444,
              "#bd3786"
             ],
             [
              0.5555555555555556,
              "#d8576b"
             ],
             [
              0.6666666666666666,
              "#ed7953"
             ],
             [
              0.7777777777777778,
              "#fb9f3a"
             ],
             [
              0.8888888888888888,
              "#fdca26"
             ],
             [
              1,
              "#f0f921"
             ]
            ],
            "type": "histogram2d"
           }
          ],
          "histogram2dcontour": [
           {
            "colorbar": {
             "outlinewidth": 0,
             "ticks": ""
            },
            "colorscale": [
             [
              0,
              "#0d0887"
             ],
             [
              0.1111111111111111,
              "#46039f"
             ],
             [
              0.2222222222222222,
              "#7201a8"
             ],
             [
              0.3333333333333333,
              "#9c179e"
             ],
             [
              0.4444444444444444,
              "#bd3786"
             ],
             [
              0.5555555555555556,
              "#d8576b"
             ],
             [
              0.6666666666666666,
              "#ed7953"
             ],
             [
              0.7777777777777778,
              "#fb9f3a"
             ],
             [
              0.8888888888888888,
              "#fdca26"
             ],
             [
              1,
              "#f0f921"
             ]
            ],
            "type": "histogram2dcontour"
           }
          ],
          "mesh3d": [
           {
            "colorbar": {
             "outlinewidth": 0,
             "ticks": ""
            },
            "type": "mesh3d"
           }
          ],
          "parcoords": [
           {
            "line": {
             "colorbar": {
              "outlinewidth": 0,
              "ticks": ""
             }
            },
            "type": "parcoords"
           }
          ],
          "pie": [
           {
            "automargin": true,
            "type": "pie"
           }
          ],
          "scatter": [
           {
            "fillpattern": {
             "fillmode": "overlay",
             "size": 10,
             "solidity": 0.2
            },
            "type": "scatter"
           }
          ],
          "scatter3d": [
           {
            "line": {
             "colorbar": {
              "outlinewidth": 0,
              "ticks": ""
             }
            },
            "marker": {
             "colorbar": {
              "outlinewidth": 0,
              "ticks": ""
             }
            },
            "type": "scatter3d"
           }
          ],
          "scattercarpet": [
           {
            "marker": {
             "colorbar": {
              "outlinewidth": 0,
              "ticks": ""
             }
            },
            "type": "scattercarpet"
           }
          ],
          "scattergeo": [
           {
            "marker": {
             "colorbar": {
              "outlinewidth": 0,
              "ticks": ""
             }
            },
            "type": "scattergeo"
           }
          ],
          "scattergl": [
           {
            "marker": {
             "colorbar": {
              "outlinewidth": 0,
              "ticks": ""
             }
            },
            "type": "scattergl"
           }
          ],
          "scattermapbox": [
           {
            "marker": {
             "colorbar": {
              "outlinewidth": 0,
              "ticks": ""
             }
            },
            "type": "scattermapbox"
           }
          ],
          "scatterpolar": [
           {
            "marker": {
             "colorbar": {
              "outlinewidth": 0,
              "ticks": ""
             }
            },
            "type": "scatterpolar"
           }
          ],
          "scatterpolargl": [
           {
            "marker": {
             "colorbar": {
              "outlinewidth": 0,
              "ticks": ""
             }
            },
            "type": "scatterpolargl"
           }
          ],
          "scatterternary": [
           {
            "marker": {
             "colorbar": {
              "outlinewidth": 0,
              "ticks": ""
             }
            },
            "type": "scatterternary"
           }
          ],
          "surface": [
           {
            "colorbar": {
             "outlinewidth": 0,
             "ticks": ""
            },
            "colorscale": [
             [
              0,
              "#0d0887"
             ],
             [
              0.1111111111111111,
              "#46039f"
             ],
             [
              0.2222222222222222,
              "#7201a8"
             ],
             [
              0.3333333333333333,
              "#9c179e"
             ],
             [
              0.4444444444444444,
              "#bd3786"
             ],
             [
              0.5555555555555556,
              "#d8576b"
             ],
             [
              0.6666666666666666,
              "#ed7953"
             ],
             [
              0.7777777777777778,
              "#fb9f3a"
             ],
             [
              0.8888888888888888,
              "#fdca26"
             ],
             [
              1,
              "#f0f921"
             ]
            ],
            "type": "surface"
           }
          ],
          "table": [
           {
            "cells": {
             "fill": {
              "color": "#EBF0F8"
             },
             "line": {
              "color": "white"
             }
            },
            "header": {
             "fill": {
              "color": "#C8D4E3"
             },
             "line": {
              "color": "white"
             }
            },
            "type": "table"
           }
          ]
         },
         "layout": {
          "annotationdefaults": {
           "arrowcolor": "#2a3f5f",
           "arrowhead": 0,
           "arrowwidth": 1
          },
          "autotypenumbers": "strict",
          "coloraxis": {
           "colorbar": {
            "outlinewidth": 0,
            "ticks": ""
           }
          },
          "colorscale": {
           "diverging": [
            [
             0,
             "#8e0152"
            ],
            [
             0.1,
             "#c51b7d"
            ],
            [
             0.2,
             "#de77ae"
            ],
            [
             0.3,
             "#f1b6da"
            ],
            [
             0.4,
             "#fde0ef"
            ],
            [
             0.5,
             "#f7f7f7"
            ],
            [
             0.6,
             "#e6f5d0"
            ],
            [
             0.7,
             "#b8e186"
            ],
            [
             0.8,
             "#7fbc41"
            ],
            [
             0.9,
             "#4d9221"
            ],
            [
             1,
             "#276419"
            ]
           ],
           "sequential": [
            [
             0,
             "#0d0887"
            ],
            [
             0.1111111111111111,
             "#46039f"
            ],
            [
             0.2222222222222222,
             "#7201a8"
            ],
            [
             0.3333333333333333,
             "#9c179e"
            ],
            [
             0.4444444444444444,
             "#bd3786"
            ],
            [
             0.5555555555555556,
             "#d8576b"
            ],
            [
             0.6666666666666666,
             "#ed7953"
            ],
            [
             0.7777777777777778,
             "#fb9f3a"
            ],
            [
             0.8888888888888888,
             "#fdca26"
            ],
            [
             1,
             "#f0f921"
            ]
           ],
           "sequentialminus": [
            [
             0,
             "#0d0887"
            ],
            [
             0.1111111111111111,
             "#46039f"
            ],
            [
             0.2222222222222222,
             "#7201a8"
            ],
            [
             0.3333333333333333,
             "#9c179e"
            ],
            [
             0.4444444444444444,
             "#bd3786"
            ],
            [
             0.5555555555555556,
             "#d8576b"
            ],
            [
             0.6666666666666666,
             "#ed7953"
            ],
            [
             0.7777777777777778,
             "#fb9f3a"
            ],
            [
             0.8888888888888888,
             "#fdca26"
            ],
            [
             1,
             "#f0f921"
            ]
           ]
          },
          "colorway": [
           "#636efa",
           "#EF553B",
           "#00cc96",
           "#ab63fa",
           "#FFA15A",
           "#19d3f3",
           "#FF6692",
           "#B6E880",
           "#FF97FF",
           "#FECB52"
          ],
          "font": {
           "color": "#2a3f5f"
          },
          "geo": {
           "bgcolor": "white",
           "lakecolor": "white",
           "landcolor": "#E5ECF6",
           "showlakes": true,
           "showland": true,
           "subunitcolor": "white"
          },
          "hoverlabel": {
           "align": "left"
          },
          "hovermode": "closest",
          "mapbox": {
           "style": "light"
          },
          "paper_bgcolor": "white",
          "plot_bgcolor": "#E5ECF6",
          "polar": {
           "angularaxis": {
            "gridcolor": "white",
            "linecolor": "white",
            "ticks": ""
           },
           "bgcolor": "#E5ECF6",
           "radialaxis": {
            "gridcolor": "white",
            "linecolor": "white",
            "ticks": ""
           }
          },
          "scene": {
           "xaxis": {
            "backgroundcolor": "#E5ECF6",
            "gridcolor": "white",
            "gridwidth": 2,
            "linecolor": "white",
            "showbackground": true,
            "ticks": "",
            "zerolinecolor": "white"
           },
           "yaxis": {
            "backgroundcolor": "#E5ECF6",
            "gridcolor": "white",
            "gridwidth": 2,
            "linecolor": "white",
            "showbackground": true,
            "ticks": "",
            "zerolinecolor": "white"
           },
           "zaxis": {
            "backgroundcolor": "#E5ECF6",
            "gridcolor": "white",
            "gridwidth": 2,
            "linecolor": "white",
            "showbackground": true,
            "ticks": "",
            "zerolinecolor": "white"
           }
          },
          "shapedefaults": {
           "line": {
            "color": "#2a3f5f"
           }
          },
          "ternary": {
           "aaxis": {
            "gridcolor": "white",
            "linecolor": "white",
            "ticks": ""
           },
           "baxis": {
            "gridcolor": "white",
            "linecolor": "white",
            "ticks": ""
           },
           "bgcolor": "#E5ECF6",
           "caxis": {
            "gridcolor": "white",
            "linecolor": "white",
            "ticks": ""
           }
          },
          "title": {
           "x": 0.05
          },
          "xaxis": {
           "automargin": true,
           "gridcolor": "white",
           "linecolor": "white",
           "ticks": "",
           "title": {
            "standoff": 15
           },
           "zerolinecolor": "white",
           "zerolinewidth": 2
          },
          "yaxis": {
           "automargin": true,
           "gridcolor": "white",
           "linecolor": "white",
           "ticks": "",
           "title": {
            "standoff": 15
           },
           "zerolinecolor": "white",
           "zerolinewidth": 2
          }
         }
        },
        "title": {
         "text": "Average Wine Rating by Country (Regular Wines)"
        },
        "uniformtext": {
         "minsize": 8,
         "mode": "hide"
        },
        "xaxis": {
         "anchor": "y",
         "categoryarray": [
          "Allemagne",
          "Israël",
          "États-Unis",
          "Moldavie",
          "Hongrie",
          "Afrique du Sud",
          "Australie",
          "France",
          "Espagne",
          "Portugal",
          "Italie",
          "Chili",
          "Argentine",
          "Roumanie",
          "Grèce",
          "Suisse",
          "Croatie"
         ],
         "categoryorder": "array",
         "domain": [
          0,
          1
         ],
         "title": {
          "text": "Country"
         }
        },
        "yaxis": {
         "anchor": "x",
         "domain": [
          0,
          1
         ],
         "title": {
          "text": "Average Rating"
         }
        }
       }
      },
      "text/html": [
       "<div>                            <div id=\"61fc877d-00b1-41b6-8246-e7d6d02b41d5\" class=\"plotly-graph-div\" style=\"height:525px; width:100%;\"></div>            <script type=\"text/javascript\">                require([\"plotly\"], function(Plotly) {                    window.PLOTLYENV=window.PLOTLYENV || {};                                    if (document.getElementById(\"61fc877d-00b1-41b6-8246-e7d6d02b41d5\")) {                    Plotly.newPlot(                        \"61fc877d-00b1-41b6-8246-e7d6d02b41d5\",                        [{\"alignmentgroup\":\"True\",\"hovertemplate\":\"Country=%{x}\\u003cbr\\u003eAverage Rating=%{text}\\u003cextra\\u003e\\u003c\\u002fextra\\u003e\",\"legendgroup\":\"Allemagne\",\"marker\":{\"color\":\"#B279A2\",\"pattern\":{\"shape\":\"\"}},\"name\":\"Allemagne\",\"offsetgroup\":\"Allemagne\",\"orientation\":\"v\",\"showlegend\":true,\"text\":[4.5],\"textposition\":\"outside\",\"x\":[\"Allemagne\"],\"xaxis\":\"x\",\"y\":[4.5],\"yaxis\":\"y\",\"type\":\"bar\",\"texttemplate\":\"%{text:.2f}\"},{\"alignmentgroup\":\"True\",\"hovertemplate\":\"Country=%{x}\\u003cbr\\u003eAverage Rating=%{text}\\u003cextra\\u003e\\u003c\\u002fextra\\u003e\",\"legendgroup\":\"Isra\\u00ebl\",\"marker\":{\"color\":\"#4C78A8\",\"pattern\":{\"shape\":\"\"}},\"name\":\"Isra\\u00ebl\",\"offsetgroup\":\"Isra\\u00ebl\",\"orientation\":\"v\",\"showlegend\":true,\"text\":[4.5],\"textposition\":\"outside\",\"x\":[\"Isra\\u00ebl\"],\"xaxis\":\"x\",\"y\":[4.5],\"yaxis\":\"y\",\"type\":\"bar\",\"texttemplate\":\"%{text:.2f}\"},{\"alignmentgroup\":\"True\",\"hovertemplate\":\"Country=%{x}\\u003cbr\\u003eAverage Rating=%{text}\\u003cextra\\u003e\\u003c\\u002fextra\\u003e\",\"legendgroup\":\"\\u00c9tats-Unis\",\"marker\":{\"color\":\"#E15F99\",\"pattern\":{\"shape\":\"\"}},\"name\":\"\\u00c9tats-Unis\",\"offsetgroup\":\"\\u00c9tats-Unis\",\"orientation\":\"v\",\"showlegend\":true,\"text\":[4.49],\"textposition\":\"outside\",\"x\":[\"\\u00c9tats-Unis\"],\"xaxis\":\"x\",\"y\":[4.49],\"yaxis\":\"y\",\"type\":\"bar\",\"texttemplate\":\"%{text:.2f}\"},{\"alignmentgroup\":\"True\",\"hovertemplate\":\"Country=%{x}\\u003cbr\\u003eAverage Rating=%{text}\\u003cextra\\u003e\\u003c\\u002fextra\\u003e\",\"legendgroup\":\"Moldavie\",\"marker\":{\"color\":\"#F58518\",\"pattern\":{\"shape\":\"\"}},\"name\":\"Moldavie\",\"offsetgroup\":\"Moldavie\",\"orientation\":\"v\",\"showlegend\":true,\"text\":[4.48],\"textposition\":\"outside\",\"x\":[\"Moldavie\"],\"xaxis\":\"x\",\"y\":[4.48],\"yaxis\":\"y\",\"type\":\"bar\",\"texttemplate\":\"%{text:.2f}\"},{\"alignmentgroup\":\"True\",\"hovertemplate\":\"Country=%{x}\\u003cbr\\u003eAverage Rating=%{text}\\u003cextra\\u003e\\u003c\\u002fextra\\u003e\",\"legendgroup\":\"Hongrie\",\"marker\":{\"color\":\"#72B7B2\",\"pattern\":{\"shape\":\"\"}},\"name\":\"Hongrie\",\"offsetgroup\":\"Hongrie\",\"orientation\":\"v\",\"showlegend\":true,\"text\":[4.47],\"textposition\":\"outside\",\"x\":[\"Hongrie\"],\"xaxis\":\"x\",\"y\":[4.47],\"yaxis\":\"y\",\"type\":\"bar\",\"texttemplate\":\"%{text:.2f}\"},{\"alignmentgroup\":\"True\",\"hovertemplate\":\"Country=%{x}\\u003cbr\\u003eAverage Rating=%{text}\\u003cextra\\u003e\\u003c\\u002fextra\\u003e\",\"legendgroup\":\"Afrique du Sud\",\"marker\":{\"color\":\"#B68100\",\"pattern\":{\"shape\":\"\"}},\"name\":\"Afrique du Sud\",\"offsetgroup\":\"Afrique du Sud\",\"orientation\":\"v\",\"showlegend\":true,\"text\":[4.46],\"textposition\":\"outside\",\"x\":[\"Afrique du Sud\"],\"xaxis\":\"x\",\"y\":[4.46],\"yaxis\":\"y\",\"type\":\"bar\",\"texttemplate\":\"%{text:.2f}\"},{\"alignmentgroup\":\"True\",\"hovertemplate\":\"Country=%{x}\\u003cbr\\u003eAverage Rating=%{text}\\u003cextra\\u003e\\u003c\\u002fextra\\u003e\",\"legendgroup\":\"Australie\",\"marker\":{\"color\":\"#FB0D0D\",\"pattern\":{\"shape\":\"\"}},\"name\":\"Australie\",\"offsetgroup\":\"Australie\",\"orientation\":\"v\",\"showlegend\":true,\"text\":[4.46],\"textposition\":\"outside\",\"x\":[\"Australie\"],\"xaxis\":\"x\",\"y\":[4.46],\"yaxis\":\"y\",\"type\":\"bar\",\"texttemplate\":\"%{text:.2f}\"},{\"alignmentgroup\":\"True\",\"hovertemplate\":\"Country=%{x}\\u003cbr\\u003eAverage Rating=%{text}\\u003cextra\\u003e\\u003c\\u002fextra\\u003e\",\"legendgroup\":\"France\",\"marker\":{\"color\":\"#222A2A\",\"pattern\":{\"shape\":\"\"}},\"name\":\"France\",\"offsetgroup\":\"France\",\"orientation\":\"v\",\"showlegend\":true,\"text\":[4.45],\"textposition\":\"outside\",\"x\":[\"France\"],\"xaxis\":\"x\",\"y\":[4.45],\"yaxis\":\"y\",\"type\":\"bar\",\"texttemplate\":\"%{text:.2f}\"},{\"alignmentgroup\":\"True\",\"hovertemplate\":\"Country=%{x}\\u003cbr\\u003eAverage Rating=%{text}\\u003cextra\\u003e\\u003c\\u002fextra\\u003e\",\"legendgroup\":\"Espagne\",\"marker\":{\"color\":\"#E45756\",\"pattern\":{\"shape\":\"\"}},\"name\":\"Espagne\",\"offsetgroup\":\"Espagne\",\"orientation\":\"v\",\"showlegend\":true,\"text\":[4.44],\"textposition\":\"outside\",\"x\":[\"Espagne\"],\"xaxis\":\"x\",\"y\":[4.44],\"yaxis\":\"y\",\"type\":\"bar\",\"texttemplate\":\"%{text:.2f}\"},{\"alignmentgroup\":\"True\",\"hovertemplate\":\"Country=%{x}\\u003cbr\\u003eAverage Rating=%{text}\\u003cextra\\u003e\\u003c\\u002fextra\\u003e\",\"legendgroup\":\"Portugal\",\"marker\":{\"color\":\"#FF9DA6\",\"pattern\":{\"shape\":\"\"}},\"name\":\"Portugal\",\"offsetgroup\":\"Portugal\",\"orientation\":\"v\",\"showlegend\":true,\"text\":[4.44],\"textposition\":\"outside\",\"x\":[\"Portugal\"],\"xaxis\":\"x\",\"y\":[4.44],\"yaxis\":\"y\",\"type\":\"bar\",\"texttemplate\":\"%{text:.2f}\"},{\"alignmentgroup\":\"True\",\"hovertemplate\":\"Country=%{x}\\u003cbr\\u003eAverage Rating=%{text}\\u003cextra\\u003e\\u003c\\u002fextra\\u003e\",\"legendgroup\":\"Italie\",\"marker\":{\"color\":\"#DA16FF\",\"pattern\":{\"shape\":\"\"}},\"name\":\"Italie\",\"offsetgroup\":\"Italie\",\"orientation\":\"v\",\"showlegend\":true,\"text\":[4.43],\"textposition\":\"outside\",\"x\":[\"Italie\"],\"xaxis\":\"x\",\"y\":[4.43],\"yaxis\":\"y\",\"type\":\"bar\",\"texttemplate\":\"%{text:.2f}\"},{\"alignmentgroup\":\"True\",\"hovertemplate\":\"Country=%{x}\\u003cbr\\u003eAverage Rating=%{text}\\u003cextra\\u003e\\u003c\\u002fextra\\u003e\",\"legendgroup\":\"Chili\",\"marker\":{\"color\":\"#1CA71C\",\"pattern\":{\"shape\":\"\"}},\"name\":\"Chili\",\"offsetgroup\":\"Chili\",\"orientation\":\"v\",\"showlegend\":true,\"text\":[4.43],\"textposition\":\"outside\",\"x\":[\"Chili\"],\"xaxis\":\"x\",\"y\":[4.43],\"yaxis\":\"y\",\"type\":\"bar\",\"texttemplate\":\"%{text:.2f}\"},{\"alignmentgroup\":\"True\",\"hovertemplate\":\"Country=%{x}\\u003cbr\\u003eAverage Rating=%{text}\\u003cextra\\u003e\\u003c\\u002fextra\\u003e\",\"legendgroup\":\"Argentine\",\"marker\":{\"color\":\"#EECA3B\",\"pattern\":{\"shape\":\"\"}},\"name\":\"Argentine\",\"offsetgroup\":\"Argentine\",\"orientation\":\"v\",\"showlegend\":true,\"text\":[4.42],\"textposition\":\"outside\",\"x\":[\"Argentine\"],\"xaxis\":\"x\",\"y\":[4.42],\"yaxis\":\"y\",\"type\":\"bar\",\"texttemplate\":\"%{text:.2f}\"},{\"alignmentgroup\":\"True\",\"hovertemplate\":\"Country=%{x}\\u003cbr\\u003eAverage Rating=%{text}\\u003cextra\\u003e\\u003c\\u002fextra\\u003e\",\"legendgroup\":\"Roumanie\",\"marker\":{\"color\":\"#BAB0AC\",\"pattern\":{\"shape\":\"\"}},\"name\":\"Roumanie\",\"offsetgroup\":\"Roumanie\",\"orientation\":\"v\",\"showlegend\":true,\"text\":[4.4],\"textposition\":\"outside\",\"x\":[\"Roumanie\"],\"xaxis\":\"x\",\"y\":[4.4],\"yaxis\":\"y\",\"type\":\"bar\",\"texttemplate\":\"%{text:.2f}\"},{\"alignmentgroup\":\"True\",\"hovertemplate\":\"Country=%{x}\\u003cbr\\u003eAverage Rating=%{text}\\u003cextra\\u003e\\u003c\\u002fextra\\u003e\",\"legendgroup\":\"Gr\\u00e8ce\",\"marker\":{\"color\":\"#9D755D\",\"pattern\":{\"shape\":\"\"}},\"name\":\"Gr\\u00e8ce\",\"offsetgroup\":\"Gr\\u00e8ce\",\"orientation\":\"v\",\"showlegend\":true,\"text\":[4.4],\"textposition\":\"outside\",\"x\":[\"Gr\\u00e8ce\"],\"xaxis\":\"x\",\"y\":[4.4],\"yaxis\":\"y\",\"type\":\"bar\",\"texttemplate\":\"%{text:.2f}\"},{\"alignmentgroup\":\"True\",\"hovertemplate\":\"Country=%{x}\\u003cbr\\u003eAverage Rating=%{text}\\u003cextra\\u003e\\u003c\\u002fextra\\u003e\",\"legendgroup\":\"Suisse\",\"marker\":{\"color\":\"#2E91E5\",\"pattern\":{\"shape\":\"\"}},\"name\":\"Suisse\",\"offsetgroup\":\"Suisse\",\"orientation\":\"v\",\"showlegend\":true,\"text\":[4.35],\"textposition\":\"outside\",\"x\":[\"Suisse\"],\"xaxis\":\"x\",\"y\":[4.35],\"yaxis\":\"y\",\"type\":\"bar\",\"texttemplate\":\"%{text:.2f}\"},{\"alignmentgroup\":\"True\",\"hovertemplate\":\"Country=%{x}\\u003cbr\\u003eAverage Rating=%{text}\\u003cextra\\u003e\\u003c\\u002fextra\\u003e\",\"legendgroup\":\"Croatie\",\"marker\":{\"color\":\"#54A24B\",\"pattern\":{\"shape\":\"\"}},\"name\":\"Croatie\",\"offsetgroup\":\"Croatie\",\"orientation\":\"v\",\"showlegend\":true,\"text\":[4.3],\"textposition\":\"outside\",\"x\":[\"Croatie\"],\"xaxis\":\"x\",\"y\":[4.3],\"yaxis\":\"y\",\"type\":\"bar\",\"texttemplate\":\"%{text:.2f}\"}],                        {\"template\":{\"data\":{\"histogram2dcontour\":[{\"type\":\"histogram2dcontour\",\"colorbar\":{\"outlinewidth\":0,\"ticks\":\"\"},\"colorscale\":[[0.0,\"#0d0887\"],[0.1111111111111111,\"#46039f\"],[0.2222222222222222,\"#7201a8\"],[0.3333333333333333,\"#9c179e\"],[0.4444444444444444,\"#bd3786\"],[0.5555555555555556,\"#d8576b\"],[0.6666666666666666,\"#ed7953\"],[0.7777777777777778,\"#fb9f3a\"],[0.8888888888888888,\"#fdca26\"],[1.0,\"#f0f921\"]]}],\"choropleth\":[{\"type\":\"choropleth\",\"colorbar\":{\"outlinewidth\":0,\"ticks\":\"\"}}],\"histogram2d\":[{\"type\":\"histogram2d\",\"colorbar\":{\"outlinewidth\":0,\"ticks\":\"\"},\"colorscale\":[[0.0,\"#0d0887\"],[0.1111111111111111,\"#46039f\"],[0.2222222222222222,\"#7201a8\"],[0.3333333333333333,\"#9c179e\"],[0.4444444444444444,\"#bd3786\"],[0.5555555555555556,\"#d8576b\"],[0.6666666666666666,\"#ed7953\"],[0.7777777777777778,\"#fb9f3a\"],[0.8888888888888888,\"#fdca26\"],[1.0,\"#f0f921\"]]}],\"heatmap\":[{\"type\":\"heatmap\",\"colorbar\":{\"outlinewidth\":0,\"ticks\":\"\"},\"colorscale\":[[0.0,\"#0d0887\"],[0.1111111111111111,\"#46039f\"],[0.2222222222222222,\"#7201a8\"],[0.3333333333333333,\"#9c179e\"],[0.4444444444444444,\"#bd3786\"],[0.5555555555555556,\"#d8576b\"],[0.6666666666666666,\"#ed7953\"],[0.7777777777777778,\"#fb9f3a\"],[0.8888888888888888,\"#fdca26\"],[1.0,\"#f0f921\"]]}],\"heatmapgl\":[{\"type\":\"heatmapgl\",\"colorbar\":{\"outlinewidth\":0,\"ticks\":\"\"},\"colorscale\":[[0.0,\"#0d0887\"],[0.1111111111111111,\"#46039f\"],[0.2222222222222222,\"#7201a8\"],[0.3333333333333333,\"#9c179e\"],[0.4444444444444444,\"#bd3786\"],[0.5555555555555556,\"#d8576b\"],[0.6666666666666666,\"#ed7953\"],[0.7777777777777778,\"#fb9f3a\"],[0.8888888888888888,\"#fdca26\"],[1.0,\"#f0f921\"]]}],\"contourcarpet\":[{\"type\":\"contourcarpet\",\"colorbar\":{\"outlinewidth\":0,\"ticks\":\"\"}}],\"contour\":[{\"type\":\"contour\",\"colorbar\":{\"outlinewidth\":0,\"ticks\":\"\"},\"colorscale\":[[0.0,\"#0d0887\"],[0.1111111111111111,\"#46039f\"],[0.2222222222222222,\"#7201a8\"],[0.3333333333333333,\"#9c179e\"],[0.4444444444444444,\"#bd3786\"],[0.5555555555555556,\"#d8576b\"],[0.6666666666666666,\"#ed7953\"],[0.7777777777777778,\"#fb9f3a\"],[0.8888888888888888,\"#fdca26\"],[1.0,\"#f0f921\"]]}],\"surface\":[{\"type\":\"surface\",\"colorbar\":{\"outlinewidth\":0,\"ticks\":\"\"},\"colorscale\":[[0.0,\"#0d0887\"],[0.1111111111111111,\"#46039f\"],[0.2222222222222222,\"#7201a8\"],[0.3333333333333333,\"#9c179e\"],[0.4444444444444444,\"#bd3786\"],[0.5555555555555556,\"#d8576b\"],[0.6666666666666666,\"#ed7953\"],[0.7777777777777778,\"#fb9f3a\"],[0.8888888888888888,\"#fdca26\"],[1.0,\"#f0f921\"]]}],\"mesh3d\":[{\"type\":\"mesh3d\",\"colorbar\":{\"outlinewidth\":0,\"ticks\":\"\"}}],\"scatter\":[{\"fillpattern\":{\"fillmode\":\"overlay\",\"size\":10,\"solidity\":0.2},\"type\":\"scatter\"}],\"parcoords\":[{\"type\":\"parcoords\",\"line\":{\"colorbar\":{\"outlinewidth\":0,\"ticks\":\"\"}}}],\"scatterpolargl\":[{\"type\":\"scatterpolargl\",\"marker\":{\"colorbar\":{\"outlinewidth\":0,\"ticks\":\"\"}}}],\"bar\":[{\"error_x\":{\"color\":\"#2a3f5f\"},\"error_y\":{\"color\":\"#2a3f5f\"},\"marker\":{\"line\":{\"color\":\"#E5ECF6\",\"width\":0.5},\"pattern\":{\"fillmode\":\"overlay\",\"size\":10,\"solidity\":0.2}},\"type\":\"bar\"}],\"scattergeo\":[{\"type\":\"scattergeo\",\"marker\":{\"colorbar\":{\"outlinewidth\":0,\"ticks\":\"\"}}}],\"scatterpolar\":[{\"type\":\"scatterpolar\",\"marker\":{\"colorbar\":{\"outlinewidth\":0,\"ticks\":\"\"}}}],\"histogram\":[{\"marker\":{\"pattern\":{\"fillmode\":\"overlay\",\"size\":10,\"solidity\":0.2}},\"type\":\"histogram\"}],\"scattergl\":[{\"type\":\"scattergl\",\"marker\":{\"colorbar\":{\"outlinewidth\":0,\"ticks\":\"\"}}}],\"scatter3d\":[{\"type\":\"scatter3d\",\"line\":{\"colorbar\":{\"outlinewidth\":0,\"ticks\":\"\"}},\"marker\":{\"colorbar\":{\"outlinewidth\":0,\"ticks\":\"\"}}}],\"scattermapbox\":[{\"type\":\"scattermapbox\",\"marker\":{\"colorbar\":{\"outlinewidth\":0,\"ticks\":\"\"}}}],\"scatterternary\":[{\"type\":\"scatterternary\",\"marker\":{\"colorbar\":{\"outlinewidth\":0,\"ticks\":\"\"}}}],\"scattercarpet\":[{\"type\":\"scattercarpet\",\"marker\":{\"colorbar\":{\"outlinewidth\":0,\"ticks\":\"\"}}}],\"carpet\":[{\"aaxis\":{\"endlinecolor\":\"#2a3f5f\",\"gridcolor\":\"white\",\"linecolor\":\"white\",\"minorgridcolor\":\"white\",\"startlinecolor\":\"#2a3f5f\"},\"baxis\":{\"endlinecolor\":\"#2a3f5f\",\"gridcolor\":\"white\",\"linecolor\":\"white\",\"minorgridcolor\":\"white\",\"startlinecolor\":\"#2a3f5f\"},\"type\":\"carpet\"}],\"table\":[{\"cells\":{\"fill\":{\"color\":\"#EBF0F8\"},\"line\":{\"color\":\"white\"}},\"header\":{\"fill\":{\"color\":\"#C8D4E3\"},\"line\":{\"color\":\"white\"}},\"type\":\"table\"}],\"barpolar\":[{\"marker\":{\"line\":{\"color\":\"#E5ECF6\",\"width\":0.5},\"pattern\":{\"fillmode\":\"overlay\",\"size\":10,\"solidity\":0.2}},\"type\":\"barpolar\"}],\"pie\":[{\"automargin\":true,\"type\":\"pie\"}]},\"layout\":{\"autotypenumbers\":\"strict\",\"colorway\":[\"#636efa\",\"#EF553B\",\"#00cc96\",\"#ab63fa\",\"#FFA15A\",\"#19d3f3\",\"#FF6692\",\"#B6E880\",\"#FF97FF\",\"#FECB52\"],\"font\":{\"color\":\"#2a3f5f\"},\"hovermode\":\"closest\",\"hoverlabel\":{\"align\":\"left\"},\"paper_bgcolor\":\"white\",\"plot_bgcolor\":\"#E5ECF6\",\"polar\":{\"bgcolor\":\"#E5ECF6\",\"angularaxis\":{\"gridcolor\":\"white\",\"linecolor\":\"white\",\"ticks\":\"\"},\"radialaxis\":{\"gridcolor\":\"white\",\"linecolor\":\"white\",\"ticks\":\"\"}},\"ternary\":{\"bgcolor\":\"#E5ECF6\",\"aaxis\":{\"gridcolor\":\"white\",\"linecolor\":\"white\",\"ticks\":\"\"},\"baxis\":{\"gridcolor\":\"white\",\"linecolor\":\"white\",\"ticks\":\"\"},\"caxis\":{\"gridcolor\":\"white\",\"linecolor\":\"white\",\"ticks\":\"\"}},\"coloraxis\":{\"colorbar\":{\"outlinewidth\":0,\"ticks\":\"\"}},\"colorscale\":{\"sequential\":[[0.0,\"#0d0887\"],[0.1111111111111111,\"#46039f\"],[0.2222222222222222,\"#7201a8\"],[0.3333333333333333,\"#9c179e\"],[0.4444444444444444,\"#bd3786\"],[0.5555555555555556,\"#d8576b\"],[0.6666666666666666,\"#ed7953\"],[0.7777777777777778,\"#fb9f3a\"],[0.8888888888888888,\"#fdca26\"],[1.0,\"#f0f921\"]],\"sequentialminus\":[[0.0,\"#0d0887\"],[0.1111111111111111,\"#46039f\"],[0.2222222222222222,\"#7201a8\"],[0.3333333333333333,\"#9c179e\"],[0.4444444444444444,\"#bd3786\"],[0.5555555555555556,\"#d8576b\"],[0.6666666666666666,\"#ed7953\"],[0.7777777777777778,\"#fb9f3a\"],[0.8888888888888888,\"#fdca26\"],[1.0,\"#f0f921\"]],\"diverging\":[[0,\"#8e0152\"],[0.1,\"#c51b7d\"],[0.2,\"#de77ae\"],[0.3,\"#f1b6da\"],[0.4,\"#fde0ef\"],[0.5,\"#f7f7f7\"],[0.6,\"#e6f5d0\"],[0.7,\"#b8e186\"],[0.8,\"#7fbc41\"],[0.9,\"#4d9221\"],[1,\"#276419\"]]},\"xaxis\":{\"gridcolor\":\"white\",\"linecolor\":\"white\",\"ticks\":\"\",\"title\":{\"standoff\":15},\"zerolinecolor\":\"white\",\"automargin\":true,\"zerolinewidth\":2},\"yaxis\":{\"gridcolor\":\"white\",\"linecolor\":\"white\",\"ticks\":\"\",\"title\":{\"standoff\":15},\"zerolinecolor\":\"white\",\"automargin\":true,\"zerolinewidth\":2},\"scene\":{\"xaxis\":{\"backgroundcolor\":\"#E5ECF6\",\"gridcolor\":\"white\",\"linecolor\":\"white\",\"showbackground\":true,\"ticks\":\"\",\"zerolinecolor\":\"white\",\"gridwidth\":2},\"yaxis\":{\"backgroundcolor\":\"#E5ECF6\",\"gridcolor\":\"white\",\"linecolor\":\"white\",\"showbackground\":true,\"ticks\":\"\",\"zerolinecolor\":\"white\",\"gridwidth\":2},\"zaxis\":{\"backgroundcolor\":\"#E5ECF6\",\"gridcolor\":\"white\",\"linecolor\":\"white\",\"showbackground\":true,\"ticks\":\"\",\"zerolinecolor\":\"white\",\"gridwidth\":2}},\"shapedefaults\":{\"line\":{\"color\":\"#2a3f5f\"}},\"annotationdefaults\":{\"arrowcolor\":\"#2a3f5f\",\"arrowhead\":0,\"arrowwidth\":1},\"geo\":{\"bgcolor\":\"white\",\"landcolor\":\"#E5ECF6\",\"subunitcolor\":\"white\",\"showland\":true,\"showlakes\":true,\"lakecolor\":\"white\"},\"title\":{\"x\":0.05},\"mapbox\":{\"style\":\"light\"}}},\"xaxis\":{\"anchor\":\"y\",\"domain\":[0.0,1.0],\"title\":{\"text\":\"Country\"},\"categoryorder\":\"array\",\"categoryarray\":[\"Allemagne\",\"Isra\\u00ebl\",\"\\u00c9tats-Unis\",\"Moldavie\",\"Hongrie\",\"Afrique du Sud\",\"Australie\",\"France\",\"Espagne\",\"Portugal\",\"Italie\",\"Chili\",\"Argentine\",\"Roumanie\",\"Gr\\u00e8ce\",\"Suisse\",\"Croatie\"]},\"yaxis\":{\"anchor\":\"x\",\"domain\":[0.0,1.0],\"title\":{\"text\":\"Average Rating\"}},\"legend\":{\"title\":{\"text\":\"Country\"},\"tracegroupgap\":0},\"title\":{\"text\":\"Average Wine Rating by Country (Regular Wines)\"},\"barmode\":\"relative\",\"uniformtext\":{\"minsize\":8,\"mode\":\"hide\"}},                        {\"responsive\": true}                    ).then(function(){\n",
       "                            \n",
       "var gd = document.getElementById('61fc877d-00b1-41b6-8246-e7d6d02b41d5');\n",
       "var x = new MutationObserver(function (mutations, observer) {{\n",
       "        var display = window.getComputedStyle(gd).display;\n",
       "        if (!display || display === 'none') {{\n",
       "            console.log([gd, 'removed!']);\n",
       "            Plotly.purge(gd);\n",
       "            observer.disconnect();\n",
       "        }}\n",
       "}});\n",
       "\n",
       "// Listen for the removal of the full notebook cells\n",
       "var notebookContainer = gd.closest('#notebook-container');\n",
       "if (notebookContainer) {{\n",
       "    x.observe(notebookContainer, {childList: true});\n",
       "}}\n",
       "\n",
       "// Listen for the clearing of the current output cell\n",
       "var outputEl = gd.closest('.output');\n",
       "if (outputEl) {{\n",
       "    x.observe(outputEl, {childList: true});\n",
       "}}\n",
       "\n",
       "                        })                };                });            </script>        </div>"
      ]
     },
     "metadata": {},
     "output_type": "display_data"
    },
    {
     "data": {
      "application/vnd.plotly.v1+json": {
       "config": {
        "plotlyServerURL": "https://plot.ly"
       },
       "data": [
        {
         "alignmentgroup": "True",
         "hovertemplate": "Country=%{x}<br>Average Rating=%{text}<extra></extra>",
         "legendgroup": "Roumanie",
         "marker": {
          "color": "#BAB0AC",
          "pattern": {
           "shape": ""
          }
         },
         "name": "Roumanie",
         "offsetgroup": "Roumanie",
         "orientation": "v",
         "showlegend": true,
         "text": [
          4.5
         ],
         "textposition": "outside",
         "texttemplate": "%{text:.2f}",
         "type": "bar",
         "x": [
          "Roumanie"
         ],
         "xaxis": "x",
         "y": [
          4.5
         ],
         "yaxis": "y"
        },
        {
         "alignmentgroup": "True",
         "hovertemplate": "Country=%{x}<br>Average Rating=%{text}<extra></extra>",
         "legendgroup": "Croatie",
         "marker": {
          "color": "#54A24B",
          "pattern": {
           "shape": ""
          }
         },
         "name": "Croatie",
         "offsetgroup": "Croatie",
         "orientation": "v",
         "showlegend": true,
         "text": [
          4.4
         ],
         "textposition": "outside",
         "texttemplate": "%{text:.2f}",
         "type": "bar",
         "x": [
          "Croatie"
         ],
         "xaxis": "x",
         "y": [
          4.4
         ],
         "yaxis": "y"
        },
        {
         "alignmentgroup": "True",
         "hovertemplate": "Country=%{x}<br>Average Rating=%{text}<extra></extra>",
         "legendgroup": "Argentine",
         "marker": {
          "color": "#EECA3B",
          "pattern": {
           "shape": ""
          }
         },
         "name": "Argentine",
         "offsetgroup": "Argentine",
         "orientation": "v",
         "showlegend": true,
         "text": [
          4.32
         ],
         "textposition": "outside",
         "texttemplate": "%{text:.2f}",
         "type": "bar",
         "x": [
          "Argentine"
         ],
         "xaxis": "x",
         "y": [
          4.32
         ],
         "yaxis": "y"
        },
        {
         "alignmentgroup": "True",
         "hovertemplate": "Country=%{x}<br>Average Rating=%{text}<extra></extra>",
         "legendgroup": "Chili",
         "marker": {
          "color": "#1CA71C",
          "pattern": {
           "shape": ""
          }
         },
         "name": "Chili",
         "offsetgroup": "Chili",
         "orientation": "v",
         "showlegend": true,
         "text": [
          4.12
         ],
         "textposition": "outside",
         "texttemplate": "%{text:.2f}",
         "type": "bar",
         "x": [
          "Chili"
         ],
         "xaxis": "x",
         "y": [
          4.12
         ],
         "yaxis": "y"
        },
        {
         "alignmentgroup": "True",
         "hovertemplate": "Country=%{x}<br>Average Rating=%{text}<extra></extra>",
         "legendgroup": "Portugal",
         "marker": {
          "color": "#FF9DA6",
          "pattern": {
           "shape": ""
          }
         },
         "name": "Portugal",
         "offsetgroup": "Portugal",
         "orientation": "v",
         "showlegend": true,
         "text": [
          3.93
         ],
         "textposition": "outside",
         "texttemplate": "%{text:.2f}",
         "type": "bar",
         "x": [
          "Portugal"
         ],
         "xaxis": "x",
         "y": [
          3.93
         ],
         "yaxis": "y"
        },
        {
         "alignmentgroup": "True",
         "hovertemplate": "Country=%{x}<br>Average Rating=%{text}<extra></extra>",
         "legendgroup": "Moldavie",
         "marker": {
          "color": "#F58518",
          "pattern": {
           "shape": ""
          }
         },
         "name": "Moldavie",
         "offsetgroup": "Moldavie",
         "orientation": "v",
         "showlegend": true,
         "text": [
          3.87
         ],
         "textposition": "outside",
         "texttemplate": "%{text:.2f}",
         "type": "bar",
         "x": [
          "Moldavie"
         ],
         "xaxis": "x",
         "y": [
          3.87
         ],
         "yaxis": "y"
        },
        {
         "alignmentgroup": "True",
         "hovertemplate": "Country=%{x}<br>Average Rating=%{text}<extra></extra>",
         "legendgroup": "États-Unis",
         "marker": {
          "color": "#E15F99",
          "pattern": {
           "shape": ""
          }
         },
         "name": "États-Unis",
         "offsetgroup": "États-Unis",
         "orientation": "v",
         "showlegend": true,
         "text": [
          3.7
         ],
         "textposition": "outside",
         "texttemplate": "%{text:.2f}",
         "type": "bar",
         "x": [
          "États-Unis"
         ],
         "xaxis": "x",
         "y": [
          3.7
         ],
         "yaxis": "y"
        },
        {
         "alignmentgroup": "True",
         "hovertemplate": "Country=%{x}<br>Average Rating=%{text}<extra></extra>",
         "legendgroup": "Afrique du Sud",
         "marker": {
          "color": "#B68100",
          "pattern": {
           "shape": ""
          }
         },
         "name": "Afrique du Sud",
         "offsetgroup": "Afrique du Sud",
         "orientation": "v",
         "showlegend": true,
         "text": [
          3.66
         ],
         "textposition": "outside",
         "texttemplate": "%{text:.2f}",
         "type": "bar",
         "x": [
          "Afrique du Sud"
         ],
         "xaxis": "x",
         "y": [
          3.66
         ],
         "yaxis": "y"
        },
        {
         "alignmentgroup": "True",
         "hovertemplate": "Country=%{x}<br>Average Rating=%{text}<extra></extra>",
         "legendgroup": "Italie",
         "marker": {
          "color": "#DA16FF",
          "pattern": {
           "shape": ""
          }
         },
         "name": "Italie",
         "offsetgroup": "Italie",
         "orientation": "v",
         "showlegend": true,
         "text": [
          3.63
         ],
         "textposition": "outside",
         "texttemplate": "%{text:.2f}",
         "type": "bar",
         "x": [
          "Italie"
         ],
         "xaxis": "x",
         "y": [
          3.63
         ],
         "yaxis": "y"
        },
        {
         "alignmentgroup": "True",
         "hovertemplate": "Country=%{x}<br>Average Rating=%{text}<extra></extra>",
         "legendgroup": "Espagne",
         "marker": {
          "color": "#E45756",
          "pattern": {
           "shape": ""
          }
         },
         "name": "Espagne",
         "offsetgroup": "Espagne",
         "orientation": "v",
         "showlegend": true,
         "text": [
          3.38
         ],
         "textposition": "outside",
         "texttemplate": "%{text:.2f}",
         "type": "bar",
         "x": [
          "Espagne"
         ],
         "xaxis": "x",
         "y": [
          3.38
         ],
         "yaxis": "y"
        },
        {
         "alignmentgroup": "True",
         "hovertemplate": "Country=%{x}<br>Average Rating=%{text}<extra></extra>",
         "legendgroup": "Hongrie",
         "marker": {
          "color": "#72B7B2",
          "pattern": {
           "shape": ""
          }
         },
         "name": "Hongrie",
         "offsetgroup": "Hongrie",
         "orientation": "v",
         "showlegend": true,
         "text": [
          3.17
         ],
         "textposition": "outside",
         "texttemplate": "%{text:.2f}",
         "type": "bar",
         "x": [
          "Hongrie"
         ],
         "xaxis": "x",
         "y": [
          3.17
         ],
         "yaxis": "y"
        },
        {
         "alignmentgroup": "True",
         "hovertemplate": "Country=%{x}<br>Average Rating=%{text}<extra></extra>",
         "legendgroup": "France",
         "marker": {
          "color": "#222A2A",
          "pattern": {
           "shape": ""
          }
         },
         "name": "France",
         "offsetgroup": "France",
         "orientation": "v",
         "showlegend": true,
         "text": [
          3.07
         ],
         "textposition": "outside",
         "texttemplate": "%{text:.2f}",
         "type": "bar",
         "x": [
          "France"
         ],
         "xaxis": "x",
         "y": [
          3.07
         ],
         "yaxis": "y"
        },
        {
         "alignmentgroup": "True",
         "hovertemplate": "Country=%{x}<br>Average Rating=%{text}<extra></extra>",
         "legendgroup": "Australie",
         "marker": {
          "color": "#FB0D0D",
          "pattern": {
           "shape": ""
          }
         },
         "name": "Australie",
         "offsetgroup": "Australie",
         "orientation": "v",
         "showlegend": true,
         "text": [
          2.83
         ],
         "textposition": "outside",
         "texttemplate": "%{text:.2f}",
         "type": "bar",
         "x": [
          "Australie"
         ],
         "xaxis": "x",
         "y": [
          2.83
         ],
         "yaxis": "y"
        },
        {
         "alignmentgroup": "True",
         "hovertemplate": "Country=%{x}<br>Average Rating=%{text}<extra></extra>",
         "legendgroup": "Grèce",
         "marker": {
          "color": "#9D755D",
          "pattern": {
           "shape": ""
          }
         },
         "name": "Grèce",
         "offsetgroup": "Grèce",
         "orientation": "v",
         "showlegend": true,
         "text": [
          2.3
         ],
         "textposition": "outside",
         "texttemplate": "%{text:.2f}",
         "type": "bar",
         "x": [
          "Grèce"
         ],
         "xaxis": "x",
         "y": [
          2.3
         ],
         "yaxis": "y"
        },
        {
         "alignmentgroup": "True",
         "hovertemplate": "Country=%{x}<br>Average Rating=%{text}<extra></extra>",
         "legendgroup": "Suisse",
         "marker": {
          "color": "#2E91E5",
          "pattern": {
           "shape": ""
          }
         },
         "name": "Suisse",
         "offsetgroup": "Suisse",
         "orientation": "v",
         "showlegend": true,
         "text": [
          2.2
         ],
         "textposition": "outside",
         "texttemplate": "%{text:.2f}",
         "type": "bar",
         "x": [
          "Suisse"
         ],
         "xaxis": "x",
         "y": [
          2.2
         ],
         "yaxis": "y"
        },
        {
         "alignmentgroup": "True",
         "hovertemplate": "Country=%{x}<br>Average Rating=%{text}<extra></extra>",
         "legendgroup": "Allemagne",
         "marker": {
          "color": "#B279A2",
          "pattern": {
           "shape": ""
          }
         },
         "name": "Allemagne",
         "offsetgroup": "Allemagne",
         "orientation": "v",
         "showlegend": true,
         "text": [
          1.7
         ],
         "textposition": "outside",
         "texttemplate": "%{text:.2f}",
         "type": "bar",
         "x": [
          "Allemagne"
         ],
         "xaxis": "x",
         "y": [
          1.7
         ],
         "yaxis": "y"
        },
        {
         "alignmentgroup": "True",
         "hovertemplate": "Country=%{x}<br>Average Rating=%{text}<extra></extra>",
         "legendgroup": "Israël",
         "marker": {
          "color": "#4C78A8",
          "pattern": {
           "shape": ""
          }
         },
         "name": "Israël",
         "offsetgroup": "Israël",
         "orientation": "v",
         "showlegend": true,
         "text": [
          0
         ],
         "textposition": "outside",
         "texttemplate": "%{text:.2f}",
         "type": "bar",
         "x": [
          "Israël"
         ],
         "xaxis": "x",
         "y": [
          0
         ],
         "yaxis": "y"
        }
       ],
       "layout": {
        "barmode": "relative",
        "legend": {
         "title": {
          "text": "Country"
         },
         "tracegroupgap": 0
        },
        "template": {
         "data": {
          "bar": [
           {
            "error_x": {
             "color": "#2a3f5f"
            },
            "error_y": {
             "color": "#2a3f5f"
            },
            "marker": {
             "line": {
              "color": "#E5ECF6",
              "width": 0.5
             },
             "pattern": {
              "fillmode": "overlay",
              "size": 10,
              "solidity": 0.2
             }
            },
            "type": "bar"
           }
          ],
          "barpolar": [
           {
            "marker": {
             "line": {
              "color": "#E5ECF6",
              "width": 0.5
             },
             "pattern": {
              "fillmode": "overlay",
              "size": 10,
              "solidity": 0.2
             }
            },
            "type": "barpolar"
           }
          ],
          "carpet": [
           {
            "aaxis": {
             "endlinecolor": "#2a3f5f",
             "gridcolor": "white",
             "linecolor": "white",
             "minorgridcolor": "white",
             "startlinecolor": "#2a3f5f"
            },
            "baxis": {
             "endlinecolor": "#2a3f5f",
             "gridcolor": "white",
             "linecolor": "white",
             "minorgridcolor": "white",
             "startlinecolor": "#2a3f5f"
            },
            "type": "carpet"
           }
          ],
          "choropleth": [
           {
            "colorbar": {
             "outlinewidth": 0,
             "ticks": ""
            },
            "type": "choropleth"
           }
          ],
          "contour": [
           {
            "colorbar": {
             "outlinewidth": 0,
             "ticks": ""
            },
            "colorscale": [
             [
              0,
              "#0d0887"
             ],
             [
              0.1111111111111111,
              "#46039f"
             ],
             [
              0.2222222222222222,
              "#7201a8"
             ],
             [
              0.3333333333333333,
              "#9c179e"
             ],
             [
              0.4444444444444444,
              "#bd3786"
             ],
             [
              0.5555555555555556,
              "#d8576b"
             ],
             [
              0.6666666666666666,
              "#ed7953"
             ],
             [
              0.7777777777777778,
              "#fb9f3a"
             ],
             [
              0.8888888888888888,
              "#fdca26"
             ],
             [
              1,
              "#f0f921"
             ]
            ],
            "type": "contour"
           }
          ],
          "contourcarpet": [
           {
            "colorbar": {
             "outlinewidth": 0,
             "ticks": ""
            },
            "type": "contourcarpet"
           }
          ],
          "heatmap": [
           {
            "colorbar": {
             "outlinewidth": 0,
             "ticks": ""
            },
            "colorscale": [
             [
              0,
              "#0d0887"
             ],
             [
              0.1111111111111111,
              "#46039f"
             ],
             [
              0.2222222222222222,
              "#7201a8"
             ],
             [
              0.3333333333333333,
              "#9c179e"
             ],
             [
              0.4444444444444444,
              "#bd3786"
             ],
             [
              0.5555555555555556,
              "#d8576b"
             ],
             [
              0.6666666666666666,
              "#ed7953"
             ],
             [
              0.7777777777777778,
              "#fb9f3a"
             ],
             [
              0.8888888888888888,
              "#fdca26"
             ],
             [
              1,
              "#f0f921"
             ]
            ],
            "type": "heatmap"
           }
          ],
          "heatmapgl": [
           {
            "colorbar": {
             "outlinewidth": 0,
             "ticks": ""
            },
            "colorscale": [
             [
              0,
              "#0d0887"
             ],
             [
              0.1111111111111111,
              "#46039f"
             ],
             [
              0.2222222222222222,
              "#7201a8"
             ],
             [
              0.3333333333333333,
              "#9c179e"
             ],
             [
              0.4444444444444444,
              "#bd3786"
             ],
             [
              0.5555555555555556,
              "#d8576b"
             ],
             [
              0.6666666666666666,
              "#ed7953"
             ],
             [
              0.7777777777777778,
              "#fb9f3a"
             ],
             [
              0.8888888888888888,
              "#fdca26"
             ],
             [
              1,
              "#f0f921"
             ]
            ],
            "type": "heatmapgl"
           }
          ],
          "histogram": [
           {
            "marker": {
             "pattern": {
              "fillmode": "overlay",
              "size": 10,
              "solidity": 0.2
             }
            },
            "type": "histogram"
           }
          ],
          "histogram2d": [
           {
            "colorbar": {
             "outlinewidth": 0,
             "ticks": ""
            },
            "colorscale": [
             [
              0,
              "#0d0887"
             ],
             [
              0.1111111111111111,
              "#46039f"
             ],
             [
              0.2222222222222222,
              "#7201a8"
             ],
             [
              0.3333333333333333,
              "#9c179e"
             ],
             [
              0.4444444444444444,
              "#bd3786"
             ],
             [
              0.5555555555555556,
              "#d8576b"
             ],
             [
              0.6666666666666666,
              "#ed7953"
             ],
             [
              0.7777777777777778,
              "#fb9f3a"
             ],
             [
              0.8888888888888888,
              "#fdca26"
             ],
             [
              1,
              "#f0f921"
             ]
            ],
            "type": "histogram2d"
           }
          ],
          "histogram2dcontour": [
           {
            "colorbar": {
             "outlinewidth": 0,
             "ticks": ""
            },
            "colorscale": [
             [
              0,
              "#0d0887"
             ],
             [
              0.1111111111111111,
              "#46039f"
             ],
             [
              0.2222222222222222,
              "#7201a8"
             ],
             [
              0.3333333333333333,
              "#9c179e"
             ],
             [
              0.4444444444444444,
              "#bd3786"
             ],
             [
              0.5555555555555556,
              "#d8576b"
             ],
             [
              0.6666666666666666,
              "#ed7953"
             ],
             [
              0.7777777777777778,
              "#fb9f3a"
             ],
             [
              0.8888888888888888,
              "#fdca26"
             ],
             [
              1,
              "#f0f921"
             ]
            ],
            "type": "histogram2dcontour"
           }
          ],
          "mesh3d": [
           {
            "colorbar": {
             "outlinewidth": 0,
             "ticks": ""
            },
            "type": "mesh3d"
           }
          ],
          "parcoords": [
           {
            "line": {
             "colorbar": {
              "outlinewidth": 0,
              "ticks": ""
             }
            },
            "type": "parcoords"
           }
          ],
          "pie": [
           {
            "automargin": true,
            "type": "pie"
           }
          ],
          "scatter": [
           {
            "fillpattern": {
             "fillmode": "overlay",
             "size": 10,
             "solidity": 0.2
            },
            "type": "scatter"
           }
          ],
          "scatter3d": [
           {
            "line": {
             "colorbar": {
              "outlinewidth": 0,
              "ticks": ""
             }
            },
            "marker": {
             "colorbar": {
              "outlinewidth": 0,
              "ticks": ""
             }
            },
            "type": "scatter3d"
           }
          ],
          "scattercarpet": [
           {
            "marker": {
             "colorbar": {
              "outlinewidth": 0,
              "ticks": ""
             }
            },
            "type": "scattercarpet"
           }
          ],
          "scattergeo": [
           {
            "marker": {
             "colorbar": {
              "outlinewidth": 0,
              "ticks": ""
             }
            },
            "type": "scattergeo"
           }
          ],
          "scattergl": [
           {
            "marker": {
             "colorbar": {
              "outlinewidth": 0,
              "ticks": ""
             }
            },
            "type": "scattergl"
           }
          ],
          "scattermapbox": [
           {
            "marker": {
             "colorbar": {
              "outlinewidth": 0,
              "ticks": ""
             }
            },
            "type": "scattermapbox"
           }
          ],
          "scatterpolar": [
           {
            "marker": {
             "colorbar": {
              "outlinewidth": 0,
              "ticks": ""
             }
            },
            "type": "scatterpolar"
           }
          ],
          "scatterpolargl": [
           {
            "marker": {
             "colorbar": {
              "outlinewidth": 0,
              "ticks": ""
             }
            },
            "type": "scatterpolargl"
           }
          ],
          "scatterternary": [
           {
            "marker": {
             "colorbar": {
              "outlinewidth": 0,
              "ticks": ""
             }
            },
            "type": "scatterternary"
           }
          ],
          "surface": [
           {
            "colorbar": {
             "outlinewidth": 0,
             "ticks": ""
            },
            "colorscale": [
             [
              0,
              "#0d0887"
             ],
             [
              0.1111111111111111,
              "#46039f"
             ],
             [
              0.2222222222222222,
              "#7201a8"
             ],
             [
              0.3333333333333333,
              "#9c179e"
             ],
             [
              0.4444444444444444,
              "#bd3786"
             ],
             [
              0.5555555555555556,
              "#d8576b"
             ],
             [
              0.6666666666666666,
              "#ed7953"
             ],
             [
              0.7777777777777778,
              "#fb9f3a"
             ],
             [
              0.8888888888888888,
              "#fdca26"
             ],
             [
              1,
              "#f0f921"
             ]
            ],
            "type": "surface"
           }
          ],
          "table": [
           {
            "cells": {
             "fill": {
              "color": "#EBF0F8"
             },
             "line": {
              "color": "white"
             }
            },
            "header": {
             "fill": {
              "color": "#C8D4E3"
             },
             "line": {
              "color": "white"
             }
            },
            "type": "table"
           }
          ]
         },
         "layout": {
          "annotationdefaults": {
           "arrowcolor": "#2a3f5f",
           "arrowhead": 0,
           "arrowwidth": 1
          },
          "autotypenumbers": "strict",
          "coloraxis": {
           "colorbar": {
            "outlinewidth": 0,
            "ticks": ""
           }
          },
          "colorscale": {
           "diverging": [
            [
             0,
             "#8e0152"
            ],
            [
             0.1,
             "#c51b7d"
            ],
            [
             0.2,
             "#de77ae"
            ],
            [
             0.3,
             "#f1b6da"
            ],
            [
             0.4,
             "#fde0ef"
            ],
            [
             0.5,
             "#f7f7f7"
            ],
            [
             0.6,
             "#e6f5d0"
            ],
            [
             0.7,
             "#b8e186"
            ],
            [
             0.8,
             "#7fbc41"
            ],
            [
             0.9,
             "#4d9221"
            ],
            [
             1,
             "#276419"
            ]
           ],
           "sequential": [
            [
             0,
             "#0d0887"
            ],
            [
             0.1111111111111111,
             "#46039f"
            ],
            [
             0.2222222222222222,
             "#7201a8"
            ],
            [
             0.3333333333333333,
             "#9c179e"
            ],
            [
             0.4444444444444444,
             "#bd3786"
            ],
            [
             0.5555555555555556,
             "#d8576b"
            ],
            [
             0.6666666666666666,
             "#ed7953"
            ],
            [
             0.7777777777777778,
             "#fb9f3a"
            ],
            [
             0.8888888888888888,
             "#fdca26"
            ],
            [
             1,
             "#f0f921"
            ]
           ],
           "sequentialminus": [
            [
             0,
             "#0d0887"
            ],
            [
             0.1111111111111111,
             "#46039f"
            ],
            [
             0.2222222222222222,
             "#7201a8"
            ],
            [
             0.3333333333333333,
             "#9c179e"
            ],
            [
             0.4444444444444444,
             "#bd3786"
            ],
            [
             0.5555555555555556,
             "#d8576b"
            ],
            [
             0.6666666666666666,
             "#ed7953"
            ],
            [
             0.7777777777777778,
             "#fb9f3a"
            ],
            [
             0.8888888888888888,
             "#fdca26"
            ],
            [
             1,
             "#f0f921"
            ]
           ]
          },
          "colorway": [
           "#636efa",
           "#EF553B",
           "#00cc96",
           "#ab63fa",
           "#FFA15A",
           "#19d3f3",
           "#FF6692",
           "#B6E880",
           "#FF97FF",
           "#FECB52"
          ],
          "font": {
           "color": "#2a3f5f"
          },
          "geo": {
           "bgcolor": "white",
           "lakecolor": "white",
           "landcolor": "#E5ECF6",
           "showlakes": true,
           "showland": true,
           "subunitcolor": "white"
          },
          "hoverlabel": {
           "align": "left"
          },
          "hovermode": "closest",
          "mapbox": {
           "style": "light"
          },
          "paper_bgcolor": "white",
          "plot_bgcolor": "#E5ECF6",
          "polar": {
           "angularaxis": {
            "gridcolor": "white",
            "linecolor": "white",
            "ticks": ""
           },
           "bgcolor": "#E5ECF6",
           "radialaxis": {
            "gridcolor": "white",
            "linecolor": "white",
            "ticks": ""
           }
          },
          "scene": {
           "xaxis": {
            "backgroundcolor": "#E5ECF6",
            "gridcolor": "white",
            "gridwidth": 2,
            "linecolor": "white",
            "showbackground": true,
            "ticks": "",
            "zerolinecolor": "white"
           },
           "yaxis": {
            "backgroundcolor": "#E5ECF6",
            "gridcolor": "white",
            "gridwidth": 2,
            "linecolor": "white",
            "showbackground": true,
            "ticks": "",
            "zerolinecolor": "white"
           },
           "zaxis": {
            "backgroundcolor": "#E5ECF6",
            "gridcolor": "white",
            "gridwidth": 2,
            "linecolor": "white",
            "showbackground": true,
            "ticks": "",
            "zerolinecolor": "white"
           }
          },
          "shapedefaults": {
           "line": {
            "color": "#2a3f5f"
           }
          },
          "ternary": {
           "aaxis": {
            "gridcolor": "white",
            "linecolor": "white",
            "ticks": ""
           },
           "baxis": {
            "gridcolor": "white",
            "linecolor": "white",
            "ticks": ""
           },
           "bgcolor": "#E5ECF6",
           "caxis": {
            "gridcolor": "white",
            "linecolor": "white",
            "ticks": ""
           }
          },
          "title": {
           "x": 0.05
          },
          "xaxis": {
           "automargin": true,
           "gridcolor": "white",
           "linecolor": "white",
           "ticks": "",
           "title": {
            "standoff": 15
           },
           "zerolinecolor": "white",
           "zerolinewidth": 2
          },
          "yaxis": {
           "automargin": true,
           "gridcolor": "white",
           "linecolor": "white",
           "ticks": "",
           "title": {
            "standoff": 15
           },
           "zerolinecolor": "white",
           "zerolinewidth": 2
          }
         }
        },
        "title": {
         "text": "Average Wine Rating by Country (Vintage Wines)"
        },
        "uniformtext": {
         "minsize": 8,
         "mode": "hide"
        },
        "xaxis": {
         "anchor": "y",
         "categoryarray": [
          "Roumanie",
          "Croatie",
          "Argentine",
          "Chili",
          "Portugal",
          "Moldavie",
          "États-Unis",
          "Afrique du Sud",
          "Italie",
          "Espagne",
          "Hongrie",
          "France",
          "Australie",
          "Grèce",
          "Suisse",
          "Allemagne",
          "Israël"
         ],
         "categoryorder": "array",
         "domain": [
          0,
          1
         ],
         "title": {
          "text": "Country"
         }
        },
        "yaxis": {
         "anchor": "x",
         "domain": [
          0,
          1
         ],
         "title": {
          "text": "Average Rating"
         }
        }
       }
      },
      "text/html": [
       "<div>                            <div id=\"0be26f01-5b99-429b-af08-1ffa6d902f03\" class=\"plotly-graph-div\" style=\"height:525px; width:100%;\"></div>            <script type=\"text/javascript\">                require([\"plotly\"], function(Plotly) {                    window.PLOTLYENV=window.PLOTLYENV || {};                                    if (document.getElementById(\"0be26f01-5b99-429b-af08-1ffa6d902f03\")) {                    Plotly.newPlot(                        \"0be26f01-5b99-429b-af08-1ffa6d902f03\",                        [{\"alignmentgroup\":\"True\",\"hovertemplate\":\"Country=%{x}\\u003cbr\\u003eAverage Rating=%{text}\\u003cextra\\u003e\\u003c\\u002fextra\\u003e\",\"legendgroup\":\"Roumanie\",\"marker\":{\"color\":\"#BAB0AC\",\"pattern\":{\"shape\":\"\"}},\"name\":\"Roumanie\",\"offsetgroup\":\"Roumanie\",\"orientation\":\"v\",\"showlegend\":true,\"text\":[4.5],\"textposition\":\"outside\",\"x\":[\"Roumanie\"],\"xaxis\":\"x\",\"y\":[4.5],\"yaxis\":\"y\",\"type\":\"bar\",\"texttemplate\":\"%{text:.2f}\"},{\"alignmentgroup\":\"True\",\"hovertemplate\":\"Country=%{x}\\u003cbr\\u003eAverage Rating=%{text}\\u003cextra\\u003e\\u003c\\u002fextra\\u003e\",\"legendgroup\":\"Croatie\",\"marker\":{\"color\":\"#54A24B\",\"pattern\":{\"shape\":\"\"}},\"name\":\"Croatie\",\"offsetgroup\":\"Croatie\",\"orientation\":\"v\",\"showlegend\":true,\"text\":[4.4],\"textposition\":\"outside\",\"x\":[\"Croatie\"],\"xaxis\":\"x\",\"y\":[4.4],\"yaxis\":\"y\",\"type\":\"bar\",\"texttemplate\":\"%{text:.2f}\"},{\"alignmentgroup\":\"True\",\"hovertemplate\":\"Country=%{x}\\u003cbr\\u003eAverage Rating=%{text}\\u003cextra\\u003e\\u003c\\u002fextra\\u003e\",\"legendgroup\":\"Argentine\",\"marker\":{\"color\":\"#EECA3B\",\"pattern\":{\"shape\":\"\"}},\"name\":\"Argentine\",\"offsetgroup\":\"Argentine\",\"orientation\":\"v\",\"showlegend\":true,\"text\":[4.32],\"textposition\":\"outside\",\"x\":[\"Argentine\"],\"xaxis\":\"x\",\"y\":[4.32],\"yaxis\":\"y\",\"type\":\"bar\",\"texttemplate\":\"%{text:.2f}\"},{\"alignmentgroup\":\"True\",\"hovertemplate\":\"Country=%{x}\\u003cbr\\u003eAverage Rating=%{text}\\u003cextra\\u003e\\u003c\\u002fextra\\u003e\",\"legendgroup\":\"Chili\",\"marker\":{\"color\":\"#1CA71C\",\"pattern\":{\"shape\":\"\"}},\"name\":\"Chili\",\"offsetgroup\":\"Chili\",\"orientation\":\"v\",\"showlegend\":true,\"text\":[4.12],\"textposition\":\"outside\",\"x\":[\"Chili\"],\"xaxis\":\"x\",\"y\":[4.12],\"yaxis\":\"y\",\"type\":\"bar\",\"texttemplate\":\"%{text:.2f}\"},{\"alignmentgroup\":\"True\",\"hovertemplate\":\"Country=%{x}\\u003cbr\\u003eAverage Rating=%{text}\\u003cextra\\u003e\\u003c\\u002fextra\\u003e\",\"legendgroup\":\"Portugal\",\"marker\":{\"color\":\"#FF9DA6\",\"pattern\":{\"shape\":\"\"}},\"name\":\"Portugal\",\"offsetgroup\":\"Portugal\",\"orientation\":\"v\",\"showlegend\":true,\"text\":[3.93],\"textposition\":\"outside\",\"x\":[\"Portugal\"],\"xaxis\":\"x\",\"y\":[3.93],\"yaxis\":\"y\",\"type\":\"bar\",\"texttemplate\":\"%{text:.2f}\"},{\"alignmentgroup\":\"True\",\"hovertemplate\":\"Country=%{x}\\u003cbr\\u003eAverage Rating=%{text}\\u003cextra\\u003e\\u003c\\u002fextra\\u003e\",\"legendgroup\":\"Moldavie\",\"marker\":{\"color\":\"#F58518\",\"pattern\":{\"shape\":\"\"}},\"name\":\"Moldavie\",\"offsetgroup\":\"Moldavie\",\"orientation\":\"v\",\"showlegend\":true,\"text\":[3.87],\"textposition\":\"outside\",\"x\":[\"Moldavie\"],\"xaxis\":\"x\",\"y\":[3.87],\"yaxis\":\"y\",\"type\":\"bar\",\"texttemplate\":\"%{text:.2f}\"},{\"alignmentgroup\":\"True\",\"hovertemplate\":\"Country=%{x}\\u003cbr\\u003eAverage Rating=%{text}\\u003cextra\\u003e\\u003c\\u002fextra\\u003e\",\"legendgroup\":\"\\u00c9tats-Unis\",\"marker\":{\"color\":\"#E15F99\",\"pattern\":{\"shape\":\"\"}},\"name\":\"\\u00c9tats-Unis\",\"offsetgroup\":\"\\u00c9tats-Unis\",\"orientation\":\"v\",\"showlegend\":true,\"text\":[3.7],\"textposition\":\"outside\",\"x\":[\"\\u00c9tats-Unis\"],\"xaxis\":\"x\",\"y\":[3.7],\"yaxis\":\"y\",\"type\":\"bar\",\"texttemplate\":\"%{text:.2f}\"},{\"alignmentgroup\":\"True\",\"hovertemplate\":\"Country=%{x}\\u003cbr\\u003eAverage Rating=%{text}\\u003cextra\\u003e\\u003c\\u002fextra\\u003e\",\"legendgroup\":\"Afrique du Sud\",\"marker\":{\"color\":\"#B68100\",\"pattern\":{\"shape\":\"\"}},\"name\":\"Afrique du Sud\",\"offsetgroup\":\"Afrique du Sud\",\"orientation\":\"v\",\"showlegend\":true,\"text\":[3.66],\"textposition\":\"outside\",\"x\":[\"Afrique du Sud\"],\"xaxis\":\"x\",\"y\":[3.66],\"yaxis\":\"y\",\"type\":\"bar\",\"texttemplate\":\"%{text:.2f}\"},{\"alignmentgroup\":\"True\",\"hovertemplate\":\"Country=%{x}\\u003cbr\\u003eAverage Rating=%{text}\\u003cextra\\u003e\\u003c\\u002fextra\\u003e\",\"legendgroup\":\"Italie\",\"marker\":{\"color\":\"#DA16FF\",\"pattern\":{\"shape\":\"\"}},\"name\":\"Italie\",\"offsetgroup\":\"Italie\",\"orientation\":\"v\",\"showlegend\":true,\"text\":[3.63],\"textposition\":\"outside\",\"x\":[\"Italie\"],\"xaxis\":\"x\",\"y\":[3.63],\"yaxis\":\"y\",\"type\":\"bar\",\"texttemplate\":\"%{text:.2f}\"},{\"alignmentgroup\":\"True\",\"hovertemplate\":\"Country=%{x}\\u003cbr\\u003eAverage Rating=%{text}\\u003cextra\\u003e\\u003c\\u002fextra\\u003e\",\"legendgroup\":\"Espagne\",\"marker\":{\"color\":\"#E45756\",\"pattern\":{\"shape\":\"\"}},\"name\":\"Espagne\",\"offsetgroup\":\"Espagne\",\"orientation\":\"v\",\"showlegend\":true,\"text\":[3.38],\"textposition\":\"outside\",\"x\":[\"Espagne\"],\"xaxis\":\"x\",\"y\":[3.38],\"yaxis\":\"y\",\"type\":\"bar\",\"texttemplate\":\"%{text:.2f}\"},{\"alignmentgroup\":\"True\",\"hovertemplate\":\"Country=%{x}\\u003cbr\\u003eAverage Rating=%{text}\\u003cextra\\u003e\\u003c\\u002fextra\\u003e\",\"legendgroup\":\"Hongrie\",\"marker\":{\"color\":\"#72B7B2\",\"pattern\":{\"shape\":\"\"}},\"name\":\"Hongrie\",\"offsetgroup\":\"Hongrie\",\"orientation\":\"v\",\"showlegend\":true,\"text\":[3.17],\"textposition\":\"outside\",\"x\":[\"Hongrie\"],\"xaxis\":\"x\",\"y\":[3.17],\"yaxis\":\"y\",\"type\":\"bar\",\"texttemplate\":\"%{text:.2f}\"},{\"alignmentgroup\":\"True\",\"hovertemplate\":\"Country=%{x}\\u003cbr\\u003eAverage Rating=%{text}\\u003cextra\\u003e\\u003c\\u002fextra\\u003e\",\"legendgroup\":\"France\",\"marker\":{\"color\":\"#222A2A\",\"pattern\":{\"shape\":\"\"}},\"name\":\"France\",\"offsetgroup\":\"France\",\"orientation\":\"v\",\"showlegend\":true,\"text\":[3.07],\"textposition\":\"outside\",\"x\":[\"France\"],\"xaxis\":\"x\",\"y\":[3.07],\"yaxis\":\"y\",\"type\":\"bar\",\"texttemplate\":\"%{text:.2f}\"},{\"alignmentgroup\":\"True\",\"hovertemplate\":\"Country=%{x}\\u003cbr\\u003eAverage Rating=%{text}\\u003cextra\\u003e\\u003c\\u002fextra\\u003e\",\"legendgroup\":\"Australie\",\"marker\":{\"color\":\"#FB0D0D\",\"pattern\":{\"shape\":\"\"}},\"name\":\"Australie\",\"offsetgroup\":\"Australie\",\"orientation\":\"v\",\"showlegend\":true,\"text\":[2.83],\"textposition\":\"outside\",\"x\":[\"Australie\"],\"xaxis\":\"x\",\"y\":[2.83],\"yaxis\":\"y\",\"type\":\"bar\",\"texttemplate\":\"%{text:.2f}\"},{\"alignmentgroup\":\"True\",\"hovertemplate\":\"Country=%{x}\\u003cbr\\u003eAverage Rating=%{text}\\u003cextra\\u003e\\u003c\\u002fextra\\u003e\",\"legendgroup\":\"Gr\\u00e8ce\",\"marker\":{\"color\":\"#9D755D\",\"pattern\":{\"shape\":\"\"}},\"name\":\"Gr\\u00e8ce\",\"offsetgroup\":\"Gr\\u00e8ce\",\"orientation\":\"v\",\"showlegend\":true,\"text\":[2.3],\"textposition\":\"outside\",\"x\":[\"Gr\\u00e8ce\"],\"xaxis\":\"x\",\"y\":[2.3],\"yaxis\":\"y\",\"type\":\"bar\",\"texttemplate\":\"%{text:.2f}\"},{\"alignmentgroup\":\"True\",\"hovertemplate\":\"Country=%{x}\\u003cbr\\u003eAverage Rating=%{text}\\u003cextra\\u003e\\u003c\\u002fextra\\u003e\",\"legendgroup\":\"Suisse\",\"marker\":{\"color\":\"#2E91E5\",\"pattern\":{\"shape\":\"\"}},\"name\":\"Suisse\",\"offsetgroup\":\"Suisse\",\"orientation\":\"v\",\"showlegend\":true,\"text\":[2.2],\"textposition\":\"outside\",\"x\":[\"Suisse\"],\"xaxis\":\"x\",\"y\":[2.2],\"yaxis\":\"y\",\"type\":\"bar\",\"texttemplate\":\"%{text:.2f}\"},{\"alignmentgroup\":\"True\",\"hovertemplate\":\"Country=%{x}\\u003cbr\\u003eAverage Rating=%{text}\\u003cextra\\u003e\\u003c\\u002fextra\\u003e\",\"legendgroup\":\"Allemagne\",\"marker\":{\"color\":\"#B279A2\",\"pattern\":{\"shape\":\"\"}},\"name\":\"Allemagne\",\"offsetgroup\":\"Allemagne\",\"orientation\":\"v\",\"showlegend\":true,\"text\":[1.7],\"textposition\":\"outside\",\"x\":[\"Allemagne\"],\"xaxis\":\"x\",\"y\":[1.7],\"yaxis\":\"y\",\"type\":\"bar\",\"texttemplate\":\"%{text:.2f}\"},{\"alignmentgroup\":\"True\",\"hovertemplate\":\"Country=%{x}\\u003cbr\\u003eAverage Rating=%{text}\\u003cextra\\u003e\\u003c\\u002fextra\\u003e\",\"legendgroup\":\"Isra\\u00ebl\",\"marker\":{\"color\":\"#4C78A8\",\"pattern\":{\"shape\":\"\"}},\"name\":\"Isra\\u00ebl\",\"offsetgroup\":\"Isra\\u00ebl\",\"orientation\":\"v\",\"showlegend\":true,\"text\":[0.0],\"textposition\":\"outside\",\"x\":[\"Isra\\u00ebl\"],\"xaxis\":\"x\",\"y\":[0.0],\"yaxis\":\"y\",\"type\":\"bar\",\"texttemplate\":\"%{text:.2f}\"}],                        {\"template\":{\"data\":{\"histogram2dcontour\":[{\"type\":\"histogram2dcontour\",\"colorbar\":{\"outlinewidth\":0,\"ticks\":\"\"},\"colorscale\":[[0.0,\"#0d0887\"],[0.1111111111111111,\"#46039f\"],[0.2222222222222222,\"#7201a8\"],[0.3333333333333333,\"#9c179e\"],[0.4444444444444444,\"#bd3786\"],[0.5555555555555556,\"#d8576b\"],[0.6666666666666666,\"#ed7953\"],[0.7777777777777778,\"#fb9f3a\"],[0.8888888888888888,\"#fdca26\"],[1.0,\"#f0f921\"]]}],\"choropleth\":[{\"type\":\"choropleth\",\"colorbar\":{\"outlinewidth\":0,\"ticks\":\"\"}}],\"histogram2d\":[{\"type\":\"histogram2d\",\"colorbar\":{\"outlinewidth\":0,\"ticks\":\"\"},\"colorscale\":[[0.0,\"#0d0887\"],[0.1111111111111111,\"#46039f\"],[0.2222222222222222,\"#7201a8\"],[0.3333333333333333,\"#9c179e\"],[0.4444444444444444,\"#bd3786\"],[0.5555555555555556,\"#d8576b\"],[0.6666666666666666,\"#ed7953\"],[0.7777777777777778,\"#fb9f3a\"],[0.8888888888888888,\"#fdca26\"],[1.0,\"#f0f921\"]]}],\"heatmap\":[{\"type\":\"heatmap\",\"colorbar\":{\"outlinewidth\":0,\"ticks\":\"\"},\"colorscale\":[[0.0,\"#0d0887\"],[0.1111111111111111,\"#46039f\"],[0.2222222222222222,\"#7201a8\"],[0.3333333333333333,\"#9c179e\"],[0.4444444444444444,\"#bd3786\"],[0.5555555555555556,\"#d8576b\"],[0.6666666666666666,\"#ed7953\"],[0.7777777777777778,\"#fb9f3a\"],[0.8888888888888888,\"#fdca26\"],[1.0,\"#f0f921\"]]}],\"heatmapgl\":[{\"type\":\"heatmapgl\",\"colorbar\":{\"outlinewidth\":0,\"ticks\":\"\"},\"colorscale\":[[0.0,\"#0d0887\"],[0.1111111111111111,\"#46039f\"],[0.2222222222222222,\"#7201a8\"],[0.3333333333333333,\"#9c179e\"],[0.4444444444444444,\"#bd3786\"],[0.5555555555555556,\"#d8576b\"],[0.6666666666666666,\"#ed7953\"],[0.7777777777777778,\"#fb9f3a\"],[0.8888888888888888,\"#fdca26\"],[1.0,\"#f0f921\"]]}],\"contourcarpet\":[{\"type\":\"contourcarpet\",\"colorbar\":{\"outlinewidth\":0,\"ticks\":\"\"}}],\"contour\":[{\"type\":\"contour\",\"colorbar\":{\"outlinewidth\":0,\"ticks\":\"\"},\"colorscale\":[[0.0,\"#0d0887\"],[0.1111111111111111,\"#46039f\"],[0.2222222222222222,\"#7201a8\"],[0.3333333333333333,\"#9c179e\"],[0.4444444444444444,\"#bd3786\"],[0.5555555555555556,\"#d8576b\"],[0.6666666666666666,\"#ed7953\"],[0.7777777777777778,\"#fb9f3a\"],[0.8888888888888888,\"#fdca26\"],[1.0,\"#f0f921\"]]}],\"surface\":[{\"type\":\"surface\",\"colorbar\":{\"outlinewidth\":0,\"ticks\":\"\"},\"colorscale\":[[0.0,\"#0d0887\"],[0.1111111111111111,\"#46039f\"],[0.2222222222222222,\"#7201a8\"],[0.3333333333333333,\"#9c179e\"],[0.4444444444444444,\"#bd3786\"],[0.5555555555555556,\"#d8576b\"],[0.6666666666666666,\"#ed7953\"],[0.7777777777777778,\"#fb9f3a\"],[0.8888888888888888,\"#fdca26\"],[1.0,\"#f0f921\"]]}],\"mesh3d\":[{\"type\":\"mesh3d\",\"colorbar\":{\"outlinewidth\":0,\"ticks\":\"\"}}],\"scatter\":[{\"fillpattern\":{\"fillmode\":\"overlay\",\"size\":10,\"solidity\":0.2},\"type\":\"scatter\"}],\"parcoords\":[{\"type\":\"parcoords\",\"line\":{\"colorbar\":{\"outlinewidth\":0,\"ticks\":\"\"}}}],\"scatterpolargl\":[{\"type\":\"scatterpolargl\",\"marker\":{\"colorbar\":{\"outlinewidth\":0,\"ticks\":\"\"}}}],\"bar\":[{\"error_x\":{\"color\":\"#2a3f5f\"},\"error_y\":{\"color\":\"#2a3f5f\"},\"marker\":{\"line\":{\"color\":\"#E5ECF6\",\"width\":0.5},\"pattern\":{\"fillmode\":\"overlay\",\"size\":10,\"solidity\":0.2}},\"type\":\"bar\"}],\"scattergeo\":[{\"type\":\"scattergeo\",\"marker\":{\"colorbar\":{\"outlinewidth\":0,\"ticks\":\"\"}}}],\"scatterpolar\":[{\"type\":\"scatterpolar\",\"marker\":{\"colorbar\":{\"outlinewidth\":0,\"ticks\":\"\"}}}],\"histogram\":[{\"marker\":{\"pattern\":{\"fillmode\":\"overlay\",\"size\":10,\"solidity\":0.2}},\"type\":\"histogram\"}],\"scattergl\":[{\"type\":\"scattergl\",\"marker\":{\"colorbar\":{\"outlinewidth\":0,\"ticks\":\"\"}}}],\"scatter3d\":[{\"type\":\"scatter3d\",\"line\":{\"colorbar\":{\"outlinewidth\":0,\"ticks\":\"\"}},\"marker\":{\"colorbar\":{\"outlinewidth\":0,\"ticks\":\"\"}}}],\"scattermapbox\":[{\"type\":\"scattermapbox\",\"marker\":{\"colorbar\":{\"outlinewidth\":0,\"ticks\":\"\"}}}],\"scatterternary\":[{\"type\":\"scatterternary\",\"marker\":{\"colorbar\":{\"outlinewidth\":0,\"ticks\":\"\"}}}],\"scattercarpet\":[{\"type\":\"scattercarpet\",\"marker\":{\"colorbar\":{\"outlinewidth\":0,\"ticks\":\"\"}}}],\"carpet\":[{\"aaxis\":{\"endlinecolor\":\"#2a3f5f\",\"gridcolor\":\"white\",\"linecolor\":\"white\",\"minorgridcolor\":\"white\",\"startlinecolor\":\"#2a3f5f\"},\"baxis\":{\"endlinecolor\":\"#2a3f5f\",\"gridcolor\":\"white\",\"linecolor\":\"white\",\"minorgridcolor\":\"white\",\"startlinecolor\":\"#2a3f5f\"},\"type\":\"carpet\"}],\"table\":[{\"cells\":{\"fill\":{\"color\":\"#EBF0F8\"},\"line\":{\"color\":\"white\"}},\"header\":{\"fill\":{\"color\":\"#C8D4E3\"},\"line\":{\"color\":\"white\"}},\"type\":\"table\"}],\"barpolar\":[{\"marker\":{\"line\":{\"color\":\"#E5ECF6\",\"width\":0.5},\"pattern\":{\"fillmode\":\"overlay\",\"size\":10,\"solidity\":0.2}},\"type\":\"barpolar\"}],\"pie\":[{\"automargin\":true,\"type\":\"pie\"}]},\"layout\":{\"autotypenumbers\":\"strict\",\"colorway\":[\"#636efa\",\"#EF553B\",\"#00cc96\",\"#ab63fa\",\"#FFA15A\",\"#19d3f3\",\"#FF6692\",\"#B6E880\",\"#FF97FF\",\"#FECB52\"],\"font\":{\"color\":\"#2a3f5f\"},\"hovermode\":\"closest\",\"hoverlabel\":{\"align\":\"left\"},\"paper_bgcolor\":\"white\",\"plot_bgcolor\":\"#E5ECF6\",\"polar\":{\"bgcolor\":\"#E5ECF6\",\"angularaxis\":{\"gridcolor\":\"white\",\"linecolor\":\"white\",\"ticks\":\"\"},\"radialaxis\":{\"gridcolor\":\"white\",\"linecolor\":\"white\",\"ticks\":\"\"}},\"ternary\":{\"bgcolor\":\"#E5ECF6\",\"aaxis\":{\"gridcolor\":\"white\",\"linecolor\":\"white\",\"ticks\":\"\"},\"baxis\":{\"gridcolor\":\"white\",\"linecolor\":\"white\",\"ticks\":\"\"},\"caxis\":{\"gridcolor\":\"white\",\"linecolor\":\"white\",\"ticks\":\"\"}},\"coloraxis\":{\"colorbar\":{\"outlinewidth\":0,\"ticks\":\"\"}},\"colorscale\":{\"sequential\":[[0.0,\"#0d0887\"],[0.1111111111111111,\"#46039f\"],[0.2222222222222222,\"#7201a8\"],[0.3333333333333333,\"#9c179e\"],[0.4444444444444444,\"#bd3786\"],[0.5555555555555556,\"#d8576b\"],[0.6666666666666666,\"#ed7953\"],[0.7777777777777778,\"#fb9f3a\"],[0.8888888888888888,\"#fdca26\"],[1.0,\"#f0f921\"]],\"sequentialminus\":[[0.0,\"#0d0887\"],[0.1111111111111111,\"#46039f\"],[0.2222222222222222,\"#7201a8\"],[0.3333333333333333,\"#9c179e\"],[0.4444444444444444,\"#bd3786\"],[0.5555555555555556,\"#d8576b\"],[0.6666666666666666,\"#ed7953\"],[0.7777777777777778,\"#fb9f3a\"],[0.8888888888888888,\"#fdca26\"],[1.0,\"#f0f921\"]],\"diverging\":[[0,\"#8e0152\"],[0.1,\"#c51b7d\"],[0.2,\"#de77ae\"],[0.3,\"#f1b6da\"],[0.4,\"#fde0ef\"],[0.5,\"#f7f7f7\"],[0.6,\"#e6f5d0\"],[0.7,\"#b8e186\"],[0.8,\"#7fbc41\"],[0.9,\"#4d9221\"],[1,\"#276419\"]]},\"xaxis\":{\"gridcolor\":\"white\",\"linecolor\":\"white\",\"ticks\":\"\",\"title\":{\"standoff\":15},\"zerolinecolor\":\"white\",\"automargin\":true,\"zerolinewidth\":2},\"yaxis\":{\"gridcolor\":\"white\",\"linecolor\":\"white\",\"ticks\":\"\",\"title\":{\"standoff\":15},\"zerolinecolor\":\"white\",\"automargin\":true,\"zerolinewidth\":2},\"scene\":{\"xaxis\":{\"backgroundcolor\":\"#E5ECF6\",\"gridcolor\":\"white\",\"linecolor\":\"white\",\"showbackground\":true,\"ticks\":\"\",\"zerolinecolor\":\"white\",\"gridwidth\":2},\"yaxis\":{\"backgroundcolor\":\"#E5ECF6\",\"gridcolor\":\"white\",\"linecolor\":\"white\",\"showbackground\":true,\"ticks\":\"\",\"zerolinecolor\":\"white\",\"gridwidth\":2},\"zaxis\":{\"backgroundcolor\":\"#E5ECF6\",\"gridcolor\":\"white\",\"linecolor\":\"white\",\"showbackground\":true,\"ticks\":\"\",\"zerolinecolor\":\"white\",\"gridwidth\":2}},\"shapedefaults\":{\"line\":{\"color\":\"#2a3f5f\"}},\"annotationdefaults\":{\"arrowcolor\":\"#2a3f5f\",\"arrowhead\":0,\"arrowwidth\":1},\"geo\":{\"bgcolor\":\"white\",\"landcolor\":\"#E5ECF6\",\"subunitcolor\":\"white\",\"showland\":true,\"showlakes\":true,\"lakecolor\":\"white\"},\"title\":{\"x\":0.05},\"mapbox\":{\"style\":\"light\"}}},\"xaxis\":{\"anchor\":\"y\",\"domain\":[0.0,1.0],\"title\":{\"text\":\"Country\"},\"categoryorder\":\"array\",\"categoryarray\":[\"Roumanie\",\"Croatie\",\"Argentine\",\"Chili\",\"Portugal\",\"Moldavie\",\"\\u00c9tats-Unis\",\"Afrique du Sud\",\"Italie\",\"Espagne\",\"Hongrie\",\"France\",\"Australie\",\"Gr\\u00e8ce\",\"Suisse\",\"Allemagne\",\"Isra\\u00ebl\"]},\"yaxis\":{\"anchor\":\"x\",\"domain\":[0.0,1.0],\"title\":{\"text\":\"Average Rating\"}},\"legend\":{\"title\":{\"text\":\"Country\"},\"tracegroupgap\":0},\"title\":{\"text\":\"Average Wine Rating by Country (Vintage Wines)\"},\"barmode\":\"relative\",\"uniformtext\":{\"minsize\":8,\"mode\":\"hide\"}},                        {\"responsive\": true}                    ).then(function(){\n",
       "                            \n",
       "var gd = document.getElementById('0be26f01-5b99-429b-af08-1ffa6d902f03');\n",
       "var x = new MutationObserver(function (mutations, observer) {{\n",
       "        var display = window.getComputedStyle(gd).display;\n",
       "        if (!display || display === 'none') {{\n",
       "            console.log([gd, 'removed!']);\n",
       "            Plotly.purge(gd);\n",
       "            observer.disconnect();\n",
       "        }}\n",
       "}});\n",
       "\n",
       "// Listen for the removal of the full notebook cells\n",
       "var notebookContainer = gd.closest('#notebook-container');\n",
       "if (notebookContainer) {{\n",
       "    x.observe(notebookContainer, {childList: true});\n",
       "}}\n",
       "\n",
       "// Listen for the clearing of the current output cell\n",
       "var outputEl = gd.closest('.output');\n",
       "if (outputEl) {{\n",
       "    x.observe(outputEl, {childList: true});\n",
       "}}\n",
       "\n",
       "                        })                };                });            </script>        </div>"
      ]
     },
     "metadata": {},
     "output_type": "display_data"
    }
   ],
   "source": [
    "df_countries = pd.read_csv(\"06_part_01.csv\")\n",
    "df_vintages = pd.read_csv(\"06_part_02.csv\")\n",
    "\n",
    "regular_countries = ['Allemagne', 'Israël', 'États-Unis', 'Moldavie', 'Hongrie', \n",
    "                     'Afrique du Sud', 'Australie', 'France', 'Espagne', 'Portugal', \n",
    "                     'Chili', 'Italie', 'Argentine', 'Grèce', 'Roumanie', 'Suisse', 'Croatie']\n",
    "\n",
    "vintage_countries = ['Roumanie', 'Croatie', 'Argentine', 'Chili', 'Portugal', \n",
    "                     'Moldavie', 'États-Unis', 'Afrique du Sud', 'Italie', 'Espagne', \n",
    "                     'Hongrie', 'France', 'Australie', 'Grèce', 'Suisse', \n",
    "                     'Allemagne', 'Israël']\n",
    "\n",
    "all_countries = list(set(regular_countries + vintage_countries))\n",
    "\n",
    "extended_palette = px.colors.qualitative.T10 + px.colors.qualitative.Dark24 + px.colors.qualitative.Set3\n",
    "\n",
    "if len(all_countries) > len(extended_palette):\n",
    "    extended_palette = extended_palette * (len(all_countries) // len(extended_palette) + 1)\n",
    "\n",
    "country_color_map = {country: extended_palette[i] for i, country in enumerate(all_countries)}\n",
    "\n",
    "country_avg_ratings = df_countries.groupby('country_name')['average_rating'].mean().round(2).reset_index()\n",
    "country_avg_ratings = country_avg_ratings.sort_values(by='average_rating', ascending=False)\n",
    "\n",
    "fig_country = px.bar(\n",
    "    country_avg_ratings, \n",
    "    x='country_name', \n",
    "    y='average_rating', \n",
    "    title='Average Wine Rating by Country (Regular Wines)',\n",
    "    labels={'average_rating': 'Average Rating', 'country_name': 'Country'},\n",
    "    text='average_rating',\n",
    "    color='country_name',\n",
    "    color_discrete_map=country_color_map  \n",
    ")\n",
    "\n",
    "fig_country.update_traces(texttemplate='%{text:.2f}', textposition='outside')\n",
    "fig_country.update_layout(uniformtext_minsize=8, uniformtext_mode='hide')\n",
    "\n",
    "fig_country.show()\n",
    "\n",
    "vintage_country_avg_ratings = df_vintages.groupby('country_name')['average_rating'].mean().round(2).reset_index()\n",
    "vintage_country_avg_ratings = vintage_country_avg_ratings.sort_values(by='average_rating', ascending=False)\n",
    "\n",
    "fig_vintage_country = px.bar(\n",
    "    vintage_country_avg_ratings, \n",
    "    x='country_name', \n",
    "    y='average_rating', \n",
    "    title='Average Wine Rating by Country (Vintage Wines)',\n",
    "    labels={'average_rating': 'Average Rating', 'country_name': 'Country'},\n",
    "    text='average_rating',\n",
    "    color='country_name',\n",
    "    color_discrete_map=country_color_map  \n",
    ")\n",
    "\n",
    "fig_vintage_country.update_traces(texttemplate='%{text:.2f}', textposition='outside')\n",
    "fig_vintage_country.update_layout(uniformtext_minsize=8, uniformtext_mode='hide')\n",
    "\n",
    "fig_vintage_country.show()"
   ]
  },
  {
   "cell_type": "code",
   "execution_count": 21,
   "metadata": {},
   "outputs": [
    {
     "data": {
      "application/vnd.plotly.v1+json": {
       "config": {
        "plotlyServerURL": "https://plot.ly"
       },
       "data": [
        {
         "hovertemplate": "<b>%{hovertext}</b><br><br>name=Château Voigny Sauternes 2019<br>price_euros=%{x}<br>ratings_average=%{y}<br>Number of Ratings=%{marker.size}<extra></extra>",
         "hovertext": [
          "Château Voigny Sauternes 2019"
         ],
         "legendgroup": "Château Voigny Sauternes 2019",
         "marker": {
          "color": "#636efa",
          "line": {
           "color": "DarkSlateGrey",
           "width": 1
          },
          "opacity": 0.8,
          "size": [
           143
          ],
          "sizemode": "area",
          "sizeref": 2.852222222222222,
          "symbol": "circle"
         },
         "mode": "markers",
         "name": "Château Voigny Sauternes 2019",
         "orientation": "v",
         "showlegend": true,
         "type": "scatter",
         "x": [
          13.95
         ],
         "xaxis": "x",
         "y": [
          4.4
         ],
         "yaxis": "y"
        },
        {
         "hovertemplate": "<b>%{hovertext}</b><br><br>name=Cignomoro Primitivo di Manduria 2021<br>price_euros=%{x}<br>ratings_average=%{y}<br>Number of Ratings=%{marker.size}<extra></extra>",
         "hovertext": [
          "Cignomoro Primitivo di Manduria 2021"
         ],
         "legendgroup": "Cignomoro Primitivo di Manduria 2021",
         "marker": {
          "color": "#EF553B",
          "line": {
           "color": "DarkSlateGrey",
           "width": 1
          },
          "opacity": 0.8,
          "size": [
           32
          ],
          "sizemode": "area",
          "sizeref": 2.852222222222222,
          "symbol": "circle"
         },
         "mode": "markers",
         "name": "Cignomoro Primitivo di Manduria 2021",
         "orientation": "v",
         "showlegend": true,
         "type": "scatter",
         "x": [
          18.75
         ],
         "xaxis": "x",
         "y": [
          4.5
         ],
         "yaxis": "y"
        },
        {
         "hovertemplate": "<b>%{hovertext}</b><br><br>name=Luccarelli Old Vines Primitivo di Manduria 2019<br>price_euros=%{x}<br>ratings_average=%{y}<br>Number of Ratings=%{marker.size}<extra></extra>",
         "hovertext": [
          "Luccarelli Old Vines Primitivo di Manduria 2019"
         ],
         "legendgroup": "Luccarelli Old Vines Primitivo di Manduria 2019",
         "marker": {
          "color": "#00cc96",
          "line": {
           "color": "DarkSlateGrey",
           "width": 1
          },
          "opacity": 0.8,
          "size": [
           274
          ],
          "sizemode": "area",
          "sizeref": 2.852222222222222,
          "symbol": "circle"
         },
         "mode": "markers",
         "name": "Luccarelli Old Vines Primitivo di Manduria 2019",
         "orientation": "v",
         "showlegend": true,
         "type": "scatter",
         "x": [
          20.95
         ],
         "xaxis": "x",
         "y": [
          4.4
         ],
         "yaxis": "y"
        },
        {
         "hovertemplate": "<b>%{hovertext}</b><br><br>name=Puglia Pop Triglia Negroamaro Rosato 2022<br>price_euros=%{x}<br>ratings_average=%{y}<br>Number of Ratings=%{marker.size}<extra></extra>",
         "hovertext": [
          "Puglia Pop Triglia Negroamaro Rosato 2022"
         ],
         "legendgroup": "Puglia Pop Triglia Negroamaro Rosato 2022",
         "marker": {
          "color": "#ab63fa",
          "line": {
           "color": "DarkSlateGrey",
           "width": 1
          },
          "opacity": 0.8,
          "size": [
           25
          ],
          "sizemode": "area",
          "sizeref": 2.852222222222222,
          "symbol": "circle"
         },
         "mode": "markers",
         "name": "Puglia Pop Triglia Negroamaro Rosato 2022",
         "orientation": "v",
         "showlegend": true,
         "type": "scatter",
         "x": [
          22.95
         ],
         "xaxis": "x",
         "y": [
          4.7
         ],
         "yaxis": "y"
        },
        {
         "hovertemplate": "<b>%{hovertext}</b><br><br>name=Vigneti del Salento Vigne Vecchie Gold Series Leggenda Primitivo di Manduria 2019<br>price_euros=%{x}<br>ratings_average=%{y}<br>Number of Ratings=%{marker.size}<extra></extra>",
         "hovertext": [
          "Vigneti del Salento Vigne Vecchie Gold Series Leggenda Primitivo di Manduria 2019"
         ],
         "legendgroup": "Vigneti del Salento Vigne Vecchie Gold Series Leggenda Primitivo di Manduria 2019",
         "marker": {
          "color": "#FFA15A",
          "line": {
           "color": "DarkSlateGrey",
           "width": 1
          },
          "opacity": 0.8,
          "size": [
           424
          ],
          "sizemode": "area",
          "sizeref": 2.852222222222222,
          "symbol": "circle"
         },
         "mode": "markers",
         "name": "Vigneti del Salento Vigne Vecchie Gold Series Leggenda Primitivo di Manduria 2019",
         "orientation": "v",
         "showlegend": true,
         "type": "scatter",
         "x": [
          23.95
         ],
         "xaxis": "x",
         "y": [
          4.5
         ],
         "yaxis": "y"
        },
        {
         "hovertemplate": "<b>%{hovertext}</b><br><br>name=Farnese Cinque Autoctoni Collection Limited Release 2020<br>price_euros=%{x}<br>ratings_average=%{y}<br>Number of Ratings=%{marker.size}<extra></extra>",
         "hovertext": [
          "Farnese Cinque Autoctoni Collection Limited Release 2020"
         ],
         "legendgroup": "Farnese Cinque Autoctoni Collection Limited Release 2020",
         "marker": {
          "color": "#19d3f3",
          "line": {
           "color": "DarkSlateGrey",
           "width": 1
          },
          "opacity": 0.8,
          "size": [
           255
          ],
          "sizemode": "area",
          "sizeref": 2.852222222222222,
          "symbol": "circle"
         },
         "mode": "markers",
         "name": "Farnese Cinque Autoctoni Collection Limited Release 2020",
         "orientation": "v",
         "showlegend": true,
         "type": "scatter",
         "x": [
          23.9
         ],
         "xaxis": "x",
         "y": [
          4.4
         ],
         "yaxis": "y"
        },
        {
         "hovertemplate": "<b>%{hovertext}</b><br><br>name=Puglia Pop Luminaria Primitivo di Manduria 2021<br>price_euros=%{x}<br>ratings_average=%{y}<br>Number of Ratings=%{marker.size}<extra></extra>",
         "hovertext": [
          "Puglia Pop Luminaria Primitivo di Manduria 2021"
         ],
         "legendgroup": "Puglia Pop Luminaria Primitivo di Manduria 2021",
         "marker": {
          "color": "#FF6692",
          "line": {
           "color": "DarkSlateGrey",
           "width": 1
          },
          "opacity": 0.8,
          "size": [
           71
          ],
          "sizemode": "area",
          "sizeref": 2.852222222222222,
          "symbol": "circle"
         },
         "mode": "markers",
         "name": "Puglia Pop Luminaria Primitivo di Manduria 2021",
         "orientation": "v",
         "showlegend": true,
         "type": "scatter",
         "x": [
          24.95
         ],
         "xaxis": "x",
         "y": [
          4.5
         ],
         "yaxis": "y"
        },
        {
         "hovertemplate": "<b>%{hovertext}</b><br><br>name=San Marzano 60 Sessantanni Old Vines Primitivo di Manduria 2018<br>price_euros=%{x}<br>ratings_average=%{y}<br>Number of Ratings=%{marker.size}<extra></extra>",
         "hovertext": [
          "San Marzano 60 Sessantanni Old Vines Primitivo di Manduria 2018"
         ],
         "legendgroup": "San Marzano 60 Sessantanni Old Vines Primitivo di Manduria 2018",
         "marker": {
          "color": "#B6E880",
          "line": {
           "color": "DarkSlateGrey",
           "width": 1
          },
          "opacity": 0.8,
          "size": [
           1748
          ],
          "sizemode": "area",
          "sizeref": 2.852222222222222,
          "symbol": "circle"
         },
         "mode": "markers",
         "name": "San Marzano 60 Sessantanni Old Vines Primitivo di Manduria 2018",
         "orientation": "v",
         "showlegend": true,
         "type": "scatter",
         "x": [
          24.75
         ],
         "xaxis": "x",
         "y": [
          4.4
         ],
         "yaxis": "y"
        },
        {
         "hovertemplate": "<b>%{hovertext}</b><br><br>name=Guerrieri Guerriero della Terra 2020<br>price_euros=%{x}<br>ratings_average=%{y}<br>Number of Ratings=%{marker.size}<extra></extra>",
         "hovertext": [
          "Guerrieri Guerriero della Terra 2020"
         ],
         "legendgroup": "Guerrieri Guerriero della Terra 2020",
         "marker": {
          "color": "#FF97FF",
          "line": {
           "color": "DarkSlateGrey",
           "width": 1
          },
          "opacity": 0.8,
          "size": [
           182
          ],
          "sizemode": "area",
          "sizeref": 2.852222222222222,
          "symbol": "circle"
         },
         "mode": "markers",
         "name": "Guerrieri Guerriero della Terra 2020",
         "orientation": "v",
         "showlegend": true,
         "type": "scatter",
         "x": [
          25.95
         ],
         "xaxis": "x",
         "y": [
          4.4
         ],
         "yaxis": "y"
        },
        {
         "hovertemplate": "<b>%{hovertext}</b><br><br>name=Rutini Malbec 2019<br>price_euros=%{x}<br>ratings_average=%{y}<br>Number of Ratings=%{marker.size}<extra></extra>",
         "hovertext": [
          "Rutini Malbec 2019"
         ],
         "legendgroup": "Rutini Malbec 2019",
         "marker": {
          "color": "#FECB52",
          "line": {
           "color": "DarkSlateGrey",
           "width": 1
          },
          "opacity": 0.8,
          "size": [
           2567
          ],
          "sizemode": "area",
          "sizeref": 2.852222222222222,
          "symbol": "circle"
         },
         "mode": "markers",
         "name": "Rutini Malbec 2019",
         "orientation": "v",
         "showlegend": true,
         "type": "scatter",
         "x": [
          25.99
         ],
         "xaxis": "x",
         "y": [
          4.4
         ],
         "yaxis": "y"
        }
       ],
       "layout": {
        "legend": {
         "itemsizing": "constant",
         "title": {
          "text": "name"
         },
         "tracegroupgap": 0
        },
        "template": {
         "data": {
          "bar": [
           {
            "error_x": {
             "color": "#2a3f5f"
            },
            "error_y": {
             "color": "#2a3f5f"
            },
            "marker": {
             "line": {
              "color": "#E5ECF6",
              "width": 0.5
             },
             "pattern": {
              "fillmode": "overlay",
              "size": 10,
              "solidity": 0.2
             }
            },
            "type": "bar"
           }
          ],
          "barpolar": [
           {
            "marker": {
             "line": {
              "color": "#E5ECF6",
              "width": 0.5
             },
             "pattern": {
              "fillmode": "overlay",
              "size": 10,
              "solidity": 0.2
             }
            },
            "type": "barpolar"
           }
          ],
          "carpet": [
           {
            "aaxis": {
             "endlinecolor": "#2a3f5f",
             "gridcolor": "white",
             "linecolor": "white",
             "minorgridcolor": "white",
             "startlinecolor": "#2a3f5f"
            },
            "baxis": {
             "endlinecolor": "#2a3f5f",
             "gridcolor": "white",
             "linecolor": "white",
             "minorgridcolor": "white",
             "startlinecolor": "#2a3f5f"
            },
            "type": "carpet"
           }
          ],
          "choropleth": [
           {
            "colorbar": {
             "outlinewidth": 0,
             "ticks": ""
            },
            "type": "choropleth"
           }
          ],
          "contour": [
           {
            "colorbar": {
             "outlinewidth": 0,
             "ticks": ""
            },
            "colorscale": [
             [
              0,
              "#0d0887"
             ],
             [
              0.1111111111111111,
              "#46039f"
             ],
             [
              0.2222222222222222,
              "#7201a8"
             ],
             [
              0.3333333333333333,
              "#9c179e"
             ],
             [
              0.4444444444444444,
              "#bd3786"
             ],
             [
              0.5555555555555556,
              "#d8576b"
             ],
             [
              0.6666666666666666,
              "#ed7953"
             ],
             [
              0.7777777777777778,
              "#fb9f3a"
             ],
             [
              0.8888888888888888,
              "#fdca26"
             ],
             [
              1,
              "#f0f921"
             ]
            ],
            "type": "contour"
           }
          ],
          "contourcarpet": [
           {
            "colorbar": {
             "outlinewidth": 0,
             "ticks": ""
            },
            "type": "contourcarpet"
           }
          ],
          "heatmap": [
           {
            "colorbar": {
             "outlinewidth": 0,
             "ticks": ""
            },
            "colorscale": [
             [
              0,
              "#0d0887"
             ],
             [
              0.1111111111111111,
              "#46039f"
             ],
             [
              0.2222222222222222,
              "#7201a8"
             ],
             [
              0.3333333333333333,
              "#9c179e"
             ],
             [
              0.4444444444444444,
              "#bd3786"
             ],
             [
              0.5555555555555556,
              "#d8576b"
             ],
             [
              0.6666666666666666,
              "#ed7953"
             ],
             [
              0.7777777777777778,
              "#fb9f3a"
             ],
             [
              0.8888888888888888,
              "#fdca26"
             ],
             [
              1,
              "#f0f921"
             ]
            ],
            "type": "heatmap"
           }
          ],
          "heatmapgl": [
           {
            "colorbar": {
             "outlinewidth": 0,
             "ticks": ""
            },
            "colorscale": [
             [
              0,
              "#0d0887"
             ],
             [
              0.1111111111111111,
              "#46039f"
             ],
             [
              0.2222222222222222,
              "#7201a8"
             ],
             [
              0.3333333333333333,
              "#9c179e"
             ],
             [
              0.4444444444444444,
              "#bd3786"
             ],
             [
              0.5555555555555556,
              "#d8576b"
             ],
             [
              0.6666666666666666,
              "#ed7953"
             ],
             [
              0.7777777777777778,
              "#fb9f3a"
             ],
             [
              0.8888888888888888,
              "#fdca26"
             ],
             [
              1,
              "#f0f921"
             ]
            ],
            "type": "heatmapgl"
           }
          ],
          "histogram": [
           {
            "marker": {
             "pattern": {
              "fillmode": "overlay",
              "size": 10,
              "solidity": 0.2
             }
            },
            "type": "histogram"
           }
          ],
          "histogram2d": [
           {
            "colorbar": {
             "outlinewidth": 0,
             "ticks": ""
            },
            "colorscale": [
             [
              0,
              "#0d0887"
             ],
             [
              0.1111111111111111,
              "#46039f"
             ],
             [
              0.2222222222222222,
              "#7201a8"
             ],
             [
              0.3333333333333333,
              "#9c179e"
             ],
             [
              0.4444444444444444,
              "#bd3786"
             ],
             [
              0.5555555555555556,
              "#d8576b"
             ],
             [
              0.6666666666666666,
              "#ed7953"
             ],
             [
              0.7777777777777778,
              "#fb9f3a"
             ],
             [
              0.8888888888888888,
              "#fdca26"
             ],
             [
              1,
              "#f0f921"
             ]
            ],
            "type": "histogram2d"
           }
          ],
          "histogram2dcontour": [
           {
            "colorbar": {
             "outlinewidth": 0,
             "ticks": ""
            },
            "colorscale": [
             [
              0,
              "#0d0887"
             ],
             [
              0.1111111111111111,
              "#46039f"
             ],
             [
              0.2222222222222222,
              "#7201a8"
             ],
             [
              0.3333333333333333,
              "#9c179e"
             ],
             [
              0.4444444444444444,
              "#bd3786"
             ],
             [
              0.5555555555555556,
              "#d8576b"
             ],
             [
              0.6666666666666666,
              "#ed7953"
             ],
             [
              0.7777777777777778,
              "#fb9f3a"
             ],
             [
              0.8888888888888888,
              "#fdca26"
             ],
             [
              1,
              "#f0f921"
             ]
            ],
            "type": "histogram2dcontour"
           }
          ],
          "mesh3d": [
           {
            "colorbar": {
             "outlinewidth": 0,
             "ticks": ""
            },
            "type": "mesh3d"
           }
          ],
          "parcoords": [
           {
            "line": {
             "colorbar": {
              "outlinewidth": 0,
              "ticks": ""
             }
            },
            "type": "parcoords"
           }
          ],
          "pie": [
           {
            "automargin": true,
            "type": "pie"
           }
          ],
          "scatter": [
           {
            "fillpattern": {
             "fillmode": "overlay",
             "size": 10,
             "solidity": 0.2
            },
            "type": "scatter"
           }
          ],
          "scatter3d": [
           {
            "line": {
             "colorbar": {
              "outlinewidth": 0,
              "ticks": ""
             }
            },
            "marker": {
             "colorbar": {
              "outlinewidth": 0,
              "ticks": ""
             }
            },
            "type": "scatter3d"
           }
          ],
          "scattercarpet": [
           {
            "marker": {
             "colorbar": {
              "outlinewidth": 0,
              "ticks": ""
             }
            },
            "type": "scattercarpet"
           }
          ],
          "scattergeo": [
           {
            "marker": {
             "colorbar": {
              "outlinewidth": 0,
              "ticks": ""
             }
            },
            "type": "scattergeo"
           }
          ],
          "scattergl": [
           {
            "marker": {
             "colorbar": {
              "outlinewidth": 0,
              "ticks": ""
             }
            },
            "type": "scattergl"
           }
          ],
          "scattermapbox": [
           {
            "marker": {
             "colorbar": {
              "outlinewidth": 0,
              "ticks": ""
             }
            },
            "type": "scattermapbox"
           }
          ],
          "scatterpolar": [
           {
            "marker": {
             "colorbar": {
              "outlinewidth": 0,
              "ticks": ""
             }
            },
            "type": "scatterpolar"
           }
          ],
          "scatterpolargl": [
           {
            "marker": {
             "colorbar": {
              "outlinewidth": 0,
              "ticks": ""
             }
            },
            "type": "scatterpolargl"
           }
          ],
          "scatterternary": [
           {
            "marker": {
             "colorbar": {
              "outlinewidth": 0,
              "ticks": ""
             }
            },
            "type": "scatterternary"
           }
          ],
          "surface": [
           {
            "colorbar": {
             "outlinewidth": 0,
             "ticks": ""
            },
            "colorscale": [
             [
              0,
              "#0d0887"
             ],
             [
              0.1111111111111111,
              "#46039f"
             ],
             [
              0.2222222222222222,
              "#7201a8"
             ],
             [
              0.3333333333333333,
              "#9c179e"
             ],
             [
              0.4444444444444444,
              "#bd3786"
             ],
             [
              0.5555555555555556,
              "#d8576b"
             ],
             [
              0.6666666666666666,
              "#ed7953"
             ],
             [
              0.7777777777777778,
              "#fb9f3a"
             ],
             [
              0.8888888888888888,
              "#fdca26"
             ],
             [
              1,
              "#f0f921"
             ]
            ],
            "type": "surface"
           }
          ],
          "table": [
           {
            "cells": {
             "fill": {
              "color": "#EBF0F8"
             },
             "line": {
              "color": "white"
             }
            },
            "header": {
             "fill": {
              "color": "#C8D4E3"
             },
             "line": {
              "color": "white"
             }
            },
            "type": "table"
           }
          ]
         },
         "layout": {
          "annotationdefaults": {
           "arrowcolor": "#2a3f5f",
           "arrowhead": 0,
           "arrowwidth": 1
          },
          "autotypenumbers": "strict",
          "coloraxis": {
           "colorbar": {
            "outlinewidth": 0,
            "ticks": ""
           }
          },
          "colorscale": {
           "diverging": [
            [
             0,
             "#8e0152"
            ],
            [
             0.1,
             "#c51b7d"
            ],
            [
             0.2,
             "#de77ae"
            ],
            [
             0.3,
             "#f1b6da"
            ],
            [
             0.4,
             "#fde0ef"
            ],
            [
             0.5,
             "#f7f7f7"
            ],
            [
             0.6,
             "#e6f5d0"
            ],
            [
             0.7,
             "#b8e186"
            ],
            [
             0.8,
             "#7fbc41"
            ],
            [
             0.9,
             "#4d9221"
            ],
            [
             1,
             "#276419"
            ]
           ],
           "sequential": [
            [
             0,
             "#0d0887"
            ],
            [
             0.1111111111111111,
             "#46039f"
            ],
            [
             0.2222222222222222,
             "#7201a8"
            ],
            [
             0.3333333333333333,
             "#9c179e"
            ],
            [
             0.4444444444444444,
             "#bd3786"
            ],
            [
             0.5555555555555556,
             "#d8576b"
            ],
            [
             0.6666666666666666,
             "#ed7953"
            ],
            [
             0.7777777777777778,
             "#fb9f3a"
            ],
            [
             0.8888888888888888,
             "#fdca26"
            ],
            [
             1,
             "#f0f921"
            ]
           ],
           "sequentialminus": [
            [
             0,
             "#0d0887"
            ],
            [
             0.1111111111111111,
             "#46039f"
            ],
            [
             0.2222222222222222,
             "#7201a8"
            ],
            [
             0.3333333333333333,
             "#9c179e"
            ],
            [
             0.4444444444444444,
             "#bd3786"
            ],
            [
             0.5555555555555556,
             "#d8576b"
            ],
            [
             0.6666666666666666,
             "#ed7953"
            ],
            [
             0.7777777777777778,
             "#fb9f3a"
            ],
            [
             0.8888888888888888,
             "#fdca26"
            ],
            [
             1,
             "#f0f921"
            ]
           ]
          },
          "colorway": [
           "#636efa",
           "#EF553B",
           "#00cc96",
           "#ab63fa",
           "#FFA15A",
           "#19d3f3",
           "#FF6692",
           "#B6E880",
           "#FF97FF",
           "#FECB52"
          ],
          "font": {
           "color": "#2a3f5f"
          },
          "geo": {
           "bgcolor": "white",
           "lakecolor": "white",
           "landcolor": "#E5ECF6",
           "showlakes": true,
           "showland": true,
           "subunitcolor": "white"
          },
          "hoverlabel": {
           "align": "left"
          },
          "hovermode": "closest",
          "mapbox": {
           "style": "light"
          },
          "paper_bgcolor": "white",
          "plot_bgcolor": "#E5ECF6",
          "polar": {
           "angularaxis": {
            "gridcolor": "white",
            "linecolor": "white",
            "ticks": ""
           },
           "bgcolor": "#E5ECF6",
           "radialaxis": {
            "gridcolor": "white",
            "linecolor": "white",
            "ticks": ""
           }
          },
          "scene": {
           "xaxis": {
            "backgroundcolor": "#E5ECF6",
            "gridcolor": "white",
            "gridwidth": 2,
            "linecolor": "white",
            "showbackground": true,
            "ticks": "",
            "zerolinecolor": "white"
           },
           "yaxis": {
            "backgroundcolor": "#E5ECF6",
            "gridcolor": "white",
            "gridwidth": 2,
            "linecolor": "white",
            "showbackground": true,
            "ticks": "",
            "zerolinecolor": "white"
           },
           "zaxis": {
            "backgroundcolor": "#E5ECF6",
            "gridcolor": "white",
            "gridwidth": 2,
            "linecolor": "white",
            "showbackground": true,
            "ticks": "",
            "zerolinecolor": "white"
           }
          },
          "shapedefaults": {
           "line": {
            "color": "#2a3f5f"
           }
          },
          "ternary": {
           "aaxis": {
            "gridcolor": "white",
            "linecolor": "white",
            "ticks": ""
           },
           "baxis": {
            "gridcolor": "white",
            "linecolor": "white",
            "ticks": ""
           },
           "bgcolor": "#E5ECF6",
           "caxis": {
            "gridcolor": "white",
            "linecolor": "white",
            "ticks": ""
           }
          },
          "title": {
           "x": 0.05
          },
          "xaxis": {
           "automargin": true,
           "gridcolor": "white",
           "linecolor": "white",
           "ticks": "",
           "title": {
            "standoff": 15
           },
           "zerolinecolor": "white",
           "zerolinewidth": 2
          },
          "yaxis": {
           "automargin": true,
           "gridcolor": "white",
           "linecolor": "white",
           "ticks": "",
           "title": {
            "standoff": 15
           },
           "zerolinecolor": "white",
           "zerolinewidth": 2
          }
         }
        },
        "title": {
         "text": "Best Value Wines: Price vs. Rating vs. Number of Ratings",
         "x": 0.5
        },
        "xaxis": {
         "anchor": "y",
         "domain": [
          0,
          1
         ],
         "title": {
          "text": "price_euros"
         }
        },
        "yaxis": {
         "anchor": "x",
         "domain": [
          0,
          1
         ],
         "title": {
          "text": "ratings_average"
         }
        }
       }
      },
      "text/html": [
       "<div>                            <div id=\"44045682-e6a7-4554-9cd5-d4f3ba90d45c\" class=\"plotly-graph-div\" style=\"height:525px; width:100%;\"></div>            <script type=\"text/javascript\">                require([\"plotly\"], function(Plotly) {                    window.PLOTLYENV=window.PLOTLYENV || {};                                    if (document.getElementById(\"44045682-e6a7-4554-9cd5-d4f3ba90d45c\")) {                    Plotly.newPlot(                        \"44045682-e6a7-4554-9cd5-d4f3ba90d45c\",                        [{\"hovertemplate\":\"\\u003cb\\u003e%{hovertext}\\u003c\\u002fb\\u003e\\u003cbr\\u003e\\u003cbr\\u003ename=Ch\\u00e2teau Voigny Sauternes 2019\\u003cbr\\u003eprice_euros=%{x}\\u003cbr\\u003eratings_average=%{y}\\u003cbr\\u003eNumber of Ratings=%{marker.size}\\u003cextra\\u003e\\u003c\\u002fextra\\u003e\",\"hovertext\":[\"Ch\\u00e2teau Voigny Sauternes 2019\"],\"legendgroup\":\"Ch\\u00e2teau Voigny Sauternes 2019\",\"marker\":{\"color\":\"#636efa\",\"size\":[143],\"sizemode\":\"area\",\"sizeref\":2.852222222222222,\"symbol\":\"circle\",\"line\":{\"color\":\"DarkSlateGrey\",\"width\":1},\"opacity\":0.8},\"mode\":\"markers\",\"name\":\"Ch\\u00e2teau Voigny Sauternes 2019\",\"orientation\":\"v\",\"showlegend\":true,\"x\":[13.95],\"xaxis\":\"x\",\"y\":[4.4],\"yaxis\":\"y\",\"type\":\"scatter\"},{\"hovertemplate\":\"\\u003cb\\u003e%{hovertext}\\u003c\\u002fb\\u003e\\u003cbr\\u003e\\u003cbr\\u003ename=Cignomoro Primitivo di Manduria 2021\\u003cbr\\u003eprice_euros=%{x}\\u003cbr\\u003eratings_average=%{y}\\u003cbr\\u003eNumber of Ratings=%{marker.size}\\u003cextra\\u003e\\u003c\\u002fextra\\u003e\",\"hovertext\":[\"Cignomoro Primitivo di Manduria 2021\"],\"legendgroup\":\"Cignomoro Primitivo di Manduria 2021\",\"marker\":{\"color\":\"#EF553B\",\"size\":[32],\"sizemode\":\"area\",\"sizeref\":2.852222222222222,\"symbol\":\"circle\",\"line\":{\"color\":\"DarkSlateGrey\",\"width\":1},\"opacity\":0.8},\"mode\":\"markers\",\"name\":\"Cignomoro Primitivo di Manduria 2021\",\"orientation\":\"v\",\"showlegend\":true,\"x\":[18.75],\"xaxis\":\"x\",\"y\":[4.5],\"yaxis\":\"y\",\"type\":\"scatter\"},{\"hovertemplate\":\"\\u003cb\\u003e%{hovertext}\\u003c\\u002fb\\u003e\\u003cbr\\u003e\\u003cbr\\u003ename=Luccarelli Old Vines Primitivo di Manduria 2019\\u003cbr\\u003eprice_euros=%{x}\\u003cbr\\u003eratings_average=%{y}\\u003cbr\\u003eNumber of Ratings=%{marker.size}\\u003cextra\\u003e\\u003c\\u002fextra\\u003e\",\"hovertext\":[\"Luccarelli Old Vines Primitivo di Manduria 2019\"],\"legendgroup\":\"Luccarelli Old Vines Primitivo di Manduria 2019\",\"marker\":{\"color\":\"#00cc96\",\"size\":[274],\"sizemode\":\"area\",\"sizeref\":2.852222222222222,\"symbol\":\"circle\",\"line\":{\"color\":\"DarkSlateGrey\",\"width\":1},\"opacity\":0.8},\"mode\":\"markers\",\"name\":\"Luccarelli Old Vines Primitivo di Manduria 2019\",\"orientation\":\"v\",\"showlegend\":true,\"x\":[20.95],\"xaxis\":\"x\",\"y\":[4.4],\"yaxis\":\"y\",\"type\":\"scatter\"},{\"hovertemplate\":\"\\u003cb\\u003e%{hovertext}\\u003c\\u002fb\\u003e\\u003cbr\\u003e\\u003cbr\\u003ename=Puglia Pop Triglia Negroamaro Rosato 2022\\u003cbr\\u003eprice_euros=%{x}\\u003cbr\\u003eratings_average=%{y}\\u003cbr\\u003eNumber of Ratings=%{marker.size}\\u003cextra\\u003e\\u003c\\u002fextra\\u003e\",\"hovertext\":[\"Puglia Pop Triglia Negroamaro Rosato 2022\"],\"legendgroup\":\"Puglia Pop Triglia Negroamaro Rosato 2022\",\"marker\":{\"color\":\"#ab63fa\",\"size\":[25],\"sizemode\":\"area\",\"sizeref\":2.852222222222222,\"symbol\":\"circle\",\"line\":{\"color\":\"DarkSlateGrey\",\"width\":1},\"opacity\":0.8},\"mode\":\"markers\",\"name\":\"Puglia Pop Triglia Negroamaro Rosato 2022\",\"orientation\":\"v\",\"showlegend\":true,\"x\":[22.95],\"xaxis\":\"x\",\"y\":[4.7],\"yaxis\":\"y\",\"type\":\"scatter\"},{\"hovertemplate\":\"\\u003cb\\u003e%{hovertext}\\u003c\\u002fb\\u003e\\u003cbr\\u003e\\u003cbr\\u003ename=Vigneti del Salento Vigne Vecchie Gold Series Leggenda Primitivo di Manduria 2019\\u003cbr\\u003eprice_euros=%{x}\\u003cbr\\u003eratings_average=%{y}\\u003cbr\\u003eNumber of Ratings=%{marker.size}\\u003cextra\\u003e\\u003c\\u002fextra\\u003e\",\"hovertext\":[\"Vigneti del Salento Vigne Vecchie Gold Series Leggenda Primitivo di Manduria 2019\"],\"legendgroup\":\"Vigneti del Salento Vigne Vecchie Gold Series Leggenda Primitivo di Manduria 2019\",\"marker\":{\"color\":\"#FFA15A\",\"size\":[424],\"sizemode\":\"area\",\"sizeref\":2.852222222222222,\"symbol\":\"circle\",\"line\":{\"color\":\"DarkSlateGrey\",\"width\":1},\"opacity\":0.8},\"mode\":\"markers\",\"name\":\"Vigneti del Salento Vigne Vecchie Gold Series Leggenda Primitivo di Manduria 2019\",\"orientation\":\"v\",\"showlegend\":true,\"x\":[23.95],\"xaxis\":\"x\",\"y\":[4.5],\"yaxis\":\"y\",\"type\":\"scatter\"},{\"hovertemplate\":\"\\u003cb\\u003e%{hovertext}\\u003c\\u002fb\\u003e\\u003cbr\\u003e\\u003cbr\\u003ename=Farnese Cinque Autoctoni Collection Limited Release 2020\\u003cbr\\u003eprice_euros=%{x}\\u003cbr\\u003eratings_average=%{y}\\u003cbr\\u003eNumber of Ratings=%{marker.size}\\u003cextra\\u003e\\u003c\\u002fextra\\u003e\",\"hovertext\":[\"Farnese Cinque Autoctoni Collection Limited Release 2020\"],\"legendgroup\":\"Farnese Cinque Autoctoni Collection Limited Release 2020\",\"marker\":{\"color\":\"#19d3f3\",\"size\":[255],\"sizemode\":\"area\",\"sizeref\":2.852222222222222,\"symbol\":\"circle\",\"line\":{\"color\":\"DarkSlateGrey\",\"width\":1},\"opacity\":0.8},\"mode\":\"markers\",\"name\":\"Farnese Cinque Autoctoni Collection Limited Release 2020\",\"orientation\":\"v\",\"showlegend\":true,\"x\":[23.9],\"xaxis\":\"x\",\"y\":[4.4],\"yaxis\":\"y\",\"type\":\"scatter\"},{\"hovertemplate\":\"\\u003cb\\u003e%{hovertext}\\u003c\\u002fb\\u003e\\u003cbr\\u003e\\u003cbr\\u003ename=Puglia Pop Luminaria Primitivo di Manduria 2021\\u003cbr\\u003eprice_euros=%{x}\\u003cbr\\u003eratings_average=%{y}\\u003cbr\\u003eNumber of Ratings=%{marker.size}\\u003cextra\\u003e\\u003c\\u002fextra\\u003e\",\"hovertext\":[\"Puglia Pop Luminaria Primitivo di Manduria 2021\"],\"legendgroup\":\"Puglia Pop Luminaria Primitivo di Manduria 2021\",\"marker\":{\"color\":\"#FF6692\",\"size\":[71],\"sizemode\":\"area\",\"sizeref\":2.852222222222222,\"symbol\":\"circle\",\"line\":{\"color\":\"DarkSlateGrey\",\"width\":1},\"opacity\":0.8},\"mode\":\"markers\",\"name\":\"Puglia Pop Luminaria Primitivo di Manduria 2021\",\"orientation\":\"v\",\"showlegend\":true,\"x\":[24.95],\"xaxis\":\"x\",\"y\":[4.5],\"yaxis\":\"y\",\"type\":\"scatter\"},{\"hovertemplate\":\"\\u003cb\\u003e%{hovertext}\\u003c\\u002fb\\u003e\\u003cbr\\u003e\\u003cbr\\u003ename=San Marzano 60 Sessantanni Old Vines Primitivo di Manduria 2018\\u003cbr\\u003eprice_euros=%{x}\\u003cbr\\u003eratings_average=%{y}\\u003cbr\\u003eNumber of Ratings=%{marker.size}\\u003cextra\\u003e\\u003c\\u002fextra\\u003e\",\"hovertext\":[\"San Marzano 60 Sessantanni Old Vines Primitivo di Manduria 2018\"],\"legendgroup\":\"San Marzano 60 Sessantanni Old Vines Primitivo di Manduria 2018\",\"marker\":{\"color\":\"#B6E880\",\"size\":[1748],\"sizemode\":\"area\",\"sizeref\":2.852222222222222,\"symbol\":\"circle\",\"line\":{\"color\":\"DarkSlateGrey\",\"width\":1},\"opacity\":0.8},\"mode\":\"markers\",\"name\":\"San Marzano 60 Sessantanni Old Vines Primitivo di Manduria 2018\",\"orientation\":\"v\",\"showlegend\":true,\"x\":[24.75],\"xaxis\":\"x\",\"y\":[4.4],\"yaxis\":\"y\",\"type\":\"scatter\"},{\"hovertemplate\":\"\\u003cb\\u003e%{hovertext}\\u003c\\u002fb\\u003e\\u003cbr\\u003e\\u003cbr\\u003ename=Guerrieri Guerriero della Terra 2020\\u003cbr\\u003eprice_euros=%{x}\\u003cbr\\u003eratings_average=%{y}\\u003cbr\\u003eNumber of Ratings=%{marker.size}\\u003cextra\\u003e\\u003c\\u002fextra\\u003e\",\"hovertext\":[\"Guerrieri Guerriero della Terra 2020\"],\"legendgroup\":\"Guerrieri Guerriero della Terra 2020\",\"marker\":{\"color\":\"#FF97FF\",\"size\":[182],\"sizemode\":\"area\",\"sizeref\":2.852222222222222,\"symbol\":\"circle\",\"line\":{\"color\":\"DarkSlateGrey\",\"width\":1},\"opacity\":0.8},\"mode\":\"markers\",\"name\":\"Guerrieri Guerriero della Terra 2020\",\"orientation\":\"v\",\"showlegend\":true,\"x\":[25.95],\"xaxis\":\"x\",\"y\":[4.4],\"yaxis\":\"y\",\"type\":\"scatter\"},{\"hovertemplate\":\"\\u003cb\\u003e%{hovertext}\\u003c\\u002fb\\u003e\\u003cbr\\u003e\\u003cbr\\u003ename=Rutini Malbec 2019\\u003cbr\\u003eprice_euros=%{x}\\u003cbr\\u003eratings_average=%{y}\\u003cbr\\u003eNumber of Ratings=%{marker.size}\\u003cextra\\u003e\\u003c\\u002fextra\\u003e\",\"hovertext\":[\"Rutini Malbec 2019\"],\"legendgroup\":\"Rutini Malbec 2019\",\"marker\":{\"color\":\"#FECB52\",\"size\":[2567],\"sizemode\":\"area\",\"sizeref\":2.852222222222222,\"symbol\":\"circle\",\"line\":{\"color\":\"DarkSlateGrey\",\"width\":1},\"opacity\":0.8},\"mode\":\"markers\",\"name\":\"Rutini Malbec 2019\",\"orientation\":\"v\",\"showlegend\":true,\"x\":[25.99],\"xaxis\":\"x\",\"y\":[4.4],\"yaxis\":\"y\",\"type\":\"scatter\"}],                        {\"template\":{\"data\":{\"histogram2dcontour\":[{\"type\":\"histogram2dcontour\",\"colorbar\":{\"outlinewidth\":0,\"ticks\":\"\"},\"colorscale\":[[0.0,\"#0d0887\"],[0.1111111111111111,\"#46039f\"],[0.2222222222222222,\"#7201a8\"],[0.3333333333333333,\"#9c179e\"],[0.4444444444444444,\"#bd3786\"],[0.5555555555555556,\"#d8576b\"],[0.6666666666666666,\"#ed7953\"],[0.7777777777777778,\"#fb9f3a\"],[0.8888888888888888,\"#fdca26\"],[1.0,\"#f0f921\"]]}],\"choropleth\":[{\"type\":\"choropleth\",\"colorbar\":{\"outlinewidth\":0,\"ticks\":\"\"}}],\"histogram2d\":[{\"type\":\"histogram2d\",\"colorbar\":{\"outlinewidth\":0,\"ticks\":\"\"},\"colorscale\":[[0.0,\"#0d0887\"],[0.1111111111111111,\"#46039f\"],[0.2222222222222222,\"#7201a8\"],[0.3333333333333333,\"#9c179e\"],[0.4444444444444444,\"#bd3786\"],[0.5555555555555556,\"#d8576b\"],[0.6666666666666666,\"#ed7953\"],[0.7777777777777778,\"#fb9f3a\"],[0.8888888888888888,\"#fdca26\"],[1.0,\"#f0f921\"]]}],\"heatmap\":[{\"type\":\"heatmap\",\"colorbar\":{\"outlinewidth\":0,\"ticks\":\"\"},\"colorscale\":[[0.0,\"#0d0887\"],[0.1111111111111111,\"#46039f\"],[0.2222222222222222,\"#7201a8\"],[0.3333333333333333,\"#9c179e\"],[0.4444444444444444,\"#bd3786\"],[0.5555555555555556,\"#d8576b\"],[0.6666666666666666,\"#ed7953\"],[0.7777777777777778,\"#fb9f3a\"],[0.8888888888888888,\"#fdca26\"],[1.0,\"#f0f921\"]]}],\"heatmapgl\":[{\"type\":\"heatmapgl\",\"colorbar\":{\"outlinewidth\":0,\"ticks\":\"\"},\"colorscale\":[[0.0,\"#0d0887\"],[0.1111111111111111,\"#46039f\"],[0.2222222222222222,\"#7201a8\"],[0.3333333333333333,\"#9c179e\"],[0.4444444444444444,\"#bd3786\"],[0.5555555555555556,\"#d8576b\"],[0.6666666666666666,\"#ed7953\"],[0.7777777777777778,\"#fb9f3a\"],[0.8888888888888888,\"#fdca26\"],[1.0,\"#f0f921\"]]}],\"contourcarpet\":[{\"type\":\"contourcarpet\",\"colorbar\":{\"outlinewidth\":0,\"ticks\":\"\"}}],\"contour\":[{\"type\":\"contour\",\"colorbar\":{\"outlinewidth\":0,\"ticks\":\"\"},\"colorscale\":[[0.0,\"#0d0887\"],[0.1111111111111111,\"#46039f\"],[0.2222222222222222,\"#7201a8\"],[0.3333333333333333,\"#9c179e\"],[0.4444444444444444,\"#bd3786\"],[0.5555555555555556,\"#d8576b\"],[0.6666666666666666,\"#ed7953\"],[0.7777777777777778,\"#fb9f3a\"],[0.8888888888888888,\"#fdca26\"],[1.0,\"#f0f921\"]]}],\"surface\":[{\"type\":\"surface\",\"colorbar\":{\"outlinewidth\":0,\"ticks\":\"\"},\"colorscale\":[[0.0,\"#0d0887\"],[0.1111111111111111,\"#46039f\"],[0.2222222222222222,\"#7201a8\"],[0.3333333333333333,\"#9c179e\"],[0.4444444444444444,\"#bd3786\"],[0.5555555555555556,\"#d8576b\"],[0.6666666666666666,\"#ed7953\"],[0.7777777777777778,\"#fb9f3a\"],[0.8888888888888888,\"#fdca26\"],[1.0,\"#f0f921\"]]}],\"mesh3d\":[{\"type\":\"mesh3d\",\"colorbar\":{\"outlinewidth\":0,\"ticks\":\"\"}}],\"scatter\":[{\"fillpattern\":{\"fillmode\":\"overlay\",\"size\":10,\"solidity\":0.2},\"type\":\"scatter\"}],\"parcoords\":[{\"type\":\"parcoords\",\"line\":{\"colorbar\":{\"outlinewidth\":0,\"ticks\":\"\"}}}],\"scatterpolargl\":[{\"type\":\"scatterpolargl\",\"marker\":{\"colorbar\":{\"outlinewidth\":0,\"ticks\":\"\"}}}],\"bar\":[{\"error_x\":{\"color\":\"#2a3f5f\"},\"error_y\":{\"color\":\"#2a3f5f\"},\"marker\":{\"line\":{\"color\":\"#E5ECF6\",\"width\":0.5},\"pattern\":{\"fillmode\":\"overlay\",\"size\":10,\"solidity\":0.2}},\"type\":\"bar\"}],\"scattergeo\":[{\"type\":\"scattergeo\",\"marker\":{\"colorbar\":{\"outlinewidth\":0,\"ticks\":\"\"}}}],\"scatterpolar\":[{\"type\":\"scatterpolar\",\"marker\":{\"colorbar\":{\"outlinewidth\":0,\"ticks\":\"\"}}}],\"histogram\":[{\"marker\":{\"pattern\":{\"fillmode\":\"overlay\",\"size\":10,\"solidity\":0.2}},\"type\":\"histogram\"}],\"scattergl\":[{\"type\":\"scattergl\",\"marker\":{\"colorbar\":{\"outlinewidth\":0,\"ticks\":\"\"}}}],\"scatter3d\":[{\"type\":\"scatter3d\",\"line\":{\"colorbar\":{\"outlinewidth\":0,\"ticks\":\"\"}},\"marker\":{\"colorbar\":{\"outlinewidth\":0,\"ticks\":\"\"}}}],\"scattermapbox\":[{\"type\":\"scattermapbox\",\"marker\":{\"colorbar\":{\"outlinewidth\":0,\"ticks\":\"\"}}}],\"scatterternary\":[{\"type\":\"scatterternary\",\"marker\":{\"colorbar\":{\"outlinewidth\":0,\"ticks\":\"\"}}}],\"scattercarpet\":[{\"type\":\"scattercarpet\",\"marker\":{\"colorbar\":{\"outlinewidth\":0,\"ticks\":\"\"}}}],\"carpet\":[{\"aaxis\":{\"endlinecolor\":\"#2a3f5f\",\"gridcolor\":\"white\",\"linecolor\":\"white\",\"minorgridcolor\":\"white\",\"startlinecolor\":\"#2a3f5f\"},\"baxis\":{\"endlinecolor\":\"#2a3f5f\",\"gridcolor\":\"white\",\"linecolor\":\"white\",\"minorgridcolor\":\"white\",\"startlinecolor\":\"#2a3f5f\"},\"type\":\"carpet\"}],\"table\":[{\"cells\":{\"fill\":{\"color\":\"#EBF0F8\"},\"line\":{\"color\":\"white\"}},\"header\":{\"fill\":{\"color\":\"#C8D4E3\"},\"line\":{\"color\":\"white\"}},\"type\":\"table\"}],\"barpolar\":[{\"marker\":{\"line\":{\"color\":\"#E5ECF6\",\"width\":0.5},\"pattern\":{\"fillmode\":\"overlay\",\"size\":10,\"solidity\":0.2}},\"type\":\"barpolar\"}],\"pie\":[{\"automargin\":true,\"type\":\"pie\"}]},\"layout\":{\"autotypenumbers\":\"strict\",\"colorway\":[\"#636efa\",\"#EF553B\",\"#00cc96\",\"#ab63fa\",\"#FFA15A\",\"#19d3f3\",\"#FF6692\",\"#B6E880\",\"#FF97FF\",\"#FECB52\"],\"font\":{\"color\":\"#2a3f5f\"},\"hovermode\":\"closest\",\"hoverlabel\":{\"align\":\"left\"},\"paper_bgcolor\":\"white\",\"plot_bgcolor\":\"#E5ECF6\",\"polar\":{\"bgcolor\":\"#E5ECF6\",\"angularaxis\":{\"gridcolor\":\"white\",\"linecolor\":\"white\",\"ticks\":\"\"},\"radialaxis\":{\"gridcolor\":\"white\",\"linecolor\":\"white\",\"ticks\":\"\"}},\"ternary\":{\"bgcolor\":\"#E5ECF6\",\"aaxis\":{\"gridcolor\":\"white\",\"linecolor\":\"white\",\"ticks\":\"\"},\"baxis\":{\"gridcolor\":\"white\",\"linecolor\":\"white\",\"ticks\":\"\"},\"caxis\":{\"gridcolor\":\"white\",\"linecolor\":\"white\",\"ticks\":\"\"}},\"coloraxis\":{\"colorbar\":{\"outlinewidth\":0,\"ticks\":\"\"}},\"colorscale\":{\"sequential\":[[0.0,\"#0d0887\"],[0.1111111111111111,\"#46039f\"],[0.2222222222222222,\"#7201a8\"],[0.3333333333333333,\"#9c179e\"],[0.4444444444444444,\"#bd3786\"],[0.5555555555555556,\"#d8576b\"],[0.6666666666666666,\"#ed7953\"],[0.7777777777777778,\"#fb9f3a\"],[0.8888888888888888,\"#fdca26\"],[1.0,\"#f0f921\"]],\"sequentialminus\":[[0.0,\"#0d0887\"],[0.1111111111111111,\"#46039f\"],[0.2222222222222222,\"#7201a8\"],[0.3333333333333333,\"#9c179e\"],[0.4444444444444444,\"#bd3786\"],[0.5555555555555556,\"#d8576b\"],[0.6666666666666666,\"#ed7953\"],[0.7777777777777778,\"#fb9f3a\"],[0.8888888888888888,\"#fdca26\"],[1.0,\"#f0f921\"]],\"diverging\":[[0,\"#8e0152\"],[0.1,\"#c51b7d\"],[0.2,\"#de77ae\"],[0.3,\"#f1b6da\"],[0.4,\"#fde0ef\"],[0.5,\"#f7f7f7\"],[0.6,\"#e6f5d0\"],[0.7,\"#b8e186\"],[0.8,\"#7fbc41\"],[0.9,\"#4d9221\"],[1,\"#276419\"]]},\"xaxis\":{\"gridcolor\":\"white\",\"linecolor\":\"white\",\"ticks\":\"\",\"title\":{\"standoff\":15},\"zerolinecolor\":\"white\",\"automargin\":true,\"zerolinewidth\":2},\"yaxis\":{\"gridcolor\":\"white\",\"linecolor\":\"white\",\"ticks\":\"\",\"title\":{\"standoff\":15},\"zerolinecolor\":\"white\",\"automargin\":true,\"zerolinewidth\":2},\"scene\":{\"xaxis\":{\"backgroundcolor\":\"#E5ECF6\",\"gridcolor\":\"white\",\"linecolor\":\"white\",\"showbackground\":true,\"ticks\":\"\",\"zerolinecolor\":\"white\",\"gridwidth\":2},\"yaxis\":{\"backgroundcolor\":\"#E5ECF6\",\"gridcolor\":\"white\",\"linecolor\":\"white\",\"showbackground\":true,\"ticks\":\"\",\"zerolinecolor\":\"white\",\"gridwidth\":2},\"zaxis\":{\"backgroundcolor\":\"#E5ECF6\",\"gridcolor\":\"white\",\"linecolor\":\"white\",\"showbackground\":true,\"ticks\":\"\",\"zerolinecolor\":\"white\",\"gridwidth\":2}},\"shapedefaults\":{\"line\":{\"color\":\"#2a3f5f\"}},\"annotationdefaults\":{\"arrowcolor\":\"#2a3f5f\",\"arrowhead\":0,\"arrowwidth\":1},\"geo\":{\"bgcolor\":\"white\",\"landcolor\":\"#E5ECF6\",\"subunitcolor\":\"white\",\"showland\":true,\"showlakes\":true,\"lakecolor\":\"white\"},\"title\":{\"x\":0.05},\"mapbox\":{\"style\":\"light\"}}},\"xaxis\":{\"anchor\":\"y\",\"domain\":[0.0,1.0],\"title\":{\"text\":\"price_euros\"}},\"yaxis\":{\"anchor\":\"x\",\"domain\":[0.0,1.0],\"title\":{\"text\":\"ratings_average\"}},\"legend\":{\"title\":{\"text\":\"name\"},\"tracegroupgap\":0,\"itemsizing\":\"constant\"},\"title\":{\"text\":\"Best Value Wines: Price vs. Rating vs. Number of Ratings\",\"x\":0.5}},                        {\"responsive\": true}                    ).then(function(){\n",
       "                            \n",
       "var gd = document.getElementById('44045682-e6a7-4554-9cd5-d4f3ba90d45c');\n",
       "var x = new MutationObserver(function (mutations, observer) {{\n",
       "        var display = window.getComputedStyle(gd).display;\n",
       "        if (!display || display === 'none') {{\n",
       "            console.log([gd, 'removed!']);\n",
       "            Plotly.purge(gd);\n",
       "            observer.disconnect();\n",
       "        }}\n",
       "}});\n",
       "\n",
       "// Listen for the removal of the full notebook cells\n",
       "var notebookContainer = gd.closest('#notebook-container');\n",
       "if (notebookContainer) {{\n",
       "    x.observe(notebookContainer, {childList: true});\n",
       "}}\n",
       "\n",
       "// Listen for the clearing of the current output cell\n",
       "var outputEl = gd.closest('.output');\n",
       "if (outputEl) {{\n",
       "    x.observe(outputEl, {childList: true});\n",
       "}}\n",
       "\n",
       "                        })                };                });            </script>        </div>"
      ]
     },
     "metadata": {},
     "output_type": "display_data"
    }
   ],
   "source": [
    "df_value_wines = pd.read_csv(\"09.csv\")\n",
    "\n",
    "fig_value_wines = px.scatter(df_value_wines, \n",
    "                             x='price_euros', \n",
    "                             y='ratings_average', \n",
    "                             size='ratings_count', \n",
    "                             color='name', \n",
    "                             hover_name='name',\n",
    "                             title='Best Value Wines: Price vs. Rating vs. Number of Ratings',\n",
    "                             labels={'price': 'Price', 'rating': 'Rating', 'ratings_count': 'Number of Ratings'},\n",
    "                             size_max=30)\n",
    "\n",
    "fig_value_wines.update_traces(marker=dict(opacity=0.8, line=dict(width=1, color='DarkSlateGrey')))\n",
    "fig_value_wines.update_layout(title_x=0.5)\n",
    "\n",
    "fig_value_wines.show()"
   ]
  },
  {
   "cell_type": "code",
   "execution_count": 28,
   "metadata": {},
   "outputs": [
    {
     "data": {
      "application/vnd.plotly.v1+json": {
       "config": {
        "plotlyServerURL": "https://plot.ly"
       },
       "data": [
        {
         "alignmentgroup": "True",
         "hovertemplate": "Region=%{x}<br>Number of Ratings=%{y}<br>Total Wines=%{marker.color}<extra></extra>",
         "legendgroup": "",
         "marker": {
          "color": [
           68,
           67,
           47,
           43,
           31,
           29,
           25,
           25,
           25,
           21
          ],
          "coloraxis": "coloraxis",
          "pattern": {
           "shape": ""
          }
         },
         "name": "",
         "offsetgroup": "",
         "orientation": "v",
         "showlegend": false,
         "textposition": "auto",
         "texttemplate": "%{y}",
         "type": "bar",
         "x": [
          "Barolo",
          "Brunello di Montalcino",
          "Toscana",
          "Champagne",
          "Napa Valley",
          "Amarone della Valpolicella Classico",
          "Rioja",
          "Ribera del Duero",
          "Amarone della Valpolicella",
          "Barbaresco"
         ],
         "xaxis": "x",
         "y": [
          185231,
          318036,
          380370,
          530979,
          614914,
          332330,
          188430,
          408921,
          55724,
          67480
         ],
         "yaxis": "y"
        }
       ],
       "layout": {
        "barmode": "stack",
        "coloraxis": {
         "colorbar": {
          "title": {
           "text": "Total Wines"
          }
         },
         "colorscale": [
          [
           0,
           "#0d0887"
          ],
          [
           0.1111111111111111,
           "#46039f"
          ],
          [
           0.2222222222222222,
           "#7201a8"
          ],
          [
           0.3333333333333333,
           "#9c179e"
          ],
          [
           0.4444444444444444,
           "#bd3786"
          ],
          [
           0.5555555555555556,
           "#d8576b"
          ],
          [
           0.6666666666666666,
           "#ed7953"
          ],
          [
           0.7777777777777778,
           "#fb9f3a"
          ],
          [
           0.8888888888888888,
           "#fdca26"
          ],
          [
           1,
           "#f0f921"
          ]
         ]
        },
        "legend": {
         "tracegroupgap": 0
        },
        "template": {
         "data": {
          "bar": [
           {
            "error_x": {
             "color": "#2a3f5f"
            },
            "error_y": {
             "color": "#2a3f5f"
            },
            "marker": {
             "line": {
              "color": "#E5ECF6",
              "width": 0.5
             },
             "pattern": {
              "fillmode": "overlay",
              "size": 10,
              "solidity": 0.2
             }
            },
            "type": "bar"
           }
          ],
          "barpolar": [
           {
            "marker": {
             "line": {
              "color": "#E5ECF6",
              "width": 0.5
             },
             "pattern": {
              "fillmode": "overlay",
              "size": 10,
              "solidity": 0.2
             }
            },
            "type": "barpolar"
           }
          ],
          "carpet": [
           {
            "aaxis": {
             "endlinecolor": "#2a3f5f",
             "gridcolor": "white",
             "linecolor": "white",
             "minorgridcolor": "white",
             "startlinecolor": "#2a3f5f"
            },
            "baxis": {
             "endlinecolor": "#2a3f5f",
             "gridcolor": "white",
             "linecolor": "white",
             "minorgridcolor": "white",
             "startlinecolor": "#2a3f5f"
            },
            "type": "carpet"
           }
          ],
          "choropleth": [
           {
            "colorbar": {
             "outlinewidth": 0,
             "ticks": ""
            },
            "type": "choropleth"
           }
          ],
          "contour": [
           {
            "colorbar": {
             "outlinewidth": 0,
             "ticks": ""
            },
            "colorscale": [
             [
              0,
              "#0d0887"
             ],
             [
              0.1111111111111111,
              "#46039f"
             ],
             [
              0.2222222222222222,
              "#7201a8"
             ],
             [
              0.3333333333333333,
              "#9c179e"
             ],
             [
              0.4444444444444444,
              "#bd3786"
             ],
             [
              0.5555555555555556,
              "#d8576b"
             ],
             [
              0.6666666666666666,
              "#ed7953"
             ],
             [
              0.7777777777777778,
              "#fb9f3a"
             ],
             [
              0.8888888888888888,
              "#fdca26"
             ],
             [
              1,
              "#f0f921"
             ]
            ],
            "type": "contour"
           }
          ],
          "contourcarpet": [
           {
            "colorbar": {
             "outlinewidth": 0,
             "ticks": ""
            },
            "type": "contourcarpet"
           }
          ],
          "heatmap": [
           {
            "colorbar": {
             "outlinewidth": 0,
             "ticks": ""
            },
            "colorscale": [
             [
              0,
              "#0d0887"
             ],
             [
              0.1111111111111111,
              "#46039f"
             ],
             [
              0.2222222222222222,
              "#7201a8"
             ],
             [
              0.3333333333333333,
              "#9c179e"
             ],
             [
              0.4444444444444444,
              "#bd3786"
             ],
             [
              0.5555555555555556,
              "#d8576b"
             ],
             [
              0.6666666666666666,
              "#ed7953"
             ],
             [
              0.7777777777777778,
              "#fb9f3a"
             ],
             [
              0.8888888888888888,
              "#fdca26"
             ],
             [
              1,
              "#f0f921"
             ]
            ],
            "type": "heatmap"
           }
          ],
          "heatmapgl": [
           {
            "colorbar": {
             "outlinewidth": 0,
             "ticks": ""
            },
            "colorscale": [
             [
              0,
              "#0d0887"
             ],
             [
              0.1111111111111111,
              "#46039f"
             ],
             [
              0.2222222222222222,
              "#7201a8"
             ],
             [
              0.3333333333333333,
              "#9c179e"
             ],
             [
              0.4444444444444444,
              "#bd3786"
             ],
             [
              0.5555555555555556,
              "#d8576b"
             ],
             [
              0.6666666666666666,
              "#ed7953"
             ],
             [
              0.7777777777777778,
              "#fb9f3a"
             ],
             [
              0.8888888888888888,
              "#fdca26"
             ],
             [
              1,
              "#f0f921"
             ]
            ],
            "type": "heatmapgl"
           }
          ],
          "histogram": [
           {
            "marker": {
             "pattern": {
              "fillmode": "overlay",
              "size": 10,
              "solidity": 0.2
             }
            },
            "type": "histogram"
           }
          ],
          "histogram2d": [
           {
            "colorbar": {
             "outlinewidth": 0,
             "ticks": ""
            },
            "colorscale": [
             [
              0,
              "#0d0887"
             ],
             [
              0.1111111111111111,
              "#46039f"
             ],
             [
              0.2222222222222222,
              "#7201a8"
             ],
             [
              0.3333333333333333,
              "#9c179e"
             ],
             [
              0.4444444444444444,
              "#bd3786"
             ],
             [
              0.5555555555555556,
              "#d8576b"
             ],
             [
              0.6666666666666666,
              "#ed7953"
             ],
             [
              0.7777777777777778,
              "#fb9f3a"
             ],
             [
              0.8888888888888888,
              "#fdca26"
             ],
             [
              1,
              "#f0f921"
             ]
            ],
            "type": "histogram2d"
           }
          ],
          "histogram2dcontour": [
           {
            "colorbar": {
             "outlinewidth": 0,
             "ticks": ""
            },
            "colorscale": [
             [
              0,
              "#0d0887"
             ],
             [
              0.1111111111111111,
              "#46039f"
             ],
             [
              0.2222222222222222,
              "#7201a8"
             ],
             [
              0.3333333333333333,
              "#9c179e"
             ],
             [
              0.4444444444444444,
              "#bd3786"
             ],
             [
              0.5555555555555556,
              "#d8576b"
             ],
             [
              0.6666666666666666,
              "#ed7953"
             ],
             [
              0.7777777777777778,
              "#fb9f3a"
             ],
             [
              0.8888888888888888,
              "#fdca26"
             ],
             [
              1,
              "#f0f921"
             ]
            ],
            "type": "histogram2dcontour"
           }
          ],
          "mesh3d": [
           {
            "colorbar": {
             "outlinewidth": 0,
             "ticks": ""
            },
            "type": "mesh3d"
           }
          ],
          "parcoords": [
           {
            "line": {
             "colorbar": {
              "outlinewidth": 0,
              "ticks": ""
             }
            },
            "type": "parcoords"
           }
          ],
          "pie": [
           {
            "automargin": true,
            "type": "pie"
           }
          ],
          "scatter": [
           {
            "fillpattern": {
             "fillmode": "overlay",
             "size": 10,
             "solidity": 0.2
            },
            "type": "scatter"
           }
          ],
          "scatter3d": [
           {
            "line": {
             "colorbar": {
              "outlinewidth": 0,
              "ticks": ""
             }
            },
            "marker": {
             "colorbar": {
              "outlinewidth": 0,
              "ticks": ""
             }
            },
            "type": "scatter3d"
           }
          ],
          "scattercarpet": [
           {
            "marker": {
             "colorbar": {
              "outlinewidth": 0,
              "ticks": ""
             }
            },
            "type": "scattercarpet"
           }
          ],
          "scattergeo": [
           {
            "marker": {
             "colorbar": {
              "outlinewidth": 0,
              "ticks": ""
             }
            },
            "type": "scattergeo"
           }
          ],
          "scattergl": [
           {
            "marker": {
             "colorbar": {
              "outlinewidth": 0,
              "ticks": ""
             }
            },
            "type": "scattergl"
           }
          ],
          "scattermapbox": [
           {
            "marker": {
             "colorbar": {
              "outlinewidth": 0,
              "ticks": ""
             }
            },
            "type": "scattermapbox"
           }
          ],
          "scatterpolar": [
           {
            "marker": {
             "colorbar": {
              "outlinewidth": 0,
              "ticks": ""
             }
            },
            "type": "scatterpolar"
           }
          ],
          "scatterpolargl": [
           {
            "marker": {
             "colorbar": {
              "outlinewidth": 0,
              "ticks": ""
             }
            },
            "type": "scatterpolargl"
           }
          ],
          "scatterternary": [
           {
            "marker": {
             "colorbar": {
              "outlinewidth": 0,
              "ticks": ""
             }
            },
            "type": "scatterternary"
           }
          ],
          "surface": [
           {
            "colorbar": {
             "outlinewidth": 0,
             "ticks": ""
            },
            "colorscale": [
             [
              0,
              "#0d0887"
             ],
             [
              0.1111111111111111,
              "#46039f"
             ],
             [
              0.2222222222222222,
              "#7201a8"
             ],
             [
              0.3333333333333333,
              "#9c179e"
             ],
             [
              0.4444444444444444,
              "#bd3786"
             ],
             [
              0.5555555555555556,
              "#d8576b"
             ],
             [
              0.6666666666666666,
              "#ed7953"
             ],
             [
              0.7777777777777778,
              "#fb9f3a"
             ],
             [
              0.8888888888888888,
              "#fdca26"
             ],
             [
              1,
              "#f0f921"
             ]
            ],
            "type": "surface"
           }
          ],
          "table": [
           {
            "cells": {
             "fill": {
              "color": "#EBF0F8"
             },
             "line": {
              "color": "white"
             }
            },
            "header": {
             "fill": {
              "color": "#C8D4E3"
             },
             "line": {
              "color": "white"
             }
            },
            "type": "table"
           }
          ]
         },
         "layout": {
          "annotationdefaults": {
           "arrowcolor": "#2a3f5f",
           "arrowhead": 0,
           "arrowwidth": 1
          },
          "autotypenumbers": "strict",
          "coloraxis": {
           "colorbar": {
            "outlinewidth": 0,
            "ticks": ""
           }
          },
          "colorscale": {
           "diverging": [
            [
             0,
             "#8e0152"
            ],
            [
             0.1,
             "#c51b7d"
            ],
            [
             0.2,
             "#de77ae"
            ],
            [
             0.3,
             "#f1b6da"
            ],
            [
             0.4,
             "#fde0ef"
            ],
            [
             0.5,
             "#f7f7f7"
            ],
            [
             0.6,
             "#e6f5d0"
            ],
            [
             0.7,
             "#b8e186"
            ],
            [
             0.8,
             "#7fbc41"
            ],
            [
             0.9,
             "#4d9221"
            ],
            [
             1,
             "#276419"
            ]
           ],
           "sequential": [
            [
             0,
             "#0d0887"
            ],
            [
             0.1111111111111111,
             "#46039f"
            ],
            [
             0.2222222222222222,
             "#7201a8"
            ],
            [
             0.3333333333333333,
             "#9c179e"
            ],
            [
             0.4444444444444444,
             "#bd3786"
            ],
            [
             0.5555555555555556,
             "#d8576b"
            ],
            [
             0.6666666666666666,
             "#ed7953"
            ],
            [
             0.7777777777777778,
             "#fb9f3a"
            ],
            [
             0.8888888888888888,
             "#fdca26"
            ],
            [
             1,
             "#f0f921"
            ]
           ],
           "sequentialminus": [
            [
             0,
             "#0d0887"
            ],
            [
             0.1111111111111111,
             "#46039f"
            ],
            [
             0.2222222222222222,
             "#7201a8"
            ],
            [
             0.3333333333333333,
             "#9c179e"
            ],
            [
             0.4444444444444444,
             "#bd3786"
            ],
            [
             0.5555555555555556,
             "#d8576b"
            ],
            [
             0.6666666666666666,
             "#ed7953"
            ],
            [
             0.7777777777777778,
             "#fb9f3a"
            ],
            [
             0.8888888888888888,
             "#fdca26"
            ],
            [
             1,
             "#f0f921"
            ]
           ]
          },
          "colorway": [
           "#636efa",
           "#EF553B",
           "#00cc96",
           "#ab63fa",
           "#FFA15A",
           "#19d3f3",
           "#FF6692",
           "#B6E880",
           "#FF97FF",
           "#FECB52"
          ],
          "font": {
           "color": "#2a3f5f"
          },
          "geo": {
           "bgcolor": "white",
           "lakecolor": "white",
           "landcolor": "#E5ECF6",
           "showlakes": true,
           "showland": true,
           "subunitcolor": "white"
          },
          "hoverlabel": {
           "align": "left"
          },
          "hovermode": "closest",
          "mapbox": {
           "style": "light"
          },
          "paper_bgcolor": "white",
          "plot_bgcolor": "#E5ECF6",
          "polar": {
           "angularaxis": {
            "gridcolor": "white",
            "linecolor": "white",
            "ticks": ""
           },
           "bgcolor": "#E5ECF6",
           "radialaxis": {
            "gridcolor": "white",
            "linecolor": "white",
            "ticks": ""
           }
          },
          "scene": {
           "xaxis": {
            "backgroundcolor": "#E5ECF6",
            "gridcolor": "white",
            "gridwidth": 2,
            "linecolor": "white",
            "showbackground": true,
            "ticks": "",
            "zerolinecolor": "white"
           },
           "yaxis": {
            "backgroundcolor": "#E5ECF6",
            "gridcolor": "white",
            "gridwidth": 2,
            "linecolor": "white",
            "showbackground": true,
            "ticks": "",
            "zerolinecolor": "white"
           },
           "zaxis": {
            "backgroundcolor": "#E5ECF6",
            "gridcolor": "white",
            "gridwidth": 2,
            "linecolor": "white",
            "showbackground": true,
            "ticks": "",
            "zerolinecolor": "white"
           }
          },
          "shapedefaults": {
           "line": {
            "color": "#2a3f5f"
           }
          },
          "ternary": {
           "aaxis": {
            "gridcolor": "white",
            "linecolor": "white",
            "ticks": ""
           },
           "baxis": {
            "gridcolor": "white",
            "linecolor": "white",
            "ticks": ""
           },
           "bgcolor": "#E5ECF6",
           "caxis": {
            "gridcolor": "white",
            "linecolor": "white",
            "ticks": ""
           }
          },
          "title": {
           "x": 0.05
          },
          "xaxis": {
           "automargin": true,
           "gridcolor": "white",
           "linecolor": "white",
           "ticks": "",
           "title": {
            "standoff": 15
           },
           "zerolinecolor": "white",
           "zerolinewidth": 2
          },
          "yaxis": {
           "automargin": true,
           "gridcolor": "white",
           "linecolor": "white",
           "ticks": "",
           "title": {
            "standoff": 15
           },
           "zerolinecolor": "white",
           "zerolinewidth": 2
          }
         }
        },
        "title": {
         "text": "Wine Popularity by Region"
        },
        "xaxis": {
         "anchor": "y",
         "categoryorder": "total descending",
         "domain": [
          0,
          1
         ],
         "title": {
          "text": "Region"
         }
        },
        "yaxis": {
         "anchor": "x",
         "domain": [
          0,
          1
         ],
         "title": {
          "text": "Number of Ratings"
         }
        }
       }
      },
      "text/html": [
       "<div>                            <div id=\"09951538-31b6-43cd-abcd-c721377afd58\" class=\"plotly-graph-div\" style=\"height:525px; width:100%;\"></div>            <script type=\"text/javascript\">                require([\"plotly\"], function(Plotly) {                    window.PLOTLYENV=window.PLOTLYENV || {};                                    if (document.getElementById(\"09951538-31b6-43cd-abcd-c721377afd58\")) {                    Plotly.newPlot(                        \"09951538-31b6-43cd-abcd-c721377afd58\",                        [{\"alignmentgroup\":\"True\",\"hovertemplate\":\"Region=%{x}\\u003cbr\\u003eNumber of Ratings=%{y}\\u003cbr\\u003eTotal Wines=%{marker.color}\\u003cextra\\u003e\\u003c\\u002fextra\\u003e\",\"legendgroup\":\"\",\"marker\":{\"color\":[68,67,47,43,31,29,25,25,25,21],\"coloraxis\":\"coloraxis\",\"pattern\":{\"shape\":\"\"}},\"name\":\"\",\"offsetgroup\":\"\",\"orientation\":\"v\",\"showlegend\":false,\"textposition\":\"auto\",\"texttemplate\":\"%{y}\",\"x\":[\"Barolo\",\"Brunello di Montalcino\",\"Toscana\",\"Champagne\",\"Napa Valley\",\"Amarone della Valpolicella Classico\",\"Rioja\",\"Ribera del Duero\",\"Amarone della Valpolicella\",\"Barbaresco\"],\"xaxis\":\"x\",\"y\":[185231,318036,380370,530979,614914,332330,188430,408921,55724,67480],\"yaxis\":\"y\",\"type\":\"bar\"}],                        {\"template\":{\"data\":{\"histogram2dcontour\":[{\"type\":\"histogram2dcontour\",\"colorbar\":{\"outlinewidth\":0,\"ticks\":\"\"},\"colorscale\":[[0.0,\"#0d0887\"],[0.1111111111111111,\"#46039f\"],[0.2222222222222222,\"#7201a8\"],[0.3333333333333333,\"#9c179e\"],[0.4444444444444444,\"#bd3786\"],[0.5555555555555556,\"#d8576b\"],[0.6666666666666666,\"#ed7953\"],[0.7777777777777778,\"#fb9f3a\"],[0.8888888888888888,\"#fdca26\"],[1.0,\"#f0f921\"]]}],\"choropleth\":[{\"type\":\"choropleth\",\"colorbar\":{\"outlinewidth\":0,\"ticks\":\"\"}}],\"histogram2d\":[{\"type\":\"histogram2d\",\"colorbar\":{\"outlinewidth\":0,\"ticks\":\"\"},\"colorscale\":[[0.0,\"#0d0887\"],[0.1111111111111111,\"#46039f\"],[0.2222222222222222,\"#7201a8\"],[0.3333333333333333,\"#9c179e\"],[0.4444444444444444,\"#bd3786\"],[0.5555555555555556,\"#d8576b\"],[0.6666666666666666,\"#ed7953\"],[0.7777777777777778,\"#fb9f3a\"],[0.8888888888888888,\"#fdca26\"],[1.0,\"#f0f921\"]]}],\"heatmap\":[{\"type\":\"heatmap\",\"colorbar\":{\"outlinewidth\":0,\"ticks\":\"\"},\"colorscale\":[[0.0,\"#0d0887\"],[0.1111111111111111,\"#46039f\"],[0.2222222222222222,\"#7201a8\"],[0.3333333333333333,\"#9c179e\"],[0.4444444444444444,\"#bd3786\"],[0.5555555555555556,\"#d8576b\"],[0.6666666666666666,\"#ed7953\"],[0.7777777777777778,\"#fb9f3a\"],[0.8888888888888888,\"#fdca26\"],[1.0,\"#f0f921\"]]}],\"heatmapgl\":[{\"type\":\"heatmapgl\",\"colorbar\":{\"outlinewidth\":0,\"ticks\":\"\"},\"colorscale\":[[0.0,\"#0d0887\"],[0.1111111111111111,\"#46039f\"],[0.2222222222222222,\"#7201a8\"],[0.3333333333333333,\"#9c179e\"],[0.4444444444444444,\"#bd3786\"],[0.5555555555555556,\"#d8576b\"],[0.6666666666666666,\"#ed7953\"],[0.7777777777777778,\"#fb9f3a\"],[0.8888888888888888,\"#fdca26\"],[1.0,\"#f0f921\"]]}],\"contourcarpet\":[{\"type\":\"contourcarpet\",\"colorbar\":{\"outlinewidth\":0,\"ticks\":\"\"}}],\"contour\":[{\"type\":\"contour\",\"colorbar\":{\"outlinewidth\":0,\"ticks\":\"\"},\"colorscale\":[[0.0,\"#0d0887\"],[0.1111111111111111,\"#46039f\"],[0.2222222222222222,\"#7201a8\"],[0.3333333333333333,\"#9c179e\"],[0.4444444444444444,\"#bd3786\"],[0.5555555555555556,\"#d8576b\"],[0.6666666666666666,\"#ed7953\"],[0.7777777777777778,\"#fb9f3a\"],[0.8888888888888888,\"#fdca26\"],[1.0,\"#f0f921\"]]}],\"surface\":[{\"type\":\"surface\",\"colorbar\":{\"outlinewidth\":0,\"ticks\":\"\"},\"colorscale\":[[0.0,\"#0d0887\"],[0.1111111111111111,\"#46039f\"],[0.2222222222222222,\"#7201a8\"],[0.3333333333333333,\"#9c179e\"],[0.4444444444444444,\"#bd3786\"],[0.5555555555555556,\"#d8576b\"],[0.6666666666666666,\"#ed7953\"],[0.7777777777777778,\"#fb9f3a\"],[0.8888888888888888,\"#fdca26\"],[1.0,\"#f0f921\"]]}],\"mesh3d\":[{\"type\":\"mesh3d\",\"colorbar\":{\"outlinewidth\":0,\"ticks\":\"\"}}],\"scatter\":[{\"fillpattern\":{\"fillmode\":\"overlay\",\"size\":10,\"solidity\":0.2},\"type\":\"scatter\"}],\"parcoords\":[{\"type\":\"parcoords\",\"line\":{\"colorbar\":{\"outlinewidth\":0,\"ticks\":\"\"}}}],\"scatterpolargl\":[{\"type\":\"scatterpolargl\",\"marker\":{\"colorbar\":{\"outlinewidth\":0,\"ticks\":\"\"}}}],\"bar\":[{\"error_x\":{\"color\":\"#2a3f5f\"},\"error_y\":{\"color\":\"#2a3f5f\"},\"marker\":{\"line\":{\"color\":\"#E5ECF6\",\"width\":0.5},\"pattern\":{\"fillmode\":\"overlay\",\"size\":10,\"solidity\":0.2}},\"type\":\"bar\"}],\"scattergeo\":[{\"type\":\"scattergeo\",\"marker\":{\"colorbar\":{\"outlinewidth\":0,\"ticks\":\"\"}}}],\"scatterpolar\":[{\"type\":\"scatterpolar\",\"marker\":{\"colorbar\":{\"outlinewidth\":0,\"ticks\":\"\"}}}],\"histogram\":[{\"marker\":{\"pattern\":{\"fillmode\":\"overlay\",\"size\":10,\"solidity\":0.2}},\"type\":\"histogram\"}],\"scattergl\":[{\"type\":\"scattergl\",\"marker\":{\"colorbar\":{\"outlinewidth\":0,\"ticks\":\"\"}}}],\"scatter3d\":[{\"type\":\"scatter3d\",\"line\":{\"colorbar\":{\"outlinewidth\":0,\"ticks\":\"\"}},\"marker\":{\"colorbar\":{\"outlinewidth\":0,\"ticks\":\"\"}}}],\"scattermapbox\":[{\"type\":\"scattermapbox\",\"marker\":{\"colorbar\":{\"outlinewidth\":0,\"ticks\":\"\"}}}],\"scatterternary\":[{\"type\":\"scatterternary\",\"marker\":{\"colorbar\":{\"outlinewidth\":0,\"ticks\":\"\"}}}],\"scattercarpet\":[{\"type\":\"scattercarpet\",\"marker\":{\"colorbar\":{\"outlinewidth\":0,\"ticks\":\"\"}}}],\"carpet\":[{\"aaxis\":{\"endlinecolor\":\"#2a3f5f\",\"gridcolor\":\"white\",\"linecolor\":\"white\",\"minorgridcolor\":\"white\",\"startlinecolor\":\"#2a3f5f\"},\"baxis\":{\"endlinecolor\":\"#2a3f5f\",\"gridcolor\":\"white\",\"linecolor\":\"white\",\"minorgridcolor\":\"white\",\"startlinecolor\":\"#2a3f5f\"},\"type\":\"carpet\"}],\"table\":[{\"cells\":{\"fill\":{\"color\":\"#EBF0F8\"},\"line\":{\"color\":\"white\"}},\"header\":{\"fill\":{\"color\":\"#C8D4E3\"},\"line\":{\"color\":\"white\"}},\"type\":\"table\"}],\"barpolar\":[{\"marker\":{\"line\":{\"color\":\"#E5ECF6\",\"width\":0.5},\"pattern\":{\"fillmode\":\"overlay\",\"size\":10,\"solidity\":0.2}},\"type\":\"barpolar\"}],\"pie\":[{\"automargin\":true,\"type\":\"pie\"}]},\"layout\":{\"autotypenumbers\":\"strict\",\"colorway\":[\"#636efa\",\"#EF553B\",\"#00cc96\",\"#ab63fa\",\"#FFA15A\",\"#19d3f3\",\"#FF6692\",\"#B6E880\",\"#FF97FF\",\"#FECB52\"],\"font\":{\"color\":\"#2a3f5f\"},\"hovermode\":\"closest\",\"hoverlabel\":{\"align\":\"left\"},\"paper_bgcolor\":\"white\",\"plot_bgcolor\":\"#E5ECF6\",\"polar\":{\"bgcolor\":\"#E5ECF6\",\"angularaxis\":{\"gridcolor\":\"white\",\"linecolor\":\"white\",\"ticks\":\"\"},\"radialaxis\":{\"gridcolor\":\"white\",\"linecolor\":\"white\",\"ticks\":\"\"}},\"ternary\":{\"bgcolor\":\"#E5ECF6\",\"aaxis\":{\"gridcolor\":\"white\",\"linecolor\":\"white\",\"ticks\":\"\"},\"baxis\":{\"gridcolor\":\"white\",\"linecolor\":\"white\",\"ticks\":\"\"},\"caxis\":{\"gridcolor\":\"white\",\"linecolor\":\"white\",\"ticks\":\"\"}},\"coloraxis\":{\"colorbar\":{\"outlinewidth\":0,\"ticks\":\"\"}},\"colorscale\":{\"sequential\":[[0.0,\"#0d0887\"],[0.1111111111111111,\"#46039f\"],[0.2222222222222222,\"#7201a8\"],[0.3333333333333333,\"#9c179e\"],[0.4444444444444444,\"#bd3786\"],[0.5555555555555556,\"#d8576b\"],[0.6666666666666666,\"#ed7953\"],[0.7777777777777778,\"#fb9f3a\"],[0.8888888888888888,\"#fdca26\"],[1.0,\"#f0f921\"]],\"sequentialminus\":[[0.0,\"#0d0887\"],[0.1111111111111111,\"#46039f\"],[0.2222222222222222,\"#7201a8\"],[0.3333333333333333,\"#9c179e\"],[0.4444444444444444,\"#bd3786\"],[0.5555555555555556,\"#d8576b\"],[0.6666666666666666,\"#ed7953\"],[0.7777777777777778,\"#fb9f3a\"],[0.8888888888888888,\"#fdca26\"],[1.0,\"#f0f921\"]],\"diverging\":[[0,\"#8e0152\"],[0.1,\"#c51b7d\"],[0.2,\"#de77ae\"],[0.3,\"#f1b6da\"],[0.4,\"#fde0ef\"],[0.5,\"#f7f7f7\"],[0.6,\"#e6f5d0\"],[0.7,\"#b8e186\"],[0.8,\"#7fbc41\"],[0.9,\"#4d9221\"],[1,\"#276419\"]]},\"xaxis\":{\"gridcolor\":\"white\",\"linecolor\":\"white\",\"ticks\":\"\",\"title\":{\"standoff\":15},\"zerolinecolor\":\"white\",\"automargin\":true,\"zerolinewidth\":2},\"yaxis\":{\"gridcolor\":\"white\",\"linecolor\":\"white\",\"ticks\":\"\",\"title\":{\"standoff\":15},\"zerolinecolor\":\"white\",\"automargin\":true,\"zerolinewidth\":2},\"scene\":{\"xaxis\":{\"backgroundcolor\":\"#E5ECF6\",\"gridcolor\":\"white\",\"linecolor\":\"white\",\"showbackground\":true,\"ticks\":\"\",\"zerolinecolor\":\"white\",\"gridwidth\":2},\"yaxis\":{\"backgroundcolor\":\"#E5ECF6\",\"gridcolor\":\"white\",\"linecolor\":\"white\",\"showbackground\":true,\"ticks\":\"\",\"zerolinecolor\":\"white\",\"gridwidth\":2},\"zaxis\":{\"backgroundcolor\":\"#E5ECF6\",\"gridcolor\":\"white\",\"linecolor\":\"white\",\"showbackground\":true,\"ticks\":\"\",\"zerolinecolor\":\"white\",\"gridwidth\":2}},\"shapedefaults\":{\"line\":{\"color\":\"#2a3f5f\"}},\"annotationdefaults\":{\"arrowcolor\":\"#2a3f5f\",\"arrowhead\":0,\"arrowwidth\":1},\"geo\":{\"bgcolor\":\"white\",\"landcolor\":\"#E5ECF6\",\"subunitcolor\":\"white\",\"showland\":true,\"showlakes\":true,\"lakecolor\":\"white\"},\"title\":{\"x\":0.05},\"mapbox\":{\"style\":\"light\"}}},\"xaxis\":{\"anchor\":\"y\",\"domain\":[0.0,1.0],\"title\":{\"text\":\"Region\"},\"categoryorder\":\"total descending\"},\"yaxis\":{\"anchor\":\"x\",\"domain\":[0.0,1.0],\"title\":{\"text\":\"Number of Ratings\"}},\"coloraxis\":{\"colorbar\":{\"title\":{\"text\":\"Total Wines\"}},\"colorscale\":[[0.0,\"#0d0887\"],[0.1111111111111111,\"#46039f\"],[0.2222222222222222,\"#7201a8\"],[0.3333333333333333,\"#9c179e\"],[0.4444444444444444,\"#bd3786\"],[0.5555555555555556,\"#d8576b\"],[0.6666666666666666,\"#ed7953\"],[0.7777777777777778,\"#fb9f3a\"],[0.8888888888888888,\"#fdca26\"],[1.0,\"#f0f921\"]]},\"legend\":{\"tracegroupgap\":0},\"title\":{\"text\":\"Wine Popularity by Region\"},\"barmode\":\"stack\"},                        {\"responsive\": true}                    ).then(function(){\n",
       "                            \n",
       "var gd = document.getElementById('09951538-31b6-43cd-abcd-c721377afd58');\n",
       "var x = new MutationObserver(function (mutations, observer) {{\n",
       "        var display = window.getComputedStyle(gd).display;\n",
       "        if (!display || display === 'none') {{\n",
       "            console.log([gd, 'removed!']);\n",
       "            Plotly.purge(gd);\n",
       "            observer.disconnect();\n",
       "        }}\n",
       "}});\n",
       "\n",
       "// Listen for the removal of the full notebook cells\n",
       "var notebookContainer = gd.closest('#notebook-container');\n",
       "if (notebookContainer) {{\n",
       "    x.observe(notebookContainer, {childList: true});\n",
       "}}\n",
       "\n",
       "// Listen for the clearing of the current output cell\n",
       "var outputEl = gd.closest('.output');\n",
       "if (outputEl) {{\n",
       "    x.observe(outputEl, {childList: true});\n",
       "}}\n",
       "\n",
       "                        })                };                });            </script>        </div>"
      ]
     },
     "metadata": {},
     "output_type": "display_data"
    },
    {
     "data": {
      "application/vnd.plotly.v1+json": {
       "config": {
        "plotlyServerURL": "https://plot.ly"
       },
       "data": [
        {
         "alignmentgroup": "True",
         "hovertemplate": "Country=%{x}<br>Number of Ratings=%{y}<br>Total Wines=%{marker.color}<extra></extra>",
         "legendgroup": "",
         "marker": {
          "color": [
           383,
           331,
           94,
           74,
           28,
           23,
           22,
           16,
           14,
           12
          ],
          "coloraxis": "coloraxis",
          "pattern": {
           "shape": ""
          }
         },
         "name": "",
         "offsetgroup": "",
         "orientation": "v",
         "showlegend": false,
         "textposition": "auto",
         "texttemplate": "%{y}",
         "type": "bar",
         "x": [
          "Italie",
          "France",
          "Espagne",
          "États-Unis",
          "Portugal",
          "Argentine",
          "Afrique du Sud",
          "Chili",
          "Allemagne",
          "Australie"
         ],
         "xaxis": "x",
         "y": [
          2135839,
          2124809,
          746710,
          834263,
          62454,
          283673,
          59995,
          159256,
          8257,
          52138
         ],
         "yaxis": "y"
        }
       ],
       "layout": {
        "barmode": "stack",
        "coloraxis": {
         "colorbar": {
          "title": {
           "text": "Total Wines"
          }
         },
         "colorscale": [
          [
           0,
           "#0d0887"
          ],
          [
           0.1111111111111111,
           "#46039f"
          ],
          [
           0.2222222222222222,
           "#7201a8"
          ],
          [
           0.3333333333333333,
           "#9c179e"
          ],
          [
           0.4444444444444444,
           "#bd3786"
          ],
          [
           0.5555555555555556,
           "#d8576b"
          ],
          [
           0.6666666666666666,
           "#ed7953"
          ],
          [
           0.7777777777777778,
           "#fb9f3a"
          ],
          [
           0.8888888888888888,
           "#fdca26"
          ],
          [
           1,
           "#f0f921"
          ]
         ]
        },
        "legend": {
         "tracegroupgap": 0
        },
        "template": {
         "data": {
          "bar": [
           {
            "error_x": {
             "color": "#2a3f5f"
            },
            "error_y": {
             "color": "#2a3f5f"
            },
            "marker": {
             "line": {
              "color": "#E5ECF6",
              "width": 0.5
             },
             "pattern": {
              "fillmode": "overlay",
              "size": 10,
              "solidity": 0.2
             }
            },
            "type": "bar"
           }
          ],
          "barpolar": [
           {
            "marker": {
             "line": {
              "color": "#E5ECF6",
              "width": 0.5
             },
             "pattern": {
              "fillmode": "overlay",
              "size": 10,
              "solidity": 0.2
             }
            },
            "type": "barpolar"
           }
          ],
          "carpet": [
           {
            "aaxis": {
             "endlinecolor": "#2a3f5f",
             "gridcolor": "white",
             "linecolor": "white",
             "minorgridcolor": "white",
             "startlinecolor": "#2a3f5f"
            },
            "baxis": {
             "endlinecolor": "#2a3f5f",
             "gridcolor": "white",
             "linecolor": "white",
             "minorgridcolor": "white",
             "startlinecolor": "#2a3f5f"
            },
            "type": "carpet"
           }
          ],
          "choropleth": [
           {
            "colorbar": {
             "outlinewidth": 0,
             "ticks": ""
            },
            "type": "choropleth"
           }
          ],
          "contour": [
           {
            "colorbar": {
             "outlinewidth": 0,
             "ticks": ""
            },
            "colorscale": [
             [
              0,
              "#0d0887"
             ],
             [
              0.1111111111111111,
              "#46039f"
             ],
             [
              0.2222222222222222,
              "#7201a8"
             ],
             [
              0.3333333333333333,
              "#9c179e"
             ],
             [
              0.4444444444444444,
              "#bd3786"
             ],
             [
              0.5555555555555556,
              "#d8576b"
             ],
             [
              0.6666666666666666,
              "#ed7953"
             ],
             [
              0.7777777777777778,
              "#fb9f3a"
             ],
             [
              0.8888888888888888,
              "#fdca26"
             ],
             [
              1,
              "#f0f921"
             ]
            ],
            "type": "contour"
           }
          ],
          "contourcarpet": [
           {
            "colorbar": {
             "outlinewidth": 0,
             "ticks": ""
            },
            "type": "contourcarpet"
           }
          ],
          "heatmap": [
           {
            "colorbar": {
             "outlinewidth": 0,
             "ticks": ""
            },
            "colorscale": [
             [
              0,
              "#0d0887"
             ],
             [
              0.1111111111111111,
              "#46039f"
             ],
             [
              0.2222222222222222,
              "#7201a8"
             ],
             [
              0.3333333333333333,
              "#9c179e"
             ],
             [
              0.4444444444444444,
              "#bd3786"
             ],
             [
              0.5555555555555556,
              "#d8576b"
             ],
             [
              0.6666666666666666,
              "#ed7953"
             ],
             [
              0.7777777777777778,
              "#fb9f3a"
             ],
             [
              0.8888888888888888,
              "#fdca26"
             ],
             [
              1,
              "#f0f921"
             ]
            ],
            "type": "heatmap"
           }
          ],
          "heatmapgl": [
           {
            "colorbar": {
             "outlinewidth": 0,
             "ticks": ""
            },
            "colorscale": [
             [
              0,
              "#0d0887"
             ],
             [
              0.1111111111111111,
              "#46039f"
             ],
             [
              0.2222222222222222,
              "#7201a8"
             ],
             [
              0.3333333333333333,
              "#9c179e"
             ],
             [
              0.4444444444444444,
              "#bd3786"
             ],
             [
              0.5555555555555556,
              "#d8576b"
             ],
             [
              0.6666666666666666,
              "#ed7953"
             ],
             [
              0.7777777777777778,
              "#fb9f3a"
             ],
             [
              0.8888888888888888,
              "#fdca26"
             ],
             [
              1,
              "#f0f921"
             ]
            ],
            "type": "heatmapgl"
           }
          ],
          "histogram": [
           {
            "marker": {
             "pattern": {
              "fillmode": "overlay",
              "size": 10,
              "solidity": 0.2
             }
            },
            "type": "histogram"
           }
          ],
          "histogram2d": [
           {
            "colorbar": {
             "outlinewidth": 0,
             "ticks": ""
            },
            "colorscale": [
             [
              0,
              "#0d0887"
             ],
             [
              0.1111111111111111,
              "#46039f"
             ],
             [
              0.2222222222222222,
              "#7201a8"
             ],
             [
              0.3333333333333333,
              "#9c179e"
             ],
             [
              0.4444444444444444,
              "#bd3786"
             ],
             [
              0.5555555555555556,
              "#d8576b"
             ],
             [
              0.6666666666666666,
              "#ed7953"
             ],
             [
              0.7777777777777778,
              "#fb9f3a"
             ],
             [
              0.8888888888888888,
              "#fdca26"
             ],
             [
              1,
              "#f0f921"
             ]
            ],
            "type": "histogram2d"
           }
          ],
          "histogram2dcontour": [
           {
            "colorbar": {
             "outlinewidth": 0,
             "ticks": ""
            },
            "colorscale": [
             [
              0,
              "#0d0887"
             ],
             [
              0.1111111111111111,
              "#46039f"
             ],
             [
              0.2222222222222222,
              "#7201a8"
             ],
             [
              0.3333333333333333,
              "#9c179e"
             ],
             [
              0.4444444444444444,
              "#bd3786"
             ],
             [
              0.5555555555555556,
              "#d8576b"
             ],
             [
              0.6666666666666666,
              "#ed7953"
             ],
             [
              0.7777777777777778,
              "#fb9f3a"
             ],
             [
              0.8888888888888888,
              "#fdca26"
             ],
             [
              1,
              "#f0f921"
             ]
            ],
            "type": "histogram2dcontour"
           }
          ],
          "mesh3d": [
           {
            "colorbar": {
             "outlinewidth": 0,
             "ticks": ""
            },
            "type": "mesh3d"
           }
          ],
          "parcoords": [
           {
            "line": {
             "colorbar": {
              "outlinewidth": 0,
              "ticks": ""
             }
            },
            "type": "parcoords"
           }
          ],
          "pie": [
           {
            "automargin": true,
            "type": "pie"
           }
          ],
          "scatter": [
           {
            "fillpattern": {
             "fillmode": "overlay",
             "size": 10,
             "solidity": 0.2
            },
            "type": "scatter"
           }
          ],
          "scatter3d": [
           {
            "line": {
             "colorbar": {
              "outlinewidth": 0,
              "ticks": ""
             }
            },
            "marker": {
             "colorbar": {
              "outlinewidth": 0,
              "ticks": ""
             }
            },
            "type": "scatter3d"
           }
          ],
          "scattercarpet": [
           {
            "marker": {
             "colorbar": {
              "outlinewidth": 0,
              "ticks": ""
             }
            },
            "type": "scattercarpet"
           }
          ],
          "scattergeo": [
           {
            "marker": {
             "colorbar": {
              "outlinewidth": 0,
              "ticks": ""
             }
            },
            "type": "scattergeo"
           }
          ],
          "scattergl": [
           {
            "marker": {
             "colorbar": {
              "outlinewidth": 0,
              "ticks": ""
             }
            },
            "type": "scattergl"
           }
          ],
          "scattermapbox": [
           {
            "marker": {
             "colorbar": {
              "outlinewidth": 0,
              "ticks": ""
             }
            },
            "type": "scattermapbox"
           }
          ],
          "scatterpolar": [
           {
            "marker": {
             "colorbar": {
              "outlinewidth": 0,
              "ticks": ""
             }
            },
            "type": "scatterpolar"
           }
          ],
          "scatterpolargl": [
           {
            "marker": {
             "colorbar": {
              "outlinewidth": 0,
              "ticks": ""
             }
            },
            "type": "scatterpolargl"
           }
          ],
          "scatterternary": [
           {
            "marker": {
             "colorbar": {
              "outlinewidth": 0,
              "ticks": ""
             }
            },
            "type": "scatterternary"
           }
          ],
          "surface": [
           {
            "colorbar": {
             "outlinewidth": 0,
             "ticks": ""
            },
            "colorscale": [
             [
              0,
              "#0d0887"
             ],
             [
              0.1111111111111111,
              "#46039f"
             ],
             [
              0.2222222222222222,
              "#7201a8"
             ],
             [
              0.3333333333333333,
              "#9c179e"
             ],
             [
              0.4444444444444444,
              "#bd3786"
             ],
             [
              0.5555555555555556,
              "#d8576b"
             ],
             [
              0.6666666666666666,
              "#ed7953"
             ],
             [
              0.7777777777777778,
              "#fb9f3a"
             ],
             [
              0.8888888888888888,
              "#fdca26"
             ],
             [
              1,
              "#f0f921"
             ]
            ],
            "type": "surface"
           }
          ],
          "table": [
           {
            "cells": {
             "fill": {
              "color": "#EBF0F8"
             },
             "line": {
              "color": "white"
             }
            },
            "header": {
             "fill": {
              "color": "#C8D4E3"
             },
             "line": {
              "color": "white"
             }
            },
            "type": "table"
           }
          ]
         },
         "layout": {
          "annotationdefaults": {
           "arrowcolor": "#2a3f5f",
           "arrowhead": 0,
           "arrowwidth": 1
          },
          "autotypenumbers": "strict",
          "coloraxis": {
           "colorbar": {
            "outlinewidth": 0,
            "ticks": ""
           }
          },
          "colorscale": {
           "diverging": [
            [
             0,
             "#8e0152"
            ],
            [
             0.1,
             "#c51b7d"
            ],
            [
             0.2,
             "#de77ae"
            ],
            [
             0.3,
             "#f1b6da"
            ],
            [
             0.4,
             "#fde0ef"
            ],
            [
             0.5,
             "#f7f7f7"
            ],
            [
             0.6,
             "#e6f5d0"
            ],
            [
             0.7,
             "#b8e186"
            ],
            [
             0.8,
             "#7fbc41"
            ],
            [
             0.9,
             "#4d9221"
            ],
            [
             1,
             "#276419"
            ]
           ],
           "sequential": [
            [
             0,
             "#0d0887"
            ],
            [
             0.1111111111111111,
             "#46039f"
            ],
            [
             0.2222222222222222,
             "#7201a8"
            ],
            [
             0.3333333333333333,
             "#9c179e"
            ],
            [
             0.4444444444444444,
             "#bd3786"
            ],
            [
             0.5555555555555556,
             "#d8576b"
            ],
            [
             0.6666666666666666,
             "#ed7953"
            ],
            [
             0.7777777777777778,
             "#fb9f3a"
            ],
            [
             0.8888888888888888,
             "#fdca26"
            ],
            [
             1,
             "#f0f921"
            ]
           ],
           "sequentialminus": [
            [
             0,
             "#0d0887"
            ],
            [
             0.1111111111111111,
             "#46039f"
            ],
            [
             0.2222222222222222,
             "#7201a8"
            ],
            [
             0.3333333333333333,
             "#9c179e"
            ],
            [
             0.4444444444444444,
             "#bd3786"
            ],
            [
             0.5555555555555556,
             "#d8576b"
            ],
            [
             0.6666666666666666,
             "#ed7953"
            ],
            [
             0.7777777777777778,
             "#fb9f3a"
            ],
            [
             0.8888888888888888,
             "#fdca26"
            ],
            [
             1,
             "#f0f921"
            ]
           ]
          },
          "colorway": [
           "#636efa",
           "#EF553B",
           "#00cc96",
           "#ab63fa",
           "#FFA15A",
           "#19d3f3",
           "#FF6692",
           "#B6E880",
           "#FF97FF",
           "#FECB52"
          ],
          "font": {
           "color": "#2a3f5f"
          },
          "geo": {
           "bgcolor": "white",
           "lakecolor": "white",
           "landcolor": "#E5ECF6",
           "showlakes": true,
           "showland": true,
           "subunitcolor": "white"
          },
          "hoverlabel": {
           "align": "left"
          },
          "hovermode": "closest",
          "mapbox": {
           "style": "light"
          },
          "paper_bgcolor": "white",
          "plot_bgcolor": "#E5ECF6",
          "polar": {
           "angularaxis": {
            "gridcolor": "white",
            "linecolor": "white",
            "ticks": ""
           },
           "bgcolor": "#E5ECF6",
           "radialaxis": {
            "gridcolor": "white",
            "linecolor": "white",
            "ticks": ""
           }
          },
          "scene": {
           "xaxis": {
            "backgroundcolor": "#E5ECF6",
            "gridcolor": "white",
            "gridwidth": 2,
            "linecolor": "white",
            "showbackground": true,
            "ticks": "",
            "zerolinecolor": "white"
           },
           "yaxis": {
            "backgroundcolor": "#E5ECF6",
            "gridcolor": "white",
            "gridwidth": 2,
            "linecolor": "white",
            "showbackground": true,
            "ticks": "",
            "zerolinecolor": "white"
           },
           "zaxis": {
            "backgroundcolor": "#E5ECF6",
            "gridcolor": "white",
            "gridwidth": 2,
            "linecolor": "white",
            "showbackground": true,
            "ticks": "",
            "zerolinecolor": "white"
           }
          },
          "shapedefaults": {
           "line": {
            "color": "#2a3f5f"
           }
          },
          "ternary": {
           "aaxis": {
            "gridcolor": "white",
            "linecolor": "white",
            "ticks": ""
           },
           "baxis": {
            "gridcolor": "white",
            "linecolor": "white",
            "ticks": ""
           },
           "bgcolor": "#E5ECF6",
           "caxis": {
            "gridcolor": "white",
            "linecolor": "white",
            "ticks": ""
           }
          },
          "title": {
           "x": 0.05
          },
          "xaxis": {
           "automargin": true,
           "gridcolor": "white",
           "linecolor": "white",
           "ticks": "",
           "title": {
            "standoff": 15
           },
           "zerolinecolor": "white",
           "zerolinewidth": 2
          },
          "yaxis": {
           "automargin": true,
           "gridcolor": "white",
           "linecolor": "white",
           "ticks": "",
           "title": {
            "standoff": 15
           },
           "zerolinecolor": "white",
           "zerolinewidth": 2
          }
         }
        },
        "title": {
         "text": "Wine Popularity by Country"
        },
        "xaxis": {
         "anchor": "y",
         "categoryorder": "total descending",
         "domain": [
          0,
          1
         ],
         "title": {
          "text": "Country"
         }
        },
        "yaxis": {
         "anchor": "x",
         "domain": [
          0,
          1
         ],
         "title": {
          "text": "Number of Ratings"
         }
        }
       }
      },
      "text/html": [
       "<div>                            <div id=\"3d920db1-bfc2-4b5b-8c6f-219f39dada48\" class=\"plotly-graph-div\" style=\"height:525px; width:100%;\"></div>            <script type=\"text/javascript\">                require([\"plotly\"], function(Plotly) {                    window.PLOTLYENV=window.PLOTLYENV || {};                                    if (document.getElementById(\"3d920db1-bfc2-4b5b-8c6f-219f39dada48\")) {                    Plotly.newPlot(                        \"3d920db1-bfc2-4b5b-8c6f-219f39dada48\",                        [{\"alignmentgroup\":\"True\",\"hovertemplate\":\"Country=%{x}\\u003cbr\\u003eNumber of Ratings=%{y}\\u003cbr\\u003eTotal Wines=%{marker.color}\\u003cextra\\u003e\\u003c\\u002fextra\\u003e\",\"legendgroup\":\"\",\"marker\":{\"color\":[383,331,94,74,28,23,22,16,14,12],\"coloraxis\":\"coloraxis\",\"pattern\":{\"shape\":\"\"}},\"name\":\"\",\"offsetgroup\":\"\",\"orientation\":\"v\",\"showlegend\":false,\"textposition\":\"auto\",\"texttemplate\":\"%{y}\",\"x\":[\"Italie\",\"France\",\"Espagne\",\"\\u00c9tats-Unis\",\"Portugal\",\"Argentine\",\"Afrique du Sud\",\"Chili\",\"Allemagne\",\"Australie\"],\"xaxis\":\"x\",\"y\":[2135839,2124809,746710,834263,62454,283673,59995,159256,8257,52138],\"yaxis\":\"y\",\"type\":\"bar\"}],                        {\"template\":{\"data\":{\"histogram2dcontour\":[{\"type\":\"histogram2dcontour\",\"colorbar\":{\"outlinewidth\":0,\"ticks\":\"\"},\"colorscale\":[[0.0,\"#0d0887\"],[0.1111111111111111,\"#46039f\"],[0.2222222222222222,\"#7201a8\"],[0.3333333333333333,\"#9c179e\"],[0.4444444444444444,\"#bd3786\"],[0.5555555555555556,\"#d8576b\"],[0.6666666666666666,\"#ed7953\"],[0.7777777777777778,\"#fb9f3a\"],[0.8888888888888888,\"#fdca26\"],[1.0,\"#f0f921\"]]}],\"choropleth\":[{\"type\":\"choropleth\",\"colorbar\":{\"outlinewidth\":0,\"ticks\":\"\"}}],\"histogram2d\":[{\"type\":\"histogram2d\",\"colorbar\":{\"outlinewidth\":0,\"ticks\":\"\"},\"colorscale\":[[0.0,\"#0d0887\"],[0.1111111111111111,\"#46039f\"],[0.2222222222222222,\"#7201a8\"],[0.3333333333333333,\"#9c179e\"],[0.4444444444444444,\"#bd3786\"],[0.5555555555555556,\"#d8576b\"],[0.6666666666666666,\"#ed7953\"],[0.7777777777777778,\"#fb9f3a\"],[0.8888888888888888,\"#fdca26\"],[1.0,\"#f0f921\"]]}],\"heatmap\":[{\"type\":\"heatmap\",\"colorbar\":{\"outlinewidth\":0,\"ticks\":\"\"},\"colorscale\":[[0.0,\"#0d0887\"],[0.1111111111111111,\"#46039f\"],[0.2222222222222222,\"#7201a8\"],[0.3333333333333333,\"#9c179e\"],[0.4444444444444444,\"#bd3786\"],[0.5555555555555556,\"#d8576b\"],[0.6666666666666666,\"#ed7953\"],[0.7777777777777778,\"#fb9f3a\"],[0.8888888888888888,\"#fdca26\"],[1.0,\"#f0f921\"]]}],\"heatmapgl\":[{\"type\":\"heatmapgl\",\"colorbar\":{\"outlinewidth\":0,\"ticks\":\"\"},\"colorscale\":[[0.0,\"#0d0887\"],[0.1111111111111111,\"#46039f\"],[0.2222222222222222,\"#7201a8\"],[0.3333333333333333,\"#9c179e\"],[0.4444444444444444,\"#bd3786\"],[0.5555555555555556,\"#d8576b\"],[0.6666666666666666,\"#ed7953\"],[0.7777777777777778,\"#fb9f3a\"],[0.8888888888888888,\"#fdca26\"],[1.0,\"#f0f921\"]]}],\"contourcarpet\":[{\"type\":\"contourcarpet\",\"colorbar\":{\"outlinewidth\":0,\"ticks\":\"\"}}],\"contour\":[{\"type\":\"contour\",\"colorbar\":{\"outlinewidth\":0,\"ticks\":\"\"},\"colorscale\":[[0.0,\"#0d0887\"],[0.1111111111111111,\"#46039f\"],[0.2222222222222222,\"#7201a8\"],[0.3333333333333333,\"#9c179e\"],[0.4444444444444444,\"#bd3786\"],[0.5555555555555556,\"#d8576b\"],[0.6666666666666666,\"#ed7953\"],[0.7777777777777778,\"#fb9f3a\"],[0.8888888888888888,\"#fdca26\"],[1.0,\"#f0f921\"]]}],\"surface\":[{\"type\":\"surface\",\"colorbar\":{\"outlinewidth\":0,\"ticks\":\"\"},\"colorscale\":[[0.0,\"#0d0887\"],[0.1111111111111111,\"#46039f\"],[0.2222222222222222,\"#7201a8\"],[0.3333333333333333,\"#9c179e\"],[0.4444444444444444,\"#bd3786\"],[0.5555555555555556,\"#d8576b\"],[0.6666666666666666,\"#ed7953\"],[0.7777777777777778,\"#fb9f3a\"],[0.8888888888888888,\"#fdca26\"],[1.0,\"#f0f921\"]]}],\"mesh3d\":[{\"type\":\"mesh3d\",\"colorbar\":{\"outlinewidth\":0,\"ticks\":\"\"}}],\"scatter\":[{\"fillpattern\":{\"fillmode\":\"overlay\",\"size\":10,\"solidity\":0.2},\"type\":\"scatter\"}],\"parcoords\":[{\"type\":\"parcoords\",\"line\":{\"colorbar\":{\"outlinewidth\":0,\"ticks\":\"\"}}}],\"scatterpolargl\":[{\"type\":\"scatterpolargl\",\"marker\":{\"colorbar\":{\"outlinewidth\":0,\"ticks\":\"\"}}}],\"bar\":[{\"error_x\":{\"color\":\"#2a3f5f\"},\"error_y\":{\"color\":\"#2a3f5f\"},\"marker\":{\"line\":{\"color\":\"#E5ECF6\",\"width\":0.5},\"pattern\":{\"fillmode\":\"overlay\",\"size\":10,\"solidity\":0.2}},\"type\":\"bar\"}],\"scattergeo\":[{\"type\":\"scattergeo\",\"marker\":{\"colorbar\":{\"outlinewidth\":0,\"ticks\":\"\"}}}],\"scatterpolar\":[{\"type\":\"scatterpolar\",\"marker\":{\"colorbar\":{\"outlinewidth\":0,\"ticks\":\"\"}}}],\"histogram\":[{\"marker\":{\"pattern\":{\"fillmode\":\"overlay\",\"size\":10,\"solidity\":0.2}},\"type\":\"histogram\"}],\"scattergl\":[{\"type\":\"scattergl\",\"marker\":{\"colorbar\":{\"outlinewidth\":0,\"ticks\":\"\"}}}],\"scatter3d\":[{\"type\":\"scatter3d\",\"line\":{\"colorbar\":{\"outlinewidth\":0,\"ticks\":\"\"}},\"marker\":{\"colorbar\":{\"outlinewidth\":0,\"ticks\":\"\"}}}],\"scattermapbox\":[{\"type\":\"scattermapbox\",\"marker\":{\"colorbar\":{\"outlinewidth\":0,\"ticks\":\"\"}}}],\"scatterternary\":[{\"type\":\"scatterternary\",\"marker\":{\"colorbar\":{\"outlinewidth\":0,\"ticks\":\"\"}}}],\"scattercarpet\":[{\"type\":\"scattercarpet\",\"marker\":{\"colorbar\":{\"outlinewidth\":0,\"ticks\":\"\"}}}],\"carpet\":[{\"aaxis\":{\"endlinecolor\":\"#2a3f5f\",\"gridcolor\":\"white\",\"linecolor\":\"white\",\"minorgridcolor\":\"white\",\"startlinecolor\":\"#2a3f5f\"},\"baxis\":{\"endlinecolor\":\"#2a3f5f\",\"gridcolor\":\"white\",\"linecolor\":\"white\",\"minorgridcolor\":\"white\",\"startlinecolor\":\"#2a3f5f\"},\"type\":\"carpet\"}],\"table\":[{\"cells\":{\"fill\":{\"color\":\"#EBF0F8\"},\"line\":{\"color\":\"white\"}},\"header\":{\"fill\":{\"color\":\"#C8D4E3\"},\"line\":{\"color\":\"white\"}},\"type\":\"table\"}],\"barpolar\":[{\"marker\":{\"line\":{\"color\":\"#E5ECF6\",\"width\":0.5},\"pattern\":{\"fillmode\":\"overlay\",\"size\":10,\"solidity\":0.2}},\"type\":\"barpolar\"}],\"pie\":[{\"automargin\":true,\"type\":\"pie\"}]},\"layout\":{\"autotypenumbers\":\"strict\",\"colorway\":[\"#636efa\",\"#EF553B\",\"#00cc96\",\"#ab63fa\",\"#FFA15A\",\"#19d3f3\",\"#FF6692\",\"#B6E880\",\"#FF97FF\",\"#FECB52\"],\"font\":{\"color\":\"#2a3f5f\"},\"hovermode\":\"closest\",\"hoverlabel\":{\"align\":\"left\"},\"paper_bgcolor\":\"white\",\"plot_bgcolor\":\"#E5ECF6\",\"polar\":{\"bgcolor\":\"#E5ECF6\",\"angularaxis\":{\"gridcolor\":\"white\",\"linecolor\":\"white\",\"ticks\":\"\"},\"radialaxis\":{\"gridcolor\":\"white\",\"linecolor\":\"white\",\"ticks\":\"\"}},\"ternary\":{\"bgcolor\":\"#E5ECF6\",\"aaxis\":{\"gridcolor\":\"white\",\"linecolor\":\"white\",\"ticks\":\"\"},\"baxis\":{\"gridcolor\":\"white\",\"linecolor\":\"white\",\"ticks\":\"\"},\"caxis\":{\"gridcolor\":\"white\",\"linecolor\":\"white\",\"ticks\":\"\"}},\"coloraxis\":{\"colorbar\":{\"outlinewidth\":0,\"ticks\":\"\"}},\"colorscale\":{\"sequential\":[[0.0,\"#0d0887\"],[0.1111111111111111,\"#46039f\"],[0.2222222222222222,\"#7201a8\"],[0.3333333333333333,\"#9c179e\"],[0.4444444444444444,\"#bd3786\"],[0.5555555555555556,\"#d8576b\"],[0.6666666666666666,\"#ed7953\"],[0.7777777777777778,\"#fb9f3a\"],[0.8888888888888888,\"#fdca26\"],[1.0,\"#f0f921\"]],\"sequentialminus\":[[0.0,\"#0d0887\"],[0.1111111111111111,\"#46039f\"],[0.2222222222222222,\"#7201a8\"],[0.3333333333333333,\"#9c179e\"],[0.4444444444444444,\"#bd3786\"],[0.5555555555555556,\"#d8576b\"],[0.6666666666666666,\"#ed7953\"],[0.7777777777777778,\"#fb9f3a\"],[0.8888888888888888,\"#fdca26\"],[1.0,\"#f0f921\"]],\"diverging\":[[0,\"#8e0152\"],[0.1,\"#c51b7d\"],[0.2,\"#de77ae\"],[0.3,\"#f1b6da\"],[0.4,\"#fde0ef\"],[0.5,\"#f7f7f7\"],[0.6,\"#e6f5d0\"],[0.7,\"#b8e186\"],[0.8,\"#7fbc41\"],[0.9,\"#4d9221\"],[1,\"#276419\"]]},\"xaxis\":{\"gridcolor\":\"white\",\"linecolor\":\"white\",\"ticks\":\"\",\"title\":{\"standoff\":15},\"zerolinecolor\":\"white\",\"automargin\":true,\"zerolinewidth\":2},\"yaxis\":{\"gridcolor\":\"white\",\"linecolor\":\"white\",\"ticks\":\"\",\"title\":{\"standoff\":15},\"zerolinecolor\":\"white\",\"automargin\":true,\"zerolinewidth\":2},\"scene\":{\"xaxis\":{\"backgroundcolor\":\"#E5ECF6\",\"gridcolor\":\"white\",\"linecolor\":\"white\",\"showbackground\":true,\"ticks\":\"\",\"zerolinecolor\":\"white\",\"gridwidth\":2},\"yaxis\":{\"backgroundcolor\":\"#E5ECF6\",\"gridcolor\":\"white\",\"linecolor\":\"white\",\"showbackground\":true,\"ticks\":\"\",\"zerolinecolor\":\"white\",\"gridwidth\":2},\"zaxis\":{\"backgroundcolor\":\"#E5ECF6\",\"gridcolor\":\"white\",\"linecolor\":\"white\",\"showbackground\":true,\"ticks\":\"\",\"zerolinecolor\":\"white\",\"gridwidth\":2}},\"shapedefaults\":{\"line\":{\"color\":\"#2a3f5f\"}},\"annotationdefaults\":{\"arrowcolor\":\"#2a3f5f\",\"arrowhead\":0,\"arrowwidth\":1},\"geo\":{\"bgcolor\":\"white\",\"landcolor\":\"#E5ECF6\",\"subunitcolor\":\"white\",\"showland\":true,\"showlakes\":true,\"lakecolor\":\"white\"},\"title\":{\"x\":0.05},\"mapbox\":{\"style\":\"light\"}}},\"xaxis\":{\"anchor\":\"y\",\"domain\":[0.0,1.0],\"title\":{\"text\":\"Country\"},\"categoryorder\":\"total descending\"},\"yaxis\":{\"anchor\":\"x\",\"domain\":[0.0,1.0],\"title\":{\"text\":\"Number of Ratings\"}},\"coloraxis\":{\"colorbar\":{\"title\":{\"text\":\"Total Wines\"}},\"colorscale\":[[0.0,\"#0d0887\"],[0.1111111111111111,\"#46039f\"],[0.2222222222222222,\"#7201a8\"],[0.3333333333333333,\"#9c179e\"],[0.4444444444444444,\"#bd3786\"],[0.5555555555555556,\"#d8576b\"],[0.6666666666666666,\"#ed7953\"],[0.7777777777777778,\"#fb9f3a\"],[0.8888888888888888,\"#fdca26\"],[1.0,\"#f0f921\"]]},\"legend\":{\"tracegroupgap\":0},\"title\":{\"text\":\"Wine Popularity by Country\"},\"barmode\":\"stack\"},                        {\"responsive\": true}                    ).then(function(){\n",
       "                            \n",
       "var gd = document.getElementById('3d920db1-bfc2-4b5b-8c6f-219f39dada48');\n",
       "var x = new MutationObserver(function (mutations, observer) {{\n",
       "        var display = window.getComputedStyle(gd).display;\n",
       "        if (!display || display === 'none') {{\n",
       "            console.log([gd, 'removed!']);\n",
       "            Plotly.purge(gd);\n",
       "            observer.disconnect();\n",
       "        }}\n",
       "}});\n",
       "\n",
       "// Listen for the removal of the full notebook cells\n",
       "var notebookContainer = gd.closest('#notebook-container');\n",
       "if (notebookContainer) {{\n",
       "    x.observe(notebookContainer, {childList: true});\n",
       "}}\n",
       "\n",
       "// Listen for the clearing of the current output cell\n",
       "var outputEl = gd.closest('.output');\n",
       "if (outputEl) {{\n",
       "    x.observe(outputEl, {childList: true});\n",
       "}}\n",
       "\n",
       "                        })                };                });            </script>        </div>"
      ]
     },
     "metadata": {},
     "output_type": "display_data"
    }
   ],
   "source": [
    "\n",
    "df_region = pd.read_csv(\"08.csv\")\n",
    "df_country = pd.read_csv(\"10.csv\")\n",
    "\n",
    "fig_region = px.bar(df_region, \n",
    "                    x='region_name', \n",
    "                    y='rating_count', \n",
    "                    color='total_wine', \n",
    "                    title='Wine Popularity by Region',\n",
    "                    labels={'rating_count': 'Number of Ratings', 'region_name': 'Region', 'total_wine': 'Total Wines'},\n",
    "                    text_auto=True)\n",
    "\n",
    "fig_region.update_layout(barmode='stack', xaxis={'categoryorder': 'total descending'})\n",
    "fig_region.show()\n",
    "\n",
    "fig_country = px.bar(df_country, \n",
    "                     x='country_name', \n",
    "                     y='rating_count', \n",
    "                     color='total_wine', \n",
    "                     title='Wine Popularity by Country',\n",
    "                     labels={'rating_count': 'Number of Ratings', 'country_name': 'Country', 'total_wine': 'Total Wines'},\n",
    "                     text_auto=True)\n",
    "\n",
    "fig_country.update_layout(barmode='stack', xaxis={'categoryorder': 'total descending'})\n",
    "fig_country.show()\n"
   ]
  }
 ],
 "metadata": {
  "kernelspec": {
   "display_name": "Python 3",
   "language": "python",
   "name": "python3"
  },
  "language_info": {
   "codemirror_mode": {
    "name": "ipython",
    "version": 3
   },
   "file_extension": ".py",
   "mimetype": "text/x-python",
   "name": "python",
   "nbconvert_exporter": "python",
   "pygments_lexer": "ipython3",
   "version": "3.10.9"
  }
 },
 "nbformat": 4,
 "nbformat_minor": 2
}
